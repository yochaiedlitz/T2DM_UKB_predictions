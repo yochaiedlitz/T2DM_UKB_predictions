{
 "cells": [
  {
   "cell_type": "code",
   "execution_count": 29,
   "metadata": {
    "collapsed": true
   },
   "outputs": [
    {
     "name": "stdout",
     "output_type": "stream",
     "text": [
      "The autoreload extension is already loaded. To reload it, use:\n",
      "  %reload_ext autoreload\n"
     ]
    }
   ],
   "source": [
    "%load_ext autoreload\n",
    "%autoreload 2\n",
    "from UKBB_article_plots_config import final_encoding_list,column_names_list\n",
    "from UKBB_article_plots_functions import *\n",
    "import os"
   ]
  },
  {
   "cell_type": "code",
   "execution_count": 30,
   "outputs": [],
   "source": [
    "ALL_PATH='/net/mraid08/export/jafar/UKBioBank/Data/ukb29741.csv'\n",
    "# ONLY_TRAIN_PATH = '/net/mraid08/export/jafar/UKBioBank/Data/ukb29741_Diabetes_returned_extended_Imputed_train'\n",
    "# ONLY_VAL_PATH='/net/mraid08/export/jafar/UKBioBank/Data/ukb29741_Diabetes_returned_extended_Imputed_test.csv'\n",
    "tables_path=\"/home/edlitzy/UKBB_Tree_Runs/For_article/Revision_runs/Tables/Statistics\"\n",
    "# returned_extended_path=\"/net/mraid08/export/jafar/UKBioBank/Data/ukb29741_Diabetes_returned_extended_train.csv\"\n",
    "# returned_extended_path=\"ukb29741_a1c_below_65_updates_scoreboard_train_val.csv\"\n",
    "# returned_extended=pd.read_csv(returned_extended_path,index_col=\"eid\")"
   ],
   "metadata": {
    "collapsed": false,
    "pycharm": {
     "name": "#%%\n"
    }
   }
  },
  {
   "cell_type": "code",
   "execution_count": 31,
   "outputs": [
    {
     "data": {
      "text/plain": "['31-0.0',\n '21003-0.0',\n '21003-3.0',\n '2443-0.0',\n '2443-3.0',\n '30750-0.0',\n '30750-3.0',\n '21001-0.0',\n '21001-3.0',\n '21002-0.0',\n '21002-3.0',\n '50-0.0',\n '50-3.0',\n '48-0.0',\n '48-3.0',\n '49-0.0',\n '49-3.0',\n '21003-4.0']"
     },
     "execution_count": 31,
     "metadata": {},
     "output_type": "execute_result"
    }
   ],
   "source": [
    "final_encoding_list"
   ],
   "metadata": {
    "collapsed": false,
    "pycharm": {
     "name": "#%%\n"
    }
   }
  },
  {
   "cell_type": "code",
   "execution_count": 32,
   "outputs": [],
   "source": [
    "if \"eid\" in final_encoding_list:\n",
    "    final_encoding_list.remove(\"eid\")\n",
    "final_encoding_list_0=[x for x in final_encoding_list if x.endswith(\"0.0\")]\n",
    "\n",
    "final_dict[\"21003-4.0\"]=\"Time between visits\""
   ],
   "metadata": {
    "collapsed": false,
    "pycharm": {
     "name": "#%%\n"
    }
   }
  },
  {
   "cell_type": "code",
   "execution_count": 33,
   "outputs": [
    {
     "data": {
      "text/plain": "['31-0.0',\n '21003-0.0',\n '2443-0.0',\n '30750-0.0',\n '21001-0.0',\n '21002-0.0',\n '50-0.0',\n '48-0.0',\n '49-0.0']"
     },
     "execution_count": 33,
     "metadata": {},
     "output_type": "execute_result"
    }
   ],
   "source": [
    "final_encoding_list_0"
   ],
   "metadata": {
    "collapsed": false,
    "pycharm": {
     "name": "#%%\n"
    }
   }
  },
  {
   "cell_type": "code",
   "execution_count": 34,
   "outputs": [],
   "source": [
    "# ## Describe all Data\n",
    "All_data_raw=pd.read_csv(ALL_PATH,usecols=list(all_data_dict.keys()),index_col=\"eid\")"
   ],
   "metadata": {
    "collapsed": false,
    "pycharm": {
     "name": "#%%\n"
    }
   }
  },
  {
   "cell_type": "code",
   "execution_count": 35,
   "outputs": [],
   "source": [
    "All_data=All_data_raw.copy()"
   ],
   "metadata": {
    "collapsed": false,
    "pycharm": {
     "name": "#%%\n"
    }
   }
  },
  {
   "cell_type": "code",
   "execution_count": 36,
   "outputs": [],
   "source": [
    "#convert_hba1c_mmol_mol_2_percentage\n",
    "All_data.loc[:,[\"30750-0.0\",\"30750-1.0\"]]=All_data.loc[:,[\"30750-0.0\",\"30750-1.0\"]].apply(\n",
    "    lambda x:0.0915 * x + 2.15)"
   ],
   "metadata": {
    "collapsed": false,
    "pycharm": {
     "name": "#%%\n"
    }
   }
  },
  {
   "cell_type": "code",
   "execution_count": 37,
   "outputs": [],
   "source": [
    "df_all_describe=All_data[final_encoding_list_0].describe()\n",
    "df_all_describe.rename(final_dict,inplace=True,axis=1)"
   ],
   "metadata": {
    "collapsed": false,
    "pycharm": {
     "name": "#%%\n"
    }
   }
  },
  {
   "cell_type": "code",
   "execution_count": 38,
   "outputs": [
    {
     "data": {
      "text/plain": "                 Sex  Age at first visit  % Diabetic at first visit  \\\ncount  502536.000000       502536.000000              501605.000000   \nmean        0.455955           56.528472                   0.047665   \nstd         0.498057            8.095288                   0.245287   \nmin         0.000000           37.000000                  -3.000000   \n25%         0.000000           50.000000                   0.000000   \n50%         0.000000           58.000000                   0.000000   \n75%         1.000000           63.000000                   0.000000   \nmax         1.000000           73.000000                   1.000000   \n\n       %Hba1c at first visit  BMI at first visit  Weight at first visit  \\\ncount          466530.000000       499431.000000          499762.000000   \nmean                5.456002           27.432606              78.054523   \nstd                 0.619987            4.803103              15.945823   \nmin                 3.522500           12.121200              30.000000   \n25%                 5.151200           24.138900              66.500000   \n50%                 5.370800           26.743300              76.400000   \n75%                 5.617850           29.908400              87.500000   \nmax                49.290800           74.683700             197.700000   \n\n       Height at first visit  Waist circumfurance at first visit  \\\ncount          499997.000000                       500376.000000   \nmean              168.443545                           90.310819   \nstd                 9.279066                           13.485877   \nmin                75.000000                           20.000000   \n25%               161.800000                           80.000000   \n50%               168.000000                           90.000000   \n75%               175.000000                           99.000000   \nmax               209.000000                          197.000000   \n\n       Hips circumferance at first visit  \ncount                      500317.000000  \nmean                          103.401584  \nstd                             9.249536  \nmin                            30.000000  \n25%                            97.000000  \n50%                           102.000000  \n75%                           108.000000  \nmax                           195.000000  ",
      "text/html": "<div>\n<style scoped>\n    .dataframe tbody tr th:only-of-type {\n        vertical-align: middle;\n    }\n\n    .dataframe tbody tr th {\n        vertical-align: top;\n    }\n\n    .dataframe thead th {\n        text-align: right;\n    }\n</style>\n<table border=\"1\" class=\"dataframe\">\n  <thead>\n    <tr style=\"text-align: right;\">\n      <th></th>\n      <th>Sex</th>\n      <th>Age at first visit</th>\n      <th>% Diabetic at first visit</th>\n      <th>%Hba1c at first visit</th>\n      <th>BMI at first visit</th>\n      <th>Weight at first visit</th>\n      <th>Height at first visit</th>\n      <th>Waist circumfurance at first visit</th>\n      <th>Hips circumferance at first visit</th>\n    </tr>\n  </thead>\n  <tbody>\n    <tr>\n      <th>count</th>\n      <td>502536.000000</td>\n      <td>502536.000000</td>\n      <td>501605.000000</td>\n      <td>466530.000000</td>\n      <td>499431.000000</td>\n      <td>499762.000000</td>\n      <td>499997.000000</td>\n      <td>500376.000000</td>\n      <td>500317.000000</td>\n    </tr>\n    <tr>\n      <th>mean</th>\n      <td>0.455955</td>\n      <td>56.528472</td>\n      <td>0.047665</td>\n      <td>5.456002</td>\n      <td>27.432606</td>\n      <td>78.054523</td>\n      <td>168.443545</td>\n      <td>90.310819</td>\n      <td>103.401584</td>\n    </tr>\n    <tr>\n      <th>std</th>\n      <td>0.498057</td>\n      <td>8.095288</td>\n      <td>0.245287</td>\n      <td>0.619987</td>\n      <td>4.803103</td>\n      <td>15.945823</td>\n      <td>9.279066</td>\n      <td>13.485877</td>\n      <td>9.249536</td>\n    </tr>\n    <tr>\n      <th>min</th>\n      <td>0.000000</td>\n      <td>37.000000</td>\n      <td>-3.000000</td>\n      <td>3.522500</td>\n      <td>12.121200</td>\n      <td>30.000000</td>\n      <td>75.000000</td>\n      <td>20.000000</td>\n      <td>30.000000</td>\n    </tr>\n    <tr>\n      <th>25%</th>\n      <td>0.000000</td>\n      <td>50.000000</td>\n      <td>0.000000</td>\n      <td>5.151200</td>\n      <td>24.138900</td>\n      <td>66.500000</td>\n      <td>161.800000</td>\n      <td>80.000000</td>\n      <td>97.000000</td>\n    </tr>\n    <tr>\n      <th>50%</th>\n      <td>0.000000</td>\n      <td>58.000000</td>\n      <td>0.000000</td>\n      <td>5.370800</td>\n      <td>26.743300</td>\n      <td>76.400000</td>\n      <td>168.000000</td>\n      <td>90.000000</td>\n      <td>102.000000</td>\n    </tr>\n    <tr>\n      <th>75%</th>\n      <td>1.000000</td>\n      <td>63.000000</td>\n      <td>0.000000</td>\n      <td>5.617850</td>\n      <td>29.908400</td>\n      <td>87.500000</td>\n      <td>175.000000</td>\n      <td>99.000000</td>\n      <td>108.000000</td>\n    </tr>\n    <tr>\n      <th>max</th>\n      <td>1.000000</td>\n      <td>73.000000</td>\n      <td>1.000000</td>\n      <td>49.290800</td>\n      <td>74.683700</td>\n      <td>197.700000</td>\n      <td>209.000000</td>\n      <td>197.000000</td>\n      <td>195.000000</td>\n    </tr>\n  </tbody>\n</table>\n</div>"
     },
     "execution_count": 38,
     "metadata": {},
     "output_type": "execute_result"
    }
   ],
   "source": [
    "df_all_describe"
   ],
   "metadata": {
    "collapsed": false,
    "pycharm": {
     "name": "#%%\n"
    }
   }
  },
  {
   "cell_type": "code",
   "execution_count": 39,
   "outputs": [
    {
     "data": {
      "text/plain": "'/home/edlitzy/UKBB_Tree_Runs/For_article/Revision_runs/Tables/Statistics'"
     },
     "execution_count": 39,
     "metadata": {},
     "output_type": "execute_result"
    }
   ],
   "source": [
    "tables_path"
   ],
   "metadata": {
    "collapsed": false,
    "pycharm": {
     "name": "#%%\n"
    }
   }
  },
  {
   "cell_type": "code",
   "execution_count": 40,
   "outputs": [],
   "source": [
    "df_all_describe.to_csv(os.path.join(tables_path,\"All_data_Stats.csv\"),index=True)"
   ],
   "metadata": {
    "collapsed": false,
    "pycharm": {
     "name": "#%%\n"
    }
   }
  },
  {
   "cell_type": "code",
   "execution_count": 41,
   "outputs": [],
   "source": [
    "descreption_names_dict={}\n",
    "descreption_names_dict[\"All\"]=df_all_describe.copy()"
   ],
   "metadata": {
    "collapsed": false,
    "pycharm": {
     "name": "#%%\n"
    }
   }
  },
  {
   "cell_type": "code",
   "execution_count": 42,
   "outputs": [],
   "source": [
    "# TRAIN_Val_PATH = '/net/mraid08/export/jafar/UKBioBank/Data/ukb29741_Diabetes_returned_extended_Imputed_train_test.csv'\n",
    "# TRAIN_PATH = '/net/mraid08/export/jafar/UKBioBank/Data/ukb29741_Diabetes_returned_extended_Imputed_train.csv'\n",
    "# VAL_PATH='/net/mraid08/export/jafar/UKBioBank/Data/ukb29741_Diabetes_returned_extended_Imputed_test.csv'\n",
    "# TEST_PATH = '/net/mraid08/export/jafar/UKBioBank/Data/ukb29741_Diabetes_returned_extended_Imputed_val.csv'\n",
    "base_path=\"/net/mraid08/export/jafar/UKBioBank/Data/\"\n",
    "TRAIN_Val_PATH =os.path.join(base_path,\"ukb29741_a1c_below_65_updates_scoreboard_train_val.csv\")\n",
    "TRAIN_PATH = os.path.join(base_path,\"ukb29741_a1c_below_65_updates_scoreboard_train.csv\")\n",
    "VAL_PATH=os.path.join(base_path,\"ukb29741_a1c_below_65_updates_scoreboard_val.csv\")\n",
    "TEST_PATH =os.path.join(base_path,\"ukb29741_a1c_below_65_updates_scoreboard_test.csv\")"
   ],
   "metadata": {
    "collapsed": false,
    "pycharm": {
     "name": "#%%\n"
    }
   }
  },
  {
   "cell_type": "code",
   "execution_count": 43,
   "outputs": [],
   "source": [
    "final_encoding_list\n",
    "test_index=pd.read_csv(TEST_PATH,usecols=[\"eid\"],index_col=\"eid\").index\n",
    "test_data=All_data.loc[test_index]\n",
    "test_data=extract_latest_values(test_data,encodings_list=encodings_list)\n",
    "test_data_index=test_data.loc[:,\"2443-3.0\"].dropna().index\n",
    "test_data_clean=test_data.loc[test_data_index,:]\n",
    "test_data_clean\n",
    "test_data_clean[\"21003-4.0\"]=test_data_clean[\"21003-3.0\"]-test_data_clean[\"21003-0.0\"]\n",
    "test_data_final=test_data_clean.loc[:,final_encoding_list]"
   ],
   "metadata": {
    "collapsed": false,
    "pycharm": {
     "name": "#%%\n"
    }
   }
  },
  {
   "cell_type": "code",
   "execution_count": 44,
   "outputs": [
    {
     "data": {
      "text/plain": "               Sex  Age at first visit  Age at last visit  \\\ncount  8960.000000         8960.000000        8960.000000   \nmean      0.479018           55.541741          62.859040   \nstd       0.499587            7.492217           7.433847   \nmin       0.000000           40.000000          44.000000   \n25%       0.000000           50.000000          57.000000   \n50%       0.000000           56.000000          64.000000   \n75%       1.000000           61.000000          69.000000   \nmax       1.000000           70.000000          80.000000   \n\n       % Diabetic at first visit  % Diabetic at last visit  \\\ncount                     8960.0               8960.000000   \nmean                         0.0                  0.017634   \nstd                          0.0                  0.131624   \nmin                          0.0                  0.000000   \n25%                          0.0                  0.000000   \n50%                          0.0                  0.000000   \n75%                          0.0                  0.000000   \nmax                          0.0                  1.000000   \n\n       %Hba1c at first visit  %Hba1c at last return  BMI at first visit  \\\ncount            8471.000000            2558.000000         8938.000000   \nmean                5.318509               5.405143           26.504227   \nstd                 0.326021               0.341122            4.126284   \nmin                 3.549950               3.906800           15.737200   \n25%                 5.105450               5.187800           23.583000   \n50%                 5.315900               5.389100           25.956750   \n75%                 5.526350               5.599550           28.834325   \nmax                 6.477950               7.951100           53.331600   \n\n       BMI at last visit  Weight at first visit  Weight at last visit  \\\ncount        8723.000000            8938.000000           8789.000000   \nmean           26.534832              76.420116             75.979952   \nstd             4.334164              14.602232             14.916531   \nmin            13.388000              39.300000             33.000000   \n25%            23.552000              65.600000             65.100000   \n50%            25.943700              75.100000             74.700000   \n75%            28.875600              85.800000             85.300000   \nmax            55.097000             165.200000            177.700000   \n\n       Height at first visit  Height at last visit  \\\ncount            8949.000000           8795.000000   \nmean              169.509051            168.982513   \nstd                 9.141324              9.186742   \nmin               143.000000            141.000000   \n25%               163.000000            162.000000   \n50%               169.000000            169.000000   \n75%               176.000000            176.000000   \nmax               201.000000            201.000000   \n\n       Waist circumfurance at first visit  Waist circumfurance at last visit  \\\ncount                         8949.000000                        8803.000000   \nmean                            87.720248                          88.541041   \nstd                             12.422837                          12.479055   \nmin                             55.000000                          53.000000   \n25%                             78.000000                          79.000000   \n50%                             87.000000                          88.000000   \n75%                             96.000000                          97.000000   \nmax                            155.000000                         144.000000   \n\n       Hips circumferance at first visit  Hips circumferance at last visit  \\\ncount                        8950.000000                       8802.000000   \nmean                          101.920514                        101.395421   \nstd                             8.045664                          8.719202   \nmin                            74.000000                         68.000000   \n25%                            97.000000                         96.000000   \n50%                           101.000000                        100.250000   \n75%                           106.000000                        106.000000   \nmax                           164.000000                        154.000000   \n\n       Time between visits  \ncount          8960.000000  \nmean              7.317299  \nstd               2.337065  \nmin               2.000000  \n25%               5.000000  \n50%               8.000000  \n75%               9.000000  \nmax              12.000000  ",
      "text/html": "<div>\n<style scoped>\n    .dataframe tbody tr th:only-of-type {\n        vertical-align: middle;\n    }\n\n    .dataframe tbody tr th {\n        vertical-align: top;\n    }\n\n    .dataframe thead th {\n        text-align: right;\n    }\n</style>\n<table border=\"1\" class=\"dataframe\">\n  <thead>\n    <tr style=\"text-align: right;\">\n      <th></th>\n      <th>Sex</th>\n      <th>Age at first visit</th>\n      <th>Age at last visit</th>\n      <th>% Diabetic at first visit</th>\n      <th>% Diabetic at last visit</th>\n      <th>%Hba1c at first visit</th>\n      <th>%Hba1c at last return</th>\n      <th>BMI at first visit</th>\n      <th>BMI at last visit</th>\n      <th>Weight at first visit</th>\n      <th>Weight at last visit</th>\n      <th>Height at first visit</th>\n      <th>Height at last visit</th>\n      <th>Waist circumfurance at first visit</th>\n      <th>Waist circumfurance at last visit</th>\n      <th>Hips circumferance at first visit</th>\n      <th>Hips circumferance at last visit</th>\n      <th>Time between visits</th>\n    </tr>\n  </thead>\n  <tbody>\n    <tr>\n      <th>count</th>\n      <td>8960.000000</td>\n      <td>8960.000000</td>\n      <td>8960.000000</td>\n      <td>8960.0</td>\n      <td>8960.000000</td>\n      <td>8471.000000</td>\n      <td>2558.000000</td>\n      <td>8938.000000</td>\n      <td>8723.000000</td>\n      <td>8938.000000</td>\n      <td>8789.000000</td>\n      <td>8949.000000</td>\n      <td>8795.000000</td>\n      <td>8949.000000</td>\n      <td>8803.000000</td>\n      <td>8950.000000</td>\n      <td>8802.000000</td>\n      <td>8960.000000</td>\n    </tr>\n    <tr>\n      <th>mean</th>\n      <td>0.479018</td>\n      <td>55.541741</td>\n      <td>62.859040</td>\n      <td>0.0</td>\n      <td>0.017634</td>\n      <td>5.318509</td>\n      <td>5.405143</td>\n      <td>26.504227</td>\n      <td>26.534832</td>\n      <td>76.420116</td>\n      <td>75.979952</td>\n      <td>169.509051</td>\n      <td>168.982513</td>\n      <td>87.720248</td>\n      <td>88.541041</td>\n      <td>101.920514</td>\n      <td>101.395421</td>\n      <td>7.317299</td>\n    </tr>\n    <tr>\n      <th>std</th>\n      <td>0.499587</td>\n      <td>7.492217</td>\n      <td>7.433847</td>\n      <td>0.0</td>\n      <td>0.131624</td>\n      <td>0.326021</td>\n      <td>0.341122</td>\n      <td>4.126284</td>\n      <td>4.334164</td>\n      <td>14.602232</td>\n      <td>14.916531</td>\n      <td>9.141324</td>\n      <td>9.186742</td>\n      <td>12.422837</td>\n      <td>12.479055</td>\n      <td>8.045664</td>\n      <td>8.719202</td>\n      <td>2.337065</td>\n    </tr>\n    <tr>\n      <th>min</th>\n      <td>0.000000</td>\n      <td>40.000000</td>\n      <td>44.000000</td>\n      <td>0.0</td>\n      <td>0.000000</td>\n      <td>3.549950</td>\n      <td>3.906800</td>\n      <td>15.737200</td>\n      <td>13.388000</td>\n      <td>39.300000</td>\n      <td>33.000000</td>\n      <td>143.000000</td>\n      <td>141.000000</td>\n      <td>55.000000</td>\n      <td>53.000000</td>\n      <td>74.000000</td>\n      <td>68.000000</td>\n      <td>2.000000</td>\n    </tr>\n    <tr>\n      <th>25%</th>\n      <td>0.000000</td>\n      <td>50.000000</td>\n      <td>57.000000</td>\n      <td>0.0</td>\n      <td>0.000000</td>\n      <td>5.105450</td>\n      <td>5.187800</td>\n      <td>23.583000</td>\n      <td>23.552000</td>\n      <td>65.600000</td>\n      <td>65.100000</td>\n      <td>163.000000</td>\n      <td>162.000000</td>\n      <td>78.000000</td>\n      <td>79.000000</td>\n      <td>97.000000</td>\n      <td>96.000000</td>\n      <td>5.000000</td>\n    </tr>\n    <tr>\n      <th>50%</th>\n      <td>0.000000</td>\n      <td>56.000000</td>\n      <td>64.000000</td>\n      <td>0.0</td>\n      <td>0.000000</td>\n      <td>5.315900</td>\n      <td>5.389100</td>\n      <td>25.956750</td>\n      <td>25.943700</td>\n      <td>75.100000</td>\n      <td>74.700000</td>\n      <td>169.000000</td>\n      <td>169.000000</td>\n      <td>87.000000</td>\n      <td>88.000000</td>\n      <td>101.000000</td>\n      <td>100.250000</td>\n      <td>8.000000</td>\n    </tr>\n    <tr>\n      <th>75%</th>\n      <td>1.000000</td>\n      <td>61.000000</td>\n      <td>69.000000</td>\n      <td>0.0</td>\n      <td>0.000000</td>\n      <td>5.526350</td>\n      <td>5.599550</td>\n      <td>28.834325</td>\n      <td>28.875600</td>\n      <td>85.800000</td>\n      <td>85.300000</td>\n      <td>176.000000</td>\n      <td>176.000000</td>\n      <td>96.000000</td>\n      <td>97.000000</td>\n      <td>106.000000</td>\n      <td>106.000000</td>\n      <td>9.000000</td>\n    </tr>\n    <tr>\n      <th>max</th>\n      <td>1.000000</td>\n      <td>70.000000</td>\n      <td>80.000000</td>\n      <td>0.0</td>\n      <td>1.000000</td>\n      <td>6.477950</td>\n      <td>7.951100</td>\n      <td>53.331600</td>\n      <td>55.097000</td>\n      <td>165.200000</td>\n      <td>177.700000</td>\n      <td>201.000000</td>\n      <td>201.000000</td>\n      <td>155.000000</td>\n      <td>144.000000</td>\n      <td>164.000000</td>\n      <td>154.000000</td>\n      <td>12.000000</td>\n    </tr>\n  </tbody>\n</table>\n</div>"
     },
     "execution_count": 44,
     "metadata": {},
     "output_type": "execute_result"
    }
   ],
   "source": [
    "# test_data_final.loc[:,[\"30750-0.0\",\"30750-3.0\"]]=test_data_final.loc[:,[\"30750-0.0\",\"30750-3.0\"]].apply(convert_hba1c_mmol_mol_2_percentage,axis=1)\n",
    "test_data_final.rename(final_dict,inplace=True,axis=1)\n",
    "df_test_describe=test_data_final.describe()\n",
    "descreption_names_dict[\"test\"]=df_test_describe.copy()\n",
    "df_test_describe.to_csv(os.path.join(tables_path,\"Test_data_Stats.csv\"),index=True)\n",
    "df_test_describe"
   ],
   "metadata": {
    "collapsed": false,
    "pycharm": {
     "name": "#%%\n"
    }
   }
  },
  {
   "cell_type": "code",
   "execution_count": 45,
   "outputs": [
    {
     "data": {
      "text/plain": "                Sex  Age at first visit  Age at last visit  \\\ncount  35749.000000        35749.000000       35749.000000   \nmean       0.477860           55.610786          62.903690   \nstd        0.499517            7.565633           7.521216   \nmin        0.000000           40.000000          43.000000   \n25%        0.000000           50.000000          57.000000   \n50%        0.000000           56.000000          64.000000   \n75%        1.000000           62.000000          69.000000   \nmax        1.000000           73.000000          80.000000   \n\n       % Diabetic at first visit  % Diabetic at last visit  \\\ncount                    35749.0              35749.000000   \nmean                         0.0                  0.017959   \nstd                          0.0                  0.132803   \nmin                          0.0                  0.000000   \n25%                          0.0                  0.000000   \n50%                          0.0                  0.000000   \n75%                          0.0                  0.000000   \nmax                          0.0                  1.000000   \n\n       %Hba1c at first visit  %Hba1c at last return  BMI at first visit  \\\ncount           33807.000000           10255.000000        35699.000000   \nmean                5.314832               5.417087           26.617591   \nstd                 0.326849               0.359264            4.233104   \nmin                 3.577400               3.540800           14.283200   \n25%                 5.105450               5.196950           23.695800   \n50%                 5.315900               5.389100           26.056200   \n75%                 5.526350               5.617850           28.844700   \nmax                 6.487100              11.492150           63.579600   \n\n       BMI at last visit  Weight at first visit  Weight at last visit  \\\ncount       34884.000000           35707.000000          35179.000000   \nmean           26.633672              76.704691             76.262199   \nstd             4.452820              14.773492             15.214805   \nmin            14.201200              33.000000             34.300000   \n25%            23.594600              65.800000             65.300000   \n50%            26.012050              75.300000             74.800000   \n75%            28.901125              85.700000             85.300000   \nmax            69.630000             176.300000            185.000000   \n\n       Height at first visit  Height at last visit  \\\ncount           35715.000000          35199.000000   \nmean              169.485264            168.957726   \nstd                 9.173241              9.231244   \nmin               137.300000            136.000000   \n25%               163.000000            162.000000   \n50%               169.000000            169.000000   \n75%               176.000000            176.000000   \nmax               202.000000            203.000000   \n\n       Waist circumfurance at first visit  Waist circumfurance at last visit  \\\ncount                        35722.000000                       35234.000000   \nmean                            88.005322                          88.774349   \nstd                             12.492028                          12.753236   \nmin                             55.000000                          55.000000   \n25%                             79.000000                          80.000000   \n50%                             88.000000                          88.000000   \n75%                             96.000000                          97.000000   \nmax                            162.000000                         184.000000   \n\n       Hips circumferance at first visit  Hips circumferance at last visit  \\\ncount                       35724.000000                      35232.000000   \nmean                          102.167767                        101.633972   \nstd                             8.223811                          8.881511   \nmin                            68.000000                         71.000000   \n25%                            97.000000                         96.000000   \n50%                           101.000000                        101.000000   \n75%                           106.000000                        106.000000   \nmax                           168.000000                        166.000000   \n\n       Time between visits  \ncount         35749.000000  \nmean              7.292903  \nstd               2.320844  \nmin               2.000000  \n25%               5.000000  \n50%               8.000000  \n75%               9.000000  \nmax              12.000000  ",
      "text/html": "<div>\n<style scoped>\n    .dataframe tbody tr th:only-of-type {\n        vertical-align: middle;\n    }\n\n    .dataframe tbody tr th {\n        vertical-align: top;\n    }\n\n    .dataframe thead th {\n        text-align: right;\n    }\n</style>\n<table border=\"1\" class=\"dataframe\">\n  <thead>\n    <tr style=\"text-align: right;\">\n      <th></th>\n      <th>Sex</th>\n      <th>Age at first visit</th>\n      <th>Age at last visit</th>\n      <th>% Diabetic at first visit</th>\n      <th>% Diabetic at last visit</th>\n      <th>%Hba1c at first visit</th>\n      <th>%Hba1c at last return</th>\n      <th>BMI at first visit</th>\n      <th>BMI at last visit</th>\n      <th>Weight at first visit</th>\n      <th>Weight at last visit</th>\n      <th>Height at first visit</th>\n      <th>Height at last visit</th>\n      <th>Waist circumfurance at first visit</th>\n      <th>Waist circumfurance at last visit</th>\n      <th>Hips circumferance at first visit</th>\n      <th>Hips circumferance at last visit</th>\n      <th>Time between visits</th>\n    </tr>\n  </thead>\n  <tbody>\n    <tr>\n      <th>count</th>\n      <td>35749.000000</td>\n      <td>35749.000000</td>\n      <td>35749.000000</td>\n      <td>35749.0</td>\n      <td>35749.000000</td>\n      <td>33807.000000</td>\n      <td>10255.000000</td>\n      <td>35699.000000</td>\n      <td>34884.000000</td>\n      <td>35707.000000</td>\n      <td>35179.000000</td>\n      <td>35715.000000</td>\n      <td>35199.000000</td>\n      <td>35722.000000</td>\n      <td>35234.000000</td>\n      <td>35724.000000</td>\n      <td>35232.000000</td>\n      <td>35749.000000</td>\n    </tr>\n    <tr>\n      <th>mean</th>\n      <td>0.477860</td>\n      <td>55.610786</td>\n      <td>62.903690</td>\n      <td>0.0</td>\n      <td>0.017959</td>\n      <td>5.314832</td>\n      <td>5.417087</td>\n      <td>26.617591</td>\n      <td>26.633672</td>\n      <td>76.704691</td>\n      <td>76.262199</td>\n      <td>169.485264</td>\n      <td>168.957726</td>\n      <td>88.005322</td>\n      <td>88.774349</td>\n      <td>102.167767</td>\n      <td>101.633972</td>\n      <td>7.292903</td>\n    </tr>\n    <tr>\n      <th>std</th>\n      <td>0.499517</td>\n      <td>7.565633</td>\n      <td>7.521216</td>\n      <td>0.0</td>\n      <td>0.132803</td>\n      <td>0.326849</td>\n      <td>0.359264</td>\n      <td>4.233104</td>\n      <td>4.452820</td>\n      <td>14.773492</td>\n      <td>15.214805</td>\n      <td>9.173241</td>\n      <td>9.231244</td>\n      <td>12.492028</td>\n      <td>12.753236</td>\n      <td>8.223811</td>\n      <td>8.881511</td>\n      <td>2.320844</td>\n    </tr>\n    <tr>\n      <th>min</th>\n      <td>0.000000</td>\n      <td>40.000000</td>\n      <td>43.000000</td>\n      <td>0.0</td>\n      <td>0.000000</td>\n      <td>3.577400</td>\n      <td>3.540800</td>\n      <td>14.283200</td>\n      <td>14.201200</td>\n      <td>33.000000</td>\n      <td>34.300000</td>\n      <td>137.300000</td>\n      <td>136.000000</td>\n      <td>55.000000</td>\n      <td>55.000000</td>\n      <td>68.000000</td>\n      <td>71.000000</td>\n      <td>2.000000</td>\n    </tr>\n    <tr>\n      <th>25%</th>\n      <td>0.000000</td>\n      <td>50.000000</td>\n      <td>57.000000</td>\n      <td>0.0</td>\n      <td>0.000000</td>\n      <td>5.105450</td>\n      <td>5.196950</td>\n      <td>23.695800</td>\n      <td>23.594600</td>\n      <td>65.800000</td>\n      <td>65.300000</td>\n      <td>163.000000</td>\n      <td>162.000000</td>\n      <td>79.000000</td>\n      <td>80.000000</td>\n      <td>97.000000</td>\n      <td>96.000000</td>\n      <td>5.000000</td>\n    </tr>\n    <tr>\n      <th>50%</th>\n      <td>0.000000</td>\n      <td>56.000000</td>\n      <td>64.000000</td>\n      <td>0.0</td>\n      <td>0.000000</td>\n      <td>5.315900</td>\n      <td>5.389100</td>\n      <td>26.056200</td>\n      <td>26.012050</td>\n      <td>75.300000</td>\n      <td>74.800000</td>\n      <td>169.000000</td>\n      <td>169.000000</td>\n      <td>88.000000</td>\n      <td>88.000000</td>\n      <td>101.000000</td>\n      <td>101.000000</td>\n      <td>8.000000</td>\n    </tr>\n    <tr>\n      <th>75%</th>\n      <td>1.000000</td>\n      <td>62.000000</td>\n      <td>69.000000</td>\n      <td>0.0</td>\n      <td>0.000000</td>\n      <td>5.526350</td>\n      <td>5.617850</td>\n      <td>28.844700</td>\n      <td>28.901125</td>\n      <td>85.700000</td>\n      <td>85.300000</td>\n      <td>176.000000</td>\n      <td>176.000000</td>\n      <td>96.000000</td>\n      <td>97.000000</td>\n      <td>106.000000</td>\n      <td>106.000000</td>\n      <td>9.000000</td>\n    </tr>\n    <tr>\n      <th>max</th>\n      <td>1.000000</td>\n      <td>73.000000</td>\n      <td>80.000000</td>\n      <td>0.0</td>\n      <td>1.000000</td>\n      <td>6.487100</td>\n      <td>11.492150</td>\n      <td>63.579600</td>\n      <td>69.630000</td>\n      <td>176.300000</td>\n      <td>185.000000</td>\n      <td>202.000000</td>\n      <td>203.000000</td>\n      <td>162.000000</td>\n      <td>184.000000</td>\n      <td>168.000000</td>\n      <td>166.000000</td>\n      <td>12.000000</td>\n    </tr>\n  </tbody>\n</table>\n</div>"
     },
     "execution_count": 45,
     "metadata": {},
     "output_type": "execute_result"
    }
   ],
   "source": [
    "TRAIN_Val_index=pd.read_csv(TRAIN_Val_PATH,usecols=[\"eid\"],index_col=\"eid\")\n",
    "TRAIN_Val_data=All_data.loc[TRAIN_Val_index.index]\n",
    "TRAIN_Val_data=extract_latest_values(TRAIN_Val_data,encodings_list=encodings_list)\n",
    "TRAIN_Val_data_index=TRAIN_Val_data.loc[:,\"2443-3.0\"].dropna().index\n",
    "TRAIN_Val_data_clean=TRAIN_Val_data.loc[TRAIN_Val_data_index,:]\n",
    "TRAIN_Val_data_clean[\"21003-4.0\"]=TRAIN_Val_data_clean[\"21003-3.0\"]-TRAIN_Val_data_clean[\"21003-0.0\"]\n",
    "TRAIN_Val_data_final=TRAIN_Val_data_clean.loc[:,final_encoding_list]\n",
    "TRAIN_Val_data_final.rename(final_dict,inplace=True,axis=1)\n",
    "df_TRAIN_Val_describe=TRAIN_Val_data_final.describe()\n",
    "df_TRAIN_Val_describe.to_csv(os.path.join(tables_path,\"TRAIN_Val_data_Stats.csv\"),index=True)\n",
    "df_TRAIN_Val_describe"
   ],
   "metadata": {
    "collapsed": false,
    "pycharm": {
     "name": "#%%\n"
    }
   }
  },
  {
   "cell_type": "code",
   "execution_count": 45,
   "outputs": [],
   "source": [],
   "metadata": {
    "collapsed": false,
    "pycharm": {
     "name": "#%%\n"
    }
   }
  },
  {
   "cell_type": "code",
   "execution_count": 46,
   "outputs": [
    {
     "data": {
      "text/plain": "                Sex  Age at first visit  Age at last visit  \\\ncount  25025.000000        25025.000000       25025.000000   \nmean       0.479001           55.617662          62.907612   \nstd        0.499569            7.564328           7.523547   \nmin        0.000000           40.000000          43.000000   \n25%        0.000000           50.000000          57.000000   \n50%        0.000000           56.000000          64.000000   \n75%        1.000000           62.000000          69.000000   \nmax        1.000000           73.000000          80.000000   \n\n       % Diabetic at first visit  % Diabetic at last visit  \\\ncount                    25025.0              25025.000000   \nmean                         0.0                  0.017463   \nstd                          0.0                  0.130990   \nmin                          0.0                  0.000000   \n25%                          0.0                  0.000000   \n50%                          0.0                  0.000000   \n75%                          0.0                  0.000000   \nmax                          0.0                  1.000000   \n\n       %Hba1c at first visit  %Hba1c at last return  BMI at first visit  \\\ncount           23656.000000            7202.000000        24992.000000   \nmean                5.314706               5.416466           26.588497   \nstd                 0.326912               0.356769            4.205781   \nmin                 3.614000               3.540800           14.283200   \n25%                 5.105450               5.196950           23.684100   \n50%                 5.315900               5.389100           26.039550   \n75%                 5.526350               5.617850           28.828800   \nmax                 6.477950              11.492150           55.281600   \n\n       BMI at last visit  Weight at first visit  Weight at last visit  \\\ncount       24403.000000           25000.000000          24606.000000   \nmean           26.590854              76.652228             76.167569   \nstd             4.430705              14.705300             15.165484   \nmin            14.201200              33.000000             35.000000   \n25%            23.563650              65.800000             65.300000   \n50%            25.969800              75.400000             74.800000   \n75%            28.863600              85.600000             85.100000   \nmax            69.630000             169.800000            185.000000   \n\n       Height at first visit  Height at last visit  \\\ncount           25001.000000          24624.000000   \nmean              169.520815            168.988674   \nstd                 9.197318              9.258912   \nmin               137.300000            136.000000   \n25%               163.000000            162.000000   \n50%               169.000000            169.000000   \n75%               176.000000            176.000000   \nmax               202.000000            201.000000   \n\n       Waist circumfurance at first visit  Waist circumfurance at last visit  \\\ncount                        25008.000000                       24648.000000   \nmean                            87.937236                          88.657749   \nstd                             12.417483                          12.678647   \nmin                             55.000000                          55.000000   \n25%                             79.000000                          80.000000   \n50%                             88.000000                          88.000000   \n75%                             96.000000                          97.000000   \nmax                            155.000000                         158.000000   \n\n       Hips circumferance at first visit  Hips circumferance at last visit  \\\ncount                       25009.000000                      24647.000000   \nmean                          102.130597                        101.562872   \nstd                             8.181857                          8.836031   \nmin                            68.000000                         72.000000   \n25%                            97.000000                         96.000000   \n50%                           101.000000                        101.000000   \n75%                           106.000000                        106.000000   \nmax                           164.000000                        166.000000   \n\n       Time between visits  \ncount         25025.000000  \nmean              7.289950  \nstd               2.325359  \nmin               2.000000  \n25%               5.000000  \n50%               8.000000  \n75%               9.000000  \nmax              12.000000  ",
      "text/html": "<div>\n<style scoped>\n    .dataframe tbody tr th:only-of-type {\n        vertical-align: middle;\n    }\n\n    .dataframe tbody tr th {\n        vertical-align: top;\n    }\n\n    .dataframe thead th {\n        text-align: right;\n    }\n</style>\n<table border=\"1\" class=\"dataframe\">\n  <thead>\n    <tr style=\"text-align: right;\">\n      <th></th>\n      <th>Sex</th>\n      <th>Age at first visit</th>\n      <th>Age at last visit</th>\n      <th>% Diabetic at first visit</th>\n      <th>% Diabetic at last visit</th>\n      <th>%Hba1c at first visit</th>\n      <th>%Hba1c at last return</th>\n      <th>BMI at first visit</th>\n      <th>BMI at last visit</th>\n      <th>Weight at first visit</th>\n      <th>Weight at last visit</th>\n      <th>Height at first visit</th>\n      <th>Height at last visit</th>\n      <th>Waist circumfurance at first visit</th>\n      <th>Waist circumfurance at last visit</th>\n      <th>Hips circumferance at first visit</th>\n      <th>Hips circumferance at last visit</th>\n      <th>Time between visits</th>\n    </tr>\n  </thead>\n  <tbody>\n    <tr>\n      <th>count</th>\n      <td>25025.000000</td>\n      <td>25025.000000</td>\n      <td>25025.000000</td>\n      <td>25025.0</td>\n      <td>25025.000000</td>\n      <td>23656.000000</td>\n      <td>7202.000000</td>\n      <td>24992.000000</td>\n      <td>24403.000000</td>\n      <td>25000.000000</td>\n      <td>24606.000000</td>\n      <td>25001.000000</td>\n      <td>24624.000000</td>\n      <td>25008.000000</td>\n      <td>24648.000000</td>\n      <td>25009.000000</td>\n      <td>24647.000000</td>\n      <td>25025.000000</td>\n    </tr>\n    <tr>\n      <th>mean</th>\n      <td>0.479001</td>\n      <td>55.617662</td>\n      <td>62.907612</td>\n      <td>0.0</td>\n      <td>0.017463</td>\n      <td>5.314706</td>\n      <td>5.416466</td>\n      <td>26.588497</td>\n      <td>26.590854</td>\n      <td>76.652228</td>\n      <td>76.167569</td>\n      <td>169.520815</td>\n      <td>168.988674</td>\n      <td>87.937236</td>\n      <td>88.657749</td>\n      <td>102.130597</td>\n      <td>101.562872</td>\n      <td>7.289950</td>\n    </tr>\n    <tr>\n      <th>std</th>\n      <td>0.499569</td>\n      <td>7.564328</td>\n      <td>7.523547</td>\n      <td>0.0</td>\n      <td>0.130990</td>\n      <td>0.326912</td>\n      <td>0.356769</td>\n      <td>4.205781</td>\n      <td>4.430705</td>\n      <td>14.705300</td>\n      <td>15.165484</td>\n      <td>9.197318</td>\n      <td>9.258912</td>\n      <td>12.417483</td>\n      <td>12.678647</td>\n      <td>8.181857</td>\n      <td>8.836031</td>\n      <td>2.325359</td>\n    </tr>\n    <tr>\n      <th>min</th>\n      <td>0.000000</td>\n      <td>40.000000</td>\n      <td>43.000000</td>\n      <td>0.0</td>\n      <td>0.000000</td>\n      <td>3.614000</td>\n      <td>3.540800</td>\n      <td>14.283200</td>\n      <td>14.201200</td>\n      <td>33.000000</td>\n      <td>35.000000</td>\n      <td>137.300000</td>\n      <td>136.000000</td>\n      <td>55.000000</td>\n      <td>55.000000</td>\n      <td>68.000000</td>\n      <td>72.000000</td>\n      <td>2.000000</td>\n    </tr>\n    <tr>\n      <th>25%</th>\n      <td>0.000000</td>\n      <td>50.000000</td>\n      <td>57.000000</td>\n      <td>0.0</td>\n      <td>0.000000</td>\n      <td>5.105450</td>\n      <td>5.196950</td>\n      <td>23.684100</td>\n      <td>23.563650</td>\n      <td>65.800000</td>\n      <td>65.300000</td>\n      <td>163.000000</td>\n      <td>162.000000</td>\n      <td>79.000000</td>\n      <td>80.000000</td>\n      <td>97.000000</td>\n      <td>96.000000</td>\n      <td>5.000000</td>\n    </tr>\n    <tr>\n      <th>50%</th>\n      <td>0.000000</td>\n      <td>56.000000</td>\n      <td>64.000000</td>\n      <td>0.0</td>\n      <td>0.000000</td>\n      <td>5.315900</td>\n      <td>5.389100</td>\n      <td>26.039550</td>\n      <td>25.969800</td>\n      <td>75.400000</td>\n      <td>74.800000</td>\n      <td>169.000000</td>\n      <td>169.000000</td>\n      <td>88.000000</td>\n      <td>88.000000</td>\n      <td>101.000000</td>\n      <td>101.000000</td>\n      <td>8.000000</td>\n    </tr>\n    <tr>\n      <th>75%</th>\n      <td>1.000000</td>\n      <td>62.000000</td>\n      <td>69.000000</td>\n      <td>0.0</td>\n      <td>0.000000</td>\n      <td>5.526350</td>\n      <td>5.617850</td>\n      <td>28.828800</td>\n      <td>28.863600</td>\n      <td>85.600000</td>\n      <td>85.100000</td>\n      <td>176.000000</td>\n      <td>176.000000</td>\n      <td>96.000000</td>\n      <td>97.000000</td>\n      <td>106.000000</td>\n      <td>106.000000</td>\n      <td>9.000000</td>\n    </tr>\n    <tr>\n      <th>max</th>\n      <td>1.000000</td>\n      <td>73.000000</td>\n      <td>80.000000</td>\n      <td>0.0</td>\n      <td>1.000000</td>\n      <td>6.477950</td>\n      <td>11.492150</td>\n      <td>55.281600</td>\n      <td>69.630000</td>\n      <td>169.800000</td>\n      <td>185.000000</td>\n      <td>202.000000</td>\n      <td>201.000000</td>\n      <td>155.000000</td>\n      <td>158.000000</td>\n      <td>164.000000</td>\n      <td>166.000000</td>\n      <td>12.000000</td>\n    </tr>\n  </tbody>\n</table>\n</div>"
     },
     "execution_count": 46,
     "metadata": {},
     "output_type": "execute_result"
    }
   ],
   "source": [
    "descreption_names_dict[\"train_val\"]=df_TRAIN_Val_describe.copy()\n",
    "TRAIN_index=pd.read_csv(TRAIN_PATH,usecols=[\"eid\"],index_col=\"eid\")\n",
    "TRAIN_data=All_data.loc[TRAIN_index.index]\n",
    "TRAIN_data=extract_latest_values(TRAIN_data,encodings_list=encodings_list)\n",
    "TRAIN_data_index=TRAIN_data.loc[:,\"2443-3.0\"].dropna().index\n",
    "TRAIN_data_clean=TRAIN_data.loc[TRAIN_data_index,:]\n",
    "TRAIN_data_clean[\"21003-4.0\"]=TRAIN_data_clean[\"21003-3.0\"]-TRAIN_data_clean[\"21003-0.0\"]\n",
    "TRAIN_data_final=TRAIN_data_clean.loc[:,final_encoding_list]\n",
    "# TRAIN_data_final.loc[:,[\"30750-0.0\",\"30750-3.0\"]]=TRAIN_data_final.loc[:,[\"30750-0.0\",\"30750-3.0\"]].apply(convert_hba1c_mmol_mol_2_percentage,axis=1)\n",
    "TRAIN_data_final.rename(final_dict,inplace=True,axis=1)\n",
    "df_TRAIN_describe=TRAIN_data_final.describe()\n",
    "df_TRAIN_describe.to_csv(os.path.join(tables_path,\"TRAIN_data_Stats.csv\"),index=True)\n",
    "df_TRAIN_describe\n",
    "descreption_names_dict[\"train\"]=df_TRAIN_describe\n",
    "df_TRAIN_describe"
   ],
   "metadata": {
    "collapsed": false,
    "pycharm": {
     "name": "#%%\n"
    }
   }
  },
  {
   "cell_type": "code",
   "execution_count": 47,
   "outputs": [
    {
     "data": {
      "text/plain": "                Sex  Age at first visit  Age at last visit  \\\ncount  44709.000000        44709.000000       44709.000000   \nmean       0.478092           55.596949          62.894742   \nstd        0.499525            7.550944           7.503726   \nmin        0.000000           40.000000          43.000000   \n25%        0.000000           50.000000          57.000000   \n50%        0.000000           56.000000          64.000000   \n75%        1.000000           61.000000          69.000000   \nmax        1.000000           73.000000          80.000000   \n\n       % Diabetic at first visit  % Diabetic at last visit  \\\ncount                    44709.0              44709.000000   \nmean                         0.0                  0.017893   \nstd                          0.0                  0.132566   \nmin                          0.0                  0.000000   \n25%                          0.0                  0.000000   \n50%                          0.0                  0.000000   \n75%                          0.0                  0.000000   \nmax                          0.0                  1.000000   \n\n       %Hba1c at first visit  %Hba1c at last return  BMI at first visit  \\\ncount           42278.000000           12813.000000        44637.000000   \nmean                5.315569               5.414703           26.594892   \nstd                 0.326683               0.355735            4.212130   \nmin                 3.549950               3.540800           14.283200   \n25%                 5.105450               5.196950           23.668600   \n50%                 5.315900               5.389100           26.038400   \n75%                 5.526350               5.617850           28.841500   \nmax                 6.487100              11.492150           63.579600   \n\n       BMI at last visit  Weight at first visit  Weight at last visit  \\\ncount       43607.000000           44645.000000          43968.000000   \nmean           26.613901              76.647719             76.205779   \nstd             4.429466              14.739642             15.155903   \nmin            13.388000              33.000000             33.000000   \n25%            23.586500              65.800000             65.300000   \n50%            25.992400              75.300000             74.800000   \n75%            28.898250              85.700000             85.300000   \nmax            69.630000             176.300000            185.000000   \n\n       Height at first visit  Height at last visit  \\\ncount           44664.000000          43994.000000   \nmean              169.490030            168.962681   \nstd                 9.166758              9.222266   \nmin               137.300000            136.000000   \n25%               163.000000            162.000000   \n50%               169.000000            169.000000   \n75%               176.000000            176.000000   \nmax               202.000000            203.000000   \n\n       Waist circumfurance at first visit  Waist circumfurance at last visit  \\\ncount                        44671.000000                       44037.000000   \nmean                            87.948212                          88.727710   \nstd                             12.478581                          12.699103   \nmin                             55.000000                          53.000000   \n25%                             79.000000                          80.000000   \n50%                             88.000000                          88.000000   \n75%                             96.000000                          97.000000   \nmax                            162.000000                         184.000000   \n\n       Hips circumferance at first visit  Hips circumferance at last visit  \\\ncount                       44674.000000                      44034.000000   \nmean                          102.118232                        101.586288   \nstd                             8.188940                          8.849721   \nmin                            68.000000                         68.000000   \n25%                            97.000000                         96.000000   \n50%                           101.000000                        101.000000   \n75%                           106.000000                        106.000000   \nmax                           168.000000                        166.000000   \n\n       Time between visits  \ncount         44709.000000  \nmean              7.297792  \nstd               2.324098  \nmin               2.000000  \n25%               5.000000  \n50%               8.000000  \n75%               9.000000  \nmax              12.000000  ",
      "text/html": "<div>\n<style scoped>\n    .dataframe tbody tr th:only-of-type {\n        vertical-align: middle;\n    }\n\n    .dataframe tbody tr th {\n        vertical-align: top;\n    }\n\n    .dataframe thead th {\n        text-align: right;\n    }\n</style>\n<table border=\"1\" class=\"dataframe\">\n  <thead>\n    <tr style=\"text-align: right;\">\n      <th></th>\n      <th>Sex</th>\n      <th>Age at first visit</th>\n      <th>Age at last visit</th>\n      <th>% Diabetic at first visit</th>\n      <th>% Diabetic at last visit</th>\n      <th>%Hba1c at first visit</th>\n      <th>%Hba1c at last return</th>\n      <th>BMI at first visit</th>\n      <th>BMI at last visit</th>\n      <th>Weight at first visit</th>\n      <th>Weight at last visit</th>\n      <th>Height at first visit</th>\n      <th>Height at last visit</th>\n      <th>Waist circumfurance at first visit</th>\n      <th>Waist circumfurance at last visit</th>\n      <th>Hips circumferance at first visit</th>\n      <th>Hips circumferance at last visit</th>\n      <th>Time between visits</th>\n    </tr>\n  </thead>\n  <tbody>\n    <tr>\n      <th>count</th>\n      <td>44709.000000</td>\n      <td>44709.000000</td>\n      <td>44709.000000</td>\n      <td>44709.0</td>\n      <td>44709.000000</td>\n      <td>42278.000000</td>\n      <td>12813.000000</td>\n      <td>44637.000000</td>\n      <td>43607.000000</td>\n      <td>44645.000000</td>\n      <td>43968.000000</td>\n      <td>44664.000000</td>\n      <td>43994.000000</td>\n      <td>44671.000000</td>\n      <td>44037.000000</td>\n      <td>44674.000000</td>\n      <td>44034.000000</td>\n      <td>44709.000000</td>\n    </tr>\n    <tr>\n      <th>mean</th>\n      <td>0.478092</td>\n      <td>55.596949</td>\n      <td>62.894742</td>\n      <td>0.0</td>\n      <td>0.017893</td>\n      <td>5.315569</td>\n      <td>5.414703</td>\n      <td>26.594892</td>\n      <td>26.613901</td>\n      <td>76.647719</td>\n      <td>76.205779</td>\n      <td>169.490030</td>\n      <td>168.962681</td>\n      <td>87.948212</td>\n      <td>88.727710</td>\n      <td>102.118232</td>\n      <td>101.586288</td>\n      <td>7.297792</td>\n    </tr>\n    <tr>\n      <th>std</th>\n      <td>0.499525</td>\n      <td>7.550944</td>\n      <td>7.503726</td>\n      <td>0.0</td>\n      <td>0.132566</td>\n      <td>0.326683</td>\n      <td>0.355735</td>\n      <td>4.212130</td>\n      <td>4.429466</td>\n      <td>14.739642</td>\n      <td>15.155903</td>\n      <td>9.166758</td>\n      <td>9.222266</td>\n      <td>12.478581</td>\n      <td>12.699103</td>\n      <td>8.188940</td>\n      <td>8.849721</td>\n      <td>2.324098</td>\n    </tr>\n    <tr>\n      <th>min</th>\n      <td>0.000000</td>\n      <td>40.000000</td>\n      <td>43.000000</td>\n      <td>0.0</td>\n      <td>0.000000</td>\n      <td>3.549950</td>\n      <td>3.540800</td>\n      <td>14.283200</td>\n      <td>13.388000</td>\n      <td>33.000000</td>\n      <td>33.000000</td>\n      <td>137.300000</td>\n      <td>136.000000</td>\n      <td>55.000000</td>\n      <td>53.000000</td>\n      <td>68.000000</td>\n      <td>68.000000</td>\n      <td>2.000000</td>\n    </tr>\n    <tr>\n      <th>25%</th>\n      <td>0.000000</td>\n      <td>50.000000</td>\n      <td>57.000000</td>\n      <td>0.0</td>\n      <td>0.000000</td>\n      <td>5.105450</td>\n      <td>5.196950</td>\n      <td>23.668600</td>\n      <td>23.586500</td>\n      <td>65.800000</td>\n      <td>65.300000</td>\n      <td>163.000000</td>\n      <td>162.000000</td>\n      <td>79.000000</td>\n      <td>80.000000</td>\n      <td>97.000000</td>\n      <td>96.000000</td>\n      <td>5.000000</td>\n    </tr>\n    <tr>\n      <th>50%</th>\n      <td>0.000000</td>\n      <td>56.000000</td>\n      <td>64.000000</td>\n      <td>0.0</td>\n      <td>0.000000</td>\n      <td>5.315900</td>\n      <td>5.389100</td>\n      <td>26.038400</td>\n      <td>25.992400</td>\n      <td>75.300000</td>\n      <td>74.800000</td>\n      <td>169.000000</td>\n      <td>169.000000</td>\n      <td>88.000000</td>\n      <td>88.000000</td>\n      <td>101.000000</td>\n      <td>101.000000</td>\n      <td>8.000000</td>\n    </tr>\n    <tr>\n      <th>75%</th>\n      <td>1.000000</td>\n      <td>61.000000</td>\n      <td>69.000000</td>\n      <td>0.0</td>\n      <td>0.000000</td>\n      <td>5.526350</td>\n      <td>5.617850</td>\n      <td>28.841500</td>\n      <td>28.898250</td>\n      <td>85.700000</td>\n      <td>85.300000</td>\n      <td>176.000000</td>\n      <td>176.000000</td>\n      <td>96.000000</td>\n      <td>97.000000</td>\n      <td>106.000000</td>\n      <td>106.000000</td>\n      <td>9.000000</td>\n    </tr>\n    <tr>\n      <th>max</th>\n      <td>1.000000</td>\n      <td>73.000000</td>\n      <td>80.000000</td>\n      <td>0.0</td>\n      <td>1.000000</td>\n      <td>6.487100</td>\n      <td>11.492150</td>\n      <td>63.579600</td>\n      <td>69.630000</td>\n      <td>176.300000</td>\n      <td>185.000000</td>\n      <td>202.000000</td>\n      <td>203.000000</td>\n      <td>162.000000</td>\n      <td>184.000000</td>\n      <td>168.000000</td>\n      <td>166.000000</td>\n      <td>12.000000</td>\n    </tr>\n  </tbody>\n</table>\n</div>"
     },
     "execution_count": 47,
     "metadata": {},
     "output_type": "execute_result"
    }
   ],
   "source": [
    "val_index=pd.read_csv(VAL_PATH,usecols=[\"eid\"],index_col=\"eid\")\n",
    "val_data=All_data.loc[val_index.index]\n",
    "val_data=extract_latest_values(val_data,encodings_list=encodings_list)\n",
    "val_data_index=val_data.loc[:,\"2443-3.0\"].dropna().index\n",
    "val_data_clean=val_data.loc[val_data_index,:]\n",
    "val_data_clean[\"21003-4.0\"]=val_data_clean[\"21003-3.0\"]-val_data_clean[\"21003-0.0\"]\n",
    "val_data_final=val_data_clean.loc[:,final_encoding_list]\n",
    "# val_data_final.loc[:,[\"30750-0.0\",\"30750-3.0\"]]=val_data_final.loc[:,[\"30750-0.0\",\"30750-3.0\"]].apply(convert_hba1c_mmol_mol_2_percentage,axis=1)\n",
    "val_data_final.rename(final_dict,inplace=True,axis=1)\n",
    "df_val_describe=val_data_final.describe()\n",
    "df_val_describe.to_csv(os.path.join(tables_path,\"val_data_Stats.csv\"),index=True)\n",
    "descreption_names_dict[\"val\"]=df_val_describe.copy()\n",
    "all_returned_final=pd.concat([TRAIN_Val_data_final,test_data_final])\n",
    "df_returned_describe=all_returned_final.describe()\n",
    "df_returned_describe.to_csv(os.path.join(tables_path,\"Returned_data_Stats.csv\"),index=True)\n",
    "descreption_names_dict[\"returned\"]=df_returned_describe.copy()"
   ],
   "metadata": {
    "collapsed": false,
    "pycharm": {
     "name": "#%%\n"
    }
   }
  },
  {
   "cell_type": "code",
   "execution_count": 74,
   "outputs": [
    {
     "data": {
      "text/plain": "                Sex  Age at first visit  Age at last visit  \\\ncount  44709.000000        44709.000000       44709.000000   \nmean       0.478092           55.596949          62.894742   \nstd        0.499525            7.550944           7.503726   \nmin        0.000000           40.000000          43.000000   \n25%        0.000000           50.000000          57.000000   \n50%        0.000000           56.000000          64.000000   \n75%        1.000000           61.000000          69.000000   \nmax        1.000000           73.000000          80.000000   \n\n       % Diabetic at first visit  % Diabetic at last visit  \\\ncount                    44709.0              44709.000000   \nmean                         0.0                  0.017893   \nstd                          0.0                  0.132566   \nmin                          0.0                  0.000000   \n25%                          0.0                  0.000000   \n50%                          0.0                  0.000000   \n75%                          0.0                  0.000000   \nmax                          0.0                  1.000000   \n\n       %Hba1c at first visit  %Hba1c at last return  BMI at first visit  \\\ncount           42278.000000           12813.000000        44637.000000   \nmean                5.315569               5.414703           26.594892   \nstd                 0.326683               0.355735            4.212130   \nmin                 3.549950               3.540800           14.283200   \n25%                 5.105450               5.196950           23.668600   \n50%                 5.315900               5.389100           26.038400   \n75%                 5.526350               5.617850           28.841500   \nmax                 6.487100              11.492150           63.579600   \n\n       BMI at last visit  Weight at first visit  Weight at last visit  \\\ncount       43607.000000           44645.000000          43968.000000   \nmean           26.613901              76.647719             76.205779   \nstd             4.429466              14.739642             15.155903   \nmin            13.388000              33.000000             33.000000   \n25%            23.586500              65.800000             65.300000   \n50%            25.992400              75.300000             74.800000   \n75%            28.898250              85.700000             85.300000   \nmax            69.630000             176.300000            185.000000   \n\n       Height at first visit  Height at last visit  \\\ncount           44664.000000          43994.000000   \nmean              169.490030            168.962681   \nstd                 9.166758              9.222266   \nmin               137.300000            136.000000   \n25%               163.000000            162.000000   \n50%               169.000000            169.000000   \n75%               176.000000            176.000000   \nmax               202.000000            203.000000   \n\n       Waist circumfurance at first visit  Waist circumfurance at last visit  \\\ncount                        44671.000000                       44037.000000   \nmean                            87.948212                          88.727710   \nstd                             12.478581                          12.699103   \nmin                             55.000000                          53.000000   \n25%                             79.000000                          80.000000   \n50%                             88.000000                          88.000000   \n75%                             96.000000                          97.000000   \nmax                            162.000000                         184.000000   \n\n       Hips circumferance at first visit  Hips circumferance at last visit  \\\ncount                       44674.000000                      44034.000000   \nmean                          102.118232                        101.586288   \nstd                             8.188940                          8.849721   \nmin                            68.000000                         68.000000   \n25%                            97.000000                         96.000000   \n50%                           101.000000                        101.000000   \n75%                           106.000000                        106.000000   \nmax                           168.000000                        166.000000   \n\n       Time between visits  \ncount         44709.000000  \nmean              7.297792  \nstd               2.324098  \nmin               2.000000  \n25%               5.000000  \n50%               8.000000  \n75%               9.000000  \nmax              12.000000  ",
      "text/html": "<div>\n<style scoped>\n    .dataframe tbody tr th:only-of-type {\n        vertical-align: middle;\n    }\n\n    .dataframe tbody tr th {\n        vertical-align: top;\n    }\n\n    .dataframe thead th {\n        text-align: right;\n    }\n</style>\n<table border=\"1\" class=\"dataframe\">\n  <thead>\n    <tr style=\"text-align: right;\">\n      <th></th>\n      <th>Sex</th>\n      <th>Age at first visit</th>\n      <th>Age at last visit</th>\n      <th>% Diabetic at first visit</th>\n      <th>% Diabetic at last visit</th>\n      <th>%Hba1c at first visit</th>\n      <th>%Hba1c at last return</th>\n      <th>BMI at first visit</th>\n      <th>BMI at last visit</th>\n      <th>Weight at first visit</th>\n      <th>Weight at last visit</th>\n      <th>Height at first visit</th>\n      <th>Height at last visit</th>\n      <th>Waist circumfurance at first visit</th>\n      <th>Waist circumfurance at last visit</th>\n      <th>Hips circumferance at first visit</th>\n      <th>Hips circumferance at last visit</th>\n      <th>Time between visits</th>\n    </tr>\n  </thead>\n  <tbody>\n    <tr>\n      <th>count</th>\n      <td>44709.000000</td>\n      <td>44709.000000</td>\n      <td>44709.000000</td>\n      <td>44709.0</td>\n      <td>44709.000000</td>\n      <td>42278.000000</td>\n      <td>12813.000000</td>\n      <td>44637.000000</td>\n      <td>43607.000000</td>\n      <td>44645.000000</td>\n      <td>43968.000000</td>\n      <td>44664.000000</td>\n      <td>43994.000000</td>\n      <td>44671.000000</td>\n      <td>44037.000000</td>\n      <td>44674.000000</td>\n      <td>44034.000000</td>\n      <td>44709.000000</td>\n    </tr>\n    <tr>\n      <th>mean</th>\n      <td>0.478092</td>\n      <td>55.596949</td>\n      <td>62.894742</td>\n      <td>0.0</td>\n      <td>0.017893</td>\n      <td>5.315569</td>\n      <td>5.414703</td>\n      <td>26.594892</td>\n      <td>26.613901</td>\n      <td>76.647719</td>\n      <td>76.205779</td>\n      <td>169.490030</td>\n      <td>168.962681</td>\n      <td>87.948212</td>\n      <td>88.727710</td>\n      <td>102.118232</td>\n      <td>101.586288</td>\n      <td>7.297792</td>\n    </tr>\n    <tr>\n      <th>std</th>\n      <td>0.499525</td>\n      <td>7.550944</td>\n      <td>7.503726</td>\n      <td>0.0</td>\n      <td>0.132566</td>\n      <td>0.326683</td>\n      <td>0.355735</td>\n      <td>4.212130</td>\n      <td>4.429466</td>\n      <td>14.739642</td>\n      <td>15.155903</td>\n      <td>9.166758</td>\n      <td>9.222266</td>\n      <td>12.478581</td>\n      <td>12.699103</td>\n      <td>8.188940</td>\n      <td>8.849721</td>\n      <td>2.324098</td>\n    </tr>\n    <tr>\n      <th>min</th>\n      <td>0.000000</td>\n      <td>40.000000</td>\n      <td>43.000000</td>\n      <td>0.0</td>\n      <td>0.000000</td>\n      <td>3.549950</td>\n      <td>3.540800</td>\n      <td>14.283200</td>\n      <td>13.388000</td>\n      <td>33.000000</td>\n      <td>33.000000</td>\n      <td>137.300000</td>\n      <td>136.000000</td>\n      <td>55.000000</td>\n      <td>53.000000</td>\n      <td>68.000000</td>\n      <td>68.000000</td>\n      <td>2.000000</td>\n    </tr>\n    <tr>\n      <th>25%</th>\n      <td>0.000000</td>\n      <td>50.000000</td>\n      <td>57.000000</td>\n      <td>0.0</td>\n      <td>0.000000</td>\n      <td>5.105450</td>\n      <td>5.196950</td>\n      <td>23.668600</td>\n      <td>23.586500</td>\n      <td>65.800000</td>\n      <td>65.300000</td>\n      <td>163.000000</td>\n      <td>162.000000</td>\n      <td>79.000000</td>\n      <td>80.000000</td>\n      <td>97.000000</td>\n      <td>96.000000</td>\n      <td>5.000000</td>\n    </tr>\n    <tr>\n      <th>50%</th>\n      <td>0.000000</td>\n      <td>56.000000</td>\n      <td>64.000000</td>\n      <td>0.0</td>\n      <td>0.000000</td>\n      <td>5.315900</td>\n      <td>5.389100</td>\n      <td>26.038400</td>\n      <td>25.992400</td>\n      <td>75.300000</td>\n      <td>74.800000</td>\n      <td>169.000000</td>\n      <td>169.000000</td>\n      <td>88.000000</td>\n      <td>88.000000</td>\n      <td>101.000000</td>\n      <td>101.000000</td>\n      <td>8.000000</td>\n    </tr>\n    <tr>\n      <th>75%</th>\n      <td>1.000000</td>\n      <td>61.000000</td>\n      <td>69.000000</td>\n      <td>0.0</td>\n      <td>0.000000</td>\n      <td>5.526350</td>\n      <td>5.617850</td>\n      <td>28.841500</td>\n      <td>28.898250</td>\n      <td>85.700000</td>\n      <td>85.300000</td>\n      <td>176.000000</td>\n      <td>176.000000</td>\n      <td>96.000000</td>\n      <td>97.000000</td>\n      <td>106.000000</td>\n      <td>106.000000</td>\n      <td>9.000000</td>\n    </tr>\n    <tr>\n      <th>max</th>\n      <td>1.000000</td>\n      <td>73.000000</td>\n      <td>80.000000</td>\n      <td>0.0</td>\n      <td>1.000000</td>\n      <td>6.487100</td>\n      <td>11.492150</td>\n      <td>63.579600</td>\n      <td>69.630000</td>\n      <td>176.300000</td>\n      <td>185.000000</td>\n      <td>202.000000</td>\n      <td>203.000000</td>\n      <td>162.000000</td>\n      <td>184.000000</td>\n      <td>168.000000</td>\n      <td>166.000000</td>\n      <td>12.000000</td>\n    </tr>\n  </tbody>\n</table>\n</div>"
     },
     "execution_count": 74,
     "metadata": {},
     "output_type": "execute_result"
    }
   ],
   "source": [
    "stat_summary_table=pd.DataFrame(index=list(descreption_names_dict.keys()))\n",
    "descreption_names_dict[\"returned\"].columns.values\n",
    "df_returned_describe"
   ],
   "metadata": {
    "collapsed": false,
    "pycharm": {
     "name": "#%%\n"
    }
   }
  },
  {
   "cell_type": "code",
   "execution_count": 75,
   "outputs": [
    {
     "name": "stderr",
     "output_type": "stream",
     "text": [
      "As the xlwt package is no longer maintained, the xlwt engine will be removed in a future version of pandas. This is the only engine in pandas that supports writing in the xls format. Install openpyxl and write to an xlsx file instead. You can set the option io.excel.xls.writer to 'xlwt' to silence this warning. While this option is deprecated and will also raise a warning, it can be globally set and the warning suppressed.\n"
     ]
    }
   ],
   "source": [
    "# from UKBB_article_plots_config import column_names_list\n",
    "for df_i in list(descreption_names_dict.keys()):\n",
    "    stat_summary_table.loc[df_i,\"Number of participants\"]=str(int(\n",
    "        descreption_names_dict[df_i].loc[\"count\",\"Sex\"]))\n",
    "    stat_summary_table.loc[df_i,\"%Males\"]=(\n",
    "        int(1000*descreption_names_dict[df_i].loc[\"mean\",\"Sex\"]))/10.\n",
    "    stat_summary_table.loc[df_i,\"% Diabetic at first visit\"]=np.round(100*descreption_names_dict[df_i].loc[\n",
    "        \"mean\",\"% Diabetic at first visit\"],decimals=1)\n",
    "    if stat_summary_table.loc[df_i,\"% Diabetic at first visit\"]==0:\n",
    "        stat_summary_table.loc[df_i,\"% Diabetic at first visit\"]=\"0\"\n",
    "    try:\n",
    "        stat_summary_table.loc[df_i,\"% Diabetic at last visit\"]=np.round(100*descreption_names_dict[df_i].loc[\n",
    "        \"mean\",\"% Diabetic at last visit\"],decimals=2)\n",
    "    except:\n",
    "        stat_summary_table.loc[df_i,\"% Diabetic at last visit\"]=\"-\"\n",
    "    for param in column_names_list:\n",
    "        try:\n",
    "            stat_summary_table.loc[df_i,param]=str(\n",
    "                np.round(descreption_names_dict[df_i].loc[\"mean\",param],\n",
    "                         decimals=1))+\"\\u00B1\"+str(\n",
    "                np.round(descreption_names_dict[df_i].loc[\"std\",param],\n",
    "                         decimals=1))\n",
    "        except:\n",
    "            stat_summary_table.loc[df_i,param]=\"-\"\n",
    "stat_summary_table_T=stat_summary_table.T\n",
    "stat_summary_table_T.to_excel(os.path.join(tables_path,\"Stats_Summary.xls\"))"
   ],
   "metadata": {
    "collapsed": false,
    "pycharm": {
     "name": "#%%\n"
    }
   }
  },
  {
   "cell_type": "code",
   "execution_count": 70,
   "outputs": [],
   "source": [
    "# from UKBB_article_plots_config import column_names_list\n",
    "# if \"%Hba1c at last return\" not in column_names_list:\n",
    "#     print(\"ii\")\n",
    "#     column_names_list.append(\"%Hba1c at last return\")\n",
    "# if \"%Hba1c at last visit\" in column_names_list:\n",
    "#     print(\"ii\")\n",
    "#     column_names_list.remove(\"%Hba1c at last visit\")"
   ],
   "metadata": {
    "collapsed": false,
    "pycharm": {
     "name": "#%%\n"
    }
   }
  },
  {
   "cell_type": "code",
   "execution_count": 71,
   "outputs": [
    {
     "data": {
      "text/plain": "['Weight at first visit',\n 'Hips circumferance at last visit',\n 'Waist circumfurance at last visit',\n 'Weight at last visit',\n 'Height at first visit',\n 'Age at last visit',\n 'Waist circumfurance at first visit',\n 'Hips circumferance at first visit',\n 'Height at last visit',\n 'BMI at first visit',\n '%Hba1c at first visit',\n '%Hba1c at last return',\n 'Age at first visit',\n 'BMI at last visit',\n 'Time between visits']"
     },
     "execution_count": 71,
     "metadata": {},
     "output_type": "execute_result"
    }
   ],
   "source": [
    "column_names_list"
   ],
   "metadata": {
    "collapsed": false,
    "pycharm": {
     "name": "#%%\n"
    }
   }
  },
  {
   "cell_type": "code",
   "execution_count": 76,
   "outputs": [
    {
     "data": {
      "text/plain": "                                          All       test  train_val  \\\nNumber of participants                 502536       8960      35749   \n%Males                                   45.5       47.9       47.7   \n% Diabetic at first visit                 4.8          0          0   \n% Diabetic at last visit                    -       1.76        1.8   \nWeight at first visit               78.1±15.9  76.4±14.6  76.7±14.8   \nHips circumferance at last visit            -  101.4±8.7  101.6±8.9   \nWaist circumfurance at last visit           -  88.5±12.5  88.8±12.8   \nWeight at last visit                        -  76.0±14.9  76.3±15.2   \nHeight at first visit               168.4±9.3  169.5±9.1  169.5±9.2   \nAge at last visit                           -   62.9±7.4   62.9±7.5   \nWaist circumfurance at first visit  90.3±13.5  87.7±12.4  88.0±12.5   \nHips circumferance at first visit   103.4±9.2  101.9±8.0  102.2±8.2   \nHeight at last visit                        -  169.0±9.2  169.0±9.2   \nBMI at first visit                   27.4±4.8   26.5±4.1   26.6±4.2   \n%Hba1c at first visit                 5.5±0.6    5.3±0.3    5.3±0.3   \n%Hba1c at last return                       -    5.4±0.3    5.4±0.4   \nAge at first visit                   56.5±8.1   55.5±7.5   55.6±7.6   \nBMI at last visit                           -   26.5±4.3   26.6±4.5   \nTime between visits                         -    7.3±2.3    7.3±2.3   \n\n                                        train        val   returned  \nNumber of participants                  25025      10724      44709  \n%Males                                   47.9       47.5       47.8  \n% Diabetic at first visit                   0          0          0  \n% Diabetic at last visit                 1.75       1.91       1.79  \nWeight at first visit               76.7±14.7  76.8±14.9  76.6±14.7  \nHips circumferance at last visit    101.6±8.8  101.8±9.0  101.6±8.8  \nWaist circumfurance at last visit   88.7±12.7  89.0±12.9  88.7±12.7  \nWeight at last visit                76.2±15.2  76.5±15.3  76.2±15.2  \nHeight at first visit               169.5±9.2  169.4±9.1  169.5±9.2  \nAge at last visit                    62.9±7.5   62.9±7.5   62.9±7.5  \nWaist circumfurance at first visit  87.9±12.4  88.2±12.7  87.9±12.5  \nHips circumferance at first visit   102.1±8.2  102.3±8.3  102.1±8.2  \nHeight at last visit                169.0±9.3  168.9±9.2  169.0±9.2  \nBMI at first visit                   26.6±4.2   26.7±4.3   26.6±4.2  \n%Hba1c at first visit                 5.3±0.3    5.3±0.3    5.3±0.3  \n%Hba1c at last return                 5.4±0.4    5.4±0.4    5.4±0.4  \nAge at first visit                   55.6±7.6   55.6±7.6   55.6±7.6  \nBMI at last visit                    26.6±4.4   26.7±4.5   26.6±4.4  \nTime between visits                   7.3±2.3    7.3±2.3    7.3±2.3  ",
      "text/html": "<div>\n<style scoped>\n    .dataframe tbody tr th:only-of-type {\n        vertical-align: middle;\n    }\n\n    .dataframe tbody tr th {\n        vertical-align: top;\n    }\n\n    .dataframe thead th {\n        text-align: right;\n    }\n</style>\n<table border=\"1\" class=\"dataframe\">\n  <thead>\n    <tr style=\"text-align: right;\">\n      <th></th>\n      <th>All</th>\n      <th>test</th>\n      <th>train_val</th>\n      <th>train</th>\n      <th>val</th>\n      <th>returned</th>\n    </tr>\n  </thead>\n  <tbody>\n    <tr>\n      <th>Number of participants</th>\n      <td>502536</td>\n      <td>8960</td>\n      <td>35749</td>\n      <td>25025</td>\n      <td>10724</td>\n      <td>44709</td>\n    </tr>\n    <tr>\n      <th>%Males</th>\n      <td>45.5</td>\n      <td>47.9</td>\n      <td>47.7</td>\n      <td>47.9</td>\n      <td>47.5</td>\n      <td>47.8</td>\n    </tr>\n    <tr>\n      <th>% Diabetic at first visit</th>\n      <td>4.8</td>\n      <td>0</td>\n      <td>0</td>\n      <td>0</td>\n      <td>0</td>\n      <td>0</td>\n    </tr>\n    <tr>\n      <th>% Diabetic at last visit</th>\n      <td>-</td>\n      <td>1.76</td>\n      <td>1.8</td>\n      <td>1.75</td>\n      <td>1.91</td>\n      <td>1.79</td>\n    </tr>\n    <tr>\n      <th>Weight at first visit</th>\n      <td>78.1±15.9</td>\n      <td>76.4±14.6</td>\n      <td>76.7±14.8</td>\n      <td>76.7±14.7</td>\n      <td>76.8±14.9</td>\n      <td>76.6±14.7</td>\n    </tr>\n    <tr>\n      <th>Hips circumferance at last visit</th>\n      <td>-</td>\n      <td>101.4±8.7</td>\n      <td>101.6±8.9</td>\n      <td>101.6±8.8</td>\n      <td>101.8±9.0</td>\n      <td>101.6±8.8</td>\n    </tr>\n    <tr>\n      <th>Waist circumfurance at last visit</th>\n      <td>-</td>\n      <td>88.5±12.5</td>\n      <td>88.8±12.8</td>\n      <td>88.7±12.7</td>\n      <td>89.0±12.9</td>\n      <td>88.7±12.7</td>\n    </tr>\n    <tr>\n      <th>Weight at last visit</th>\n      <td>-</td>\n      <td>76.0±14.9</td>\n      <td>76.3±15.2</td>\n      <td>76.2±15.2</td>\n      <td>76.5±15.3</td>\n      <td>76.2±15.2</td>\n    </tr>\n    <tr>\n      <th>Height at first visit</th>\n      <td>168.4±9.3</td>\n      <td>169.5±9.1</td>\n      <td>169.5±9.2</td>\n      <td>169.5±9.2</td>\n      <td>169.4±9.1</td>\n      <td>169.5±9.2</td>\n    </tr>\n    <tr>\n      <th>Age at last visit</th>\n      <td>-</td>\n      <td>62.9±7.4</td>\n      <td>62.9±7.5</td>\n      <td>62.9±7.5</td>\n      <td>62.9±7.5</td>\n      <td>62.9±7.5</td>\n    </tr>\n    <tr>\n      <th>Waist circumfurance at first visit</th>\n      <td>90.3±13.5</td>\n      <td>87.7±12.4</td>\n      <td>88.0±12.5</td>\n      <td>87.9±12.4</td>\n      <td>88.2±12.7</td>\n      <td>87.9±12.5</td>\n    </tr>\n    <tr>\n      <th>Hips circumferance at first visit</th>\n      <td>103.4±9.2</td>\n      <td>101.9±8.0</td>\n      <td>102.2±8.2</td>\n      <td>102.1±8.2</td>\n      <td>102.3±8.3</td>\n      <td>102.1±8.2</td>\n    </tr>\n    <tr>\n      <th>Height at last visit</th>\n      <td>-</td>\n      <td>169.0±9.2</td>\n      <td>169.0±9.2</td>\n      <td>169.0±9.3</td>\n      <td>168.9±9.2</td>\n      <td>169.0±9.2</td>\n    </tr>\n    <tr>\n      <th>BMI at first visit</th>\n      <td>27.4±4.8</td>\n      <td>26.5±4.1</td>\n      <td>26.6±4.2</td>\n      <td>26.6±4.2</td>\n      <td>26.7±4.3</td>\n      <td>26.6±4.2</td>\n    </tr>\n    <tr>\n      <th>%Hba1c at first visit</th>\n      <td>5.5±0.6</td>\n      <td>5.3±0.3</td>\n      <td>5.3±0.3</td>\n      <td>5.3±0.3</td>\n      <td>5.3±0.3</td>\n      <td>5.3±0.3</td>\n    </tr>\n    <tr>\n      <th>%Hba1c at last return</th>\n      <td>-</td>\n      <td>5.4±0.3</td>\n      <td>5.4±0.4</td>\n      <td>5.4±0.4</td>\n      <td>5.4±0.4</td>\n      <td>5.4±0.4</td>\n    </tr>\n    <tr>\n      <th>Age at first visit</th>\n      <td>56.5±8.1</td>\n      <td>55.5±7.5</td>\n      <td>55.6±7.6</td>\n      <td>55.6±7.6</td>\n      <td>55.6±7.6</td>\n      <td>55.6±7.6</td>\n    </tr>\n    <tr>\n      <th>BMI at last visit</th>\n      <td>-</td>\n      <td>26.5±4.3</td>\n      <td>26.6±4.5</td>\n      <td>26.6±4.4</td>\n      <td>26.7±4.5</td>\n      <td>26.6±4.4</td>\n    </tr>\n    <tr>\n      <th>Time between visits</th>\n      <td>-</td>\n      <td>7.3±2.3</td>\n      <td>7.3±2.3</td>\n      <td>7.3±2.3</td>\n      <td>7.3±2.3</td>\n      <td>7.3±2.3</td>\n    </tr>\n  </tbody>\n</table>\n</div>"
     },
     "execution_count": 76,
     "metadata": {},
     "output_type": "execute_result"
    }
   ],
   "source": [
    "stat_summary_table_T"
   ],
   "metadata": {
    "collapsed": false,
    "pycharm": {
     "name": "#%%\n"
    }
   }
  },
  {
   "cell_type": "code",
   "execution_count": 51,
   "outputs": [
    {
     "ename": "KeyboardInterrupt",
     "evalue": "",
     "output_type": "error",
     "traceback": [
      "\u001B[0;31m---------------------------------------------------------------------------\u001B[0m",
      "\u001B[0;31mKeyboardInterrupt\u001B[0m                         Traceback (most recent call last)",
      "\u001B[0;32m<ipython-input-51-361d32bbb8d0>\u001B[0m in \u001B[0;36m<module>\u001B[0;34m\u001B[0m\n\u001B[1;32m     12\u001B[0m \u001B[0mdf_healthy_train_val\u001B[0m\u001B[0;34m,\u001B[0m\u001B[0mtrain_test_ill\u001B[0m\u001B[0;34m,\u001B[0m\u001B[0mold_train_val_df\u001B[0m\u001B[0;34m=\u001B[0m\u001B[0mreturn_clean_data\u001B[0m\u001B[0;34m(\u001B[0m\u001B[0mdf_to_filter_path\u001B[0m\u001B[0;34m=\u001B[0m\u001B[0mTRAIN_PATH\u001B[0m\u001B[0;34m,\u001B[0m\u001B[0mAll_disease_data_df\u001B[0m\u001B[0;34m=\u001B[0m\u001B[0mAll_disease_data\u001B[0m\u001B[0;34m)\u001B[0m\u001B[0;34m\u001B[0m\u001B[0;34m\u001B[0m\u001B[0m\n\u001B[1;32m     13\u001B[0m \u001B[0;34m\u001B[0m\u001B[0m\n\u001B[0;32m---> 14\u001B[0;31m \u001B[0mdf_healthy_test\u001B[0m\u001B[0;34m,\u001B[0m\u001B[0mtest_ill\u001B[0m\u001B[0;34m,\u001B[0m\u001B[0mold_test_df\u001B[0m\u001B[0;34m=\u001B[0m\u001B[0mreturn_clean_data\u001B[0m\u001B[0;34m(\u001B[0m\u001B[0mdf_to_filter_path\u001B[0m\u001B[0;34m=\u001B[0m\u001B[0mTEST_PATH\u001B[0m\u001B[0;34m,\u001B[0m\u001B[0mAll_disease_data_df\u001B[0m\u001B[0;34m=\u001B[0m\u001B[0mAll_disease_data\u001B[0m\u001B[0;34m)\u001B[0m\u001B[0;34m\u001B[0m\u001B[0;34m\u001B[0m\u001B[0m\n\u001B[0m\u001B[1;32m     15\u001B[0m \u001B[0;34m\u001B[0m\u001B[0m\n\u001B[1;32m     16\u001B[0m \u001B[0mdf_healthy_only_val\u001B[0m\u001B[0;34m,\u001B[0m\u001B[0monly_val_ill\u001B[0m\u001B[0;34m,\u001B[0m\u001B[0mold_val_df\u001B[0m\u001B[0;34m=\u001B[0m\u001B[0mreturn_clean_data\u001B[0m\u001B[0;34m(\u001B[0m\u001B[0mdf_to_filter_path\u001B[0m\u001B[0;34m=\u001B[0m\u001B[0mVAL_PATH\u001B[0m\u001B[0;34m,\u001B[0m\u001B[0mAll_disease_data_df\u001B[0m\u001B[0;34m=\u001B[0m\u001B[0mAll_disease_data\u001B[0m\u001B[0;34m)\u001B[0m\u001B[0;34m\u001B[0m\u001B[0;34m\u001B[0m\u001B[0m\n",
      "\u001B[0;32m~/PycharmProjects/UKBB_p3/Article_files/UKBB_article_plots_functions.py\u001B[0m in \u001B[0;36mreturn_clean_data\u001B[0;34m(df_to_filter_path, All_disease_data_df, metformin, Insulin)\u001B[0m\n\u001B[1;32m   2755\u001B[0m     \u001B[0mhealthy_index\u001B[0m \u001B[0;34m=\u001B[0m \u001B[0mdf_disease_data\u001B[0m\u001B[0;34m.\u001B[0m\u001B[0mloc\u001B[0m\u001B[0;34m[\u001B[0m\u001B[0mdf_disease_data\u001B[0m\u001B[0;34m.\u001B[0m\u001B[0mloc\u001B[0m\u001B[0;34m[\u001B[0m\u001B[0;34m:\u001B[0m\u001B[0;34m,\u001B[0m \u001B[0;34m\"met_or_ill\"\u001B[0m\u001B[0;34m]\u001B[0m \u001B[0;34m==\u001B[0m \u001B[0;36m0\u001B[0m\u001B[0;34m,\u001B[0m \u001B[0;34m:\u001B[0m\u001B[0;34m]\u001B[0m\u001B[0;34m.\u001B[0m\u001B[0mindex\u001B[0m\u001B[0;34m\u001B[0m\u001B[0;34m\u001B[0m\u001B[0m\n\u001B[1;32m   2756\u001B[0m     \u001B[0mdf_healthy\u001B[0m \u001B[0;34m=\u001B[0m \u001B[0mdf_to_filter\u001B[0m\u001B[0;34m.\u001B[0m\u001B[0mloc\u001B[0m\u001B[0;34m[\u001B[0m\u001B[0mhealthy_index\u001B[0m\u001B[0;34m,\u001B[0m \u001B[0;34m:\u001B[0m\u001B[0;34m]\u001B[0m\u001B[0;34m\u001B[0m\u001B[0;34m\u001B[0m\u001B[0m\n\u001B[0;32m-> 2757\u001B[0;31m     \u001B[0mdf_healthy\u001B[0m\u001B[0;34m.\u001B[0m\u001B[0mto_csv\u001B[0m\u001B[0;34m(\u001B[0m\u001B[0mdf_to_filter_path\u001B[0m\u001B[0;34m,\u001B[0m \u001B[0mindex\u001B[0m\u001B[0;34m=\u001B[0m\u001B[0;32mTrue\u001B[0m\u001B[0;34m)\u001B[0m\u001B[0;34m\u001B[0m\u001B[0;34m\u001B[0m\u001B[0m\n\u001B[0m\u001B[1;32m   2758\u001B[0m     \u001B[0mdf_to_filter\u001B[0m\u001B[0;34m.\u001B[0m\u001B[0mto_csv\u001B[0m\u001B[0;34m(\u001B[0m\u001B[0mdf_to_filter_path\u001B[0m\u001B[0;34m[\u001B[0m\u001B[0;34m:\u001B[0m\u001B[0;34m-\u001B[0m\u001B[0;36m4\u001B[0m\u001B[0;34m]\u001B[0m \u001B[0;34m+\u001B[0m \u001B[0;34m\"w_diab_medicine.csv\"\u001B[0m\u001B[0;34m,\u001B[0m \u001B[0mindex\u001B[0m\u001B[0;34m=\u001B[0m\u001B[0;32mTrue\u001B[0m\u001B[0;34m)\u001B[0m\u001B[0;34m\u001B[0m\u001B[0;34m\u001B[0m\u001B[0m\n\u001B[1;32m   2759\u001B[0m     \u001B[0;32mreturn\u001B[0m \u001B[0mdf_healthy\u001B[0m\u001B[0;34m,\u001B[0m \u001B[0mdf_disease_data\u001B[0m\u001B[0;34m[\u001B[0m\u001B[0;34m\"met_or_ill\"\u001B[0m\u001B[0;34m]\u001B[0m\u001B[0;34m,\u001B[0m \u001B[0mdf_to_filter\u001B[0m\u001B[0;34m\u001B[0m\u001B[0;34m\u001B[0m\u001B[0m\n",
      "\u001B[0;32m/usr/wisdom/python-3.7.4/lib/python3.7/site-packages/pandas/core/generic.py\u001B[0m in \u001B[0;36mto_csv\u001B[0;34m(self, path_or_buf, sep, na_rep, float_format, columns, header, index, index_label, mode, encoding, compression, quoting, quotechar, line_terminator, chunksize, date_format, doublequote, escapechar, decimal, errors, storage_options)\u001B[0m\n\u001B[1;32m   3401\u001B[0m             \u001B[0mdoublequote\u001B[0m\u001B[0;34m=\u001B[0m\u001B[0mdoublequote\u001B[0m\u001B[0;34m,\u001B[0m\u001B[0;34m\u001B[0m\u001B[0;34m\u001B[0m\u001B[0m\n\u001B[1;32m   3402\u001B[0m             \u001B[0mescapechar\u001B[0m\u001B[0;34m=\u001B[0m\u001B[0mescapechar\u001B[0m\u001B[0;34m,\u001B[0m\u001B[0;34m\u001B[0m\u001B[0;34m\u001B[0m\u001B[0m\n\u001B[0;32m-> 3403\u001B[0;31m             \u001B[0mstorage_options\u001B[0m\u001B[0;34m=\u001B[0m\u001B[0mstorage_options\u001B[0m\u001B[0;34m,\u001B[0m\u001B[0;34m\u001B[0m\u001B[0;34m\u001B[0m\u001B[0m\n\u001B[0m\u001B[1;32m   3404\u001B[0m         )\n\u001B[1;32m   3405\u001B[0m \u001B[0;34m\u001B[0m\u001B[0m\n",
      "\u001B[0;32m/usr/wisdom/python-3.7.4/lib/python3.7/site-packages/pandas/io/formats/format.py\u001B[0m in \u001B[0;36mto_csv\u001B[0;34m(self, path_or_buf, encoding, sep, columns, index_label, mode, compression, quoting, quotechar, line_terminator, chunksize, date_format, doublequote, escapechar, errors, storage_options)\u001B[0m\n\u001B[1;32m   1081\u001B[0m             \u001B[0mformatter\u001B[0m\u001B[0;34m=\u001B[0m\u001B[0mself\u001B[0m\u001B[0;34m.\u001B[0m\u001B[0mfmt\u001B[0m\u001B[0;34m,\u001B[0m\u001B[0;34m\u001B[0m\u001B[0;34m\u001B[0m\u001B[0m\n\u001B[1;32m   1082\u001B[0m         )\n\u001B[0;32m-> 1083\u001B[0;31m         \u001B[0mcsv_formatter\u001B[0m\u001B[0;34m.\u001B[0m\u001B[0msave\u001B[0m\u001B[0;34m(\u001B[0m\u001B[0;34m)\u001B[0m\u001B[0;34m\u001B[0m\u001B[0;34m\u001B[0m\u001B[0m\n\u001B[0m\u001B[1;32m   1084\u001B[0m \u001B[0;34m\u001B[0m\u001B[0m\n\u001B[1;32m   1085\u001B[0m         \u001B[0;32mif\u001B[0m \u001B[0mcreated_buffer\u001B[0m\u001B[0;34m:\u001B[0m\u001B[0;34m\u001B[0m\u001B[0;34m\u001B[0m\u001B[0m\n",
      "\u001B[0;32m/usr/wisdom/python-3.7.4/lib/python3.7/site-packages/pandas/io/formats/csvs.py\u001B[0m in \u001B[0;36msave\u001B[0;34m(self)\u001B[0m\n\u001B[1;32m    246\u001B[0m             )\n\u001B[1;32m    247\u001B[0m \u001B[0;34m\u001B[0m\u001B[0m\n\u001B[0;32m--> 248\u001B[0;31m             \u001B[0mself\u001B[0m\u001B[0;34m.\u001B[0m\u001B[0m_save\u001B[0m\u001B[0;34m(\u001B[0m\u001B[0;34m)\u001B[0m\u001B[0;34m\u001B[0m\u001B[0;34m\u001B[0m\u001B[0m\n\u001B[0m\u001B[1;32m    249\u001B[0m \u001B[0;34m\u001B[0m\u001B[0m\n\u001B[1;32m    250\u001B[0m     \u001B[0;32mdef\u001B[0m \u001B[0m_save\u001B[0m\u001B[0;34m(\u001B[0m\u001B[0mself\u001B[0m\u001B[0;34m)\u001B[0m \u001B[0;34m->\u001B[0m \u001B[0;32mNone\u001B[0m\u001B[0;34m:\u001B[0m\u001B[0;34m\u001B[0m\u001B[0;34m\u001B[0m\u001B[0m\n",
      "\u001B[0;32m/usr/wisdom/python-3.7.4/lib/python3.7/site-packages/pandas/io/formats/csvs.py\u001B[0m in \u001B[0;36m_save\u001B[0;34m(self)\u001B[0m\n\u001B[1;32m    251\u001B[0m         \u001B[0;32mif\u001B[0m \u001B[0mself\u001B[0m\u001B[0;34m.\u001B[0m\u001B[0m_need_to_save_header\u001B[0m\u001B[0;34m:\u001B[0m\u001B[0;34m\u001B[0m\u001B[0;34m\u001B[0m\u001B[0m\n\u001B[1;32m    252\u001B[0m             \u001B[0mself\u001B[0m\u001B[0;34m.\u001B[0m\u001B[0m_save_header\u001B[0m\u001B[0;34m(\u001B[0m\u001B[0;34m)\u001B[0m\u001B[0;34m\u001B[0m\u001B[0;34m\u001B[0m\u001B[0m\n\u001B[0;32m--> 253\u001B[0;31m         \u001B[0mself\u001B[0m\u001B[0;34m.\u001B[0m\u001B[0m_save_body\u001B[0m\u001B[0;34m(\u001B[0m\u001B[0;34m)\u001B[0m\u001B[0;34m\u001B[0m\u001B[0;34m\u001B[0m\u001B[0m\n\u001B[0m\u001B[1;32m    254\u001B[0m \u001B[0;34m\u001B[0m\u001B[0m\n\u001B[1;32m    255\u001B[0m     \u001B[0;32mdef\u001B[0m \u001B[0m_save_header\u001B[0m\u001B[0;34m(\u001B[0m\u001B[0mself\u001B[0m\u001B[0;34m)\u001B[0m \u001B[0;34m->\u001B[0m \u001B[0;32mNone\u001B[0m\u001B[0;34m:\u001B[0m\u001B[0;34m\u001B[0m\u001B[0;34m\u001B[0m\u001B[0m\n",
      "\u001B[0;32m/usr/wisdom/python-3.7.4/lib/python3.7/site-packages/pandas/io/formats/csvs.py\u001B[0m in \u001B[0;36m_save_body\u001B[0;34m(self)\u001B[0m\n\u001B[1;32m    289\u001B[0m             \u001B[0;32mif\u001B[0m \u001B[0mstart_i\u001B[0m \u001B[0;34m>=\u001B[0m \u001B[0mend_i\u001B[0m\u001B[0;34m:\u001B[0m\u001B[0;34m\u001B[0m\u001B[0;34m\u001B[0m\u001B[0m\n\u001B[1;32m    290\u001B[0m                 \u001B[0;32mbreak\u001B[0m\u001B[0;34m\u001B[0m\u001B[0;34m\u001B[0m\u001B[0m\n\u001B[0;32m--> 291\u001B[0;31m             \u001B[0mself\u001B[0m\u001B[0;34m.\u001B[0m\u001B[0m_save_chunk\u001B[0m\u001B[0;34m(\u001B[0m\u001B[0mstart_i\u001B[0m\u001B[0;34m,\u001B[0m \u001B[0mend_i\u001B[0m\u001B[0;34m)\u001B[0m\u001B[0;34m\u001B[0m\u001B[0;34m\u001B[0m\u001B[0m\n\u001B[0m\u001B[1;32m    292\u001B[0m \u001B[0;34m\u001B[0m\u001B[0m\n\u001B[1;32m    293\u001B[0m     \u001B[0;32mdef\u001B[0m \u001B[0m_save_chunk\u001B[0m\u001B[0;34m(\u001B[0m\u001B[0mself\u001B[0m\u001B[0;34m,\u001B[0m \u001B[0mstart_i\u001B[0m\u001B[0;34m:\u001B[0m \u001B[0mint\u001B[0m\u001B[0;34m,\u001B[0m \u001B[0mend_i\u001B[0m\u001B[0;34m:\u001B[0m \u001B[0mint\u001B[0m\u001B[0;34m)\u001B[0m \u001B[0;34m->\u001B[0m \u001B[0;32mNone\u001B[0m\u001B[0;34m:\u001B[0m\u001B[0;34m\u001B[0m\u001B[0;34m\u001B[0m\u001B[0m\n",
      "\u001B[0;32m/usr/wisdom/python-3.7.4/lib/python3.7/site-packages/pandas/io/formats/csvs.py\u001B[0m in \u001B[0;36m_save_chunk\u001B[0;34m(self, start_i, end_i)\u001B[0m\n\u001B[1;32m    300\u001B[0m \u001B[0;34m\u001B[0m\u001B[0m\n\u001B[1;32m    301\u001B[0m         \u001B[0mix\u001B[0m \u001B[0;34m=\u001B[0m \u001B[0mself\u001B[0m\u001B[0;34m.\u001B[0m\u001B[0mdata_index\u001B[0m\u001B[0;34m[\u001B[0m\u001B[0mslicer\u001B[0m\u001B[0;34m]\u001B[0m\u001B[0;34m.\u001B[0m\u001B[0m_format_native_types\u001B[0m\u001B[0;34m(\u001B[0m\u001B[0;34m**\u001B[0m\u001B[0mself\u001B[0m\u001B[0;34m.\u001B[0m\u001B[0m_number_format\u001B[0m\u001B[0;34m)\u001B[0m\u001B[0;34m\u001B[0m\u001B[0;34m\u001B[0m\u001B[0m\n\u001B[0;32m--> 302\u001B[0;31m         \u001B[0mlibwriters\u001B[0m\u001B[0;34m.\u001B[0m\u001B[0mwrite_csv_rows\u001B[0m\u001B[0;34m(\u001B[0m\u001B[0mdata\u001B[0m\u001B[0;34m,\u001B[0m \u001B[0mix\u001B[0m\u001B[0;34m,\u001B[0m \u001B[0mself\u001B[0m\u001B[0;34m.\u001B[0m\u001B[0mnlevels\u001B[0m\u001B[0;34m,\u001B[0m \u001B[0mself\u001B[0m\u001B[0;34m.\u001B[0m\u001B[0mcols\u001B[0m\u001B[0;34m,\u001B[0m \u001B[0mself\u001B[0m\u001B[0;34m.\u001B[0m\u001B[0mwriter\u001B[0m\u001B[0;34m)\u001B[0m\u001B[0;34m\u001B[0m\u001B[0;34m\u001B[0m\u001B[0m\n\u001B[0m",
      "\u001B[0;32mpandas/_libs/writers.pyx\u001B[0m in \u001B[0;36mpandas._libs.writers.write_csv_rows\u001B[0;34m()\u001B[0m\n",
      "\u001B[0;31mKeyboardInterrupt\u001B[0m: "
     ]
    }
   ],
   "source": [
    "columns=pd.read_csv(ALL_PATH,nrows=0).columns.values\n",
    "rel_ids=[\"20003-0\",\"6177-0\",\"6153-0\"]\n",
    "metformin=1140884600\n",
    "Insulin=3\n",
    "metformin_columns=[x for x in columns for y in rel_ids if x.startswith(\"20003-0\")]\n",
    "Insulin_columns=[x for x in columns for y in rel_ids if x.startswith(\"6153-0\") or x.startswith(\"6177-0\")]\n",
    "rel_columns=metformin_columns+Insulin_columns\n",
    "\n",
    "\n",
    "All_disease_data=pd.read_csv(ALL_PATH,usecols=rel_columns+[\"eid\"],index_col=\"eid\")\n",
    "\n",
    "df_healthy_train_val,train_test_ill,old_train_val_df=return_clean_data(df_to_filter_path=TRAIN_PATH,All_disease_data_df=All_disease_data)\n",
    "\n",
    "df_healthy_test,test_ill,old_test_df=return_clean_data(df_to_filter_path=TEST_PATH,All_disease_data_df=All_disease_data)\n",
    "\n",
    "df_healthy_only_val,only_val_ill,old_val_df=return_clean_data(df_to_filter_path=VAL_PATH,All_disease_data_df=All_disease_data)\n",
    "\n",
    "df_healthy_only_train,only_train_ill,old_train_df=return_clean_data(df_to_filter_path=TRAIN_PATH,All_disease_data_df=All_disease_data)\n",
    "\n",
    "Train_disease_data=All_disease_data.loc[TRAIN_index.index,:]\n",
    "Train_disease_data[\"Metformin\"]=Train_disease_data.apply(func=find_code,code=metformin,axis=1)\n",
    "Train_disease_data[\"Insulin\"]=Train_disease_data.loc[:,Insulin_columns].apply(func=find_code,code=Insulin,axis=1)\n",
    "Train_disease_data[\"met_or_ill\"]=Train_disease_data[\"Insulin\"]+Train_disease_data[\"Metformin\"]\n",
    "Train_healthy_index=Train_disease_data.loc[Train_disease_data.loc[:,\"met_or_ill\"]==0,:].index\n",
    "Train_healthy=TRAIN_data_final.loc[Train_healthy_index,:]\n",
    "\n",
    "\n",
    "# In[826]:\n",
    "\n",
    "\n",
    "Test_disease_data=All_disease_data.loc[test_data_index,:]\n",
    "Test_disease_data[\"Metformin\"]=Test_disease_data.apply(func=find_code,code=metformin,axis=1)\n",
    "Test_disease_data[\"Insulin\"]=Test_disease_data.loc[:,Insulin_columns].apply(func=find_code,code=Insulin,axis=1)\n",
    "Test_disease_data[\"met_or_ill\"]=Test_disease_data[\"Insulin\"]+Test_disease_data[\"Metformin\"]\n",
    "Test_healthy_index=Test_disease_data.loc[Test_disease_data.loc[:,\"met_or_ill\"]==0,:].index\n",
    "Test_healthy=test_data_final.loc[Test_healthy_index,:]\n",
    "\n",
    "\n",
    "# # Check for participants with HbA1c>6.5%\n",
    "\n",
    "# In[174]:\n",
    "\n",
    "\n",
    "TRAIN_PATH = '/net/mraid08/export/jafar/UKBioBank/Data/ukb29741_Diabetes_returned_extended_Imputed_train_test.csv'\n",
    "TEST_PATH = '/net/mraid08/export/jafar/UKBioBank/Data/ukb29741_Diabetes_returned_extended_Imputed_val.csv'\n",
    "ALL_PATH='/net/mraid08/export/jafar/UKBioBank/Data/ukb29741.csv'\n",
    "ONLY_TRAIN_PATH = '/net/mraid08/export/jafar/UKBioBank/Data/ukb29741_Diabetes_returned_extended_Imputed_train.csv'\n",
    "ONLY_VAL_PATH='/net/mraid08/export/jafar/UKBioBank/Data/ukb29741_Diabetes_returned_extended_Imputed_test.csv'\n",
    "BASIC_PATH=\"/net/mraid08/export/jafar/UKBioBank/Data/\"\n",
    "\n",
    "\n",
    "\n",
    "ax_train,df_train,df_train_clean=filter_hba1c(path=\"/net/mraid08/export/jafar/UKBioBank/Data/ukb29741_Diabetes_returned_No_medicine_train_test.csv\")\n",
    "\n",
    "\n",
    "df_train.to_csv(\"/net/mraid08/export/jafar/UKBioBank/Data/ukb29741_Diabetes_returned_No_medicine_train_test.csv\",index=True)\n",
    "\n",
    "df_train_clean.to_csv(TRAIN_PATH,index=True)\n",
    "\n",
    "ax_test,df_test,df_test_clean=filter_hba1c(\"/net/mraid08/export/jafar/UKBioBank/Data/ukb29741_Diabetes_returned_No_medicine_val.csv\")\n",
    "\n",
    "df_test.to_csv(\"/net/mraid08/export/jafar/UKBioBank/Data/ukb29741_Diabetes_returned_No_medicine_val.csv\",index=True)\n",
    "\n",
    "df_test_clean.to_csv(TEST_PATH,index=True)\n",
    "\n",
    "ax_only_train,df_only_train,df_only_train_clean=filter_hba1c(\"/net/mraid08/export/jafar/UKBioBank/Data/ukb29741_Diabetes_returned_No_medicine_train.csv\")\n",
    "\n",
    "df_only_train.to_csv(\"/net/mraid08/export/jafar/UKBioBank/Data/ukb29741_Diabetes_returned_No_medicine_train.csv\",index=True)\n",
    "\n",
    "df_only_train_clean.to_csv(ONLY_TRAIN_PATH,index=True)\n",
    "\n",
    "ax_only_val,df_only_val,df_only_val_clean=filter_hba1c(\"/net/mraid08/export/jafar/UKBioBank/Data/ukb29741_Diabetes_returned_No_medicine_test.csv\")\n",
    "\n",
    "col0_name=df_only_val.columns[0]\n",
    "\n",
    "df_only_val.to_csv(\"/net/mraid08/export/jafar/UKBioBank/Data/ukb29741_Diabetes_returned_No_medicine_test.csv\",index=True)\n",
    "\n",
    "(df_only_val[\"HbA1c%\"]>6.5).sum()\n",
    "\n",
    "df_only_val_clean.to_csv(ONLY_VAL_PATH,index=True)\n",
    "\n",
    "diab=[x for x in df_train_clean.columns if x.startswith(\"2443\")]\n",
    "\n",
    "df_only_val_clean[df_only_val_clean.loc[:,'2443-0.0_0.0']==1].shape\n",
    "\n",
    "df_only_val_clean.shape\n",
    "\n",
    "df_only_val_clean.loc[:,'2443-1.0_0.0']\n",
    "\n",
    "\n",
    "A1c_low_Test_data_path=\"/home/edlitzy/UKBB_Tree_Runs/For_article/A1c_strat/Strat_L20_H39_Antro_neto_whr_Diabetes/Diabetes_Results/Diabetestest_Data\"\n",
    "A1c_low_Train_data_path=\"/home/edlitzy/UKBB_Tree_Runs/For_article/A1c_strat/Strat_L20_H39_Antro_neto_whr_Diabetes/Diabetes_Results/Diabetestrain_Data\"\n",
    "\n",
    "with open(A1c_low_Test_data_path, 'rb') as fp:\n",
    "        A1c_low_Test_data= pickle.load(fp)\n",
    "\n",
    "with open(A1c_low_Train_data_path, 'rb') as fp:\n",
    "        A1c_low_Train_data = pickle.load(fp)\n",
    "\n",
    "\n",
    "A1c_high_Test_data_path=\"/home/edlitzy/UKBB_Tree_Runs/For_article/A1c_strat/Strat_L39_Antro_neto_whr_Diabetes/Diabetes_Results/Diabetestest_Data\"\n",
    "A1c_high_Train_data_path=\"/home/edlitzy/UKBB_Tree_Runs/For_article/A1c_strat/Strat_L39_Antro_neto_whr_Diabetes/Diabetes_Results/Diabetestrain_Data\"\n",
    "\n"
   ],
   "metadata": {
    "collapsed": false,
    "pycharm": {
     "name": "#%%\n"
    }
   }
  },
  {
   "cell_type": "code",
   "execution_count": null,
   "outputs": [],
   "source": [],
   "metadata": {
    "collapsed": false,
    "pycharm": {
     "name": "#%%\n"
    }
   }
  }
 ],
 "metadata": {
  "kernelspec": {
   "display_name": "Python 3",
   "language": "python",
   "name": "python3"
  },
  "language_info": {
   "codemirror_mode": {
    "name": "ipython",
    "version": 2
   },
   "file_extension": ".py",
   "mimetype": "text/x-python",
   "name": "python",
   "nbconvert_exporter": "python",
   "pygments_lexer": "ipython2",
   "version": "2.7.6"
  }
 },
 "nbformat": 4,
 "nbformat_minor": 0
}