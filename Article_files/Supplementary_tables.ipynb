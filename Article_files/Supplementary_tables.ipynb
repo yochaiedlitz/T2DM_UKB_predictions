{
 "cells": [
  {
   "cell_type": "code",
   "execution_count": null,
   "outputs": [],
   "source": [],
   "metadata": {
    "collapsed": false,
    "pycharm": {
     "name": "#%%\n"
    }
   }
  },
  {
   "cell_type": "code",
   "execution_count": 1,
   "outputs": [
    {
     "name": "stdout",
     "output_type": "stream",
     "text": [
      "['/home/edlitzy/PycharmProjects/UKBB_p3/Article_files', '/home/edlitzy/PycharmProjects/LabQueue', '/home/edlitzy/PycharmProjects/LabUtils', '/home/edlitzy/PycharmProjects/LabUtils/LabUtils', '/home/edlitzy/PycharmProjects/LabData', '/home/edlitzy/PycharmProjects/Jup_Notebooks', '/home/edlitzy/PycharmProjects/UKBB_p3', '/home/edlitzy/pnp3/lib', '/home/edlitzy/PycharmProjects/UKBB_p3/Scoreboards', '/home/edlitzy/PycharmProjects/UKBB_p3/Configs', '/home/edlitzy/PycharmProjects/UKBB_p3/Article_files', '/home/edlitzy/PycharmProjects/UKBB_p3/PRS', '/home/edlitzy/pnp3/lib/queue_tal', '/home/edlitzy/Develop/Python/lib', '/usr/wisdom/python', '/usr/wisdom/python3.8/bin/python3.8', '/usr/wisdom/python3.8/bin/python3', '/usr/wisdom/python/lib/python2.7/sitepackages', '/usr/wisdom/python/lib/python2.7/site-packages/deeptools', '/home/edlitzy/pnp3/Microbiome', '/home/edlitzy/pnp3/PNPapers', '/home/edlitzy/pnp3/PNPredictor', '/home/edlitzy/pnp3/PNP', '/home/edlitzy/pnp3/PNPChip/PNPChip/home/edlitzy/pnp3/lib', '/home/edlitzy/pnp3/pnp3', '/net/mraid08/export/genie/Data/FTIR', '/home/edlitzy/pnp3', '/home/edlitzy/PycharmProjects/UKBB_p3/Survival_analysis', '/home/edlitzy/PycharmProjects/UKBB', '/home/edlitzy/pnp3/FTIR', '/home/edlitzy/pnp3/FTIR/Configs', '/usr/wisdom/python-3.7.4/lib/python37.zip', '/usr/wisdom/python-3.7.4/lib/python3.7', '/usr/wisdom/python-3.7.4/lib/python3.7/lib-dynload', '', '/home/edlitzy/.local/lib/python3.7/site-packages', '/usr/wisdom/python-3.7.4/lib/python3.7/site-packages', '/usr/wisdom/python-3.7.4/lib/python3.7/site-packages/IPython/extensions', '/home/edlitzy/.ipython']\n"
     ]
    }
   ],
   "source": [
    "%load_ext autoreload\n",
    "%autoreload 2\n",
    "import sys\n",
    "# /home/edlitzy/PycharmProjects/UKBB\n",
    "print(sys.path)\n",
    "from UKBB_article_plots_config import *\n",
    "from UKBB_article_plots_functions import *\n",
    "from LabData import config_global as config\n",
    "from LabUtils.addloglevels import sethandlers\n",
    "from LabQueue.qp import fakeqp\n",
    "qp = config.qp\n",
    "qp=fakeqp\n",
    "# sethandlers()"
   ],
   "metadata": {
    "collapsed": false,
    "pycharm": {
     "name": "#%%\n"
    }
   }
  },
  {
   "cell_type": "code",
   "execution_count": 5,
   "outputs": [
    {
     "name": "stdout",
     "output_type": "stream",
     "text": [
      "('Root path:', '/home/edlitzy/UKBB_Tree_Runs/For_article/Revision_runs/results_folder/Singles_GBDT/')\n"
     ]
    },
    {
     "ename": "ValueError",
     "evalue": "No objects to concatenate",
     "output_type": "error",
     "traceback": [
      "\u001B[0;31m---------------------------------------------------------------------------\u001B[0m",
      "\u001B[0;31mValueError\u001B[0m                                Traceback (most recent call last)",
      "\u001B[0;32m<ipython-input-5-965215e8774c>\u001B[0m in \u001B[0;36m<module>\u001B[0;34m\u001B[0m\n\u001B[1;32m      4\u001B[0m     \u001B[0msave_to_file\u001B[0m\u001B[0;34m=\u001B[0m\u001B[0;32mTrue\u001B[0m\u001B[0;34m,\u001B[0m\u001B[0;34m\u001B[0m\u001B[0;34m\u001B[0m\u001B[0m\n\u001B[1;32m      5\u001B[0m     \u001B[0mupdate\u001B[0m\u001B[0;34m=\u001B[0m\u001B[0;32mTrue\u001B[0m\u001B[0;34m,\u001B[0m\u001B[0;34m\u001B[0m\u001B[0;34m\u001B[0m\u001B[0m\n\u001B[0;32m----> 6\u001B[0;31m     save_prefix=\"Singles_GBDT\")\n\u001B[0m\u001B[1;32m      7\u001B[0m \u001B[0;34m\u001B[0m\u001B[0m\n",
      "\u001B[0;32m~/PycharmProjects/UKBB_p3/Article_files/UKBB_article_plots_functions.py\u001B[0m in \u001B[0;36m__init__\u001B[0;34m(self, root_path, save_to_file, update, save_prefix, save_path)\u001B[0m\n\u001B[1;32m    337\u001B[0m                     \u001B[0mci_csv_list\u001B[0m\u001B[0;34m.\u001B[0m\u001B[0mappend\u001B[0m\u001B[0;34m(\u001B[0m\u001B[0mtmp_csv\u001B[0m\u001B[0;34m)\u001B[0m\u001B[0;34m\u001B[0m\u001B[0;34m\u001B[0m\u001B[0m\n\u001B[1;32m    338\u001B[0m                     \u001B[0madded_file_list\u001B[0m\u001B[0;34m.\u001B[0m\u001B[0mappend\u001B[0m\u001B[0;34m(\u001B[0m\u001B[0mname\u001B[0m\u001B[0;34m)\u001B[0m\u001B[0;34m\u001B[0m\u001B[0;34m\u001B[0m\u001B[0m\n\u001B[0;32m--> 339\u001B[0;31m         \u001B[0muploaded_new_CI_table\u001B[0m \u001B[0;34m=\u001B[0m \u001B[0mpd\u001B[0m\u001B[0;34m.\u001B[0m\u001B[0mconcat\u001B[0m\u001B[0;34m(\u001B[0m\u001B[0mci_csv_list\u001B[0m\u001B[0;34m)\u001B[0m\u001B[0;34m\u001B[0m\u001B[0;34m\u001B[0m\u001B[0m\n\u001B[0m\u001B[1;32m    340\u001B[0m         \u001B[0muploaded_new_CI_table\u001B[0m\u001B[0;34m.\u001B[0m\u001B[0mindex\u001B[0m\u001B[0;34m.\u001B[0m\u001B[0mname\u001B[0m \u001B[0;34m=\u001B[0m \u001B[0;34m\"File name\"\u001B[0m\u001B[0;34m\u001B[0m\u001B[0;34m\u001B[0m\u001B[0m\n\u001B[1;32m    341\u001B[0m \u001B[0;34m\u001B[0m\u001B[0m\n",
      "\u001B[0;32m/usr/wisdom/python-3.7.4/lib/python3.7/site-packages/pandas/core/reshape/concat.py\u001B[0m in \u001B[0;36mconcat\u001B[0;34m(objs, axis, join, ignore_index, keys, levels, names, verify_integrity, sort, copy)\u001B[0m\n\u001B[1;32m    293\u001B[0m         \u001B[0mverify_integrity\u001B[0m\u001B[0;34m=\u001B[0m\u001B[0mverify_integrity\u001B[0m\u001B[0;34m,\u001B[0m\u001B[0;34m\u001B[0m\u001B[0;34m\u001B[0m\u001B[0m\n\u001B[1;32m    294\u001B[0m         \u001B[0mcopy\u001B[0m\u001B[0;34m=\u001B[0m\u001B[0mcopy\u001B[0m\u001B[0;34m,\u001B[0m\u001B[0;34m\u001B[0m\u001B[0;34m\u001B[0m\u001B[0m\n\u001B[0;32m--> 295\u001B[0;31m         \u001B[0msort\u001B[0m\u001B[0;34m=\u001B[0m\u001B[0msort\u001B[0m\u001B[0;34m,\u001B[0m\u001B[0;34m\u001B[0m\u001B[0;34m\u001B[0m\u001B[0m\n\u001B[0m\u001B[1;32m    296\u001B[0m     )\n\u001B[1;32m    297\u001B[0m \u001B[0;34m\u001B[0m\u001B[0m\n",
      "\u001B[0;32m/usr/wisdom/python-3.7.4/lib/python3.7/site-packages/pandas/core/reshape/concat.py\u001B[0m in \u001B[0;36m__init__\u001B[0;34m(self, objs, axis, join, keys, levels, names, ignore_index, verify_integrity, copy, sort)\u001B[0m\n\u001B[1;32m    340\u001B[0m \u001B[0;34m\u001B[0m\u001B[0m\n\u001B[1;32m    341\u001B[0m         \u001B[0;32mif\u001B[0m \u001B[0mlen\u001B[0m\u001B[0;34m(\u001B[0m\u001B[0mobjs\u001B[0m\u001B[0;34m)\u001B[0m \u001B[0;34m==\u001B[0m \u001B[0;36m0\u001B[0m\u001B[0;34m:\u001B[0m\u001B[0;34m\u001B[0m\u001B[0;34m\u001B[0m\u001B[0m\n\u001B[0;32m--> 342\u001B[0;31m             \u001B[0;32mraise\u001B[0m \u001B[0mValueError\u001B[0m\u001B[0;34m(\u001B[0m\u001B[0;34m\"No objects to concatenate\"\u001B[0m\u001B[0;34m)\u001B[0m\u001B[0;34m\u001B[0m\u001B[0;34m\u001B[0m\u001B[0m\n\u001B[0m\u001B[1;32m    343\u001B[0m \u001B[0;34m\u001B[0m\u001B[0m\n\u001B[1;32m    344\u001B[0m         \u001B[0;32mif\u001B[0m \u001B[0mkeys\u001B[0m \u001B[0;32mis\u001B[0m \u001B[0;32mNone\u001B[0m\u001B[0;34m:\u001B[0m\u001B[0;34m\u001B[0m\u001B[0;34m\u001B[0m\u001B[0m\n",
      "\u001B[0;31mValueError\u001B[0m: No objects to concatenate"
     ]
    }
   ],
   "source": [
    "singles_gbdt_path=\"/home/edlitzy/UKBB_Tree_Runs/For_article/Revision_runs/results_folder/Singles_GBDT/\"\n",
    "conversion_files_obj = CI_Summary_table_object(\n",
    "    root_path=singles_gbdt_path,\n",
    "    save_to_file=True,\n",
    "    update=True,\n",
    "    save_prefix=\"Singles_GBDT\")"
   ],
   "metadata": {
    "collapsed": false,
    "pycharm": {
     "name": "#%%\n"
    }
   }
  },
  {
   "cell_type": "code",
   "execution_count": null,
   "outputs": [],
   "source": [
    "conversion_files_obj.CI_Summary_table"
   ],
   "metadata": {
    "collapsed": false,
    "pycharm": {
     "name": "#%%\n"
    }
   }
  },
  {
   "cell_type": "code",
   "execution_count": null,
   "outputs": [],
   "source": [
    "conversion_files_df = conversion_files_obj.get()\n",
    "ci_path_dict = conversion_files_obj.get_ci_path_dict()\n",
    "color_dict = conversion_files_obj.color_dict\n",
    "variables_dict = conversion_files_obj.get_UKBB_dict()\n",
    "figsize = (30, 24)\n",
    "ticks_font_size = 72\n",
    "font_size = 72\n",
    "legend_font_size = 72\n",
    "label_size = 72\n",
    "legend_len = 20\n",
    "sort = True"
   ],
   "metadata": {
    "collapsed": false,
    "pycharm": {
     "name": "#%%\n"
    }
   }
  },
  {
   "cell_type": "code",
   "execution_count": null,
   "outputs": [],
   "source": [
    "conversion_files_df"
   ],
   "metadata": {
    "collapsed": false,
    "pycharm": {
     "name": "#%%\n"
    }
   }
  },
  {
   "cell_type": "code",
   "execution_count": null,
   "outputs": [],
   "source": [
    "labels_dict = upload_ukbb_dict()\n",
    "# labels_dict"
   ],
   "metadata": {
    "collapsed": false,
    "pycharm": {
     "name": "#%%\n"
    }
   }
  },
  {
   "cell_type": "code",
   "execution_count": null,
   "outputs": [],
   "source": [
    "# # Figure 1\n",
    "\n",
    "# directories_path = \"/home/edlitzy/UKBB_Tree_Runs/For_article/Imputed_screened/Scoreboards/Scoreboards_Baseline_compare/\"  # For seldom categories\n",
    "directories_path = \"/home/edlitzy/UKBB_Tree_Runs/For_article/Revision_runs/results_folder/\"\n",
    "\n",
    "dirs_names = [\n",
    "    'SA_GDRS_revision', 'LR_Finrisc','LR_Anthro_scoreboard',\n",
    "    \"LR_No_reticulocytes_scoreboard\",\"LR_Antro_neto_whr\",\n",
    "    \"LR_No_reticulocytes\"\n",
    "    ,\"All_Diabetes\",\"LR_Blood_Tests\"]#,\n",
    "\n",
    "CI_Results_path = \"/home/edlitzy/UKBB_Tree_Runs/For_article/Revision_runs/results_folder/Revisioned_CI_Summary.csv\"\n",
    "conversion_files_df = pd.read_csv(CI_Results_path, index_col=\"File name\")\n",
    "results_directory_name = \"Diabetes_Results\""
   ],
   "metadata": {
    "collapsed": false,
    "pycharm": {
     "name": "#%%\n"
    }
   }
  },
  {
   "cell_type": "code",
   "execution_count": null,
   "outputs": [],
   "source": [
    "df, precision_list, recall_list, fpr_list, tpr_list = calc_roc_aps_lists(\n",
    "    directories_path=directories_path, dirs_names=dirs_names, conversion_files_df=conversion_files_df)"
   ],
   "metadata": {
    "collapsed": false,
    "pycharm": {
     "name": "#%%\n"
    }
   }
  },
  {
   "cell_type": "code",
   "execution_count": null,
   "outputs": [],
   "source": [
    "directories_path"
   ],
   "metadata": {
    "collapsed": false,
    "pycharm": {
     "name": "#%%\n"
    }
   }
  },
  {
   "cell_type": "code",
   "execution_count": null,
   "outputs": [],
   "source": [
    "df"
   ],
   "metadata": {
    "collapsed": false,
    "pycharm": {
     "name": "#%%\n"
    }
   }
  },
  {
   "cell_type": "code",
   "execution_count": null,
   "outputs": [],
   "source": [
    "ci_dict_path = conversion_files_obj.get_specific_ci_path_dict(df.index.values)\n",
    "sort = True\n",
    "txt_font_size = font_size - 16\n",
    "\n",
    "# ## APS\n",
    "rel_df=df.loc[['GDRS SA', 'FINDRISC LR','Anthropometry scoreboard LR',\n",
    "               \"Four blood tests scoreboard LR\"],:]"
   ],
   "metadata": {
    "collapsed": false,
    "pycharm": {
     "name": "#%%\n"
    }
   }
  },
  {
   "cell_type": "code",
   "execution_count": null,
   "outputs": [],
   "source": [
    "# ### plot PR CI plot\n",
    "\n",
    "rel_df = rel_df.sort_values(by=\"APS\")\n",
    "pr_ci_path = \"/home/edlitzy/UKBB_Tree_Runs/For_article/Revision_runs/figures/scoreboards_compare_1_aps_ci.png\"\n",
    "labels = df.index.values\n",
    "labels"
   ],
   "metadata": {
    "collapsed": false,
    "pycharm": {
     "name": "#%%\n"
    }
   }
  },
  {
   "cell_type": "code",
   "execution_count": null,
   "outputs": [],
   "source": [
    "color_dict,colors_df = conversion_files_obj.load_color_dict()"
   ],
   "metadata": {
    "collapsed": false,
    "pycharm": {
     "name": "#%%\n"
    }
   }
  },
  {
   "cell_type": "code",
   "execution_count": null,
   "outputs": [],
   "source": [
    "rel_df"
   ],
   "metadata": {
    "collapsed": false,
    "pycharm": {
     "name": "#%%\n"
    }
   }
  },
  {
   "cell_type": "code",
   "execution_count": null,
   "outputs": [],
   "source": [
    "ax = plot_aps_ci(df=rel_df, ci_dict_path=ci_dict_path, color_dict=color_dict, lw=0.15, leg_pos=(0.45, 0.42),\n",
    "                 alpha=0.25, num_of_files=None, xlabels=[\"0\", \"0.2\", \"0.4\", \"0.6\", \"0.8\", \"1\"],\n",
    "                 ylabels=[\"0\", \"0.25\", \"0.5\", \"0.75\", \"1\"],\n",
    "                 xy_lines=None, lines_color=['green', 'yellow'],\n",
    "                 pr_ci_path=pr_ci_path, figsize=figsize, fontsize=font_size,\n",
    "                 short_labels=True, x_txt=0.23,\n",
    "                 y_txt=0.95)"
   ],
   "metadata": {
    "collapsed": false,
    "pycharm": {
     "name": "#%%\n"
    }
   }
  },
  {
   "cell_type": "code",
   "execution_count": null,
   "outputs": [],
   "source": [
    "roc_ci_path = \"/home/edlitzy/UKBB_Tree_Runs/For_article/Revision_runs/figures/scoreboards_compare_roc_ci.png\"\n",
    "plot_roc_ci(df=rel_df, ci_dict_path=ci_dict_path, color_dict=color_dict, lw=0.2, leg_pos=(0.44, 0.01), alpha=0.3,\n",
    "            num_of_files=None, xlabels=[\"0\", \"0.25\", \"0.5\", \"0.75\", \"1\"], roc_ci_path=roc_ci_path,\n",
    "            num_of_chars=20, x_txt=0.6, y_txt=0.55, figsize=figsize,\n",
    "            fontsize=font_size, facecolor=\"white\",legend_font_size=font_size)"
   ],
   "metadata": {
    "collapsed": false,
    "pycharm": {
     "name": "#%%\n"
    }
   }
  },
  {
   "cell_type": "code",
   "execution_count": null,
   "outputs": [],
   "source": [
    "xlabels = [str(x) for x in np.arange(1, 11)]\n",
    "colors_df = pd.read_csv(\"/home/edlitzy/UKBB_Tree_Runs/For_article/colors.csv\", index_col=\"File name\")\n",
    "colors_df\n",
    "folder_path = \"/home/edlitzy/UKBB_Tree_Runs/For_article/Revision_runs/results_folder/\"  # For seldom categories\n",
    "folders_basename_list=['SA_GDRS_revision', 'LR_Finrisc','LR_Anthro_scoreboard_revision',\n",
    "                       \"LR_No_reticulocytes_scoreboard\"]"
   ],
   "metadata": {
    "collapsed": false,
    "pycharm": {
     "name": "#%%\n"
    }
   }
  },
  {
   "cell_type": "code",
   "execution_count": null,
   "outputs": [],
   "source": [
    "os.chdir('/net/mraid08/export/jafar/Microbiome/Analyses/Edlitzy/tempq_files/')\n",
    "rank_df_tot=calc_folders_Rank_df(\n",
    "    folder_path, bins=10, low_quantile=0.1, top_quantile=1, save=True,\n",
    "                     recalc=False,num_of_files=1000,minimal_diagnosed=1,qp=qp)"
   ],
   "metadata": {
    "collapsed": false,
    "pycharm": {
     "name": "#%%\n"
    }
   }
  },
  {
   "cell_type": "code",
   "execution_count": null,
   "outputs": [],
   "source": [
    "rank_df_tot.head(5)"
   ],
   "metadata": {
    "collapsed": false,
    "pycharm": {
     "name": "#%%\n"
    }
   }
  },
  {
   "cell_type": "code",
   "execution_count": null,
   "outputs": [],
   "source": [
    "folder_path=\"/net/mraid08/export/jafar/Yochai/UKBB_Runs/For_article/Revision_runs/results_folder\""
   ],
   "metadata": {
    "collapsed": false,
    "pycharm": {
     "name": "#%%\n"
    }
   }
  },
  {
   "cell_type": "code",
   "execution_count": null,
   "outputs": [],
   "source": [
    "folder_path = \"/home/edlitzy/UKBB_Tree_Runs/For_article/Revision_runs/results_folder/\"\n",
    "CI_percentile_neto_df=calc_CI_percentile(\n",
    "    folder_path, category=\"Fold\", alpha=0.95, plot_hist=False,\n",
    "                       calc_precentile=True, save_hist=[], dpi=200, prefix=\"10\")\n",
    "CI_percentile_neto_df"
   ],
   "metadata": {
    "collapsed": false,
    "pycharm": {
     "name": "#%%\n"
    }
   }
  },
  {
   "cell_type": "code",
   "execution_count": null,
   "outputs": [],
   "source": [
    "CI_percentile_neto_df"
   ],
   "metadata": {
    "collapsed": false,
    "pycharm": {
     "name": "#%%\n"
    }
   }
  },
  {
   "cell_type": "code",
   "execution_count": null,
   "outputs": [],
   "source": [
    "Final_results_df=df.join(CI_percentile_neto_df,how=\"inner\",)"
   ],
   "metadata": {
    "collapsed": false,
    "pycharm": {
     "name": "#%%\n"
    }
   }
  },
  {
   "cell_type": "code",
   "execution_count": null,
   "outputs": [],
   "source": [
    "# folder_path = \"/home/edlitzy/UKBB_Tree_Runs/For_article/Imputed_screened/New_Baseline_compare\"\n",
    "fig_path = \"/home/edlitzy/UKBB_Tree_Runs/For_article/Revision_runs/figures/Quantlites_baseline_compare.jpg\"\n",
    "print(os.listdir(folder_path))\n",
    "\n",
    "colors_df = pd.read_csv(\"/home/edlitzy/UKBB_Tree_Runs/For_article/colors.csv\", index_col=\"File name\")\n",
    "# all_dirs=['A1c_strat', 'New_Addings', 'New_Singles', 'New_Singles_LR']\n",
    "# folders_basename_list = ['SA_GDRS', 'LR_Finrisc', 'LR_Antro_neto_whr', 'LR_Five_Blood_Tests',\n",
    "#                          \"All_Diabetes\"]\n",
    "folders_basename_list=['SA_GDRS_revision', 'LR_Finrisc','LR_Anthro_scoreboard',\n",
    "                       \"LR_No_reticulocytes_scoreboard\"]\n",
    "folders_list = [os.path.join(folder_path, x) for x in folders_basename_list]\n",
    "hue_order = folders_basename_list"
   ],
   "metadata": {
    "collapsed": false,
    "pycharm": {
     "name": "#%%\n"
    }
   }
  },
  {
   "cell_type": "code",
   "execution_count": null,
   "outputs": [],
   "source": [
    "plot_quantiles_sns(folders_list, ci=\"sd\",\n",
    "                   n_boots=1,\n",
    "                   hue_order=hue_order,\n",
    "                   font_scale=7,\n",
    "                   kind=\"bar\",\n",
    "                   x_labels=xlabels,\n",
    "                   leg_labels=None,\n",
    "                   quantiles_ci_table=CI_percentile_neto_df,\n",
    "                   x_name=\"Quantile\",\n",
    "                   y_name=\"Deciles fold ratio\",\n",
    "                   fig_path=fig_path,\n",
    "                   dpi=200,\n",
    "                   fontsize=font_size,\n",
    "                   fig_size=figsize, y_scale=\"log\",\n",
    "                   leg_title=\"Deciles' OR\", leg_bbox_to_anchor=(0.61, 0.84),\n",
    "                   leg_loc='center right',\n",
    "                   framealpha=0.5,\n",
    "                   frameon=True,style=\"white\" )\n",
    "\n",
    "# ## Feature importance\n",
    "\n",
    "# ### Anthropometry"
   ],
   "metadata": {
    "collapsed": false,
    "pycharm": {
     "name": "#%%\n"
    }
   }
  },
  {
   "cell_type": "code",
   "execution_count": null,
   "outputs": [],
   "source": [
    "figsize = (30, 24)\n",
    "font_size = 72\n",
    "num_feat = 10\n",
    "labels_dict,labels_df = upload_ukbb_dict()\n",
    "file_names_list = ['LR_Antro_neto_whr']\n",
    "Folder_path = [\"/home/edlitzy/UKBB_Tree_Runs/For_article/Revision_runs/results_folder/LR_Antro_neto_whr\"]\n",
    "table_save_path = \"/net/mraid08/export/jafar/Yochai/UKBB_Runs/For_article/Revision_runs/\" \\\n",
    "                  \"Tables/LR_Antro_neto_whr_features_importance.csv\"\n",
    "figpath = \"/net/mraid08/export/jafar/Yochai/UKBB_Runs/For_article/Revision_runs/\" \\\n",
    "          \"figures/LR_Anthro.png\"\n",
    "hue_colors_dict = {\"LR_Antro_neto_whr\": \"darkgreen\"}\n",
    "# order=[\"30750-0.0\",\"30250-0.0\",\"21003-4.0\",\"30730-0.0\",\"30870-0.0\",\n",
    "#                        \"31-0.0_0.0\",\"21003-3.0\",\"30760-0.0\",\"Bias\"]\n",
    "#plot_type=\"bar_plot\",\n",
    "coeffs_table_obj = LR_Feature_importance(\n",
    "    folder_path=Folder_path,\n",
    "    positive_colors=\"green\",\n",
    "    negative_colors=\"lime\",\n",
    "    linespacing=1,\n",
    "    plot=True,\n",
    "    font_scale=5,\n",
    "    leg_labels=[\"Anthropometrics\"],\n",
    "    leg_title=None,\n",
    "    leg_pos=[0.9, 0.9],\n",
    "    hue_type=\"binary\",\n",
    "    figsize=figsize,\n",
    "    font_size=font_size,\n",
    "    n_boots=10,\n",
    "    space=0.2,\n",
    "    fig_path=figpath,\n",
    "    labels_dict=labels_dict,\n",
    "    table_save_path=table_save_path,\n",
    "    hue_colors_dict=hue_colors_dict,\n",
    "    file_names_list=file_names_list,\n",
    "    show_values_on_bar=True,\n",
    "    remove_legend=True,\n",
    "    ci_summary_table_name=\"LR_Anthro_features.csv\",\n",
    "    build_new=True,\n",
    "    style=\"white\")"
   ],
   "metadata": {
    "collapsed": false,
    "pycharm": {
     "name": "#%%\n"
    }
   }
  },
  {
   "cell_type": "code",
   "execution_count": null,
   "outputs": [],
   "source": [
    "#folder_path = \"/home/edlitzy/UKBB_Tree_Runs/For_article/Revision_runs/results_folder/\"  # For seldom categories\n",
    "# folders_basename_list=['SA_GDRS_revision', 'LR_Finrisc','LR_Anthro_scoreboard_revision',\n",
    "#                        \"LR_No_reticulocytes_scoreboard\"]\n",
    "# 'LR_Anthro_scoreboard',\"LR_Five_blood_tests_scoreboard\"\n",
    "# 'LR_Anthro_scoreboard',\"LR_Five_blood_tests_scoreboard\"\n",
    "figsize = (30, 24)\n",
    "font_size = 72\n",
    "num_feat = 10\n",
    "labels_dict,labels_df = upload_ukbb_dict()\n",
    "file_names_list = ['LR_No_reticulocytes']\n",
    "Folder_path = [\"/net/mraid08/export/jafar/Yochai/UKBB_Runs/For_article/Revision_runs/results_folder/LR_No_reticulocytes/\"]\n",
    "table_save_path = \"/net/mraid08/export/jafar/Yochai/UKBB_Runs/For_article/Revision_runs/Tables/\" \\\n",
    "                  \"LR_No_reticulocytes.csv\"\n",
    "figpath = \"/net/mraid08/export/jafar/Yochai/UKBB_Runs/For_article/Revision_runs/figures/LR_No_reticulocytes.png\"\n",
    "hue_colors_dict = {\"LR_No_reticulocytes\": \"lightcoral\"}\n",
    "# order=[\"30750-0.0\",\"30250-0.0\",\"21003-4.0\",\"30730-0.0\",\"30870-0.0\",\n",
    "#                        \"31-0.0_0.0\",\"21003-3.0\",\"30760-0.0\",\"Bias\"]\n",
    "#plot_type=\"bar_plot\",\n",
    "coeffs_table_obj = LR_Feature_importance(\n",
    "    folder_path=Folder_path,\n",
    "    positive_colors=\"green\",\n",
    "    negative_colors=\"lime\",\n",
    "    linespacing=1,\n",
    "    plot=True,\n",
    "    font_scale=5,\n",
    "    leg_labels=[\"Four blood tests\"],\n",
    "    leg_title=None,\n",
    "    leg_pos=[0.9, 0.9],\n",
    "    hue_type=\"binary\",\n",
    "    figsize=figsize,\n",
    "    font_size=font_size,\n",
    "    n_boots=10,\n",
    "    space=0.2,\n",
    "    fig_path=figpath,\n",
    "    labels_dict=labels_dict,\n",
    "    table_save_path=table_save_path,\n",
    "    hue_colors_dict=hue_colors_dict,\n",
    "    file_names_list=file_names_list,\n",
    "    show_values_on_bar=True,\n",
    "    remove_legend=True,\n",
    "    ci_summary_table_name=\"LR_No_reticulocytes.csv\",\n",
    "    build_new=True,style=\"white\")\n",
    "\n"
   ],
   "metadata": {
    "collapsed": false,
    "pycharm": {
     "name": "#%%\n"
    }
   }
  },
  {
   "cell_type": "code",
   "execution_count": null,
   "outputs": [],
   "source": [
    "  ### Blood tests stratification\n",
    "\n",
    "\n",
    "# color_dict=dict(zip(df.sort_values(by=\"AUC\",ascending=True).index.values,cmap))\n",
    "\n",
    "# Folder_path = \"/home/edlitzy/UKBB_Tree_Runs/For_article/Imputed_screened/Scoreboards/Scoreboards_Baseline_compare/\"\n",
    "# model_path = os.path.join(Folder_path, \"LR_Model.sav\")\n",
    "# use_cols_path = os.path.join(Folder_path, \"use_cols.txt\")\n",
    "# with open(use_cols_path, \"rb\") as fp:  # Pickling\n",
    "#     use_cols = pickle.load(fp)\n",
    "# use_cols = [x for x in use_cols if x != \"eid\"]\n",
    "# lr_model = pickle.load(open(model_path, 'rb'))"
   ],
   "metadata": {
    "collapsed": false,
    "pycharm": {
     "name": "#%%\n"
    }
   }
  },
  {
   "cell_type": "code",
   "execution_count": null,
   "outputs": [],
   "source": [
    "# color='plasma'\n",
    "# cmap = sns.color_palette(color, df.shape[0])\n",
    "labels = df.index.values\n",
    "\n",
    "# # Updated figure scoreboards_compare\n",
    "\n",
    "from collections import OrderedDict\n",
    "\n",
    "labels_colors_dict = OrderedDict([(\"GDRS\", \"gray\"), (\"FINDRISC\", \"gold\"),\n",
    "                                  (\"Scoreboard\\n Anthropometry\", \"lightgreen\"),\n",
    "                                  (\"Scoreboard\\nFour blood tests\", \"red\"),\n",
    "                                  (\"Logistic regression\\n Anthropometry\", \"darkgreen\"),\n",
    "                                  (\"Logistic regression\\nFour blood tests\", \"lightcoral\")])\n",
    "fig_path = \"/net/mraid08/export/jafar/Yochai/UKBB_Runs/For_article/Revision_runs/figures/colors_legend.jpg\"\n",
    "# plot_legend(figsize=(7, 1), fig_path=fig_path, colors_dict=labels_colors_dict, ncolumns=5, font_size=12,\n",
    "#             leg_text=None)\n",
    "plot_legend(fig_path=fig_path, colors_dict=labels_colors_dict, ncolumns=6, font_size=12,\n",
    "            leg_text=None)"
   ],
   "metadata": {
    "collapsed": false,
    "pycharm": {
     "name": "#%%\n"
    }
   }
  },
  {
   "cell_type": "code",
   "execution_count": null,
   "outputs": [],
   "source": [
    "os.listdir(\"/net/mraid08/export/jafar/Yochai/UKBB_Runs/For_article/Imputed_screened/figures/Scoreboard/\")"
   ],
   "metadata": {
    "collapsed": false,
    "pycharm": {
     "name": "#%%\n"
    }
   }
  },
  {
   "cell_type": "code",
   "execution_count": null,
   "outputs": [],
   "source": [
    "figs_path=\"/net/mraid08/export/jafar/Yochai/UKBB_Runs/For_article/Revision_runs/figures\"\n",
    "fig1 = plt.figure(constrained_layout=True, figsize=(7, 10))\n",
    "gs = gridspec.GridSpec(ncols=4, nrows=63, wspace=0.1, hspace=0.2)\n",
    "aspect = 'auto'\n",
    "\n",
    "f1_ax1 = fig1.add_subplot(gs[0:20, 0:2])\n",
    "roc_path = os.path.join(figs_path,\"scoreboards_compare_roc_ci.png\")\n",
    "plot_ax(roc_path, f1_ax1, \"A\", aspect=aspect, pos=(-0.02, 1))\n",
    "\n",
    "APS_path = os.path.join(figs_path,\"scoreboards_compare_1_aps_ci.png\")\n",
    "f1_ax2 = fig1.add_subplot(gs[0:20, 2:])\n",
    "plot_ax(APS_path, f1_ax2, \"B\", aspect=aspect, pos=(0.02, 1))\n",
    "\n",
    "f1_ax3 = fig1.add_subplot(gs[20:40, :2])\n",
    "quantile_path = os.path.join(figs_path,\"Quantlites_baseline_compare.jpg\")\n",
    "plot_ax(quantile_path, f1_ax3, \"C\", aspect=aspect, pos=(-0.02, 1))\n",
    "\n",
    "f1_ax4 = fig1.add_subplot(gs[20:40, 2:])\n",
    "Anthro_Feature_importance_path = os.path.join(figs_path,\"LR_Anthro.png\")\n",
    "plot_ax(Anthro_Feature_importance_path, f1_ax4, \"D\",\n",
    "        aspect=aspect, pos=(0.02, 1))\n",
    "\n",
    "f1_ax5 = fig1.add_subplot(gs[40:60, :2])\n",
    "BT_Feature_importance_path =os.path.join(figs_path,\"LR_No_reticulocytes.png\")\n",
    "plot_ax(BT_Feature_importance_path, f1_ax5, \"E\",\n",
    "        aspect=aspect, pos=(-0.02, 1))\n",
    "\n",
    "f1_ax6 = fig1.add_subplot(gs[40:60, 2:])\n",
    "calibration_path = os.path.join(figs_path,\n",
    "                                \"isotonic_Naive_Bayes_5_NOF_1001_LR_brier_calibration.png\")\n",
    "plot_ax(calibration_path, f1_ax6, \"F\", aspect=aspect, pos=(0.02, 1))\n",
    "\n",
    "f1_ax7 = fig1.add_subplot(gs[60:, :])\n",
    "legened_path = os.path.join(figs_path,\"colors_legend.jpg\")\n",
    "plot_ax(legened_path, f1_ax7, None, aspect=aspect, pos=(0.02, 1))\n",
    "\n",
    "scoreboards_compare_pdf_path = \"/net/mraid08/export/jafar/Yochai/UKBB_Runs/For_article/Revision_runs/final_figures/scoreboards_compare.pdf\"\n",
    "scoreboards_compare_png_path = \"/net/mraid08/export/jafar/Yochai/UKBB_Runs/For_article/Revision_runs/final_figures/scoreboards_compare.png\"\n",
    "\n",
    "plt.tight_layout()\n",
    "\n",
    "# plt.savefig(scoreboards_compare_path,dpi=600)\n",
    "plt.savefig(scoreboards_compare_pdf_path, bbox_inches='tight', dpi=500, frameon=False)\n",
    "plt.savefig(scoreboards_compare_png_path, bbox_inches='tight', dpi=500, frameon=False)\n",
    "plt.show()"
   ],
   "metadata": {
    "collapsed": false,
    "pycharm": {
     "name": "#%%\n"
    }
   }
  },
  {
   "cell_type": "code",
   "execution_count": null,
   "outputs": [],
   "source": [
    "conversion_files_df"
   ],
   "metadata": {
    "collapsed": false,
    "pycharm": {
     "name": "#%%\n"
    }
   }
  },
  {
   "cell_type": "code",
   "execution_count": null,
   "outputs": [],
   "source": [
    "\n",
    "os.listdir(\"/home/edlitzy/UKBB_Tree_Runs/For_article/A1c_strat/\")\n",
    "directories_path = \"/home/edlitzy/UKBB_Tree_Runs/For_article/Imputed_screened/A1c_strat/\"  # For seldom categories\n",
    "CI_Results_path = \"/home/edlitzy/UKBB_Tree_Runs/For_article/Imputed_screened/Imputed_screened_CI_Summary.csv\"\n",
    "# directories_path=\"/home/edlitzy/UKBB_Tree_Runs/For_article/Adding/\" #For adding categoriesdirectories_path=\"/home/edlitzy/UKBB_Tree_Runs/For_article/Two_hot_Add/\" #For adding categories\n",
    "results_directory_name = \"Diabetes_Results\"\n",
    "df, precision_list, recall_list, fpr_list, tpr_list = calc_roc_aps_lists(\n",
    "    directories_path=directories_path, conversion_files_df=conversion_files_df)\n",
    "\n",
    "color_h = \"magenta\"\n",
    "color_l = \"cyan\"\n",
    "text = \"GDRS- German diabetes risk score\\nFINDRISC-Finnish diabetes risk score\"\n",
    "\n",
    "replace_dict = {\" 5.7<=HbA1c%<6.5\": \"\",\n",
    "                \" 4<=HbA1c%<5.7\": \"\",\n",
    "                \"Anthropometry\": \"Anthro- pometrics\"}\n",
    "\n",
    "comp_roc_path = \"/home/edlitzy/UKBB_Tree_Runs/For_article/Imputed_screened/figures/figure2/fig_2_roc_groups.jpg\"\n",
    "\n",
    "comp_roc_groups(\n",
    "    df,\n",
    "    comp_roc_path=comp_roc_path,\n",
    "    plot=True,\n",
    "    dpi=100,\n",
    "    leg_len=20,\n",
    "    labels_length=10,\n",
    "    leg_pos=(0.02, 0.71),\n",
    "    ylim=(0.5, 0.9),\n",
    "    barWidth=0.4,\n",
    "    x_text=-0.5,\n",
    "    y_text=0.86,\n",
    "    text=text,\n",
    "    color_h=color_h,\n",
    "    color_l=color_l,\n",
    "    fig_size=figsize,\n",
    "    replace_dict=replace_dict,\n",
    "    ylabels=[\"0.5\", \"0.6\", \"0.7\", \"0.8\", \"0.9\"],\n",
    "    high_recogniser='5.7<=HbA1c%<6.5',\n",
    "    low_recogniser='4<=HbA1c%<5.7',\n",
    "\n",
    ")"
   ],
   "metadata": {
    "collapsed": false,
    "pycharm": {
     "name": "#%% In[1414]:\n"
    }
   }
  },
  {
   "cell_type": "code",
   "execution_count": null,
   "outputs": [],
   "source": [
    "LR_Directory_path=\"/home/edlitzy/UKBB_Tree_Runs/For_article/Revision_runs/Compare_singles_LR\""
   ],
   "metadata": {
    "collapsed": false,
    "pycharm": {
     "name": "#%%\n"
    }
   }
  },
  {
   "cell_type": "code",
   "execution_count": null,
   "outputs": [],
   "source": [
    "conversion_files_obj_singles_LR = CI_Summary_table_object(\n",
    "    root_path=\"/home/edlitzy/UKBB_Tree_Runs/For_article/Revision_runs/Compare_singles_LR\",\n",
    "    save_to_file=True,\n",
    "    update=True,\n",
    "    save_prefix=\"Revisioned\")"
   ],
   "metadata": {
    "collapsed": false,
    "pycharm": {
     "name": "#%%\n"
    }
   }
  },
  {
   "cell_type": "code",
   "execution_count": null,
   "outputs": [],
   "source": [
    "conversion_files_df_singles_LR  = conversion_files_obj_singles_LR.get()\n",
    "df_LR, precision_list_LR, recall_list_LR, fpr_list_LR, tpr_list_LR=calc_roc_aps_lists(\n",
    "    directories_path=LR_Directory_path, conversion_files_df=conversion_files_df_singles_LR)\n",
    "df_LR.to_csv(os.path.join(LR_Directory_path,\"LR_Singles_CI_table.csv\"))\n"
   ],
   "metadata": {
    "collapsed": false,
    "pycharm": {
     "name": "#%%\n"
    }
   }
  },
  {
   "cell_type": "code",
   "execution_count": null,
   "outputs": [],
   "source": [
    "\n",
    "figsize = (60, 24)\n",
    "font_size = 72\n",
    "num_feat = 10\n",
    "labels_dict,labels_df = upload_ukbb_dict()\n",
    "file_names_list = ['LR_Socio_demographics']\n",
    "Folder_path = [\"/home/edlitzy/UKBB_Tree_Runs/For_article/Revision_runs/Compare_singles_LR/LR_Socio_demographics\"]\n",
    "table_save_path = \"/net/mraid08/export/jafar/Yochai/UKBB_Runs/For_article/Revision_runs/\" \\\n",
    "                  \"Tables/LR_Socio_demographics_features_importance.csv\"\n",
    "figpath = \"/net/mraid08/export/jafar/Yochai/UKBB_Runs/For_article/Revision_runs/\" \\\n",
    "          \"figures/LR_Socio_demographics_features_importance.png\"\n",
    "hue_colors_dict = {\"LR_Socio_demographics\": \"silver\"}\n",
    "# order=[\"30750-0.0\",\"30250-0.0\",\"21003-4.0\",\"30730-0.0\",\"30870-0.0\",\n",
    "#                        \"31-0.0_0.0\",\"21003-3.0\",\"30760-0.0\",\"Bias\"]\n",
    "#plot_type=\"bar_plot\",\n",
    "coeffs_table_obj = LR_Feature_importance(\n",
    "    folder_path=Folder_path,\n",
    "    positive_colors=\"green\",\n",
    "    negative_colors=\"lime\",\n",
    "    linespacing=1,\n",
    "    plot=True,\n",
    "    font_scale=5,\n",
    "    leg_labels=[\"Sociodemographics\"],\n",
    "    leg_title=None,\n",
    "    leg_pos=[0.9, 0.9],\n",
    "    hue_type=\"binary\",\n",
    "    figsize=figsize,\n",
    "    font_size=font_size,\n",
    "    n_boots=10,\n",
    "    space=0.2,\n",
    "    fig_path=figpath,\n",
    "    labels_dict=labels_dict,\n",
    "    table_save_path=table_save_path,\n",
    "    hue_colors_dict=hue_colors_dict,\n",
    "    file_names_list=file_names_list,\n",
    "    show_values_on_bar=True,\n",
    "    remove_legend=True,\n",
    "    ci_summary_table_name=\"LR_Socio_demographics.csv\",\n",
    "    build_new=True,\n",
    "    style=\"white\")"
   ],
   "metadata": {
    "collapsed": false,
    "pycharm": {
     "name": "#%%\n"
    }
   }
  },
  {
   "cell_type": "code",
   "execution_count": null,
   "outputs": [],
   "source": [
    "\n",
    "\n"
   ],
   "metadata": {
    "collapsed": false,
    "pycharm": {
     "name": "#%%\n"
    }
   }
  }
 ],
 "metadata": {
  "kernelspec": {
   "display_name": "Python 3",
   "language": "python",
   "name": "python3"
  },
  "language_info": {
   "codemirror_mode": {
    "name": "ipython",
    "version": 2
   },
   "file_extension": ".py",
   "mimetype": "text/x-python",
   "name": "python",
   "nbconvert_exporter": "python",
   "pygments_lexer": "ipython2",
   "version": "2.7.6"
  }
 },
 "nbformat": 4,
 "nbformat_minor": 0
}