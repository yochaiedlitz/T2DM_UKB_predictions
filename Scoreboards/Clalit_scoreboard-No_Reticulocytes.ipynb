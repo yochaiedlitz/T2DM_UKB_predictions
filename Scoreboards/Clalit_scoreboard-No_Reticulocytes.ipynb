{
 "cells": [
  {
   "cell_type": "code",
   "execution_count": 1,
   "metadata": {
    "ExecuteTime": {
     "end_time": "2021-11-16T14:06:32.992982Z",
     "start_time": "2021-11-16T14:06:31.751596Z"
    }
   },
   "outputs": [],
   "source": [
    "%load_ext autoreload\n",
    "%autoreload 2\n",
    "import os\n",
    "import sys\n",
    "import pandas as pd\n",
    "add_folders=[\"/home/edlitzy/PycharmProjects/UKBB\"]\n",
    "sys.path.extend([x for x in add_folders if x not in sys.path])\n",
    "from datetime import datetime, timedelta\n",
    "import numpy as np\n",
    "from sklearn.metrics import auc\n",
    "from sklearn.metrics import RocCurveDisplay,PrecisionRecallDisplay"
   ]
  },
  {
   "cell_type": "markdown",
   "metadata": {},
   "source": [
    "# load data"
   ]
  },
  {
   "cell_type": "code",
   "execution_count": 2,
   "metadata": {
    "ExecuteTime": {
     "end_time": "2021-11-16T14:06:33.214695Z",
     "start_time": "2021-11-16T14:06:33.048181Z"
    }
   },
   "outputs": [],
   "source": [
    "data_path=\"/net/mraid08/export/jafar/UKBioBank/Data/Clalit/Clalit_bt.csv\"\n",
    "save_final_df_path=\"/net/mraid08/export/jafar/Yochai/UKBB_Runs/For_article/revision/clalit/scoreboard_results/141121_results.csv\"\n",
    "orig_clalit_df=pd.read_csv(filepath_or_buffer=data_path,index_col=\"pid\")\n",
    "rel_ind=orig_clalit_df[\"Reticulocyte Count\"].dropna().index\n",
    "orig_clalit_df=orig_clalit_df.loc[rel_ind,:]"
   ]
  },
  {
   "cell_type": "code",
   "execution_count": 3,
   "metadata": {
    "ExecuteTime": {
     "end_time": "2021-11-16T14:06:33.367957Z",
     "start_time": "2021-11-16T14:06:33.304413Z"
    }
   },
   "outputs": [
    {
     "data": {
      "text/html": [
       "<div>\n",
       "<style scoped>\n",
       "    .dataframe tbody tr th:only-of-type {\n",
       "        vertical-align: middle;\n",
       "    }\n",
       "\n",
       "    .dataframe tbody tr th {\n",
       "        vertical-align: top;\n",
       "    }\n",
       "\n",
       "    .dataframe thead th {\n",
       "        text-align: right;\n",
       "    }\n",
       "</style>\n",
       "<table border=\"1\" class=\"dataframe\">\n",
       "  <thead>\n",
       "    <tr style=\"text-align: right;\">\n",
       "      <th></th>\n",
       "      <th>first_visit</th>\n",
       "      <th>HbA1c%</th>\n",
       "      <th>datetime_leida</th>\n",
       "      <th>is_male</th>\n",
       "      <th>GGT</th>\n",
       "      <th>Reticulocyte Count</th>\n",
       "      <th>HDL</th>\n",
       "      <th>Triglycerides</th>\n",
       "      <th>diabetes_date</th>\n",
       "      <th>UKB_HbA1c</th>\n",
       "      <th>UKB_reticulocyte_count</th>\n",
       "    </tr>\n",
       "    <tr>\n",
       "      <th>pid</th>\n",
       "      <th></th>\n",
       "      <th></th>\n",
       "      <th></th>\n",
       "      <th></th>\n",
       "      <th></th>\n",
       "      <th></th>\n",
       "      <th></th>\n",
       "      <th></th>\n",
       "      <th></th>\n",
       "      <th></th>\n",
       "      <th></th>\n",
       "    </tr>\n",
       "  </thead>\n",
       "  <tbody>\n",
       "    <tr>\n",
       "      <th>3485</th>\n",
       "      <td>2010-09-05</td>\n",
       "      <td>6.0</td>\n",
       "      <td>1946-04-02</td>\n",
       "      <td>0.0</td>\n",
       "      <td>11.0</td>\n",
       "      <td>62.400000</td>\n",
       "      <td>48.0</td>\n",
       "      <td>129.0</td>\n",
       "      <td>NaN</td>\n",
       "      <td>42.076650</td>\n",
       "      <td>0.062400</td>\n",
       "    </tr>\n",
       "    <tr>\n",
       "      <th>5277</th>\n",
       "      <td>2011-01-16</td>\n",
       "      <td>5.6</td>\n",
       "      <td>1933-06-04</td>\n",
       "      <td>1.0</td>\n",
       "      <td>31.0</td>\n",
       "      <td>0.052000</td>\n",
       "      <td>41.0</td>\n",
       "      <td>157.0</td>\n",
       "      <td>NaN</td>\n",
       "      <td>37.705050</td>\n",
       "      <td>0.000052</td>\n",
       "    </tr>\n",
       "    <tr>\n",
       "      <th>5374</th>\n",
       "      <td>2006-10-29</td>\n",
       "      <td>6.3</td>\n",
       "      <td>1933-03-05</td>\n",
       "      <td>1.0</td>\n",
       "      <td>433.0</td>\n",
       "      <td>19.200001</td>\n",
       "      <td>69.0</td>\n",
       "      <td>65.0</td>\n",
       "      <td>NaN</td>\n",
       "      <td>45.355352</td>\n",
       "      <td>0.019200</td>\n",
       "    </tr>\n",
       "    <tr>\n",
       "      <th>6330</th>\n",
       "      <td>2009-02-19</td>\n",
       "      <td>5.1</td>\n",
       "      <td>1935-09-02</td>\n",
       "      <td>0.0</td>\n",
       "      <td>32.0</td>\n",
       "      <td>204.700000</td>\n",
       "      <td>37.0</td>\n",
       "      <td>209.0</td>\n",
       "      <td>2016-05-26</td>\n",
       "      <td>32.240550</td>\n",
       "      <td>0.204700</td>\n",
       "    </tr>\n",
       "    <tr>\n",
       "      <th>7918</th>\n",
       "      <td>2011-03-20</td>\n",
       "      <td>5.4</td>\n",
       "      <td>1938-08-26</td>\n",
       "      <td>1.0</td>\n",
       "      <td>81.0</td>\n",
       "      <td>67.000000</td>\n",
       "      <td>51.0</td>\n",
       "      <td>105.0</td>\n",
       "      <td>2017-08-06</td>\n",
       "      <td>35.519250</td>\n",
       "      <td>0.067000</td>\n",
       "    </tr>\n",
       "    <tr>\n",
       "      <th>...</th>\n",
       "      <td>...</td>\n",
       "      <td>...</td>\n",
       "      <td>...</td>\n",
       "      <td>...</td>\n",
       "      <td>...</td>\n",
       "      <td>...</td>\n",
       "      <td>...</td>\n",
       "      <td>...</td>\n",
       "      <td>...</td>\n",
       "      <td>...</td>\n",
       "      <td>...</td>\n",
       "    </tr>\n",
       "    <tr>\n",
       "      <th>10056438</th>\n",
       "      <td>2010-07-19</td>\n",
       "      <td>6.1</td>\n",
       "      <td>1938-06-13</td>\n",
       "      <td>0.0</td>\n",
       "      <td>15.0</td>\n",
       "      <td>68.000000</td>\n",
       "      <td>35.0</td>\n",
       "      <td>130.0</td>\n",
       "      <td>NaN</td>\n",
       "      <td>43.169550</td>\n",
       "      <td>0.068000</td>\n",
       "    </tr>\n",
       "    <tr>\n",
       "      <th>10064594</th>\n",
       "      <td>2011-11-13</td>\n",
       "      <td>5.5</td>\n",
       "      <td>1948-09-08</td>\n",
       "      <td>1.0</td>\n",
       "      <td>97.0</td>\n",
       "      <td>168.000000</td>\n",
       "      <td>39.0</td>\n",
       "      <td>60.0</td>\n",
       "      <td>NaN</td>\n",
       "      <td>36.612150</td>\n",
       "      <td>0.168000</td>\n",
       "    </tr>\n",
       "    <tr>\n",
       "      <th>10066521</th>\n",
       "      <td>2011-11-27</td>\n",
       "      <td>5.2</td>\n",
       "      <td>1947-01-29</td>\n",
       "      <td>0.0</td>\n",
       "      <td>71.0</td>\n",
       "      <td>65.600000</td>\n",
       "      <td>32.0</td>\n",
       "      <td>53.0</td>\n",
       "      <td>NaN</td>\n",
       "      <td>33.333450</td>\n",
       "      <td>0.065600</td>\n",
       "    </tr>\n",
       "    <tr>\n",
       "      <th>10119253</th>\n",
       "      <td>2010-02-15</td>\n",
       "      <td>6.2</td>\n",
       "      <td>2009-11-26</td>\n",
       "      <td>1.0</td>\n",
       "      <td>66.3</td>\n",
       "      <td>44.000000</td>\n",
       "      <td>35.9</td>\n",
       "      <td>137.0</td>\n",
       "      <td>2011-04-04</td>\n",
       "      <td>44.262450</td>\n",
       "      <td>0.044000</td>\n",
       "    </tr>\n",
       "    <tr>\n",
       "      <th>10586780</th>\n",
       "      <td>2010-06-13</td>\n",
       "      <td>6.1</td>\n",
       "      <td>2005-01-03</td>\n",
       "      <td>1.0</td>\n",
       "      <td>13.0</td>\n",
       "      <td>49.400000</td>\n",
       "      <td>51.0</td>\n",
       "      <td>62.0</td>\n",
       "      <td>NaN</td>\n",
       "      <td>43.169550</td>\n",
       "      <td>0.049400</td>\n",
       "    </tr>\n",
       "  </tbody>\n",
       "</table>\n",
       "<p>2759 rows × 11 columns</p>\n",
       "</div>"
      ],
      "text/plain": [
       "         first_visit  HbA1c% datetime_leida  is_male    GGT  \\\n",
       "pid                                                           \n",
       "3485      2010-09-05     6.0     1946-04-02      0.0   11.0   \n",
       "5277      2011-01-16     5.6     1933-06-04      1.0   31.0   \n",
       "5374      2006-10-29     6.3     1933-03-05      1.0  433.0   \n",
       "6330      2009-02-19     5.1     1935-09-02      0.0   32.0   \n",
       "7918      2011-03-20     5.4     1938-08-26      1.0   81.0   \n",
       "...              ...     ...            ...      ...    ...   \n",
       "10056438  2010-07-19     6.1     1938-06-13      0.0   15.0   \n",
       "10064594  2011-11-13     5.5     1948-09-08      1.0   97.0   \n",
       "10066521  2011-11-27     5.2     1947-01-29      0.0   71.0   \n",
       "10119253  2010-02-15     6.2     2009-11-26      1.0   66.3   \n",
       "10586780  2010-06-13     6.1     2005-01-03      1.0   13.0   \n",
       "\n",
       "          Reticulocyte Count   HDL  Triglycerides diabetes_date  UKB_HbA1c  \\\n",
       "pid                                                                          \n",
       "3485               62.400000  48.0          129.0           NaN  42.076650   \n",
       "5277                0.052000  41.0          157.0           NaN  37.705050   \n",
       "5374               19.200001  69.0           65.0           NaN  45.355352   \n",
       "6330              204.700000  37.0          209.0    2016-05-26  32.240550   \n",
       "7918               67.000000  51.0          105.0    2017-08-06  35.519250   \n",
       "...                      ...   ...            ...           ...        ...   \n",
       "10056438           68.000000  35.0          130.0           NaN  43.169550   \n",
       "10064594          168.000000  39.0           60.0           NaN  36.612150   \n",
       "10066521           65.600000  32.0           53.0           NaN  33.333450   \n",
       "10119253           44.000000  35.9          137.0    2011-04-04  44.262450   \n",
       "10586780           49.400000  51.0           62.0           NaN  43.169550   \n",
       "\n",
       "          UKB_reticulocyte_count  \n",
       "pid                               \n",
       "3485                    0.062400  \n",
       "5277                    0.000052  \n",
       "5374                    0.019200  \n",
       "6330                    0.204700  \n",
       "7918                    0.067000  \n",
       "...                          ...  \n",
       "10056438                0.068000  \n",
       "10064594                0.168000  \n",
       "10066521                0.065600  \n",
       "10119253                0.044000  \n",
       "10586780                0.049400  \n",
       "\n",
       "[2759 rows x 11 columns]"
      ]
     },
     "execution_count": 3,
     "metadata": {},
     "output_type": "execute_result"
    }
   ],
   "source": [
    "orig_clalit_df"
   ]
  },
  {
   "cell_type": "markdown",
   "metadata": {},
   "source": [
    "# Convert data to dateime"
   ]
  },
  {
   "cell_type": "code",
   "execution_count": 4,
   "metadata": {
    "ExecuteTime": {
     "end_time": "2021-11-16T14:06:38.660856Z",
     "start_time": "2021-11-16T14:06:38.614055Z"
    }
   },
   "outputs": [],
   "source": [
    "non_na_ind=orig_clalit_df[\"diabetes_date\"].dropna().index\n",
    "orig_clalit_df.loc[:,[\"first_visit\",\"datetime_leida\"]]=orig_clalit_df.loc[:,[\"first_visit\",\"datetime_leida\"]].applymap(datetime.fromisoformat)\n",
    "orig_clalit_df.loc[non_na_ind,[\"diabetes_date\"]]=orig_clalit_df.loc[non_na_ind,[\"diabetes_date\"]].applymap(datetime.fromisoformat)"
   ]
  },
  {
   "cell_type": "code",
   "execution_count": 5,
   "metadata": {
    "ExecuteTime": {
     "end_time": "2021-11-16T14:06:39.337470Z",
     "start_time": "2021-11-16T14:06:39.298531Z"
    }
   },
   "outputs": [
    {
     "data": {
      "text/plain": [
       "1010"
      ]
     },
     "execution_count": 5,
     "metadata": {},
     "output_type": "execute_result"
    }
   ],
   "source": [
    "(((orig_clalit_df[\"first_visit\"]-orig_clalit_df[\"datetime_leida\"])/365.25)>timedelta(days=70)).sum()"
   ]
  },
  {
   "cell_type": "code",
   "execution_count": 6,
   "metadata": {
    "ExecuteTime": {
     "end_time": "2021-11-16T14:06:39.997002Z",
     "start_time": "2021-11-16T14:06:39.956725Z"
    },
    "scrolled": true
   },
   "outputs": [],
   "source": [
    "clalit_df=orig_clalit_df.copy()\n",
    "clalit_df=clalit_df.loc[(((clalit_df[\"first_visit\"]-clalit_df[\"datetime_leida\"])/365.25)<=timedelta(days=70)),:]"
   ]
  },
  {
   "cell_type": "code",
   "execution_count": 7,
   "metadata": {
    "ExecuteTime": {
     "end_time": "2021-11-16T14:06:40.247455Z",
     "start_time": "2021-11-16T14:06:40.215937Z"
    }
   },
   "outputs": [],
   "source": [
    "clalit_df=clalit_df.loc[(((clalit_df[\"first_visit\"]-clalit_df[\"datetime_leida\"])/365.25)>=timedelta(days=40)),:]"
   ]
  },
  {
   "cell_type": "markdown",
   "metadata": {},
   "source": [
    "# Draw a delta time till return"
   ]
  },
  {
   "cell_type": "code",
   "execution_count": 8,
   "metadata": {
    "ExecuteTime": {
     "end_time": "2021-11-16T14:06:41.616496Z",
     "start_time": "2021-11-16T14:06:41.576759Z"
    }
   },
   "outputs": [],
   "source": [
    "mean_dt=7.3\n",
    "sigma=2.3\n",
    "max_dt=17\n",
    "min_dt=2\n",
    "clalit_df[\"dt_years\"]=np.clip(np.random.normal(mean_dt,sigma,size=clalit_df.shape[0]),a_max=max_dt,a_min=min_dt)"
   ]
  },
  {
   "cell_type": "code",
   "execution_count": 9,
   "metadata": {
    "ExecuteTime": {
     "end_time": "2021-11-16T14:06:42.302384Z",
     "start_time": "2021-11-16T14:06:42.247755Z"
    }
   },
   "outputs": [],
   "source": [
    "def my_relative_delta(row):\n",
    "    print(row)\n",
    "    return row[\"first_visit\"].replace(year=row[\"first_visit\"].year + row[\"dt_years\"])"
   ]
  },
  {
   "cell_type": "code",
   "execution_count": 10,
   "metadata": {
    "ExecuteTime": {
     "end_time": "2021-11-16T14:06:43.008554Z",
     "start_time": "2021-11-16T14:06:42.958225Z"
    }
   },
   "outputs": [],
   "source": [
    "pd.to_timedelta(365*clalit_df[\"dt_years\"], unit='D')\n",
    "clalit_df[\"dt_days\"]=pd.to_timedelta(365*clalit_df[\"dt_years\"], unit='D')\n",
    "clalit_df[\"check_date\"]=(clalit_df[\"first_visit\"]+ clalit_df[\"dt_days\"]).clip(upper=datetime.fromisoformat(\"2019-12-31\"))"
   ]
  },
  {
   "cell_type": "code",
   "execution_count": 11,
   "metadata": {
    "ExecuteTime": {
     "end_time": "2021-11-16T14:06:44.894581Z",
     "start_time": "2021-11-16T14:06:43.701385Z"
    }
   },
   "outputs": [
    {
     "data": {
      "text/plain": [
       "<AxesSubplot:>"
      ]
     },
     "execution_count": 11,
     "metadata": {},
     "output_type": "execute_result"
    },
    {
     "data": {
      "image/png": "[encoded data removed]",
      "text/plain": [
       "<Figure size 432x288 with 1 Axes>"
      ]
     },
     "metadata": {
      "needs_background": "light"
     },
     "output_type": "display_data"
    }
   ],
   "source": [
    "clalit_df[\"check_date\"].hist()"
   ]
  },
  {
   "cell_type": "code",
   "execution_count": 12,
   "metadata": {
    "ExecuteTime": {
     "end_time": "2021-11-16T14:06:45.094215Z",
     "start_time": "2021-11-16T14:06:45.065559Z"
    }
   },
   "outputs": [],
   "source": [
    "clalit_df[\"final_dt\"]=clalit_df[\"check_date\"]-clalit_df[\"first_visit\"]"
   ]
  },
  {
   "cell_type": "code",
   "execution_count": 13,
   "metadata": {
    "ExecuteTime": {
     "end_time": "2021-11-16T14:06:45.467365Z",
     "start_time": "2021-11-16T14:06:45.238744Z"
    }
   },
   "outputs": [
    {
     "data": {
      "text/plain": [
       "<AxesSubplot:ylabel='Frequency'>"
      ]
     },
     "execution_count": 13,
     "metadata": {},
     "output_type": "execute_result"
    },
    {
     "data": {
      "image/png": "[encoded data removed]",
      "text/plain": [
       "<Figure size 432x288 with 1 Axes>"
      ]
     },
     "metadata": {
      "needs_background": "light"
     },
     "output_type": "display_data"
    }
   ],
   "source": [
    "(clalit_df[\"final_dt\"].astype('timedelta64[D]')/365).plot.hist()"
   ]
  },
  {
   "cell_type": "code",
   "execution_count": 14,
   "metadata": {
    "ExecuteTime": {
     "end_time": "2021-11-16T14:06:47.298604Z",
     "start_time": "2021-11-16T14:06:47.265910Z"
    }
   },
   "outputs": [
    {
     "data": {
      "text/plain": [
       "7.273339238263951"
      ]
     },
     "execution_count": 14,
     "metadata": {},
     "output_type": "execute_result"
    }
   ],
   "source": [
    "(clalit_df[\"final_dt\"].astype('timedelta64[D]')/365).mean()"
   ]
  },
  {
   "cell_type": "code",
   "execution_count": 15,
   "metadata": {
    "ExecuteTime": {
     "end_time": "2021-11-16T14:06:50.067927Z",
     "start_time": "2021-11-16T14:06:50.025918Z"
    }
   },
   "outputs": [
    {
     "data": {
      "text/plain": [
       "pid\n",
       "3485         True\n",
       "11430        True\n",
       "24485        True\n",
       "47490        True\n",
       "52237       False\n",
       "            ...  \n",
       "9890555      True\n",
       "9892371      True\n",
       "10048398     True\n",
       "10064594     True\n",
       "10066521     True\n",
       "Name: diabetes_date, Length: 1129, dtype: bool"
      ]
     },
     "execution_count": 15,
     "metadata": {},
     "output_type": "execute_result"
    }
   ],
   "source": [
    "clalit_df[\"diabetes_date\"].isna()"
   ]
  },
  {
   "cell_type": "markdown",
   "metadata": {},
   "source": [
    "# def check_diagnose"
   ]
  },
  {
   "cell_type": "code",
   "execution_count": 16,
   "metadata": {
    "ExecuteTime": {
     "end_time": "2021-11-16T14:07:00.600044Z",
     "start_time": "2021-11-16T14:07:00.569935Z"
    }
   },
   "outputs": [],
   "source": [
    "def check_diagnose(row):\n",
    "#     print(row)\n",
    "    if type(row[\"diabetes_date\"]) is float:\n",
    "        return 0\n",
    "    elif row[\"diabetes_date\"]>row[\"check_date\"]:\n",
    "        return 0\n",
    "    elif row[\"diabetes_date\"]<=row[\"check_date\"]:\n",
    "        return 1\n",
    "    else:\n",
    "        return np.nan"
   ]
  },
  {
   "cell_type": "code",
   "execution_count": 17,
   "metadata": {
    "ExecuteTime": {
     "end_time": "2021-11-16T14:07:01.294998Z",
     "start_time": "2021-11-16T14:07:01.151717Z"
    }
   },
   "outputs": [],
   "source": [
    "clalit_df[\"Y\"]=clalit_df.apply(check_diagnose,axis=1)"
   ]
  },
  {
   "cell_type": "markdown",
   "metadata": {},
   "source": [
    "# T2D Prevalence at time of test"
   ]
  },
  {
   "cell_type": "code",
   "execution_count": 18,
   "metadata": {
    "ExecuteTime": {
     "end_time": "2021-11-16T14:07:02.552338Z",
     "start_time": "2021-11-16T14:07:02.521694Z"
    }
   },
   "outputs": [
    {
     "data": {
      "text/plain": [
       "0.20992028343666963"
      ]
     },
     "execution_count": 18,
     "metadata": {},
     "output_type": "execute_result"
    }
   ],
   "source": [
    "clalit_df[\"Y\"].sum()/clalit_df.shape[0]"
   ]
  },
  {
   "cell_type": "code",
   "execution_count": 19,
   "metadata": {
    "ExecuteTime": {
     "end_time": "2021-11-16T14:07:03.331071Z",
     "start_time": "2021-11-16T14:07:03.277909Z"
    }
   },
   "outputs": [
    {
     "data": {
      "text/html": [
       "<div>\n",
       "<style scoped>\n",
       "    .dataframe tbody tr th:only-of-type {\n",
       "        vertical-align: middle;\n",
       "    }\n",
       "\n",
       "    .dataframe tbody tr th {\n",
       "        vertical-align: top;\n",
       "    }\n",
       "\n",
       "    .dataframe thead th {\n",
       "        text-align: right;\n",
       "    }\n",
       "</style>\n",
       "<table border=\"1\" class=\"dataframe\">\n",
       "  <thead>\n",
       "    <tr style=\"text-align: right;\">\n",
       "      <th></th>\n",
       "      <th>first_visit</th>\n",
       "      <th>HbA1c%</th>\n",
       "      <th>datetime_leida</th>\n",
       "      <th>is_male</th>\n",
       "      <th>GGT</th>\n",
       "      <th>Reticulocyte Count</th>\n",
       "      <th>HDL</th>\n",
       "      <th>Triglycerides</th>\n",
       "      <th>diabetes_date</th>\n",
       "      <th>UKB_HbA1c</th>\n",
       "      <th>UKB_reticulocyte_count</th>\n",
       "      <th>dt_years</th>\n",
       "      <th>dt_days</th>\n",
       "      <th>check_date</th>\n",
       "      <th>final_dt</th>\n",
       "      <th>Y</th>\n",
       "    </tr>\n",
       "    <tr>\n",
       "      <th>pid</th>\n",
       "      <th></th>\n",
       "      <th></th>\n",
       "      <th></th>\n",
       "      <th></th>\n",
       "      <th></th>\n",
       "      <th></th>\n",
       "      <th></th>\n",
       "      <th></th>\n",
       "      <th></th>\n",
       "      <th></th>\n",
       "      <th></th>\n",
       "      <th></th>\n",
       "      <th></th>\n",
       "      <th></th>\n",
       "      <th></th>\n",
       "      <th></th>\n",
       "    </tr>\n",
       "  </thead>\n",
       "  <tbody>\n",
       "    <tr>\n",
       "      <th>3485</th>\n",
       "      <td>2010-09-05</td>\n",
       "      <td>6.0</td>\n",
       "      <td>1946-04-02</td>\n",
       "      <td>0.0</td>\n",
       "      <td>11.0</td>\n",
       "      <td>62.4</td>\n",
       "      <td>48.0</td>\n",
       "      <td>129.0</td>\n",
       "      <td>NaN</td>\n",
       "      <td>42.07665</td>\n",
       "      <td>0.0624</td>\n",
       "      <td>7.334631</td>\n",
       "      <td>2677 days 03:22:05.662934400</td>\n",
       "      <td>2018-01-03 03:22:05.662934400</td>\n",
       "      <td>2677 days 03:22:05.662934400</td>\n",
       "      <td>0</td>\n",
       "    </tr>\n",
       "    <tr>\n",
       "      <th>11430</th>\n",
       "      <td>2011-09-18</td>\n",
       "      <td>6.0</td>\n",
       "      <td>1942-04-25</td>\n",
       "      <td>1.0</td>\n",
       "      <td>16.0</td>\n",
       "      <td>74.5</td>\n",
       "      <td>45.0</td>\n",
       "      <td>75.0</td>\n",
       "      <td>NaN</td>\n",
       "      <td>42.07665</td>\n",
       "      <td>0.0745</td>\n",
       "      <td>9.934703</td>\n",
       "      <td>3626 days 03:59:54.500928</td>\n",
       "      <td>2019-12-31 00:00:00.000000000</td>\n",
       "      <td>3026 days 00:00:00</td>\n",
       "      <td>0</td>\n",
       "    </tr>\n",
       "    <tr>\n",
       "      <th>24485</th>\n",
       "      <td>2011-07-10</td>\n",
       "      <td>5.0</td>\n",
       "      <td>1943-02-24</td>\n",
       "      <td>1.0</td>\n",
       "      <td>19.0</td>\n",
       "      <td>107.6</td>\n",
       "      <td>49.0</td>\n",
       "      <td>144.0</td>\n",
       "      <td>NaN</td>\n",
       "      <td>31.14765</td>\n",
       "      <td>0.1076</td>\n",
       "      <td>4.141959</td>\n",
       "      <td>1511 days 19:33:32.808902400</td>\n",
       "      <td>2015-08-29 19:33:32.808902400</td>\n",
       "      <td>1511 days 19:33:32.808902400</td>\n",
       "      <td>0</td>\n",
       "    </tr>\n",
       "    <tr>\n",
       "      <th>47490</th>\n",
       "      <td>2008-08-06</td>\n",
       "      <td>6.0</td>\n",
       "      <td>1940-05-27</td>\n",
       "      <td>1.0</td>\n",
       "      <td>32.0</td>\n",
       "      <td>51.5</td>\n",
       "      <td>36.0</td>\n",
       "      <td>94.0</td>\n",
       "      <td>NaN</td>\n",
       "      <td>42.07665</td>\n",
       "      <td>0.0515</td>\n",
       "      <td>5.696537</td>\n",
       "      <td>2079 days 05:39:39.229603200</td>\n",
       "      <td>2014-04-16 05:39:39.229603200</td>\n",
       "      <td>2079 days 05:39:39.229603200</td>\n",
       "      <td>0</td>\n",
       "    </tr>\n",
       "    <tr>\n",
       "      <th>52237</th>\n",
       "      <td>2011-12-04</td>\n",
       "      <td>4.3</td>\n",
       "      <td>1950-05-13</td>\n",
       "      <td>1.0</td>\n",
       "      <td>21.0</td>\n",
       "      <td>85.0</td>\n",
       "      <td>40.0</td>\n",
       "      <td>89.0</td>\n",
       "      <td>2012-07-30 00:00:00</td>\n",
       "      <td>23.49735</td>\n",
       "      <td>0.0850</td>\n",
       "      <td>8.732739</td>\n",
       "      <td>3187 days 10:47:51.880819200</td>\n",
       "      <td>2019-12-31 00:00:00.000000000</td>\n",
       "      <td>2949 days 00:00:00</td>\n",
       "      <td>1</td>\n",
       "    </tr>\n",
       "  </tbody>\n",
       "</table>\n",
       "</div>"
      ],
      "text/plain": [
       "      first_visit  HbA1c% datetime_leida  is_male   GGT  Reticulocyte Count  \\\n",
       "pid                                                                           \n",
       "3485   2010-09-05     6.0     1946-04-02      0.0  11.0                62.4   \n",
       "11430  2011-09-18     6.0     1942-04-25      1.0  16.0                74.5   \n",
       "24485  2011-07-10     5.0     1943-02-24      1.0  19.0               107.6   \n",
       "47490  2008-08-06     6.0     1940-05-27      1.0  32.0                51.5   \n",
       "52237  2011-12-04     4.3     1950-05-13      1.0  21.0                85.0   \n",
       "\n",
       "        HDL  Triglycerides        diabetes_date  UKB_HbA1c  \\\n",
       "pid                                                          \n",
       "3485   48.0          129.0                  NaN   42.07665   \n",
       "11430  45.0           75.0                  NaN   42.07665   \n",
       "24485  49.0          144.0                  NaN   31.14765   \n",
       "47490  36.0           94.0                  NaN   42.07665   \n",
       "52237  40.0           89.0  2012-07-30 00:00:00   23.49735   \n",
       "\n",
       "       UKB_reticulocyte_count  dt_years                      dt_days  \\\n",
       "pid                                                                    \n",
       "3485                   0.0624  7.334631 2677 days 03:22:05.662934400   \n",
       "11430                  0.0745  9.934703    3626 days 03:59:54.500928   \n",
       "24485                  0.1076  4.141959 1511 days 19:33:32.808902400   \n",
       "47490                  0.0515  5.696537 2079 days 05:39:39.229603200   \n",
       "52237                  0.0850  8.732739 3187 days 10:47:51.880819200   \n",
       "\n",
       "                         check_date                     final_dt  Y  \n",
       "pid                                                                  \n",
       "3485  2018-01-03 03:22:05.662934400 2677 days 03:22:05.662934400  0  \n",
       "11430 2019-12-31 00:00:00.000000000           3026 days 00:00:00  0  \n",
       "24485 2015-08-29 19:33:32.808902400 1511 days 19:33:32.808902400  0  \n",
       "47490 2014-04-16 05:39:39.229603200 2079 days 05:39:39.229603200  0  \n",
       "52237 2019-12-31 00:00:00.000000000           2949 days 00:00:00  1  "
      ]
     },
     "execution_count": 19,
     "metadata": {},
     "output_type": "execute_result"
    }
   ],
   "source": [
    "clalit_df.head()"
   ]
  },
  {
   "cell_type": "code",
   "execution_count": 20,
   "metadata": {
    "ExecuteTime": {
     "end_time": "2021-11-16T14:07:04.802102Z",
     "start_time": "2021-11-16T14:07:04.541763Z"
    }
   },
   "outputs": [
    {
     "data": {
      "text/plain": [
       "<AxesSubplot:>"
      ]
     },
     "execution_count": 20,
     "metadata": {},
     "output_type": "execute_result"
    },
    {
     "data": {
      "image/png": "[encoded data removed]",
      "text/plain": [
       "<Figure size 432x288 with 1 Axes>"
      ]
     },
     "metadata": {
      "needs_background": "light"
     },
     "output_type": "display_data"
    }
   ],
   "source": [
    "clalit_df.loc[clalit_df[\"GGT\"]<clalit_df[\"GGT\"].quantile(0.95),\"GGT\"].hist()"
   ]
  },
  {
   "cell_type": "code",
   "execution_count": 21,
   "metadata": {
    "ExecuteTime": {
     "end_time": "2021-11-16T14:07:07.135393Z",
     "start_time": "2021-11-16T14:07:07.103198Z"
    }
   },
   "outputs": [
    {
     "data": {
      "text/plain": [
       "Index(['first_visit', 'HbA1c%', 'datetime_leida', 'is_male', 'GGT',\n",
       "       'Reticulocyte Count', 'HDL', 'Triglycerides', 'diabetes_date',\n",
       "       'UKB_HbA1c', 'UKB_reticulocyte_count', 'dt_years', 'dt_days',\n",
       "       'check_date', 'final_dt', 'Y'],\n",
       "      dtype='object')"
      ]
     },
     "execution_count": 21,
     "metadata": {},
     "output_type": "execute_result"
    }
   ],
   "source": [
    "clalit_df.columns"
   ]
  },
  {
   "cell_type": "code",
   "execution_count": 22,
   "metadata": {
    "ExecuteTime": {
     "end_time": "2021-11-16T14:07:09.136293Z",
     "start_time": "2021-11-16T14:07:09.106491Z"
    }
   },
   "outputs": [],
   "source": [
    "clalit_df[\"UKB_Triglycerides\"]=clalit_df[\"Triglycerides\"]*0.01129"
   ]
  },
  {
   "cell_type": "code",
   "execution_count": 23,
   "metadata": {
    "ExecuteTime": {
     "end_time": "2021-11-16T14:07:13.138239Z",
     "start_time": "2021-11-16T14:07:13.096590Z"
    }
   },
   "outputs": [],
   "source": [
    "clalit_df[\"UKB_HDL\"]=clalit_df[\"HDL\"]*0.02586"
   ]
  },
  {
   "cell_type": "code",
   "execution_count": 24,
   "metadata": {
    "ExecuteTime": {
     "end_time": "2021-11-16T14:07:13.516386Z",
     "start_time": "2021-11-16T14:07:13.485892Z"
    }
   },
   "outputs": [],
   "source": [
    "rel_cols=[x for x in clalit_df.columns if x!=\"diabetes_date\"]"
   ]
  },
  {
   "cell_type": "code",
   "execution_count": 25,
   "metadata": {
    "ExecuteTime": {
     "end_time": "2021-11-16T14:07:14.185132Z",
     "start_time": "2021-11-16T14:07:14.149824Z"
    }
   },
   "outputs": [],
   "source": [
    "non_na_ind=clalit_df[rel_cols].dropna(how=\"any\").index"
   ]
  },
  {
   "cell_type": "code",
   "execution_count": 26,
   "metadata": {
    "ExecuteTime": {
     "end_time": "2021-11-16T14:07:14.440384Z",
     "start_time": "2021-11-16T14:07:14.410182Z"
    }
   },
   "outputs": [],
   "source": [
    "final_df=clalit_df.loc[non_na_ind,:]"
   ]
  },
  {
   "cell_type": "code",
   "execution_count": 27,
   "metadata": {
    "ExecuteTime": {
     "end_time": "2021-11-16T14:07:14.714177Z",
     "start_time": "2021-11-16T14:07:14.682207Z"
    }
   },
   "outputs": [
    {
     "data": {
      "text/plain": [
       "first_visit                 0\n",
       "HbA1c%                      0\n",
       "datetime_leida              0\n",
       "is_male                     0\n",
       "GGT                         0\n",
       "Reticulocyte Count          0\n",
       "HDL                         0\n",
       "Triglycerides               0\n",
       "diabetes_date             822\n",
       "UKB_HbA1c                   0\n",
       "UKB_reticulocyte_count      0\n",
       "dt_years                    0\n",
       "dt_days                     0\n",
       "check_date                  0\n",
       "final_dt                    0\n",
       "Y                           0\n",
       "UKB_Triglycerides           0\n",
       "UKB_HDL                     0\n",
       "dtype: int64"
      ]
     },
     "execution_count": 27,
     "metadata": {},
     "output_type": "execute_result"
    }
   ],
   "source": [
    "final_df.isna().sum()"
   ]
  },
  {
   "cell_type": "markdown",
   "metadata": {},
   "source": [
    "# Build scoreboard"
   ]
  },
  {
   "cell_type": "code",
   "execution_count": 28,
   "metadata": {
    "ExecuteTime": {
     "end_time": "2021-11-16T14:07:18.900475Z",
     "start_time": "2021-11-16T14:07:18.624931Z"
    }
   },
   "outputs": [
    {
     "data": {
      "text/plain": [
       "<AxesSubplot:>"
      ]
     },
     "execution_count": 28,
     "metadata": {},
     "output_type": "execute_result"
    },
    {
     "data": {
      "image/png": "[encoded data removed]",
      "text/plain": [
       "<Figure size 432x288 with 1 Axes>"
      ]
     },
     "metadata": {
      "needs_background": "light"
     },
     "output_type": "display_data"
    }
   ],
   "source": [
    "final_df[\"is_male\"].hist()"
   ]
  },
  {
   "cell_type": "code",
   "execution_count": 29,
   "metadata": {
    "ExecuteTime": {
     "end_time": "2021-11-16T14:09:28.847986Z",
     "start_time": "2021-11-16T14:09:28.572137Z"
    }
   },
   "outputs": [],
   "source": [
    "def check_sex(row):\n",
    "    if row[\"is_male\"]==1:\n",
    "        return 3\n",
    "    elif row[\"is_male\"]==0:\n",
    "        return 0\n",
    "    else:\n",
    "        print(\"is_male should be 0 or 1\")"
   ]
  },
  {
   "cell_type": "code",
   "execution_count": 30,
   "metadata": {
    "ExecuteTime": {
     "end_time": "2021-11-16T14:09:29.329127Z",
     "start_time": "2021-11-16T14:09:29.060463Z"
    }
   },
   "outputs": [
    {
     "data": {
      "text/plain": [
       "<AxesSubplot:ylabel='Frequency'>"
      ]
     },
     "execution_count": 30,
     "metadata": {},
     "output_type": "execute_result"
    },
    {
     "data": {
      "image/png": "[encoded data removed]",
      "text/plain": [
       "<Figure size 432x288 with 1 Axes>"
      ]
     },
     "metadata": {
      "needs_background": "light"
     },
     "output_type": "display_data"
    }
   ],
   "source": [
    "(final_df[\"final_dt\"].astype('timedelta64[D]')/365).plot.hist()"
   ]
  },
  {
   "cell_type": "code",
   "execution_count": 32,
   "metadata": {
    "ExecuteTime": {
     "end_time": "2021-11-16T14:11:52.477450Z",
     "start_time": "2021-11-16T14:11:52.436160Z"
    }
   },
   "outputs": [],
   "source": [
    "def check_dt(row):\n",
    "    factor=365.25\n",
    "    dt=row[\"final_dt\"]\n",
    "    if dt<=timedelta(days=factor*5):\n",
    "        return 0\n",
    "    elif dt<=timedelta(days=factor*6):\n",
    "        return 8\n",
    "    elif dt<=timedelta(days=factor*8):\n",
    "        return 11\n",
    "    elif dt<=timedelta(days=factor*9):\n",
    "        return 12\n",
    "    elif dt<=timedelta(days=factor*10):\n",
    "        return 16\n",
    "    elif dt>timedelta(days=factor*10):\n",
    "        return 20\n",
    "    else:\n",
    "        print(\"dt must be a timedelta object\")\n",
    "        return None"
   ]
  },
  {
   "cell_type": "code",
   "execution_count": 33,
   "metadata": {
    "ExecuteTime": {
     "end_time": "2021-11-16T14:12:41.173903Z",
     "start_time": "2021-11-16T14:12:40.606937Z"
    }
   },
   "outputs": [
    {
     "data": {
      "text/plain": [
       "<AxesSubplot:>"
      ]
     },
     "execution_count": 33,
     "metadata": {},
     "output_type": "execute_result"
    },
    {
     "data": {
      "image/png": "[encoded data removed]",
      "text/plain": [
       "<Figure size 432x288 with 1 Axes>"
      ]
     },
     "metadata": {
      "needs_background": "light"
     },
     "output_type": "display_data"
    }
   ],
   "source": [
    "final_df[\"UKB_HbA1c\"].hist()"
   ]
  },
  {
   "cell_type": "code",
   "execution_count": 34,
   "metadata": {
    "ExecuteTime": {
     "end_time": "2021-11-16T14:13:31.855636Z",
     "start_time": "2021-11-16T14:13:31.823488Z"
    }
   },
   "outputs": [],
   "source": [
    "def check_a1c(row):\n",
    "    val=row[\"UKB_HbA1c\"]\n",
    "    if val<=30.7:\n",
    "        return 0\n",
    "    elif val<=32.4:\n",
    "        return 11\n",
    "    elif val<=33.6:\n",
    "        return 15\n",
    "    elif val<=34.6:\n",
    "        return 17\n",
    "    elif val<=35.7:\n",
    "        return 26\n",
    "    elif val<=36.9:\n",
    "        return 31\n",
    "    elif val<=38.5:\n",
    "        return 38\n",
    "    elif val>38.5:\n",
    "        return 57\n",
    "    else:\n",
    "        print(\"a1c is not in any range\")\n",
    "        return None"
   ]
  },
  {
   "cell_type": "code",
   "execution_count": 35,
   "metadata": {
    "ExecuteTime": {
     "end_time": "2021-11-16T14:13:33.910048Z",
     "start_time": "2021-11-16T14:13:33.529735Z"
    }
   },
   "outputs": [
    {
     "data": {
      "text/plain": [
       "<AxesSubplot:>"
      ]
     },
     "execution_count": 35,
     "metadata": {},
     "output_type": "execute_result"
    },
    {
     "data": {
      "image/png": "[encoded data removed]",
      "text/plain": [
       "<Figure size 432x288 with 1 Axes>"
      ]
     },
     "metadata": {
      "needs_background": "light"
     },
     "output_type": "display_data"
    }
   ],
   "source": [
    "final_df[\"UKB_HDL\"].hist()"
   ]
  },
  {
   "cell_type": "code",
   "execution_count": 36,
   "metadata": {
    "ExecuteTime": {
     "end_time": "2021-11-16T14:14:13.994118Z",
     "start_time": "2021-11-16T14:14:13.696361Z"
    }
   },
   "outputs": [],
   "source": [
    "def check_hdl(row):\n",
    "    val=row[\"UKB_HDL\"]\n",
    "    if val<=1.1:\n",
    "        return 29\n",
    "    elif val<=1.3:\n",
    "        return 21\n",
    "    elif val<=1.4:\n",
    "        return 20\n",
    "    elif val<=1.5:\n",
    "        return 15\n",
    "    elif val<=1.6:\n",
    "        return 13\n",
    "    elif val<=1.9:\n",
    "        return 10 \n",
    "    elif val>1.9:\n",
    "        return 0\n",
    "    else:\n",
    "        print(\"HDL is not in any range\")\n",
    "        return None"
   ]
  },
  {
   "cell_type": "code",
   "execution_count": 37,
   "metadata": {
    "ExecuteTime": {
     "end_time": "2021-11-16T14:14:16.511858Z",
     "start_time": "2021-11-16T14:14:16.264923Z"
    }
   },
   "outputs": [
    {
     "data": {
      "text/plain": [
       "<AxesSubplot:>"
      ]
     },
     "execution_count": 37,
     "metadata": {},
     "output_type": "execute_result"
    },
    {
     "data": {
      "image/png": "[encoded data removed]",
      "text/plain": [
       "<Figure size 432x288 with 1 Axes>"
      ]
     },
     "metadata": {
      "needs_background": "light"
     },
     "output_type": "display_data"
    }
   ],
   "source": [
    "final_df.loc[final_df[\"GGT\"]<final_df[\"GGT\"].quantile(0.95),\"GGT\"].hist()"
   ]
  },
  {
   "cell_type": "code",
   "execution_count": 38,
   "metadata": {
    "ExecuteTime": {
     "end_time": "2021-11-16T14:15:31.254906Z",
     "start_time": "2021-11-16T14:15:31.119363Z"
    }
   },
   "outputs": [],
   "source": [
    "def check_ggt(row):\n",
    "    val=row[\"GGT\"]\n",
    "    if val<=14.8:\n",
    "        return 0\n",
    "    elif val<=18:\n",
    "        return 8\n",
    "    elif val<=21.4:\n",
    "        return 12\n",
    "    elif val<=25.3:\n",
    "        return 14\n",
    "    elif val<=30.4:\n",
    "        return 19\n",
    "    elif val<=37.7:\n",
    "        return 23\n",
    "    elif val<=53.3:\n",
    "        return 26\n",
    "    elif val>53.3:\n",
    "        return 28\n",
    "    else:\n",
    "        print(\"GGT is not in any range\")\n",
    "        return None"
   ]
  },
  {
   "cell_type": "code",
   "execution_count": 41,
   "metadata": {
    "ExecuteTime": {
     "end_time": "2021-11-16T14:15:51.149352Z",
     "start_time": "2021-11-16T14:15:51.120136Z"
    }
   },
   "outputs": [],
   "source": [
    "#final_df.loc[final_df[\"UKB_reticulocyte_count\"]<final_df[\"UKB_reticulocyte_count\"].quantile(0.95),\"UKB_reticulocyte_count\"].hist()"
   ]
  },
  {
   "cell_type": "code",
   "execution_count": 42,
   "metadata": {
    "ExecuteTime": {
     "end_time": "2021-11-16T14:15:51.446111Z",
     "start_time": "2021-11-16T14:15:51.418734Z"
    }
   },
   "outputs": [],
   "source": [
    "# def check_reticulocyte(row):\n",
    "#     val=row[\"UKB_reticulocyte_count\"]\n",
    "#     if val<=0.035:\n",
    "#         return 0\n",
    "#     elif val<=0.043:\n",
    "#         return 5\n",
    "#     elif val<=0.051:\n",
    "#         return 7\n",
    "#     elif val<=0.058:\n",
    "#         return 11\n",
    "#     elif val<=0.067:\n",
    "#         return 14\n",
    "#     elif val<=0.081:\n",
    "#         return 17\n",
    "#     elif val>0.081:\n",
    "#         return 22\n",
    "#     else:\n",
    "#         print(\"reticulocyte is not in any range\")\n",
    "#         return None"
   ]
  },
  {
   "cell_type": "code",
   "execution_count": 43,
   "metadata": {
    "ExecuteTime": {
     "end_time": "2021-11-16T14:15:57.106882Z",
     "start_time": "2021-11-16T14:15:56.841103Z"
    }
   },
   "outputs": [
    {
     "data": {
      "text/plain": [
       "<AxesSubplot:>"
      ]
     },
     "execution_count": 43,
     "metadata": {},
     "output_type": "execute_result"
    },
    {
     "data": {
      "image/png": "[encoded data removed]",
      "text/plain": [
       "<Figure size 432x288 with 1 Axes>"
      ]
     },
     "metadata": {
      "needs_background": "light"
     },
     "output_type": "display_data"
    }
   ],
   "source": [
    "final_df.loc[final_df[\"UKB_Triglycerides\"]<final_df[\"UKB_Triglycerides\"].quantile(0.95),\"UKB_Triglycerides\"].hist()"
   ]
  },
  {
   "cell_type": "code",
   "execution_count": 44,
   "metadata": {
    "ExecuteTime": {
     "end_time": "2021-11-16T14:16:45.027153Z",
     "start_time": "2021-11-16T14:16:44.730184Z"
    }
   },
   "outputs": [],
   "source": [
    "def check_triglycerides(row):\n",
    "    val=row[\"UKB_Triglycerides\"]\n",
    "    if val<=0.89:\n",
    "        return 0\n",
    "    elif val<=1.2:\n",
    "        return 6\n",
    "    elif val<=1.4:\n",
    "        return 7\n",
    "    elif val<=1.8:\n",
    "        return 11\n",
    "    elif val<=2.4:\n",
    "        return 13\n",
    "    elif val>2.4:\n",
    "        return 16\n",
    "    else:\n",
    "        print(\"triglycerides is not in any range\")\n",
    "        return None"
   ]
  },
  {
   "cell_type": "code",
   "execution_count": 45,
   "metadata": {
    "ExecuteTime": {
     "end_time": "2021-11-16T14:16:51.741266Z",
     "start_time": "2021-11-16T14:16:51.707131Z"
    }
   },
   "outputs": [],
   "source": [
    "def scoreboard_score(row):\n",
    "#     print(row)\n",
    "    tot_sum=0\n",
    "    func_list=[check_sex,check_dt,check_a1c,check_hdl,check_ggt,check_triglycerides]\n",
    "    for func in func_list:\n",
    "        tot_sum+=func(row)\n",
    "    return tot_sum"
   ]
  },
  {
   "cell_type": "code",
   "execution_count": 46,
   "metadata": {
    "ExecuteTime": {
     "end_time": "2021-11-16T14:16:52.915512Z",
     "start_time": "2021-11-16T14:16:52.877415Z"
    }
   },
   "outputs": [
    {
     "data": {
      "text/plain": [
       "first_visit                 0\n",
       "HbA1c%                      0\n",
       "datetime_leida              0\n",
       "is_male                     0\n",
       "GGT                         0\n",
       "Reticulocyte Count          0\n",
       "HDL                         0\n",
       "Triglycerides               0\n",
       "diabetes_date             822\n",
       "UKB_HbA1c                   0\n",
       "UKB_reticulocyte_count      0\n",
       "dt_years                    0\n",
       "dt_days                     0\n",
       "check_date                  0\n",
       "final_dt                    0\n",
       "Y                           0\n",
       "UKB_Triglycerides           0\n",
       "UKB_HDL                     0\n",
       "dtype: int64"
      ]
     },
     "execution_count": 46,
     "metadata": {},
     "output_type": "execute_result"
    }
   ],
   "source": [
    "final_df.isna().sum()"
   ]
  },
  {
   "cell_type": "code",
   "execution_count": 47,
   "metadata": {
    "ExecuteTime": {
     "end_time": "2021-11-16T14:17:19.449507Z",
     "start_time": "2021-11-16T14:17:19.417667Z"
    }
   },
   "outputs": [
    {
     "data": {
      "text/plain": [
       "(1128, 18)"
      ]
     },
     "execution_count": 47,
     "metadata": {},
     "output_type": "execute_result"
    }
   ],
   "source": [
    "final_df.shape"
   ]
  },
  {
   "cell_type": "markdown",
   "metadata": {},
   "source": [
    "## Save Final DF"
   ]
  },
  {
   "cell_type": "code",
   "execution_count": 48,
   "metadata": {
    "ExecuteTime": {
     "end_time": "2021-11-16T14:17:25.438447Z",
     "start_time": "2021-11-16T14:17:25.161317Z"
    },
    "scrolled": false
   },
   "outputs": [],
   "source": [
    "final_df[\"score\"]=final_df.apply(scoreboard_score,axis=1)"
   ]
  },
  {
   "cell_type": "code",
   "execution_count": 49,
   "metadata": {
    "ExecuteTime": {
     "end_time": "2021-11-16T14:17:29.592243Z",
     "start_time": "2021-11-16T14:17:29.403686Z"
    }
   },
   "outputs": [],
   "source": [
    "final_df.to_csv(save_final_df_path)"
   ]
  },
  {
   "cell_type": "code",
   "execution_count": 50,
   "metadata": {
    "ExecuteTime": {
     "end_time": "2021-11-16T14:17:30.786077Z",
     "start_time": "2021-11-16T14:17:30.512563Z"
    }
   },
   "outputs": [
    {
     "data": {
      "text/plain": [
       "<AxesSubplot:>"
      ]
     },
     "execution_count": 50,
     "metadata": {},
     "output_type": "execute_result"
    },
    {
     "data": {
      "image/png": "[encoded data removed]",
      "text/plain": [
       "<Figure size 432x288 with 1 Axes>"
      ]
     },
     "metadata": {
      "needs_background": "light"
     },
     "output_type": "display_data"
    }
   ],
   "source": [
    "final_df[\"score\"].hist()"
   ]
  },
  {
   "cell_type": "code",
   "execution_count": 51,
   "metadata": {
    "ExecuteTime": {
     "end_time": "2021-11-16T14:17:35.753588Z",
     "start_time": "2021-11-16T14:17:35.696791Z"
    }
   },
   "outputs": [
    {
     "data": {
      "text/html": [
       "<div>\n",
       "<style scoped>\n",
       "    .dataframe tbody tr th:only-of-type {\n",
       "        vertical-align: middle;\n",
       "    }\n",
       "\n",
       "    .dataframe tbody tr th {\n",
       "        vertical-align: top;\n",
       "    }\n",
       "\n",
       "    .dataframe thead th {\n",
       "        text-align: right;\n",
       "    }\n",
       "</style>\n",
       "<table border=\"1\" class=\"dataframe\">\n",
       "  <thead>\n",
       "    <tr style=\"text-align: right;\">\n",
       "      <th></th>\n",
       "      <th>first_visit</th>\n",
       "      <th>HbA1c%</th>\n",
       "      <th>datetime_leida</th>\n",
       "      <th>is_male</th>\n",
       "      <th>GGT</th>\n",
       "      <th>Reticulocyte Count</th>\n",
       "      <th>HDL</th>\n",
       "      <th>Triglycerides</th>\n",
       "      <th>diabetes_date</th>\n",
       "      <th>UKB_HbA1c</th>\n",
       "      <th>UKB_reticulocyte_count</th>\n",
       "      <th>dt_years</th>\n",
       "      <th>dt_days</th>\n",
       "      <th>check_date</th>\n",
       "      <th>final_dt</th>\n",
       "      <th>Y</th>\n",
       "      <th>UKB_Triglycerides</th>\n",
       "      <th>UKB_HDL</th>\n",
       "      <th>score</th>\n",
       "    </tr>\n",
       "    <tr>\n",
       "      <th>pid</th>\n",
       "      <th></th>\n",
       "      <th></th>\n",
       "      <th></th>\n",
       "      <th></th>\n",
       "      <th></th>\n",
       "      <th></th>\n",
       "      <th></th>\n",
       "      <th></th>\n",
       "      <th></th>\n",
       "      <th></th>\n",
       "      <th></th>\n",
       "      <th></th>\n",
       "      <th></th>\n",
       "      <th></th>\n",
       "      <th></th>\n",
       "      <th></th>\n",
       "      <th></th>\n",
       "      <th></th>\n",
       "      <th></th>\n",
       "    </tr>\n",
       "  </thead>\n",
       "  <tbody>\n",
       "    <tr>\n",
       "      <th>3485</th>\n",
       "      <td>2010-09-05</td>\n",
       "      <td>6.0</td>\n",
       "      <td>1946-04-02</td>\n",
       "      <td>0.0</td>\n",
       "      <td>11.0</td>\n",
       "      <td>62.4</td>\n",
       "      <td>48.0</td>\n",
       "      <td>129.0</td>\n",
       "      <td>NaN</td>\n",
       "      <td>42.07665</td>\n",
       "      <td>0.0624</td>\n",
       "      <td>7.334631</td>\n",
       "      <td>2677 days 03:22:05.662934400</td>\n",
       "      <td>2018-01-03 03:22:05.662934400</td>\n",
       "      <td>2677 days 03:22:05.662934400</td>\n",
       "      <td>0</td>\n",
       "      <td>1.45641</td>\n",
       "      <td>1.24128</td>\n",
       "      <td>100</td>\n",
       "    </tr>\n",
       "    <tr>\n",
       "      <th>11430</th>\n",
       "      <td>2011-09-18</td>\n",
       "      <td>6.0</td>\n",
       "      <td>1942-04-25</td>\n",
       "      <td>1.0</td>\n",
       "      <td>16.0</td>\n",
       "      <td>74.5</td>\n",
       "      <td>45.0</td>\n",
       "      <td>75.0</td>\n",
       "      <td>NaN</td>\n",
       "      <td>42.07665</td>\n",
       "      <td>0.0745</td>\n",
       "      <td>9.934703</td>\n",
       "      <td>3626 days 03:59:54.500928</td>\n",
       "      <td>2019-12-31 00:00:00.000000000</td>\n",
       "      <td>3026 days 00:00:00</td>\n",
       "      <td>0</td>\n",
       "      <td>0.84675</td>\n",
       "      <td>1.16370</td>\n",
       "      <td>101</td>\n",
       "    </tr>\n",
       "    <tr>\n",
       "      <th>24485</th>\n",
       "      <td>2011-07-10</td>\n",
       "      <td>5.0</td>\n",
       "      <td>1943-02-24</td>\n",
       "      <td>1.0</td>\n",
       "      <td>19.0</td>\n",
       "      <td>107.6</td>\n",
       "      <td>49.0</td>\n",
       "      <td>144.0</td>\n",
       "      <td>NaN</td>\n",
       "      <td>31.14765</td>\n",
       "      <td>0.1076</td>\n",
       "      <td>4.141959</td>\n",
       "      <td>1511 days 19:33:32.808902400</td>\n",
       "      <td>2015-08-29 19:33:32.808902400</td>\n",
       "      <td>1511 days 19:33:32.808902400</td>\n",
       "      <td>0</td>\n",
       "      <td>1.62576</td>\n",
       "      <td>1.26714</td>\n",
       "      <td>58</td>\n",
       "    </tr>\n",
       "    <tr>\n",
       "      <th>47490</th>\n",
       "      <td>2008-08-06</td>\n",
       "      <td>6.0</td>\n",
       "      <td>1940-05-27</td>\n",
       "      <td>1.0</td>\n",
       "      <td>32.0</td>\n",
       "      <td>51.5</td>\n",
       "      <td>36.0</td>\n",
       "      <td>94.0</td>\n",
       "      <td>NaN</td>\n",
       "      <td>42.07665</td>\n",
       "      <td>0.0515</td>\n",
       "      <td>5.696537</td>\n",
       "      <td>2079 days 05:39:39.229603200</td>\n",
       "      <td>2014-04-16 05:39:39.229603200</td>\n",
       "      <td>2079 days 05:39:39.229603200</td>\n",
       "      <td>0</td>\n",
       "      <td>1.06126</td>\n",
       "      <td>0.93096</td>\n",
       "      <td>126</td>\n",
       "    </tr>\n",
       "    <tr>\n",
       "      <th>52237</th>\n",
       "      <td>2011-12-04</td>\n",
       "      <td>4.3</td>\n",
       "      <td>1950-05-13</td>\n",
       "      <td>1.0</td>\n",
       "      <td>21.0</td>\n",
       "      <td>85.0</td>\n",
       "      <td>40.0</td>\n",
       "      <td>89.0</td>\n",
       "      <td>2012-07-30 00:00:00</td>\n",
       "      <td>23.49735</td>\n",
       "      <td>0.0850</td>\n",
       "      <td>8.732739</td>\n",
       "      <td>3187 days 10:47:51.880819200</td>\n",
       "      <td>2019-12-31 00:00:00.000000000</td>\n",
       "      <td>2949 days 00:00:00</td>\n",
       "      <td>1</td>\n",
       "      <td>1.00481</td>\n",
       "      <td>1.03440</td>\n",
       "      <td>62</td>\n",
       "    </tr>\n",
       "  </tbody>\n",
       "</table>\n",
       "</div>"
      ],
      "text/plain": [
       "      first_visit  HbA1c% datetime_leida  is_male   GGT  Reticulocyte Count  \\\n",
       "pid                                                                           \n",
       "3485   2010-09-05     6.0     1946-04-02      0.0  11.0                62.4   \n",
       "11430  2011-09-18     6.0     1942-04-25      1.0  16.0                74.5   \n",
       "24485  2011-07-10     5.0     1943-02-24      1.0  19.0               107.6   \n",
       "47490  2008-08-06     6.0     1940-05-27      1.0  32.0                51.5   \n",
       "52237  2011-12-04     4.3     1950-05-13      1.0  21.0                85.0   \n",
       "\n",
       "        HDL  Triglycerides        diabetes_date  UKB_HbA1c  \\\n",
       "pid                                                          \n",
       "3485   48.0          129.0                  NaN   42.07665   \n",
       "11430  45.0           75.0                  NaN   42.07665   \n",
       "24485  49.0          144.0                  NaN   31.14765   \n",
       "47490  36.0           94.0                  NaN   42.07665   \n",
       "52237  40.0           89.0  2012-07-30 00:00:00   23.49735   \n",
       "\n",
       "       UKB_reticulocyte_count  dt_years                      dt_days  \\\n",
       "pid                                                                    \n",
       "3485                   0.0624  7.334631 2677 days 03:22:05.662934400   \n",
       "11430                  0.0745  9.934703    3626 days 03:59:54.500928   \n",
       "24485                  0.1076  4.141959 1511 days 19:33:32.808902400   \n",
       "47490                  0.0515  5.696537 2079 days 05:39:39.229603200   \n",
       "52237                  0.0850  8.732739 3187 days 10:47:51.880819200   \n",
       "\n",
       "                         check_date                     final_dt  Y  \\\n",
       "pid                                                                   \n",
       "3485  2018-01-03 03:22:05.662934400 2677 days 03:22:05.662934400  0   \n",
       "11430 2019-12-31 00:00:00.000000000           3026 days 00:00:00  0   \n",
       "24485 2015-08-29 19:33:32.808902400 1511 days 19:33:32.808902400  0   \n",
       "47490 2014-04-16 05:39:39.229603200 2079 days 05:39:39.229603200  0   \n",
       "52237 2019-12-31 00:00:00.000000000           2949 days 00:00:00  1   \n",
       "\n",
       "       UKB_Triglycerides  UKB_HDL  score  \n",
       "pid                                       \n",
       "3485             1.45641  1.24128    100  \n",
       "11430            0.84675  1.16370    101  \n",
       "24485            1.62576  1.26714     58  \n",
       "47490            1.06126  0.93096    126  \n",
       "52237            1.00481  1.03440     62  "
      ]
     },
     "execution_count": 51,
     "metadata": {},
     "output_type": "execute_result"
    }
   ],
   "source": [
    "final_df.head()"
   ]
  },
  {
   "cell_type": "markdown",
   "metadata": {},
   "source": [
    "# ROC and APS"
   ]
  },
  {
   "cell_type": "code",
   "execution_count": 52,
   "metadata": {
    "ExecuteTime": {
     "end_time": "2021-11-16T14:17:49.678990Z",
     "start_time": "2021-11-16T14:17:49.274584Z"
    }
   },
   "outputs": [
    {
     "data": {
      "image/png": "[encoded data removed]",
      "text/plain": [
       "<Figure size 432x288 with 1 Axes>"
      ]
     },
     "metadata": {
      "needs_background": "light"
     },
     "output_type": "display_data"
    }
   ],
   "source": [
    "from sklearn.metrics import PrecisionRecallDisplay,RocCurveDisplay\n",
    "PR_disp=PrecisionRecallDisplay.from_predictions(final_df[\"Y\"],final_df[\"score\"])\n",
    "_ = PR_disp.ax_.set_title(\"2-class Precision-Recall curve\")"
   ]
  },
  {
   "cell_type": "code",
   "execution_count": 53,
   "metadata": {
    "ExecuteTime": {
     "end_time": "2021-11-16T14:17:51.299825Z",
     "start_time": "2021-11-16T14:17:51.033168Z"
    }
   },
   "outputs": [
    {
     "data": {
      "image/png": "[encoded data removed]",
      "text/plain": [
       "<Figure size 432x288 with 1 Axes>"
      ]
     },
     "metadata": {
      "needs_background": "light"
     },
     "output_type": "display_data"
    }
   ],
   "source": [
    "ROC_disp=RocCurveDisplay.from_predictions(final_df[\"Y\"],final_df[\"score\"])\n",
    "_ = ROC_disp.ax_.set_title(\"2-class ROC\")"
   ]
  },
  {
   "cell_type": "code",
   "execution_count": 54,
   "metadata": {
    "ExecuteTime": {
     "end_time": "2021-11-16T14:17:56.281131Z",
     "start_time": "2021-11-16T14:17:56.250230Z"
    }
   },
   "outputs": [
    {
     "data": {
      "text/plain": [
       "Index(['first_visit', 'HbA1c%', 'datetime_leida', 'is_male', 'GGT',\n",
       "       'Reticulocyte Count', 'HDL', 'Triglycerides', 'diabetes_date',\n",
       "       'UKB_HbA1c', 'UKB_reticulocyte_count', 'dt_years', 'dt_days',\n",
       "       'check_date', 'final_dt', 'Y', 'UKB_Triglycerides', 'UKB_HDL', 'score'],\n",
       "      dtype='object')"
      ]
     },
     "execution_count": 54,
     "metadata": {},
     "output_type": "execute_result"
    }
   ],
   "source": [
    "final_df.columns"
   ]
  },
  {
   "cell_type": "code",
   "execution_count": 55,
   "metadata": {
    "ExecuteTime": {
     "end_time": "2021-11-16T14:17:59.772421Z",
     "start_time": "2021-11-16T14:17:59.730384Z"
    }
   },
   "outputs": [],
   "source": [
    "view_df=final_df.loc[:,['first_visit',\"diabetes_date\",'final_dt','check_date','Y','score']].sort_values(by=\"score\")"
   ]
  },
  {
   "cell_type": "code",
   "execution_count": 56,
   "metadata": {
    "ExecuteTime": {
     "end_time": "2021-11-16T14:18:01.299458Z",
     "start_time": "2021-11-16T14:18:01.269091Z"
    }
   },
   "outputs": [],
   "source": [
    "final_df=final_df.sort_values(by=\"score\")"
   ]
  },
  {
   "cell_type": "code",
   "execution_count": 57,
   "metadata": {
    "ExecuteTime": {
     "end_time": "2021-11-16T14:18:01.885234Z",
     "start_time": "2021-11-16T14:18:01.732341Z"
    }
   },
   "outputs": [
    {
     "data": {
      "text/html": [
       "<div>\n",
       "<style scoped>\n",
       "    .dataframe tbody tr th:only-of-type {\n",
       "        vertical-align: middle;\n",
       "    }\n",
       "\n",
       "    .dataframe tbody tr th {\n",
       "        vertical-align: top;\n",
       "    }\n",
       "\n",
       "    .dataframe thead th {\n",
       "        text-align: right;\n",
       "    }\n",
       "</style>\n",
       "<table border=\"1\" class=\"dataframe\">\n",
       "  <thead>\n",
       "    <tr style=\"text-align: right;\">\n",
       "      <th></th>\n",
       "      <th>first_visit</th>\n",
       "      <th>HbA1c%</th>\n",
       "      <th>datetime_leida</th>\n",
       "      <th>is_male</th>\n",
       "      <th>GGT</th>\n",
       "      <th>Reticulocyte Count</th>\n",
       "      <th>HDL</th>\n",
       "      <th>Triglycerides</th>\n",
       "      <th>diabetes_date</th>\n",
       "      <th>UKB_HbA1c</th>\n",
       "      <th>UKB_reticulocyte_count</th>\n",
       "      <th>dt_years</th>\n",
       "      <th>dt_days</th>\n",
       "      <th>check_date</th>\n",
       "      <th>final_dt</th>\n",
       "      <th>Y</th>\n",
       "      <th>UKB_Triglycerides</th>\n",
       "      <th>UKB_HDL</th>\n",
       "      <th>score</th>\n",
       "    </tr>\n",
       "    <tr>\n",
       "      <th>pid</th>\n",
       "      <th></th>\n",
       "      <th></th>\n",
       "      <th></th>\n",
       "      <th></th>\n",
       "      <th></th>\n",
       "      <th></th>\n",
       "      <th></th>\n",
       "      <th></th>\n",
       "      <th></th>\n",
       "      <th></th>\n",
       "      <th></th>\n",
       "      <th></th>\n",
       "      <th></th>\n",
       "      <th></th>\n",
       "      <th></th>\n",
       "      <th></th>\n",
       "      <th></th>\n",
       "      <th></th>\n",
       "      <th></th>\n",
       "    </tr>\n",
       "  </thead>\n",
       "  <tbody>\n",
       "    <tr>\n",
       "      <th>4427284</th>\n",
       "      <td>2008-11-04</td>\n",
       "      <td>4.40</td>\n",
       "      <td>1962-12-31</td>\n",
       "      <td>0.0</td>\n",
       "      <td>12.0</td>\n",
       "      <td>86.700000</td>\n",
       "      <td>54.0</td>\n",
       "      <td>51.0</td>\n",
       "      <td>2012-01-30 00:00:00</td>\n",
       "      <td>24.590250</td>\n",
       "      <td>0.086700</td>\n",
       "      <td>6.367673</td>\n",
       "      <td>2324 days 04:48:43.162847999</td>\n",
       "      <td>2015-03-17 04:48:43.162847999</td>\n",
       "      <td>2324 days 04:48:43.162847999</td>\n",
       "      <td>1</td>\n",
       "      <td>0.57579</td>\n",
       "      <td>1.39644</td>\n",
       "      <td>31</td>\n",
       "    </tr>\n",
       "    <tr>\n",
       "      <th>2893236</th>\n",
       "      <td>2009-09-16</td>\n",
       "      <td>4.90</td>\n",
       "      <td>1950-02-12</td>\n",
       "      <td>0.0</td>\n",
       "      <td>13.0</td>\n",
       "      <td>0.071900</td>\n",
       "      <td>37.0</td>\n",
       "      <td>210.0</td>\n",
       "      <td>2013-04-12 00:00:00</td>\n",
       "      <td>30.054750</td>\n",
       "      <td>0.000072</td>\n",
       "      <td>4.790601</td>\n",
       "      <td>1748 days 13:40:01.631366400</td>\n",
       "      <td>2014-06-30 13:40:01.631366400</td>\n",
       "      <td>1748 days 13:40:01.631366400</td>\n",
       "      <td>1</td>\n",
       "      <td>2.37090</td>\n",
       "      <td>0.95682</td>\n",
       "      <td>42</td>\n",
       "    </tr>\n",
       "    <tr>\n",
       "      <th>3797282</th>\n",
       "      <td>2007-11-06</td>\n",
       "      <td>4.60</td>\n",
       "      <td>1951-08-09</td>\n",
       "      <td>0.0</td>\n",
       "      <td>11.0</td>\n",
       "      <td>66.000000</td>\n",
       "      <td>44.0</td>\n",
       "      <td>85.0</td>\n",
       "      <td>2019-05-14 00:00:00</td>\n",
       "      <td>26.776050</td>\n",
       "      <td>0.066000</td>\n",
       "      <td>11.775417</td>\n",
       "      <td>4298 days 00:39:25.504128</td>\n",
       "      <td>2019-08-13 00:39:25.504128000</td>\n",
       "      <td>4298 days 00:39:25.504128</td>\n",
       "      <td>1</td>\n",
       "      <td>0.95965</td>\n",
       "      <td>1.13784</td>\n",
       "      <td>47</td>\n",
       "    </tr>\n",
       "    <tr>\n",
       "      <th>537062</th>\n",
       "      <td>2009-08-17</td>\n",
       "      <td>5.09</td>\n",
       "      <td>1944-01-07</td>\n",
       "      <td>0.0</td>\n",
       "      <td>18.0</td>\n",
       "      <td>82.000000</td>\n",
       "      <td>68.0</td>\n",
       "      <td>120.0</td>\n",
       "      <td>2015-01-13 00:00:00</td>\n",
       "      <td>32.131260</td>\n",
       "      <td>0.082000</td>\n",
       "      <td>6.360471</td>\n",
       "      <td>2321 days 13:43:31.287964800</td>\n",
       "      <td>2015-12-25 13:43:31.287964800</td>\n",
       "      <td>2321 days 13:43:31.287964800</td>\n",
       "      <td>1</td>\n",
       "      <td>1.35480</td>\n",
       "      <td>1.75848</td>\n",
       "      <td>47</td>\n",
       "    </tr>\n",
       "    <tr>\n",
       "      <th>813015</th>\n",
       "      <td>2009-02-23</td>\n",
       "      <td>4.90</td>\n",
       "      <td>1947-02-13</td>\n",
       "      <td>1.0</td>\n",
       "      <td>23.0</td>\n",
       "      <td>120.000000</td>\n",
       "      <td>46.0</td>\n",
       "      <td>153.0</td>\n",
       "      <td>2010-04-11 00:00:00</td>\n",
       "      <td>30.054750</td>\n",
       "      <td>0.120000</td>\n",
       "      <td>2.856342</td>\n",
       "      <td>1042 days 13:33:18.725616</td>\n",
       "      <td>2012-01-01 13:33:18.725616000</td>\n",
       "      <td>1042 days 13:33:18.725616</td>\n",
       "      <td>1</td>\n",
       "      <td>1.72737</td>\n",
       "      <td>1.18956</td>\n",
       "      <td>49</td>\n",
       "    </tr>\n",
       "    <tr>\n",
       "      <th>9211665</th>\n",
       "      <td>2008-04-30</td>\n",
       "      <td>4.90</td>\n",
       "      <td>1950-11-25</td>\n",
       "      <td>0.0</td>\n",
       "      <td>74.0</td>\n",
       "      <td>54.000000</td>\n",
       "      <td>47.0</td>\n",
       "      <td>74.0</td>\n",
       "      <td>2008-08-13 00:00:00</td>\n",
       "      <td>30.054750</td>\n",
       "      <td>0.054000</td>\n",
       "      <td>4.678835</td>\n",
       "      <td>1707 days 18:35:50.092425600</td>\n",
       "      <td>2013-01-01 18:35:50.092425600</td>\n",
       "      <td>1707 days 18:35:50.092425600</td>\n",
       "      <td>1</td>\n",
       "      <td>0.83546</td>\n",
       "      <td>1.21542</td>\n",
       "      <td>49</td>\n",
       "    </tr>\n",
       "    <tr>\n",
       "      <th>5110727</th>\n",
       "      <td>2011-12-15</td>\n",
       "      <td>5.20</td>\n",
       "      <td>1958-05-20</td>\n",
       "      <td>0.0</td>\n",
       "      <td>25.0</td>\n",
       "      <td>14.000000</td>\n",
       "      <td>57.0</td>\n",
       "      <td>123.0</td>\n",
       "      <td>2013-07-11 00:00:00</td>\n",
       "      <td>33.333450</td>\n",
       "      <td>0.014000</td>\n",
       "      <td>4.816836</td>\n",
       "      <td>1758 days 03:28:58.354608</td>\n",
       "      <td>2016-10-07 03:28:58.354608000</td>\n",
       "      <td>1758 days 03:28:58.354608</td>\n",
       "      <td>1</td>\n",
       "      <td>1.38867</td>\n",
       "      <td>1.47402</td>\n",
       "      <td>51</td>\n",
       "    </tr>\n",
       "    <tr>\n",
       "      <th>4744037</th>\n",
       "      <td>2006-02-16</td>\n",
       "      <td>5.10</td>\n",
       "      <td>1949-06-10</td>\n",
       "      <td>0.0</td>\n",
       "      <td>25.0</td>\n",
       "      <td>119.000000</td>\n",
       "      <td>55.0</td>\n",
       "      <td>76.0</td>\n",
       "      <td>2009-08-26 00:00:00</td>\n",
       "      <td>32.240549</td>\n",
       "      <td>0.119000</td>\n",
       "      <td>8.186970</td>\n",
       "      <td>2988 days 05:51:27.466300800</td>\n",
       "      <td>2014-04-23 05:51:27.466300800</td>\n",
       "      <td>2988 days 05:51:27.466300800</td>\n",
       "      <td>1</td>\n",
       "      <td>0.85804</td>\n",
       "      <td>1.42230</td>\n",
       "      <td>52</td>\n",
       "    </tr>\n",
       "    <tr>\n",
       "      <th>1351633</th>\n",
       "      <td>2007-10-16</td>\n",
       "      <td>4.80</td>\n",
       "      <td>1940-02-19</td>\n",
       "      <td>0.0</td>\n",
       "      <td>40.0</td>\n",
       "      <td>42.400000</td>\n",
       "      <td>38.0</td>\n",
       "      <td>77.0</td>\n",
       "      <td>2009-03-08 00:00:00</td>\n",
       "      <td>28.961850</td>\n",
       "      <td>0.042400</td>\n",
       "      <td>2.426405</td>\n",
       "      <td>885 days 15:18:42.783897600</td>\n",
       "      <td>2010-03-19 15:18:42.783897600</td>\n",
       "      <td>885 days 15:18:42.783897600</td>\n",
       "      <td>1</td>\n",
       "      <td>0.86933</td>\n",
       "      <td>0.98268</td>\n",
       "      <td>55</td>\n",
       "    </tr>\n",
       "    <tr>\n",
       "      <th>4606911</th>\n",
       "      <td>2006-10-05</td>\n",
       "      <td>4.70</td>\n",
       "      <td>1965-06-27</td>\n",
       "      <td>0.0</td>\n",
       "      <td>13.0</td>\n",
       "      <td>0.091700</td>\n",
       "      <td>39.0</td>\n",
       "      <td>146.0</td>\n",
       "      <td>2007-02-09 00:00:00</td>\n",
       "      <td>27.868948</td>\n",
       "      <td>0.000092</td>\n",
       "      <td>9.283942</td>\n",
       "      <td>3388 days 15:19:59.552716800</td>\n",
       "      <td>2016-01-14 15:19:59.552716800</td>\n",
       "      <td>3388 days 15:19:59.552716800</td>\n",
       "      <td>1</td>\n",
       "      <td>1.64834</td>\n",
       "      <td>1.00854</td>\n",
       "      <td>56</td>\n",
       "    </tr>\n",
       "    <tr>\n",
       "      <th>3834084</th>\n",
       "      <td>2006-06-19</td>\n",
       "      <td>5.00</td>\n",
       "      <td>1953-06-12</td>\n",
       "      <td>0.0</td>\n",
       "      <td>24.0</td>\n",
       "      <td>442.100006</td>\n",
       "      <td>70.0</td>\n",
       "      <td>82.0</td>\n",
       "      <td>2007-03-26 00:00:00</td>\n",
       "      <td>31.147650</td>\n",
       "      <td>0.442100</td>\n",
       "      <td>9.493219</td>\n",
       "      <td>3465 days 00:35:39.866035200</td>\n",
       "      <td>2015-12-14 00:35:39.866035200</td>\n",
       "      <td>3465 days 00:35:39.866035200</td>\n",
       "      <td>1</td>\n",
       "      <td>0.92578</td>\n",
       "      <td>1.81020</td>\n",
       "      <td>57</td>\n",
       "    </tr>\n",
       "    <tr>\n",
       "      <th>4017756</th>\n",
       "      <td>2008-01-02</td>\n",
       "      <td>5.60</td>\n",
       "      <td>1955-06-13</td>\n",
       "      <td>0.0</td>\n",
       "      <td>20.0</td>\n",
       "      <td>43.800000</td>\n",
       "      <td>68.0</td>\n",
       "      <td>76.0</td>\n",
       "      <td>2008-09-02 00:00:00</td>\n",
       "      <td>37.705050</td>\n",
       "      <td>0.043800</td>\n",
       "      <td>3.247393</td>\n",
       "      <td>1185 days 07:09:41.240822400</td>\n",
       "      <td>2011-04-01 07:09:41.240822400</td>\n",
       "      <td>1185 days 07:09:41.240822400</td>\n",
       "      <td>1</td>\n",
       "      <td>0.85804</td>\n",
       "      <td>1.75848</td>\n",
       "      <td>60</td>\n",
       "    </tr>\n",
       "    <tr>\n",
       "      <th>5438362</th>\n",
       "      <td>2007-12-30</td>\n",
       "      <td>5.50</td>\n",
       "      <td>1950-07-05</td>\n",
       "      <td>0.0</td>\n",
       "      <td>17.0</td>\n",
       "      <td>38.200000</td>\n",
       "      <td>62.0</td>\n",
       "      <td>76.0</td>\n",
       "      <td>2008-06-10 00:00:00</td>\n",
       "      <td>36.612150</td>\n",
       "      <td>0.038200</td>\n",
       "      <td>7.462012</td>\n",
       "      <td>2723 days 15:13:29.434944</td>\n",
       "      <td>2015-06-14 15:13:29.434944000</td>\n",
       "      <td>2723 days 15:13:29.434944</td>\n",
       "      <td>1</td>\n",
       "      <td>0.85804</td>\n",
       "      <td>1.60332</td>\n",
       "      <td>60</td>\n",
       "    </tr>\n",
       "    <tr>\n",
       "      <th>52237</th>\n",
       "      <td>2011-12-04</td>\n",
       "      <td>4.30</td>\n",
       "      <td>1950-05-13</td>\n",
       "      <td>1.0</td>\n",
       "      <td>21.0</td>\n",
       "      <td>85.000000</td>\n",
       "      <td>40.0</td>\n",
       "      <td>89.0</td>\n",
       "      <td>2012-07-30 00:00:00</td>\n",
       "      <td>23.497350</td>\n",
       "      <td>0.085000</td>\n",
       "      <td>8.732739</td>\n",
       "      <td>3187 days 10:47:51.880819200</td>\n",
       "      <td>2019-12-31 00:00:00.000000000</td>\n",
       "      <td>2949 days 00:00:00</td>\n",
       "      <td>1</td>\n",
       "      <td>1.00481</td>\n",
       "      <td>1.03440</td>\n",
       "      <td>62</td>\n",
       "    </tr>\n",
       "    <tr>\n",
       "      <th>3833821</th>\n",
       "      <td>2010-02-22</td>\n",
       "      <td>4.50</td>\n",
       "      <td>1953-04-15</td>\n",
       "      <td>1.0</td>\n",
       "      <td>29.0</td>\n",
       "      <td>145.700000</td>\n",
       "      <td>37.0</td>\n",
       "      <td>155.0</td>\n",
       "      <td>2011-09-21 00:00:00</td>\n",
       "      <td>25.683150</td>\n",
       "      <td>0.145700</td>\n",
       "      <td>3.736874</td>\n",
       "      <td>1363 days 23:01:03.726278400</td>\n",
       "      <td>2013-11-16 23:01:03.726278400</td>\n",
       "      <td>1363 days 23:01:03.726278400</td>\n",
       "      <td>1</td>\n",
       "      <td>1.74995</td>\n",
       "      <td>0.95682</td>\n",
       "      <td>62</td>\n",
       "    </tr>\n",
       "    <tr>\n",
       "      <th>1431563</th>\n",
       "      <td>2008-03-12</td>\n",
       "      <td>5.30</td>\n",
       "      <td>1943-10-02</td>\n",
       "      <td>1.0</td>\n",
       "      <td>17.0</td>\n",
       "      <td>59.400000</td>\n",
       "      <td>25.0</td>\n",
       "      <td>93.0</td>\n",
       "      <td>2009-02-16 00:00:00</td>\n",
       "      <td>34.426350</td>\n",
       "      <td>0.059400</td>\n",
       "      <td>4.383432</td>\n",
       "      <td>1599 days 22:52:02.129779200</td>\n",
       "      <td>2012-07-28 22:52:02.129779200</td>\n",
       "      <td>1599 days 22:52:02.129779200</td>\n",
       "      <td>1</td>\n",
       "      <td>1.04997</td>\n",
       "      <td>0.64650</td>\n",
       "      <td>63</td>\n",
       "    </tr>\n",
       "    <tr>\n",
       "      <th>5178000</th>\n",
       "      <td>2007-01-25</td>\n",
       "      <td>4.80</td>\n",
       "      <td>1957-02-17</td>\n",
       "      <td>0.0</td>\n",
       "      <td>21.0</td>\n",
       "      <td>100.000000</td>\n",
       "      <td>38.0</td>\n",
       "      <td>208.0</td>\n",
       "      <td>2010-09-05 00:00:00</td>\n",
       "      <td>28.961852</td>\n",
       "      <td>0.100000</td>\n",
       "      <td>8.530675</td>\n",
       "      <td>3113 days 16:42:32.700816</td>\n",
       "      <td>2015-08-04 16:42:32.700816000</td>\n",
       "      <td>3113 days 16:42:32.700816</td>\n",
       "      <td>1</td>\n",
       "      <td>2.34832</td>\n",
       "      <td>0.98268</td>\n",
       "      <td>66</td>\n",
       "    </tr>\n",
       "    <tr>\n",
       "      <th>4643222</th>\n",
       "      <td>2011-05-18</td>\n",
       "      <td>3.40</td>\n",
       "      <td>1967-08-11</td>\n",
       "      <td>1.0</td>\n",
       "      <td>15.0</td>\n",
       "      <td>51.000000</td>\n",
       "      <td>32.0</td>\n",
       "      <td>450.0</td>\n",
       "      <td>2014-09-22 00:00:00</td>\n",
       "      <td>13.661250</td>\n",
       "      <td>0.051000</td>\n",
       "      <td>6.399060</td>\n",
       "      <td>2335 days 15:46:05.071209600</td>\n",
       "      <td>2017-10-08 15:46:05.071209600</td>\n",
       "      <td>2335 days 15:46:05.071209600</td>\n",
       "      <td>1</td>\n",
       "      <td>5.08050</td>\n",
       "      <td>0.82752</td>\n",
       "      <td>67</td>\n",
       "    </tr>\n",
       "    <tr>\n",
       "      <th>3903563</th>\n",
       "      <td>2008-03-19</td>\n",
       "      <td>4.00</td>\n",
       "      <td>1954-05-02</td>\n",
       "      <td>1.0</td>\n",
       "      <td>24.0</td>\n",
       "      <td>203.400000</td>\n",
       "      <td>22.0</td>\n",
       "      <td>138.0</td>\n",
       "      <td>2009-10-04 00:00:00</td>\n",
       "      <td>20.218650</td>\n",
       "      <td>0.203400</td>\n",
       "      <td>7.251156</td>\n",
       "      <td>2646 days 16:07:40.238227200</td>\n",
       "      <td>2015-06-17 16:07:40.238227200</td>\n",
       "      <td>2646 days 16:07:40.238227200</td>\n",
       "      <td>1</td>\n",
       "      <td>1.55802</td>\n",
       "      <td>0.56892</td>\n",
       "      <td>68</td>\n",
       "    </tr>\n",
       "    <tr>\n",
       "      <th>4236337</th>\n",
       "      <td>2006-09-13</td>\n",
       "      <td>5.50</td>\n",
       "      <td>1960-04-01</td>\n",
       "      <td>0.0</td>\n",
       "      <td>12.0</td>\n",
       "      <td>34.000000</td>\n",
       "      <td>55.0</td>\n",
       "      <td>141.0</td>\n",
       "      <td>2012-02-20 00:00:00</td>\n",
       "      <td>36.612150</td>\n",
       "      <td>0.034000</td>\n",
       "      <td>6.011257</td>\n",
       "      <td>2194 days 02:36:55.585843200</td>\n",
       "      <td>2012-09-15 02:36:55.585843200</td>\n",
       "      <td>2194 days 02:36:55.585843200</td>\n",
       "      <td>1</td>\n",
       "      <td>1.59189</td>\n",
       "      <td>1.42230</td>\n",
       "      <td>68</td>\n",
       "    </tr>\n",
       "    <tr>\n",
       "      <th>7691140</th>\n",
       "      <td>2008-05-22</td>\n",
       "      <td>5.20</td>\n",
       "      <td>1958-02-11</td>\n",
       "      <td>0.0</td>\n",
       "      <td>39.0</td>\n",
       "      <td>0.092000</td>\n",
       "      <td>58.0</td>\n",
       "      <td>59.0</td>\n",
       "      <td>2008-09-03 00:00:00</td>\n",
       "      <td>33.333450</td>\n",
       "      <td>0.000092</td>\n",
       "      <td>8.675182</td>\n",
       "      <td>3166 days 10:35:27.920745600</td>\n",
       "      <td>2017-01-21 10:35:27.920745600</td>\n",
       "      <td>3166 days 10:35:27.920745600</td>\n",
       "      <td>1</td>\n",
       "      <td>0.66611</td>\n",
       "      <td>1.49988</td>\n",
       "      <td>68</td>\n",
       "    </tr>\n",
       "    <tr>\n",
       "      <th>1047243</th>\n",
       "      <td>2006-08-29</td>\n",
       "      <td>4.60</td>\n",
       "      <td>1962-07-09</td>\n",
       "      <td>0.0</td>\n",
       "      <td>17.0</td>\n",
       "      <td>79.500000</td>\n",
       "      <td>38.0</td>\n",
       "      <td>158.0</td>\n",
       "      <td>2015-04-19 00:00:00</td>\n",
       "      <td>26.776049</td>\n",
       "      <td>0.079500</td>\n",
       "      <td>12.169495</td>\n",
       "      <td>4441 days 20:46:30.134438400</td>\n",
       "      <td>2018-10-26 20:46:30.134438400</td>\n",
       "      <td>4441 days 20:46:30.134438400</td>\n",
       "      <td>1</td>\n",
       "      <td>1.78382</td>\n",
       "      <td>0.98268</td>\n",
       "      <td>68</td>\n",
       "    </tr>\n",
       "    <tr>\n",
       "      <th>1381267</th>\n",
       "      <td>2010-06-29</td>\n",
       "      <td>5.50</td>\n",
       "      <td>1964-10-15</td>\n",
       "      <td>0.0</td>\n",
       "      <td>19.0</td>\n",
       "      <td>86.000000</td>\n",
       "      <td>73.0</td>\n",
       "      <td>70.0</td>\n",
       "      <td>2014-11-09 00:00:00</td>\n",
       "      <td>36.612150</td>\n",
       "      <td>0.086000</td>\n",
       "      <td>9.095581</td>\n",
       "      <td>3319 days 21:17:18.549945600</td>\n",
       "      <td>2019-07-31 21:17:18.549945600</td>\n",
       "      <td>3319 days 21:17:18.549945600</td>\n",
       "      <td>1</td>\n",
       "      <td>0.79030</td>\n",
       "      <td>1.88778</td>\n",
       "      <td>69</td>\n",
       "    </tr>\n",
       "    <tr>\n",
       "      <th>323406</th>\n",
       "      <td>2008-01-16</td>\n",
       "      <td>5.50</td>\n",
       "      <td>1946-07-24</td>\n",
       "      <td>1.0</td>\n",
       "      <td>14.0</td>\n",
       "      <td>78.800000</td>\n",
       "      <td>42.0</td>\n",
       "      <td>100.0</td>\n",
       "      <td>2011-11-26 00:00:00</td>\n",
       "      <td>36.612150</td>\n",
       "      <td>0.078800</td>\n",
       "      <td>4.815939</td>\n",
       "      <td>1757 days 19:37:16.963248</td>\n",
       "      <td>2012-11-07 19:37:16.963248000</td>\n",
       "      <td>1757 days 19:37:16.963248</td>\n",
       "      <td>1</td>\n",
       "      <td>1.12900</td>\n",
       "      <td>1.08612</td>\n",
       "      <td>69</td>\n",
       "    </tr>\n",
       "    <tr>\n",
       "      <th>4343240</th>\n",
       "      <td>2006-10-23</td>\n",
       "      <td>4.90</td>\n",
       "      <td>1961-09-30</td>\n",
       "      <td>0.0</td>\n",
       "      <td>48.0</td>\n",
       "      <td>86.000000</td>\n",
       "      <td>44.0</td>\n",
       "      <td>140.0</td>\n",
       "      <td>2007-06-24 00:00:00</td>\n",
       "      <td>30.054751</td>\n",
       "      <td>0.086000</td>\n",
       "      <td>6.587437</td>\n",
       "      <td>2404 days 09:56:39.508742400</td>\n",
       "      <td>2013-05-23 09:56:39.508742400</td>\n",
       "      <td>2404 days 09:56:39.508742400</td>\n",
       "      <td>1</td>\n",
       "      <td>1.58060</td>\n",
       "      <td>1.13784</td>\n",
       "      <td>69</td>\n",
       "    </tr>\n",
       "    <tr>\n",
       "      <th>1525482</th>\n",
       "      <td>2011-07-03</td>\n",
       "      <td>5.30</td>\n",
       "      <td>1947-05-27</td>\n",
       "      <td>0.0</td>\n",
       "      <td>89.0</td>\n",
       "      <td>58.000000</td>\n",
       "      <td>59.0</td>\n",
       "      <td>78.0</td>\n",
       "      <td>2017-04-07 00:00:00</td>\n",
       "      <td>34.426350</td>\n",
       "      <td>0.058000</td>\n",
       "      <td>7.283641</td>\n",
       "      <td>2658 days 12:41:45.754137600</td>\n",
       "      <td>2018-10-12 12:41:45.754137600</td>\n",
       "      <td>2658 days 12:41:45.754137600</td>\n",
       "      <td>1</td>\n",
       "      <td>0.88062</td>\n",
       "      <td>1.52574</td>\n",
       "      <td>69</td>\n",
       "    </tr>\n",
       "    <tr>\n",
       "      <th>3405999</th>\n",
       "      <td>2008-05-06</td>\n",
       "      <td>4.90</td>\n",
       "      <td>1948-03-18</td>\n",
       "      <td>1.0</td>\n",
       "      <td>28.0</td>\n",
       "      <td>99.000000</td>\n",
       "      <td>38.0</td>\n",
       "      <td>104.0</td>\n",
       "      <td>2012-08-02 00:00:00</td>\n",
       "      <td>30.054750</td>\n",
       "      <td>0.099000</td>\n",
       "      <td>8.394476</td>\n",
       "      <td>3063 days 23:36:45.445680</td>\n",
       "      <td>2016-09-24 23:36:45.445680000</td>\n",
       "      <td>3063 days 23:36:45.445680</td>\n",
       "      <td>1</td>\n",
       "      <td>1.17416</td>\n",
       "      <td>0.98268</td>\n",
       "      <td>69</td>\n",
       "    </tr>\n",
       "    <tr>\n",
       "      <th>5476311</th>\n",
       "      <td>2008-09-18</td>\n",
       "      <td>5.70</td>\n",
       "      <td>1962-02-06</td>\n",
       "      <td>0.0</td>\n",
       "      <td>14.0</td>\n",
       "      <td>32.200000</td>\n",
       "      <td>92.0</td>\n",
       "      <td>45.0</td>\n",
       "      <td>2017-01-08 00:00:00</td>\n",
       "      <td>38.797950</td>\n",
       "      <td>0.032200</td>\n",
       "      <td>8.464218</td>\n",
       "      <td>3089 days 10:33:07.901337600</td>\n",
       "      <td>2017-03-04 10:33:07.901337600</td>\n",
       "      <td>3089 days 10:33:07.901337600</td>\n",
       "      <td>1</td>\n",
       "      <td>0.50805</td>\n",
       "      <td>2.37912</td>\n",
       "      <td>69</td>\n",
       "    </tr>\n",
       "    <tr>\n",
       "      <th>5156202</th>\n",
       "      <td>2006-03-13</td>\n",
       "      <td>5.50</td>\n",
       "      <td>1948-09-07</td>\n",
       "      <td>0.0</td>\n",
       "      <td>27.0</td>\n",
       "      <td>38.000000</td>\n",
       "      <td>44.0</td>\n",
       "      <td>78.0</td>\n",
       "      <td>2009-08-02 00:00:00</td>\n",
       "      <td>36.612150</td>\n",
       "      <td>0.038000</td>\n",
       "      <td>3.582978</td>\n",
       "      <td>1307 days 18:53:18.026015999</td>\n",
       "      <td>2009-10-10 18:53:18.026015999</td>\n",
       "      <td>1307 days 18:53:18.026015999</td>\n",
       "      <td>1</td>\n",
       "      <td>0.88062</td>\n",
       "      <td>1.13784</td>\n",
       "      <td>71</td>\n",
       "    </tr>\n",
       "    <tr>\n",
       "      <th>1690024</th>\n",
       "      <td>2008-05-30</td>\n",
       "      <td>5.20</td>\n",
       "      <td>1966-03-23</td>\n",
       "      <td>1.0</td>\n",
       "      <td>22.0</td>\n",
       "      <td>126.800000</td>\n",
       "      <td>32.0</td>\n",
       "      <td>51.0</td>\n",
       "      <td>2010-03-10 00:00:00</td>\n",
       "      <td>33.333450</td>\n",
       "      <td>0.126800</td>\n",
       "      <td>6.739752</td>\n",
       "      <td>2460 days 00:13:28.766121600</td>\n",
       "      <td>2015-02-23 00:13:28.766121600</td>\n",
       "      <td>2460 days 00:13:28.766121600</td>\n",
       "      <td>1</td>\n",
       "      <td>0.57579</td>\n",
       "      <td>0.82752</td>\n",
       "      <td>72</td>\n",
       "    </tr>\n",
       "    <tr>\n",
       "      <th>4135390</th>\n",
       "      <td>2007-11-28</td>\n",
       "      <td>4.10</td>\n",
       "      <td>1957-05-17</td>\n",
       "      <td>1.0</td>\n",
       "      <td>33.0</td>\n",
       "      <td>355.200000</td>\n",
       "      <td>25.0</td>\n",
       "      <td>99.0</td>\n",
       "      <td>2008-11-06 00:00:00</td>\n",
       "      <td>21.311550</td>\n",
       "      <td>0.355200</td>\n",
       "      <td>6.733765</td>\n",
       "      <td>2457 days 19:46:48.300355200</td>\n",
       "      <td>2014-08-20 19:46:48.300355200</td>\n",
       "      <td>2457 days 19:46:48.300355200</td>\n",
       "      <td>1</td>\n",
       "      <td>1.11771</td>\n",
       "      <td>0.64650</td>\n",
       "      <td>72</td>\n",
       "    </tr>\n",
       "    <tr>\n",
       "      <th>1245113</th>\n",
       "      <td>2010-11-08</td>\n",
       "      <td>5.30</td>\n",
       "      <td>1948-07-13</td>\n",
       "      <td>1.0</td>\n",
       "      <td>24.0</td>\n",
       "      <td>48.000000</td>\n",
       "      <td>51.0</td>\n",
       "      <td>122.0</td>\n",
       "      <td>2012-02-02 00:00:00</td>\n",
       "      <td>34.426350</td>\n",
       "      <td>0.048000</td>\n",
       "      <td>7.435450</td>\n",
       "      <td>2713 days 22:32:21.608044800</td>\n",
       "      <td>2018-04-13 22:32:21.608044800</td>\n",
       "      <td>2713 days 22:32:21.608044800</td>\n",
       "      <td>1</td>\n",
       "      <td>1.37738</td>\n",
       "      <td>1.31886</td>\n",
       "      <td>72</td>\n",
       "    </tr>\n",
       "    <tr>\n",
       "      <th>9278261</th>\n",
       "      <td>2007-10-15</td>\n",
       "      <td>5.20</td>\n",
       "      <td>1957-10-01</td>\n",
       "      <td>1.0</td>\n",
       "      <td>2.0</td>\n",
       "      <td>61.700000</td>\n",
       "      <td>27.0</td>\n",
       "      <td>186.0</td>\n",
       "      <td>2012-03-29 00:00:00</td>\n",
       "      <td>33.333450</td>\n",
       "      <td>0.061700</td>\n",
       "      <td>8.237591</td>\n",
       "      <td>3006 days 17:17:46.398019199</td>\n",
       "      <td>2016-01-07 17:17:46.398019199</td>\n",
       "      <td>3006 days 17:17:46.398019199</td>\n",
       "      <td>1</td>\n",
       "      <td>2.09994</td>\n",
       "      <td>0.69822</td>\n",
       "      <td>72</td>\n",
       "    </tr>\n",
       "    <tr>\n",
       "      <th>1498676</th>\n",
       "      <td>2008-06-22</td>\n",
       "      <td>5.00</td>\n",
       "      <td>1940-05-20</td>\n",
       "      <td>0.0</td>\n",
       "      <td>20.0</td>\n",
       "      <td>114.000000</td>\n",
       "      <td>28.0</td>\n",
       "      <td>154.0</td>\n",
       "      <td>2011-08-04 00:00:00</td>\n",
       "      <td>31.147650</td>\n",
       "      <td>0.114000</td>\n",
       "      <td>7.538603</td>\n",
       "      <td>2751 days 14:09:38.008195200</td>\n",
       "      <td>2016-01-03 14:09:38.008195200</td>\n",
       "      <td>2751 days 14:09:38.008195200</td>\n",
       "      <td>1</td>\n",
       "      <td>1.73866</td>\n",
       "      <td>0.72408</td>\n",
       "      <td>74</td>\n",
       "    </tr>\n",
       "    <tr>\n",
       "      <th>5322985</th>\n",
       "      <td>2010-02-11</td>\n",
       "      <td>5.30</td>\n",
       "      <td>1942-06-17</td>\n",
       "      <td>1.0</td>\n",
       "      <td>16.0</td>\n",
       "      <td>86.800000</td>\n",
       "      <td>30.0</td>\n",
       "      <td>98.0</td>\n",
       "      <td>2011-03-16 00:00:00</td>\n",
       "      <td>34.426350</td>\n",
       "      <td>0.086800</td>\n",
       "      <td>7.895603</td>\n",
       "      <td>2881 days 21:29:04.982611200</td>\n",
       "      <td>2018-01-01 21:29:04.982611200</td>\n",
       "      <td>2881 days 21:29:04.982611200</td>\n",
       "      <td>1</td>\n",
       "      <td>1.10642</td>\n",
       "      <td>0.77580</td>\n",
       "      <td>74</td>\n",
       "    </tr>\n",
       "    <tr>\n",
       "      <th>4164869</th>\n",
       "      <td>2011-07-05</td>\n",
       "      <td>5.00</td>\n",
       "      <td>1958-03-13</td>\n",
       "      <td>0.0</td>\n",
       "      <td>20.0</td>\n",
       "      <td>111.200000</td>\n",
       "      <td>31.0</td>\n",
       "      <td>157.0</td>\n",
       "      <td>2012-05-11 00:00:00</td>\n",
       "      <td>31.147650</td>\n",
       "      <td>0.111200</td>\n",
       "      <td>9.739211</td>\n",
       "      <td>3554 days 19:29:32.096342400</td>\n",
       "      <td>2019-12-31 00:00:00.000000000</td>\n",
       "      <td>3101 days 00:00:00</td>\n",
       "      <td>1</td>\n",
       "      <td>1.77253</td>\n",
       "      <td>0.80166</td>\n",
       "      <td>75</td>\n",
       "    </tr>\n",
       "    <tr>\n",
       "      <th>8123362</th>\n",
       "      <td>2011-09-14</td>\n",
       "      <td>5.40</td>\n",
       "      <td>1960-02-15</td>\n",
       "      <td>0.0</td>\n",
       "      <td>148.0</td>\n",
       "      <td>84.000000</td>\n",
       "      <td>46.0</td>\n",
       "      <td>69.0</td>\n",
       "      <td>2013-06-18 00:00:00</td>\n",
       "      <td>35.519250</td>\n",
       "      <td>0.084000</td>\n",
       "      <td>4.794859</td>\n",
       "      <td>1750 days 02:57:41.978419200</td>\n",
       "      <td>2016-06-29 02:57:41.978419200</td>\n",
       "      <td>1750 days 02:57:41.978419200</td>\n",
       "      <td>1</td>\n",
       "      <td>0.77901</td>\n",
       "      <td>1.18956</td>\n",
       "      <td>75</td>\n",
       "    </tr>\n",
       "    <tr>\n",
       "      <th>5227386</th>\n",
       "      <td>2006-02-15</td>\n",
       "      <td>5.36</td>\n",
       "      <td>1945-09-07</td>\n",
       "      <td>1.0</td>\n",
       "      <td>23.0</td>\n",
       "      <td>48.500000</td>\n",
       "      <td>58.0</td>\n",
       "      <td>113.0</td>\n",
       "      <td>2008-01-04 00:00:00</td>\n",
       "      <td>35.082091</td>\n",
       "      <td>0.048500</td>\n",
       "      <td>7.474510</td>\n",
       "      <td>2728 days 04:42:16.897737600</td>\n",
       "      <td>2013-08-05 04:42:16.897737600</td>\n",
       "      <td>2728 days 04:42:16.897737600</td>\n",
       "      <td>1</td>\n",
       "      <td>1.27577</td>\n",
       "      <td>1.49988</td>\n",
       "      <td>76</td>\n",
       "    </tr>\n",
       "    <tr>\n",
       "      <th>5504842</th>\n",
       "      <td>2008-10-21</td>\n",
       "      <td>6.00</td>\n",
       "      <td>1958-03-10</td>\n",
       "      <td>0.0</td>\n",
       "      <td>11.0</td>\n",
       "      <td>45.300000</td>\n",
       "      <td>52.0</td>\n",
       "      <td>59.0</td>\n",
       "      <td>2010-10-11 00:00:00</td>\n",
       "      <td>42.076650</td>\n",
       "      <td>0.045300</td>\n",
       "      <td>3.567752</td>\n",
       "      <td>1302 days 05:30:26.676028800</td>\n",
       "      <td>2012-05-15 05:30:26.676028800</td>\n",
       "      <td>1302 days 05:30:26.676028800</td>\n",
       "      <td>1</td>\n",
       "      <td>0.66611</td>\n",
       "      <td>1.34472</td>\n",
       "      <td>77</td>\n",
       "    </tr>\n",
       "    <tr>\n",
       "      <th>4170121</th>\n",
       "      <td>2010-09-15</td>\n",
       "      <td>5.30</td>\n",
       "      <td>1958-06-15</td>\n",
       "      <td>1.0</td>\n",
       "      <td>30.0</td>\n",
       "      <td>50.000000</td>\n",
       "      <td>53.0</td>\n",
       "      <td>109.0</td>\n",
       "      <td>2016-10-28 00:00:00</td>\n",
       "      <td>34.426350</td>\n",
       "      <td>0.050000</td>\n",
       "      <td>7.376164</td>\n",
       "      <td>2692 days 07:11:42.321091200</td>\n",
       "      <td>2018-01-28 07:11:42.321091200</td>\n",
       "      <td>2692 days 07:11:42.321091200</td>\n",
       "      <td>1</td>\n",
       "      <td>1.23061</td>\n",
       "      <td>1.37058</td>\n",
       "      <td>77</td>\n",
       "    </tr>\n",
       "    <tr>\n",
       "      <th>8971987</th>\n",
       "      <td>2006-04-26</td>\n",
       "      <td>5.20</td>\n",
       "      <td>1951-08-10</td>\n",
       "      <td>0.0</td>\n",
       "      <td>30.0</td>\n",
       "      <td>76.000000</td>\n",
       "      <td>55.0</td>\n",
       "      <td>191.0</td>\n",
       "      <td>2009-10-18 00:00:00</td>\n",
       "      <td>33.333448</td>\n",
       "      <td>0.076000</td>\n",
       "      <td>9.795305</td>\n",
       "      <td>3575 days 06:52:04.494000</td>\n",
       "      <td>2016-02-08 06:52:04.494000000</td>\n",
       "      <td>3575 days 06:52:04.494000</td>\n",
       "      <td>1</td>\n",
       "      <td>2.15639</td>\n",
       "      <td>1.42230</td>\n",
       "      <td>78</td>\n",
       "    </tr>\n",
       "    <tr>\n",
       "      <th>8010481</th>\n",
       "      <td>2008-02-25</td>\n",
       "      <td>4.90</td>\n",
       "      <td>1955-09-09</td>\n",
       "      <td>1.0</td>\n",
       "      <td>39.0</td>\n",
       "      <td>0.137200</td>\n",
       "      <td>53.0</td>\n",
       "      <td>173.0</td>\n",
       "      <td>2015-07-19 00:00:00</td>\n",
       "      <td>30.054750</td>\n",
       "      <td>0.000137</td>\n",
       "      <td>9.415570</td>\n",
       "      <td>3436 days 16:23:50.703503999</td>\n",
       "      <td>2017-07-23 16:23:50.703503999</td>\n",
       "      <td>3436 days 16:23:50.703503999</td>\n",
       "      <td>1</td>\n",
       "      <td>1.95317</td>\n",
       "      <td>1.37058</td>\n",
       "      <td>78</td>\n",
       "    </tr>\n",
       "    <tr>\n",
       "      <th>8954108</th>\n",
       "      <td>2006-05-29</td>\n",
       "      <td>5.50</td>\n",
       "      <td>1947-09-21</td>\n",
       "      <td>0.0</td>\n",
       "      <td>18.0</td>\n",
       "      <td>0.109000</td>\n",
       "      <td>30.0</td>\n",
       "      <td>71.0</td>\n",
       "      <td>2007-06-10 00:00:00</td>\n",
       "      <td>36.612150</td>\n",
       "      <td>0.000109</td>\n",
       "      <td>7.600635</td>\n",
       "      <td>2774 days 05:33:50.204188800</td>\n",
       "      <td>2014-01-01 05:33:50.204188800</td>\n",
       "      <td>2774 days 05:33:50.204188800</td>\n",
       "      <td>1</td>\n",
       "      <td>0.80159</td>\n",
       "      <td>0.77580</td>\n",
       "      <td>79</td>\n",
       "    </tr>\n",
       "    <tr>\n",
       "      <th>5227974</th>\n",
       "      <td>2007-08-19</td>\n",
       "      <td>5.40</td>\n",
       "      <td>1953-12-10</td>\n",
       "      <td>1.0</td>\n",
       "      <td>11.0</td>\n",
       "      <td>0.000000</td>\n",
       "      <td>35.0</td>\n",
       "      <td>83.0</td>\n",
       "      <td>2015-11-16 00:00:00</td>\n",
       "      <td>35.519250</td>\n",
       "      <td>0.000000</td>\n",
       "      <td>9.165687</td>\n",
       "      <td>3345 days 11:25:13.184428800</td>\n",
       "      <td>2016-10-15 11:25:13.184428800</td>\n",
       "      <td>3345 days 11:25:13.184428800</td>\n",
       "      <td>1</td>\n",
       "      <td>0.93707</td>\n",
       "      <td>0.90510</td>\n",
       "      <td>80</td>\n",
       "    </tr>\n",
       "    <tr>\n",
       "      <th>4060575</th>\n",
       "      <td>2008-05-06</td>\n",
       "      <td>6.30</td>\n",
       "      <td>1956-02-29</td>\n",
       "      <td>0.0</td>\n",
       "      <td>17.0</td>\n",
       "      <td>62.400000</td>\n",
       "      <td>65.0</td>\n",
       "      <td>102.0</td>\n",
       "      <td>2011-06-29 00:00:00</td>\n",
       "      <td>45.355350</td>\n",
       "      <td>0.062400</td>\n",
       "      <td>4.205942</td>\n",
       "      <td>1535 days 04:03:14.536800</td>\n",
       "      <td>2012-07-19 04:03:14.536800000</td>\n",
       "      <td>1535 days 04:03:14.536800</td>\n",
       "      <td>1</td>\n",
       "      <td>1.15158</td>\n",
       "      <td>1.68090</td>\n",
       "      <td>81</td>\n",
       "    </tr>\n",
       "    <tr>\n",
       "      <th>4211452</th>\n",
       "      <td>2009-02-02</td>\n",
       "      <td>4.70</td>\n",
       "      <td>1959-01-21</td>\n",
       "      <td>1.0</td>\n",
       "      <td>42.0</td>\n",
       "      <td>59.700000</td>\n",
       "      <td>35.0</td>\n",
       "      <td>211.0</td>\n",
       "      <td>2011-05-23 00:00:00</td>\n",
       "      <td>27.868950</td>\n",
       "      <td>0.059700</td>\n",
       "      <td>6.046915</td>\n",
       "      <td>2207 days 02:58:43.288723200</td>\n",
       "      <td>2015-02-18 02:58:43.288723200</td>\n",
       "      <td>2207 days 02:58:43.288723200</td>\n",
       "      <td>1</td>\n",
       "      <td>2.38219</td>\n",
       "      <td>0.90510</td>\n",
       "      <td>82</td>\n",
       "    </tr>\n",
       "    <tr>\n",
       "      <th>4002718</th>\n",
       "      <td>2007-08-01</td>\n",
       "      <td>5.30</td>\n",
       "      <td>1955-02-26</td>\n",
       "      <td>0.0</td>\n",
       "      <td>30.0</td>\n",
       "      <td>64.000000</td>\n",
       "      <td>50.0</td>\n",
       "      <td>170.0</td>\n",
       "      <td>2014-08-05 00:00:00</td>\n",
       "      <td>34.426350</td>\n",
       "      <td>0.064000</td>\n",
       "      <td>8.129304</td>\n",
       "      <td>2967 days 04:42:17.063107200</td>\n",
       "      <td>2015-09-15 04:42:17.063107200</td>\n",
       "      <td>2967 days 04:42:17.063107200</td>\n",
       "      <td>1</td>\n",
       "      <td>1.91930</td>\n",
       "      <td>1.29300</td>\n",
       "      <td>82</td>\n",
       "    </tr>\n",
       "    <tr>\n",
       "      <th>4541983</th>\n",
       "      <td>2007-10-26</td>\n",
       "      <td>5.50</td>\n",
       "      <td>1966-02-05</td>\n",
       "      <td>1.0</td>\n",
       "      <td>22.0</td>\n",
       "      <td>55.400000</td>\n",
       "      <td>31.0</td>\n",
       "      <td>106.0</td>\n",
       "      <td>2009-12-21 00:00:00</td>\n",
       "      <td>36.612150</td>\n",
       "      <td>0.055400</td>\n",
       "      <td>3.874676</td>\n",
       "      <td>1414 days 06:09:48.811939200</td>\n",
       "      <td>2011-09-09 06:09:48.811939200</td>\n",
       "      <td>1414 days 06:09:48.811939200</td>\n",
       "      <td>1</td>\n",
       "      <td>1.19674</td>\n",
       "      <td>0.80166</td>\n",
       "      <td>83</td>\n",
       "    </tr>\n",
       "    <tr>\n",
       "      <th>4511889</th>\n",
       "      <td>2006-10-09</td>\n",
       "      <td>5.50</td>\n",
       "      <td>1964-04-06</td>\n",
       "      <td>0.0</td>\n",
       "      <td>32.0</td>\n",
       "      <td>113.099998</td>\n",
       "      <td>46.0</td>\n",
       "      <td>47.0</td>\n",
       "      <td>2007-08-07 00:00:00</td>\n",
       "      <td>36.612150</td>\n",
       "      <td>0.113100</td>\n",
       "      <td>5.485152</td>\n",
       "      <td>2002 days 01:55:52.496457600</td>\n",
       "      <td>2012-04-02 01:55:52.496457600</td>\n",
       "      <td>2002 days 01:55:52.496457600</td>\n",
       "      <td>1</td>\n",
       "      <td>0.53063</td>\n",
       "      <td>1.18956</td>\n",
       "      <td>83</td>\n",
       "    </tr>\n",
       "    <tr>\n",
       "      <th>5505031</th>\n",
       "      <td>2006-10-26</td>\n",
       "      <td>4.70</td>\n",
       "      <td>1963-06-01</td>\n",
       "      <td>0.0</td>\n",
       "      <td>71.0</td>\n",
       "      <td>81.500000</td>\n",
       "      <td>32.0</td>\n",
       "      <td>249.0</td>\n",
       "      <td>2010-10-13 00:00:00</td>\n",
       "      <td>27.868948</td>\n",
       "      <td>0.081500</td>\n",
       "      <td>6.998277</td>\n",
       "      <td>2554 days 08:54:35.990236800</td>\n",
       "      <td>2013-10-23 08:54:35.990236800</td>\n",
       "      <td>2554 days 08:54:35.990236800</td>\n",
       "      <td>1</td>\n",
       "      <td>2.81121</td>\n",
       "      <td>0.82752</td>\n",
       "      <td>84</td>\n",
       "    </tr>\n",
       "  </tbody>\n",
       "</table>\n",
       "</div>"
      ],
      "text/plain": [
       "        first_visit  HbA1c% datetime_leida  is_male    GGT  \\\n",
       "pid                                                          \n",
       "4427284  2008-11-04    4.40     1962-12-31      0.0   12.0   \n",
       "2893236  2009-09-16    4.90     1950-02-12      0.0   13.0   \n",
       "3797282  2007-11-06    4.60     1951-08-09      0.0   11.0   \n",
       "537062   2009-08-17    5.09     1944-01-07      0.0   18.0   \n",
       "813015   2009-02-23    4.90     1947-02-13      1.0   23.0   \n",
       "9211665  2008-04-30    4.90     1950-11-25      0.0   74.0   \n",
       "5110727  2011-12-15    5.20     1958-05-20      0.0   25.0   \n",
       "4744037  2006-02-16    5.10     1949-06-10      0.0   25.0   \n",
       "1351633  2007-10-16    4.80     1940-02-19      0.0   40.0   \n",
       "4606911  2006-10-05    4.70     1965-06-27      0.0   13.0   \n",
       "3834084  2006-06-19    5.00     1953-06-12      0.0   24.0   \n",
       "4017756  2008-01-02    5.60     1955-06-13      0.0   20.0   \n",
       "5438362  2007-12-30    5.50     1950-07-05      0.0   17.0   \n",
       "52237    2011-12-04    4.30     1950-05-13      1.0   21.0   \n",
       "3833821  2010-02-22    4.50     1953-04-15      1.0   29.0   \n",
       "1431563  2008-03-12    5.30     1943-10-02      1.0   17.0   \n",
       "5178000  2007-01-25    4.80     1957-02-17      0.0   21.0   \n",
       "4643222  2011-05-18    3.40     1967-08-11      1.0   15.0   \n",
       "3903563  2008-03-19    4.00     1954-05-02      1.0   24.0   \n",
       "4236337  2006-09-13    5.50     1960-04-01      0.0   12.0   \n",
       "7691140  2008-05-22    5.20     1958-02-11      0.0   39.0   \n",
       "1047243  2006-08-29    4.60     1962-07-09      0.0   17.0   \n",
       "1381267  2010-06-29    5.50     1964-10-15      0.0   19.0   \n",
       "323406   2008-01-16    5.50     1946-07-24      1.0   14.0   \n",
       "4343240  2006-10-23    4.90     1961-09-30      0.0   48.0   \n",
       "1525482  2011-07-03    5.30     1947-05-27      0.0   89.0   \n",
       "3405999  2008-05-06    4.90     1948-03-18      1.0   28.0   \n",
       "5476311  2008-09-18    5.70     1962-02-06      0.0   14.0   \n",
       "5156202  2006-03-13    5.50     1948-09-07      0.0   27.0   \n",
       "1690024  2008-05-30    5.20     1966-03-23      1.0   22.0   \n",
       "4135390  2007-11-28    4.10     1957-05-17      1.0   33.0   \n",
       "1245113  2010-11-08    5.30     1948-07-13      1.0   24.0   \n",
       "9278261  2007-10-15    5.20     1957-10-01      1.0    2.0   \n",
       "1498676  2008-06-22    5.00     1940-05-20      0.0   20.0   \n",
       "5322985  2010-02-11    5.30     1942-06-17      1.0   16.0   \n",
       "4164869  2011-07-05    5.00     1958-03-13      0.0   20.0   \n",
       "8123362  2011-09-14    5.40     1960-02-15      0.0  148.0   \n",
       "5227386  2006-02-15    5.36     1945-09-07      1.0   23.0   \n",
       "5504842  2008-10-21    6.00     1958-03-10      0.0   11.0   \n",
       "4170121  2010-09-15    5.30     1958-06-15      1.0   30.0   \n",
       "8971987  2006-04-26    5.20     1951-08-10      0.0   30.0   \n",
       "8010481  2008-02-25    4.90     1955-09-09      1.0   39.0   \n",
       "8954108  2006-05-29    5.50     1947-09-21      0.0   18.0   \n",
       "5227974  2007-08-19    5.40     1953-12-10      1.0   11.0   \n",
       "4060575  2008-05-06    6.30     1956-02-29      0.0   17.0   \n",
       "4211452  2009-02-02    4.70     1959-01-21      1.0   42.0   \n",
       "4002718  2007-08-01    5.30     1955-02-26      0.0   30.0   \n",
       "4541983  2007-10-26    5.50     1966-02-05      1.0   22.0   \n",
       "4511889  2006-10-09    5.50     1964-04-06      0.0   32.0   \n",
       "5505031  2006-10-26    4.70     1963-06-01      0.0   71.0   \n",
       "\n",
       "         Reticulocyte Count   HDL  Triglycerides        diabetes_date  \\\n",
       "pid                                                                     \n",
       "4427284           86.700000  54.0           51.0  2012-01-30 00:00:00   \n",
       "2893236            0.071900  37.0          210.0  2013-04-12 00:00:00   \n",
       "3797282           66.000000  44.0           85.0  2019-05-14 00:00:00   \n",
       "537062            82.000000  68.0          120.0  2015-01-13 00:00:00   \n",
       "813015           120.000000  46.0          153.0  2010-04-11 00:00:00   \n",
       "9211665           54.000000  47.0           74.0  2008-08-13 00:00:00   \n",
       "5110727           14.000000  57.0          123.0  2013-07-11 00:00:00   \n",
       "4744037          119.000000  55.0           76.0  2009-08-26 00:00:00   \n",
       "1351633           42.400000  38.0           77.0  2009-03-08 00:00:00   \n",
       "4606911            0.091700  39.0          146.0  2007-02-09 00:00:00   \n",
       "3834084          442.100006  70.0           82.0  2007-03-26 00:00:00   \n",
       "4017756           43.800000  68.0           76.0  2008-09-02 00:00:00   \n",
       "5438362           38.200000  62.0           76.0  2008-06-10 00:00:00   \n",
       "52237             85.000000  40.0           89.0  2012-07-30 00:00:00   \n",
       "3833821          145.700000  37.0          155.0  2011-09-21 00:00:00   \n",
       "1431563           59.400000  25.0           93.0  2009-02-16 00:00:00   \n",
       "5178000          100.000000  38.0          208.0  2010-09-05 00:00:00   \n",
       "4643222           51.000000  32.0          450.0  2014-09-22 00:00:00   \n",
       "3903563          203.400000  22.0          138.0  2009-10-04 00:00:00   \n",
       "4236337           34.000000  55.0          141.0  2012-02-20 00:00:00   \n",
       "7691140            0.092000  58.0           59.0  2008-09-03 00:00:00   \n",
       "1047243           79.500000  38.0          158.0  2015-04-19 00:00:00   \n",
       "1381267           86.000000  73.0           70.0  2014-11-09 00:00:00   \n",
       "323406            78.800000  42.0          100.0  2011-11-26 00:00:00   \n",
       "4343240           86.000000  44.0          140.0  2007-06-24 00:00:00   \n",
       "1525482           58.000000  59.0           78.0  2017-04-07 00:00:00   \n",
       "3405999           99.000000  38.0          104.0  2012-08-02 00:00:00   \n",
       "5476311           32.200000  92.0           45.0  2017-01-08 00:00:00   \n",
       "5156202           38.000000  44.0           78.0  2009-08-02 00:00:00   \n",
       "1690024          126.800000  32.0           51.0  2010-03-10 00:00:00   \n",
       "4135390          355.200000  25.0           99.0  2008-11-06 00:00:00   \n",
       "1245113           48.000000  51.0          122.0  2012-02-02 00:00:00   \n",
       "9278261           61.700000  27.0          186.0  2012-03-29 00:00:00   \n",
       "1498676          114.000000  28.0          154.0  2011-08-04 00:00:00   \n",
       "5322985           86.800000  30.0           98.0  2011-03-16 00:00:00   \n",
       "4164869          111.200000  31.0          157.0  2012-05-11 00:00:00   \n",
       "8123362           84.000000  46.0           69.0  2013-06-18 00:00:00   \n",
       "5227386           48.500000  58.0          113.0  2008-01-04 00:00:00   \n",
       "5504842           45.300000  52.0           59.0  2010-10-11 00:00:00   \n",
       "4170121           50.000000  53.0          109.0  2016-10-28 00:00:00   \n",
       "8971987           76.000000  55.0          191.0  2009-10-18 00:00:00   \n",
       "8010481            0.137200  53.0          173.0  2015-07-19 00:00:00   \n",
       "8954108            0.109000  30.0           71.0  2007-06-10 00:00:00   \n",
       "5227974            0.000000  35.0           83.0  2015-11-16 00:00:00   \n",
       "4060575           62.400000  65.0          102.0  2011-06-29 00:00:00   \n",
       "4211452           59.700000  35.0          211.0  2011-05-23 00:00:00   \n",
       "4002718           64.000000  50.0          170.0  2014-08-05 00:00:00   \n",
       "4541983           55.400000  31.0          106.0  2009-12-21 00:00:00   \n",
       "4511889          113.099998  46.0           47.0  2007-08-07 00:00:00   \n",
       "5505031           81.500000  32.0          249.0  2010-10-13 00:00:00   \n",
       "\n",
       "         UKB_HbA1c  UKB_reticulocyte_count   dt_years  \\\n",
       "pid                                                     \n",
       "4427284  24.590250                0.086700   6.367673   \n",
       "2893236  30.054750                0.000072   4.790601   \n",
       "3797282  26.776050                0.066000  11.775417   \n",
       "537062   32.131260                0.082000   6.360471   \n",
       "813015   30.054750                0.120000   2.856342   \n",
       "9211665  30.054750                0.054000   4.678835   \n",
       "5110727  33.333450                0.014000   4.816836   \n",
       "4744037  32.240549                0.119000   8.186970   \n",
       "1351633  28.961850                0.042400   2.426405   \n",
       "4606911  27.868948                0.000092   9.283942   \n",
       "3834084  31.147650                0.442100   9.493219   \n",
       "4017756  37.705050                0.043800   3.247393   \n",
       "5438362  36.612150                0.038200   7.462012   \n",
       "52237    23.497350                0.085000   8.732739   \n",
       "3833821  25.683150                0.145700   3.736874   \n",
       "1431563  34.426350                0.059400   4.383432   \n",
       "5178000  28.961852                0.100000   8.530675   \n",
       "4643222  13.661250                0.051000   6.399060   \n",
       "3903563  20.218650                0.203400   7.251156   \n",
       "4236337  36.612150                0.034000   6.011257   \n",
       "7691140  33.333450                0.000092   8.675182   \n",
       "1047243  26.776049                0.079500  12.169495   \n",
       "1381267  36.612150                0.086000   9.095581   \n",
       "323406   36.612150                0.078800   4.815939   \n",
       "4343240  30.054751                0.086000   6.587437   \n",
       "1525482  34.426350                0.058000   7.283641   \n",
       "3405999  30.054750                0.099000   8.394476   \n",
       "5476311  38.797950                0.032200   8.464218   \n",
       "5156202  36.612150                0.038000   3.582978   \n",
       "1690024  33.333450                0.126800   6.739752   \n",
       "4135390  21.311550                0.355200   6.733765   \n",
       "1245113  34.426350                0.048000   7.435450   \n",
       "9278261  33.333450                0.061700   8.237591   \n",
       "1498676  31.147650                0.114000   7.538603   \n",
       "5322985  34.426350                0.086800   7.895603   \n",
       "4164869  31.147650                0.111200   9.739211   \n",
       "8123362  35.519250                0.084000   4.794859   \n",
       "5227386  35.082091                0.048500   7.474510   \n",
       "5504842  42.076650                0.045300   3.567752   \n",
       "4170121  34.426350                0.050000   7.376164   \n",
       "8971987  33.333448                0.076000   9.795305   \n",
       "8010481  30.054750                0.000137   9.415570   \n",
       "8954108  36.612150                0.000109   7.600635   \n",
       "5227974  35.519250                0.000000   9.165687   \n",
       "4060575  45.355350                0.062400   4.205942   \n",
       "4211452  27.868950                0.059700   6.046915   \n",
       "4002718  34.426350                0.064000   8.129304   \n",
       "4541983  36.612150                0.055400   3.874676   \n",
       "4511889  36.612150                0.113100   5.485152   \n",
       "5505031  27.868948                0.081500   6.998277   \n",
       "\n",
       "                             dt_days                    check_date  \\\n",
       "pid                                                                  \n",
       "4427284 2324 days 04:48:43.162847999 2015-03-17 04:48:43.162847999   \n",
       "2893236 1748 days 13:40:01.631366400 2014-06-30 13:40:01.631366400   \n",
       "3797282    4298 days 00:39:25.504128 2019-08-13 00:39:25.504128000   \n",
       "537062  2321 days 13:43:31.287964800 2015-12-25 13:43:31.287964800   \n",
       "813015     1042 days 13:33:18.725616 2012-01-01 13:33:18.725616000   \n",
       "9211665 1707 days 18:35:50.092425600 2013-01-01 18:35:50.092425600   \n",
       "5110727    1758 days 03:28:58.354608 2016-10-07 03:28:58.354608000   \n",
       "4744037 2988 days 05:51:27.466300800 2014-04-23 05:51:27.466300800   \n",
       "1351633  885 days 15:18:42.783897600 2010-03-19 15:18:42.783897600   \n",
       "4606911 3388 days 15:19:59.552716800 2016-01-14 15:19:59.552716800   \n",
       "3834084 3465 days 00:35:39.866035200 2015-12-14 00:35:39.866035200   \n",
       "4017756 1185 days 07:09:41.240822400 2011-04-01 07:09:41.240822400   \n",
       "5438362    2723 days 15:13:29.434944 2015-06-14 15:13:29.434944000   \n",
       "52237   3187 days 10:47:51.880819200 2019-12-31 00:00:00.000000000   \n",
       "3833821 1363 days 23:01:03.726278400 2013-11-16 23:01:03.726278400   \n",
       "1431563 1599 days 22:52:02.129779200 2012-07-28 22:52:02.129779200   \n",
       "5178000    3113 days 16:42:32.700816 2015-08-04 16:42:32.700816000   \n",
       "4643222 2335 days 15:46:05.071209600 2017-10-08 15:46:05.071209600   \n",
       "3903563 2646 days 16:07:40.238227200 2015-06-17 16:07:40.238227200   \n",
       "4236337 2194 days 02:36:55.585843200 2012-09-15 02:36:55.585843200   \n",
       "7691140 3166 days 10:35:27.920745600 2017-01-21 10:35:27.920745600   \n",
       "1047243 4441 days 20:46:30.134438400 2018-10-26 20:46:30.134438400   \n",
       "1381267 3319 days 21:17:18.549945600 2019-07-31 21:17:18.549945600   \n",
       "323406     1757 days 19:37:16.963248 2012-11-07 19:37:16.963248000   \n",
       "4343240 2404 days 09:56:39.508742400 2013-05-23 09:56:39.508742400   \n",
       "1525482 2658 days 12:41:45.754137600 2018-10-12 12:41:45.754137600   \n",
       "3405999    3063 days 23:36:45.445680 2016-09-24 23:36:45.445680000   \n",
       "5476311 3089 days 10:33:07.901337600 2017-03-04 10:33:07.901337600   \n",
       "5156202 1307 days 18:53:18.026015999 2009-10-10 18:53:18.026015999   \n",
       "1690024 2460 days 00:13:28.766121600 2015-02-23 00:13:28.766121600   \n",
       "4135390 2457 days 19:46:48.300355200 2014-08-20 19:46:48.300355200   \n",
       "1245113 2713 days 22:32:21.608044800 2018-04-13 22:32:21.608044800   \n",
       "9278261 3006 days 17:17:46.398019199 2016-01-07 17:17:46.398019199   \n",
       "1498676 2751 days 14:09:38.008195200 2016-01-03 14:09:38.008195200   \n",
       "5322985 2881 days 21:29:04.982611200 2018-01-01 21:29:04.982611200   \n",
       "4164869 3554 days 19:29:32.096342400 2019-12-31 00:00:00.000000000   \n",
       "8123362 1750 days 02:57:41.978419200 2016-06-29 02:57:41.978419200   \n",
       "5227386 2728 days 04:42:16.897737600 2013-08-05 04:42:16.897737600   \n",
       "5504842 1302 days 05:30:26.676028800 2012-05-15 05:30:26.676028800   \n",
       "4170121 2692 days 07:11:42.321091200 2018-01-28 07:11:42.321091200   \n",
       "8971987    3575 days 06:52:04.494000 2016-02-08 06:52:04.494000000   \n",
       "8010481 3436 days 16:23:50.703503999 2017-07-23 16:23:50.703503999   \n",
       "8954108 2774 days 05:33:50.204188800 2014-01-01 05:33:50.204188800   \n",
       "5227974 3345 days 11:25:13.184428800 2016-10-15 11:25:13.184428800   \n",
       "4060575    1535 days 04:03:14.536800 2012-07-19 04:03:14.536800000   \n",
       "4211452 2207 days 02:58:43.288723200 2015-02-18 02:58:43.288723200   \n",
       "4002718 2967 days 04:42:17.063107200 2015-09-15 04:42:17.063107200   \n",
       "4541983 1414 days 06:09:48.811939200 2011-09-09 06:09:48.811939200   \n",
       "4511889 2002 days 01:55:52.496457600 2012-04-02 01:55:52.496457600   \n",
       "5505031 2554 days 08:54:35.990236800 2013-10-23 08:54:35.990236800   \n",
       "\n",
       "                            final_dt  Y  UKB_Triglycerides  UKB_HDL  score  \n",
       "pid                                                                         \n",
       "4427284 2324 days 04:48:43.162847999  1            0.57579  1.39644     31  \n",
       "2893236 1748 days 13:40:01.631366400  1            2.37090  0.95682     42  \n",
       "3797282    4298 days 00:39:25.504128  1            0.95965  1.13784     47  \n",
       "537062  2321 days 13:43:31.287964800  1            1.35480  1.75848     47  \n",
       "813015     1042 days 13:33:18.725616  1            1.72737  1.18956     49  \n",
       "9211665 1707 days 18:35:50.092425600  1            0.83546  1.21542     49  \n",
       "5110727    1758 days 03:28:58.354608  1            1.38867  1.47402     51  \n",
       "4744037 2988 days 05:51:27.466300800  1            0.85804  1.42230     52  \n",
       "1351633  885 days 15:18:42.783897600  1            0.86933  0.98268     55  \n",
       "4606911 3388 days 15:19:59.552716800  1            1.64834  1.00854     56  \n",
       "3834084 3465 days 00:35:39.866035200  1            0.92578  1.81020     57  \n",
       "4017756 1185 days 07:09:41.240822400  1            0.85804  1.75848     60  \n",
       "5438362    2723 days 15:13:29.434944  1            0.85804  1.60332     60  \n",
       "52237             2949 days 00:00:00  1            1.00481  1.03440     62  \n",
       "3833821 1363 days 23:01:03.726278400  1            1.74995  0.95682     62  \n",
       "1431563 1599 days 22:52:02.129779200  1            1.04997  0.64650     63  \n",
       "5178000    3113 days 16:42:32.700816  1            2.34832  0.98268     66  \n",
       "4643222 2335 days 15:46:05.071209600  1            5.08050  0.82752     67  \n",
       "3903563 2646 days 16:07:40.238227200  1            1.55802  0.56892     68  \n",
       "4236337 2194 days 02:36:55.585843200  1            1.59189  1.42230     68  \n",
       "7691140 3166 days 10:35:27.920745600  1            0.66611  1.49988     68  \n",
       "1047243 4441 days 20:46:30.134438400  1            1.78382  0.98268     68  \n",
       "1381267 3319 days 21:17:18.549945600  1            0.79030  1.88778     69  \n",
       "323406     1757 days 19:37:16.963248  1            1.12900  1.08612     69  \n",
       "4343240 2404 days 09:56:39.508742400  1            1.58060  1.13784     69  \n",
       "1525482 2658 days 12:41:45.754137600  1            0.88062  1.52574     69  \n",
       "3405999    3063 days 23:36:45.445680  1            1.17416  0.98268     69  \n",
       "5476311 3089 days 10:33:07.901337600  1            0.50805  2.37912     69  \n",
       "5156202 1307 days 18:53:18.026015999  1            0.88062  1.13784     71  \n",
       "1690024 2460 days 00:13:28.766121600  1            0.57579  0.82752     72  \n",
       "4135390 2457 days 19:46:48.300355200  1            1.11771  0.64650     72  \n",
       "1245113 2713 days 22:32:21.608044800  1            1.37738  1.31886     72  \n",
       "9278261 3006 days 17:17:46.398019199  1            2.09994  0.69822     72  \n",
       "1498676 2751 days 14:09:38.008195200  1            1.73866  0.72408     74  \n",
       "5322985 2881 days 21:29:04.982611200  1            1.10642  0.77580     74  \n",
       "4164869           3101 days 00:00:00  1            1.77253  0.80166     75  \n",
       "8123362 1750 days 02:57:41.978419200  1            0.77901  1.18956     75  \n",
       "5227386 2728 days 04:42:16.897737600  1            1.27577  1.49988     76  \n",
       "5504842 1302 days 05:30:26.676028800  1            0.66611  1.34472     77  \n",
       "4170121 2692 days 07:11:42.321091200  1            1.23061  1.37058     77  \n",
       "8971987    3575 days 06:52:04.494000  1            2.15639  1.42230     78  \n",
       "8010481 3436 days 16:23:50.703503999  1            1.95317  1.37058     78  \n",
       "8954108 2774 days 05:33:50.204188800  1            0.80159  0.77580     79  \n",
       "5227974 3345 days 11:25:13.184428800  1            0.93707  0.90510     80  \n",
       "4060575    1535 days 04:03:14.536800  1            1.15158  1.68090     81  \n",
       "4211452 2207 days 02:58:43.288723200  1            2.38219  0.90510     82  \n",
       "4002718 2967 days 04:42:17.063107200  1            1.91930  1.29300     82  \n",
       "4541983 1414 days 06:09:48.811939200  1            1.19674  0.80166     83  \n",
       "4511889 2002 days 01:55:52.496457600  1            0.53063  1.18956     83  \n",
       "5505031 2554 days 08:54:35.990236800  1            2.81121  0.82752     84  "
      ]
     },
     "execution_count": 57,
     "metadata": {},
     "output_type": "execute_result"
    }
   ],
   "source": [
    "final_df.loc[final_df[\"Y\"]==1,:].head(50)"
   ]
  },
  {
   "cell_type": "code",
   "execution_count": 58,
   "metadata": {
    "ExecuteTime": {
     "end_time": "2021-11-16T14:18:12.264867Z",
     "start_time": "2021-11-16T14:18:12.200319Z"
    }
   },
   "outputs": [
    {
     "data": {
      "text/html": [
       "<div>\n",
       "<style scoped>\n",
       "    .dataframe tbody tr th:only-of-type {\n",
       "        vertical-align: middle;\n",
       "    }\n",
       "\n",
       "    .dataframe tbody tr th {\n",
       "        vertical-align: top;\n",
       "    }\n",
       "\n",
       "    .dataframe thead th {\n",
       "        text-align: right;\n",
       "    }\n",
       "</style>\n",
       "<table border=\"1\" class=\"dataframe\">\n",
       "  <thead>\n",
       "    <tr style=\"text-align: right;\">\n",
       "      <th></th>\n",
       "      <th>first_visit</th>\n",
       "      <th>HbA1c%</th>\n",
       "      <th>datetime_leida</th>\n",
       "      <th>is_male</th>\n",
       "      <th>GGT</th>\n",
       "      <th>Reticulocyte Count</th>\n",
       "      <th>HDL</th>\n",
       "      <th>Triglycerides</th>\n",
       "      <th>diabetes_date</th>\n",
       "      <th>UKB_HbA1c</th>\n",
       "      <th>UKB_reticulocyte_count</th>\n",
       "      <th>dt_years</th>\n",
       "      <th>dt_days</th>\n",
       "      <th>check_date</th>\n",
       "      <th>final_dt</th>\n",
       "      <th>Y</th>\n",
       "      <th>UKB_Triglycerides</th>\n",
       "      <th>UKB_HDL</th>\n",
       "      <th>score</th>\n",
       "    </tr>\n",
       "    <tr>\n",
       "      <th>pid</th>\n",
       "      <th></th>\n",
       "      <th></th>\n",
       "      <th></th>\n",
       "      <th></th>\n",
       "      <th></th>\n",
       "      <th></th>\n",
       "      <th></th>\n",
       "      <th></th>\n",
       "      <th></th>\n",
       "      <th></th>\n",
       "      <th></th>\n",
       "      <th></th>\n",
       "      <th></th>\n",
       "      <th></th>\n",
       "      <th></th>\n",
       "      <th></th>\n",
       "      <th></th>\n",
       "      <th></th>\n",
       "      <th></th>\n",
       "    </tr>\n",
       "  </thead>\n",
       "  <tbody>\n",
       "    <tr>\n",
       "      <th>3802410</th>\n",
       "      <td>2008-04-02</td>\n",
       "      <td>6.1</td>\n",
       "      <td>1951-09-18</td>\n",
       "      <td>0.0</td>\n",
       "      <td>63.0</td>\n",
       "      <td>39.0</td>\n",
       "      <td>24.0</td>\n",
       "      <td>138.0</td>\n",
       "      <td>NaN</td>\n",
       "      <td>43.169550</td>\n",
       "      <td>0.0390</td>\n",
       "      <td>10.231823</td>\n",
       "      <td>3734 days 14:46:18.612393600</td>\n",
       "      <td>2018-06-23 14:46:18.612393600</td>\n",
       "      <td>3734 days 14:46:18.612393600</td>\n",
       "      <td>0</td>\n",
       "      <td>1.55802</td>\n",
       "      <td>0.62064</td>\n",
       "      <td>145</td>\n",
       "    </tr>\n",
       "    <tr>\n",
       "      <th>4151047</th>\n",
       "      <td>2007-07-01</td>\n",
       "      <td>5.9</td>\n",
       "      <td>1957-07-27</td>\n",
       "      <td>1.0</td>\n",
       "      <td>86.0</td>\n",
       "      <td>42.0</td>\n",
       "      <td>41.0</td>\n",
       "      <td>249.0</td>\n",
       "      <td>NaN</td>\n",
       "      <td>40.983750</td>\n",
       "      <td>0.0420</td>\n",
       "      <td>9.285967</td>\n",
       "      <td>3389 days 09:04:24.974803200</td>\n",
       "      <td>2016-10-10 09:04:24.974803200</td>\n",
       "      <td>3389 days 09:04:24.974803200</td>\n",
       "      <td>0</td>\n",
       "      <td>2.81121</td>\n",
       "      <td>1.06026</td>\n",
       "      <td>149</td>\n",
       "    </tr>\n",
       "    <tr>\n",
       "      <th>1523814</th>\n",
       "      <td>2009-08-25</td>\n",
       "      <td>5.7</td>\n",
       "      <td>1940-03-07</td>\n",
       "      <td>1.0</td>\n",
       "      <td>162.0</td>\n",
       "      <td>29.0</td>\n",
       "      <td>8.0</td>\n",
       "      <td>261.0</td>\n",
       "      <td>NaN</td>\n",
       "      <td>38.797950</td>\n",
       "      <td>0.0290</td>\n",
       "      <td>9.748563</td>\n",
       "      <td>3558 days 05:24:56.319494400</td>\n",
       "      <td>2019-05-23 05:24:56.319494400</td>\n",
       "      <td>3558 days 05:24:56.319494400</td>\n",
       "      <td>0</td>\n",
       "      <td>2.94669</td>\n",
       "      <td>0.20688</td>\n",
       "      <td>149</td>\n",
       "    </tr>\n",
       "    <tr>\n",
       "      <th>4141416</th>\n",
       "      <td>2009-03-16</td>\n",
       "      <td>6.1</td>\n",
       "      <td>1957-05-24</td>\n",
       "      <td>1.0</td>\n",
       "      <td>73.0</td>\n",
       "      <td>85.3</td>\n",
       "      <td>25.0</td>\n",
       "      <td>168.0</td>\n",
       "      <td>NaN</td>\n",
       "      <td>43.169550</td>\n",
       "      <td>0.0853</td>\n",
       "      <td>10.890212</td>\n",
       "      <td>3974 days 22:15:20.543299200</td>\n",
       "      <td>2019-12-31 00:00:00.000000000</td>\n",
       "      <td>3942 days 00:00:00</td>\n",
       "      <td>0</td>\n",
       "      <td>1.89672</td>\n",
       "      <td>0.64650</td>\n",
       "      <td>150</td>\n",
       "    </tr>\n",
       "    <tr>\n",
       "      <th>9205236</th>\n",
       "      <td>2006-01-24</td>\n",
       "      <td>6.4</td>\n",
       "      <td>1946-03-16</td>\n",
       "      <td>1.0</td>\n",
       "      <td>66.0</td>\n",
       "      <td>3.0</td>\n",
       "      <td>42.0</td>\n",
       "      <td>230.0</td>\n",
       "      <td>NaN</td>\n",
       "      <td>46.448251</td>\n",
       "      <td>0.0030</td>\n",
       "      <td>10.158127</td>\n",
       "      <td>3707 days 17:11:35.290579200</td>\n",
       "      <td>2016-03-19 17:11:35.290579200</td>\n",
       "      <td>3707 days 17:11:35.290579200</td>\n",
       "      <td>0</td>\n",
       "      <td>2.59670</td>\n",
       "      <td>1.08612</td>\n",
       "      <td>153</td>\n",
       "    </tr>\n",
       "  </tbody>\n",
       "</table>\n",
       "</div>"
      ],
      "text/plain": [
       "        first_visit  HbA1c% datetime_leida  is_male    GGT  \\\n",
       "pid                                                          \n",
       "3802410  2008-04-02     6.1     1951-09-18      0.0   63.0   \n",
       "4151047  2007-07-01     5.9     1957-07-27      1.0   86.0   \n",
       "1523814  2009-08-25     5.7     1940-03-07      1.0  162.0   \n",
       "4141416  2009-03-16     6.1     1957-05-24      1.0   73.0   \n",
       "9205236  2006-01-24     6.4     1946-03-16      1.0   66.0   \n",
       "\n",
       "         Reticulocyte Count   HDL  Triglycerides diabetes_date  UKB_HbA1c  \\\n",
       "pid                                                                         \n",
       "3802410                39.0  24.0          138.0           NaN  43.169550   \n",
       "4151047                42.0  41.0          249.0           NaN  40.983750   \n",
       "1523814                29.0   8.0          261.0           NaN  38.797950   \n",
       "4141416                85.3  25.0          168.0           NaN  43.169550   \n",
       "9205236                 3.0  42.0          230.0           NaN  46.448251   \n",
       "\n",
       "         UKB_reticulocyte_count   dt_years                      dt_days  \\\n",
       "pid                                                                       \n",
       "3802410                  0.0390  10.231823 3734 days 14:46:18.612393600   \n",
       "4151047                  0.0420   9.285967 3389 days 09:04:24.974803200   \n",
       "1523814                  0.0290   9.748563 3558 days 05:24:56.319494400   \n",
       "4141416                  0.0853  10.890212 3974 days 22:15:20.543299200   \n",
       "9205236                  0.0030  10.158127 3707 days 17:11:35.290579200   \n",
       "\n",
       "                           check_date                     final_dt  Y  \\\n",
       "pid                                                                     \n",
       "3802410 2018-06-23 14:46:18.612393600 3734 days 14:46:18.612393600  0   \n",
       "4151047 2016-10-10 09:04:24.974803200 3389 days 09:04:24.974803200  0   \n",
       "1523814 2019-05-23 05:24:56.319494400 3558 days 05:24:56.319494400  0   \n",
       "4141416 2019-12-31 00:00:00.000000000           3942 days 00:00:00  0   \n",
       "9205236 2016-03-19 17:11:35.290579200 3707 days 17:11:35.290579200  0   \n",
       "\n",
       "         UKB_Triglycerides  UKB_HDL  score  \n",
       "pid                                         \n",
       "3802410            1.55802  0.62064    145  \n",
       "4151047            2.81121  1.06026    149  \n",
       "1523814            2.94669  0.20688    149  \n",
       "4141416            1.89672  0.64650    150  \n",
       "9205236            2.59670  1.08612    153  "
      ]
     },
     "execution_count": 58,
     "metadata": {},
     "output_type": "execute_result"
    }
   ],
   "source": [
    "final_df.loc[final_df[\"Y\"]==0,:].tail(5)"
   ]
  },
  {
   "cell_type": "code",
   "execution_count": null,
   "metadata": {},
   "outputs": [],
   "source": []
  },
  {
   "cell_type": "code",
   "execution_count": null,
   "metadata": {},
   "outputs": [],
   "source": []
  },
  {
   "cell_type": "code",
   "execution_count": null,
   "metadata": {},
   "outputs": [],
   "source": []
  },
  {
   "cell_type": "code",
   "execution_count": null,
   "metadata": {},
   "outputs": [],
   "source": []
  }
 ],
 "metadata": {
  "kernelspec": {
   "display_name": "Python 3",
   "language": "python",
   "name": "python3"
  },
  "language_info": {
   "codemirror_mode": {
    "name": "ipython",
    "version": 3
   },
   "file_extension": ".py",
   "mimetype": "text/x-python",
   "name": "python",
   "nbconvert_exporter": "python",
   "pygments_lexer": "ipython3",
   "version": "3.7.4"
  },
  "toc": {
   "base_numbering": 1,
   "nav_menu": {},
   "number_sections": true,
   "sideBar": true,
   "skip_h1_title": false,
   "title_cell": "Table of Contents",
   "title_sidebar": "Contents",
   "toc_cell": false,
   "toc_position": {},
   "toc_section_display": true,
   "toc_window_display": true
  },
  "varInspector": {
   "cols": {
    "lenName": 16,
    "lenType": 16,
    "lenVar": 40
   },
   "kernels_config": {
    "python": {
     "delete_cmd_postfix": "",
     "delete_cmd_prefix": "del ",
     "library": "var_list.py",
     "varRefreshCmd": "print(var_dic_list())"
    },
    "r": {
     "delete_cmd_postfix": ") ",
     "delete_cmd_prefix": "rm(",
     "library": "var_list.r",
     "varRefreshCmd": "cat(var_dic_list()) "
    }
   },
   "oldHeight": 122.84966600000001,
   "position": {
    "height": "40px",
    "left": "1173px",
    "right": "20px",
    "top": "-8px",
    "width": "250px"
   },
   "types_to_exclude": [
    "module",
    "function",
    "builtin_function_or_method",
    "instance",
    "_Feature"
   ],
   "varInspector_section_display": "none",
   "window_display": true
  }
 },
 "nbformat": 4,
 "nbformat_minor": 4
}
