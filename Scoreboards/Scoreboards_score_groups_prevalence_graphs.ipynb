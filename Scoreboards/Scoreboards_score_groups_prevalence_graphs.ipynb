{
 "cells": [
  {
   "cell_type": "code",
   "execution_count": 25,
   "metadata": {
    "ExecuteTime": {
     "end_time": "2021-12-21T12:42:11.710991Z",
     "start_time": "2021-12-21T12:42:11.660068Z"
    }
   },
   "outputs": [
    {
     "name": "stdout",
     "output_type": "stream",
     "text": [
      "The autoreload extension is already loaded. To reload it, use:\n",
      "  %reload_ext autoreload\n"
     ]
    }
   ],
   "source": [
    "%load_ext autoreload\n",
    "%autoreload 2\n",
    "%matplotlib inline\n",
    "import numpy as np\n",
    "import pandas as pd\n",
    "import os\n",
    "import sys\n",
    "sys.path.insert(0, '/home/edlitzy/PycharmProjects/UKBB_p3/Article_files/')\n",
    "sys.path.insert(0, \"/home/edlitzy/PycharmProjects/UKBB_p3/\")\n",
    "from UKBB_article_plots_config import *\n",
    "from UKBB_article_plots_functions import *\n",
    "from UKBB_Scoreboard_functions import *\n",
    "# from tqdm import tqdm\n",
    "import matplotlib as mpl"
   ]
  },
  {
   "cell_type": "code",
   "execution_count": 26,
   "metadata": {
    "ExecuteTime": {
     "end_time": "2021-12-21T12:43:37.060972Z",
     "start_time": "2021-12-21T12:43:37.017149Z"
    }
   },
   "outputs": [],
   "source": [
    "def load_labels(Score_board,y_file_name,curr_folder,mode=\"explore\",return_results=True):\n",
    "    scores=Score_board.calc_scores(mode=mode,return_results=return_results)\n",
    "    scores.index=scores.index.astype(str)\n",
    "    df=pd.read_csv(os.path.join(curr_folder,y_file_name),index_col=0)\n",
    "    df.index=df.index.astype(str)\n",
    "#     if \"eid\" in val_scores.index and val_scores.index.name == \"eid\":\n",
    "#     val_scores.drop(\"eid\",inplace=True)\n",
    "    scores.name=\"y_pred\"\n",
    "    df.columns=[\"y_test\"]\n",
    "    df.index.name=\"eid\"\n",
    "    df=df.join(scores,how=\"left\")\n",
    "    pred_col=\"y_pred\"\n",
    "    df=df.astype(float)\n",
    "    df = df.sort_values(pred_col, ascending=False)\n",
    "    return scores,df\n",
    "\n",
    "# val_scores.loc[val_df.index.astype(str),\"y_pred\"]=val_df.values\n"
   ]
  },
  {
   "cell_type": "code",
   "execution_count": 27,
   "metadata": {
    "ExecuteTime": {
     "end_time": "2021-12-21T12:42:32.177087Z",
     "start_time": "2021-12-21T12:42:32.128703Z"
    }
   },
   "outputs": [],
   "source": [
    "def calc_ci(rank1K):\n",
    "    q25=rank1K[[\"Ratio\",\"Boundaries\"]].groupby(\"Boundaries\").quantile(0.025)\n",
    "    q975=rank1K[[\"Ratio\",\"Boundaries\"]].groupby(\"Boundaries\").quantile(0.975)\n",
    "    qmean=rank1K[[\"Ratio\",\"Boundaries\"]].groupby(\"Boundaries\").mean()\n",
    "    stats_df=pd.concat([qmean,q25,q975],axis=1)\n",
    "    stats_df.columns=[\"mean\",\"0.0275\",\"0.975\"]\n",
    "    stats_df = stats_df.applymap(lambda x: '{0:.3f}'.format(x) if x<0.01 else '{0:.2f}'.format(x))\n",
    "    stats_df[\"CI\"]=stats_df[\"mean\"]+\" [\"+stats_df[\"0.0275\"]+\"-\"+stats_df[\"0.975\"]+\"]\"\n",
    "    stats_df.reset_index(inplace=True)\n",
    "    stats_df[\"Legend\"]=stats_df[\"Boundaries\"]+\" \"+stats_df[\"CI\"]\n",
    "    return stats_df"
   ]
  },
  {
   "cell_type": "markdown",
   "metadata": {},
   "source": [
    "# Explore folders"
   ]
  },
  {
   "cell_type": "code",
   "execution_count": 28,
   "metadata": {
    "ExecuteTime": {
     "end_time": "2021-12-21T12:43:47.291308Z",
     "start_time": "2021-12-21T12:43:47.246085Z"
    }
   },
   "outputs": [
    {
     "data": {
      "text/plain": "['SA',\n 'stratified',\n 'clalit',\n 'compare_addings_LR',\n 'final_figures',\n 'figures',\n 'Compare_singles_LR',\n 'bu',\n 'explore',\n 'results_folder',\n 'LR_Antro_neto_whr',\n 'Singles_GBDT',\n 'compare_addings_DT',\n 'Tables']"
     },
     "execution_count": 28,
     "metadata": {},
     "output_type": "execute_result"
    }
   ],
   "source": [
    "base_path=\"/net/mraid08/export/jafar/Yochai/UKBB_Runs/For_article/Revision_runs/\"\n",
    "results_path=os.path.join(base_path,\"results_folder/\") # save_to_scoreboards_basic_path\n",
    "folders=[x for x in os.listdir(base_path) if os.path.isdir(os.path.join(base_path,x))]\n",
    "folders"
   ]
  },
  {
   "cell_type": "markdown",
   "metadata": {},
   "source": [
    "# Test for Four_blood_tests"
   ]
  },
  {
   "cell_type": "markdown",
   "metadata": {
    "ExecuteTime": {
     "end_time": "2021-06-03T09:40:27.323700Z",
     "start_time": "2021-06-03T09:40:26.881743Z"
    }
   },
   "source": [
    "## Recover relevant scoreboard"
   ]
  },
  {
   "cell_type": "code",
   "execution_count": 29,
   "metadata": {
    "ExecuteTime": {
     "end_time": "2021-12-21T15:02:40.560609Z",
     "start_time": "2021-12-21T15:02:40.366438Z"
    }
   },
   "outputs": [
    {
     "name": "stdout",
     "output_type": "stream",
     "text": [
      "Factor: 14.43 Offset: 43.56\n",
      "('Running in ', None, ' mode')\n",
      "checking if /net/mraid08/export/jafar/Yochai/UKBB_Runs/For_article/Revision_runs/results_folder/ exists\n",
      "checking if /net/mraid08/export/jafar/Yochai/UKBB_Runs/For_article/Revision_runs/results_folder/LR_No_reticulocytes_scoreboard/training_Results exists\n",
      "checking if /net/mraid08/export/jafar/Yochai/UKBB_Runs/For_article/Revision_runs/results_folder/LR_No_reticulocytes_scoreboard/CI exists\n",
      "('Running in ', None, ' mode')\n",
      "checking if /net/mraid08/export/jafar/Yochai/UKBB_Runs/For_article/Revision_runs/results_folder/ exists\n",
      "checking if /net/mraid08/export/jafar/Yochai/UKBB_Runs/For_article/Revision_runs/results_folder/LR_No_reticulocytes/training_Results exists\n",
      "checking if /net/mraid08/export/jafar/Yochai/UKBB_Runs/For_article/Revision_runs/results_folder/LR_No_reticulocytes/CI exists\n",
      "Loading ScoreBoard No_reticulocytes_scoreboard  from  /net/mraid08/export/jafar/Yochai/UKBB_Runs/For_article/Revision_runs/results_folder/LR_No_reticulocytes_scoreboard\n"
     ]
    }
   ],
   "source": [
    "scoreboard_type=\"No_reticulocytes_scoreboard\"\n",
    "# run_name=\"LR_No_reticulocytes_scoreboard\"\n",
    "\n",
    "sb=recover_scoreboard(scoreboard_type=scoreboard_type,\n",
    "                      save_to_scoreboards_basic_path=results_path,\n",
    "                      base_path=base_path)\n",
    "\n",
    "sb.woe_csv_path=os.path.join(results_path,sb.run_name,\"summary_files/woe_csv.csv\")\n",
    "sb.save_to_folder=os.path.join(results_path,sb.run_name)\n",
    "sb.summary_folder=os.path.join(results_path,sb.run_name,\"summary_files/\")"
   ]
  },
  {
   "cell_type": "markdown",
   "metadata": {},
   "source": [
    "## Load Scores and labels"
   ]
  },
  {
   "cell_type": "code",
   "execution_count": 30,
   "metadata": {
    "ExecuteTime": {
     "end_time": "2021-12-21T15:02:59.273825Z",
     "start_time": "2021-12-21T15:02:58.074007Z"
    }
   },
   "outputs": [],
   "source": [
    "curr_folder=os.path.join(base_path,\"results_folder\", sb.run_name)\n",
    "val_df,val_scores=load_labels(sb,y_file_name=\"y_LR_val.csv\",curr_folder=curr_folder,mode=\"explore\",return_results=True)\n",
    "test_df,test_scores=load_labels(sb,y_file_name=\"y_LR_test.csv\",curr_folder=curr_folder,mode=None,return_results=True)"
   ]
  },
  {
   "cell_type": "markdown",
   "metadata": {},
   "source": [
    "## Investigate validation df bins"
   ]
  },
  {
   "cell_type": "code",
   "execution_count": 31,
   "metadata": {
    "ExecuteTime": {
     "end_time": "2021-12-21T15:03:16.871374Z",
     "start_time": "2021-12-21T15:03:16.782758Z"
    }
   },
   "outputs": [
    {
     "data": {
      "text/plain": "  quantile number  Lower Boundary  upper Boundary  Diagnosed     All  \\\n0               1             0.0           104.0       50.0  8639.0   \n1               2           104.0           116.0       31.0  1026.0   \n2               3           116.0           146.0      113.0  1017.0   \n3               4           146.0           162.0       12.0    42.0   \n\n      Ratio       Fold  \n0  0.005788   1.000000  \n1  0.030214   5.220448  \n2  0.111111  19.197778  \n3  0.285714  49.365714  ",
      "text/html": "<div>\n<style scoped>\n    .dataframe tbody tr th:only-of-type {\n        vertical-align: middle;\n    }\n\n    .dataframe tbody tr th {\n        vertical-align: top;\n    }\n\n    .dataframe thead th {\n        text-align: right;\n    }\n</style>\n<table border=\"1\" class=\"dataframe\">\n  <thead>\n    <tr style=\"text-align: right;\">\n      <th></th>\n      <th>quantile number</th>\n      <th>Lower Boundary</th>\n      <th>upper Boundary</th>\n      <th>Diagnosed</th>\n      <th>All</th>\n      <th>Ratio</th>\n      <th>Fold</th>\n    </tr>\n  </thead>\n  <tbody>\n    <tr>\n      <th>0</th>\n      <td>1</td>\n      <td>0.0</td>\n      <td>104.0</td>\n      <td>50.0</td>\n      <td>8639.0</td>\n      <td>0.005788</td>\n      <td>1.000000</td>\n    </tr>\n    <tr>\n      <th>1</th>\n      <td>2</td>\n      <td>104.0</td>\n      <td>116.0</td>\n      <td>31.0</td>\n      <td>1026.0</td>\n      <td>0.030214</td>\n      <td>5.220448</td>\n    </tr>\n    <tr>\n      <th>2</th>\n      <td>3</td>\n      <td>116.0</td>\n      <td>146.0</td>\n      <td>113.0</td>\n      <td>1017.0</td>\n      <td>0.111111</td>\n      <td>19.197778</td>\n    </tr>\n    <tr>\n      <th>3</th>\n      <td>4</td>\n      <td>146.0</td>\n      <td>162.0</td>\n      <td>12.0</td>\n      <td>42.0</td>\n      <td>0.285714</td>\n      <td>49.365714</td>\n    </tr>\n  </tbody>\n</table>\n</div>"
     },
     "execution_count": 31,
     "metadata": {},
     "output_type": "execute_result"
    }
   ],
   "source": [
    "n_bins=100\n",
    "res=1./n_bins\n",
    "quants_bins=[0.8,0.9,0.995,1]\n",
    "val_Rank_df=pd.DataFrame()\n",
    "val_Rank_df=calc_Rank_df(val_scores, quants_bins=quants_bins, prevalence_thresh_fold=None,pred_col=\"y_pred\")\n",
    "val_Rank_df"
   ]
  },
  {
   "cell_type": "code",
   "execution_count": 32,
   "metadata": {
    "ExecuteTime": {
     "end_time": "2021-12-21T15:04:04.171828Z",
     "start_time": "2021-12-21T15:03:34.531007Z"
    }
   },
   "outputs": [
    {
     "data": {
      "text/plain": "             mean 0.0275  0.975                   CI  \\\nBoundaries                                             \n1-104       0.006  0.004  0.007  0.006 [0.004-0.007]   \n105-116      0.03   0.02   0.04     0.03 [0.02-0.04]   \n117-146      0.11   0.09   0.13     0.11 [0.09-0.13]   \n147-162      0.29   0.15   0.44     0.29 [0.15-0.44]   \n\n                               Legend  \nBoundaries                             \n1-104       1-104 0.006 [0.004-0.007]  \n105-116      105-116 0.03 [0.02-0.04]  \n117-146      117-146 0.11 [0.09-0.13]  \n147-162      147-162 0.29 [0.15-0.44]  ",
      "text/html": "<div>\n<style scoped>\n    .dataframe tbody tr th:only-of-type {\n        vertical-align: middle;\n    }\n\n    .dataframe tbody tr th {\n        vertical-align: top;\n    }\n\n    .dataframe thead th {\n        text-align: right;\n    }\n</style>\n<table border=\"1\" class=\"dataframe\">\n  <thead>\n    <tr style=\"text-align: right;\">\n      <th></th>\n      <th>mean</th>\n      <th>0.0275</th>\n      <th>0.975</th>\n      <th>CI</th>\n      <th>Legend</th>\n    </tr>\n    <tr>\n      <th>Boundaries</th>\n      <th></th>\n      <th></th>\n      <th></th>\n      <th></th>\n      <th></th>\n    </tr>\n  </thead>\n  <tbody>\n    <tr>\n      <th>1-104</th>\n      <td>0.006</td>\n      <td>0.004</td>\n      <td>0.007</td>\n      <td>0.006 [0.004-0.007]</td>\n      <td>1-104 0.006 [0.004-0.007]</td>\n    </tr>\n    <tr>\n      <th>105-116</th>\n      <td>0.03</td>\n      <td>0.02</td>\n      <td>0.04</td>\n      <td>0.03 [0.02-0.04]</td>\n      <td>105-116 0.03 [0.02-0.04]</td>\n    </tr>\n    <tr>\n      <th>117-146</th>\n      <td>0.11</td>\n      <td>0.09</td>\n      <td>0.13</td>\n      <td>0.11 [0.09-0.13]</td>\n      <td>117-146 0.11 [0.09-0.13]</td>\n    </tr>\n    <tr>\n      <th>147-162</th>\n      <td>0.29</td>\n      <td>0.15</td>\n      <td>0.44</td>\n      <td>0.29 [0.15-0.44]</td>\n      <td>147-162 0.29 [0.15-0.44]</td>\n    </tr>\n  </tbody>\n</table>\n</div>"
     },
     "execution_count": 32,
     "metadata": {},
     "output_type": "execute_result"
    }
   ],
   "source": [
    "boundaries=[0]\n",
    "boundaries.extend(val_Rank_df.loc[:,[\"upper Boundary\"]].values.flatten().tolist())\n",
    "val_rank_list=[]\n",
    "for ind in np.arange(1000):\n",
    "    sampled_val_scores=val_scores.sample(n=val_scores.shape[0],replace=True)\n",
    "    val_rank_list.append(test_rank_df(sampled_val_scores, boundaries=boundaries,pred_col=\"y_pred\"))\n",
    "val_rank1K=pd.concat(val_rank_list)\n",
    "val_rank1K[\"Boundaries\"]=(val_rank1K[\"Lower Boundary\"]+1).astype(int).astype(str)+\"-\"+val_rank1K[\"upper Boundary\"].astype(int).astype(str)\n",
    "val_rank1K.to_csv(os.path.join(curr_folder,base_path,\"val_scoreborad_groups_bootstrapping_results.csv\"))\n",
    "new_stats_df=calc_ci(val_rank1K)\n",
    "new_stats_df.set_index(\"Boundaries\",inplace=True,drop=True)\n",
    "new_stats_df.sort_values(by=\"mean\",inplace=True,ascending=True)\n",
    "new_stats_df.to_csv(os.path.join(curr_folder,base_path,\"val_scoreborad_groups_results.csv\"))\n",
    "new_stats_df"
   ]
  },
  {
   "cell_type": "markdown",
   "metadata": {},
   "source": [
    "## Get the bins results of the test"
   ]
  },
  {
   "cell_type": "code",
   "execution_count": 33,
   "metadata": {
    "ExecuteTime": {
     "end_time": "2021-12-21T15:04:49.068009Z",
     "start_time": "2021-12-21T15:04:22.599216Z"
    }
   },
   "outputs": [],
   "source": [
    "test_rank_list=[]\n",
    "for ind in np.arange(1000):\n",
    "    sampled_test_scores=test_scores.sample(n=test_scores.shape[0],replace=True)\n",
    "    test_rank_list.append(test_rank_df(sampled_test_scores, boundaries=boundaries,pred_col=\"y_pred\"))"
   ]
  },
  {
   "cell_type": "code",
   "execution_count": 34,
   "metadata": {
    "ExecuteTime": {
     "end_time": "2021-12-21T15:05:10.065955Z",
     "start_time": "2021-12-21T15:05:08.415445Z"
    }
   },
   "outputs": [],
   "source": [
    "test_rank1K=pd.concat(test_rank_list)\n",
    "test_rank1K[\"Boundaries\"]=(test_rank1K[\"Lower Boundary\"]+1).astype(int).astype(str)+\"-\"+test_rank1K[\"upper Boundary\"].astype(int).astype(str)\n",
    "test_rank1K.to_csv(os.path.join(curr_folder,base_path,\"scoreborad_groups_bootstrapping_results.csv\"))\n",
    "new_stats_df=calc_ci(test_rank1K)\n",
    "new_stats_df.set_index(\"Boundaries\",inplace=True,drop=True)\n",
    "new_stats_df.sort_values(by=\"mean\",inplace=True,ascending=True)\n",
    "new_stats_df.to_csv(os.path.join(curr_folder,base_path,\"scoreborad_groups_results.csv\"))"
   ]
  },
  {
   "cell_type": "code",
   "execution_count": 35,
   "metadata": {
    "ExecuteTime": {
     "end_time": "2021-12-21T15:05:29.331073Z",
     "start_time": "2021-12-21T15:05:29.291647Z"
    }
   },
   "outputs": [
    {
     "data": {
      "text/plain": "'/net/mraid08/export/jafar/Yochai/UKBB_Runs/For_article/Revision_runs/scoreborad_groups_results.csv'"
     },
     "execution_count": 35,
     "metadata": {},
     "output_type": "execute_result"
    }
   ],
   "source": [
    "os.path.join(curr_folder,base_path,\"scoreborad_groups_results.csv\")"
   ]
  },
  {
   "cell_type": "code",
   "execution_count": 36,
   "metadata": {
    "ExecuteTime": {
     "end_time": "2021-12-21T15:05:48.118371Z",
     "start_time": "2021-12-21T15:05:48.065904Z"
    }
   },
   "outputs": [
    {
     "data": {
      "text/plain": "             mean 0.0275  0.975                   CI  \\\nBoundaries                                             \n1-104       0.005  0.004  0.007  0.005 [0.004-0.007]   \n105-116      0.03   0.02   0.04     0.03 [0.02-0.04]   \n117-146      0.10   0.08   0.12     0.10 [0.08-0.12]   \n147-162      0.23   0.11   0.37     0.23 [0.11-0.37]   \n\n                               Legend  \nBoundaries                             \n1-104       1-104 0.005 [0.004-0.007]  \n105-116      105-116 0.03 [0.02-0.04]  \n117-146      117-146 0.10 [0.08-0.12]  \n147-162      147-162 0.23 [0.11-0.37]  ",
      "text/html": "<div>\n<style scoped>\n    .dataframe tbody tr th:only-of-type {\n        vertical-align: middle;\n    }\n\n    .dataframe tbody tr th {\n        vertical-align: top;\n    }\n\n    .dataframe thead th {\n        text-align: right;\n    }\n</style>\n<table border=\"1\" class=\"dataframe\">\n  <thead>\n    <tr style=\"text-align: right;\">\n      <th></th>\n      <th>mean</th>\n      <th>0.0275</th>\n      <th>0.975</th>\n      <th>CI</th>\n      <th>Legend</th>\n    </tr>\n    <tr>\n      <th>Boundaries</th>\n      <th></th>\n      <th></th>\n      <th></th>\n      <th></th>\n      <th></th>\n    </tr>\n  </thead>\n  <tbody>\n    <tr>\n      <th>1-104</th>\n      <td>0.005</td>\n      <td>0.004</td>\n      <td>0.007</td>\n      <td>0.005 [0.004-0.007]</td>\n      <td>1-104 0.005 [0.004-0.007]</td>\n    </tr>\n    <tr>\n      <th>105-116</th>\n      <td>0.03</td>\n      <td>0.02</td>\n      <td>0.04</td>\n      <td>0.03 [0.02-0.04]</td>\n      <td>105-116 0.03 [0.02-0.04]</td>\n    </tr>\n    <tr>\n      <th>117-146</th>\n      <td>0.10</td>\n      <td>0.08</td>\n      <td>0.12</td>\n      <td>0.10 [0.08-0.12]</td>\n      <td>117-146 0.10 [0.08-0.12]</td>\n    </tr>\n    <tr>\n      <th>147-162</th>\n      <td>0.23</td>\n      <td>0.11</td>\n      <td>0.37</td>\n      <td>0.23 [0.11-0.37]</td>\n      <td>147-162 0.23 [0.11-0.37]</td>\n    </tr>\n  </tbody>\n</table>\n</div>"
     },
     "execution_count": 36,
     "metadata": {},
     "output_type": "execute_result"
    }
   ],
   "source": [
    "new_stats_df"
   ]
  },
  {
   "cell_type": "markdown",
   "metadata": {},
   "source": [
    "## Plot whiskers"
   ]
  },
  {
   "cell_type": "code",
   "execution_count": 37,
   "metadata": {
    "ExecuteTime": {
     "end_time": "2021-12-21T15:07:48.179981Z",
     "start_time": "2021-12-21T15:07:46.870792Z"
    }
   },
   "outputs": [
    {
     "data": {
      "text/plain": "<Figure size 504x432 with 1 Axes>",
      "image/png": "[encoded data removed]"
     },
     "metadata": {
      "needs_background": "light"
     },
     "output_type": "display_data"
    }
   ],
   "source": [
    "title= \"Four blood tests score groups' T2D prevalence\"\n",
    "font = {'family' : 'normal',\n",
    "        'size'   : 16}\n",
    "mpl.rc('font', **font)\n",
    "# Plot the orbital period with horizontal boxes\n",
    "f, ax = plt.subplots(figsize=(7, 6))\n",
    "# ax.set_xscale(\"log\")\n",
    "\n",
    "# sns.violinplot(x=\"Boundaries\", y=\"Ratio\", data=test_rank1K, palette=\"Greens\")\n",
    "ax = sns.violinplot(x=\"Boundaries\", data=test_rank1K, y=\"Ratio\",palette=\"Reds\",scale=\"width\")\n",
    "# Add in points to show each observation\n",
    "# sns.stripplot(x=\"Boundaries\", y=\"Ratio\", data=test_rank1K,\n",
    "#               size=4, color=\".3\", linewidth=0)\n",
    "\n",
    "# Tweak the visual presentation\n",
    "ax.xaxis.grid(True)\n",
    "ax.set(ylabel=\"Diabetes prevalence\",xlabel=\"Score group\")\n",
    "# sns.despine(trim=True, left=True)\n",
    "# ax.legend(new_stats_df.Legend,title=\"T2D prevalence in score group\")\n",
    "text_list=\"\\n\".join(list(new_stats_df.Legend.values))\n",
    "text_list=\"T2D prevalence in score group\\n\"+text_list\n",
    "ax.text(-0.5, 0.3, text_list,fontsize=16,backgroundcolor='white',alpha=0.8)\n",
    "test_scores_prev=test_scores.y_test.sum()/test_scores.y_test.count()\n",
    "xmin,xmax=ax.get_xlim()\n",
    "ymin,ymax=ax.get_ylim()\n",
    "ymin=0\n",
    "ax.set_ylim(ymin,ymax)\n",
    "ax.hlines(y=test_scores_prev,xmin=xmin,xmax=xmax,linestyles=\"-.\",colors=\"darkred\",\n",
    "          label=\"Prevalence in the cohort \"+\"{:.1f}\".format(100*test_scores_prev)+\"%\")\n",
    "plt.legend(loc=\"upper left\")\n",
    "ax.set_title(title)\n",
    "plt.savefig(os.path.join(curr_folder,scoreboard_type+\"_groups_prevalence.jpeg\"))\n",
    "plt.show()"
   ]
  },
  {
   "cell_type": "code",
   "execution_count": 38,
   "outputs": [
    {
     "data": {
      "text/plain": "'/net/mraid08/export/jafar/Yochai/UKBB_Runs/For_article/Revision_runs/results_folder/LR_No_reticulocytes_scoreboard/No_reticulocytes_scoreboard_groups_prevalence.jpeg'"
     },
     "execution_count": 38,
     "metadata": {},
     "output_type": "execute_result"
    }
   ],
   "source": [
    "os.path.join(curr_folder,scoreboard_type+\"_groups_prevalence.jpeg\")"
   ],
   "metadata": {
    "collapsed": false,
    "pycharm": {
     "name": "#%%\n"
    }
   }
  },
  {
   "cell_type": "markdown",
   "metadata": {},
   "source": [
    "# Calculate Five Blood tests"
   ]
  },
  {
   "cell_type": "code",
   "execution_count": 39,
   "metadata": {
    "ExecuteTime": {
     "end_time": "2021-12-21T14:19:46.580909Z",
     "start_time": "2021-12-21T14:19:45.940421Z"
    },
    "collapsed": true
   },
   "outputs": [
    {
     "name": "stdout",
     "output_type": "stream",
     "text": [
      "Factor: 14.43 Offset: 43.56\n",
      "('Running in ', 'None', ' mode')\n",
      "checking if /net/mraid08/export/jafar/Yochai/UKBB_Runs/For_article/Revision_runs/results_folder/ exists\n",
      "checking if /net/mraid08/export/jafar/Yochai/UKBB_Runs/For_article/Revision_runs/results_folder/LR_Five_blood_tests_scoreboard/training_Results exists\n",
      "checking if /net/mraid08/export/jafar/Yochai/UKBB_Runs/For_article/Revision_runs/results_folder/LR_Five_blood_tests_scoreboard/CI exists\n",
      "('Running in ', 'None', ' mode')\n",
      "checking if /net/mraid08/export/jafar/Yochai/UKBB_Runs/For_article/Revision_runs/Compare_singles_LR/ exists\n",
      "checking if /net/mraid08/export/jafar/Yochai/UKBB_Runs/For_article/Revision_runs/Compare_singles_LR/LR_Five_Blood_Tests/training_Results exists\n",
      "checking if /net/mraid08/export/jafar/Yochai/UKBB_Runs/For_article/Revision_runs/Compare_singles_LR/LR_Five_Blood_Tests/CI exists\n",
      "Loading ScoreBoard Five_blood  from  /net/mraid08/export/jafar/Yochai/UKBB_Runs/For_article/Revision_runs/results_folder/LR_Five_blood_tests_scoreboard\n"
     ]
    }
   ],
   "source": [
    "scoreboard_type=\"Five_blood\"\n",
    "# run_name=\"LR_No_reticulocytes_scoreboard\"\n",
    "\n",
    "sb=recover_scoreboard(scoreboard_type=scoreboard_type,\n",
    "                      save_to_scoreboards_basic_path=results_path,\n",
    "                      base_path=base_path)\n",
    "\n",
    "sb.woe_csv_path=os.path.join(results_path,sb.run_name,\"summary_files/woe_csv.csv\")\n",
    "sb.save_to_folder=os.path.join(results_path,sb.run_name)\n",
    "sb.summary_folder=os.path.join(results_path,sb.run_name,\"summary_files/\")"
   ]
  },
  {
   "cell_type": "code",
   "execution_count": 40,
   "metadata": {
    "ExecuteTime": {
     "end_time": "2021-12-21T14:20:52.700459Z",
     "start_time": "2021-12-21T14:20:51.787084Z"
    }
   },
   "outputs": [],
   "source": [
    "curr_folder=os.path.join(base_path,\"results_folder\", sb.run_name)\n",
    "val_df,val_scores=load_labels(sb,y_file_name=\"y_LR_val.csv\",curr_folder=curr_folder,mode=\"explore\",return_results=True)\n",
    "test_df,test_scores=load_labels(sb,y_file_name=\"y_LR_test.csv\",curr_folder=curr_folder,mode=None,return_results=True)"
   ]
  },
  {
   "cell_type": "code",
   "execution_count": 41,
   "metadata": {
    "ExecuteTime": {
     "end_time": "2021-12-21T14:26:14.502616Z",
     "start_time": "2021-12-21T14:26:13.907189Z"
    }
   },
   "outputs": [
    {
     "data": {
      "text/plain": "  quantile number  Lower Boundary  upper Boundary  Diagnosed     All  \\\n0               1           0.000         100.000       50.0  8606.0   \n1               2         100.000         112.000       34.0  1052.0   \n2               3         112.000         141.385      109.0  1012.0   \n3               4         141.385         153.000       13.0    54.0   \n\n      Ratio       Fold  \n0  0.005810   1.000000  \n1  0.032319   5.562814  \n2  0.107708  18.538617  \n3  0.240741  41.436296  ",
      "text/html": "<div>\n<style scoped>\n    .dataframe tbody tr th:only-of-type {\n        vertical-align: middle;\n    }\n\n    .dataframe tbody tr th {\n        vertical-align: top;\n    }\n\n    .dataframe thead th {\n        text-align: right;\n    }\n</style>\n<table border=\"1\" class=\"dataframe\">\n  <thead>\n    <tr style=\"text-align: right;\">\n      <th></th>\n      <th>quantile number</th>\n      <th>Lower Boundary</th>\n      <th>upper Boundary</th>\n      <th>Diagnosed</th>\n      <th>All</th>\n      <th>Ratio</th>\n      <th>Fold</th>\n    </tr>\n  </thead>\n  <tbody>\n    <tr>\n      <th>0</th>\n      <td>1</td>\n      <td>0.000</td>\n      <td>100.000</td>\n      <td>50.0</td>\n      <td>8606.0</td>\n      <td>0.005810</td>\n      <td>1.000000</td>\n    </tr>\n    <tr>\n      <th>1</th>\n      <td>2</td>\n      <td>100.000</td>\n      <td>112.000</td>\n      <td>34.0</td>\n      <td>1052.0</td>\n      <td>0.032319</td>\n      <td>5.562814</td>\n    </tr>\n    <tr>\n      <th>2</th>\n      <td>3</td>\n      <td>112.000</td>\n      <td>141.385</td>\n      <td>109.0</td>\n      <td>1012.0</td>\n      <td>0.107708</td>\n      <td>18.538617</td>\n    </tr>\n    <tr>\n      <th>3</th>\n      <td>4</td>\n      <td>141.385</td>\n      <td>153.000</td>\n      <td>13.0</td>\n      <td>54.0</td>\n      <td>0.240741</td>\n      <td>41.436296</td>\n    </tr>\n  </tbody>\n</table>\n</div>"
     },
     "execution_count": 41,
     "metadata": {},
     "output_type": "execute_result"
    }
   ],
   "source": [
    "n_bins=100\n",
    "res=1./n_bins\n",
    "quants_bins=[0.8,0.9,0.995,1]\n",
    "val_Rank_df=pd.DataFrame()\n",
    "val_Rank_df=calc_Rank_df(val_scores, quants_bins=quants_bins, prevalence_thresh_fold=None,pred_col=\"y_pred\")\n",
    "val_Rank_df"
   ]
  },
  {
   "cell_type": "code",
   "execution_count": 42,
   "metadata": {
    "ExecuteTime": {
     "end_time": "2021-12-21T14:27:01.762959Z",
     "start_time": "2021-12-21T14:26:32.689311Z"
    }
   },
   "outputs": [
    {
     "data": {
      "text/plain": "             mean 0.0275  0.975                   CI  \\\nBoundaries                                             \n1-100       0.006  0.004  0.008  0.006 [0.004-0.008]   \n101-112      0.03   0.02   0.04     0.03 [0.02-0.04]   \n113-141      0.11   0.09   0.13     0.11 [0.09-0.13]   \n142-153      0.24   0.14   0.36     0.24 [0.14-0.36]   \n\n                               Legend  \nBoundaries                             \n1-100       1-100 0.006 [0.004-0.008]  \n101-112      101-112 0.03 [0.02-0.04]  \n113-141      113-141 0.11 [0.09-0.13]  \n142-153      142-153 0.24 [0.14-0.36]  ",
      "text/html": "<div>\n<style scoped>\n    .dataframe tbody tr th:only-of-type {\n        vertical-align: middle;\n    }\n\n    .dataframe tbody tr th {\n        vertical-align: top;\n    }\n\n    .dataframe thead th {\n        text-align: right;\n    }\n</style>\n<table border=\"1\" class=\"dataframe\">\n  <thead>\n    <tr style=\"text-align: right;\">\n      <th></th>\n      <th>mean</th>\n      <th>0.0275</th>\n      <th>0.975</th>\n      <th>CI</th>\n      <th>Legend</th>\n    </tr>\n    <tr>\n      <th>Boundaries</th>\n      <th></th>\n      <th></th>\n      <th></th>\n      <th></th>\n      <th></th>\n    </tr>\n  </thead>\n  <tbody>\n    <tr>\n      <th>1-100</th>\n      <td>0.006</td>\n      <td>0.004</td>\n      <td>0.008</td>\n      <td>0.006 [0.004-0.008]</td>\n      <td>1-100 0.006 [0.004-0.008]</td>\n    </tr>\n    <tr>\n      <th>101-112</th>\n      <td>0.03</td>\n      <td>0.02</td>\n      <td>0.04</td>\n      <td>0.03 [0.02-0.04]</td>\n      <td>101-112 0.03 [0.02-0.04]</td>\n    </tr>\n    <tr>\n      <th>113-141</th>\n      <td>0.11</td>\n      <td>0.09</td>\n      <td>0.13</td>\n      <td>0.11 [0.09-0.13]</td>\n      <td>113-141 0.11 [0.09-0.13]</td>\n    </tr>\n    <tr>\n      <th>142-153</th>\n      <td>0.24</td>\n      <td>0.14</td>\n      <td>0.36</td>\n      <td>0.24 [0.14-0.36]</td>\n      <td>142-153 0.24 [0.14-0.36]</td>\n    </tr>\n  </tbody>\n</table>\n</div>"
     },
     "execution_count": 42,
     "metadata": {},
     "output_type": "execute_result"
    }
   ],
   "source": [
    "boundaries=[0]\n",
    "boundaries.extend(val_Rank_df.loc[:,[\"upper Boundary\"]].values.flatten().tolist())\n",
    "val_rank_list=[]\n",
    "for ind in np.arange(1000):\n",
    "    sampled_val_scores=val_scores.sample(n=val_scores.shape[0],replace=True)\n",
    "    val_rank_list.append(test_rank_df(sampled_val_scores, boundaries=boundaries,pred_col=\"y_pred\"))\n",
    "val_rank1K=pd.concat(val_rank_list)\n",
    "val_rank1K[\"Boundaries\"]=(val_rank1K[\"Lower Boundary\"]+1).astype(int).astype(str)+\"-\"+val_rank1K[\"upper Boundary\"].astype(int).astype(str)\n",
    "val_rank1K.to_csv(os.path.join(curr_folder,base_path,\"val_scoreborad_groups_bootstrapping_results.csv\"))\n",
    "new_stats_df=calc_ci(val_rank1K)\n",
    "new_stats_df.set_index(\"Boundaries\",inplace=True,drop=True)\n",
    "new_stats_df.sort_values(by=\"mean\",inplace=True,ascending=True)\n",
    "new_stats_df.to_csv(os.path.join(curr_folder,base_path,\"val_scoreborad_groups_results.csv\"))\n",
    "new_stats_df"
   ]
  },
  {
   "cell_type": "markdown",
   "metadata": {
    "ExecuteTime": {
     "end_time": "2021-12-21T14:23:52.934198Z",
     "start_time": "2021-12-21T14:23:52.893604Z"
    }
   },
   "source": [
    "## Test's bins result"
   ]
  },
  {
   "cell_type": "code",
   "execution_count": 43,
   "metadata": {
    "ExecuteTime": {
     "end_time": "2021-12-21T14:27:46.881752Z",
     "start_time": "2021-12-21T14:27:19.682016Z"
    }
   },
   "outputs": [],
   "source": [
    "test_rank_list=[]\n",
    "for ind in np.arange(1000):\n",
    "    sampled_test_scores=test_scores.sample(n=test_scores.shape[0],replace=True)\n",
    "    test_rank_list.append(test_rank_df(sampled_test_scores, boundaries=boundaries,pred_col=\"y_pred\"))"
   ]
  },
  {
   "cell_type": "code",
   "execution_count": 44,
   "metadata": {
    "ExecuteTime": {
     "end_time": "2021-12-21T14:28:05.700526Z",
     "start_time": "2021-12-21T14:28:04.757270Z"
    }
   },
   "outputs": [
    {
     "data": {
      "text/plain": "             mean 0.0275  0.975                   CI  \\\nBoundaries                                             \n1-100       0.005  0.004  0.007  0.005 [0.004-0.007]   \n101-112      0.03   0.02   0.04     0.03 [0.02-0.04]   \n113-141      0.10   0.08   0.12     0.10 [0.08-0.12]   \n142-153      0.17   0.07   0.29     0.17 [0.07-0.29]   \n\n                               Legend  \nBoundaries                             \n1-100       1-100 0.005 [0.004-0.007]  \n101-112      101-112 0.03 [0.02-0.04]  \n113-141      113-141 0.10 [0.08-0.12]  \n142-153      142-153 0.17 [0.07-0.29]  ",
      "text/html": "<div>\n<style scoped>\n    .dataframe tbody tr th:only-of-type {\n        vertical-align: middle;\n    }\n\n    .dataframe tbody tr th {\n        vertical-align: top;\n    }\n\n    .dataframe thead th {\n        text-align: right;\n    }\n</style>\n<table border=\"1\" class=\"dataframe\">\n  <thead>\n    <tr style=\"text-align: right;\">\n      <th></th>\n      <th>mean</th>\n      <th>0.0275</th>\n      <th>0.975</th>\n      <th>CI</th>\n      <th>Legend</th>\n    </tr>\n    <tr>\n      <th>Boundaries</th>\n      <th></th>\n      <th></th>\n      <th></th>\n      <th></th>\n      <th></th>\n    </tr>\n  </thead>\n  <tbody>\n    <tr>\n      <th>1-100</th>\n      <td>0.005</td>\n      <td>0.004</td>\n      <td>0.007</td>\n      <td>0.005 [0.004-0.007]</td>\n      <td>1-100 0.005 [0.004-0.007]</td>\n    </tr>\n    <tr>\n      <th>101-112</th>\n      <td>0.03</td>\n      <td>0.02</td>\n      <td>0.04</td>\n      <td>0.03 [0.02-0.04]</td>\n      <td>101-112 0.03 [0.02-0.04]</td>\n    </tr>\n    <tr>\n      <th>113-141</th>\n      <td>0.10</td>\n      <td>0.08</td>\n      <td>0.12</td>\n      <td>0.10 [0.08-0.12]</td>\n      <td>113-141 0.10 [0.08-0.12]</td>\n    </tr>\n    <tr>\n      <th>142-153</th>\n      <td>0.17</td>\n      <td>0.07</td>\n      <td>0.29</td>\n      <td>0.17 [0.07-0.29]</td>\n      <td>142-153 0.17 [0.07-0.29]</td>\n    </tr>\n  </tbody>\n</table>\n</div>"
     },
     "execution_count": 44,
     "metadata": {},
     "output_type": "execute_result"
    }
   ],
   "source": [
    "test_rank1K=pd.concat(test_rank_list)\n",
    "test_rank1K[\"Boundaries\"]=(test_rank1K[\"Lower Boundary\"]+1).astype(int).astype(str)+\"-\"+test_rank1K[\"upper Boundary\"].astype(int).astype(str)\n",
    "test_rank1K.to_csv(os.path.join(curr_folder,base_path,\"scoreborad_groups_bootstrapping_results.csv\"))\n",
    "new_stats_df=calc_ci(test_rank1K)\n",
    "new_stats_df.set_index(\"Boundaries\",inplace=True,drop=True)\n",
    "new_stats_df.sort_values(by=\"mean\",inplace=True,ascending=True)\n",
    "new_stats_df.to_csv(os.path.join(curr_folder,base_path,\"scoreborad_groups_results.csv\"))\n",
    "new_stats_df"
   ]
  },
  {
   "cell_type": "code",
   "execution_count": 45,
   "metadata": {
    "ExecuteTime": {
     "end_time": "2021-12-21T14:28:23.629244Z",
     "start_time": "2021-12-21T14:28:23.104362Z"
    }
   },
   "outputs": [],
   "source": [
    "## Plot whiskers"
   ]
  },
  {
   "cell_type": "code",
   "execution_count": 46,
   "metadata": {
    "ExecuteTime": {
     "end_time": "2021-12-21T14:36:42.984713Z",
     "start_time": "2021-12-21T14:36:42.415170Z"
    }
   },
   "outputs": [
    {
     "data": {
      "text/plain": "0.01796875"
     },
     "execution_count": 46,
     "metadata": {},
     "output_type": "execute_result"
    }
   ],
   "source": [
    "test_scores_prev=test_scores.y_test.sum()/test_scores.y_test.count()\n",
    "test_scores_prev"
   ]
  },
  {
   "cell_type": "code",
   "execution_count": 47,
   "metadata": {
    "ExecuteTime": {
     "end_time": "2021-12-21T14:56:55.891402Z",
     "start_time": "2021-12-21T14:56:55.174686Z"
    }
   },
   "outputs": [
    {
     "data": {
      "text/plain": "<Figure size 504x432 with 1 Axes>",
      "image/png": "[encoded data removed]"
     },
     "metadata": {
      "needs_background": "light"
     },
     "output_type": "display_data"
    }
   ],
   "source": [
    "title= \"Five blood tests score groups' T2D prevalence\"\n",
    "font = {'family' : 'normal',\n",
    "        'size'   : 16}\n",
    "mpl.rc('font', **font)\n",
    "# Plot the orbital period with horizontal boxes\n",
    "f, ax = plt.subplots(figsize=(7, 6))\n",
    "# ax.set_xscale(\"log\")\n",
    "\n",
    "# sns.violinplot(x=\"Boundaries\", y=\"Ratio\", data=test_rank1K, palette=\"Greens\")\n",
    "ax = sns.violinplot(x=\"Boundaries\", data=test_rank1K, y=\"Ratio\",palette=\"Reds\",scale=\"width\")\n",
    "# Add in points to show each observation\n",
    "# sns.stripplot(x=\"Boundaries\", y=\"Ratio\", data=test_rank1K,\n",
    "#               size=4, color=\".3\", linewidth=0)\n",
    "\n",
    "# Tweak the visual presentation\n",
    "ax.xaxis.grid(True)\n",
    "ax.set(ylabel=\"Diabetes prevalence\",xlabel=\"Score group\")\n",
    "# sns.despine(trim=True, left=True)\n",
    "# ax.legend(new_stats_df.Legend,title=\"T2D prevalence in score group\")\n",
    "# prevalence_text=\"T2D prevalence in cohort \"+\"{:.3f}\".format(test_scores_prev)+\"\\n\"\n",
    "text_list=\"\\n\".join(list(new_stats_df.Legend.values))\n",
    "text_list=\"T2D prevalence in score group\\n\"+text_list\n",
    "ax.text(-0.5, 0.28, text_list,fontsize=16,backgroundcolor='white',alpha=0.8)\n",
    "test_scores_prev=test_scores.y_test.sum()/test_scores.y_test.count()\n",
    "xmin,xmax=ax.get_xlim()\n",
    "ymin,ymax=ax.get_ylim()\n",
    "ymin=0\n",
    "ax.set_ylim(ymin,ymax)\n",
    "ax.hlines(y=test_scores_prev,xmin=xmin,xmax=xmax,linestyles=\"-.\",colors=\"darkred\",\n",
    "          label=\"Prevalence in the cohort \"+\"{:.1f}\".format(100*test_scores_prev)+\"%\")\n",
    "plt.legend(loc=\"upper left\")\n",
    "ax.set_title(title)\n",
    "plt.savefig(os.path.join(curr_folder,scoreboard_type+\"_groups_prevalence.jpeg\"))\n",
    "plt.show()"
   ]
  },
  {
   "cell_type": "markdown",
   "metadata": {},
   "source": [
    "# Calculate Anthropometrics"
   ]
  },
  {
   "cell_type": "code",
   "execution_count": 48,
   "metadata": {
    "ExecuteTime": {
     "end_time": "2021-12-21T15:08:46.806188Z",
     "start_time": "2021-12-21T15:08:46.539866Z"
    }
   },
   "outputs": [
    {
     "name": "stdout",
     "output_type": "stream",
     "text": [
      "Factor: 14.43 Offset: 43.56\n",
      "('Running in ', 'None', ' mode')\n",
      "checking if /net/mraid08/export/jafar/Yochai/UKBB_Runs/For_article/Revision_runs/results_folder/ exists\n",
      "checking if /net/mraid08/export/jafar/Yochai/UKBB_Runs/For_article/Revision_runs/results_folder/LR_Anthro_scoreboard/training_Results exists\n",
      "checking if /net/mraid08/export/jafar/Yochai/UKBB_Runs/For_article/Revision_runs/results_folder/LR_Anthro_scoreboard/CI exists\n",
      "Model:LR_Antro_neto_whr was not found in CI_configs\n",
      "('Running in ', 'None', ' mode')\n"
     ]
    },
    {
     "ename": "AttributeError",
     "evalue": "'runs' object has no attribute 'model_type'",
     "output_type": "error",
     "traceback": [
      "\u001B[0;31m---------------------------------------------------------------------------\u001B[0m",
      "\u001B[0;31mAttributeError\u001B[0m                            Traceback (most recent call last)",
      "\u001B[0;32m<ipython-input-48-c850e73d7298>\u001B[0m in \u001B[0;36m<module>\u001B[0;34m\u001B[0m\n\u001B[1;32m      2\u001B[0m \u001B[0mscoreboard_anthro_type\u001B[0m\u001B[0;34m=\u001B[0m\u001B[0;34m\"Anthro\"\u001B[0m\u001B[0;34m\u001B[0m\u001B[0;34m\u001B[0m\u001B[0m\n\u001B[1;32m      3\u001B[0m sb_anthro=recover_scoreboard(scoreboard_anthro_type,save_to_scoreboards_basic_path=results_path,\n\u001B[0;32m----> 4\u001B[0;31m                       base_path=base_path)\n\u001B[0m\u001B[1;32m      5\u001B[0m \u001B[0;34m\u001B[0m\u001B[0m\n",
      "\u001B[0;32m~/PycharmProjects/UKBB_p3/Scoreboards/UKBB_Scoreboard_functions.py\u001B[0m in \u001B[0;36mrecover_scoreboard\u001B[0;34m(scoreboard_type, save_to_scoreboards_basic_path, base_path)\u001B[0m\n\u001B[1;32m    703\u001B[0m                             \u001B[0mpdo\u001B[0m\u001B[0;34m=\u001B[0m\u001B[0;36m10\u001B[0m\u001B[0;34m,\u001B[0m\u001B[0;34m\u001B[0m\u001B[0;34m\u001B[0m\u001B[0m\n\u001B[1;32m    704\u001B[0m                             \u001B[0mmax_or\u001B[0m\u001B[0;34m=\u001B[0m\u001B[0;36m50\u001B[0m\u001B[0;34m,\u001B[0m \u001B[0msave_ci_reults_dict\u001B[0m\u001B[0;34m=\u001B[0m\u001B[0;32mTrue\u001B[0m\u001B[0;34m,\u001B[0m \u001B[0mcalculate_scoreboard\u001B[0m\u001B[0;34m=\u001B[0m\u001B[0;32mFalse\u001B[0m\u001B[0;34m,\u001B[0m\u001B[0mrecover\u001B[0m\u001B[0;34m=\u001B[0m\u001B[0;32mTrue\u001B[0m\u001B[0;34m,\u001B[0m\u001B[0;34m\u001B[0m\u001B[0;34m\u001B[0m\u001B[0m\n\u001B[0;32m--> 705\u001B[0;31m                             force_update_LR=False)\n\u001B[0m\u001B[1;32m    706\u001B[0m \u001B[0;34m\u001B[0m\u001B[0m\n\u001B[1;32m    707\u001B[0m     \u001B[0mprint\u001B[0m\u001B[0;34m(\u001B[0m\u001B[0;34m\"Loading ScoreBoard\"\u001B[0m\u001B[0;34m,\u001B[0m \u001B[0mscoreboard_type\u001B[0m\u001B[0;34m,\u001B[0m \u001B[0;34m\" from \"\u001B[0m\u001B[0;34m,\u001B[0m \u001B[0mscoreboard\u001B[0m\u001B[0;34m.\u001B[0m\u001B[0msave_to_folder\u001B[0m\u001B[0;34m)\u001B[0m\u001B[0;34m\u001B[0m\u001B[0;34m\u001B[0m\u001B[0m\n",
      "\u001B[0;32m~/PycharmProjects/UKBB_p3/Scoreboards/UKBB_Scoreboard_functions.py\u001B[0m in \u001B[0;36m__init__\u001B[0;34m(self, scoreboard_type, build_new_database, train_val_test_type, base_path, save_to_scoreboards_basic_path, pdo, max_or, save_database, use_woe_values_for_lr, save_ci_reults_dict, calculate_scoreboard, debug, recover, min_num_of_ills, force_update_LR, force_update_ancestor_LR, leg_dict)\u001B[0m\n\u001B[1;32m     73\u001B[0m         \u001B[0mself\u001B[0m\u001B[0;34m.\u001B[0m\u001B[0mrun_object\u001B[0m \u001B[0;34m=\u001B[0m \u001B[0mruns\u001B[0m\u001B[0;34m(\u001B[0m\u001B[0mself\u001B[0m\u001B[0;34m.\u001B[0m\u001B[0mrun_name\u001B[0m\u001B[0;34m,\u001B[0m \u001B[0mmode\u001B[0m\u001B[0;34m=\u001B[0m\u001B[0mself\u001B[0m\u001B[0;34m.\u001B[0m\u001B[0mmode\u001B[0m\u001B[0;34m,\u001B[0m\u001B[0mdebug\u001B[0m\u001B[0;34m=\u001B[0m\u001B[0mself\u001B[0m\u001B[0;34m.\u001B[0m\u001B[0mdebug\u001B[0m\u001B[0;34m,\u001B[0m\u001B[0mforce_update\u001B[0m\u001B[0;34m=\u001B[0m\u001B[0mforce_update_LR\u001B[0m\u001B[0;34m)\u001B[0m\u001B[0;34m\u001B[0m\u001B[0;34m\u001B[0m\u001B[0m\n\u001B[1;32m     74\u001B[0m         self.ancestor_object = runs(self.ancestor_object_name, mode=self.mode,debug=self.debug,\n\u001B[0;32m---> 75\u001B[0;31m                                     force_update=force_update_ancestor_LR)\n\u001B[0m\u001B[1;32m     76\u001B[0m         \u001B[0;32mif\u001B[0m \u001B[0;32mnot\u001B[0m \u001B[0;34m\"scoreboard\"\u001B[0m \u001B[0;32min\u001B[0m \u001B[0mself\u001B[0m\u001B[0;34m.\u001B[0m\u001B[0mrun_object\u001B[0m\u001B[0;34m.\u001B[0m\u001B[0mfeatures_file_path\u001B[0m\u001B[0;34m:\u001B[0m\u001B[0;34m\u001B[0m\u001B[0;34m\u001B[0m\u001B[0m\n\u001B[1;32m     77\u001B[0m             \u001B[0mprint\u001B[0m\u001B[0;34m(\u001B[0m\u001B[0;34m\"self.run_object.features_file_path did not include 'scoreboard' in it - adding scoreboard to name\"\u001B[0m\u001B[0;34m)\u001B[0m\u001B[0;34m\u001B[0m\u001B[0;34m\u001B[0m\u001B[0m\n",
      "\u001B[0;32m~/PycharmProjects/UKBB_p3/Configs/CI_Configs.py\u001B[0m in \u001B[0;36m__init__\u001B[0;34m(self, run_name, only_check_model, force_update, mode, debug)\u001B[0m\n\u001B[1;32m     39\u001B[0m         \u001B[0;31m# Train_Val_file_path = \"/net/mraid08/export/jafar/UKBioBank/Data/ukb29741_scoretable_train_val.csv\"\u001B[0m\u001B[0;34m\u001B[0m\u001B[0;34m\u001B[0m\u001B[0;34m\u001B[0m\u001B[0m\n\u001B[1;32m     40\u001B[0m         \u001B[0;31m# Test_file_path = \"/net/mraid08/export/jafar/UKBioBank/Data/ukb29741_Diabetes_scoretable_test.csv\"\u001B[0m\u001B[0;34m\u001B[0m\u001B[0;34m\u001B[0m\u001B[0;34m\u001B[0m\u001B[0m\n\u001B[0;32m---> 41\u001B[0;31m         \u001B[0mself\u001B[0m\u001B[0;34m.\u001B[0m\u001B[0mset_data_paths\u001B[0m\u001B[0;34m(\u001B[0m\u001B[0;34m)\u001B[0m\u001B[0;34m\u001B[0m\u001B[0;34m\u001B[0m\u001B[0m\n\u001B[0m\u001B[1;32m     42\u001B[0m         \u001B[0;32mif\u001B[0m \u001B[0mself\u001B[0m\u001B[0;34m.\u001B[0m\u001B[0mmodel_type\u001B[0m\u001B[0;34m==\u001B[0m\u001B[0;34m\"SA\"\u001B[0m \u001B[0;32mor\u001B[0m \u001B[0mself\u001B[0m\u001B[0;34m.\u001B[0m\u001B[0mmodel_type\u001B[0m\u001B[0;34m==\u001B[0m\u001B[0;34m\"LR\"\u001B[0m\u001B[0;34m:\u001B[0m\u001B[0;34m\u001B[0m\u001B[0;34m\u001B[0m\u001B[0m\n\u001B[1;32m     43\u001B[0m             \u001B[0mself\u001B[0m\u001B[0;34m.\u001B[0m\u001B[0mmodel_paths\u001B[0m\u001B[0;34m=\u001B[0m\u001B[0mos\u001B[0m\u001B[0;34m.\u001B[0m\u001B[0mpath\u001B[0m\u001B[0;34m.\u001B[0m\u001B[0mjoin\u001B[0m\u001B[0;34m(\u001B[0m\u001B[0mself\u001B[0m\u001B[0;34m.\u001B[0m\u001B[0mFolder_path\u001B[0m\u001B[0;34m,\u001B[0m\u001B[0mself\u001B[0m\u001B[0;34m.\u001B[0m\u001B[0mrun_name\u001B[0m\u001B[0;34m)\u001B[0m\u001B[0;34m\u001B[0m\u001B[0;34m\u001B[0m\u001B[0m\n",
      "\u001B[0;32m~/PycharmProjects/UKBB_p3/Configs/CI_Configs.py\u001B[0m in \u001B[0;36mset_data_paths\u001B[0;34m(self)\u001B[0m\n\u001B[1;32m    890\u001B[0m \u001B[0;34m\u001B[0m\u001B[0m\n\u001B[1;32m    891\u001B[0m     \u001B[0;32mdef\u001B[0m \u001B[0mset_data_paths\u001B[0m\u001B[0;34m(\u001B[0m\u001B[0mself\u001B[0m\u001B[0;34m)\u001B[0m\u001B[0;34m:\u001B[0m\u001B[0;34m\u001B[0m\u001B[0;34m\u001B[0m\u001B[0m\n\u001B[0;32m--> 892\u001B[0;31m         \u001B[0;32mif\u001B[0m \u001B[0mself\u001B[0m\u001B[0;34m.\u001B[0m\u001B[0mmodel_type\u001B[0m \u001B[0;34m==\u001B[0m \u001B[0;34m\"gbdt\"\u001B[0m\u001B[0;34m:\u001B[0m\u001B[0;34m\u001B[0m\u001B[0;34m\u001B[0m\u001B[0m\n\u001B[0m\u001B[1;32m    893\u001B[0m             \u001B[0mself\u001B[0m\u001B[0;34m.\u001B[0m\u001B[0m_tmp_Train_file_path\u001B[0m \u001B[0;34m=\u001B[0m \u001B[0;34m\"/net/mraid08/export/jafar/UKBioBank/Data/ukb29741_a1c_below_65_train.csv\"\u001B[0m\u001B[0;34m\u001B[0m\u001B[0;34m\u001B[0m\u001B[0m\n\u001B[1;32m    894\u001B[0m             \u001B[0mself\u001B[0m\u001B[0;34m.\u001B[0m\u001B[0m_tmp_Val_file_path\u001B[0m \u001B[0;34m=\u001B[0m \u001B[0;34m\"/net/mraid08/export/jafar/UKBioBank/Data/ukb29741_a1c_below_65_val.csv\"\u001B[0m\u001B[0;34m\u001B[0m\u001B[0;34m\u001B[0m\u001B[0m\n",
      "\u001B[0;31mAttributeError\u001B[0m: 'runs' object has no attribute 'model_type'"
     ]
    }
   ],
   "source": [
    "curr_folder_anthro=os.path.join(base_path, 'LR_Anthro_scoreboard')\n",
    "scoreboard_anthro_type=\"Anthro\"\n",
    "sb_anthro=recover_scoreboard(scoreboard_anthro_type,save_to_scoreboards_basic_path=results_path,\n",
    "                      base_path=base_path)"
   ]
  },
  {
   "cell_type": "code",
   "execution_count": null,
   "metadata": {
    "ExecuteTime": {
     "end_time": "2021-12-21T15:09:06.745664Z",
     "start_time": "2021-12-21T15:09:06.205669Z"
    }
   },
   "outputs": [],
   "source": [
    "val_df,val_scores=load_labels(sb_anthro,y_file_name=\"y_LR_val.csv\",curr_folder=curr_folder,mode=\"explore\",return_results=True)\n",
    "test_df,test_scores=load_labels(sb_anthro,y_file_name=\"y_LR_test.csv\",curr_folder=curr_folder,mode=None,return_results=True)"
   ]
  },
  {
   "cell_type": "code",
   "execution_count": null,
   "metadata": {
    "ExecuteTime": {
     "end_time": "2021-12-21T15:09:25.434849Z",
     "start_time": "2021-12-21T15:09:25.358181Z"
    }
   },
   "outputs": [],
   "source": [
    "n_bins=100\n",
    "res=1./n_bins\n",
    "quants_bins=[0.85,0.95,1]\n",
    "val_Rank_df=pd.DataFrame()\n",
    "val_Rank_df=calc_Rank_df(val_scores, quants_bins=quants_bins, prevalence_thresh_fold=None,pred_col=\"y_pred\")\n",
    "val_Rank_df"
   ]
  },
  {
   "cell_type": "code",
   "execution_count": null,
   "metadata": {
    "ExecuteTime": {
     "end_time": "2021-12-21T15:09:52.289425Z",
     "start_time": "2021-12-21T15:09:25.438169Z"
    }
   },
   "outputs": [],
   "source": [
    "boundaries=[0]\n",
    "boundaries.extend(val_Rank_df.loc[:,[\"upper Boundary\"]].values.flatten().tolist())\n",
    "val_rank_list=[]\n",
    "for ind in np.arange(1000):\n",
    "    sampled_val_scores=val_scores.sample(n=val_scores.shape[0],replace=True)\n",
    "    val_rank_list.append(test_rank_df(sampled_val_scores, boundaries=boundaries,pred_col=\"y_pred\"))\n",
    "val_rank1K=pd.concat(val_rank_list)\n",
    "val_rank1K[\"Boundaries\"]=(val_rank1K[\"Lower Boundary\"]+1).astype(int).astype(str)+\"-\"+val_rank1K[\"upper Boundary\"].astype(int).astype(str)\n",
    "val_rank1K.to_csv(os.path.join(curr_folder,base_path,\"val_scoreborad_groups_bootstrapping_results.csv\"))\n",
    "new_stats_df=calc_ci(val_rank1K)\n",
    "new_stats_df.set_index(\"Boundaries\",inplace=True,drop=True)\n",
    "new_stats_df.sort_values(by=\"mean\",inplace=True,ascending=True)\n",
    "new_stats_df.to_csv(os.path.join(curr_folder,base_path,\"val_scoreborad_groups_results.csv\"))\n",
    "new_stats_df"
   ]
  },
  {
   "cell_type": "code",
   "execution_count": null,
   "metadata": {
    "ExecuteTime": {
     "end_time": "2021-12-21T15:10:51.181848Z",
     "start_time": "2021-12-21T15:10:28.747936Z"
    }
   },
   "outputs": [],
   "source": [
    "test_rank_list=[]\n",
    "for ind in np.arange(1000):\n",
    "    sampled_test_scores=test_scores.sample(n=test_scores.shape[0],replace=True)\n",
    "    test_rank_list.append(test_rank_df(sampled_test_scores, boundaries=boundaries,pred_col=\"y_pred\"))"
   ]
  },
  {
   "cell_type": "code",
   "execution_count": null,
   "metadata": {
    "ExecuteTime": {
     "end_time": "2021-12-21T15:10:51.705983Z",
     "start_time": "2021-12-21T15:10:51.184427Z"
    }
   },
   "outputs": [],
   "source": [
    "test_rank1K=pd.concat(test_rank_list)\n",
    "test_rank1K[\"Boundaries\"]=(test_rank1K[\"Lower Boundary\"]+1).astype(int).astype(str)+\"-\"+test_rank1K[\"upper Boundary\"].astype(int).astype(str)\n",
    "test_rank1K.to_csv(os.path.join(curr_folder,base_path,\"scoreborad_groups_bootstrapping_results.csv\"))\n",
    "new_stats_df=calc_ci(test_rank1K)\n",
    "new_stats_df.set_index(\"Boundaries\",inplace=True,drop=True)\n",
    "new_stats_df.sort_values(by=\"mean\",inplace=True,ascending=True)\n",
    "new_stats_df.to_csv(os.path.join(curr_folder,base_path,\"scoreborad_groups_results.csv\"))"
   ]
  },
  {
   "cell_type": "code",
   "execution_count": null,
   "metadata": {
    "ExecuteTime": {
     "end_time": "2021-12-21T15:10:51.756932Z",
     "start_time": "2021-12-21T15:10:51.708627Z"
    }
   },
   "outputs": [],
   "source": [
    "new_stats_df"
   ]
  },
  {
   "cell_type": "code",
   "execution_count": null,
   "metadata": {
    "ExecuteTime": {
     "end_time": "2021-12-21T15:13:51.167342Z",
     "start_time": "2021-12-21T15:13:50.521007Z"
    }
   },
   "outputs": [],
   "source": [
    "title= \"Anthropometrics score groups' T2D prevalence\"\n",
    "font = {'family' : 'normal',\n",
    "        'size'   : 16}\n",
    "mpl.rc('font', **font)\n",
    "test_scores_prev=test_scores.y_test.sum()/test_scores.y_test.count()\n",
    "# Plot the orbital period with horizontal boxes\n",
    "f, ax = plt.subplots(figsize=(7, 6))\n",
    "# ax.set_xscale(\"log\")\n",
    "\n",
    "# sns.violinplot(x=\"Boundaries\", y=\"Ratio\", data=test_rank1K, palette=\"Greens\")\n",
    "ax = sns.violinplot(x=\"Boundaries\", data=test_rank1K, y=\"Ratio\",palette=\"Greens\",scale=\"width\")\n",
    "# Add in points to show each observation\n",
    "# sns.stripplot(x=\"Boundaries\", y=\"Ratio\", data=test_rank1K,\n",
    "#               size=4, color=\".3\", linewidth=0)\n",
    "\n",
    "# Tweak the visual presentation\n",
    "ax.xaxis.grid(True)\n",
    "ax.set(ylabel=\"Diabetes prevalence\",xlabel=\"Score group\")\n",
    "# sns.despine(trim=True, left=True)\n",
    "# ax.legend(new_stats_df.Legend,title=\"T2D prevalence in score group\")\n",
    "text_list=\"\\n\".join(list(new_stats_df.Legend.values))\n",
    "text_list=\"T2D prevalence in score group\\n\"+text_list\n",
    "ax.text(-0.55, 0.097, text_list,fontsize=16,backgroundcolor='white',alpha=0.8)\n",
    "ax.set_title(title)\n",
    "xmin,xmax=ax.get_xlim()\n",
    "ymin,ymax=ax.get_ylim()\n",
    "ymin=0\n",
    "ax.set_ylim(ymin,ymax)\n",
    "ax.hlines(y=test_scores_prev,xmin=xmin,xmax=xmax,linestyles=\"-.\",colors=\"darkgreen\",\n",
    "          label=\"Prevalence in the cohort \"+\"{:.1f}\".format(100*test_scores_prev)+\"%\")\n",
    "plt.legend(loc=\"upper left\")\n",
    "plt.savefig(os.path.join(curr_folder_anthro,scoreboard_anthro_type+\"_groups_prevalence.jpeg\"))\n",
    "plt.show()"
   ]
  },
  {
   "cell_type": "code",
   "execution_count": null,
   "metadata": {},
   "outputs": [],
   "source": []
  },
  {
   "cell_type": "code",
   "execution_count": null,
   "metadata": {},
   "outputs": [],
   "source": []
  },
  {
   "cell_type": "code",
   "execution_count": null,
   "metadata": {},
   "outputs": [],
   "source": []
  },
  {
   "cell_type": "code",
   "execution_count": null,
   "metadata": {},
   "outputs": [],
   "source": []
  },
  {
   "cell_type": "code",
   "execution_count": null,
   "metadata": {},
   "outputs": [],
   "source": []
  },
  {
   "cell_type": "code",
   "execution_count": null,
   "metadata": {},
   "outputs": [],
   "source": []
  },
  {
   "cell_type": "code",
   "execution_count": null,
   "metadata": {},
   "outputs": [],
   "source": []
  },
  {
   "cell_type": "code",
   "execution_count": null,
   "metadata": {},
   "outputs": [],
   "source": []
  },
  {
   "cell_type": "code",
   "execution_count": null,
   "metadata": {},
   "outputs": [],
   "source": []
  },
  {
   "cell_type": "code",
   "execution_count": null,
   "metadata": {},
   "outputs": [],
   "source": []
  }
 ],
 "metadata": {
  "kernelspec": {
   "display_name": "Python 2",
   "language": "python",
   "name": "python2"
  },
  "language_info": {
   "codemirror_mode": {
    "name": "ipython",
    "version": 3
   },
   "file_extension": ".py",
   "mimetype": "text/x-python",
   "name": "python",
   "nbconvert_exporter": "python",
   "pygments_lexer": "ipython3",
   "version": "3.7.4"
  },
  "toc": {
   "base_numbering": 1,
   "nav_menu": {},
   "number_sections": true,
   "sideBar": true,
   "skip_h1_title": false,
   "title_cell": "Table of Contents",
   "title_sidebar": "Contents",
   "toc_cell": false,
   "toc_position": {},
   "toc_section_display": "block",
   "toc_window_display": true
  },
  "varInspector": {
   "cols": {
    "lenName": 16,
    "lenType": 16,
    "lenVar": 40
   },
   "kernels_config": {
    "python": {
     "delete_cmd_postfix": "",
     "delete_cmd_prefix": "del ",
     "library": "var_list.py",
     "varRefreshCmd": "print(var_dic_list())"
    },
    "r": {
     "delete_cmd_postfix": ") ",
     "delete_cmd_prefix": "rm(",
     "library": "var_list.r",
     "varRefreshCmd": "cat(var_dic_list()) "
    }
   },
   "oldHeight": 122.733334,
   "position": {
    "height": "40px",
    "left": "1219px",
    "right": "20px",
    "top": "71px",
    "width": "250px"
   },
   "types_to_exclude": [
    "module",
    "function",
    "builtin_function_or_method",
    "instance",
    "_Feature"
   ],
   "varInspector_section_display": "none",
   "window_display": true
  }
 },
 "nbformat": 4,
 "nbformat_minor": 2
}