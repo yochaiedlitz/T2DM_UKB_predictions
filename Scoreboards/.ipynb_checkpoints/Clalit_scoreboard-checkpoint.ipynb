{
 "cells": [
  {
   "cell_type": "code",
   "execution_count": 1,
   "metadata": {
    "ExecuteTime": {
     "end_time": "2021-11-14T07:25:43.171712Z",
     "start_time": "2021-11-14T07:25:41.541104Z"
    }
   },
   "outputs": [],
   "source": [
    "%load_ext autoreload\n",
    "%autoreload 2\n",
    "import os\n",
    "import sys\n",
    "import pandas as pd\n",
    "add_folders=[\"/home/edlitzy/PycharmProjects/UKBB\"]\n",
    "sys.path.extend([x for x in add_folders if x not in sys.path])\n",
    "from datetime import datetime, timedelta\n",
    "import numpy as np\n",
    "from sklearn.metrics import auc\n",
    "from sklearn.metrics import RocCurveDisplay,PrecisionRecallDisplay"
   ]
  },
  {
   "cell_type": "markdown",
   "metadata": {},
   "source": [
    "# load data"
   ]
  },
  {
   "cell_type": "code",
   "execution_count": 2,
   "metadata": {
    "ExecuteTime": {
     "end_time": "2021-11-14T07:25:43.362622Z",
     "start_time": "2021-11-14T07:25:43.212050Z"
    }
   },
   "outputs": [],
   "source": [
    "data_path=\"/net/mraid08/export/jafar/UKBioBank/Data/Clalit/Clalit_bt.csv\"\n",
    "orig_clalit_df=pd.read_csv(filepath_or_buffer=data_path,index_col=\"pid\")\n",
    "rel_ind=orig_clalit_df[\"Reticulocyte Count\"].dropna().index\n",
    "orig_clalit_df=orig_clalit_df.loc[rel_ind,:]"
   ]
  },
  {
   "cell_type": "code",
   "execution_count": 3,
   "metadata": {
    "ExecuteTime": {
     "end_time": "2021-11-14T07:25:43.499220Z",
     "start_time": "2021-11-14T07:25:43.420456Z"
    }
   },
   "outputs": [
    {
     "data": {
      "text/html": [
       "<div>\n",
       "<style scoped>\n",
       "    .dataframe tbody tr th:only-of-type {\n",
       "        vertical-align: middle;\n",
       "    }\n",
       "\n",
       "    .dataframe tbody tr th {\n",
       "        vertical-align: top;\n",
       "    }\n",
       "\n",
       "    .dataframe thead th {\n",
       "        text-align: right;\n",
       "    }\n",
       "</style>\n",
       "<table border=\"1\" class=\"dataframe\">\n",
       "  <thead>\n",
       "    <tr style=\"text-align: right;\">\n",
       "      <th></th>\n",
       "      <th>first_visit</th>\n",
       "      <th>HbA1c%</th>\n",
       "      <th>datetime_leida</th>\n",
       "      <th>is_male</th>\n",
       "      <th>GGT</th>\n",
       "      <th>Reticulocyte Count</th>\n",
       "      <th>HDL</th>\n",
       "      <th>Triglycerides</th>\n",
       "      <th>diabetes_date</th>\n",
       "      <th>UKB_HbA1c</th>\n",
       "      <th>UKB_reticulocyte_count</th>\n",
       "    </tr>\n",
       "    <tr>\n",
       "      <th>pid</th>\n",
       "      <th></th>\n",
       "      <th></th>\n",
       "      <th></th>\n",
       "      <th></th>\n",
       "      <th></th>\n",
       "      <th></th>\n",
       "      <th></th>\n",
       "      <th></th>\n",
       "      <th></th>\n",
       "      <th></th>\n",
       "      <th></th>\n",
       "    </tr>\n",
       "  </thead>\n",
       "  <tbody>\n",
       "    <tr>\n",
       "      <th>3485</th>\n",
       "      <td>2010-09-05</td>\n",
       "      <td>6.0</td>\n",
       "      <td>1946-04-02</td>\n",
       "      <td>0.0</td>\n",
       "      <td>11.0</td>\n",
       "      <td>62.400000</td>\n",
       "      <td>48.0</td>\n",
       "      <td>129.0</td>\n",
       "      <td>NaN</td>\n",
       "      <td>42.076650</td>\n",
       "      <td>0.062400</td>\n",
       "    </tr>\n",
       "    <tr>\n",
       "      <th>5277</th>\n",
       "      <td>2011-01-16</td>\n",
       "      <td>5.6</td>\n",
       "      <td>1933-06-04</td>\n",
       "      <td>1.0</td>\n",
       "      <td>31.0</td>\n",
       "      <td>0.052000</td>\n",
       "      <td>41.0</td>\n",
       "      <td>157.0</td>\n",
       "      <td>NaN</td>\n",
       "      <td>37.705050</td>\n",
       "      <td>0.000052</td>\n",
       "    </tr>\n",
       "    <tr>\n",
       "      <th>5374</th>\n",
       "      <td>2006-10-29</td>\n",
       "      <td>6.3</td>\n",
       "      <td>1933-03-05</td>\n",
       "      <td>1.0</td>\n",
       "      <td>433.0</td>\n",
       "      <td>19.200001</td>\n",
       "      <td>69.0</td>\n",
       "      <td>65.0</td>\n",
       "      <td>NaN</td>\n",
       "      <td>45.355352</td>\n",
       "      <td>0.019200</td>\n",
       "    </tr>\n",
       "    <tr>\n",
       "      <th>6330</th>\n",
       "      <td>2009-02-19</td>\n",
       "      <td>5.1</td>\n",
       "      <td>1935-09-02</td>\n",
       "      <td>0.0</td>\n",
       "      <td>32.0</td>\n",
       "      <td>204.700000</td>\n",
       "      <td>37.0</td>\n",
       "      <td>209.0</td>\n",
       "      <td>2016-05-26</td>\n",
       "      <td>32.240550</td>\n",
       "      <td>0.204700</td>\n",
       "    </tr>\n",
       "    <tr>\n",
       "      <th>7918</th>\n",
       "      <td>2011-03-20</td>\n",
       "      <td>5.4</td>\n",
       "      <td>1938-08-26</td>\n",
       "      <td>1.0</td>\n",
       "      <td>81.0</td>\n",
       "      <td>67.000000</td>\n",
       "      <td>51.0</td>\n",
       "      <td>105.0</td>\n",
       "      <td>2017-08-06</td>\n",
       "      <td>35.519250</td>\n",
       "      <td>0.067000</td>\n",
       "    </tr>\n",
       "    <tr>\n",
       "      <th>...</th>\n",
       "      <td>...</td>\n",
       "      <td>...</td>\n",
       "      <td>...</td>\n",
       "      <td>...</td>\n",
       "      <td>...</td>\n",
       "      <td>...</td>\n",
       "      <td>...</td>\n",
       "      <td>...</td>\n",
       "      <td>...</td>\n",
       "      <td>...</td>\n",
       "      <td>...</td>\n",
       "    </tr>\n",
       "    <tr>\n",
       "      <th>10056438</th>\n",
       "      <td>2010-07-19</td>\n",
       "      <td>6.1</td>\n",
       "      <td>1938-06-13</td>\n",
       "      <td>0.0</td>\n",
       "      <td>15.0</td>\n",
       "      <td>68.000000</td>\n",
       "      <td>35.0</td>\n",
       "      <td>130.0</td>\n",
       "      <td>NaN</td>\n",
       "      <td>43.169550</td>\n",
       "      <td>0.068000</td>\n",
       "    </tr>\n",
       "    <tr>\n",
       "      <th>10064594</th>\n",
       "      <td>2011-11-13</td>\n",
       "      <td>5.5</td>\n",
       "      <td>1948-09-08</td>\n",
       "      <td>1.0</td>\n",
       "      <td>97.0</td>\n",
       "      <td>168.000000</td>\n",
       "      <td>39.0</td>\n",
       "      <td>60.0</td>\n",
       "      <td>NaN</td>\n",
       "      <td>36.612150</td>\n",
       "      <td>0.168000</td>\n",
       "    </tr>\n",
       "    <tr>\n",
       "      <th>10066521</th>\n",
       "      <td>2011-11-27</td>\n",
       "      <td>5.2</td>\n",
       "      <td>1947-01-29</td>\n",
       "      <td>0.0</td>\n",
       "      <td>71.0</td>\n",
       "      <td>65.600000</td>\n",
       "      <td>32.0</td>\n",
       "      <td>53.0</td>\n",
       "      <td>NaN</td>\n",
       "      <td>33.333450</td>\n",
       "      <td>0.065600</td>\n",
       "    </tr>\n",
       "    <tr>\n",
       "      <th>10119253</th>\n",
       "      <td>2010-02-15</td>\n",
       "      <td>6.2</td>\n",
       "      <td>2009-11-26</td>\n",
       "      <td>1.0</td>\n",
       "      <td>66.3</td>\n",
       "      <td>44.000000</td>\n",
       "      <td>35.9</td>\n",
       "      <td>137.0</td>\n",
       "      <td>2011-04-04</td>\n",
       "      <td>44.262450</td>\n",
       "      <td>0.044000</td>\n",
       "    </tr>\n",
       "    <tr>\n",
       "      <th>10586780</th>\n",
       "      <td>2010-06-13</td>\n",
       "      <td>6.1</td>\n",
       "      <td>2005-01-03</td>\n",
       "      <td>1.0</td>\n",
       "      <td>13.0</td>\n",
       "      <td>49.400000</td>\n",
       "      <td>51.0</td>\n",
       "      <td>62.0</td>\n",
       "      <td>NaN</td>\n",
       "      <td>43.169550</td>\n",
       "      <td>0.049400</td>\n",
       "    </tr>\n",
       "  </tbody>\n",
       "</table>\n",
       "<p>2759 rows × 11 columns</p>\n",
       "</div>"
      ],
      "text/plain": [
       "         first_visit  HbA1c% datetime_leida  is_male    GGT  \\\n",
       "pid                                                           \n",
       "3485      2010-09-05     6.0     1946-04-02      0.0   11.0   \n",
       "5277      2011-01-16     5.6     1933-06-04      1.0   31.0   \n",
       "5374      2006-10-29     6.3     1933-03-05      1.0  433.0   \n",
       "6330      2009-02-19     5.1     1935-09-02      0.0   32.0   \n",
       "7918      2011-03-20     5.4     1938-08-26      1.0   81.0   \n",
       "...              ...     ...            ...      ...    ...   \n",
       "10056438  2010-07-19     6.1     1938-06-13      0.0   15.0   \n",
       "10064594  2011-11-13     5.5     1948-09-08      1.0   97.0   \n",
       "10066521  2011-11-27     5.2     1947-01-29      0.0   71.0   \n",
       "10119253  2010-02-15     6.2     2009-11-26      1.0   66.3   \n",
       "10586780  2010-06-13     6.1     2005-01-03      1.0   13.0   \n",
       "\n",
       "          Reticulocyte Count   HDL  Triglycerides diabetes_date  UKB_HbA1c  \\\n",
       "pid                                                                          \n",
       "3485               62.400000  48.0          129.0           NaN  42.076650   \n",
       "5277                0.052000  41.0          157.0           NaN  37.705050   \n",
       "5374               19.200001  69.0           65.0           NaN  45.355352   \n",
       "6330              204.700000  37.0          209.0    2016-05-26  32.240550   \n",
       "7918               67.000000  51.0          105.0    2017-08-06  35.519250   \n",
       "...                      ...   ...            ...           ...        ...   \n",
       "10056438           68.000000  35.0          130.0           NaN  43.169550   \n",
       "10064594          168.000000  39.0           60.0           NaN  36.612150   \n",
       "10066521           65.600000  32.0           53.0           NaN  33.333450   \n",
       "10119253           44.000000  35.9          137.0    2011-04-04  44.262450   \n",
       "10586780           49.400000  51.0           62.0           NaN  43.169550   \n",
       "\n",
       "          UKB_reticulocyte_count  \n",
       "pid                               \n",
       "3485                    0.062400  \n",
       "5277                    0.000052  \n",
       "5374                    0.019200  \n",
       "6330                    0.204700  \n",
       "7918                    0.067000  \n",
       "...                          ...  \n",
       "10056438                0.068000  \n",
       "10064594                0.168000  \n",
       "10066521                0.065600  \n",
       "10119253                0.044000  \n",
       "10586780                0.049400  \n",
       "\n",
       "[2759 rows x 11 columns]"
      ]
     },
     "execution_count": 3,
     "metadata": {},
     "output_type": "execute_result"
    }
   ],
   "source": [
    "orig_clalit_df"
   ]
  },
  {
   "cell_type": "markdown",
   "metadata": {},
   "source": [
    "# Convert data to dateime"
   ]
  },
  {
   "cell_type": "code",
   "execution_count": 4,
   "metadata": {
    "ExecuteTime": {
     "end_time": "2021-11-14T07:25:45.073625Z",
     "start_time": "2021-11-14T07:25:45.016913Z"
    }
   },
   "outputs": [],
   "source": [
    "non_na_ind=orig_clalit_df[\"diabetes_date\"].dropna().index\n",
    "orig_clalit_df.loc[:,[\"first_visit\",\"datetime_leida\"]]=orig_clalit_df.loc[:,[\"first_visit\",\"datetime_leida\"]].applymap(datetime.fromisoformat)\n",
    "orig_clalit_df.loc[non_na_ind,[\"diabetes_date\"]]=orig_clalit_df.loc[non_na_ind,[\"diabetes_date\"]].applymap(datetime.fromisoformat)"
   ]
  },
  {
   "cell_type": "markdown",
   "metadata": {},
   "source": [
    "# Draw a delta time till return"
   ]
  },
  {
   "cell_type": "code",
   "execution_count": 5,
   "metadata": {
    "ExecuteTime": {
     "end_time": "2021-11-09T16:47:34.644363Z",
     "start_time": "2021-11-09T16:47:34.618637Z"
    }
   },
   "outputs": [],
   "source": [
    "mean_dt=7.3\n",
    "sigma=2.3\n",
    "max_dt=17\n",
    "min_dt=2\n",
    "clalit_df=orig_clalit_df.copy()\n",
    "clalit_df[\"dt_years\"]=np.clip(np.random.normal(mean_dt,sigma,size=clalit_df.shape[0]),a_max=max_dt,a_min=min_dt)"
   ]
  },
  {
   "cell_type": "code",
   "execution_count": 6,
   "metadata": {
    "ExecuteTime": {
     "end_time": "2021-11-09T16:47:34.671688Z",
     "start_time": "2021-11-09T16:47:34.648059Z"
    }
   },
   "outputs": [],
   "source": [
    "def my_relative_delta(row):\n",
    "    print(row)\n",
    "    return row[\"first_visit\"].replace(year=row[\"first_visit\"].year + row[\"dt_years\"])"
   ]
  },
  {
   "cell_type": "code",
   "execution_count": 7,
   "metadata": {
    "ExecuteTime": {
     "end_time": "2021-11-09T16:47:34.713694Z",
     "start_time": "2021-11-09T16:47:34.674426Z"
    }
   },
   "outputs": [],
   "source": [
    "pd.to_timedelta(365*clalit_df[\"dt_years\"], unit='D')\n",
    "clalit_df[\"dt_days\"]=pd.to_timedelta(365*clalit_df[\"dt_years\"], unit='D')\n",
    "clalit_df[\"check_date\"]=(clalit_df[\"first_visit\"]+ clalit_df[\"dt_days\"]).clip(upper=datetime.fromisoformat(\"2019-12-31\"))"
   ]
  },
  {
   "cell_type": "code",
   "execution_count": 8,
   "metadata": {
    "ExecuteTime": {
     "end_time": "2021-11-09T16:47:36.354987Z",
     "start_time": "2021-11-09T16:47:34.715856Z"
    }
   },
   "outputs": [
    {
     "data": {
      "text/plain": [
       "<AxesSubplot:>"
      ]
     },
     "execution_count": 8,
     "metadata": {},
     "output_type": "execute_result"
    },
    {
     "data": {
      "image/png": "[encoded data removed]",
      "text/plain": [
       "<Figure size 432x288 with 1 Axes>"
      ]
     },
     "metadata": {
      "needs_background": "light"
     },
     "output_type": "display_data"
    }
   ],
   "source": [
    "clalit_df[\"check_date\"].hist()"
   ]
  },
  {
   "cell_type": "code",
   "execution_count": 9,
   "metadata": {
    "ExecuteTime": {
     "end_time": "2021-11-09T16:47:36.387377Z",
     "start_time": "2021-11-09T16:47:36.357171Z"
    }
   },
   "outputs": [],
   "source": [
    "clalit_df[\"final_dt\"]=clalit_df[\"check_date\"]-clalit_df[\"first_visit\"]"
   ]
  },
  {
   "cell_type": "code",
   "execution_count": 10,
   "metadata": {
    "ExecuteTime": {
     "end_time": "2021-11-09T16:47:36.670028Z",
     "start_time": "2021-11-09T16:47:36.390007Z"
    }
   },
   "outputs": [
    {
     "data": {
      "text/plain": [
       "<AxesSubplot:ylabel='Frequency'>"
      ]
     },
     "execution_count": 10,
     "metadata": {},
     "output_type": "execute_result"
    },
    {
     "data": {
      "image/png": "[encoded data removed]",
      "text/plain": [
       "<Figure size 432x288 with 1 Axes>"
      ]
     },
     "metadata": {
      "needs_background": "light"
     },
     "output_type": "display_data"
    }
   ],
   "source": [
    "(clalit_df[\"final_dt\"].astype('timedelta64[D]')/365).plot.hist()"
   ]
  },
  {
   "cell_type": "code",
   "execution_count": 11,
   "metadata": {
    "ExecuteTime": {
     "end_time": "2021-11-09T16:47:36.705261Z",
     "start_time": "2021-11-09T16:47:36.671944Z"
    }
   },
   "outputs": [
    {
     "data": {
      "text/plain": [
       "7.137982294557786"
      ]
     },
     "execution_count": 11,
     "metadata": {},
     "output_type": "execute_result"
    }
   ],
   "source": [
    "(clalit_df[\"final_dt\"].astype('timedelta64[D]')/365).mean()"
   ]
  },
  {
   "cell_type": "code",
   "execution_count": 12,
   "metadata": {
    "ExecuteTime": {
     "end_time": "2021-11-09T16:47:36.770349Z",
     "start_time": "2021-11-09T16:47:36.707985Z"
    }
   },
   "outputs": [
    {
     "data": {
      "text/plain": [
       "pid\n",
       "3485         True\n",
       "5277         True\n",
       "5374         True\n",
       "6330        False\n",
       "7918        False\n",
       "            ...  \n",
       "10056438     True\n",
       "10064594     True\n",
       "10066521     True\n",
       "10119253    False\n",
       "10586780     True\n",
       "Name: diabetes_date, Length: 2759, dtype: bool"
      ]
     },
     "execution_count": 12,
     "metadata": {},
     "output_type": "execute_result"
    }
   ],
   "source": [
    "clalit_df[\"diabetes_date\"].isna()"
   ]
  },
  {
   "cell_type": "markdown",
   "metadata": {},
   "source": [
    "# def check_diagnose"
   ]
  },
  {
   "cell_type": "code",
   "execution_count": 13,
   "metadata": {
    "ExecuteTime": {
     "end_time": "2021-11-09T16:47:36.821470Z",
     "start_time": "2021-11-09T16:47:36.772290Z"
    }
   },
   "outputs": [],
   "source": [
    "def check_diagnose(row):\n",
    "#     print(row)\n",
    "    if type(row[\"diabetes_date\"]) is float:\n",
    "        return 0\n",
    "    elif row[\"diabetes_date\"]>row[\"check_date\"]:\n",
    "        return 0\n",
    "    elif row[\"diabetes_date\"]<=row[\"check_date\"]:\n",
    "        return 1\n",
    "    else:\n",
    "        return np.nan"
   ]
  },
  {
   "cell_type": "code",
   "execution_count": 14,
   "metadata": {
    "ExecuteTime": {
     "end_time": "2021-11-09T16:47:37.060765Z",
     "start_time": "2021-11-09T16:47:36.823822Z"
    }
   },
   "outputs": [],
   "source": [
    "clalit_df[\"Y\"]=clalit_df.apply(check_diagnose,axis=1)"
   ]
  },
  {
   "cell_type": "markdown",
   "metadata": {},
   "source": [
    "# T2D Prevalence at time of test"
   ]
  },
  {
   "cell_type": "code",
   "execution_count": 15,
   "metadata": {
    "ExecuteTime": {
     "end_time": "2021-11-09T16:47:37.095066Z",
     "start_time": "2021-11-09T16:47:37.063089Z"
    }
   },
   "outputs": [
    {
     "data": {
      "text/plain": [
       "0.1442551649148242"
      ]
     },
     "execution_count": 15,
     "metadata": {},
     "output_type": "execute_result"
    }
   ],
   "source": [
    "clalit_df[\"Y\"].sum()/clalit_df.shape[0]"
   ]
  },
  {
   "cell_type": "code",
   "execution_count": 16,
   "metadata": {
    "ExecuteTime": {
     "end_time": "2021-11-09T16:47:37.172795Z",
     "start_time": "2021-11-09T16:47:37.097697Z"
    }
   },
   "outputs": [
    {
     "data": {
      "text/html": [
       "<div>\n",
       "<style scoped>\n",
       "    .dataframe tbody tr th:only-of-type {\n",
       "        vertical-align: middle;\n",
       "    }\n",
       "\n",
       "    .dataframe tbody tr th {\n",
       "        vertical-align: top;\n",
       "    }\n",
       "\n",
       "    .dataframe thead th {\n",
       "        text-align: right;\n",
       "    }\n",
       "</style>\n",
       "<table border=\"1\" class=\"dataframe\">\n",
       "  <thead>\n",
       "    <tr style=\"text-align: right;\">\n",
       "      <th></th>\n",
       "      <th>first_visit</th>\n",
       "      <th>HbA1c%</th>\n",
       "      <th>datetime_leida</th>\n",
       "      <th>is_male</th>\n",
       "      <th>GGT</th>\n",
       "      <th>Reticulocyte Count</th>\n",
       "      <th>HDL</th>\n",
       "      <th>Triglycerides</th>\n",
       "      <th>diabetes_date</th>\n",
       "      <th>UKB_HbA1c</th>\n",
       "      <th>UKB_reticulocyte_count</th>\n",
       "      <th>dt_years</th>\n",
       "      <th>dt_days</th>\n",
       "      <th>check_date</th>\n",
       "      <th>final_dt</th>\n",
       "      <th>Y</th>\n",
       "    </tr>\n",
       "    <tr>\n",
       "      <th>pid</th>\n",
       "      <th></th>\n",
       "      <th></th>\n",
       "      <th></th>\n",
       "      <th></th>\n",
       "      <th></th>\n",
       "      <th></th>\n",
       "      <th></th>\n",
       "      <th></th>\n",
       "      <th></th>\n",
       "      <th></th>\n",
       "      <th></th>\n",
       "      <th></th>\n",
       "      <th></th>\n",
       "      <th></th>\n",
       "      <th></th>\n",
       "      <th></th>\n",
       "    </tr>\n",
       "  </thead>\n",
       "  <tbody>\n",
       "    <tr>\n",
       "      <th>3485</th>\n",
       "      <td>2010-09-05</td>\n",
       "      <td>6.0</td>\n",
       "      <td>1946-04-02</td>\n",
       "      <td>0.0</td>\n",
       "      <td>11.0</td>\n",
       "      <td>62.400000</td>\n",
       "      <td>48.0</td>\n",
       "      <td>129.0</td>\n",
       "      <td>NaN</td>\n",
       "      <td>42.076650</td>\n",
       "      <td>0.062400</td>\n",
       "      <td>5.154469</td>\n",
       "      <td>1881 days 09:08:58.858224</td>\n",
       "      <td>2015-10-30 09:08:58.858224000</td>\n",
       "      <td>1881 days 09:08:58.858224</td>\n",
       "      <td>0</td>\n",
       "    </tr>\n",
       "    <tr>\n",
       "      <th>5277</th>\n",
       "      <td>2011-01-16</td>\n",
       "      <td>5.6</td>\n",
       "      <td>1933-06-04</td>\n",
       "      <td>1.0</td>\n",
       "      <td>31.0</td>\n",
       "      <td>0.052000</td>\n",
       "      <td>41.0</td>\n",
       "      <td>157.0</td>\n",
       "      <td>NaN</td>\n",
       "      <td>37.705050</td>\n",
       "      <td>0.000052</td>\n",
       "      <td>8.239171</td>\n",
       "      <td>3007 days 07:08:25.445817600</td>\n",
       "      <td>2019-04-11 07:08:25.445817600</td>\n",
       "      <td>3007 days 07:08:25.445817600</td>\n",
       "      <td>0</td>\n",
       "    </tr>\n",
       "    <tr>\n",
       "      <th>5374</th>\n",
       "      <td>2006-10-29</td>\n",
       "      <td>6.3</td>\n",
       "      <td>1933-03-05</td>\n",
       "      <td>1.0</td>\n",
       "      <td>433.0</td>\n",
       "      <td>19.200001</td>\n",
       "      <td>69.0</td>\n",
       "      <td>65.0</td>\n",
       "      <td>NaN</td>\n",
       "      <td>45.355352</td>\n",
       "      <td>0.019200</td>\n",
       "      <td>6.533647</td>\n",
       "      <td>2384 days 18:44:40.947504</td>\n",
       "      <td>2013-05-09 18:44:40.947504000</td>\n",
       "      <td>2384 days 18:44:40.947504</td>\n",
       "      <td>0</td>\n",
       "    </tr>\n",
       "    <tr>\n",
       "      <th>6330</th>\n",
       "      <td>2009-02-19</td>\n",
       "      <td>5.1</td>\n",
       "      <td>1935-09-02</td>\n",
       "      <td>0.0</td>\n",
       "      <td>32.0</td>\n",
       "      <td>204.700000</td>\n",
       "      <td>37.0</td>\n",
       "      <td>209.0</td>\n",
       "      <td>2016-05-26 00:00:00</td>\n",
       "      <td>32.240550</td>\n",
       "      <td>0.204700</td>\n",
       "      <td>11.232473</td>\n",
       "      <td>4099 days 20:27:40.380652800</td>\n",
       "      <td>2019-12-31 00:00:00.000000000</td>\n",
       "      <td>3967 days 00:00:00</td>\n",
       "      <td>1</td>\n",
       "    </tr>\n",
       "    <tr>\n",
       "      <th>7918</th>\n",
       "      <td>2011-03-20</td>\n",
       "      <td>5.4</td>\n",
       "      <td>1938-08-26</td>\n",
       "      <td>1.0</td>\n",
       "      <td>81.0</td>\n",
       "      <td>67.000000</td>\n",
       "      <td>51.0</td>\n",
       "      <td>105.0</td>\n",
       "      <td>2017-08-06 00:00:00</td>\n",
       "      <td>35.519250</td>\n",
       "      <td>0.067000</td>\n",
       "      <td>3.842183</td>\n",
       "      <td>1402 days 09:31:19.432416</td>\n",
       "      <td>2015-01-20 09:31:19.432416000</td>\n",
       "      <td>1402 days 09:31:19.432416</td>\n",
       "      <td>0</td>\n",
       "    </tr>\n",
       "  </tbody>\n",
       "</table>\n",
       "</div>"
      ],
      "text/plain": [
       "     first_visit  HbA1c% datetime_leida  is_male    GGT  Reticulocyte Count  \\\n",
       "pid                                                                           \n",
       "3485  2010-09-05     6.0     1946-04-02      0.0   11.0           62.400000   \n",
       "5277  2011-01-16     5.6     1933-06-04      1.0   31.0            0.052000   \n",
       "5374  2006-10-29     6.3     1933-03-05      1.0  433.0           19.200001   \n",
       "6330  2009-02-19     5.1     1935-09-02      0.0   32.0          204.700000   \n",
       "7918  2011-03-20     5.4     1938-08-26      1.0   81.0           67.000000   \n",
       "\n",
       "       HDL  Triglycerides        diabetes_date  UKB_HbA1c  \\\n",
       "pid                                                         \n",
       "3485  48.0          129.0                  NaN  42.076650   \n",
       "5277  41.0          157.0                  NaN  37.705050   \n",
       "5374  69.0           65.0                  NaN  45.355352   \n",
       "6330  37.0          209.0  2016-05-26 00:00:00  32.240550   \n",
       "7918  51.0          105.0  2017-08-06 00:00:00  35.519250   \n",
       "\n",
       "      UKB_reticulocyte_count   dt_years                      dt_days  \\\n",
       "pid                                                                    \n",
       "3485                0.062400   5.154469    1881 days 09:08:58.858224   \n",
       "5277                0.000052   8.239171 3007 days 07:08:25.445817600   \n",
       "5374                0.019200   6.533647    2384 days 18:44:40.947504   \n",
       "6330                0.204700  11.232473 4099 days 20:27:40.380652800   \n",
       "7918                0.067000   3.842183    1402 days 09:31:19.432416   \n",
       "\n",
       "                        check_date                     final_dt  Y  \n",
       "pid                                                                 \n",
       "3485 2015-10-30 09:08:58.858224000    1881 days 09:08:58.858224  0  \n",
       "5277 2019-04-11 07:08:25.445817600 3007 days 07:08:25.445817600  0  \n",
       "5374 2013-05-09 18:44:40.947504000    2384 days 18:44:40.947504  0  \n",
       "6330 2019-12-31 00:00:00.000000000           3967 days 00:00:00  1  \n",
       "7918 2015-01-20 09:31:19.432416000    1402 days 09:31:19.432416  0  "
      ]
     },
     "execution_count": 16,
     "metadata": {},
     "output_type": "execute_result"
    }
   ],
   "source": [
    "clalit_df.head()"
   ]
  },
  {
   "cell_type": "code",
   "execution_count": 17,
   "metadata": {
    "ExecuteTime": {
     "end_time": "2021-11-09T16:47:37.511671Z",
     "start_time": "2021-11-09T16:47:37.175050Z"
    }
   },
   "outputs": [
    {
     "data": {
      "text/plain": [
       "<AxesSubplot:>"
      ]
     },
     "execution_count": 17,
     "metadata": {},
     "output_type": "execute_result"
    },
    {
     "data": {
      "image/png": "[encoded data removed]",
      "text/plain": [
       "<Figure size 432x288 with 1 Axes>"
      ]
     },
     "metadata": {
      "needs_background": "light"
     },
     "output_type": "display_data"
    }
   ],
   "source": [
    "clalit_df.loc[clalit_df[\"GGT\"]<clalit_df[\"GGT\"].quantile(0.95),\"GGT\"].hist()"
   ]
  },
  {
   "cell_type": "code",
   "execution_count": 18,
   "metadata": {
    "ExecuteTime": {
     "end_time": "2021-11-09T16:47:37.544953Z",
     "start_time": "2021-11-09T16:47:37.514422Z"
    }
   },
   "outputs": [
    {
     "data": {
      "text/plain": [
       "Index(['first_visit', 'HbA1c%', 'datetime_leida', 'is_male', 'GGT',\n",
       "       'Reticulocyte Count', 'HDL', 'Triglycerides', 'diabetes_date',\n",
       "       'UKB_HbA1c', 'UKB_reticulocyte_count', 'dt_years', 'dt_days',\n",
       "       'check_date', 'final_dt', 'Y'],\n",
       "      dtype='object')"
      ]
     },
     "execution_count": 18,
     "metadata": {},
     "output_type": "execute_result"
    }
   ],
   "source": [
    "clalit_df.columns"
   ]
  },
  {
   "cell_type": "code",
   "execution_count": 19,
   "metadata": {
    "ExecuteTime": {
     "end_time": "2021-11-09T16:47:37.574923Z",
     "start_time": "2021-11-09T16:47:37.547482Z"
    }
   },
   "outputs": [],
   "source": [
    "clalit_df[\"UKB_Triglycerides\"]=clalit_df[\"Triglycerides\"]*0.01129"
   ]
  },
  {
   "cell_type": "code",
   "execution_count": 20,
   "metadata": {
    "ExecuteTime": {
     "end_time": "2021-11-09T16:47:37.612106Z",
     "start_time": "2021-11-09T16:47:37.583185Z"
    }
   },
   "outputs": [],
   "source": [
    "clalit_df[\"UKB_HDL\"]=clalit_df[\"HDL\"]*0.02586"
   ]
  },
  {
   "cell_type": "code",
   "execution_count": 21,
   "metadata": {
    "ExecuteTime": {
     "end_time": "2021-11-09T16:47:37.642645Z",
     "start_time": "2021-11-09T16:47:37.616460Z"
    }
   },
   "outputs": [],
   "source": [
    "rel_cols=[x for x in clalit_df.columns if x!=\"diabetes_date\"]"
   ]
  },
  {
   "cell_type": "code",
   "execution_count": 22,
   "metadata": {
    "ExecuteTime": {
     "end_time": "2021-11-09T16:47:37.679518Z",
     "start_time": "2021-11-09T16:47:37.644897Z"
    }
   },
   "outputs": [],
   "source": [
    "non_na_ind=clalit_df[rel_cols].dropna(how=\"any\").index"
   ]
  },
  {
   "cell_type": "code",
   "execution_count": 23,
   "metadata": {
    "ExecuteTime": {
     "end_time": "2021-11-09T16:47:37.709998Z",
     "start_time": "2021-11-09T16:47:37.682203Z"
    }
   },
   "outputs": [],
   "source": [
    "final_df=clalit_df.loc[non_na_ind,:]"
   ]
  },
  {
   "cell_type": "code",
   "execution_count": 24,
   "metadata": {
    "ExecuteTime": {
     "end_time": "2021-11-09T16:47:37.745467Z",
     "start_time": "2021-11-09T16:47:37.712382Z"
    },
    "collapsed": true
   },
   "outputs": [
    {
     "data": {
      "text/plain": [
       "first_visit                  0\n",
       "HbA1c%                       0\n",
       "datetime_leida               0\n",
       "is_male                      0\n",
       "GGT                          0\n",
       "Reticulocyte Count           0\n",
       "HDL                          0\n",
       "Triglycerides                0\n",
       "diabetes_date             2246\n",
       "UKB_HbA1c                    0\n",
       "UKB_reticulocyte_count       0\n",
       "dt_years                     0\n",
       "dt_days                      0\n",
       "check_date                   0\n",
       "final_dt                     0\n",
       "Y                            0\n",
       "UKB_Triglycerides            0\n",
       "UKB_HDL                      0\n",
       "dtype: int64"
      ]
     },
     "execution_count": 24,
     "metadata": {},
     "output_type": "execute_result"
    }
   ],
   "source": [
    "final_df.isna().sum()"
   ]
  },
  {
   "cell_type": "markdown",
   "metadata": {},
   "source": [
    "# Build scoreboard"
   ]
  },
  {
   "cell_type": "code",
   "execution_count": 54,
   "metadata": {
    "ExecuteTime": {
     "end_time": "2021-11-09T17:01:31.318418Z",
     "start_time": "2021-11-09T17:01:31.027323Z"
    }
   },
   "outputs": [
    {
     "data": {
      "text/plain": [
       "<AxesSubplot:>"
      ]
     },
     "execution_count": 54,
     "metadata": {},
     "output_type": "execute_result"
    },
    {
     "data": {
      "image/png": "[encoded data removed]",
      "text/plain": [
       "<Figure size 432x288 with 1 Axes>"
      ]
     },
     "metadata": {
      "needs_background": "light"
     },
     "output_type": "display_data"
    }
   ],
   "source": [
    "final_df[\"is_male\"].hist()"
   ]
  },
  {
   "cell_type": "code",
   "execution_count": 47,
   "metadata": {
    "ExecuteTime": {
     "end_time": "2021-11-09T16:55:01.593630Z",
     "start_time": "2021-11-09T16:55:01.014023Z"
    }
   },
   "outputs": [],
   "source": [
    "def check_sex(row):\n",
    "    if row[\"is_male\"]==1:\n",
    "        return 4\n",
    "    elif row[\"is_male\"]==0:\n",
    "        return 0\n",
    "    else:\n",
    "        print(\"is_male should be 0 or 1\")"
   ]
  },
  {
   "cell_type": "code",
   "execution_count": 53,
   "metadata": {
    "ExecuteTime": {
     "end_time": "2021-11-09T17:01:01.631937Z",
     "start_time": "2021-11-09T17:00:59.471682Z"
    }
   },
   "outputs": [
    {
     "data": {
      "text/plain": [
       "<AxesSubplot:ylabel='Frequency'>"
      ]
     },
     "execution_count": 53,
     "metadata": {},
     "output_type": "execute_result"
    },
    {
     "data": {
      "image/png": "[encoded data removed]",
      "text/plain": [
       "<Figure size 432x288 with 1 Axes>"
      ]
     },
     "metadata": {
      "needs_background": "light"
     },
     "output_type": "display_data"
    }
   ],
   "source": [
    "(final_df[\"final_dt\"].astype('timedelta64[D]')/365).plot.hist()"
   ]
  },
  {
   "cell_type": "code",
   "execution_count": 48,
   "metadata": {
    "ExecuteTime": {
     "end_time": "2021-11-09T16:58:34.384888Z",
     "start_time": "2021-11-09T16:58:34.249617Z"
    }
   },
   "outputs": [],
   "source": [
    "def check_dt(row):\n",
    "    factor=365\n",
    "    dt=row[\"final_dt\"]\n",
    "    if dt<=timedelta(days=factor*5):\n",
    "        return 0\n",
    "    elif dt<=timedelta(days=factor*6):\n",
    "        return 8\n",
    "    elif dt<=timedelta(days=factor*8):\n",
    "        return 11\n",
    "    elif dt<=timedelta(days=factor*9):\n",
    "        return 12\n",
    "    elif dt<=timedelta(days=factor*10):\n",
    "        return 16\n",
    "    elif dt>timedelta(days=factor*10):\n",
    "        return 21\n",
    "    else:\n",
    "        print(\"dt must be a timedelta object\")\n",
    "        return None"
   ]
  },
  {
   "cell_type": "code",
   "execution_count": 49,
   "metadata": {
    "ExecuteTime": {
     "end_time": "2021-11-09T16:59:05.107047Z",
     "start_time": "2021-11-09T16:59:04.687840Z"
    }
   },
   "outputs": [
    {
     "data": {
      "text/plain": [
       "<AxesSubplot:>"
      ]
     },
     "execution_count": 49,
     "metadata": {},
     "output_type": "execute_result"
    },
    {
     "data": {
      "image/png": "[encoded data removed]",
      "text/plain": [
       "<Figure size 432x288 with 1 Axes>"
      ]
     },
     "metadata": {
      "needs_background": "light"
     },
     "output_type": "display_data"
    }
   ],
   "source": [
    "final_df[\"UKB_HbA1c\"].hist()"
   ]
  },
  {
   "cell_type": "code",
   "execution_count": 50,
   "metadata": {
    "ExecuteTime": {
     "end_time": "2021-11-09T16:59:49.643195Z",
     "start_time": "2021-11-09T16:59:49.510742Z"
    }
   },
   "outputs": [],
   "source": [
    "def check_a1c(row):\n",
    "    val=row[\"UKB_HbA1c\"]\n",
    "    if val<=30.7:\n",
    "        return 0\n",
    "    elif val<=32.4:\n",
    "        return 11\n",
    "    elif val<=33.6:\n",
    "        return 16\n",
    "    elif val<=34.6:\n",
    "        return 18\n",
    "    elif val<=35.7:\n",
    "        return 27\n",
    "    elif val<=36.9:\n",
    "        return 32\n",
    "    elif val<=38.5:\n",
    "        return 39\n",
    "    elif val>38.5:\n",
    "        return 58\n",
    "    else:\n",
    "        print(\"a1c is not in any range\")\n",
    "        return None"
   ]
  },
  {
   "cell_type": "code",
   "execution_count": 55,
   "metadata": {
    "ExecuteTime": {
     "end_time": "2021-11-09T17:01:52.060877Z",
     "start_time": "2021-11-09T17:01:51.683950Z"
    }
   },
   "outputs": [
    {
     "data": {
      "text/plain": [
       "<AxesSubplot:>"
      ]
     },
     "execution_count": 55,
     "metadata": {},
     "output_type": "execute_result"
    },
    {
     "data": {
      "image/png": "[encoded data removed]",
      "text/plain": [
       "<Figure size 432x288 with 1 Axes>"
      ]
     },
     "metadata": {
      "needs_background": "light"
     },
     "output_type": "display_data"
    }
   ],
   "source": [
    "final_df[\"UKB_HDL\"].hist()"
   ]
  },
  {
   "cell_type": "code",
   "execution_count": 56,
   "metadata": {
    "ExecuteTime": {
     "end_time": "2021-11-09T17:03:03.870157Z",
     "start_time": "2021-11-09T17:03:03.621038Z"
    }
   },
   "outputs": [],
   "source": [
    "def check_hdl(row):\n",
    "    val=row[\"UKB_HDL\"]\n",
    "    if val<=1.1:\n",
    "        return 27\n",
    "    elif val<=1.3:\n",
    "        return 19\n",
    "    elif val<=1.4:\n",
    "        return 18\n",
    "    elif val<=1.5:\n",
    "        return 14\n",
    "    elif val<=1.6:\n",
    "        return 12\n",
    "    elif val<=1.9:\n",
    "        return 9 \n",
    "    elif val>1.9:\n",
    "        return 0\n",
    "    else:\n",
    "        print(\"HDL is not in any range\")\n",
    "        return None"
   ]
  },
  {
   "cell_type": "code",
   "execution_count": 58,
   "metadata": {
    "ExecuteTime": {
     "end_time": "2021-11-09T17:04:24.902285Z",
     "start_time": "2021-11-09T17:04:24.434445Z"
    }
   },
   "outputs": [
    {
     "data": {
      "text/plain": [
       "<AxesSubplot:>"
      ]
     },
     "execution_count": 58,
     "metadata": {},
     "output_type": "execute_result"
    },
    {
     "data": {
      "image/png": "[encoded data removed]",
      "text/plain": [
       "<Figure size 432x288 with 1 Axes>"
      ]
     },
     "metadata": {
      "needs_background": "light"
     },
     "output_type": "display_data"
    }
   ],
   "source": [
    "final_df.loc[final_df[\"GGT\"]<final_df[\"GGT\"].quantile(0.95),\"GGT\"].hist()"
   ]
  },
  {
   "cell_type": "code",
   "execution_count": 29,
   "metadata": {
    "ExecuteTime": {
     "end_time": "2021-11-09T16:47:37.978444Z",
     "start_time": "2021-11-09T16:47:37.947284Z"
    }
   },
   "outputs": [],
   "source": [
    "def check_ggt(row):\n",
    "    val=row[\"GGT\"]\n",
    "    if val<=14.8:\n",
    "        return 0\n",
    "    elif val<=18:\n",
    "        return 7\n",
    "    elif val<=21.4:\n",
    "        return 11\n",
    "    elif val<=25.3:\n",
    "        return 12\n",
    "    elif val<=30.4:\n",
    "        return 16\n",
    "    elif val<=37.7:\n",
    "        return 20\n",
    "    elif val<=53.3:\n",
    "        return 22\n",
    "    elif val>53.3:\n",
    "        return 24\n",
    "    else:\n",
    "        print(\"GGT is not in any range\")\n",
    "        return None"
   ]
  },
  {
   "cell_type": "code",
   "execution_count": 60,
   "metadata": {
    "ExecuteTime": {
     "end_time": "2021-11-09T17:07:04.967884Z",
     "start_time": "2021-11-09T17:07:04.692838Z"
    }
   },
   "outputs": [
    {
     "data": {
      "text/plain": [
       "<AxesSubplot:>"
      ]
     },
     "execution_count": 60,
     "metadata": {},
     "output_type": "execute_result"
    },
    {
     "data": {
      "image/png": "[encoded data removed]",
      "text/plain": [
       "<Figure size 432x288 with 1 Axes>"
      ]
     },
     "metadata": {
      "needs_background": "light"
     },
     "output_type": "display_data"
    }
   ],
   "source": [
    "final_df.loc[final_df[\"UKB_reticulocyte_count\"]<final_df[\"UKB_reticulocyte_count\"].quantile(0.95),\"UKB_reticulocyte_count\"].hist()"
   ]
  },
  {
   "cell_type": "code",
   "execution_count": 61,
   "metadata": {
    "ExecuteTime": {
     "end_time": "2021-11-09T17:07:53.892647Z",
     "start_time": "2021-11-09T17:07:53.618349Z"
    }
   },
   "outputs": [],
   "source": [
    "def check_reticulocyte(row):\n",
    "    val=row[\"UKB_reticulocyte_count\"]\n",
    "    if val<=0.035:\n",
    "        return 0\n",
    "    elif val<=0.043:\n",
    "        return 5\n",
    "    elif val<=0.051:\n",
    "        return 7\n",
    "    elif val<=0.058:\n",
    "        return 11\n",
    "    elif val<=0.067:\n",
    "        return 14\n",
    "    elif val<=0.081:\n",
    "        return 17\n",
    "    elif val>0.081:\n",
    "        return 22\n",
    "    else:\n",
    "        print(\"reticulocyte is not in any range\")\n",
    "        return None"
   ]
  },
  {
   "cell_type": "code",
   "execution_count": 62,
   "metadata": {
    "ExecuteTime": {
     "end_time": "2021-11-09T17:08:10.412655Z",
     "start_time": "2021-11-09T17:08:10.094099Z"
    }
   },
   "outputs": [
    {
     "data": {
      "text/plain": [
       "<AxesSubplot:>"
      ]
     },
     "execution_count": 62,
     "metadata": {},
     "output_type": "execute_result"
    },
    {
     "data": {
      "image/png": "[encoded data removed]",
      "text/plain": [
       "<Figure size 432x288 with 1 Axes>"
      ]
     },
     "metadata": {
      "needs_background": "light"
     },
     "output_type": "display_data"
    }
   ],
   "source": [
    "final_df.loc[final_df[\"UKB_Triglycerides\"]<final_df[\"UKB_Triglycerides\"].quantile(0.95),\"UKB_Triglycerides\"].hist()"
   ]
  },
  {
   "cell_type": "code",
   "execution_count": 63,
   "metadata": {
    "ExecuteTime": {
     "end_time": "2021-11-09T17:08:56.565968Z",
     "start_time": "2021-11-09T17:08:54.174676Z"
    }
   },
   "outputs": [],
   "source": [
    "def check_triglycerides(row):\n",
    "    val=row[\"UKB_Triglycerides\"]\n",
    "    if val<=0.89:\n",
    "        return 0\n",
    "    elif val<=1.2:\n",
    "        return 3\n",
    "    elif val<=1.4:\n",
    "        return 4\n",
    "    elif val<=1.8:\n",
    "        return 6\n",
    "    elif val<=2.4:\n",
    "        return 7\n",
    "    elif val>2.4:\n",
    "        return 9\n",
    "    else:\n",
    "        print(\"triglycerides is not in any range\")\n",
    "        return None"
   ]
  },
  {
   "cell_type": "code",
   "execution_count": 64,
   "metadata": {
    "ExecuteTime": {
     "end_time": "2021-11-09T17:09:14.800225Z",
     "start_time": "2021-11-09T17:09:14.770130Z"
    }
   },
   "outputs": [],
   "source": [
    "def scoreboard_score(row):\n",
    "#     print(row)\n",
    "    tot_sum=0\n",
    "    func_list=[check_sex,check_dt,check_a1c,check_hdl,check_ggt,check_reticulocyte,check_triglycerides]\n",
    "    for func in func_list:\n",
    "        tot_sum+=func(row)\n",
    "    return tot_sum"
   ]
  },
  {
   "cell_type": "code",
   "execution_count": 65,
   "metadata": {
    "ExecuteTime": {
     "end_time": "2021-11-09T17:09:28.385575Z",
     "start_time": "2021-11-09T17:09:28.346733Z"
    }
   },
   "outputs": [
    {
     "data": {
      "text/plain": [
       "first_visit                  0\n",
       "HbA1c%                       0\n",
       "datetime_leida               0\n",
       "is_male                      0\n",
       "GGT                          0\n",
       "Reticulocyte Count           0\n",
       "HDL                          0\n",
       "Triglycerides                0\n",
       "diabetes_date             2246\n",
       "UKB_HbA1c                    0\n",
       "UKB_reticulocyte_count       0\n",
       "dt_years                     0\n",
       "dt_days                      0\n",
       "check_date                   0\n",
       "final_dt                     0\n",
       "Y                            0\n",
       "UKB_Triglycerides            0\n",
       "UKB_HDL                      0\n",
       "score                        0\n",
       "dtype: int64"
      ]
     },
     "execution_count": 65,
     "metadata": {},
     "output_type": "execute_result"
    }
   ],
   "source": [
    "final_df.isna().sum()"
   ]
  },
  {
   "cell_type": "code",
   "execution_count": 66,
   "metadata": {
    "ExecuteTime": {
     "end_time": "2021-11-09T17:09:41.916486Z",
     "start_time": "2021-11-09T17:09:41.417370Z"
    },
    "scrolled": false
   },
   "outputs": [],
   "source": [
    "final_df[\"score\"]=final_df.apply(scoreboard_score,axis=1)"
   ]
  },
  {
   "cell_type": "code",
   "execution_count": 67,
   "metadata": {
    "ExecuteTime": {
     "end_time": "2021-11-09T17:09:43.211077Z",
     "start_time": "2021-11-09T17:09:42.804985Z"
    }
   },
   "outputs": [
    {
     "data": {
      "text/plain": [
       "<AxesSubplot:>"
      ]
     },
     "execution_count": 67,
     "metadata": {},
     "output_type": "execute_result"
    },
    {
     "data": {
      "image/png": "[encoded data removed]",
      "text/plain": [
       "<Figure size 432x288 with 1 Axes>"
      ]
     },
     "metadata": {
      "needs_background": "light"
     },
     "output_type": "display_data"
    }
   ],
   "source": [
    "final_df[\"score\"].hist()"
   ]
  },
  {
   "cell_type": "code",
   "execution_count": 68,
   "metadata": {
    "ExecuteTime": {
     "end_time": "2021-11-09T17:10:16.755494Z",
     "start_time": "2021-11-09T17:10:16.417175Z"
    }
   },
   "outputs": [
    {
     "data": {
      "text/html": [
       "<div>\n",
       "<style scoped>\n",
       "    .dataframe tbody tr th:only-of-type {\n",
       "        vertical-align: middle;\n",
       "    }\n",
       "\n",
       "    .dataframe tbody tr th {\n",
       "        vertical-align: top;\n",
       "    }\n",
       "\n",
       "    .dataframe thead th {\n",
       "        text-align: right;\n",
       "    }\n",
       "</style>\n",
       "<table border=\"1\" class=\"dataframe\">\n",
       "  <thead>\n",
       "    <tr style=\"text-align: right;\">\n",
       "      <th></th>\n",
       "      <th>first_visit</th>\n",
       "      <th>HbA1c%</th>\n",
       "      <th>datetime_leida</th>\n",
       "      <th>is_male</th>\n",
       "      <th>GGT</th>\n",
       "      <th>Reticulocyte Count</th>\n",
       "      <th>HDL</th>\n",
       "      <th>Triglycerides</th>\n",
       "      <th>diabetes_date</th>\n",
       "      <th>UKB_HbA1c</th>\n",
       "      <th>UKB_reticulocyte_count</th>\n",
       "      <th>dt_years</th>\n",
       "      <th>dt_days</th>\n",
       "      <th>check_date</th>\n",
       "      <th>final_dt</th>\n",
       "      <th>Y</th>\n",
       "      <th>UKB_Triglycerides</th>\n",
       "      <th>UKB_HDL</th>\n",
       "      <th>score</th>\n",
       "    </tr>\n",
       "    <tr>\n",
       "      <th>pid</th>\n",
       "      <th></th>\n",
       "      <th></th>\n",
       "      <th></th>\n",
       "      <th></th>\n",
       "      <th></th>\n",
       "      <th></th>\n",
       "      <th></th>\n",
       "      <th></th>\n",
       "      <th></th>\n",
       "      <th></th>\n",
       "      <th></th>\n",
       "      <th></th>\n",
       "      <th></th>\n",
       "      <th></th>\n",
       "      <th></th>\n",
       "      <th></th>\n",
       "      <th></th>\n",
       "      <th></th>\n",
       "      <th></th>\n",
       "    </tr>\n",
       "  </thead>\n",
       "  <tbody>\n",
       "    <tr>\n",
       "      <th>3485</th>\n",
       "      <td>2010-09-05</td>\n",
       "      <td>6.0</td>\n",
       "      <td>1946-04-02</td>\n",
       "      <td>0.0</td>\n",
       "      <td>11.0</td>\n",
       "      <td>62.400000</td>\n",
       "      <td>48.0</td>\n",
       "      <td>129.0</td>\n",
       "      <td>NaN</td>\n",
       "      <td>42.076650</td>\n",
       "      <td>0.062400</td>\n",
       "      <td>5.154469</td>\n",
       "      <td>1881 days 09:08:58.858224</td>\n",
       "      <td>2015-10-30 09:08:58.858224000</td>\n",
       "      <td>1881 days 09:08:58.858224</td>\n",
       "      <td>0</td>\n",
       "      <td>1.45641</td>\n",
       "      <td>1.24128</td>\n",
       "      <td>105</td>\n",
       "    </tr>\n",
       "    <tr>\n",
       "      <th>5277</th>\n",
       "      <td>2011-01-16</td>\n",
       "      <td>5.6</td>\n",
       "      <td>1933-06-04</td>\n",
       "      <td>1.0</td>\n",
       "      <td>31.0</td>\n",
       "      <td>0.052000</td>\n",
       "      <td>41.0</td>\n",
       "      <td>157.0</td>\n",
       "      <td>NaN</td>\n",
       "      <td>37.705050</td>\n",
       "      <td>0.000052</td>\n",
       "      <td>8.239171</td>\n",
       "      <td>3007 days 07:08:25.445817600</td>\n",
       "      <td>2019-04-11 07:08:25.445817600</td>\n",
       "      <td>3007 days 07:08:25.445817600</td>\n",
       "      <td>0</td>\n",
       "      <td>1.77253</td>\n",
       "      <td>1.06026</td>\n",
       "      <td>108</td>\n",
       "    </tr>\n",
       "    <tr>\n",
       "      <th>5374</th>\n",
       "      <td>2006-10-29</td>\n",
       "      <td>6.3</td>\n",
       "      <td>1933-03-05</td>\n",
       "      <td>1.0</td>\n",
       "      <td>433.0</td>\n",
       "      <td>19.200001</td>\n",
       "      <td>69.0</td>\n",
       "      <td>65.0</td>\n",
       "      <td>NaN</td>\n",
       "      <td>45.355352</td>\n",
       "      <td>0.019200</td>\n",
       "      <td>6.533647</td>\n",
       "      <td>2384 days 18:44:40.947504</td>\n",
       "      <td>2013-05-09 18:44:40.947504000</td>\n",
       "      <td>2384 days 18:44:40.947504</td>\n",
       "      <td>0</td>\n",
       "      <td>0.73385</td>\n",
       "      <td>1.78434</td>\n",
       "      <td>106</td>\n",
       "    </tr>\n",
       "    <tr>\n",
       "      <th>6330</th>\n",
       "      <td>2009-02-19</td>\n",
       "      <td>5.1</td>\n",
       "      <td>1935-09-02</td>\n",
       "      <td>0.0</td>\n",
       "      <td>32.0</td>\n",
       "      <td>204.700000</td>\n",
       "      <td>37.0</td>\n",
       "      <td>209.0</td>\n",
       "      <td>2016-05-26 00:00:00</td>\n",
       "      <td>32.240550</td>\n",
       "      <td>0.204700</td>\n",
       "      <td>11.232473</td>\n",
       "      <td>4099 days 20:27:40.380652800</td>\n",
       "      <td>2019-12-31 00:00:00.000000000</td>\n",
       "      <td>3967 days 00:00:00</td>\n",
       "      <td>1</td>\n",
       "      <td>2.35961</td>\n",
       "      <td>0.95682</td>\n",
       "      <td>108</td>\n",
       "    </tr>\n",
       "    <tr>\n",
       "      <th>7918</th>\n",
       "      <td>2011-03-20</td>\n",
       "      <td>5.4</td>\n",
       "      <td>1938-08-26</td>\n",
       "      <td>1.0</td>\n",
       "      <td>81.0</td>\n",
       "      <td>67.000000</td>\n",
       "      <td>51.0</td>\n",
       "      <td>105.0</td>\n",
       "      <td>2017-08-06 00:00:00</td>\n",
       "      <td>35.519250</td>\n",
       "      <td>0.067000</td>\n",
       "      <td>3.842183</td>\n",
       "      <td>1402 days 09:31:19.432416</td>\n",
       "      <td>2015-01-20 09:31:19.432416000</td>\n",
       "      <td>1402 days 09:31:19.432416</td>\n",
       "      <td>0</td>\n",
       "      <td>1.18545</td>\n",
       "      <td>1.31886</td>\n",
       "      <td>90</td>\n",
       "    </tr>\n",
       "  </tbody>\n",
       "</table>\n",
       "</div>"
      ],
      "text/plain": [
       "     first_visit  HbA1c% datetime_leida  is_male    GGT  Reticulocyte Count  \\\n",
       "pid                                                                           \n",
       "3485  2010-09-05     6.0     1946-04-02      0.0   11.0           62.400000   \n",
       "5277  2011-01-16     5.6     1933-06-04      1.0   31.0            0.052000   \n",
       "5374  2006-10-29     6.3     1933-03-05      1.0  433.0           19.200001   \n",
       "6330  2009-02-19     5.1     1935-09-02      0.0   32.0          204.700000   \n",
       "7918  2011-03-20     5.4     1938-08-26      1.0   81.0           67.000000   \n",
       "\n",
       "       HDL  Triglycerides        diabetes_date  UKB_HbA1c  \\\n",
       "pid                                                         \n",
       "3485  48.0          129.0                  NaN  42.076650   \n",
       "5277  41.0          157.0                  NaN  37.705050   \n",
       "5374  69.0           65.0                  NaN  45.355352   \n",
       "6330  37.0          209.0  2016-05-26 00:00:00  32.240550   \n",
       "7918  51.0          105.0  2017-08-06 00:00:00  35.519250   \n",
       "\n",
       "      UKB_reticulocyte_count   dt_years                      dt_days  \\\n",
       "pid                                                                    \n",
       "3485                0.062400   5.154469    1881 days 09:08:58.858224   \n",
       "5277                0.000052   8.239171 3007 days 07:08:25.445817600   \n",
       "5374                0.019200   6.533647    2384 days 18:44:40.947504   \n",
       "6330                0.204700  11.232473 4099 days 20:27:40.380652800   \n",
       "7918                0.067000   3.842183    1402 days 09:31:19.432416   \n",
       "\n",
       "                        check_date                     final_dt  Y  \\\n",
       "pid                                                                  \n",
       "3485 2015-10-30 09:08:58.858224000    1881 days 09:08:58.858224  0   \n",
       "5277 2019-04-11 07:08:25.445817600 3007 days 07:08:25.445817600  0   \n",
       "5374 2013-05-09 18:44:40.947504000    2384 days 18:44:40.947504  0   \n",
       "6330 2019-12-31 00:00:00.000000000           3967 days 00:00:00  1   \n",
       "7918 2015-01-20 09:31:19.432416000    1402 days 09:31:19.432416  0   \n",
       "\n",
       "      UKB_Triglycerides  UKB_HDL  score  \n",
       "pid                                      \n",
       "3485            1.45641  1.24128    105  \n",
       "5277            1.77253  1.06026    108  \n",
       "5374            0.73385  1.78434    106  \n",
       "6330            2.35961  0.95682    108  \n",
       "7918            1.18545  1.31886     90  "
      ]
     },
     "execution_count": 68,
     "metadata": {},
     "output_type": "execute_result"
    }
   ],
   "source": [
    "final_df.head()"
   ]
  },
  {
   "cell_type": "markdown",
   "metadata": {},
   "source": [
    "# ROC and APS"
   ]
  },
  {
   "cell_type": "code",
   "execution_count": 69,
   "metadata": {
    "ExecuteTime": {
     "end_time": "2021-11-09T17:10:50.633274Z",
     "start_time": "2021-11-09T17:10:50.166178Z"
    }
   },
   "outputs": [
    {
     "data": {
      "image/png": "[encoded data removed]",
      "text/plain": [
       "<Figure size 432x288 with 1 Axes>"
      ]
     },
     "metadata": {
      "needs_background": "light"
     },
     "output_type": "display_data"
    }
   ],
   "source": [
    "from sklearn.metrics import PrecisionRecallDisplay,RocCurveDisplay\n",
    "PR_disp=PrecisionRecallDisplay.from_predictions(final_df[\"Y\"],final_df[\"score\"])\n",
    "_ = PR_disp.ax_.set_title(\"2-class Precision-Recall curve\")"
   ]
  },
  {
   "cell_type": "code",
   "execution_count": 70,
   "metadata": {
    "ExecuteTime": {
     "end_time": "2021-11-09T17:10:59.253018Z",
     "start_time": "2021-11-09T17:10:58.902133Z"
    }
   },
   "outputs": [
    {
     "data": {
      "image/png": "[encoded data removed]",
      "text/plain": [
       "<Figure size 432x288 with 1 Axes>"
      ]
     },
     "metadata": {
      "needs_background": "light"
     },
     "output_type": "display_data"
    }
   ],
   "source": [
    "ROC_disp=RocCurveDisplay.from_predictions(final_df[\"Y\"],final_df[\"score\"])\n",
    "_ = ROC_disp.ax_.set_title(\"2-class ROC\")"
   ]
  },
  {
   "cell_type": "code",
   "execution_count": 71,
   "metadata": {
    "ExecuteTime": {
     "end_time": "2021-11-09T17:14:00.275787Z",
     "start_time": "2021-11-09T17:13:59.308687Z"
    }
   },
   "outputs": [
    {
     "data": {
      "text/plain": [
       "Index(['first_visit', 'HbA1c%', 'datetime_leida', 'is_male', 'GGT',\n",
       "       'Reticulocyte Count', 'HDL', 'Triglycerides', 'diabetes_date',\n",
       "       'UKB_HbA1c', 'UKB_reticulocyte_count', 'dt_years', 'dt_days',\n",
       "       'check_date', 'final_dt', 'Y', 'UKB_Triglycerides', 'UKB_HDL', 'score'],\n",
       "      dtype='object')"
      ]
     },
     "execution_count": 71,
     "metadata": {},
     "output_type": "execute_result"
    }
   ],
   "source": [
    "final_df.columns"
   ]
  },
  {
   "cell_type": "code",
   "execution_count": 73,
   "metadata": {
    "ExecuteTime": {
     "end_time": "2021-11-09T17:15:30.016422Z",
     "start_time": "2021-11-09T17:15:29.981420Z"
    }
   },
   "outputs": [],
   "source": [
    "view_df=final_df.loc[:,['first_visit',\"diabetes_date\",'final_dt','check_date','Y','score']].sort_values(by=\"score\")"
   ]
  },
  {
   "cell_type": "code",
   "execution_count": 76,
   "metadata": {
    "ExecuteTime": {
     "end_time": "2021-11-09T17:19:29.169014Z",
     "start_time": "2021-11-09T17:19:28.846270Z"
    }
   },
   "outputs": [],
   "source": [
    "final_df=final_df.sort_values(by=\"score\")"
   ]
  },
  {
   "cell_type": "code",
   "execution_count": 78,
   "metadata": {
    "ExecuteTime": {
     "end_time": "2021-11-09T17:20:01.171585Z",
     "start_time": "2021-11-09T17:20:01.029394Z"
    }
   },
   "outputs": [
    {
     "data": {
      "text/html": [
       "<div>\n",
       "<style scoped>\n",
       "    .dataframe tbody tr th:only-of-type {\n",
       "        vertical-align: middle;\n",
       "    }\n",
       "\n",
       "    .dataframe tbody tr th {\n",
       "        vertical-align: top;\n",
       "    }\n",
       "\n",
       "    .dataframe thead th {\n",
       "        text-align: right;\n",
       "    }\n",
       "</style>\n",
       "<table border=\"1\" class=\"dataframe\">\n",
       "  <thead>\n",
       "    <tr style=\"text-align: right;\">\n",
       "      <th></th>\n",
       "      <th>first_visit</th>\n",
       "      <th>HbA1c%</th>\n",
       "      <th>datetime_leida</th>\n",
       "      <th>is_male</th>\n",
       "      <th>GGT</th>\n",
       "      <th>Reticulocyte Count</th>\n",
       "      <th>HDL</th>\n",
       "      <th>Triglycerides</th>\n",
       "      <th>diabetes_date</th>\n",
       "      <th>UKB_HbA1c</th>\n",
       "      <th>UKB_reticulocyte_count</th>\n",
       "      <th>dt_years</th>\n",
       "      <th>dt_days</th>\n",
       "      <th>check_date</th>\n",
       "      <th>final_dt</th>\n",
       "      <th>Y</th>\n",
       "      <th>UKB_Triglycerides</th>\n",
       "      <th>UKB_HDL</th>\n",
       "      <th>score</th>\n",
       "    </tr>\n",
       "    <tr>\n",
       "      <th>pid</th>\n",
       "      <th></th>\n",
       "      <th></th>\n",
       "      <th></th>\n",
       "      <th></th>\n",
       "      <th></th>\n",
       "      <th></th>\n",
       "      <th></th>\n",
       "      <th></th>\n",
       "      <th></th>\n",
       "      <th></th>\n",
       "      <th></th>\n",
       "      <th></th>\n",
       "      <th></th>\n",
       "      <th></th>\n",
       "      <th></th>\n",
       "      <th></th>\n",
       "      <th></th>\n",
       "      <th></th>\n",
       "      <th></th>\n",
       "    </tr>\n",
       "  </thead>\n",
       "  <tbody>\n",
       "    <tr>\n",
       "      <th>957430</th>\n",
       "      <td>2008-11-16</td>\n",
       "      <td>4.20</td>\n",
       "      <td>1934-09-21</td>\n",
       "      <td>0.0</td>\n",
       "      <td>10.0</td>\n",
       "      <td>24.000000</td>\n",
       "      <td>39.0</td>\n",
       "      <td>220.0</td>\n",
       "      <td>2009-11-11 00:00:00</td>\n",
       "      <td>22.404450</td>\n",
       "      <td>0.024000</td>\n",
       "      <td>4.073497</td>\n",
       "      <td>1486 days 19:50:02.443315200</td>\n",
       "      <td>2012-12-11 19:50:02.443315200</td>\n",
       "      <td>1486 days 19:50:02.443315200</td>\n",
       "      <td>1</td>\n",
       "      <td>2.48380</td>\n",
       "      <td>1.00854</td>\n",
       "      <td>36</td>\n",
       "    </tr>\n",
       "    <tr>\n",
       "      <th>2647309</th>\n",
       "      <td>2011-03-10</td>\n",
       "      <td>4.80</td>\n",
       "      <td>1978-07-14</td>\n",
       "      <td>0.0</td>\n",
       "      <td>12.0</td>\n",
       "      <td>63.000000</td>\n",
       "      <td>55.0</td>\n",
       "      <td>56.0</td>\n",
       "      <td>2013-12-29 00:00:00</td>\n",
       "      <td>28.961850</td>\n",
       "      <td>0.063000</td>\n",
       "      <td>7.380332</td>\n",
       "      <td>2693 days 19:42:27.788198400</td>\n",
       "      <td>2018-07-24 19:42:27.788198400</td>\n",
       "      <td>2693 days 19:42:27.788198400</td>\n",
       "      <td>1</td>\n",
       "      <td>0.63224</td>\n",
       "      <td>1.42230</td>\n",
       "      <td>39</td>\n",
       "    </tr>\n",
       "    <tr>\n",
       "      <th>4427284</th>\n",
       "      <td>2008-11-04</td>\n",
       "      <td>4.40</td>\n",
       "      <td>1962-12-31</td>\n",
       "      <td>0.0</td>\n",
       "      <td>12.0</td>\n",
       "      <td>86.700000</td>\n",
       "      <td>54.0</td>\n",
       "      <td>51.0</td>\n",
       "      <td>2012-01-30 00:00:00</td>\n",
       "      <td>24.590250</td>\n",
       "      <td>0.086700</td>\n",
       "      <td>4.414413</td>\n",
       "      <td>1611 days 06:15:29.864880</td>\n",
       "      <td>2013-04-03 06:15:29.864880000</td>\n",
       "      <td>1611 days 06:15:29.864880</td>\n",
       "      <td>1</td>\n",
       "      <td>0.57579</td>\n",
       "      <td>1.39644</td>\n",
       "      <td>40</td>\n",
       "    </tr>\n",
       "    <tr>\n",
       "      <th>3115314</th>\n",
       "      <td>2010-07-20</td>\n",
       "      <td>4.70</td>\n",
       "      <td>1986-04-14</td>\n",
       "      <td>0.0</td>\n",
       "      <td>5.0</td>\n",
       "      <td>116.000000</td>\n",
       "      <td>85.0</td>\n",
       "      <td>198.0</td>\n",
       "      <td>2013-12-05 00:00:00</td>\n",
       "      <td>27.868950</td>\n",
       "      <td>0.116000</td>\n",
       "      <td>7.543653</td>\n",
       "      <td>2753 days 10:23:50.451043200</td>\n",
       "      <td>2018-02-01 10:23:50.451043200</td>\n",
       "      <td>2753 days 10:23:50.451043200</td>\n",
       "      <td>1</td>\n",
       "      <td>2.23542</td>\n",
       "      <td>2.19810</td>\n",
       "      <td>40</td>\n",
       "    </tr>\n",
       "    <tr>\n",
       "      <th>8666904</th>\n",
       "      <td>2010-07-14</td>\n",
       "      <td>5.30</td>\n",
       "      <td>1935-11-29</td>\n",
       "      <td>0.0</td>\n",
       "      <td>13.0</td>\n",
       "      <td>66.000000</td>\n",
       "      <td>77.0</td>\n",
       "      <td>66.0</td>\n",
       "      <td>2011-09-18 00:00:00</td>\n",
       "      <td>34.426350</td>\n",
       "      <td>0.066000</td>\n",
       "      <td>8.131303</td>\n",
       "      <td>2967 days 22:12:55.560211200</td>\n",
       "      <td>2018-08-28 22:12:55.560211200</td>\n",
       "      <td>2967 days 22:12:55.560211200</td>\n",
       "      <td>1</td>\n",
       "      <td>0.74514</td>\n",
       "      <td>1.99122</td>\n",
       "      <td>44</td>\n",
       "    </tr>\n",
       "    <tr>\n",
       "      <th>4606911</th>\n",
       "      <td>2006-10-05</td>\n",
       "      <td>4.70</td>\n",
       "      <td>1965-06-27</td>\n",
       "      <td>0.0</td>\n",
       "      <td>13.0</td>\n",
       "      <td>0.091700</td>\n",
       "      <td>39.0</td>\n",
       "      <td>146.0</td>\n",
       "      <td>2007-02-09 00:00:00</td>\n",
       "      <td>27.868948</td>\n",
       "      <td>0.000092</td>\n",
       "      <td>7.818746</td>\n",
       "      <td>2853 days 20:13:04.308931200</td>\n",
       "      <td>2014-07-28 20:13:04.308931200</td>\n",
       "      <td>2853 days 20:13:04.308931200</td>\n",
       "      <td>1</td>\n",
       "      <td>1.64834</td>\n",
       "      <td>1.00854</td>\n",
       "      <td>44</td>\n",
       "    </tr>\n",
       "    <tr>\n",
       "      <th>3487415</th>\n",
       "      <td>2008-05-26</td>\n",
       "      <td>4.80</td>\n",
       "      <td>1912-01-15</td>\n",
       "      <td>0.0</td>\n",
       "      <td>36.0</td>\n",
       "      <td>27.000000</td>\n",
       "      <td>81.0</td>\n",
       "      <td>106.0</td>\n",
       "      <td>2010-07-09 00:00:00</td>\n",
       "      <td>28.961850</td>\n",
       "      <td>0.027000</td>\n",
       "      <td>10.741669</td>\n",
       "      <td>3920 days 17:01:27.721718400</td>\n",
       "      <td>2019-02-18 17:01:27.721718400</td>\n",
       "      <td>3920 days 17:01:27.721718400</td>\n",
       "      <td>1</td>\n",
       "      <td>1.19674</td>\n",
       "      <td>2.09466</td>\n",
       "      <td>44</td>\n",
       "    </tr>\n",
       "    <tr>\n",
       "      <th>1937754</th>\n",
       "      <td>2010-03-08</td>\n",
       "      <td>4.60</td>\n",
       "      <td>1970-03-17</td>\n",
       "      <td>0.0</td>\n",
       "      <td>14.0</td>\n",
       "      <td>65.300000</td>\n",
       "      <td>30.0</td>\n",
       "      <td>163.0</td>\n",
       "      <td>2013-01-08 00:00:00</td>\n",
       "      <td>26.776050</td>\n",
       "      <td>0.065300</td>\n",
       "      <td>2.962755</td>\n",
       "      <td>1081 days 09:44:10.032115200</td>\n",
       "      <td>2013-02-21 09:44:10.032115200</td>\n",
       "      <td>1081 days 09:44:10.032115200</td>\n",
       "      <td>1</td>\n",
       "      <td>1.84027</td>\n",
       "      <td>0.77580</td>\n",
       "      <td>48</td>\n",
       "    </tr>\n",
       "    <tr>\n",
       "      <th>4303270</th>\n",
       "      <td>2008-01-03</td>\n",
       "      <td>4.90</td>\n",
       "      <td>1960-09-22</td>\n",
       "      <td>0.0</td>\n",
       "      <td>18.0</td>\n",
       "      <td>89.000000</td>\n",
       "      <td>60.0</td>\n",
       "      <td>208.0</td>\n",
       "      <td>2011-08-17 00:00:00</td>\n",
       "      <td>30.054750</td>\n",
       "      <td>0.089000</td>\n",
       "      <td>4.172327</td>\n",
       "      <td>1522 days 21:34:50.807078400</td>\n",
       "      <td>2012-03-04 21:34:50.807078400</td>\n",
       "      <td>1522 days 21:34:50.807078400</td>\n",
       "      <td>1</td>\n",
       "      <td>2.34832</td>\n",
       "      <td>1.55160</td>\n",
       "      <td>48</td>\n",
       "    </tr>\n",
       "    <tr>\n",
       "      <th>67278</th>\n",
       "      <td>2007-02-01</td>\n",
       "      <td>5.10</td>\n",
       "      <td>1932-02-26</td>\n",
       "      <td>0.0</td>\n",
       "      <td>14.0</td>\n",
       "      <td>90.000000</td>\n",
       "      <td>85.0</td>\n",
       "      <td>89.0</td>\n",
       "      <td>2009-03-26 00:00:00</td>\n",
       "      <td>32.240549</td>\n",
       "      <td>0.090000</td>\n",
       "      <td>9.713197</td>\n",
       "      <td>3545 days 07:36:12.232540800</td>\n",
       "      <td>2016-10-16 07:36:12.232540800</td>\n",
       "      <td>3545 days 07:36:12.232540800</td>\n",
       "      <td>1</td>\n",
       "      <td>1.00481</td>\n",
       "      <td>2.19810</td>\n",
       "      <td>52</td>\n",
       "    </tr>\n",
       "    <tr>\n",
       "      <th>3920361</th>\n",
       "      <td>2006-09-06</td>\n",
       "      <td>4.80</td>\n",
       "      <td>1954-01-30</td>\n",
       "      <td>0.0</td>\n",
       "      <td>123.0</td>\n",
       "      <td>0.056000</td>\n",
       "      <td>43.0</td>\n",
       "      <td>312.0</td>\n",
       "      <td>2009-05-28 00:00:00</td>\n",
       "      <td>28.961852</td>\n",
       "      <td>0.000056</td>\n",
       "      <td>4.894625</td>\n",
       "      <td>1786 days 12:54:45.724953600</td>\n",
       "      <td>2011-07-28 12:54:45.724953600</td>\n",
       "      <td>1786 days 12:54:45.724953600</td>\n",
       "      <td>1</td>\n",
       "      <td>3.52248</td>\n",
       "      <td>1.11198</td>\n",
       "      <td>52</td>\n",
       "    </tr>\n",
       "    <tr>\n",
       "      <th>1351633</th>\n",
       "      <td>2007-10-16</td>\n",
       "      <td>4.80</td>\n",
       "      <td>1940-02-19</td>\n",
       "      <td>0.0</td>\n",
       "      <td>40.0</td>\n",
       "      <td>42.400000</td>\n",
       "      <td>38.0</td>\n",
       "      <td>77.0</td>\n",
       "      <td>2009-03-08 00:00:00</td>\n",
       "      <td>28.961850</td>\n",
       "      <td>0.042400</td>\n",
       "      <td>4.407156</td>\n",
       "      <td>1608 days 14:41:16.622275200</td>\n",
       "      <td>2012-03-11 14:41:16.622275200</td>\n",
       "      <td>1608 days 14:41:16.622275200</td>\n",
       "      <td>1</td>\n",
       "      <td>0.86933</td>\n",
       "      <td>0.98268</td>\n",
       "      <td>54</td>\n",
       "    </tr>\n",
       "    <tr>\n",
       "      <th>5876404</th>\n",
       "      <td>2011-06-29</td>\n",
       "      <td>5.30</td>\n",
       "      <td>1993-08-07</td>\n",
       "      <td>0.0</td>\n",
       "      <td>9.0</td>\n",
       "      <td>66.000000</td>\n",
       "      <td>55.0</td>\n",
       "      <td>70.0</td>\n",
       "      <td>2012-01-27 00:00:00</td>\n",
       "      <td>34.426350</td>\n",
       "      <td>0.066000</td>\n",
       "      <td>5.625516</td>\n",
       "      <td>2053 days 07:31:04.314345600</td>\n",
       "      <td>2017-02-10 07:31:04.314345600</td>\n",
       "      <td>2053 days 07:31:04.314345600</td>\n",
       "      <td>1</td>\n",
       "      <td>0.79030</td>\n",
       "      <td>1.42230</td>\n",
       "      <td>54</td>\n",
       "    </tr>\n",
       "    <tr>\n",
       "      <th>9211665</th>\n",
       "      <td>2008-04-30</td>\n",
       "      <td>4.90</td>\n",
       "      <td>1950-11-25</td>\n",
       "      <td>0.0</td>\n",
       "      <td>74.0</td>\n",
       "      <td>54.000000</td>\n",
       "      <td>47.0</td>\n",
       "      <td>74.0</td>\n",
       "      <td>2008-08-13 00:00:00</td>\n",
       "      <td>30.054750</td>\n",
       "      <td>0.054000</td>\n",
       "      <td>4.630991</td>\n",
       "      <td>1690 days 07:29:00.658406400</td>\n",
       "      <td>2012-12-15 07:29:00.658406400</td>\n",
       "      <td>1690 days 07:29:00.658406400</td>\n",
       "      <td>1</td>\n",
       "      <td>0.83546</td>\n",
       "      <td>1.21542</td>\n",
       "      <td>54</td>\n",
       "    </tr>\n",
       "    <tr>\n",
       "      <th>4643222</th>\n",
       "      <td>2011-05-18</td>\n",
       "      <td>3.40</td>\n",
       "      <td>1967-08-11</td>\n",
       "      <td>1.0</td>\n",
       "      <td>15.0</td>\n",
       "      <td>51.000000</td>\n",
       "      <td>32.0</td>\n",
       "      <td>450.0</td>\n",
       "      <td>2014-09-22 00:00:00</td>\n",
       "      <td>13.661250</td>\n",
       "      <td>0.051000</td>\n",
       "      <td>3.692977</td>\n",
       "      <td>1347 days 22:28:27.506467200</td>\n",
       "      <td>2015-01-24 22:28:27.506467200</td>\n",
       "      <td>1347 days 22:28:27.506467200</td>\n",
       "      <td>1</td>\n",
       "      <td>5.08050</td>\n",
       "      <td>0.82752</td>\n",
       "      <td>54</td>\n",
       "    </tr>\n",
       "    <tr>\n",
       "      <th>1064101</th>\n",
       "      <td>2010-08-17</td>\n",
       "      <td>4.60</td>\n",
       "      <td>1936-02-26</td>\n",
       "      <td>0.0</td>\n",
       "      <td>29.0</td>\n",
       "      <td>0.168000</td>\n",
       "      <td>19.0</td>\n",
       "      <td>73.0</td>\n",
       "      <td>2012-04-10 00:00:00</td>\n",
       "      <td>26.776050</td>\n",
       "      <td>0.000168</td>\n",
       "      <td>8.814027</td>\n",
       "      <td>3217 days 02:52:39.958752</td>\n",
       "      <td>2019-06-08 02:52:39.958752000</td>\n",
       "      <td>3217 days 02:52:39.958752</td>\n",
       "      <td>1</td>\n",
       "      <td>0.82417</td>\n",
       "      <td>0.49134</td>\n",
       "      <td>55</td>\n",
       "    </tr>\n",
       "    <tr>\n",
       "      <th>7888489</th>\n",
       "      <td>2006-01-26</td>\n",
       "      <td>5.30</td>\n",
       "      <td>1966-11-23</td>\n",
       "      <td>0.0</td>\n",
       "      <td>10.0</td>\n",
       "      <td>48.000000</td>\n",
       "      <td>53.0</td>\n",
       "      <td>104.0</td>\n",
       "      <td>2007-12-10 00:00:00</td>\n",
       "      <td>34.426352</td>\n",
       "      <td>0.048000</td>\n",
       "      <td>7.159718</td>\n",
       "      <td>2613 days 07:07:55.778304</td>\n",
       "      <td>2013-03-23 07:07:55.778304000</td>\n",
       "      <td>2613 days 07:07:55.778304</td>\n",
       "      <td>1</td>\n",
       "      <td>1.17416</td>\n",
       "      <td>1.37058</td>\n",
       "      <td>57</td>\n",
       "    </tr>\n",
       "    <tr>\n",
       "      <th>5110727</th>\n",
       "      <td>2011-12-15</td>\n",
       "      <td>5.20</td>\n",
       "      <td>1958-05-20</td>\n",
       "      <td>0.0</td>\n",
       "      <td>25.0</td>\n",
       "      <td>14.000000</td>\n",
       "      <td>57.0</td>\n",
       "      <td>123.0</td>\n",
       "      <td>2013-07-11 00:00:00</td>\n",
       "      <td>33.333450</td>\n",
       "      <td>0.014000</td>\n",
       "      <td>9.810969</td>\n",
       "      <td>3581 days 00:05:16.986739200</td>\n",
       "      <td>2019-12-31 00:00:00.000000000</td>\n",
       "      <td>2938 days 00:00:00</td>\n",
       "      <td>1</td>\n",
       "      <td>1.38867</td>\n",
       "      <td>1.47402</td>\n",
       "      <td>58</td>\n",
       "    </tr>\n",
       "    <tr>\n",
       "      <th>301204</th>\n",
       "      <td>2010-03-11</td>\n",
       "      <td>5.50</td>\n",
       "      <td>1935-06-19</td>\n",
       "      <td>0.0</td>\n",
       "      <td>15.0</td>\n",
       "      <td>48.600000</td>\n",
       "      <td>73.0</td>\n",
       "      <td>81.0</td>\n",
       "      <td>2012-07-10 00:00:00</td>\n",
       "      <td>36.612150</td>\n",
       "      <td>0.048600</td>\n",
       "      <td>4.460282</td>\n",
       "      <td>1628 days 00:04:23.073484800</td>\n",
       "      <td>2014-08-25 00:04:23.073484800</td>\n",
       "      <td>1628 days 00:04:23.073484800</td>\n",
       "      <td>1</td>\n",
       "      <td>0.91449</td>\n",
       "      <td>1.88778</td>\n",
       "      <td>58</td>\n",
       "    </tr>\n",
       "    <tr>\n",
       "      <th>8592118</th>\n",
       "      <td>2009-01-20</td>\n",
       "      <td>5.50</td>\n",
       "      <td>1951-08-20</td>\n",
       "      <td>0.0</td>\n",
       "      <td>22.0</td>\n",
       "      <td>16.800000</td>\n",
       "      <td>78.0</td>\n",
       "      <td>81.0</td>\n",
       "      <td>2014-02-26 00:00:00</td>\n",
       "      <td>36.612150</td>\n",
       "      <td>0.016800</td>\n",
       "      <td>8.448064</td>\n",
       "      <td>3083 days 13:02:36.681676800</td>\n",
       "      <td>2017-06-30 13:02:36.681676800</td>\n",
       "      <td>3083 days 13:02:36.681676800</td>\n",
       "      <td>1</td>\n",
       "      <td>0.91449</td>\n",
       "      <td>2.01708</td>\n",
       "      <td>59</td>\n",
       "    </tr>\n",
       "    <tr>\n",
       "      <th>8410601</th>\n",
       "      <td>2011-12-28</td>\n",
       "      <td>3.50</td>\n",
       "      <td>1983-11-21</td>\n",
       "      <td>0.0</td>\n",
       "      <td>15.0</td>\n",
       "      <td>108.000000</td>\n",
       "      <td>49.0</td>\n",
       "      <td>112.0</td>\n",
       "      <td>2014-07-17 00:00:00</td>\n",
       "      <td>14.754150</td>\n",
       "      <td>0.108000</td>\n",
       "      <td>5.863176</td>\n",
       "      <td>2140 days 01:25:32.127427200</td>\n",
       "      <td>2017-11-06 01:25:32.127427200</td>\n",
       "      <td>2140 days 01:25:32.127427200</td>\n",
       "      <td>1</td>\n",
       "      <td>1.26448</td>\n",
       "      <td>1.26714</td>\n",
       "      <td>60</td>\n",
       "    </tr>\n",
       "    <tr>\n",
       "      <th>2881598</th>\n",
       "      <td>2009-10-13</td>\n",
       "      <td>4.90</td>\n",
       "      <td>1937-07-27</td>\n",
       "      <td>1.0</td>\n",
       "      <td>127.0</td>\n",
       "      <td>29.000000</td>\n",
       "      <td>50.0</td>\n",
       "      <td>54.0</td>\n",
       "      <td>2010-09-06 00:00:00</td>\n",
       "      <td>30.054750</td>\n",
       "      <td>0.029000</td>\n",
       "      <td>9.254034</td>\n",
       "      <td>3377 days 17:20:02.957712</td>\n",
       "      <td>2019-01-11 17:20:02.957712000</td>\n",
       "      <td>3377 days 17:20:02.957712</td>\n",
       "      <td>1</td>\n",
       "      <td>0.60966</td>\n",
       "      <td>1.29300</td>\n",
       "      <td>63</td>\n",
       "    </tr>\n",
       "    <tr>\n",
       "      <th>7691140</th>\n",
       "      <td>2008-05-22</td>\n",
       "      <td>5.20</td>\n",
       "      <td>1958-02-11</td>\n",
       "      <td>0.0</td>\n",
       "      <td>39.0</td>\n",
       "      <td>0.092000</td>\n",
       "      <td>58.0</td>\n",
       "      <td>59.0</td>\n",
       "      <td>2008-09-03 00:00:00</td>\n",
       "      <td>33.333450</td>\n",
       "      <td>0.000092</td>\n",
       "      <td>7.080140</td>\n",
       "      <td>2584 days 06:01:42.457008</td>\n",
       "      <td>2015-06-19 06:01:42.457008000</td>\n",
       "      <td>2584 days 06:01:42.457008</td>\n",
       "      <td>1</td>\n",
       "      <td>0.66611</td>\n",
       "      <td>1.49988</td>\n",
       "      <td>63</td>\n",
       "    </tr>\n",
       "    <tr>\n",
       "      <th>4236337</th>\n",
       "      <td>2006-09-13</td>\n",
       "      <td>5.50</td>\n",
       "      <td>1960-04-01</td>\n",
       "      <td>0.0</td>\n",
       "      <td>12.0</td>\n",
       "      <td>34.000000</td>\n",
       "      <td>55.0</td>\n",
       "      <td>141.0</td>\n",
       "      <td>2012-02-20 00:00:00</td>\n",
       "      <td>36.612150</td>\n",
       "      <td>0.034000</td>\n",
       "      <td>6.055629</td>\n",
       "      <td>2210 days 07:18:28.672646400</td>\n",
       "      <td>2012-10-01 07:18:28.672646400</td>\n",
       "      <td>2210 days 07:18:28.672646400</td>\n",
       "      <td>1</td>\n",
       "      <td>1.59189</td>\n",
       "      <td>1.42230</td>\n",
       "      <td>63</td>\n",
       "    </tr>\n",
       "    <tr>\n",
       "      <th>1245113</th>\n",
       "      <td>2010-11-08</td>\n",
       "      <td>5.30</td>\n",
       "      <td>1948-07-13</td>\n",
       "      <td>1.0</td>\n",
       "      <td>24.0</td>\n",
       "      <td>48.000000</td>\n",
       "      <td>51.0</td>\n",
       "      <td>122.0</td>\n",
       "      <td>2012-02-02 00:00:00</td>\n",
       "      <td>34.426350</td>\n",
       "      <td>0.048000</td>\n",
       "      <td>2.755707</td>\n",
       "      <td>1005 days 19:59:28.596768</td>\n",
       "      <td>2013-08-09 19:59:28.596768000</td>\n",
       "      <td>1005 days 19:59:28.596768</td>\n",
       "      <td>1</td>\n",
       "      <td>1.37738</td>\n",
       "      <td>1.31886</td>\n",
       "      <td>63</td>\n",
       "    </tr>\n",
       "    <tr>\n",
       "      <th>5438362</th>\n",
       "      <td>2007-12-30</td>\n",
       "      <td>5.50</td>\n",
       "      <td>1950-07-05</td>\n",
       "      <td>0.0</td>\n",
       "      <td>17.0</td>\n",
       "      <td>38.200000</td>\n",
       "      <td>62.0</td>\n",
       "      <td>76.0</td>\n",
       "      <td>2008-06-10 00:00:00</td>\n",
       "      <td>36.612150</td>\n",
       "      <td>0.038200</td>\n",
       "      <td>6.839917</td>\n",
       "      <td>2496 days 13:40:17.167987200</td>\n",
       "      <td>2014-10-30 13:40:17.167987200</td>\n",
       "      <td>2496 days 13:40:17.167987200</td>\n",
       "      <td>1</td>\n",
       "      <td>0.85804</td>\n",
       "      <td>1.60332</td>\n",
       "      <td>64</td>\n",
       "    </tr>\n",
       "    <tr>\n",
       "      <th>537062</th>\n",
       "      <td>2009-08-17</td>\n",
       "      <td>5.09</td>\n",
       "      <td>1944-01-07</td>\n",
       "      <td>0.0</td>\n",
       "      <td>18.0</td>\n",
       "      <td>82.000000</td>\n",
       "      <td>68.0</td>\n",
       "      <td>120.0</td>\n",
       "      <td>2015-01-13 00:00:00</td>\n",
       "      <td>32.131260</td>\n",
       "      <td>0.082000</td>\n",
       "      <td>7.403425</td>\n",
       "      <td>2702 days 06:00:18.378230399</td>\n",
       "      <td>2017-01-09 06:00:18.378230399</td>\n",
       "      <td>2702 days 06:00:18.378230399</td>\n",
       "      <td>1</td>\n",
       "      <td>1.35480</td>\n",
       "      <td>1.75848</td>\n",
       "      <td>64</td>\n",
       "    </tr>\n",
       "    <tr>\n",
       "      <th>1208531</th>\n",
       "      <td>2011-12-08</td>\n",
       "      <td>5.50</td>\n",
       "      <td>1925-12-22</td>\n",
       "      <td>0.0</td>\n",
       "      <td>16.0</td>\n",
       "      <td>43.000000</td>\n",
       "      <td>67.0</td>\n",
       "      <td>75.0</td>\n",
       "      <td>2013-11-19 00:00:00</td>\n",
       "      <td>36.612150</td>\n",
       "      <td>0.043000</td>\n",
       "      <td>9.827091</td>\n",
       "      <td>3586 days 21:18:56.852150400</td>\n",
       "      <td>2019-12-31 00:00:00.000000000</td>\n",
       "      <td>2945 days 00:00:00</td>\n",
       "      <td>1</td>\n",
       "      <td>0.84675</td>\n",
       "      <td>1.73262</td>\n",
       "      <td>65</td>\n",
       "    </tr>\n",
       "    <tr>\n",
       "      <th>4017756</th>\n",
       "      <td>2008-01-02</td>\n",
       "      <td>5.60</td>\n",
       "      <td>1955-06-13</td>\n",
       "      <td>0.0</td>\n",
       "      <td>20.0</td>\n",
       "      <td>43.800000</td>\n",
       "      <td>68.0</td>\n",
       "      <td>76.0</td>\n",
       "      <td>2008-09-02 00:00:00</td>\n",
       "      <td>37.705050</td>\n",
       "      <td>0.043800</td>\n",
       "      <td>2.531755</td>\n",
       "      <td>924 days 02:10:24.776342400</td>\n",
       "      <td>2010-07-14 02:10:24.776342400</td>\n",
       "      <td>924 days 02:10:24.776342400</td>\n",
       "      <td>1</td>\n",
       "      <td>0.85804</td>\n",
       "      <td>1.75848</td>\n",
       "      <td>66</td>\n",
       "    </tr>\n",
       "    <tr>\n",
       "      <th>296839</th>\n",
       "      <td>2006-11-13</td>\n",
       "      <td>4.90</td>\n",
       "      <td>1943-09-13</td>\n",
       "      <td>1.0</td>\n",
       "      <td>49.0</td>\n",
       "      <td>0.154000</td>\n",
       "      <td>33.0</td>\n",
       "      <td>95.0</td>\n",
       "      <td>2007-10-21 00:00:00</td>\n",
       "      <td>30.054751</td>\n",
       "      <td>0.000154</td>\n",
       "      <td>6.925212</td>\n",
       "      <td>2527 days 16:51:19.552204800</td>\n",
       "      <td>2013-10-14 16:51:19.552204800</td>\n",
       "      <td>2527 days 16:51:19.552204800</td>\n",
       "      <td>1</td>\n",
       "      <td>1.07255</td>\n",
       "      <td>0.85338</td>\n",
       "      <td>67</td>\n",
       "    </tr>\n",
       "    <tr>\n",
       "      <th>5276144</th>\n",
       "      <td>2007-11-12</td>\n",
       "      <td>5.20</td>\n",
       "      <td>1930-02-05</td>\n",
       "      <td>1.0</td>\n",
       "      <td>32.0</td>\n",
       "      <td>33.700000</td>\n",
       "      <td>50.0</td>\n",
       "      <td>63.0</td>\n",
       "      <td>2012-02-21 00:00:00</td>\n",
       "      <td>33.333450</td>\n",
       "      <td>0.033700</td>\n",
       "      <td>6.775823</td>\n",
       "      <td>2473 days 04:12:18.691084800</td>\n",
       "      <td>2014-08-20 04:12:18.691084800</td>\n",
       "      <td>2473 days 04:12:18.691084800</td>\n",
       "      <td>1</td>\n",
       "      <td>0.71127</td>\n",
       "      <td>1.29300</td>\n",
       "      <td>70</td>\n",
       "    </tr>\n",
       "    <tr>\n",
       "      <th>6253975</th>\n",
       "      <td>2011-11-22</td>\n",
       "      <td>5.50</td>\n",
       "      <td>1999-01-25</td>\n",
       "      <td>0.0</td>\n",
       "      <td>12.0</td>\n",
       "      <td>0.037000</td>\n",
       "      <td>39.0</td>\n",
       "      <td>72.0</td>\n",
       "      <td>2015-03-15 00:00:00</td>\n",
       "      <td>36.612150</td>\n",
       "      <td>0.000037</td>\n",
       "      <td>7.311900</td>\n",
       "      <td>2668 days 20:14:27.042720</td>\n",
       "      <td>2019-03-13 20:14:27.042720000</td>\n",
       "      <td>2668 days 20:14:27.042720</td>\n",
       "      <td>1</td>\n",
       "      <td>0.81288</td>\n",
       "      <td>1.00854</td>\n",
       "      <td>70</td>\n",
       "    </tr>\n",
       "    <tr>\n",
       "      <th>4744037</th>\n",
       "      <td>2006-02-16</td>\n",
       "      <td>5.10</td>\n",
       "      <td>1949-06-10</td>\n",
       "      <td>0.0</td>\n",
       "      <td>25.0</td>\n",
       "      <td>119.000000</td>\n",
       "      <td>55.0</td>\n",
       "      <td>76.0</td>\n",
       "      <td>2009-08-26 00:00:00</td>\n",
       "      <td>32.240549</td>\n",
       "      <td>0.119000</td>\n",
       "      <td>7.759299</td>\n",
       "      <td>2832 days 03:27:46.300377600</td>\n",
       "      <td>2013-11-18 03:27:46.300377600</td>\n",
       "      <td>2832 days 03:27:46.300377600</td>\n",
       "      <td>1</td>\n",
       "      <td>0.85804</td>\n",
       "      <td>1.42230</td>\n",
       "      <td>70</td>\n",
       "    </tr>\n",
       "    <tr>\n",
       "      <th>3689846</th>\n",
       "      <td>2006-01-08</td>\n",
       "      <td>5.64</td>\n",
       "      <td>1924-01-29</td>\n",
       "      <td>0.0</td>\n",
       "      <td>11.0</td>\n",
       "      <td>34.000000</td>\n",
       "      <td>42.0</td>\n",
       "      <td>131.0</td>\n",
       "      <td>2007-01-24 00:00:00</td>\n",
       "      <td>38.142209</td>\n",
       "      <td>0.034000</td>\n",
       "      <td>2.379281</td>\n",
       "      <td>868 days 10:29:53.051539200</td>\n",
       "      <td>2008-05-25 10:29:53.051539200</td>\n",
       "      <td>868 days 10:29:53.051539200</td>\n",
       "      <td>1</td>\n",
       "      <td>1.47899</td>\n",
       "      <td>1.08612</td>\n",
       "      <td>72</td>\n",
       "    </tr>\n",
       "    <tr>\n",
       "      <th>591449</th>\n",
       "      <td>2011-06-30</td>\n",
       "      <td>5.50</td>\n",
       "      <td>1934-05-05</td>\n",
       "      <td>0.0</td>\n",
       "      <td>13.0</td>\n",
       "      <td>73.000000</td>\n",
       "      <td>67.0</td>\n",
       "      <td>131.0</td>\n",
       "      <td>2014-02-05 00:00:00</td>\n",
       "      <td>36.612150</td>\n",
       "      <td>0.073000</td>\n",
       "      <td>5.093894</td>\n",
       "      <td>1859 days 06:30:37.534377600</td>\n",
       "      <td>2016-08-01 06:30:37.534377600</td>\n",
       "      <td>1859 days 06:30:37.534377600</td>\n",
       "      <td>1</td>\n",
       "      <td>1.47899</td>\n",
       "      <td>1.73262</td>\n",
       "      <td>72</td>\n",
       "    </tr>\n",
       "    <tr>\n",
       "      <th>3400773</th>\n",
       "      <td>2011-06-22</td>\n",
       "      <td>5.50</td>\n",
       "      <td>1922-05-27</td>\n",
       "      <td>0.0</td>\n",
       "      <td>8.0</td>\n",
       "      <td>46.000000</td>\n",
       "      <td>45.0</td>\n",
       "      <td>112.0</td>\n",
       "      <td>2015-01-19 00:00:00</td>\n",
       "      <td>36.612150</td>\n",
       "      <td>0.046000</td>\n",
       "      <td>6.963779</td>\n",
       "      <td>2541 days 18:42:01.963123200</td>\n",
       "      <td>2018-06-06 18:42:01.963123200</td>\n",
       "      <td>2541 days 18:42:01.963123200</td>\n",
       "      <td>1</td>\n",
       "      <td>1.26448</td>\n",
       "      <td>1.16370</td>\n",
       "      <td>73</td>\n",
       "    </tr>\n",
       "    <tr>\n",
       "      <th>3413825</th>\n",
       "      <td>2006-07-30</td>\n",
       "      <td>5.00</td>\n",
       "      <td>1942-02-28</td>\n",
       "      <td>0.0</td>\n",
       "      <td>24.0</td>\n",
       "      <td>66.199997</td>\n",
       "      <td>48.0</td>\n",
       "      <td>152.0</td>\n",
       "      <td>2012-03-07 00:00:00</td>\n",
       "      <td>31.147650</td>\n",
       "      <td>0.066200</td>\n",
       "      <td>7.836413</td>\n",
       "      <td>2860 days 06:58:35.641833600</td>\n",
       "      <td>2014-05-29 06:58:35.641833600</td>\n",
       "      <td>2860 days 06:58:35.641833600</td>\n",
       "      <td>1</td>\n",
       "      <td>1.71608</td>\n",
       "      <td>1.24128</td>\n",
       "      <td>73</td>\n",
       "    </tr>\n",
       "    <tr>\n",
       "      <th>5178000</th>\n",
       "      <td>2007-01-25</td>\n",
       "      <td>4.80</td>\n",
       "      <td>1957-02-17</td>\n",
       "      <td>0.0</td>\n",
       "      <td>21.0</td>\n",
       "      <td>100.000000</td>\n",
       "      <td>38.0</td>\n",
       "      <td>208.0</td>\n",
       "      <td>2010-09-05 00:00:00</td>\n",
       "      <td>28.961852</td>\n",
       "      <td>0.100000</td>\n",
       "      <td>5.929061</td>\n",
       "      <td>2164 days 02:34:14.005056</td>\n",
       "      <td>2012-12-28 02:34:14.005056000</td>\n",
       "      <td>2164 days 02:34:14.005056</td>\n",
       "      <td>1</td>\n",
       "      <td>2.34832</td>\n",
       "      <td>0.98268</td>\n",
       "      <td>75</td>\n",
       "    </tr>\n",
       "    <tr>\n",
       "      <th>813015</th>\n",
       "      <td>2009-02-23</td>\n",
       "      <td>4.90</td>\n",
       "      <td>1947-02-13</td>\n",
       "      <td>1.0</td>\n",
       "      <td>23.0</td>\n",
       "      <td>120.000000</td>\n",
       "      <td>46.0</td>\n",
       "      <td>153.0</td>\n",
       "      <td>2010-04-11 00:00:00</td>\n",
       "      <td>30.054750</td>\n",
       "      <td>0.120000</td>\n",
       "      <td>8.951021</td>\n",
       "      <td>3267 days 02:56:39.187564800</td>\n",
       "      <td>2018-02-03 02:56:39.187564800</td>\n",
       "      <td>3267 days 02:56:39.187564800</td>\n",
       "      <td>1</td>\n",
       "      <td>1.72737</td>\n",
       "      <td>1.18956</td>\n",
       "      <td>75</td>\n",
       "    </tr>\n",
       "    <tr>\n",
       "      <th>3441736</th>\n",
       "      <td>2006-02-28</td>\n",
       "      <td>5.50</td>\n",
       "      <td>1925-04-29</td>\n",
       "      <td>0.0</td>\n",
       "      <td>19.0</td>\n",
       "      <td>67.000000</td>\n",
       "      <td>80.0</td>\n",
       "      <td>85.0</td>\n",
       "      <td>2009-12-15 00:00:00</td>\n",
       "      <td>36.612150</td>\n",
       "      <td>0.067000</td>\n",
       "      <td>9.073447</td>\n",
       "      <td>3311 days 19:23:52.483689600</td>\n",
       "      <td>2015-03-24 19:23:52.483689600</td>\n",
       "      <td>3311 days 19:23:52.483689600</td>\n",
       "      <td>1</td>\n",
       "      <td>0.95965</td>\n",
       "      <td>2.06880</td>\n",
       "      <td>76</td>\n",
       "    </tr>\n",
       "    <tr>\n",
       "      <th>8880895</th>\n",
       "      <td>2009-01-28</td>\n",
       "      <td>4.30</td>\n",
       "      <td>1936-05-04</td>\n",
       "      <td>0.0</td>\n",
       "      <td>65.0</td>\n",
       "      <td>91.000000</td>\n",
       "      <td>53.0</td>\n",
       "      <td>110.0</td>\n",
       "      <td>2009-07-30 00:00:00</td>\n",
       "      <td>23.497350</td>\n",
       "      <td>0.091000</td>\n",
       "      <td>5.201650</td>\n",
       "      <td>1898 days 14:27:12.187468800</td>\n",
       "      <td>2014-04-10 14:27:12.187468800</td>\n",
       "      <td>1898 days 14:27:12.187468800</td>\n",
       "      <td>1</td>\n",
       "      <td>1.24190</td>\n",
       "      <td>1.37058</td>\n",
       "      <td>76</td>\n",
       "    </tr>\n",
       "    <tr>\n",
       "      <th>5227386</th>\n",
       "      <td>2006-02-15</td>\n",
       "      <td>5.36</td>\n",
       "      <td>1945-09-07</td>\n",
       "      <td>1.0</td>\n",
       "      <td>23.0</td>\n",
       "      <td>48.500000</td>\n",
       "      <td>58.0</td>\n",
       "      <td>113.0</td>\n",
       "      <td>2008-01-04 00:00:00</td>\n",
       "      <td>35.082091</td>\n",
       "      <td>0.048500</td>\n",
       "      <td>5.499638</td>\n",
       "      <td>2007 days 08:49:37.746163200</td>\n",
       "      <td>2011-08-15 08:49:37.746163200</td>\n",
       "      <td>2007 days 08:49:37.746163200</td>\n",
       "      <td>1</td>\n",
       "      <td>1.27577</td>\n",
       "      <td>1.49988</td>\n",
       "      <td>76</td>\n",
       "    </tr>\n",
       "    <tr>\n",
       "      <th>2584019</th>\n",
       "      <td>2010-05-10</td>\n",
       "      <td>4.80</td>\n",
       "      <td>1975-06-17</td>\n",
       "      <td>0.0</td>\n",
       "      <td>30.0</td>\n",
       "      <td>80.400000</td>\n",
       "      <td>54.0</td>\n",
       "      <td>390.0</td>\n",
       "      <td>2015-04-09 00:00:00</td>\n",
       "      <td>28.961850</td>\n",
       "      <td>0.080400</td>\n",
       "      <td>10.297716</td>\n",
       "      <td>3758 days 15:59:25.080691200</td>\n",
       "      <td>2019-12-31 00:00:00.000000000</td>\n",
       "      <td>3522 days 00:00:00</td>\n",
       "      <td>1</td>\n",
       "      <td>4.40310</td>\n",
       "      <td>1.39644</td>\n",
       "      <td>76</td>\n",
       "    </tr>\n",
       "    <tr>\n",
       "      <th>5762968</th>\n",
       "      <td>2008-04-21</td>\n",
       "      <td>5.20</td>\n",
       "      <td>1991-04-27</td>\n",
       "      <td>0.0</td>\n",
       "      <td>20.0</td>\n",
       "      <td>69.100000</td>\n",
       "      <td>52.0</td>\n",
       "      <td>87.0</td>\n",
       "      <td>2012-02-21 00:00:00</td>\n",
       "      <td>33.333450</td>\n",
       "      <td>0.069100</td>\n",
       "      <td>6.164768</td>\n",
       "      <td>2250 days 03:22:07.712428800</td>\n",
       "      <td>2014-06-19 03:22:07.712428800</td>\n",
       "      <td>2250 days 03:22:07.712428800</td>\n",
       "      <td>1</td>\n",
       "      <td>0.98223</td>\n",
       "      <td>1.34472</td>\n",
       "      <td>76</td>\n",
       "    </tr>\n",
       "    <tr>\n",
       "      <th>5287165</th>\n",
       "      <td>2009-04-22</td>\n",
       "      <td>5.10</td>\n",
       "      <td>1939-01-23</td>\n",
       "      <td>1.0</td>\n",
       "      <td>22.0</td>\n",
       "      <td>90.000000</td>\n",
       "      <td>57.0</td>\n",
       "      <td>85.0</td>\n",
       "      <td>2010-05-04 00:00:00</td>\n",
       "      <td>32.240550</td>\n",
       "      <td>0.090000</td>\n",
       "      <td>7.284051</td>\n",
       "      <td>2658 days 16:16:57.046656</td>\n",
       "      <td>2016-08-01 16:16:57.046656000</td>\n",
       "      <td>2658 days 16:16:57.046656</td>\n",
       "      <td>1</td>\n",
       "      <td>0.95965</td>\n",
       "      <td>1.47402</td>\n",
       "      <td>77</td>\n",
       "    </tr>\n",
       "    <tr>\n",
       "      <th>1525482</th>\n",
       "      <td>2011-07-03</td>\n",
       "      <td>5.30</td>\n",
       "      <td>1947-05-27</td>\n",
       "      <td>0.0</td>\n",
       "      <td>89.0</td>\n",
       "      <td>58.000000</td>\n",
       "      <td>59.0</td>\n",
       "      <td>78.0</td>\n",
       "      <td>2017-04-07 00:00:00</td>\n",
       "      <td>34.426350</td>\n",
       "      <td>0.058000</td>\n",
       "      <td>9.783042</td>\n",
       "      <td>3570 days 19:26:52.195862400</td>\n",
       "      <td>2019-12-31 00:00:00.000000000</td>\n",
       "      <td>3103 days 00:00:00</td>\n",
       "      <td>1</td>\n",
       "      <td>0.88062</td>\n",
       "      <td>1.52574</td>\n",
       "      <td>77</td>\n",
       "    </tr>\n",
       "    <tr>\n",
       "      <th>7892542</th>\n",
       "      <td>2011-10-25</td>\n",
       "      <td>4.90</td>\n",
       "      <td>1976-03-30</td>\n",
       "      <td>0.0</td>\n",
       "      <td>53.0</td>\n",
       "      <td>171.000000</td>\n",
       "      <td>61.0</td>\n",
       "      <td>270.0</td>\n",
       "      <td>2013-01-31 00:00:00</td>\n",
       "      <td>30.054750</td>\n",
       "      <td>0.171000</td>\n",
       "      <td>8.241673</td>\n",
       "      <td>3008 days 05:03:04.698806400</td>\n",
       "      <td>2019-12-31 00:00:00.000000000</td>\n",
       "      <td>2989 days 00:00:00</td>\n",
       "      <td>1</td>\n",
       "      <td>3.04830</td>\n",
       "      <td>1.57746</td>\n",
       "      <td>77</td>\n",
       "    </tr>\n",
       "    <tr>\n",
       "      <th>3834084</th>\n",
       "      <td>2006-06-19</td>\n",
       "      <td>5.00</td>\n",
       "      <td>1953-06-12</td>\n",
       "      <td>0.0</td>\n",
       "      <td>24.0</td>\n",
       "      <td>442.100006</td>\n",
       "      <td>70.0</td>\n",
       "      <td>82.0</td>\n",
       "      <td>2007-03-26 00:00:00</td>\n",
       "      <td>31.147650</td>\n",
       "      <td>0.442100</td>\n",
       "      <td>12.180933</td>\n",
       "      <td>4446 days 00:58:21.795974400</td>\n",
       "      <td>2018-08-21 00:58:21.795974400</td>\n",
       "      <td>4446 days 00:58:21.795974400</td>\n",
       "      <td>1</td>\n",
       "      <td>0.92578</td>\n",
       "      <td>1.81020</td>\n",
       "      <td>78</td>\n",
       "    </tr>\n",
       "    <tr>\n",
       "      <th>5551139</th>\n",
       "      <td>2009-04-23</td>\n",
       "      <td>5.70</td>\n",
       "      <td>1983-07-19</td>\n",
       "      <td>0.0</td>\n",
       "      <td>11.0</td>\n",
       "      <td>17.000000</td>\n",
       "      <td>70.0</td>\n",
       "      <td>63.0</td>\n",
       "      <td>2013-11-16 00:00:00</td>\n",
       "      <td>38.797950</td>\n",
       "      <td>0.017000</td>\n",
       "      <td>7.994617</td>\n",
       "      <td>2918 days 00:50:40.911417600</td>\n",
       "      <td>2017-04-19 00:50:40.911417600</td>\n",
       "      <td>2918 days 00:50:40.911417600</td>\n",
       "      <td>1</td>\n",
       "      <td>0.71127</td>\n",
       "      <td>1.81020</td>\n",
       "      <td>78</td>\n",
       "    </tr>\n",
       "    <tr>\n",
       "      <th>1047243</th>\n",
       "      <td>2006-08-29</td>\n",
       "      <td>4.60</td>\n",
       "      <td>1962-07-09</td>\n",
       "      <td>0.0</td>\n",
       "      <td>17.0</td>\n",
       "      <td>79.500000</td>\n",
       "      <td>38.0</td>\n",
       "      <td>158.0</td>\n",
       "      <td>2015-04-19 00:00:00</td>\n",
       "      <td>26.776049</td>\n",
       "      <td>0.079500</td>\n",
       "      <td>11.624277</td>\n",
       "      <td>4242 days 20:40:06.424608</td>\n",
       "      <td>2018-04-10 20:40:06.424608000</td>\n",
       "      <td>4242 days 20:40:06.424608</td>\n",
       "      <td>1</td>\n",
       "      <td>1.78382</td>\n",
       "      <td>0.98268</td>\n",
       "      <td>78</td>\n",
       "    </tr>\n",
       "  </tbody>\n",
       "</table>\n",
       "</div>"
      ],
      "text/plain": [
       "        first_visit  HbA1c% datetime_leida  is_male    GGT  \\\n",
       "pid                                                          \n",
       "957430   2008-11-16    4.20     1934-09-21      0.0   10.0   \n",
       "2647309  2011-03-10    4.80     1978-07-14      0.0   12.0   \n",
       "4427284  2008-11-04    4.40     1962-12-31      0.0   12.0   \n",
       "3115314  2010-07-20    4.70     1986-04-14      0.0    5.0   \n",
       "8666904  2010-07-14    5.30     1935-11-29      0.0   13.0   \n",
       "4606911  2006-10-05    4.70     1965-06-27      0.0   13.0   \n",
       "3487415  2008-05-26    4.80     1912-01-15      0.0   36.0   \n",
       "1937754  2010-03-08    4.60     1970-03-17      0.0   14.0   \n",
       "4303270  2008-01-03    4.90     1960-09-22      0.0   18.0   \n",
       "67278    2007-02-01    5.10     1932-02-26      0.0   14.0   \n",
       "3920361  2006-09-06    4.80     1954-01-30      0.0  123.0   \n",
       "1351633  2007-10-16    4.80     1940-02-19      0.0   40.0   \n",
       "5876404  2011-06-29    5.30     1993-08-07      0.0    9.0   \n",
       "9211665  2008-04-30    4.90     1950-11-25      0.0   74.0   \n",
       "4643222  2011-05-18    3.40     1967-08-11      1.0   15.0   \n",
       "1064101  2010-08-17    4.60     1936-02-26      0.0   29.0   \n",
       "7888489  2006-01-26    5.30     1966-11-23      0.0   10.0   \n",
       "5110727  2011-12-15    5.20     1958-05-20      0.0   25.0   \n",
       "301204   2010-03-11    5.50     1935-06-19      0.0   15.0   \n",
       "8592118  2009-01-20    5.50     1951-08-20      0.0   22.0   \n",
       "8410601  2011-12-28    3.50     1983-11-21      0.0   15.0   \n",
       "2881598  2009-10-13    4.90     1937-07-27      1.0  127.0   \n",
       "7691140  2008-05-22    5.20     1958-02-11      0.0   39.0   \n",
       "4236337  2006-09-13    5.50     1960-04-01      0.0   12.0   \n",
       "1245113  2010-11-08    5.30     1948-07-13      1.0   24.0   \n",
       "5438362  2007-12-30    5.50     1950-07-05      0.0   17.0   \n",
       "537062   2009-08-17    5.09     1944-01-07      0.0   18.0   \n",
       "1208531  2011-12-08    5.50     1925-12-22      0.0   16.0   \n",
       "4017756  2008-01-02    5.60     1955-06-13      0.0   20.0   \n",
       "296839   2006-11-13    4.90     1943-09-13      1.0   49.0   \n",
       "5276144  2007-11-12    5.20     1930-02-05      1.0   32.0   \n",
       "6253975  2011-11-22    5.50     1999-01-25      0.0   12.0   \n",
       "4744037  2006-02-16    5.10     1949-06-10      0.0   25.0   \n",
       "3689846  2006-01-08    5.64     1924-01-29      0.0   11.0   \n",
       "591449   2011-06-30    5.50     1934-05-05      0.0   13.0   \n",
       "3400773  2011-06-22    5.50     1922-05-27      0.0    8.0   \n",
       "3413825  2006-07-30    5.00     1942-02-28      0.0   24.0   \n",
       "5178000  2007-01-25    4.80     1957-02-17      0.0   21.0   \n",
       "813015   2009-02-23    4.90     1947-02-13      1.0   23.0   \n",
       "3441736  2006-02-28    5.50     1925-04-29      0.0   19.0   \n",
       "8880895  2009-01-28    4.30     1936-05-04      0.0   65.0   \n",
       "5227386  2006-02-15    5.36     1945-09-07      1.0   23.0   \n",
       "2584019  2010-05-10    4.80     1975-06-17      0.0   30.0   \n",
       "5762968  2008-04-21    5.20     1991-04-27      0.0   20.0   \n",
       "5287165  2009-04-22    5.10     1939-01-23      1.0   22.0   \n",
       "1525482  2011-07-03    5.30     1947-05-27      0.0   89.0   \n",
       "7892542  2011-10-25    4.90     1976-03-30      0.0   53.0   \n",
       "3834084  2006-06-19    5.00     1953-06-12      0.0   24.0   \n",
       "5551139  2009-04-23    5.70     1983-07-19      0.0   11.0   \n",
       "1047243  2006-08-29    4.60     1962-07-09      0.0   17.0   \n",
       "\n",
       "         Reticulocyte Count   HDL  Triglycerides        diabetes_date  \\\n",
       "pid                                                                     \n",
       "957430            24.000000  39.0          220.0  2009-11-11 00:00:00   \n",
       "2647309           63.000000  55.0           56.0  2013-12-29 00:00:00   \n",
       "4427284           86.700000  54.0           51.0  2012-01-30 00:00:00   \n",
       "3115314          116.000000  85.0          198.0  2013-12-05 00:00:00   \n",
       "8666904           66.000000  77.0           66.0  2011-09-18 00:00:00   \n",
       "4606911            0.091700  39.0          146.0  2007-02-09 00:00:00   \n",
       "3487415           27.000000  81.0          106.0  2010-07-09 00:00:00   \n",
       "1937754           65.300000  30.0          163.0  2013-01-08 00:00:00   \n",
       "4303270           89.000000  60.0          208.0  2011-08-17 00:00:00   \n",
       "67278             90.000000  85.0           89.0  2009-03-26 00:00:00   \n",
       "3920361            0.056000  43.0          312.0  2009-05-28 00:00:00   \n",
       "1351633           42.400000  38.0           77.0  2009-03-08 00:00:00   \n",
       "5876404           66.000000  55.0           70.0  2012-01-27 00:00:00   \n",
       "9211665           54.000000  47.0           74.0  2008-08-13 00:00:00   \n",
       "4643222           51.000000  32.0          450.0  2014-09-22 00:00:00   \n",
       "1064101            0.168000  19.0           73.0  2012-04-10 00:00:00   \n",
       "7888489           48.000000  53.0          104.0  2007-12-10 00:00:00   \n",
       "5110727           14.000000  57.0          123.0  2013-07-11 00:00:00   \n",
       "301204            48.600000  73.0           81.0  2012-07-10 00:00:00   \n",
       "8592118           16.800000  78.0           81.0  2014-02-26 00:00:00   \n",
       "8410601          108.000000  49.0          112.0  2014-07-17 00:00:00   \n",
       "2881598           29.000000  50.0           54.0  2010-09-06 00:00:00   \n",
       "7691140            0.092000  58.0           59.0  2008-09-03 00:00:00   \n",
       "4236337           34.000000  55.0          141.0  2012-02-20 00:00:00   \n",
       "1245113           48.000000  51.0          122.0  2012-02-02 00:00:00   \n",
       "5438362           38.200000  62.0           76.0  2008-06-10 00:00:00   \n",
       "537062            82.000000  68.0          120.0  2015-01-13 00:00:00   \n",
       "1208531           43.000000  67.0           75.0  2013-11-19 00:00:00   \n",
       "4017756           43.800000  68.0           76.0  2008-09-02 00:00:00   \n",
       "296839             0.154000  33.0           95.0  2007-10-21 00:00:00   \n",
       "5276144           33.700000  50.0           63.0  2012-02-21 00:00:00   \n",
       "6253975            0.037000  39.0           72.0  2015-03-15 00:00:00   \n",
       "4744037          119.000000  55.0           76.0  2009-08-26 00:00:00   \n",
       "3689846           34.000000  42.0          131.0  2007-01-24 00:00:00   \n",
       "591449            73.000000  67.0          131.0  2014-02-05 00:00:00   \n",
       "3400773           46.000000  45.0          112.0  2015-01-19 00:00:00   \n",
       "3413825           66.199997  48.0          152.0  2012-03-07 00:00:00   \n",
       "5178000          100.000000  38.0          208.0  2010-09-05 00:00:00   \n",
       "813015           120.000000  46.0          153.0  2010-04-11 00:00:00   \n",
       "3441736           67.000000  80.0           85.0  2009-12-15 00:00:00   \n",
       "8880895           91.000000  53.0          110.0  2009-07-30 00:00:00   \n",
       "5227386           48.500000  58.0          113.0  2008-01-04 00:00:00   \n",
       "2584019           80.400000  54.0          390.0  2015-04-09 00:00:00   \n",
       "5762968           69.100000  52.0           87.0  2012-02-21 00:00:00   \n",
       "5287165           90.000000  57.0           85.0  2010-05-04 00:00:00   \n",
       "1525482           58.000000  59.0           78.0  2017-04-07 00:00:00   \n",
       "7892542          171.000000  61.0          270.0  2013-01-31 00:00:00   \n",
       "3834084          442.100006  70.0           82.0  2007-03-26 00:00:00   \n",
       "5551139           17.000000  70.0           63.0  2013-11-16 00:00:00   \n",
       "1047243           79.500000  38.0          158.0  2015-04-19 00:00:00   \n",
       "\n",
       "         UKB_HbA1c  UKB_reticulocyte_count   dt_years  \\\n",
       "pid                                                     \n",
       "957430   22.404450                0.024000   4.073497   \n",
       "2647309  28.961850                0.063000   7.380332   \n",
       "4427284  24.590250                0.086700   4.414413   \n",
       "3115314  27.868950                0.116000   7.543653   \n",
       "8666904  34.426350                0.066000   8.131303   \n",
       "4606911  27.868948                0.000092   7.818746   \n",
       "3487415  28.961850                0.027000  10.741669   \n",
       "1937754  26.776050                0.065300   2.962755   \n",
       "4303270  30.054750                0.089000   4.172327   \n",
       "67278    32.240549                0.090000   9.713197   \n",
       "3920361  28.961852                0.000056   4.894625   \n",
       "1351633  28.961850                0.042400   4.407156   \n",
       "5876404  34.426350                0.066000   5.625516   \n",
       "9211665  30.054750                0.054000   4.630991   \n",
       "4643222  13.661250                0.051000   3.692977   \n",
       "1064101  26.776050                0.000168   8.814027   \n",
       "7888489  34.426352                0.048000   7.159718   \n",
       "5110727  33.333450                0.014000   9.810969   \n",
       "301204   36.612150                0.048600   4.460282   \n",
       "8592118  36.612150                0.016800   8.448064   \n",
       "8410601  14.754150                0.108000   5.863176   \n",
       "2881598  30.054750                0.029000   9.254034   \n",
       "7691140  33.333450                0.000092   7.080140   \n",
       "4236337  36.612150                0.034000   6.055629   \n",
       "1245113  34.426350                0.048000   2.755707   \n",
       "5438362  36.612150                0.038200   6.839917   \n",
       "537062   32.131260                0.082000   7.403425   \n",
       "1208531  36.612150                0.043000   9.827091   \n",
       "4017756  37.705050                0.043800   2.531755   \n",
       "296839   30.054751                0.000154   6.925212   \n",
       "5276144  33.333450                0.033700   6.775823   \n",
       "6253975  36.612150                0.000037   7.311900   \n",
       "4744037  32.240549                0.119000   7.759299   \n",
       "3689846  38.142209                0.034000   2.379281   \n",
       "591449   36.612150                0.073000   5.093894   \n",
       "3400773  36.612150                0.046000   6.963779   \n",
       "3413825  31.147650                0.066200   7.836413   \n",
       "5178000  28.961852                0.100000   5.929061   \n",
       "813015   30.054750                0.120000   8.951021   \n",
       "3441736  36.612150                0.067000   9.073447   \n",
       "8880895  23.497350                0.091000   5.201650   \n",
       "5227386  35.082091                0.048500   5.499638   \n",
       "2584019  28.961850                0.080400  10.297716   \n",
       "5762968  33.333450                0.069100   6.164768   \n",
       "5287165  32.240550                0.090000   7.284051   \n",
       "1525482  34.426350                0.058000   9.783042   \n",
       "7892542  30.054750                0.171000   8.241673   \n",
       "3834084  31.147650                0.442100  12.180933   \n",
       "5551139  38.797950                0.017000   7.994617   \n",
       "1047243  26.776049                0.079500  11.624277   \n",
       "\n",
       "                             dt_days                    check_date  \\\n",
       "pid                                                                  \n",
       "957430  1486 days 19:50:02.443315200 2012-12-11 19:50:02.443315200   \n",
       "2647309 2693 days 19:42:27.788198400 2018-07-24 19:42:27.788198400   \n",
       "4427284    1611 days 06:15:29.864880 2013-04-03 06:15:29.864880000   \n",
       "3115314 2753 days 10:23:50.451043200 2018-02-01 10:23:50.451043200   \n",
       "8666904 2967 days 22:12:55.560211200 2018-08-28 22:12:55.560211200   \n",
       "4606911 2853 days 20:13:04.308931200 2014-07-28 20:13:04.308931200   \n",
       "3487415 3920 days 17:01:27.721718400 2019-02-18 17:01:27.721718400   \n",
       "1937754 1081 days 09:44:10.032115200 2013-02-21 09:44:10.032115200   \n",
       "4303270 1522 days 21:34:50.807078400 2012-03-04 21:34:50.807078400   \n",
       "67278   3545 days 07:36:12.232540800 2016-10-16 07:36:12.232540800   \n",
       "3920361 1786 days 12:54:45.724953600 2011-07-28 12:54:45.724953600   \n",
       "1351633 1608 days 14:41:16.622275200 2012-03-11 14:41:16.622275200   \n",
       "5876404 2053 days 07:31:04.314345600 2017-02-10 07:31:04.314345600   \n",
       "9211665 1690 days 07:29:00.658406400 2012-12-15 07:29:00.658406400   \n",
       "4643222 1347 days 22:28:27.506467200 2015-01-24 22:28:27.506467200   \n",
       "1064101    3217 days 02:52:39.958752 2019-06-08 02:52:39.958752000   \n",
       "7888489    2613 days 07:07:55.778304 2013-03-23 07:07:55.778304000   \n",
       "5110727 3581 days 00:05:16.986739200 2019-12-31 00:00:00.000000000   \n",
       "301204  1628 days 00:04:23.073484800 2014-08-25 00:04:23.073484800   \n",
       "8592118 3083 days 13:02:36.681676800 2017-06-30 13:02:36.681676800   \n",
       "8410601 2140 days 01:25:32.127427200 2017-11-06 01:25:32.127427200   \n",
       "2881598    3377 days 17:20:02.957712 2019-01-11 17:20:02.957712000   \n",
       "7691140    2584 days 06:01:42.457008 2015-06-19 06:01:42.457008000   \n",
       "4236337 2210 days 07:18:28.672646400 2012-10-01 07:18:28.672646400   \n",
       "1245113    1005 days 19:59:28.596768 2013-08-09 19:59:28.596768000   \n",
       "5438362 2496 days 13:40:17.167987200 2014-10-30 13:40:17.167987200   \n",
       "537062  2702 days 06:00:18.378230399 2017-01-09 06:00:18.378230399   \n",
       "1208531 3586 days 21:18:56.852150400 2019-12-31 00:00:00.000000000   \n",
       "4017756  924 days 02:10:24.776342400 2010-07-14 02:10:24.776342400   \n",
       "296839  2527 days 16:51:19.552204800 2013-10-14 16:51:19.552204800   \n",
       "5276144 2473 days 04:12:18.691084800 2014-08-20 04:12:18.691084800   \n",
       "6253975    2668 days 20:14:27.042720 2019-03-13 20:14:27.042720000   \n",
       "4744037 2832 days 03:27:46.300377600 2013-11-18 03:27:46.300377600   \n",
       "3689846  868 days 10:29:53.051539200 2008-05-25 10:29:53.051539200   \n",
       "591449  1859 days 06:30:37.534377600 2016-08-01 06:30:37.534377600   \n",
       "3400773 2541 days 18:42:01.963123200 2018-06-06 18:42:01.963123200   \n",
       "3413825 2860 days 06:58:35.641833600 2014-05-29 06:58:35.641833600   \n",
       "5178000    2164 days 02:34:14.005056 2012-12-28 02:34:14.005056000   \n",
       "813015  3267 days 02:56:39.187564800 2018-02-03 02:56:39.187564800   \n",
       "3441736 3311 days 19:23:52.483689600 2015-03-24 19:23:52.483689600   \n",
       "8880895 1898 days 14:27:12.187468800 2014-04-10 14:27:12.187468800   \n",
       "5227386 2007 days 08:49:37.746163200 2011-08-15 08:49:37.746163200   \n",
       "2584019 3758 days 15:59:25.080691200 2019-12-31 00:00:00.000000000   \n",
       "5762968 2250 days 03:22:07.712428800 2014-06-19 03:22:07.712428800   \n",
       "5287165    2658 days 16:16:57.046656 2016-08-01 16:16:57.046656000   \n",
       "1525482 3570 days 19:26:52.195862400 2019-12-31 00:00:00.000000000   \n",
       "7892542 3008 days 05:03:04.698806400 2019-12-31 00:00:00.000000000   \n",
       "3834084 4446 days 00:58:21.795974400 2018-08-21 00:58:21.795974400   \n",
       "5551139 2918 days 00:50:40.911417600 2017-04-19 00:50:40.911417600   \n",
       "1047243    4242 days 20:40:06.424608 2018-04-10 20:40:06.424608000   \n",
       "\n",
       "                            final_dt  Y  UKB_Triglycerides  UKB_HDL  score  \n",
       "pid                                                                         \n",
       "957430  1486 days 19:50:02.443315200  1            2.48380  1.00854     36  \n",
       "2647309 2693 days 19:42:27.788198400  1            0.63224  1.42230     39  \n",
       "4427284    1611 days 06:15:29.864880  1            0.57579  1.39644     40  \n",
       "3115314 2753 days 10:23:50.451043200  1            2.23542  2.19810     40  \n",
       "8666904 2967 days 22:12:55.560211200  1            0.74514  1.99122     44  \n",
       "4606911 2853 days 20:13:04.308931200  1            1.64834  1.00854     44  \n",
       "3487415 3920 days 17:01:27.721718400  1            1.19674  2.09466     44  \n",
       "1937754 1081 days 09:44:10.032115200  1            1.84027  0.77580     48  \n",
       "4303270 1522 days 21:34:50.807078400  1            2.34832  1.55160     48  \n",
       "67278   3545 days 07:36:12.232540800  1            1.00481  2.19810     52  \n",
       "3920361 1786 days 12:54:45.724953600  1            3.52248  1.11198     52  \n",
       "1351633 1608 days 14:41:16.622275200  1            0.86933  0.98268     54  \n",
       "5876404 2053 days 07:31:04.314345600  1            0.79030  1.42230     54  \n",
       "9211665 1690 days 07:29:00.658406400  1            0.83546  1.21542     54  \n",
       "4643222 1347 days 22:28:27.506467200  1            5.08050  0.82752     54  \n",
       "1064101    3217 days 02:52:39.958752  1            0.82417  0.49134     55  \n",
       "7888489    2613 days 07:07:55.778304  1            1.17416  1.37058     57  \n",
       "5110727           2938 days 00:00:00  1            1.38867  1.47402     58  \n",
       "301204  1628 days 00:04:23.073484800  1            0.91449  1.88778     58  \n",
       "8592118 3083 days 13:02:36.681676800  1            0.91449  2.01708     59  \n",
       "8410601 2140 days 01:25:32.127427200  1            1.26448  1.26714     60  \n",
       "2881598    3377 days 17:20:02.957712  1            0.60966  1.29300     63  \n",
       "7691140    2584 days 06:01:42.457008  1            0.66611  1.49988     63  \n",
       "4236337 2210 days 07:18:28.672646400  1            1.59189  1.42230     63  \n",
       "1245113    1005 days 19:59:28.596768  1            1.37738  1.31886     63  \n",
       "5438362 2496 days 13:40:17.167987200  1            0.85804  1.60332     64  \n",
       "537062  2702 days 06:00:18.378230399  1            1.35480  1.75848     64  \n",
       "1208531           2945 days 00:00:00  1            0.84675  1.73262     65  \n",
       "4017756  924 days 02:10:24.776342400  1            0.85804  1.75848     66  \n",
       "296839  2527 days 16:51:19.552204800  1            1.07255  0.85338     67  \n",
       "5276144 2473 days 04:12:18.691084800  1            0.71127  1.29300     70  \n",
       "6253975    2668 days 20:14:27.042720  1            0.81288  1.00854     70  \n",
       "4744037 2832 days 03:27:46.300377600  1            0.85804  1.42230     70  \n",
       "3689846  868 days 10:29:53.051539200  1            1.47899  1.08612     72  \n",
       "591449  1859 days 06:30:37.534377600  1            1.47899  1.73262     72  \n",
       "3400773 2541 days 18:42:01.963123200  1            1.26448  1.16370     73  \n",
       "3413825 2860 days 06:58:35.641833600  1            1.71608  1.24128     73  \n",
       "5178000    2164 days 02:34:14.005056  1            2.34832  0.98268     75  \n",
       "813015  3267 days 02:56:39.187564800  1            1.72737  1.18956     75  \n",
       "3441736 3311 days 19:23:52.483689600  1            0.95965  2.06880     76  \n",
       "8880895 1898 days 14:27:12.187468800  1            1.24190  1.37058     76  \n",
       "5227386 2007 days 08:49:37.746163200  1            1.27577  1.49988     76  \n",
       "2584019           3522 days 00:00:00  1            4.40310  1.39644     76  \n",
       "5762968 2250 days 03:22:07.712428800  1            0.98223  1.34472     76  \n",
       "5287165    2658 days 16:16:57.046656  1            0.95965  1.47402     77  \n",
       "1525482           3103 days 00:00:00  1            0.88062  1.52574     77  \n",
       "7892542           2989 days 00:00:00  1            3.04830  1.57746     77  \n",
       "3834084 4446 days 00:58:21.795974400  1            0.92578  1.81020     78  \n",
       "5551139 2918 days 00:50:40.911417600  1            0.71127  1.81020     78  \n",
       "1047243    4242 days 20:40:06.424608  1            1.78382  0.98268     78  "
      ]
     },
     "execution_count": 78,
     "metadata": {},
     "output_type": "execute_result"
    }
   ],
   "source": [
    "final_df.loc[final_df[\"Y\"]==1,:].head(50)"
   ]
  },
  {
   "cell_type": "code",
   "execution_count": 80,
   "metadata": {
    "ExecuteTime": {
     "end_time": "2021-11-09T17:25:39.280264Z",
     "start_time": "2021-11-09T17:25:39.211647Z"
    }
   },
   "outputs": [
    {
     "data": {
      "text/html": [
       "<div>\n",
       "<style scoped>\n",
       "    .dataframe tbody tr th:only-of-type {\n",
       "        vertical-align: middle;\n",
       "    }\n",
       "\n",
       "    .dataframe tbody tr th {\n",
       "        vertical-align: top;\n",
       "    }\n",
       "\n",
       "    .dataframe thead th {\n",
       "        text-align: right;\n",
       "    }\n",
       "</style>\n",
       "<table border=\"1\" class=\"dataframe\">\n",
       "  <thead>\n",
       "    <tr style=\"text-align: right;\">\n",
       "      <th></th>\n",
       "      <th>first_visit</th>\n",
       "      <th>HbA1c%</th>\n",
       "      <th>datetime_leida</th>\n",
       "      <th>is_male</th>\n",
       "      <th>GGT</th>\n",
       "      <th>Reticulocyte Count</th>\n",
       "      <th>HDL</th>\n",
       "      <th>Triglycerides</th>\n",
       "      <th>diabetes_date</th>\n",
       "      <th>UKB_HbA1c</th>\n",
       "      <th>UKB_reticulocyte_count</th>\n",
       "      <th>dt_years</th>\n",
       "      <th>dt_days</th>\n",
       "      <th>check_date</th>\n",
       "      <th>final_dt</th>\n",
       "      <th>Y</th>\n",
       "      <th>UKB_Triglycerides</th>\n",
       "      <th>UKB_HDL</th>\n",
       "      <th>score</th>\n",
       "    </tr>\n",
       "    <tr>\n",
       "      <th>pid</th>\n",
       "      <th></th>\n",
       "      <th></th>\n",
       "      <th></th>\n",
       "      <th></th>\n",
       "      <th></th>\n",
       "      <th></th>\n",
       "      <th></th>\n",
       "      <th></th>\n",
       "      <th></th>\n",
       "      <th></th>\n",
       "      <th></th>\n",
       "      <th></th>\n",
       "      <th></th>\n",
       "      <th></th>\n",
       "      <th></th>\n",
       "      <th></th>\n",
       "      <th></th>\n",
       "      <th></th>\n",
       "      <th></th>\n",
       "    </tr>\n",
       "  </thead>\n",
       "  <tbody>\n",
       "    <tr>\n",
       "      <th>4141416</th>\n",
       "      <td>2009-03-16</td>\n",
       "      <td>6.1</td>\n",
       "      <td>1957-05-24</td>\n",
       "      <td>1.0</td>\n",
       "      <td>73.0</td>\n",
       "      <td>85.3</td>\n",
       "      <td>25.0</td>\n",
       "      <td>168.0</td>\n",
       "      <td>NaN</td>\n",
       "      <td>43.16955</td>\n",
       "      <td>0.0853</td>\n",
       "      <td>6.021741</td>\n",
       "      <td>2197 days 22:26:55.201027200</td>\n",
       "      <td>2015-03-22 22:26:55.201027200</td>\n",
       "      <td>2197 days 22:26:55.201027200</td>\n",
       "      <td>0</td>\n",
       "      <td>1.89672</td>\n",
       "      <td>0.64650</td>\n",
       "      <td>153</td>\n",
       "    </tr>\n",
       "    <tr>\n",
       "      <th>1406884</th>\n",
       "      <td>2009-12-24</td>\n",
       "      <td>6.0</td>\n",
       "      <td>1937-03-27</td>\n",
       "      <td>1.0</td>\n",
       "      <td>85.0</td>\n",
       "      <td>125.0</td>\n",
       "      <td>39.0</td>\n",
       "      <td>240.0</td>\n",
       "      <td>NaN</td>\n",
       "      <td>42.07665</td>\n",
       "      <td>0.1250</td>\n",
       "      <td>6.952319</td>\n",
       "      <td>2537 days 14:18:55.734969600</td>\n",
       "      <td>2016-12-04 14:18:55.734969600</td>\n",
       "      <td>2537 days 14:18:55.734969600</td>\n",
       "      <td>0</td>\n",
       "      <td>2.70960</td>\n",
       "      <td>1.00854</td>\n",
       "      <td>155</td>\n",
       "    </tr>\n",
       "    <tr>\n",
       "      <th>2352369</th>\n",
       "      <td>2010-08-27</td>\n",
       "      <td>6.0</td>\n",
       "      <td>1972-01-21</td>\n",
       "      <td>1.0</td>\n",
       "      <td>66.0</td>\n",
       "      <td>264.2</td>\n",
       "      <td>34.0</td>\n",
       "      <td>120.0</td>\n",
       "      <td>NaN</td>\n",
       "      <td>42.07665</td>\n",
       "      <td>0.2642</td>\n",
       "      <td>10.091947</td>\n",
       "      <td>3683 days 13:27:11.395929600</td>\n",
       "      <td>2019-12-31 00:00:00.000000000</td>\n",
       "      <td>3413 days 00:00:00</td>\n",
       "      <td>0</td>\n",
       "      <td>1.35480</td>\n",
       "      <td>0.87924</td>\n",
       "      <td>155</td>\n",
       "    </tr>\n",
       "    <tr>\n",
       "      <th>326477</th>\n",
       "      <td>2011-10-09</td>\n",
       "      <td>5.8</td>\n",
       "      <td>1938-12-21</td>\n",
       "      <td>1.0</td>\n",
       "      <td>59.0</td>\n",
       "      <td>81.5</td>\n",
       "      <td>25.0</td>\n",
       "      <td>219.0</td>\n",
       "      <td>NaN</td>\n",
       "      <td>39.89085</td>\n",
       "      <td>0.0815</td>\n",
       "      <td>7.515422</td>\n",
       "      <td>2743 days 03:05:35.572329600</td>\n",
       "      <td>2019-04-13 03:05:35.572329600</td>\n",
       "      <td>2743 days 03:05:35.572329600</td>\n",
       "      <td>0</td>\n",
       "      <td>2.47251</td>\n",
       "      <td>0.64650</td>\n",
       "      <td>155</td>\n",
       "    </tr>\n",
       "    <tr>\n",
       "      <th>350042</th>\n",
       "      <td>2007-05-24</td>\n",
       "      <td>5.7</td>\n",
       "      <td>1947-06-12</td>\n",
       "      <td>1.0</td>\n",
       "      <td>148.0</td>\n",
       "      <td>118.0</td>\n",
       "      <td>36.0</td>\n",
       "      <td>91.0</td>\n",
       "      <td>NaN</td>\n",
       "      <td>38.79795</td>\n",
       "      <td>0.1180</td>\n",
       "      <td>10.407857</td>\n",
       "      <td>3798 days 20:49:52.256524800</td>\n",
       "      <td>2017-10-16 20:49:52.256524800</td>\n",
       "      <td>3798 days 20:49:52.256524800</td>\n",
       "      <td>0</td>\n",
       "      <td>1.02739</td>\n",
       "      <td>0.93096</td>\n",
       "      <td>159</td>\n",
       "    </tr>\n",
       "  </tbody>\n",
       "</table>\n",
       "</div>"
      ],
      "text/plain": [
       "        first_visit  HbA1c% datetime_leida  is_male    GGT  \\\n",
       "pid                                                          \n",
       "4141416  2009-03-16     6.1     1957-05-24      1.0   73.0   \n",
       "1406884  2009-12-24     6.0     1937-03-27      1.0   85.0   \n",
       "2352369  2010-08-27     6.0     1972-01-21      1.0   66.0   \n",
       "326477   2011-10-09     5.8     1938-12-21      1.0   59.0   \n",
       "350042   2007-05-24     5.7     1947-06-12      1.0  148.0   \n",
       "\n",
       "         Reticulocyte Count   HDL  Triglycerides diabetes_date  UKB_HbA1c  \\\n",
       "pid                                                                         \n",
       "4141416                85.3  25.0          168.0           NaN   43.16955   \n",
       "1406884               125.0  39.0          240.0           NaN   42.07665   \n",
       "2352369               264.2  34.0          120.0           NaN   42.07665   \n",
       "326477                 81.5  25.0          219.0           NaN   39.89085   \n",
       "350042                118.0  36.0           91.0           NaN   38.79795   \n",
       "\n",
       "         UKB_reticulocyte_count   dt_years                      dt_days  \\\n",
       "pid                                                                       \n",
       "4141416                  0.0853   6.021741 2197 days 22:26:55.201027200   \n",
       "1406884                  0.1250   6.952319 2537 days 14:18:55.734969600   \n",
       "2352369                  0.2642  10.091947 3683 days 13:27:11.395929600   \n",
       "326477                   0.0815   7.515422 2743 days 03:05:35.572329600   \n",
       "350042                   0.1180  10.407857 3798 days 20:49:52.256524800   \n",
       "\n",
       "                           check_date                     final_dt  Y  \\\n",
       "pid                                                                     \n",
       "4141416 2015-03-22 22:26:55.201027200 2197 days 22:26:55.201027200  0   \n",
       "1406884 2016-12-04 14:18:55.734969600 2537 days 14:18:55.734969600  0   \n",
       "2352369 2019-12-31 00:00:00.000000000           3413 days 00:00:00  0   \n",
       "326477  2019-04-13 03:05:35.572329600 2743 days 03:05:35.572329600  0   \n",
       "350042  2017-10-16 20:49:52.256524800 3798 days 20:49:52.256524800  0   \n",
       "\n",
       "         UKB_Triglycerides  UKB_HDL  score  \n",
       "pid                                         \n",
       "4141416            1.89672  0.64650    153  \n",
       "1406884            2.70960  1.00854    155  \n",
       "2352369            1.35480  0.87924    155  \n",
       "326477             2.47251  0.64650    155  \n",
       "350042             1.02739  0.93096    159  "
      ]
     },
     "execution_count": 80,
     "metadata": {},
     "output_type": "execute_result"
    }
   ],
   "source": [
    "final_df.loc[final_df[\"Y\"]==0,:].tail(5)"
   ]
  },
  {
   "cell_type": "code",
   "execution_count": null,
   "metadata": {},
   "outputs": [],
   "source": []
  }
 ],
 "metadata": {
  "kernelspec": {
   "display_name": "Python 3",
   "language": "python",
   "name": "python3"
  },
  "language_info": {
   "codemirror_mode": {
    "name": "ipython",
    "version": 3
   },
   "file_extension": ".py",
   "mimetype": "text/x-python",
   "name": "python",
   "nbconvert_exporter": "python",
   "pygments_lexer": "ipython3",
   "version": "3.7.4"
  },
  "toc": {
   "base_numbering": 1,
   "nav_menu": {},
   "number_sections": true,
   "sideBar": true,
   "skip_h1_title": false,
   "title_cell": "Table of Contents",
   "title_sidebar": "Contents",
   "toc_cell": false,
   "toc_position": {},
   "toc_section_display": true,
   "toc_window_display": false
  },
  "varInspector": {
   "cols": {
    "lenName": 16,
    "lenType": 16,
    "lenVar": 40
   },
   "kernels_config": {
    "python": {
     "delete_cmd_postfix": "",
     "delete_cmd_prefix": "del ",
     "library": "var_list.py",
     "varRefreshCmd": "print(var_dic_list())"
    },
    "r": {
     "delete_cmd_postfix": ") ",
     "delete_cmd_prefix": "rm(",
     "library": "var_list.r",
     "varRefreshCmd": "cat(var_dic_list()) "
    }
   },
   "oldHeight": 122.84966600000001,
   "position": {
    "height": "40px",
    "left": "-21px",
    "right": "20px",
    "top": "126px",
    "width": "250px"
   },
   "types_to_exclude": [
    "module",
    "function",
    "builtin_function_or_method",
    "instance",
    "_Feature"
   ],
   "varInspector_section_display": "none",
   "window_display": true
  }
 },
 "nbformat": 4,
 "nbformat_minor": 4
}
