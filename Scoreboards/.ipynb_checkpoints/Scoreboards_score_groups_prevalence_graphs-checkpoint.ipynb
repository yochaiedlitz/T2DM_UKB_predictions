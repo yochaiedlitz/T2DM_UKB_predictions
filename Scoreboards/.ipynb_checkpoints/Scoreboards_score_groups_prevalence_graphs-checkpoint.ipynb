{
 "cells": [
  {
   "cell_type": "code",
   "execution_count": 2,
   "metadata": {
    "ExecuteTime": {
     "end_time": "2021-06-03T06:29:11.284548Z",
     "start_time": "2021-06-03T06:29:06.954648Z"
    }
   },
   "outputs": [],
   "source": [
    "import numpy as np\n",
    "import pandas as pd\n",
    "import os\n",
    "import sys  \n",
    "sys.path.insert(0, '/home/edlitzy/PycharmProjects/UKBB/Article_files/')\n",
    "sys.path.insert(0, \"/home/edlitzy/PycharmProjects/UKBB/\")\n",
    "from UKBB_article_plots_config import *\n",
    "from UKBB_article_plots_functions import *"
   ]
  },
  {
   "cell_type": "code",
   "execution_count": 3,
   "metadata": {
    "ExecuteTime": {
     "end_time": "2021-06-03T06:29:11.330322Z",
     "start_time": "2021-06-03T06:29:11.313786Z"
    }
   },
   "outputs": [
    {
     "data": {
      "text/html": [
       "['LR_Finrisc', 'LR_Five_blood_tests_scoreboard', 'SA_GDRS', 'LR_Anthro_scoreboard', 'LR_Five_Blood_Tests', 'All_Diabetes']"
      ],
      "text/plain": [
       "['LR_Finrisc',\n",
       " 'LR_Five_blood_tests_scoreboard',\n",
       " 'SA_GDRS',\n",
       " 'LR_Anthro_scoreboard',\n",
       " 'LR_Five_Blood_Tests',\n",
       " 'All_Diabetes']"
      ]
     },
     "execution_count": 3,
     "metadata": {},
     "output_type": "execute_result"
    }
   ],
   "source": [
    "base_path=\"/net/mraid08/export/jafar/Yochai/UKBB_Runs/For_article/Imputed_screened/Scoreboards/Scoreboards_Baseline_compare\"\n",
    "folders=[x for x in os.listdir(base_path) if os.path.isdir(os.path.join(base_path,x))]\n",
    "folders"
   ]
  },
  {
   "cell_type": "code",
   "execution_count": 4,
   "metadata": {
    "ExecuteTime": {
     "end_time": "2021-06-03T06:29:11.360549Z",
     "start_time": "2021-06-03T06:29:11.356829Z"
    }
   },
   "outputs": [],
   "source": [
    "curr_folder=os.path.join(base_path, 'LR_Five_blood_tests_scoreboard')"
   ]
  },
  {
   "cell_type": "code",
   "execution_count": 7,
   "metadata": {
    "ExecuteTime": {
     "end_time": "2021-06-03T06:36:31.169938Z",
     "start_time": "2021-06-03T06:36:31.158268Z"
    }
   },
   "outputs": [
    {
     "ename": "SyntaxError",
     "evalue": "invalid syntax (<ipython-input-7-308ea37907ce>, line 4)",
     "output_type": "error",
     "traceback": [
      "\u001b[0;36m  File \u001b[0;32m\"<ipython-input-7-308ea37907ce>\"\u001b[0;36m, line \u001b[0;32m4\u001b[0m\n\u001b[0;31m    scoring=\u001b[0m\n\u001b[0m            ^\u001b[0m\n\u001b[0;31mSyntaxError\u001b[0m\u001b[0;31m:\u001b[0m invalid syntax\n"
     ]
    }
   ],
   "source": [
    "val_bins_df_file_name=\"val_bins_df.csv\"\n",
    "val_bins_df_path=os.path.join(curr_folder,val_bins_df_file_name)\n",
    "val_bins_df=pd.read_csv(val_bins_df_path,index_col=\"eid\")\n",
    "scoring=\n",
    "val_scores= self.bins_df.dot(scoring.loc[self.bins_df.columns, \"Score\"])\n"
   ]
  },
  {
   "cell_type": "code",
   "execution_count": 4,
   "metadata": {
    "ExecuteTime": {
     "end_time": "2021-06-01T06:24:23.971398Z",
     "start_time": "2021-06-01T06:24:23.965558Z"
    }
   },
   "outputs": [],
   "source": [
    "scores_file_name=\"final_scores.csv\"\n",
    "y_val_file_name=\"y_LR_test.csv\""
   ]
  },
  {
   "cell_type": "code",
   "execution_count": 5,
   "metadata": {
    "ExecuteTime": {
     "end_time": "2021-06-01T06:24:24.005834Z",
     "start_time": "2021-06-01T06:24:23.975139Z"
    }
   },
   "outputs": [],
   "source": [
    "scores_df=pd.read_csv(os.path.join(curr_folder,scores_file_name),index_col=0,header=None)\n",
    "test_df=pd.read_csv(os.path.join(curr_folder,y_val_file_name),index_col=0,header=None)"
   ]
  },
  {
   "cell_type": "code",
   "execution_count": 9,
   "metadata": {
    "ExecuteTime": {
     "end_time": "2021-06-01T06:27:16.884457Z",
     "start_time": "2021-06-01T06:27:16.877486Z"
    }
   },
   "outputs": [],
   "source": [
    "scores_df.columns=[\"y_pred\"]\n",
    "test_df.columns=[\"y_test\"]"
   ]
  },
  {
   "cell_type": "code",
   "execution_count": 16,
   "metadata": {
    "ExecuteTime": {
     "end_time": "2021-06-01T06:38:59.898428Z",
     "start_time": "2021-06-01T06:38:59.893775Z"
    }
   },
   "outputs": [],
   "source": [
    "vals_df=scores_df.join(test_df,how=\"left\")"
   ]
  },
  {
   "cell_type": "code",
   "execution_count": 17,
   "metadata": {
    "ExecuteTime": {
     "end_time": "2021-06-01T06:39:00.706416Z",
     "start_time": "2021-06-01T06:39:00.703007Z"
    }
   },
   "outputs": [],
   "source": [
    "vals_df.shape\n",
    "pred_col=\"y_pred\""
   ]
  },
  {
   "cell_type": "code",
   "execution_count": 18,
   "metadata": {
    "ExecuteTime": {
     "end_time": "2021-06-01T06:39:04.268720Z",
     "start_time": "2021-06-01T06:39:04.263440Z"
    }
   },
   "outputs": [],
   "source": [
    "vals_df = vals_df.sort_values(pred_col, ascending=False)\n"
   ]
  },
  {
   "cell_type": "code",
   "execution_count": 47,
   "metadata": {
    "ExecuteTime": {
     "end_time": "2021-06-01T07:13:46.486503Z",
     "start_time": "2021-06-01T07:13:46.480131Z"
    }
   },
   "outputs": [],
   "source": [
    "n_bins=100\n",
    "res=1./n_bins\n",
    "quants_bins=[0.9,0.95,0.99,1]"
   ]
  },
  {
   "cell_type": "code",
   "execution_count": 48,
   "metadata": {
    "ExecuteTime": {
     "end_time": "2021-06-01T07:13:47.379076Z",
     "start_time": "2021-06-01T07:13:47.326759Z"
    }
   },
   "outputs": [],
   "source": [
    "Rank_df=calc_Rank_df(compare_df, quants_bins=quants_bins, prevalence_thresh_fold=None,pred_col=\"y_pred\")"
   ]
  },
  {
   "cell_type": "code",
   "execution_count": 49,
   "metadata": {
    "ExecuteTime": {
     "end_time": "2021-06-01T07:13:48.004226Z",
     "start_time": "2021-06-01T07:13:47.972695Z"
    }
   },
   "outputs": [
    {
     "data": {
      "text/html": [
       "<div>\n",
       "<style scoped>\n",
       "    .dataframe tbody tr th:only-of-type {\n",
       "        vertical-align: middle;\n",
       "    }\n",
       "\n",
       "    .dataframe tbody tr th {\n",
       "        vertical-align: top;\n",
       "    }\n",
       "\n",
       "    .dataframe thead th {\n",
       "        text-align: right;\n",
       "    }\n",
       "</style>\n",
       "<table border=\"1\" class=\"dataframe\">\n",
       "  <thead>\n",
       "    <tr style=\"text-align: right;\">\n",
       "      <th></th>\n",
       "      <th>quantile number</th>\n",
       "      <th>Lower Boundary</th>\n",
       "      <th>upper Boundary</th>\n",
       "      <th>Diagnosed</th>\n",
       "      <th>All</th>\n",
       "      <th>Ratio</th>\n",
       "      <th>Fold</th>\n",
       "    </tr>\n",
       "  </thead>\n",
       "  <tbody>\n",
       "    <tr>\n",
       "      <th>0</th>\n",
       "      <td>1</td>\n",
       "      <td>0.00</td>\n",
       "      <td>124.00</td>\n",
       "      <td>68.0</td>\n",
       "      <td>8117.0</td>\n",
       "      <td>0.008377</td>\n",
       "      <td>1.000000</td>\n",
       "    </tr>\n",
       "    <tr>\n",
       "      <th>1</th>\n",
       "      <td>2</td>\n",
       "      <td>124.00</td>\n",
       "      <td>135.00</td>\n",
       "      <td>31.0</td>\n",
       "      <td>442.0</td>\n",
       "      <td>0.070136</td>\n",
       "      <td>8.371939</td>\n",
       "    </tr>\n",
       "    <tr>\n",
       "      <th>2</th>\n",
       "      <td>3</td>\n",
       "      <td>135.00</td>\n",
       "      <td>156.04</td>\n",
       "      <td>64.0</td>\n",
       "      <td>348.0</td>\n",
       "      <td>0.183908</td>\n",
       "      <td>21.952671</td>\n",
       "    </tr>\n",
       "    <tr>\n",
       "      <th>3</th>\n",
       "      <td>4</td>\n",
       "      <td>156.04</td>\n",
       "      <td>178.00</td>\n",
       "      <td>35.0</td>\n",
       "      <td>90.0</td>\n",
       "      <td>0.388889</td>\n",
       "      <td>46.420752</td>\n",
       "    </tr>\n",
       "  </tbody>\n",
       "</table>\n",
       "</div>"
      ],
      "text/plain": [
       "  quantile number  Lower Boundary  upper Boundary  Diagnosed     All  \\\n",
       "0               1            0.00          124.00       68.0  8117.0   \n",
       "1               2          124.00          135.00       31.0   442.0   \n",
       "2               3          135.00          156.04       64.0   348.0   \n",
       "3               4          156.04          178.00       35.0    90.0   \n",
       "\n",
       "      Ratio       Fold  \n",
       "0  0.008377   1.000000  \n",
       "1  0.070136   8.371939  \n",
       "2  0.183908  21.952671  \n",
       "3  0.388889  46.420752  "
      ]
     },
     "execution_count": 49,
     "metadata": {},
     "output_type": "execute_result"
    }
   ],
   "source": [
    "Rank_df"
   ]
  },
  {
   "cell_type": "code",
   "execution_count": 34,
   "metadata": {
    "ExecuteTime": {
     "end_time": "2021-06-01T07:12:12.284232Z",
     "start_time": "2021-06-01T07:12:12.273954Z"
    }
   },
   "outputs": [
    {
     "data": {
      "text/plain": [
       "178.0"
      ]
     },
     "execution_count": 34,
     "metadata": {},
     "output_type": "execute_result"
    }
   ],
   "source": [
    "compare_df.y_pred.max()"
   ]
  },
  {
   "cell_type": "code",
   "execution_count": null,
   "metadata": {},
   "outputs": [],
   "source": []
  }
 ],
 "metadata": {
  "kernelspec": {
   "display_name": "Python 2",
   "language": "python",
   "name": "python2"
  },
  "language_info": {
   "codemirror_mode": {
    "name": "ipython",
    "version": 2
   },
   "file_extension": ".py",
   "mimetype": "text/x-python",
   "name": "python",
   "nbconvert_exporter": "python",
   "pygments_lexer": "ipython2",
   "version": "2.7.8"
  },
  "toc": {
   "nav_menu": {},
   "number_sections": true,
   "sideBar": true,
   "skip_h1_title": false,
   "toc_cell": false,
   "toc_position": {},
   "toc_section_display": "block",
   "toc_window_display": false
  },
  "varInspector": {
   "cols": {
    "lenName": 16,
    "lenType": 16,
    "lenVar": 40
   },
   "kernels_config": {
    "python": {
     "delete_cmd_postfix": "",
     "delete_cmd_prefix": "del ",
     "library": "var_list.py",
     "varRefreshCmd": "print(var_dic_list())"
    },
    "r": {
     "delete_cmd_postfix": ") ",
     "delete_cmd_prefix": "rm(",
     "library": "var_list.r",
     "varRefreshCmd": "cat(var_dic_list()) "
    }
   },
   "oldHeight": 122.733334,
   "position": {
    "height": "40px",
    "left": "946px",
    "right": "20px",
    "top": "120px",
    "width": "250px"
   },
   "types_to_exclude": [
    "module",
    "function",
    "builtin_function_or_method",
    "instance",
    "_Feature"
   ],
   "varInspector_section_display": "none",
   "window_display": true
  }
 },
 "nbformat": 4,
 "nbformat_minor": 2
}
