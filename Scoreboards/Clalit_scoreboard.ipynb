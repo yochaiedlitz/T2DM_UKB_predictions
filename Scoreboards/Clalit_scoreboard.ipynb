{
 "cells": [
  {
   "cell_type": "code",
   "execution_count": 54,
   "metadata": {
    "ExecuteTime": {
     "end_time": "2021-11-14T07:51:35.358024Z",
     "start_time": "2021-11-14T07:51:35.169412Z"
    }
   },
   "outputs": [
    {
     "name": "stdout",
     "output_type": "stream",
     "text": [
      "The autoreload extension is already loaded. To reload it, use:\n",
      "  %reload_ext autoreload\n"
     ]
    }
   ],
   "source": [
    "%load_ext autoreload\n",
    "%autoreload 2\n",
    "import os\n",
    "import sys\n",
    "import pandas as pd\n",
    "add_folders=[\"/home/edlitzy/PycharmProjects/UKBB\"]\n",
    "sys.path.extend([x for x in add_folders if x not in sys.path])\n",
    "from datetime import datetime, timedelta\n",
    "import numpy as np\n",
    "from sklearn.metrics import auc\n",
    "from sklearn.metrics import RocCurveDisplay,PrecisionRecallDisplay"
   ]
  },
  {
   "cell_type": "markdown",
   "metadata": {},
   "source": [
    "# load data"
   ]
  },
  {
   "cell_type": "code",
   "execution_count": 55,
   "metadata": {
    "ExecuteTime": {
     "end_time": "2021-11-14T07:51:39.373154Z",
     "start_time": "2021-11-14T07:51:39.308732Z"
    }
   },
   "outputs": [],
   "source": [
    "data_path=\"/net/mraid08/export/jafar/UKBioBank/Data/Clalit/Clalit_bt.csv\"\n",
    "save_final_df_path=\"/net/mraid08/export/jafar/Yochai/UKBB_Runs/For_article/revision/clalit/scoreboard_results/141121_results.csv\"\n",
    "orig_clalit_df=pd.read_csv(filepath_or_buffer=data_path,index_col=\"pid\")\n",
    "rel_ind=orig_clalit_df[\"Reticulocyte Count\"].dropna().index\n",
    "orig_clalit_df=orig_clalit_df.loc[rel_ind,:]"
   ]
  },
  {
   "cell_type": "code",
   "execution_count": 56,
   "metadata": {
    "ExecuteTime": {
     "end_time": "2021-11-14T07:51:39.639513Z",
     "start_time": "2021-11-14T07:51:39.570523Z"
    }
   },
   "outputs": [
    {
     "data": {
      "text/html": [
       "<div>\n",
       "<style scoped>\n",
       "    .dataframe tbody tr th:only-of-type {\n",
       "        vertical-align: middle;\n",
       "    }\n",
       "\n",
       "    .dataframe tbody tr th {\n",
       "        vertical-align: top;\n",
       "    }\n",
       "\n",
       "    .dataframe thead th {\n",
       "        text-align: right;\n",
       "    }\n",
       "</style>\n",
       "<table border=\"1\" class=\"dataframe\">\n",
       "  <thead>\n",
       "    <tr style=\"text-align: right;\">\n",
       "      <th></th>\n",
       "      <th>first_visit</th>\n",
       "      <th>HbA1c%</th>\n",
       "      <th>datetime_leida</th>\n",
       "      <th>is_male</th>\n",
       "      <th>GGT</th>\n",
       "      <th>Reticulocyte Count</th>\n",
       "      <th>HDL</th>\n",
       "      <th>Triglycerides</th>\n",
       "      <th>diabetes_date</th>\n",
       "      <th>UKB_HbA1c</th>\n",
       "      <th>UKB_reticulocyte_count</th>\n",
       "    </tr>\n",
       "    <tr>\n",
       "      <th>pid</th>\n",
       "      <th></th>\n",
       "      <th></th>\n",
       "      <th></th>\n",
       "      <th></th>\n",
       "      <th></th>\n",
       "      <th></th>\n",
       "      <th></th>\n",
       "      <th></th>\n",
       "      <th></th>\n",
       "      <th></th>\n",
       "      <th></th>\n",
       "    </tr>\n",
       "  </thead>\n",
       "  <tbody>\n",
       "    <tr>\n",
       "      <th>3485</th>\n",
       "      <td>2010-09-05</td>\n",
       "      <td>6.0</td>\n",
       "      <td>1946-04-02</td>\n",
       "      <td>0.0</td>\n",
       "      <td>11.0</td>\n",
       "      <td>62.400000</td>\n",
       "      <td>48.0</td>\n",
       "      <td>129.0</td>\n",
       "      <td>NaN</td>\n",
       "      <td>42.076650</td>\n",
       "      <td>0.062400</td>\n",
       "    </tr>\n",
       "    <tr>\n",
       "      <th>5277</th>\n",
       "      <td>2011-01-16</td>\n",
       "      <td>5.6</td>\n",
       "      <td>1933-06-04</td>\n",
       "      <td>1.0</td>\n",
       "      <td>31.0</td>\n",
       "      <td>0.052000</td>\n",
       "      <td>41.0</td>\n",
       "      <td>157.0</td>\n",
       "      <td>NaN</td>\n",
       "      <td>37.705050</td>\n",
       "      <td>0.000052</td>\n",
       "    </tr>\n",
       "    <tr>\n",
       "      <th>5374</th>\n",
       "      <td>2006-10-29</td>\n",
       "      <td>6.3</td>\n",
       "      <td>1933-03-05</td>\n",
       "      <td>1.0</td>\n",
       "      <td>433.0</td>\n",
       "      <td>19.200001</td>\n",
       "      <td>69.0</td>\n",
       "      <td>65.0</td>\n",
       "      <td>NaN</td>\n",
       "      <td>45.355352</td>\n",
       "      <td>0.019200</td>\n",
       "    </tr>\n",
       "    <tr>\n",
       "      <th>6330</th>\n",
       "      <td>2009-02-19</td>\n",
       "      <td>5.1</td>\n",
       "      <td>1935-09-02</td>\n",
       "      <td>0.0</td>\n",
       "      <td>32.0</td>\n",
       "      <td>204.700000</td>\n",
       "      <td>37.0</td>\n",
       "      <td>209.0</td>\n",
       "      <td>2016-05-26</td>\n",
       "      <td>32.240550</td>\n",
       "      <td>0.204700</td>\n",
       "    </tr>\n",
       "    <tr>\n",
       "      <th>7918</th>\n",
       "      <td>2011-03-20</td>\n",
       "      <td>5.4</td>\n",
       "      <td>1938-08-26</td>\n",
       "      <td>1.0</td>\n",
       "      <td>81.0</td>\n",
       "      <td>67.000000</td>\n",
       "      <td>51.0</td>\n",
       "      <td>105.0</td>\n",
       "      <td>2017-08-06</td>\n",
       "      <td>35.519250</td>\n",
       "      <td>0.067000</td>\n",
       "    </tr>\n",
       "    <tr>\n",
       "      <th>...</th>\n",
       "      <td>...</td>\n",
       "      <td>...</td>\n",
       "      <td>...</td>\n",
       "      <td>...</td>\n",
       "      <td>...</td>\n",
       "      <td>...</td>\n",
       "      <td>...</td>\n",
       "      <td>...</td>\n",
       "      <td>...</td>\n",
       "      <td>...</td>\n",
       "      <td>...</td>\n",
       "    </tr>\n",
       "    <tr>\n",
       "      <th>10056438</th>\n",
       "      <td>2010-07-19</td>\n",
       "      <td>6.1</td>\n",
       "      <td>1938-06-13</td>\n",
       "      <td>0.0</td>\n",
       "      <td>15.0</td>\n",
       "      <td>68.000000</td>\n",
       "      <td>35.0</td>\n",
       "      <td>130.0</td>\n",
       "      <td>NaN</td>\n",
       "      <td>43.169550</td>\n",
       "      <td>0.068000</td>\n",
       "    </tr>\n",
       "    <tr>\n",
       "      <th>10064594</th>\n",
       "      <td>2011-11-13</td>\n",
       "      <td>5.5</td>\n",
       "      <td>1948-09-08</td>\n",
       "      <td>1.0</td>\n",
       "      <td>97.0</td>\n",
       "      <td>168.000000</td>\n",
       "      <td>39.0</td>\n",
       "      <td>60.0</td>\n",
       "      <td>NaN</td>\n",
       "      <td>36.612150</td>\n",
       "      <td>0.168000</td>\n",
       "    </tr>\n",
       "    <tr>\n",
       "      <th>10066521</th>\n",
       "      <td>2011-11-27</td>\n",
       "      <td>5.2</td>\n",
       "      <td>1947-01-29</td>\n",
       "      <td>0.0</td>\n",
       "      <td>71.0</td>\n",
       "      <td>65.600000</td>\n",
       "      <td>32.0</td>\n",
       "      <td>53.0</td>\n",
       "      <td>NaN</td>\n",
       "      <td>33.333450</td>\n",
       "      <td>0.065600</td>\n",
       "    </tr>\n",
       "    <tr>\n",
       "      <th>10119253</th>\n",
       "      <td>2010-02-15</td>\n",
       "      <td>6.2</td>\n",
       "      <td>2009-11-26</td>\n",
       "      <td>1.0</td>\n",
       "      <td>66.3</td>\n",
       "      <td>44.000000</td>\n",
       "      <td>35.9</td>\n",
       "      <td>137.0</td>\n",
       "      <td>2011-04-04</td>\n",
       "      <td>44.262450</td>\n",
       "      <td>0.044000</td>\n",
       "    </tr>\n",
       "    <tr>\n",
       "      <th>10586780</th>\n",
       "      <td>2010-06-13</td>\n",
       "      <td>6.1</td>\n",
       "      <td>2005-01-03</td>\n",
       "      <td>1.0</td>\n",
       "      <td>13.0</td>\n",
       "      <td>49.400000</td>\n",
       "      <td>51.0</td>\n",
       "      <td>62.0</td>\n",
       "      <td>NaN</td>\n",
       "      <td>43.169550</td>\n",
       "      <td>0.049400</td>\n",
       "    </tr>\n",
       "  </tbody>\n",
       "</table>\n",
       "<p>2759 rows × 11 columns</p>\n",
       "</div>"
      ],
      "text/plain": [
       "         first_visit  HbA1c% datetime_leida  is_male    GGT  \\\n",
       "pid                                                           \n",
       "3485      2010-09-05     6.0     1946-04-02      0.0   11.0   \n",
       "5277      2011-01-16     5.6     1933-06-04      1.0   31.0   \n",
       "5374      2006-10-29     6.3     1933-03-05      1.0  433.0   \n",
       "6330      2009-02-19     5.1     1935-09-02      0.0   32.0   \n",
       "7918      2011-03-20     5.4     1938-08-26      1.0   81.0   \n",
       "...              ...     ...            ...      ...    ...   \n",
       "10056438  2010-07-19     6.1     1938-06-13      0.0   15.0   \n",
       "10064594  2011-11-13     5.5     1948-09-08      1.0   97.0   \n",
       "10066521  2011-11-27     5.2     1947-01-29      0.0   71.0   \n",
       "10119253  2010-02-15     6.2     2009-11-26      1.0   66.3   \n",
       "10586780  2010-06-13     6.1     2005-01-03      1.0   13.0   \n",
       "\n",
       "          Reticulocyte Count   HDL  Triglycerides diabetes_date  UKB_HbA1c  \\\n",
       "pid                                                                          \n",
       "3485               62.400000  48.0          129.0           NaN  42.076650   \n",
       "5277                0.052000  41.0          157.0           NaN  37.705050   \n",
       "5374               19.200001  69.0           65.0           NaN  45.355352   \n",
       "6330              204.700000  37.0          209.0    2016-05-26  32.240550   \n",
       "7918               67.000000  51.0          105.0    2017-08-06  35.519250   \n",
       "...                      ...   ...            ...           ...        ...   \n",
       "10056438           68.000000  35.0          130.0           NaN  43.169550   \n",
       "10064594          168.000000  39.0           60.0           NaN  36.612150   \n",
       "10066521           65.600000  32.0           53.0           NaN  33.333450   \n",
       "10119253           44.000000  35.9          137.0    2011-04-04  44.262450   \n",
       "10586780           49.400000  51.0           62.0           NaN  43.169550   \n",
       "\n",
       "          UKB_reticulocyte_count  \n",
       "pid                               \n",
       "3485                    0.062400  \n",
       "5277                    0.000052  \n",
       "5374                    0.019200  \n",
       "6330                    0.204700  \n",
       "7918                    0.067000  \n",
       "...                          ...  \n",
       "10056438                0.068000  \n",
       "10064594                0.168000  \n",
       "10066521                0.065600  \n",
       "10119253                0.044000  \n",
       "10586780                0.049400  \n",
       "\n",
       "[2759 rows x 11 columns]"
      ]
     },
     "execution_count": 56,
     "metadata": {},
     "output_type": "execute_result"
    }
   ],
   "source": [
    "orig_clalit_df"
   ]
  },
  {
   "cell_type": "markdown",
   "metadata": {},
   "source": [
    "# Convert data to dateime"
   ]
  },
  {
   "cell_type": "code",
   "execution_count": 59,
   "metadata": {
    "ExecuteTime": {
     "end_time": "2021-11-14T07:53:14.347965Z",
     "start_time": "2021-11-14T07:53:14.297530Z"
    }
   },
   "outputs": [],
   "source": [
    "non_na_ind=orig_clalit_df[\"diabetes_date\"].dropna().index\n",
    "orig_clalit_df.loc[:,[\"first_visit\",\"datetime_leida\"]]=orig_clalit_df.loc[:,[\"first_visit\",\"datetime_leida\"]].applymap(datetime.fromisoformat)\n",
    "orig_clalit_df.loc[non_na_ind,[\"diabetes_date\"]]=orig_clalit_df.loc[non_na_ind,[\"diabetes_date\"]].applymap(datetime.fromisoformat)"
   ]
  },
  {
   "cell_type": "code",
   "execution_count": 66,
   "metadata": {
    "ExecuteTime": {
     "end_time": "2021-11-14T07:55:27.051280Z",
     "start_time": "2021-11-14T07:55:27.006093Z"
    }
   },
   "outputs": [
    {
     "data": {
      "text/plain": [
       "1010"
      ]
     },
     "execution_count": 66,
     "metadata": {},
     "output_type": "execute_result"
    }
   ],
   "source": [
    "(((orig_clalit_df[\"first_visit\"]-orig_clalit_df[\"datetime_leida\"])/365.25)>timedelta(days=70)).sum()"
   ]
  },
  {
   "cell_type": "code",
   "execution_count": 119,
   "metadata": {
    "ExecuteTime": {
     "end_time": "2021-11-14T07:58:42.480388Z",
     "start_time": "2021-11-14T07:58:42.445752Z"
    },
    "scrolled": true
   },
   "outputs": [],
   "source": [
    "clalit_df=orig_clalit_df.copy()\n",
    "clalit_df=clalit_df.loc[(((clalit_df[\"first_visit\"]-clalit_df[\"datetime_leida\"])/365.25)<=timedelta(days=70)),:]"
   ]
  },
  {
   "cell_type": "code",
   "execution_count": 121,
   "metadata": {
    "ExecuteTime": {
     "end_time": "2021-11-14T07:58:47.606152Z",
     "start_time": "2021-11-14T07:58:47.556310Z"
    }
   },
   "outputs": [],
   "source": [
    "clalit_df=clalit_df.loc[(((clalit_df[\"first_visit\"]-clalit_df[\"datetime_leida\"])/365.25)>=timedelta(days=40)),:]"
   ]
  },
  {
   "cell_type": "markdown",
   "metadata": {},
   "source": [
    "# Draw a delta time till return"
   ]
  },
  {
   "cell_type": "code",
   "execution_count": 122,
   "metadata": {
    "ExecuteTime": {
     "end_time": "2021-11-14T07:59:13.770941Z",
     "start_time": "2021-11-14T07:59:13.722022Z"
    }
   },
   "outputs": [],
   "source": [
    "mean_dt=7.3\n",
    "sigma=2.3\n",
    "max_dt=17\n",
    "min_dt=2\n",
    "clalit_df[\"dt_years\"]=np.clip(np.random.normal(mean_dt,sigma,size=clalit_df.shape[0]),a_max=max_dt,a_min=min_dt)"
   ]
  },
  {
   "cell_type": "code",
   "execution_count": 123,
   "metadata": {
    "ExecuteTime": {
     "end_time": "2021-11-14T07:59:13.808820Z",
     "start_time": "2021-11-14T07:59:13.774554Z"
    }
   },
   "outputs": [],
   "source": [
    "def my_relative_delta(row):\n",
    "    print(row)\n",
    "    return row[\"first_visit\"].replace(year=row[\"first_visit\"].year + row[\"dt_years\"])"
   ]
  },
  {
   "cell_type": "code",
   "execution_count": 124,
   "metadata": {
    "ExecuteTime": {
     "end_time": "2021-11-14T07:59:13.846491Z",
     "start_time": "2021-11-14T07:59:13.812068Z"
    }
   },
   "outputs": [],
   "source": [
    "pd.to_timedelta(365*clalit_df[\"dt_years\"], unit='D')\n",
    "clalit_df[\"dt_days\"]=pd.to_timedelta(365*clalit_df[\"dt_years\"], unit='D')\n",
    "clalit_df[\"check_date\"]=(clalit_df[\"first_visit\"]+ clalit_df[\"dt_days\"]).clip(upper=datetime.fromisoformat(\"2019-12-31\"))"
   ]
  },
  {
   "cell_type": "code",
   "execution_count": 125,
   "metadata": {
    "ExecuteTime": {
     "end_time": "2021-11-14T07:59:14.142427Z",
     "start_time": "2021-11-14T07:59:13.848905Z"
    }
   },
   "outputs": [
    {
     "data": {
      "text/plain": [
       "<AxesSubplot:>"
      ]
     },
     "execution_count": 125,
     "metadata": {},
     "output_type": "execute_result"
    },
    {
     "data": {
      "image/png": "[encoded data removed]",
      "text/plain": [
       "<Figure size 432x288 with 1 Axes>"
      ]
     },
     "metadata": {
      "needs_background": "light"
     },
     "output_type": "display_data"
    }
   ],
   "source": [
    "clalit_df[\"check_date\"].hist()"
   ]
  },
  {
   "cell_type": "code",
   "execution_count": 126,
   "metadata": {
    "ExecuteTime": {
     "end_time": "2021-11-14T07:59:14.181112Z",
     "start_time": "2021-11-14T07:59:14.145500Z"
    }
   },
   "outputs": [],
   "source": [
    "clalit_df[\"final_dt\"]=clalit_df[\"check_date\"]-clalit_df[\"first_visit\"]"
   ]
  },
  {
   "cell_type": "code",
   "execution_count": 127,
   "metadata": {
    "ExecuteTime": {
     "end_time": "2021-11-14T07:59:14.445926Z",
     "start_time": "2021-11-14T07:59:14.183316Z"
    }
   },
   "outputs": [
    {
     "data": {
      "text/plain": [
       "<AxesSubplot:ylabel='Frequency'>"
      ]
     },
     "execution_count": 127,
     "metadata": {},
     "output_type": "execute_result"
    },
    {
     "data": {
      "image/png": "[encoded data removed]",
      "text/plain": [
       "<Figure size 432x288 with 1 Axes>"
      ]
     },
     "metadata": {
      "needs_background": "light"
     },
     "output_type": "display_data"
    }
   ],
   "source": [
    "(clalit_df[\"final_dt\"].astype('timedelta64[D]')/365).plot.hist()"
   ]
  },
  {
   "cell_type": "code",
   "execution_count": 128,
   "metadata": {
    "ExecuteTime": {
     "end_time": "2021-11-14T07:59:14.480147Z",
     "start_time": "2021-11-14T07:59:14.448509Z"
    }
   },
   "outputs": [
    {
     "data": {
      "text/plain": [
       "7.139789121176457"
      ]
     },
     "execution_count": 128,
     "metadata": {},
     "output_type": "execute_result"
    }
   ],
   "source": [
    "(clalit_df[\"final_dt\"].astype('timedelta64[D]')/365).mean()"
   ]
  },
  {
   "cell_type": "code",
   "execution_count": 129,
   "metadata": {
    "ExecuteTime": {
     "end_time": "2021-11-14T07:59:14.516490Z",
     "start_time": "2021-11-14T07:59:14.484804Z"
    }
   },
   "outputs": [
    {
     "data": {
      "text/plain": [
       "pid\n",
       "3485         True\n",
       "11430        True\n",
       "24485        True\n",
       "47490        True\n",
       "52237       False\n",
       "            ...  \n",
       "9890555      True\n",
       "9892371      True\n",
       "10048398     True\n",
       "10064594     True\n",
       "10066521     True\n",
       "Name: diabetes_date, Length: 1129, dtype: bool"
      ]
     },
     "execution_count": 129,
     "metadata": {},
     "output_type": "execute_result"
    }
   ],
   "source": [
    "clalit_df[\"diabetes_date\"].isna()"
   ]
  },
  {
   "cell_type": "markdown",
   "metadata": {},
   "source": [
    "# def check_diagnose"
   ]
  },
  {
   "cell_type": "code",
   "execution_count": 130,
   "metadata": {
    "ExecuteTime": {
     "end_time": "2021-11-14T07:59:14.547594Z",
     "start_time": "2021-11-14T07:59:14.519719Z"
    }
   },
   "outputs": [],
   "source": [
    "def check_diagnose(row):\n",
    "#     print(row)\n",
    "    if type(row[\"diabetes_date\"]) is float:\n",
    "        return 0\n",
    "    elif row[\"diabetes_date\"]>row[\"check_date\"]:\n",
    "        return 0\n",
    "    elif row[\"diabetes_date\"]<=row[\"check_date\"]:\n",
    "        return 1\n",
    "    else:\n",
    "        return np.nan"
   ]
  },
  {
   "cell_type": "code",
   "execution_count": 131,
   "metadata": {
    "ExecuteTime": {
     "end_time": "2021-11-14T07:59:14.670454Z",
     "start_time": "2021-11-14T07:59:14.549860Z"
    }
   },
   "outputs": [],
   "source": [
    "clalit_df[\"Y\"]=clalit_df.apply(check_diagnose,axis=1)"
   ]
  },
  {
   "cell_type": "markdown",
   "metadata": {},
   "source": [
    "# T2D Prevalence at time of test"
   ]
  },
  {
   "cell_type": "code",
   "execution_count": 132,
   "metadata": {
    "ExecuteTime": {
     "end_time": "2021-11-14T07:59:14.703086Z",
     "start_time": "2021-11-14T07:59:14.672587Z"
    }
   },
   "outputs": [
    {
     "data": {
      "text/plain": [
       "0.21257750221434898"
      ]
     },
     "execution_count": 132,
     "metadata": {},
     "output_type": "execute_result"
    }
   ],
   "source": [
    "clalit_df[\"Y\"].sum()/clalit_df.shape[0]"
   ]
  },
  {
   "cell_type": "code",
   "execution_count": 133,
   "metadata": {
    "ExecuteTime": {
     "end_time": "2021-11-14T07:59:14.758403Z",
     "start_time": "2021-11-14T07:59:14.705038Z"
    }
   },
   "outputs": [
    {
     "data": {
      "text/html": [
       "<div>\n",
       "<style scoped>\n",
       "    .dataframe tbody tr th:only-of-type {\n",
       "        vertical-align: middle;\n",
       "    }\n",
       "\n",
       "    .dataframe tbody tr th {\n",
       "        vertical-align: top;\n",
       "    }\n",
       "\n",
       "    .dataframe thead th {\n",
       "        text-align: right;\n",
       "    }\n",
       "</style>\n",
       "<table border=\"1\" class=\"dataframe\">\n",
       "  <thead>\n",
       "    <tr style=\"text-align: right;\">\n",
       "      <th></th>\n",
       "      <th>first_visit</th>\n",
       "      <th>HbA1c%</th>\n",
       "      <th>datetime_leida</th>\n",
       "      <th>is_male</th>\n",
       "      <th>GGT</th>\n",
       "      <th>Reticulocyte Count</th>\n",
       "      <th>HDL</th>\n",
       "      <th>Triglycerides</th>\n",
       "      <th>diabetes_date</th>\n",
       "      <th>UKB_HbA1c</th>\n",
       "      <th>UKB_reticulocyte_count</th>\n",
       "      <th>dt_years</th>\n",
       "      <th>dt_days</th>\n",
       "      <th>check_date</th>\n",
       "      <th>final_dt</th>\n",
       "      <th>Y</th>\n",
       "    </tr>\n",
       "    <tr>\n",
       "      <th>pid</th>\n",
       "      <th></th>\n",
       "      <th></th>\n",
       "      <th></th>\n",
       "      <th></th>\n",
       "      <th></th>\n",
       "      <th></th>\n",
       "      <th></th>\n",
       "      <th></th>\n",
       "      <th></th>\n",
       "      <th></th>\n",
       "      <th></th>\n",
       "      <th></th>\n",
       "      <th></th>\n",
       "      <th></th>\n",
       "      <th></th>\n",
       "      <th></th>\n",
       "    </tr>\n",
       "  </thead>\n",
       "  <tbody>\n",
       "    <tr>\n",
       "      <th>3485</th>\n",
       "      <td>2010-09-05</td>\n",
       "      <td>6.0</td>\n",
       "      <td>1946-04-02</td>\n",
       "      <td>0.0</td>\n",
       "      <td>11.0</td>\n",
       "      <td>62.4</td>\n",
       "      <td>48.0</td>\n",
       "      <td>129.0</td>\n",
       "      <td>NaN</td>\n",
       "      <td>42.07665</td>\n",
       "      <td>0.0624</td>\n",
       "      <td>4.948440</td>\n",
       "      <td>1806 days 04:19:56.253475199</td>\n",
       "      <td>2015-08-16 04:19:56.253475199</td>\n",
       "      <td>1806 days 04:19:56.253475199</td>\n",
       "      <td>0</td>\n",
       "    </tr>\n",
       "    <tr>\n",
       "      <th>11430</th>\n",
       "      <td>2011-09-18</td>\n",
       "      <td>6.0</td>\n",
       "      <td>1942-04-25</td>\n",
       "      <td>1.0</td>\n",
       "      <td>16.0</td>\n",
       "      <td>74.5</td>\n",
       "      <td>45.0</td>\n",
       "      <td>75.0</td>\n",
       "      <td>NaN</td>\n",
       "      <td>42.07665</td>\n",
       "      <td>0.0745</td>\n",
       "      <td>8.435140</td>\n",
       "      <td>3078 days 19:49:40.453564800</td>\n",
       "      <td>2019-12-31 00:00:00.000000000</td>\n",
       "      <td>3026 days 00:00:00</td>\n",
       "      <td>0</td>\n",
       "    </tr>\n",
       "    <tr>\n",
       "      <th>24485</th>\n",
       "      <td>2011-07-10</td>\n",
       "      <td>5.0</td>\n",
       "      <td>1943-02-24</td>\n",
       "      <td>1.0</td>\n",
       "      <td>19.0</td>\n",
       "      <td>107.6</td>\n",
       "      <td>49.0</td>\n",
       "      <td>144.0</td>\n",
       "      <td>NaN</td>\n",
       "      <td>31.14765</td>\n",
       "      <td>0.1076</td>\n",
       "      <td>4.989826</td>\n",
       "      <td>1821 days 06:52:24.066278400</td>\n",
       "      <td>2016-07-04 06:52:24.066278400</td>\n",
       "      <td>1821 days 06:52:24.066278400</td>\n",
       "      <td>0</td>\n",
       "    </tr>\n",
       "    <tr>\n",
       "      <th>47490</th>\n",
       "      <td>2008-08-06</td>\n",
       "      <td>6.0</td>\n",
       "      <td>1940-05-27</td>\n",
       "      <td>1.0</td>\n",
       "      <td>32.0</td>\n",
       "      <td>51.5</td>\n",
       "      <td>36.0</td>\n",
       "      <td>94.0</td>\n",
       "      <td>NaN</td>\n",
       "      <td>42.07665</td>\n",
       "      <td>0.0515</td>\n",
       "      <td>8.121133</td>\n",
       "      <td>2964 days 05:07:22.252454400</td>\n",
       "      <td>2016-09-17 05:07:22.252454400</td>\n",
       "      <td>2964 days 05:07:22.252454400</td>\n",
       "      <td>0</td>\n",
       "    </tr>\n",
       "    <tr>\n",
       "      <th>52237</th>\n",
       "      <td>2011-12-04</td>\n",
       "      <td>4.3</td>\n",
       "      <td>1950-05-13</td>\n",
       "      <td>1.0</td>\n",
       "      <td>21.0</td>\n",
       "      <td>85.0</td>\n",
       "      <td>40.0</td>\n",
       "      <td>89.0</td>\n",
       "      <td>2012-07-30 00:00:00</td>\n",
       "      <td>23.49735</td>\n",
       "      <td>0.0850</td>\n",
       "      <td>6.389490</td>\n",
       "      <td>2332 days 03:55:46.704863999</td>\n",
       "      <td>2018-04-23 03:55:46.704863999</td>\n",
       "      <td>2332 days 03:55:46.704863999</td>\n",
       "      <td>1</td>\n",
       "    </tr>\n",
       "  </tbody>\n",
       "</table>\n",
       "</div>"
      ],
      "text/plain": [
       "      first_visit  HbA1c% datetime_leida  is_male   GGT  Reticulocyte Count  \\\n",
       "pid                                                                           \n",
       "3485   2010-09-05     6.0     1946-04-02      0.0  11.0                62.4   \n",
       "11430  2011-09-18     6.0     1942-04-25      1.0  16.0                74.5   \n",
       "24485  2011-07-10     5.0     1943-02-24      1.0  19.0               107.6   \n",
       "47490  2008-08-06     6.0     1940-05-27      1.0  32.0                51.5   \n",
       "52237  2011-12-04     4.3     1950-05-13      1.0  21.0                85.0   \n",
       "\n",
       "        HDL  Triglycerides        diabetes_date  UKB_HbA1c  \\\n",
       "pid                                                          \n",
       "3485   48.0          129.0                  NaN   42.07665   \n",
       "11430  45.0           75.0                  NaN   42.07665   \n",
       "24485  49.0          144.0                  NaN   31.14765   \n",
       "47490  36.0           94.0                  NaN   42.07665   \n",
       "52237  40.0           89.0  2012-07-30 00:00:00   23.49735   \n",
       "\n",
       "       UKB_reticulocyte_count  dt_years                      dt_days  \\\n",
       "pid                                                                    \n",
       "3485                   0.0624  4.948440 1806 days 04:19:56.253475199   \n",
       "11430                  0.0745  8.435140 3078 days 19:49:40.453564800   \n",
       "24485                  0.1076  4.989826 1821 days 06:52:24.066278400   \n",
       "47490                  0.0515  8.121133 2964 days 05:07:22.252454400   \n",
       "52237                  0.0850  6.389490 2332 days 03:55:46.704863999   \n",
       "\n",
       "                         check_date                     final_dt  Y  \n",
       "pid                                                                  \n",
       "3485  2015-08-16 04:19:56.253475199 1806 days 04:19:56.253475199  0  \n",
       "11430 2019-12-31 00:00:00.000000000           3026 days 00:00:00  0  \n",
       "24485 2016-07-04 06:52:24.066278400 1821 days 06:52:24.066278400  0  \n",
       "47490 2016-09-17 05:07:22.252454400 2964 days 05:07:22.252454400  0  \n",
       "52237 2018-04-23 03:55:46.704863999 2332 days 03:55:46.704863999  1  "
      ]
     },
     "execution_count": 133,
     "metadata": {},
     "output_type": "execute_result"
    }
   ],
   "source": [
    "clalit_df.head()"
   ]
  },
  {
   "cell_type": "code",
   "execution_count": 134,
   "metadata": {
    "ExecuteTime": {
     "end_time": "2021-11-14T07:59:15.028043Z",
     "start_time": "2021-11-14T07:59:14.760406Z"
    }
   },
   "outputs": [
    {
     "data": {
      "text/plain": [
       "<AxesSubplot:>"
      ]
     },
     "execution_count": 134,
     "metadata": {},
     "output_type": "execute_result"
    },
    {
     "data": {
      "image/png": "[encoded data removed]",
      "text/plain": [
       "<Figure size 432x288 with 1 Axes>"
      ]
     },
     "metadata": {
      "needs_background": "light"
     },
     "output_type": "display_data"
    }
   ],
   "source": [
    "clalit_df.loc[clalit_df[\"GGT\"]<clalit_df[\"GGT\"].quantile(0.95),\"GGT\"].hist()"
   ]
  },
  {
   "cell_type": "code",
   "execution_count": 135,
   "metadata": {
    "ExecuteTime": {
     "end_time": "2021-11-14T07:59:15.061964Z",
     "start_time": "2021-11-14T07:59:15.030760Z"
    }
   },
   "outputs": [
    {
     "data": {
      "text/plain": [
       "Index(['first_visit', 'HbA1c%', 'datetime_leida', 'is_male', 'GGT',\n",
       "       'Reticulocyte Count', 'HDL', 'Triglycerides', 'diabetes_date',\n",
       "       'UKB_HbA1c', 'UKB_reticulocyte_count', 'dt_years', 'dt_days',\n",
       "       'check_date', 'final_dt', 'Y'],\n",
       "      dtype='object')"
      ]
     },
     "execution_count": 135,
     "metadata": {},
     "output_type": "execute_result"
    }
   ],
   "source": [
    "clalit_df.columns"
   ]
  },
  {
   "cell_type": "code",
   "execution_count": 136,
   "metadata": {
    "ExecuteTime": {
     "end_time": "2021-11-14T07:59:15.093713Z",
     "start_time": "2021-11-14T07:59:15.064668Z"
    }
   },
   "outputs": [],
   "source": [
    "clalit_df[\"UKB_Triglycerides\"]=clalit_df[\"Triglycerides\"]*0.01129"
   ]
  },
  {
   "cell_type": "code",
   "execution_count": 137,
   "metadata": {
    "ExecuteTime": {
     "end_time": "2021-11-14T07:59:15.123792Z",
     "start_time": "2021-11-14T07:59:15.095887Z"
    }
   },
   "outputs": [],
   "source": [
    "clalit_df[\"UKB_HDL\"]=clalit_df[\"HDL\"]*0.02586"
   ]
  },
  {
   "cell_type": "code",
   "execution_count": 138,
   "metadata": {
    "ExecuteTime": {
     "end_time": "2021-11-14T07:59:15.152403Z",
     "start_time": "2021-11-14T07:59:15.125884Z"
    }
   },
   "outputs": [],
   "source": [
    "rel_cols=[x for x in clalit_df.columns if x!=\"diabetes_date\"]"
   ]
  },
  {
   "cell_type": "code",
   "execution_count": 139,
   "metadata": {
    "ExecuteTime": {
     "end_time": "2021-11-14T07:59:15.189505Z",
     "start_time": "2021-11-14T07:59:15.154721Z"
    }
   },
   "outputs": [],
   "source": [
    "non_na_ind=clalit_df[rel_cols].dropna(how=\"any\").index"
   ]
  },
  {
   "cell_type": "code",
   "execution_count": 140,
   "metadata": {
    "ExecuteTime": {
     "end_time": "2021-11-14T07:59:15.219641Z",
     "start_time": "2021-11-14T07:59:15.191743Z"
    }
   },
   "outputs": [],
   "source": [
    "final_df=clalit_df.loc[non_na_ind,:]"
   ]
  },
  {
   "cell_type": "code",
   "execution_count": 141,
   "metadata": {
    "ExecuteTime": {
     "end_time": "2021-11-14T07:59:15.254627Z",
     "start_time": "2021-11-14T07:59:15.221923Z"
    }
   },
   "outputs": [
    {
     "data": {
      "text/plain": [
       "first_visit                 0\n",
       "HbA1c%                      0\n",
       "datetime_leida              0\n",
       "is_male                     0\n",
       "GGT                         0\n",
       "Reticulocyte Count          0\n",
       "HDL                         0\n",
       "Triglycerides               0\n",
       "diabetes_date             822\n",
       "UKB_HbA1c                   0\n",
       "UKB_reticulocyte_count      0\n",
       "dt_years                    0\n",
       "dt_days                     0\n",
       "check_date                  0\n",
       "final_dt                    0\n",
       "Y                           0\n",
       "UKB_Triglycerides           0\n",
       "UKB_HDL                     0\n",
       "dtype: int64"
      ]
     },
     "execution_count": 141,
     "metadata": {},
     "output_type": "execute_result"
    }
   ],
   "source": [
    "final_df.isna().sum()"
   ]
  },
  {
   "cell_type": "markdown",
   "metadata": {},
   "source": [
    "# Build scoreboard"
   ]
  },
  {
   "cell_type": "code",
   "execution_count": 142,
   "metadata": {
    "ExecuteTime": {
     "end_time": "2021-11-14T07:59:15.534574Z",
     "start_time": "2021-11-14T07:59:15.256694Z"
    }
   },
   "outputs": [
    {
     "data": {
      "text/plain": [
       "<AxesSubplot:>"
      ]
     },
     "execution_count": 142,
     "metadata": {},
     "output_type": "execute_result"
    },
    {
     "data": {
      "image/png": "[encoded data removed]",
      "text/plain": [
       "<Figure size 432x288 with 1 Axes>"
      ]
     },
     "metadata": {
      "needs_background": "light"
     },
     "output_type": "display_data"
    }
   ],
   "source": [
    "final_df[\"is_male\"].hist()"
   ]
  },
  {
   "cell_type": "code",
   "execution_count": 143,
   "metadata": {
    "ExecuteTime": {
     "end_time": "2021-11-14T07:59:15.572125Z",
     "start_time": "2021-11-14T07:59:15.537258Z"
    }
   },
   "outputs": [],
   "source": [
    "def check_sex(row):\n",
    "    if row[\"is_male\"]==1:\n",
    "        return 4\n",
    "    elif row[\"is_male\"]==0:\n",
    "        return 0\n",
    "    else:\n",
    "        print(\"is_male should be 0 or 1\")"
   ]
  },
  {
   "cell_type": "code",
   "execution_count": 144,
   "metadata": {
    "ExecuteTime": {
     "end_time": "2021-11-14T07:59:15.847894Z",
     "start_time": "2021-11-14T07:59:15.580867Z"
    }
   },
   "outputs": [
    {
     "data": {
      "text/plain": [
       "<AxesSubplot:ylabel='Frequency'>"
      ]
     },
     "execution_count": 144,
     "metadata": {},
     "output_type": "execute_result"
    },
    {
     "data": {
      "image/png": "[encoded data removed]",
      "text/plain": [
       "<Figure size 432x288 with 1 Axes>"
      ]
     },
     "metadata": {
      "needs_background": "light"
     },
     "output_type": "display_data"
    }
   ],
   "source": [
    "(final_df[\"final_dt\"].astype('timedelta64[D]')/365).plot.hist()"
   ]
  },
  {
   "cell_type": "code",
   "execution_count": 145,
   "metadata": {
    "ExecuteTime": {
     "end_time": "2021-11-14T07:59:15.884069Z",
     "start_time": "2021-11-14T07:59:15.851880Z"
    }
   },
   "outputs": [],
   "source": [
    "def check_dt(row):\n",
    "    factor=365\n",
    "    dt=row[\"final_dt\"]\n",
    "    if dt<=timedelta(days=factor*5):\n",
    "        return 0\n",
    "    elif dt<=timedelta(days=factor*6):\n",
    "        return 8\n",
    "    elif dt<=timedelta(days=factor*8):\n",
    "        return 11\n",
    "    elif dt<=timedelta(days=factor*9):\n",
    "        return 12\n",
    "    elif dt<=timedelta(days=factor*10):\n",
    "        return 16\n",
    "    elif dt>timedelta(days=factor*10):\n",
    "        return 21\n",
    "    else:\n",
    "        print(\"dt must be a timedelta object\")\n",
    "        return None"
   ]
  },
  {
   "cell_type": "code",
   "execution_count": 146,
   "metadata": {
    "ExecuteTime": {
     "end_time": "2021-11-14T07:59:16.179246Z",
     "start_time": "2021-11-14T07:59:15.886365Z"
    }
   },
   "outputs": [
    {
     "data": {
      "text/plain": [
       "<AxesSubplot:>"
      ]
     },
     "execution_count": 146,
     "metadata": {},
     "output_type": "execute_result"
    },
    {
     "data": {
      "image/png": "[encoded data removed]",
      "text/plain": [
       "<Figure size 432x288 with 1 Axes>"
      ]
     },
     "metadata": {
      "needs_background": "light"
     },
     "output_type": "display_data"
    }
   ],
   "source": [
    "final_df[\"UKB_HbA1c\"].hist()"
   ]
  },
  {
   "cell_type": "code",
   "execution_count": 147,
   "metadata": {
    "ExecuteTime": {
     "end_time": "2021-11-14T07:59:16.216965Z",
     "start_time": "2021-11-14T07:59:16.182203Z"
    }
   },
   "outputs": [],
   "source": [
    "def check_a1c(row):\n",
    "    val=row[\"UKB_HbA1c\"]\n",
    "    if val<=30.7:\n",
    "        return 0\n",
    "    elif val<=32.4:\n",
    "        return 11\n",
    "    elif val<=33.6:\n",
    "        return 16\n",
    "    elif val<=34.6:\n",
    "        return 18\n",
    "    elif val<=35.7:\n",
    "        return 27\n",
    "    elif val<=36.9:\n",
    "        return 32\n",
    "    elif val<=38.5:\n",
    "        return 39\n",
    "    elif val>38.5:\n",
    "        return 58\n",
    "    else:\n",
    "        print(\"a1c is not in any range\")\n",
    "        return None"
   ]
  },
  {
   "cell_type": "code",
   "execution_count": 148,
   "metadata": {
    "ExecuteTime": {
     "end_time": "2021-11-14T07:59:16.505321Z",
     "start_time": "2021-11-14T07:59:16.219597Z"
    }
   },
   "outputs": [
    {
     "data": {
      "text/plain": [
       "<AxesSubplot:>"
      ]
     },
     "execution_count": 148,
     "metadata": {},
     "output_type": "execute_result"
    },
    {
     "data": {
      "image/png": "[encoded data removed]",
      "text/plain": [
       "<Figure size 432x288 with 1 Axes>"
      ]
     },
     "metadata": {
      "needs_background": "light"
     },
     "output_type": "display_data"
    }
   ],
   "source": [
    "final_df[\"UKB_HDL\"].hist()"
   ]
  },
  {
   "cell_type": "code",
   "execution_count": 149,
   "metadata": {
    "ExecuteTime": {
     "end_time": "2021-11-14T07:59:16.538542Z",
     "start_time": "2021-11-14T07:59:16.507508Z"
    }
   },
   "outputs": [],
   "source": [
    "def check_hdl(row):\n",
    "    val=row[\"UKB_HDL\"]\n",
    "    if val<=1.1:\n",
    "        return 27\n",
    "    elif val<=1.3:\n",
    "        return 19\n",
    "    elif val<=1.4:\n",
    "        return 18\n",
    "    elif val<=1.5:\n",
    "        return 14\n",
    "    elif val<=1.6:\n",
    "        return 12\n",
    "    elif val<=1.9:\n",
    "        return 9 \n",
    "    elif val>1.9:\n",
    "        return 0\n",
    "    else:\n",
    "        print(\"HDL is not in any range\")\n",
    "        return None"
   ]
  },
  {
   "cell_type": "code",
   "execution_count": 150,
   "metadata": {
    "ExecuteTime": {
     "end_time": "2021-11-14T07:59:16.807552Z",
     "start_time": "2021-11-14T07:59:16.540988Z"
    }
   },
   "outputs": [
    {
     "data": {
      "text/plain": [
       "<AxesSubplot:>"
      ]
     },
     "execution_count": 150,
     "metadata": {},
     "output_type": "execute_result"
    },
    {
     "data": {
      "image/png": "[encoded data removed]",
      "text/plain": [
       "<Figure size 432x288 with 1 Axes>"
      ]
     },
     "metadata": {
      "needs_background": "light"
     },
     "output_type": "display_data"
    }
   ],
   "source": [
    "final_df.loc[final_df[\"GGT\"]<final_df[\"GGT\"].quantile(0.95),\"GGT\"].hist()"
   ]
  },
  {
   "cell_type": "code",
   "execution_count": 151,
   "metadata": {
    "ExecuteTime": {
     "end_time": "2021-11-14T07:59:16.841346Z",
     "start_time": "2021-11-14T07:59:16.809752Z"
    }
   },
   "outputs": [],
   "source": [
    "def check_ggt(row):\n",
    "    val=row[\"GGT\"]\n",
    "    if val<=14.8:\n",
    "        return 0\n",
    "    elif val<=18:\n",
    "        return 7\n",
    "    elif val<=21.4:\n",
    "        return 11\n",
    "    elif val<=25.3:\n",
    "        return 12\n",
    "    elif val<=30.4:\n",
    "        return 16\n",
    "    elif val<=37.7:\n",
    "        return 20\n",
    "    elif val<=53.3:\n",
    "        return 22\n",
    "    elif val>53.3:\n",
    "        return 24\n",
    "    else:\n",
    "        print(\"GGT is not in any range\")\n",
    "        return None"
   ]
  },
  {
   "cell_type": "code",
   "execution_count": 152,
   "metadata": {
    "ExecuteTime": {
     "end_time": "2021-11-14T07:59:17.131816Z",
     "start_time": "2021-11-14T07:59:16.844147Z"
    }
   },
   "outputs": [
    {
     "data": {
      "text/plain": [
       "<AxesSubplot:>"
      ]
     },
     "execution_count": 152,
     "metadata": {},
     "output_type": "execute_result"
    },
    {
     "data": {
      "image/png": "[encoded data removed]",
      "text/plain": [
       "<Figure size 432x288 with 1 Axes>"
      ]
     },
     "metadata": {
      "needs_background": "light"
     },
     "output_type": "display_data"
    }
   ],
   "source": [
    "final_df.loc[final_df[\"UKB_reticulocyte_count\"]<final_df[\"UKB_reticulocyte_count\"].quantile(0.95),\"UKB_reticulocyte_count\"].hist()"
   ]
  },
  {
   "cell_type": "code",
   "execution_count": 153,
   "metadata": {
    "ExecuteTime": {
     "end_time": "2021-11-14T07:59:17.167927Z",
     "start_time": "2021-11-14T07:59:17.134025Z"
    }
   },
   "outputs": [],
   "source": [
    "def check_reticulocyte(row):\n",
    "    val=row[\"UKB_reticulocyte_count\"]\n",
    "    if val<=0.035:\n",
    "        return 0\n",
    "    elif val<=0.043:\n",
    "        return 5\n",
    "    elif val<=0.051:\n",
    "        return 7\n",
    "    elif val<=0.058:\n",
    "        return 11\n",
    "    elif val<=0.067:\n",
    "        return 14\n",
    "    elif val<=0.081:\n",
    "        return 17\n",
    "    elif val>0.081:\n",
    "        return 22\n",
    "    else:\n",
    "        print(\"reticulocyte is not in any range\")\n",
    "        return None"
   ]
  },
  {
   "cell_type": "code",
   "execution_count": 154,
   "metadata": {
    "ExecuteTime": {
     "end_time": "2021-11-14T07:59:17.427892Z",
     "start_time": "2021-11-14T07:59:17.170406Z"
    }
   },
   "outputs": [
    {
     "data": {
      "text/plain": [
       "<AxesSubplot:>"
      ]
     },
     "execution_count": 154,
     "metadata": {},
     "output_type": "execute_result"
    },
    {
     "data": {
      "image/png": "[encoded data removed]",
      "text/plain": [
       "<Figure size 432x288 with 1 Axes>"
      ]
     },
     "metadata": {
      "needs_background": "light"
     },
     "output_type": "display_data"
    }
   ],
   "source": [
    "final_df.loc[final_df[\"UKB_Triglycerides\"]<final_df[\"UKB_Triglycerides\"].quantile(0.95),\"UKB_Triglycerides\"].hist()"
   ]
  },
  {
   "cell_type": "code",
   "execution_count": 155,
   "metadata": {
    "ExecuteTime": {
     "end_time": "2021-11-14T07:59:17.460806Z",
     "start_time": "2021-11-14T07:59:17.430205Z"
    }
   },
   "outputs": [],
   "source": [
    "def check_triglycerides(row):\n",
    "    val=row[\"UKB_Triglycerides\"]\n",
    "    if val<=0.89:\n",
    "        return 0\n",
    "    elif val<=1.2:\n",
    "        return 3\n",
    "    elif val<=1.4:\n",
    "        return 4\n",
    "    elif val<=1.8:\n",
    "        return 6\n",
    "    elif val<=2.4:\n",
    "        return 7\n",
    "    elif val>2.4:\n",
    "        return 9\n",
    "    else:\n",
    "        print(\"triglycerides is not in any range\")\n",
    "        return None"
   ]
  },
  {
   "cell_type": "code",
   "execution_count": 156,
   "metadata": {
    "ExecuteTime": {
     "end_time": "2021-11-14T07:59:17.490421Z",
     "start_time": "2021-11-14T07:59:17.463090Z"
    }
   },
   "outputs": [],
   "source": [
    "def scoreboard_score(row):\n",
    "#     print(row)\n",
    "    tot_sum=0\n",
    "    func_list=[check_sex,check_dt,check_a1c,check_hdl,check_ggt,check_reticulocyte,check_triglycerides]\n",
    "    for func in func_list:\n",
    "        tot_sum+=func(row)\n",
    "    return tot_sum"
   ]
  },
  {
   "cell_type": "code",
   "execution_count": 157,
   "metadata": {
    "ExecuteTime": {
     "end_time": "2021-11-14T07:59:17.526178Z",
     "start_time": "2021-11-14T07:59:17.492531Z"
    }
   },
   "outputs": [
    {
     "data": {
      "text/plain": [
       "first_visit                 0\n",
       "HbA1c%                      0\n",
       "datetime_leida              0\n",
       "is_male                     0\n",
       "GGT                         0\n",
       "Reticulocyte Count          0\n",
       "HDL                         0\n",
       "Triglycerides               0\n",
       "diabetes_date             822\n",
       "UKB_HbA1c                   0\n",
       "UKB_reticulocyte_count      0\n",
       "dt_years                    0\n",
       "dt_days                     0\n",
       "check_date                  0\n",
       "final_dt                    0\n",
       "Y                           0\n",
       "UKB_Triglycerides           0\n",
       "UKB_HDL                     0\n",
       "dtype: int64"
      ]
     },
     "execution_count": 157,
     "metadata": {},
     "output_type": "execute_result"
    }
   ],
   "source": [
    "final_df.isna().sum()"
   ]
  },
  {
   "cell_type": "markdown",
   "metadata": {},
   "source": [
    "## Save Final DF"
   ]
  },
  {
   "cell_type": "code",
   "execution_count": 158,
   "metadata": {
    "ExecuteTime": {
     "end_time": "2021-11-14T07:59:17.780319Z",
     "start_time": "2021-11-14T07:59:17.528654Z"
    },
    "scrolled": false
   },
   "outputs": [],
   "source": [
    "final_df[\"score\"]=final_df.apply(scoreboard_score,axis=1)"
   ]
  },
  {
   "cell_type": "code",
   "execution_count": 159,
   "metadata": {
    "ExecuteTime": {
     "end_time": "2021-11-14T07:59:17.929111Z",
     "start_time": "2021-11-14T07:59:17.782635Z"
    }
   },
   "outputs": [],
   "source": [
    "final_df.to_csv(save_final_df_path)"
   ]
  },
  {
   "cell_type": "code",
   "execution_count": 160,
   "metadata": {
    "ExecuteTime": {
     "end_time": "2021-11-14T07:59:18.199863Z",
     "start_time": "2021-11-14T07:59:17.931337Z"
    }
   },
   "outputs": [
    {
     "data": {
      "text/plain": [
       "<AxesSubplot:>"
      ]
     },
     "execution_count": 160,
     "metadata": {},
     "output_type": "execute_result"
    },
    {
     "data": {
      "image/png": "[encoded data removed]",
      "text/plain": [
       "<Figure size 432x288 with 1 Axes>"
      ]
     },
     "metadata": {
      "needs_background": "light"
     },
     "output_type": "display_data"
    }
   ],
   "source": [
    "final_df[\"score\"].hist()"
   ]
  },
  {
   "cell_type": "code",
   "execution_count": 161,
   "metadata": {
    "ExecuteTime": {
     "end_time": "2021-11-14T07:59:18.262728Z",
     "start_time": "2021-11-14T07:59:18.202077Z"
    }
   },
   "outputs": [
    {
     "data": {
      "text/html": [
       "<div>\n",
       "<style scoped>\n",
       "    .dataframe tbody tr th:only-of-type {\n",
       "        vertical-align: middle;\n",
       "    }\n",
       "\n",
       "    .dataframe tbody tr th {\n",
       "        vertical-align: top;\n",
       "    }\n",
       "\n",
       "    .dataframe thead th {\n",
       "        text-align: right;\n",
       "    }\n",
       "</style>\n",
       "<table border=\"1\" class=\"dataframe\">\n",
       "  <thead>\n",
       "    <tr style=\"text-align: right;\">\n",
       "      <th></th>\n",
       "      <th>first_visit</th>\n",
       "      <th>HbA1c%</th>\n",
       "      <th>datetime_leida</th>\n",
       "      <th>is_male</th>\n",
       "      <th>GGT</th>\n",
       "      <th>Reticulocyte Count</th>\n",
       "      <th>HDL</th>\n",
       "      <th>Triglycerides</th>\n",
       "      <th>diabetes_date</th>\n",
       "      <th>UKB_HbA1c</th>\n",
       "      <th>UKB_reticulocyte_count</th>\n",
       "      <th>dt_years</th>\n",
       "      <th>dt_days</th>\n",
       "      <th>check_date</th>\n",
       "      <th>final_dt</th>\n",
       "      <th>Y</th>\n",
       "      <th>UKB_Triglycerides</th>\n",
       "      <th>UKB_HDL</th>\n",
       "      <th>score</th>\n",
       "    </tr>\n",
       "    <tr>\n",
       "      <th>pid</th>\n",
       "      <th></th>\n",
       "      <th></th>\n",
       "      <th></th>\n",
       "      <th></th>\n",
       "      <th></th>\n",
       "      <th></th>\n",
       "      <th></th>\n",
       "      <th></th>\n",
       "      <th></th>\n",
       "      <th></th>\n",
       "      <th></th>\n",
       "      <th></th>\n",
       "      <th></th>\n",
       "      <th></th>\n",
       "      <th></th>\n",
       "      <th></th>\n",
       "      <th></th>\n",
       "      <th></th>\n",
       "      <th></th>\n",
       "    </tr>\n",
       "  </thead>\n",
       "  <tbody>\n",
       "    <tr>\n",
       "      <th>3485</th>\n",
       "      <td>2010-09-05</td>\n",
       "      <td>6.0</td>\n",
       "      <td>1946-04-02</td>\n",
       "      <td>0.0</td>\n",
       "      <td>11.0</td>\n",
       "      <td>62.4</td>\n",
       "      <td>48.0</td>\n",
       "      <td>129.0</td>\n",
       "      <td>NaN</td>\n",
       "      <td>42.07665</td>\n",
       "      <td>0.0624</td>\n",
       "      <td>4.948440</td>\n",
       "      <td>1806 days 04:19:56.253475199</td>\n",
       "      <td>2015-08-16 04:19:56.253475199</td>\n",
       "      <td>1806 days 04:19:56.253475199</td>\n",
       "      <td>0</td>\n",
       "      <td>1.45641</td>\n",
       "      <td>1.24128</td>\n",
       "      <td>97</td>\n",
       "    </tr>\n",
       "    <tr>\n",
       "      <th>11430</th>\n",
       "      <td>2011-09-18</td>\n",
       "      <td>6.0</td>\n",
       "      <td>1942-04-25</td>\n",
       "      <td>1.0</td>\n",
       "      <td>16.0</td>\n",
       "      <td>74.5</td>\n",
       "      <td>45.0</td>\n",
       "      <td>75.0</td>\n",
       "      <td>NaN</td>\n",
       "      <td>42.07665</td>\n",
       "      <td>0.0745</td>\n",
       "      <td>8.435140</td>\n",
       "      <td>3078 days 19:49:40.453564800</td>\n",
       "      <td>2019-12-31 00:00:00.000000000</td>\n",
       "      <td>3026 days 00:00:00</td>\n",
       "      <td>0</td>\n",
       "      <td>0.84675</td>\n",
       "      <td>1.16370</td>\n",
       "      <td>117</td>\n",
       "    </tr>\n",
       "    <tr>\n",
       "      <th>24485</th>\n",
       "      <td>2011-07-10</td>\n",
       "      <td>5.0</td>\n",
       "      <td>1943-02-24</td>\n",
       "      <td>1.0</td>\n",
       "      <td>19.0</td>\n",
       "      <td>107.6</td>\n",
       "      <td>49.0</td>\n",
       "      <td>144.0</td>\n",
       "      <td>NaN</td>\n",
       "      <td>31.14765</td>\n",
       "      <td>0.1076</td>\n",
       "      <td>4.989826</td>\n",
       "      <td>1821 days 06:52:24.066278400</td>\n",
       "      <td>2016-07-04 06:52:24.066278400</td>\n",
       "      <td>1821 days 06:52:24.066278400</td>\n",
       "      <td>0</td>\n",
       "      <td>1.62576</td>\n",
       "      <td>1.26714</td>\n",
       "      <td>73</td>\n",
       "    </tr>\n",
       "    <tr>\n",
       "      <th>47490</th>\n",
       "      <td>2008-08-06</td>\n",
       "      <td>6.0</td>\n",
       "      <td>1940-05-27</td>\n",
       "      <td>1.0</td>\n",
       "      <td>32.0</td>\n",
       "      <td>51.5</td>\n",
       "      <td>36.0</td>\n",
       "      <td>94.0</td>\n",
       "      <td>NaN</td>\n",
       "      <td>42.07665</td>\n",
       "      <td>0.0515</td>\n",
       "      <td>8.121133</td>\n",
       "      <td>2964 days 05:07:22.252454400</td>\n",
       "      <td>2016-09-17 05:07:22.252454400</td>\n",
       "      <td>2964 days 05:07:22.252454400</td>\n",
       "      <td>0</td>\n",
       "      <td>1.06126</td>\n",
       "      <td>0.93096</td>\n",
       "      <td>135</td>\n",
       "    </tr>\n",
       "    <tr>\n",
       "      <th>52237</th>\n",
       "      <td>2011-12-04</td>\n",
       "      <td>4.3</td>\n",
       "      <td>1950-05-13</td>\n",
       "      <td>1.0</td>\n",
       "      <td>21.0</td>\n",
       "      <td>85.0</td>\n",
       "      <td>40.0</td>\n",
       "      <td>89.0</td>\n",
       "      <td>2012-07-30 00:00:00</td>\n",
       "      <td>23.49735</td>\n",
       "      <td>0.0850</td>\n",
       "      <td>6.389490</td>\n",
       "      <td>2332 days 03:55:46.704863999</td>\n",
       "      <td>2018-04-23 03:55:46.704863999</td>\n",
       "      <td>2332 days 03:55:46.704863999</td>\n",
       "      <td>1</td>\n",
       "      <td>1.00481</td>\n",
       "      <td>1.03440</td>\n",
       "      <td>78</td>\n",
       "    </tr>\n",
       "  </tbody>\n",
       "</table>\n",
       "</div>"
      ],
      "text/plain": [
       "      first_visit  HbA1c% datetime_leida  is_male   GGT  Reticulocyte Count  \\\n",
       "pid                                                                           \n",
       "3485   2010-09-05     6.0     1946-04-02      0.0  11.0                62.4   \n",
       "11430  2011-09-18     6.0     1942-04-25      1.0  16.0                74.5   \n",
       "24485  2011-07-10     5.0     1943-02-24      1.0  19.0               107.6   \n",
       "47490  2008-08-06     6.0     1940-05-27      1.0  32.0                51.5   \n",
       "52237  2011-12-04     4.3     1950-05-13      1.0  21.0                85.0   \n",
       "\n",
       "        HDL  Triglycerides        diabetes_date  UKB_HbA1c  \\\n",
       "pid                                                          \n",
       "3485   48.0          129.0                  NaN   42.07665   \n",
       "11430  45.0           75.0                  NaN   42.07665   \n",
       "24485  49.0          144.0                  NaN   31.14765   \n",
       "47490  36.0           94.0                  NaN   42.07665   \n",
       "52237  40.0           89.0  2012-07-30 00:00:00   23.49735   \n",
       "\n",
       "       UKB_reticulocyte_count  dt_years                      dt_days  \\\n",
       "pid                                                                    \n",
       "3485                   0.0624  4.948440 1806 days 04:19:56.253475199   \n",
       "11430                  0.0745  8.435140 3078 days 19:49:40.453564800   \n",
       "24485                  0.1076  4.989826 1821 days 06:52:24.066278400   \n",
       "47490                  0.0515  8.121133 2964 days 05:07:22.252454400   \n",
       "52237                  0.0850  6.389490 2332 days 03:55:46.704863999   \n",
       "\n",
       "                         check_date                     final_dt  Y  \\\n",
       "pid                                                                   \n",
       "3485  2015-08-16 04:19:56.253475199 1806 days 04:19:56.253475199  0   \n",
       "11430 2019-12-31 00:00:00.000000000           3026 days 00:00:00  0   \n",
       "24485 2016-07-04 06:52:24.066278400 1821 days 06:52:24.066278400  0   \n",
       "47490 2016-09-17 05:07:22.252454400 2964 days 05:07:22.252454400  0   \n",
       "52237 2018-04-23 03:55:46.704863999 2332 days 03:55:46.704863999  1   \n",
       "\n",
       "       UKB_Triglycerides  UKB_HDL  score  \n",
       "pid                                       \n",
       "3485             1.45641  1.24128     97  \n",
       "11430            0.84675  1.16370    117  \n",
       "24485            1.62576  1.26714     73  \n",
       "47490            1.06126  0.93096    135  \n",
       "52237            1.00481  1.03440     78  "
      ]
     },
     "execution_count": 161,
     "metadata": {},
     "output_type": "execute_result"
    }
   ],
   "source": [
    "final_df.head()"
   ]
  },
  {
   "cell_type": "markdown",
   "metadata": {},
   "source": [
    "# ROC and APS"
   ]
  },
  {
   "cell_type": "code",
   "execution_count": 162,
   "metadata": {
    "ExecuteTime": {
     "end_time": "2021-11-14T07:59:18.584093Z",
     "start_time": "2021-11-14T07:59:18.265804Z"
    }
   },
   "outputs": [
    {
     "data": {
      "image/png": "[encoded data removed]",
      "text/plain": [
       "<Figure size 432x288 with 1 Axes>"
      ]
     },
     "metadata": {
      "needs_background": "light"
     },
     "output_type": "display_data"
    }
   ],
   "source": [
    "from sklearn.metrics import PrecisionRecallDisplay,RocCurveDisplay\n",
    "PR_disp=PrecisionRecallDisplay.from_predictions(final_df[\"Y\"],final_df[\"score\"])\n",
    "_ = PR_disp.ax_.set_title(\"2-class Precision-Recall curve\")"
   ]
  },
  {
   "cell_type": "code",
   "execution_count": 163,
   "metadata": {
    "ExecuteTime": {
     "end_time": "2021-11-14T07:59:18.888631Z",
     "start_time": "2021-11-14T07:59:18.587122Z"
    }
   },
   "outputs": [
    {
     "data": {
      "image/png": "[encoded data removed]",
      "text/plain": [
       "<Figure size 432x288 with 1 Axes>"
      ]
     },
     "metadata": {
      "needs_background": "light"
     },
     "output_type": "display_data"
    }
   ],
   "source": [
    "ROC_disp=RocCurveDisplay.from_predictions(final_df[\"Y\"],final_df[\"score\"])\n",
    "_ = ROC_disp.ax_.set_title(\"2-class ROC\")"
   ]
  },
  {
   "cell_type": "code",
   "execution_count": 164,
   "metadata": {
    "ExecuteTime": {
     "end_time": "2021-11-14T07:59:18.928565Z",
     "start_time": "2021-11-14T07:59:18.891780Z"
    }
   },
   "outputs": [
    {
     "data": {
      "text/plain": [
       "Index(['first_visit', 'HbA1c%', 'datetime_leida', 'is_male', 'GGT',\n",
       "       'Reticulocyte Count', 'HDL', 'Triglycerides', 'diabetes_date',\n",
       "       'UKB_HbA1c', 'UKB_reticulocyte_count', 'dt_years', 'dt_days',\n",
       "       'check_date', 'final_dt', 'Y', 'UKB_Triglycerides', 'UKB_HDL', 'score'],\n",
       "      dtype='object')"
      ]
     },
     "execution_count": 164,
     "metadata": {},
     "output_type": "execute_result"
    }
   ],
   "source": [
    "final_df.columns"
   ]
  },
  {
   "cell_type": "code",
   "execution_count": 165,
   "metadata": {
    "ExecuteTime": {
     "end_time": "2021-11-14T07:59:18.962904Z",
     "start_time": "2021-11-14T07:59:18.930762Z"
    }
   },
   "outputs": [],
   "source": [
    "view_df=final_df.loc[:,['first_visit',\"diabetes_date\",'final_dt','check_date','Y','score']].sort_values(by=\"score\")"
   ]
  },
  {
   "cell_type": "code",
   "execution_count": 166,
   "metadata": {
    "ExecuteTime": {
     "end_time": "2021-11-14T07:59:18.994688Z",
     "start_time": "2021-11-14T07:59:18.965489Z"
    }
   },
   "outputs": [],
   "source": [
    "final_df=final_df.sort_values(by=\"score\")"
   ]
  },
  {
   "cell_type": "code",
   "execution_count": 167,
   "metadata": {
    "ExecuteTime": {
     "end_time": "2021-11-14T07:59:19.126885Z",
     "start_time": "2021-11-14T07:59:18.997007Z"
    }
   },
   "outputs": [
    {
     "data": {
      "text/html": [
       "<div>\n",
       "<style scoped>\n",
       "    .dataframe tbody tr th:only-of-type {\n",
       "        vertical-align: middle;\n",
       "    }\n",
       "\n",
       "    .dataframe tbody tr th {\n",
       "        vertical-align: top;\n",
       "    }\n",
       "\n",
       "    .dataframe thead th {\n",
       "        text-align: right;\n",
       "    }\n",
       "</style>\n",
       "<table border=\"1\" class=\"dataframe\">\n",
       "  <thead>\n",
       "    <tr style=\"text-align: right;\">\n",
       "      <th></th>\n",
       "      <th>first_visit</th>\n",
       "      <th>HbA1c%</th>\n",
       "      <th>datetime_leida</th>\n",
       "      <th>is_male</th>\n",
       "      <th>GGT</th>\n",
       "      <th>Reticulocyte Count</th>\n",
       "      <th>HDL</th>\n",
       "      <th>Triglycerides</th>\n",
       "      <th>diabetes_date</th>\n",
       "      <th>UKB_HbA1c</th>\n",
       "      <th>UKB_reticulocyte_count</th>\n",
       "      <th>dt_years</th>\n",
       "      <th>dt_days</th>\n",
       "      <th>check_date</th>\n",
       "      <th>final_dt</th>\n",
       "      <th>Y</th>\n",
       "      <th>UKB_Triglycerides</th>\n",
       "      <th>UKB_HDL</th>\n",
       "      <th>score</th>\n",
       "    </tr>\n",
       "    <tr>\n",
       "      <th>pid</th>\n",
       "      <th></th>\n",
       "      <th></th>\n",
       "      <th></th>\n",
       "      <th></th>\n",
       "      <th></th>\n",
       "      <th></th>\n",
       "      <th></th>\n",
       "      <th></th>\n",
       "      <th></th>\n",
       "      <th></th>\n",
       "      <th></th>\n",
       "      <th></th>\n",
       "      <th></th>\n",
       "      <th></th>\n",
       "      <th></th>\n",
       "      <th></th>\n",
       "      <th></th>\n",
       "      <th></th>\n",
       "      <th></th>\n",
       "    </tr>\n",
       "  </thead>\n",
       "  <tbody>\n",
       "    <tr>\n",
       "      <th>4606911</th>\n",
       "      <td>2006-10-05</td>\n",
       "      <td>4.70</td>\n",
       "      <td>1965-06-27</td>\n",
       "      <td>0.0</td>\n",
       "      <td>13.0</td>\n",
       "      <td>0.091700</td>\n",
       "      <td>39.0</td>\n",
       "      <td>146.0</td>\n",
       "      <td>2007-02-09 00:00:00</td>\n",
       "      <td>27.868948</td>\n",
       "      <td>0.000092</td>\n",
       "      <td>4.726958</td>\n",
       "      <td>1725 days 08:09:18.346320</td>\n",
       "      <td>2011-06-26 08:09:18.346320000</td>\n",
       "      <td>1725 days 08:09:18.346320</td>\n",
       "      <td>1</td>\n",
       "      <td>1.64834</td>\n",
       "      <td>1.00854</td>\n",
       "      <td>33</td>\n",
       "    </tr>\n",
       "    <tr>\n",
       "      <th>4427284</th>\n",
       "      <td>2008-11-04</td>\n",
       "      <td>4.40</td>\n",
       "      <td>1962-12-31</td>\n",
       "      <td>0.0</td>\n",
       "      <td>12.0</td>\n",
       "      <td>86.700000</td>\n",
       "      <td>54.0</td>\n",
       "      <td>51.0</td>\n",
       "      <td>2012-01-30 00:00:00</td>\n",
       "      <td>24.590250</td>\n",
       "      <td>0.086700</td>\n",
       "      <td>4.123987</td>\n",
       "      <td>1505 days 06:07:49.264060800</td>\n",
       "      <td>2012-12-18 06:07:49.264060800</td>\n",
       "      <td>1505 days 06:07:49.264060800</td>\n",
       "      <td>1</td>\n",
       "      <td>0.57579</td>\n",
       "      <td>1.39644</td>\n",
       "      <td>40</td>\n",
       "    </tr>\n",
       "    <tr>\n",
       "      <th>2893236</th>\n",
       "      <td>2009-09-16</td>\n",
       "      <td>4.90</td>\n",
       "      <td>1950-02-12</td>\n",
       "      <td>0.0</td>\n",
       "      <td>13.0</td>\n",
       "      <td>0.071900</td>\n",
       "      <td>37.0</td>\n",
       "      <td>210.0</td>\n",
       "      <td>2013-04-12 00:00:00</td>\n",
       "      <td>30.054750</td>\n",
       "      <td>0.000072</td>\n",
       "      <td>6.198659</td>\n",
       "      <td>2262 days 12:14:57.327158399</td>\n",
       "      <td>2015-11-26 12:14:57.327158399</td>\n",
       "      <td>2262 days 12:14:57.327158399</td>\n",
       "      <td>1</td>\n",
       "      <td>2.37090</td>\n",
       "      <td>0.95682</td>\n",
       "      <td>45</td>\n",
       "    </tr>\n",
       "    <tr>\n",
       "      <th>7691140</th>\n",
       "      <td>2008-05-22</td>\n",
       "      <td>5.20</td>\n",
       "      <td>1958-02-11</td>\n",
       "      <td>0.0</td>\n",
       "      <td>39.0</td>\n",
       "      <td>0.092000</td>\n",
       "      <td>58.0</td>\n",
       "      <td>59.0</td>\n",
       "      <td>2008-09-03 00:00:00</td>\n",
       "      <td>33.333450</td>\n",
       "      <td>0.000092</td>\n",
       "      <td>4.458980</td>\n",
       "      <td>1627 days 12:40:04.794787200</td>\n",
       "      <td>2012-11-04 12:40:04.794787200</td>\n",
       "      <td>1627 days 12:40:04.794787200</td>\n",
       "      <td>1</td>\n",
       "      <td>0.66611</td>\n",
       "      <td>1.49988</td>\n",
       "      <td>52</td>\n",
       "    </tr>\n",
       "    <tr>\n",
       "      <th>8592118</th>\n",
       "      <td>2009-01-20</td>\n",
       "      <td>5.50</td>\n",
       "      <td>1951-08-20</td>\n",
       "      <td>0.0</td>\n",
       "      <td>22.0</td>\n",
       "      <td>16.800000</td>\n",
       "      <td>78.0</td>\n",
       "      <td>81.0</td>\n",
       "      <td>2014-02-26 00:00:00</td>\n",
       "      <td>36.612150</td>\n",
       "      <td>0.016800</td>\n",
       "      <td>6.388788</td>\n",
       "      <td>2331 days 21:46:50.308348800</td>\n",
       "      <td>2015-06-09 21:46:50.308348800</td>\n",
       "      <td>2331 days 21:46:50.308348800</td>\n",
       "      <td>1</td>\n",
       "      <td>0.91449</td>\n",
       "      <td>2.01708</td>\n",
       "      <td>58</td>\n",
       "    </tr>\n",
       "    <tr>\n",
       "      <th>5110727</th>\n",
       "      <td>2011-12-15</td>\n",
       "      <td>5.20</td>\n",
       "      <td>1958-05-20</td>\n",
       "      <td>0.0</td>\n",
       "      <td>25.0</td>\n",
       "      <td>14.000000</td>\n",
       "      <td>57.0</td>\n",
       "      <td>123.0</td>\n",
       "      <td>2013-07-11 00:00:00</td>\n",
       "      <td>33.333450</td>\n",
       "      <td>0.014000</td>\n",
       "      <td>9.365612</td>\n",
       "      <td>3418 days 10:45:40.981708800</td>\n",
       "      <td>2019-12-31 00:00:00.000000000</td>\n",
       "      <td>2938 days 00:00:00</td>\n",
       "      <td>1</td>\n",
       "      <td>1.38867</td>\n",
       "      <td>1.47402</td>\n",
       "      <td>58</td>\n",
       "    </tr>\n",
       "    <tr>\n",
       "      <th>4303270</th>\n",
       "      <td>2008-01-03</td>\n",
       "      <td>4.90</td>\n",
       "      <td>1960-09-22</td>\n",
       "      <td>0.0</td>\n",
       "      <td>18.0</td>\n",
       "      <td>89.000000</td>\n",
       "      <td>60.0</td>\n",
       "      <td>208.0</td>\n",
       "      <td>2011-08-17 00:00:00</td>\n",
       "      <td>30.054750</td>\n",
       "      <td>0.089000</td>\n",
       "      <td>7.229129</td>\n",
       "      <td>2638 days 15:10:14.963750400</td>\n",
       "      <td>2015-03-25 15:10:14.963750400</td>\n",
       "      <td>2638 days 15:10:14.963750400</td>\n",
       "      <td>1</td>\n",
       "      <td>2.34832</td>\n",
       "      <td>1.55160</td>\n",
       "      <td>59</td>\n",
       "    </tr>\n",
       "    <tr>\n",
       "      <th>9211665</th>\n",
       "      <td>2008-04-30</td>\n",
       "      <td>4.90</td>\n",
       "      <td>1950-11-25</td>\n",
       "      <td>0.0</td>\n",
       "      <td>74.0</td>\n",
       "      <td>54.000000</td>\n",
       "      <td>47.0</td>\n",
       "      <td>74.0</td>\n",
       "      <td>2008-08-13 00:00:00</td>\n",
       "      <td>30.054750</td>\n",
       "      <td>0.054000</td>\n",
       "      <td>5.758828</td>\n",
       "      <td>2101 days 23:19:56.250825600</td>\n",
       "      <td>2014-01-30 23:19:56.250825600</td>\n",
       "      <td>2101 days 23:19:56.250825600</td>\n",
       "      <td>1</td>\n",
       "      <td>0.83546</td>\n",
       "      <td>1.21542</td>\n",
       "      <td>62</td>\n",
       "    </tr>\n",
       "    <tr>\n",
       "      <th>8010481</th>\n",
       "      <td>2008-02-25</td>\n",
       "      <td>4.90</td>\n",
       "      <td>1955-09-09</td>\n",
       "      <td>1.0</td>\n",
       "      <td>39.0</td>\n",
       "      <td>0.137200</td>\n",
       "      <td>53.0</td>\n",
       "      <td>173.0</td>\n",
       "      <td>2015-07-19 00:00:00</td>\n",
       "      <td>30.054750</td>\n",
       "      <td>0.000137</td>\n",
       "      <td>8.691372</td>\n",
       "      <td>3172 days 08:25:12.617817600</td>\n",
       "      <td>2016-11-01 08:25:12.617817600</td>\n",
       "      <td>3172 days 08:25:12.617817600</td>\n",
       "      <td>1</td>\n",
       "      <td>1.95317</td>\n",
       "      <td>1.37058</td>\n",
       "      <td>63</td>\n",
       "    </tr>\n",
       "    <tr>\n",
       "      <th>813015</th>\n",
       "      <td>2009-02-23</td>\n",
       "      <td>4.90</td>\n",
       "      <td>1947-02-13</td>\n",
       "      <td>1.0</td>\n",
       "      <td>23.0</td>\n",
       "      <td>120.000000</td>\n",
       "      <td>46.0</td>\n",
       "      <td>153.0</td>\n",
       "      <td>2010-04-11 00:00:00</td>\n",
       "      <td>30.054750</td>\n",
       "      <td>0.120000</td>\n",
       "      <td>3.087052</td>\n",
       "      <td>1126 days 18:34:36.620112</td>\n",
       "      <td>2012-03-25 18:34:36.620112000</td>\n",
       "      <td>1126 days 18:34:36.620112</td>\n",
       "      <td>1</td>\n",
       "      <td>1.72737</td>\n",
       "      <td>1.18956</td>\n",
       "      <td>63</td>\n",
       "    </tr>\n",
       "    <tr>\n",
       "      <th>5438362</th>\n",
       "      <td>2007-12-30</td>\n",
       "      <td>5.50</td>\n",
       "      <td>1950-07-05</td>\n",
       "      <td>0.0</td>\n",
       "      <td>17.0</td>\n",
       "      <td>38.200000</td>\n",
       "      <td>62.0</td>\n",
       "      <td>76.0</td>\n",
       "      <td>2008-06-10 00:00:00</td>\n",
       "      <td>36.612150</td>\n",
       "      <td>0.038200</td>\n",
       "      <td>6.411623</td>\n",
       "      <td>2340 days 05:48:49.921776</td>\n",
       "      <td>2014-05-27 05:48:49.921776000</td>\n",
       "      <td>2340 days 05:48:49.921776</td>\n",
       "      <td>1</td>\n",
       "      <td>0.85804</td>\n",
       "      <td>1.60332</td>\n",
       "      <td>64</td>\n",
       "    </tr>\n",
       "    <tr>\n",
       "      <th>3920361</th>\n",
       "      <td>2006-09-06</td>\n",
       "      <td>4.80</td>\n",
       "      <td>1954-01-30</td>\n",
       "      <td>0.0</td>\n",
       "      <td>123.0</td>\n",
       "      <td>0.056000</td>\n",
       "      <td>43.0</td>\n",
       "      <td>312.0</td>\n",
       "      <td>2009-05-28 00:00:00</td>\n",
       "      <td>28.961852</td>\n",
       "      <td>0.000056</td>\n",
       "      <td>8.465275</td>\n",
       "      <td>3089 days 19:48:19.196006400</td>\n",
       "      <td>2015-02-20 19:48:19.196006400</td>\n",
       "      <td>3089 days 19:48:19.196006400</td>\n",
       "      <td>1</td>\n",
       "      <td>3.52248</td>\n",
       "      <td>1.11198</td>\n",
       "      <td>64</td>\n",
       "    </tr>\n",
       "    <tr>\n",
       "      <th>4643222</th>\n",
       "      <td>2011-05-18</td>\n",
       "      <td>3.40</td>\n",
       "      <td>1967-08-11</td>\n",
       "      <td>1.0</td>\n",
       "      <td>15.0</td>\n",
       "      <td>51.000000</td>\n",
       "      <td>32.0</td>\n",
       "      <td>450.0</td>\n",
       "      <td>2014-09-22 00:00:00</td>\n",
       "      <td>13.661250</td>\n",
       "      <td>0.051000</td>\n",
       "      <td>6.743818</td>\n",
       "      <td>2461 days 11:50:48.447888</td>\n",
       "      <td>2018-02-11 11:50:48.447888000</td>\n",
       "      <td>2461 days 11:50:48.447888</td>\n",
       "      <td>1</td>\n",
       "      <td>5.08050</td>\n",
       "      <td>0.82752</td>\n",
       "      <td>65</td>\n",
       "    </tr>\n",
       "    <tr>\n",
       "      <th>4559617</th>\n",
       "      <td>2008-01-23</td>\n",
       "      <td>5.20</td>\n",
       "      <td>1965-04-04</td>\n",
       "      <td>0.0</td>\n",
       "      <td>10.0</td>\n",
       "      <td>63.000000</td>\n",
       "      <td>45.0</td>\n",
       "      <td>144.0</td>\n",
       "      <td>2014-10-22 00:00:00</td>\n",
       "      <td>33.333450</td>\n",
       "      <td>0.063000</td>\n",
       "      <td>8.201798</td>\n",
       "      <td>2993 days 15:45:17.015443200</td>\n",
       "      <td>2016-04-03 15:45:17.015443200</td>\n",
       "      <td>2993 days 15:45:17.015443200</td>\n",
       "      <td>1</td>\n",
       "      <td>1.62576</td>\n",
       "      <td>1.16370</td>\n",
       "      <td>67</td>\n",
       "    </tr>\n",
       "    <tr>\n",
       "      <th>4236337</th>\n",
       "      <td>2006-09-13</td>\n",
       "      <td>5.50</td>\n",
       "      <td>1960-04-01</td>\n",
       "      <td>0.0</td>\n",
       "      <td>12.0</td>\n",
       "      <td>34.000000</td>\n",
       "      <td>55.0</td>\n",
       "      <td>141.0</td>\n",
       "      <td>2012-02-20 00:00:00</td>\n",
       "      <td>36.612150</td>\n",
       "      <td>0.034000</td>\n",
       "      <td>9.223611</td>\n",
       "      <td>3366 days 14:50:04.766726400</td>\n",
       "      <td>2015-12-01 14:50:04.766726400</td>\n",
       "      <td>3366 days 14:50:04.766726400</td>\n",
       "      <td>1</td>\n",
       "      <td>1.59189</td>\n",
       "      <td>1.42230</td>\n",
       "      <td>68</td>\n",
       "    </tr>\n",
       "    <tr>\n",
       "      <th>296839</th>\n",
       "      <td>2006-11-13</td>\n",
       "      <td>4.90</td>\n",
       "      <td>1943-09-13</td>\n",
       "      <td>1.0</td>\n",
       "      <td>49.0</td>\n",
       "      <td>0.154000</td>\n",
       "      <td>33.0</td>\n",
       "      <td>95.0</td>\n",
       "      <td>2007-10-21 00:00:00</td>\n",
       "      <td>30.054751</td>\n",
       "      <td>0.000154</td>\n",
       "      <td>8.371148</td>\n",
       "      <td>3055 days 11:15:08.215257600</td>\n",
       "      <td>2015-03-26 11:15:08.215257600</td>\n",
       "      <td>3055 days 11:15:08.215257600</td>\n",
       "      <td>1</td>\n",
       "      <td>1.07255</td>\n",
       "      <td>0.85338</td>\n",
       "      <td>68</td>\n",
       "    </tr>\n",
       "    <tr>\n",
       "      <th>1351633</th>\n",
       "      <td>2007-10-16</td>\n",
       "      <td>4.80</td>\n",
       "      <td>1940-02-19</td>\n",
       "      <td>0.0</td>\n",
       "      <td>40.0</td>\n",
       "      <td>42.400000</td>\n",
       "      <td>38.0</td>\n",
       "      <td>77.0</td>\n",
       "      <td>2009-03-08 00:00:00</td>\n",
       "      <td>28.961850</td>\n",
       "      <td>0.042400</td>\n",
       "      <td>9.215398</td>\n",
       "      <td>3363 days 14:52:59.895292800</td>\n",
       "      <td>2016-12-30 14:52:59.895292800</td>\n",
       "      <td>3363 days 14:52:59.895292800</td>\n",
       "      <td>1</td>\n",
       "      <td>0.86933</td>\n",
       "      <td>0.98268</td>\n",
       "      <td>70</td>\n",
       "    </tr>\n",
       "    <tr>\n",
       "      <th>7886169</th>\n",
       "      <td>2007-05-01</td>\n",
       "      <td>5.20</td>\n",
       "      <td>1939-11-30</td>\n",
       "      <td>1.0</td>\n",
       "      <td>37.0</td>\n",
       "      <td>50.800000</td>\n",
       "      <td>44.0</td>\n",
       "      <td>151.0</td>\n",
       "      <td>2010-01-20 00:00:00</td>\n",
       "      <td>33.333450</td>\n",
       "      <td>0.050800</td>\n",
       "      <td>4.609897</td>\n",
       "      <td>1682 days 14:41:38.113065600</td>\n",
       "      <td>2011-12-08 14:41:38.113065600</td>\n",
       "      <td>1682 days 14:41:38.113065600</td>\n",
       "      <td>1</td>\n",
       "      <td>1.70479</td>\n",
       "      <td>1.13784</td>\n",
       "      <td>72</td>\n",
       "    </tr>\n",
       "    <tr>\n",
       "      <th>1431563</th>\n",
       "      <td>2008-03-12</td>\n",
       "      <td>5.30</td>\n",
       "      <td>1943-10-02</td>\n",
       "      <td>1.0</td>\n",
       "      <td>17.0</td>\n",
       "      <td>59.400000</td>\n",
       "      <td>25.0</td>\n",
       "      <td>93.0</td>\n",
       "      <td>2009-02-16 00:00:00</td>\n",
       "      <td>34.426350</td>\n",
       "      <td>0.059400</td>\n",
       "      <td>3.685793</td>\n",
       "      <td>1345 days 07:32:58.867958400</td>\n",
       "      <td>2011-11-17 07:32:58.867958400</td>\n",
       "      <td>1345 days 07:32:58.867958400</td>\n",
       "      <td>1</td>\n",
       "      <td>1.04997</td>\n",
       "      <td>0.64650</td>\n",
       "      <td>73</td>\n",
       "    </tr>\n",
       "    <tr>\n",
       "      <th>4017756</th>\n",
       "      <td>2008-01-02</td>\n",
       "      <td>5.60</td>\n",
       "      <td>1955-06-13</td>\n",
       "      <td>0.0</td>\n",
       "      <td>20.0</td>\n",
       "      <td>43.800000</td>\n",
       "      <td>68.0</td>\n",
       "      <td>76.0</td>\n",
       "      <td>2008-09-02 00:00:00</td>\n",
       "      <td>37.705050</td>\n",
       "      <td>0.043800</td>\n",
       "      <td>5.809328</td>\n",
       "      <td>2120 days 09:42:35.447529600</td>\n",
       "      <td>2013-10-22 09:42:35.447529600</td>\n",
       "      <td>2120 days 09:42:35.447529600</td>\n",
       "      <td>1</td>\n",
       "      <td>0.85804</td>\n",
       "      <td>1.75848</td>\n",
       "      <td>74</td>\n",
       "    </tr>\n",
       "    <tr>\n",
       "      <th>1381267</th>\n",
       "      <td>2010-06-29</td>\n",
       "      <td>5.50</td>\n",
       "      <td>1964-10-15</td>\n",
       "      <td>0.0</td>\n",
       "      <td>19.0</td>\n",
       "      <td>86.000000</td>\n",
       "      <td>73.0</td>\n",
       "      <td>70.0</td>\n",
       "      <td>2014-11-09 00:00:00</td>\n",
       "      <td>36.612150</td>\n",
       "      <td>0.086000</td>\n",
       "      <td>4.863100</td>\n",
       "      <td>1775 days 00:45:37.286524800</td>\n",
       "      <td>2015-05-09 00:45:37.286524800</td>\n",
       "      <td>1775 days 00:45:37.286524800</td>\n",
       "      <td>1</td>\n",
       "      <td>0.79030</td>\n",
       "      <td>1.88778</td>\n",
       "      <td>74</td>\n",
       "    </tr>\n",
       "    <tr>\n",
       "      <th>1525482</th>\n",
       "      <td>2011-07-03</td>\n",
       "      <td>5.30</td>\n",
       "      <td>1947-05-27</td>\n",
       "      <td>0.0</td>\n",
       "      <td>89.0</td>\n",
       "      <td>58.000000</td>\n",
       "      <td>59.0</td>\n",
       "      <td>78.0</td>\n",
       "      <td>2017-04-07 00:00:00</td>\n",
       "      <td>34.426350</td>\n",
       "      <td>0.058000</td>\n",
       "      <td>7.119110</td>\n",
       "      <td>2598 days 11:24:15.524524800</td>\n",
       "      <td>2018-08-13 11:24:15.524524800</td>\n",
       "      <td>2598 days 11:24:15.524524800</td>\n",
       "      <td>1</td>\n",
       "      <td>0.88062</td>\n",
       "      <td>1.52574</td>\n",
       "      <td>76</td>\n",
       "    </tr>\n",
       "    <tr>\n",
       "      <th>9278261</th>\n",
       "      <td>2007-10-15</td>\n",
       "      <td>5.20</td>\n",
       "      <td>1957-10-01</td>\n",
       "      <td>1.0</td>\n",
       "      <td>2.0</td>\n",
       "      <td>61.700000</td>\n",
       "      <td>27.0</td>\n",
       "      <td>186.0</td>\n",
       "      <td>2012-03-29 00:00:00</td>\n",
       "      <td>33.333450</td>\n",
       "      <td>0.061700</td>\n",
       "      <td>5.432248</td>\n",
       "      <td>1982 days 18:29:35.420121600</td>\n",
       "      <td>2013-03-19 18:29:35.420121600</td>\n",
       "      <td>1982 days 18:29:35.420121600</td>\n",
       "      <td>1</td>\n",
       "      <td>2.09994</td>\n",
       "      <td>0.69822</td>\n",
       "      <td>76</td>\n",
       "    </tr>\n",
       "    <tr>\n",
       "      <th>3676035</th>\n",
       "      <td>2007-08-21</td>\n",
       "      <td>5.70</td>\n",
       "      <td>1939-05-20</td>\n",
       "      <td>0.0</td>\n",
       "      <td>15.0</td>\n",
       "      <td>23.300000</td>\n",
       "      <td>64.0</td>\n",
       "      <td>81.0</td>\n",
       "      <td>2011-01-30 00:00:00</td>\n",
       "      <td>38.797950</td>\n",
       "      <td>0.023300</td>\n",
       "      <td>4.051027</td>\n",
       "      <td>1478 days 14:59:37.603564800</td>\n",
       "      <td>2011-09-07 14:59:37.603564800</td>\n",
       "      <td>1478 days 14:59:37.603564800</td>\n",
       "      <td>1</td>\n",
       "      <td>0.91449</td>\n",
       "      <td>1.65504</td>\n",
       "      <td>77</td>\n",
       "    </tr>\n",
       "    <tr>\n",
       "      <th>52237</th>\n",
       "      <td>2011-12-04</td>\n",
       "      <td>4.30</td>\n",
       "      <td>1950-05-13</td>\n",
       "      <td>1.0</td>\n",
       "      <td>21.0</td>\n",
       "      <td>85.000000</td>\n",
       "      <td>40.0</td>\n",
       "      <td>89.0</td>\n",
       "      <td>2012-07-30 00:00:00</td>\n",
       "      <td>23.497350</td>\n",
       "      <td>0.085000</td>\n",
       "      <td>6.389490</td>\n",
       "      <td>2332 days 03:55:46.704863999</td>\n",
       "      <td>2018-04-23 03:55:46.704863999</td>\n",
       "      <td>2332 days 03:55:46.704863999</td>\n",
       "      <td>1</td>\n",
       "      <td>1.00481</td>\n",
       "      <td>1.03440</td>\n",
       "      <td>78</td>\n",
       "    </tr>\n",
       "    <tr>\n",
       "      <th>4170121</th>\n",
       "      <td>2010-09-15</td>\n",
       "      <td>5.30</td>\n",
       "      <td>1958-06-15</td>\n",
       "      <td>1.0</td>\n",
       "      <td>30.0</td>\n",
       "      <td>50.000000</td>\n",
       "      <td>53.0</td>\n",
       "      <td>109.0</td>\n",
       "      <td>2016-10-28 00:00:00</td>\n",
       "      <td>34.426350</td>\n",
       "      <td>0.050000</td>\n",
       "      <td>7.926211</td>\n",
       "      <td>2893 days 01:36:44.404790400</td>\n",
       "      <td>2018-08-17 01:36:44.404790400</td>\n",
       "      <td>2893 days 01:36:44.404790400</td>\n",
       "      <td>1</td>\n",
       "      <td>1.23061</td>\n",
       "      <td>1.37058</td>\n",
       "      <td>78</td>\n",
       "    </tr>\n",
       "    <tr>\n",
       "      <th>3834084</th>\n",
       "      <td>2006-06-19</td>\n",
       "      <td>5.00</td>\n",
       "      <td>1953-06-12</td>\n",
       "      <td>0.0</td>\n",
       "      <td>24.0</td>\n",
       "      <td>442.100006</td>\n",
       "      <td>70.0</td>\n",
       "      <td>82.0</td>\n",
       "      <td>2007-03-26 00:00:00</td>\n",
       "      <td>31.147650</td>\n",
       "      <td>0.442100</td>\n",
       "      <td>11.715376</td>\n",
       "      <td>4276 days 02:41:41.293276800</td>\n",
       "      <td>2018-03-04 02:41:41.293276800</td>\n",
       "      <td>4276 days 02:41:41.293276800</td>\n",
       "      <td>1</td>\n",
       "      <td>0.92578</td>\n",
       "      <td>1.81020</td>\n",
       "      <td>78</td>\n",
       "    </tr>\n",
       "    <tr>\n",
       "      <th>3413825</th>\n",
       "      <td>2006-07-30</td>\n",
       "      <td>5.00</td>\n",
       "      <td>1942-02-28</td>\n",
       "      <td>0.0</td>\n",
       "      <td>24.0</td>\n",
       "      <td>66.199997</td>\n",
       "      <td>48.0</td>\n",
       "      <td>152.0</td>\n",
       "      <td>2012-03-07 00:00:00</td>\n",
       "      <td>31.147650</td>\n",
       "      <td>0.066200</td>\n",
       "      <td>9.015937</td>\n",
       "      <td>3290 days 19:36:34.449264</td>\n",
       "      <td>2015-08-02 19:36:34.449264000</td>\n",
       "      <td>3290 days 19:36:34.449264</td>\n",
       "      <td>1</td>\n",
       "      <td>1.71608</td>\n",
       "      <td>1.24128</td>\n",
       "      <td>78</td>\n",
       "    </tr>\n",
       "    <tr>\n",
       "      <th>5178000</th>\n",
       "      <td>2007-01-25</td>\n",
       "      <td>4.80</td>\n",
       "      <td>1957-02-17</td>\n",
       "      <td>0.0</td>\n",
       "      <td>21.0</td>\n",
       "      <td>100.000000</td>\n",
       "      <td>38.0</td>\n",
       "      <td>208.0</td>\n",
       "      <td>2010-09-05 00:00:00</td>\n",
       "      <td>28.961852</td>\n",
       "      <td>0.100000</td>\n",
       "      <td>6.234360</td>\n",
       "      <td>2275 days 12:59:36.071980800</td>\n",
       "      <td>2013-04-18 12:59:36.071980800</td>\n",
       "      <td>2275 days 12:59:36.071980800</td>\n",
       "      <td>1</td>\n",
       "      <td>2.34832</td>\n",
       "      <td>0.98268</td>\n",
       "      <td>78</td>\n",
       "    </tr>\n",
       "    <tr>\n",
       "      <th>1245113</th>\n",
       "      <td>2010-11-08</td>\n",
       "      <td>5.30</td>\n",
       "      <td>1948-07-13</td>\n",
       "      <td>1.0</td>\n",
       "      <td>24.0</td>\n",
       "      <td>48.000000</td>\n",
       "      <td>51.0</td>\n",
       "      <td>122.0</td>\n",
       "      <td>2012-02-02 00:00:00</td>\n",
       "      <td>34.426350</td>\n",
       "      <td>0.048000</td>\n",
       "      <td>9.488736</td>\n",
       "      <td>3463 days 09:19:26.133888</td>\n",
       "      <td>2019-12-31 00:00:00.000000000</td>\n",
       "      <td>3340 days 00:00:00</td>\n",
       "      <td>1</td>\n",
       "      <td>1.37738</td>\n",
       "      <td>1.31886</td>\n",
       "      <td>79</td>\n",
       "    </tr>\n",
       "    <tr>\n",
       "      <th>3726171</th>\n",
       "      <td>2006-01-09</td>\n",
       "      <td>6.00</td>\n",
       "      <td>1947-04-29</td>\n",
       "      <td>0.0</td>\n",
       "      <td>14.0</td>\n",
       "      <td>0.076900</td>\n",
       "      <td>56.0</td>\n",
       "      <td>178.0</td>\n",
       "      <td>2007-08-06 00:00:00</td>\n",
       "      <td>42.076650</td>\n",
       "      <td>0.000077</td>\n",
       "      <td>4.420202</td>\n",
       "      <td>1613 days 08:57:56.726553600</td>\n",
       "      <td>2010-06-10 08:57:56.726553600</td>\n",
       "      <td>1613 days 08:57:56.726553600</td>\n",
       "      <td>1</td>\n",
       "      <td>2.00962</td>\n",
       "      <td>1.44816</td>\n",
       "      <td>79</td>\n",
       "    </tr>\n",
       "    <tr>\n",
       "      <th>4343240</th>\n",
       "      <td>2006-10-23</td>\n",
       "      <td>4.90</td>\n",
       "      <td>1961-09-30</td>\n",
       "      <td>0.0</td>\n",
       "      <td>48.0</td>\n",
       "      <td>86.000000</td>\n",
       "      <td>44.0</td>\n",
       "      <td>140.0</td>\n",
       "      <td>2007-06-24 00:00:00</td>\n",
       "      <td>30.054751</td>\n",
       "      <td>0.086000</td>\n",
       "      <td>7.615464</td>\n",
       "      <td>2779 days 15:28:05.596348800</td>\n",
       "      <td>2014-06-02 15:28:05.596348800</td>\n",
       "      <td>2779 days 15:28:05.596348800</td>\n",
       "      <td>1</td>\n",
       "      <td>1.58060</td>\n",
       "      <td>1.13784</td>\n",
       "      <td>80</td>\n",
       "    </tr>\n",
       "    <tr>\n",
       "      <th>5227386</th>\n",
       "      <td>2006-02-15</td>\n",
       "      <td>5.36</td>\n",
       "      <td>1945-09-07</td>\n",
       "      <td>1.0</td>\n",
       "      <td>23.0</td>\n",
       "      <td>48.500000</td>\n",
       "      <td>58.0</td>\n",
       "      <td>113.0</td>\n",
       "      <td>2008-01-04 00:00:00</td>\n",
       "      <td>35.082091</td>\n",
       "      <td>0.048500</td>\n",
       "      <td>8.717352</td>\n",
       "      <td>3181 days 20:00:24.079910400</td>\n",
       "      <td>2014-11-01 20:00:24.079910400</td>\n",
       "      <td>3181 days 20:00:24.079910400</td>\n",
       "      <td>1</td>\n",
       "      <td>1.27577</td>\n",
       "      <td>1.49988</td>\n",
       "      <td>80</td>\n",
       "    </tr>\n",
       "    <tr>\n",
       "      <th>5105083</th>\n",
       "      <td>2010-02-24</td>\n",
       "      <td>5.60</td>\n",
       "      <td>1953-11-26</td>\n",
       "      <td>0.0</td>\n",
       "      <td>16.0</td>\n",
       "      <td>0.107000</td>\n",
       "      <td>52.0</td>\n",
       "      <td>133.0</td>\n",
       "      <td>2013-08-19 00:00:00</td>\n",
       "      <td>37.705050</td>\n",
       "      <td>0.000107</td>\n",
       "      <td>6.964663</td>\n",
       "      <td>2542 days 02:26:53.807164800</td>\n",
       "      <td>2017-02-09 02:26:53.807164800</td>\n",
       "      <td>2542 days 02:26:53.807164800</td>\n",
       "      <td>1</td>\n",
       "      <td>1.50157</td>\n",
       "      <td>1.34472</td>\n",
       "      <td>81</td>\n",
       "    </tr>\n",
       "    <tr>\n",
       "      <th>8971987</th>\n",
       "      <td>2006-04-26</td>\n",
       "      <td>5.20</td>\n",
       "      <td>1951-08-10</td>\n",
       "      <td>0.0</td>\n",
       "      <td>30.0</td>\n",
       "      <td>76.000000</td>\n",
       "      <td>55.0</td>\n",
       "      <td>191.0</td>\n",
       "      <td>2009-10-18 00:00:00</td>\n",
       "      <td>33.333448</td>\n",
       "      <td>0.076000</td>\n",
       "      <td>7.257780</td>\n",
       "      <td>2649 days 02:09:06.071299200</td>\n",
       "      <td>2013-07-27 02:09:06.071299200</td>\n",
       "      <td>2649 days 02:09:06.071299200</td>\n",
       "      <td>1</td>\n",
       "      <td>2.15639</td>\n",
       "      <td>1.42230</td>\n",
       "      <td>81</td>\n",
       "    </tr>\n",
       "    <tr>\n",
       "      <th>8954108</th>\n",
       "      <td>2006-05-29</td>\n",
       "      <td>5.50</td>\n",
       "      <td>1947-09-21</td>\n",
       "      <td>0.0</td>\n",
       "      <td>18.0</td>\n",
       "      <td>0.109000</td>\n",
       "      <td>30.0</td>\n",
       "      <td>71.0</td>\n",
       "      <td>2007-06-10 00:00:00</td>\n",
       "      <td>36.612150</td>\n",
       "      <td>0.000109</td>\n",
       "      <td>9.047213</td>\n",
       "      <td>3302 days 05:35:17.580681600</td>\n",
       "      <td>2015-06-13 05:35:17.580681600</td>\n",
       "      <td>3302 days 05:35:17.580681600</td>\n",
       "      <td>1</td>\n",
       "      <td>0.80159</td>\n",
       "      <td>0.77580</td>\n",
       "      <td>82</td>\n",
       "    </tr>\n",
       "    <tr>\n",
       "      <th>4223915</th>\n",
       "      <td>2008-10-26</td>\n",
       "      <td>5.10</td>\n",
       "      <td>1959-05-04</td>\n",
       "      <td>1.0</td>\n",
       "      <td>51.0</td>\n",
       "      <td>0.100000</td>\n",
       "      <td>34.0</td>\n",
       "      <td>215.0</td>\n",
       "      <td>2015-04-01 00:00:00</td>\n",
       "      <td>32.240550</td>\n",
       "      <td>0.000100</td>\n",
       "      <td>6.995205</td>\n",
       "      <td>2553 days 06:00:00.411523200</td>\n",
       "      <td>2015-10-23 06:00:00.411523200</td>\n",
       "      <td>2553 days 06:00:00.411523200</td>\n",
       "      <td>1</td>\n",
       "      <td>2.42735</td>\n",
       "      <td>0.87924</td>\n",
       "      <td>84</td>\n",
       "    </tr>\n",
       "    <tr>\n",
       "      <th>5355228</th>\n",
       "      <td>2008-04-22</td>\n",
       "      <td>5.30</td>\n",
       "      <td>1947-05-27</td>\n",
       "      <td>0.0</td>\n",
       "      <td>114.0</td>\n",
       "      <td>64.200000</td>\n",
       "      <td>47.0</td>\n",
       "      <td>526.0</td>\n",
       "      <td>2011-09-26 00:00:00</td>\n",
       "      <td>34.426350</td>\n",
       "      <td>0.064200</td>\n",
       "      <td>4.390561</td>\n",
       "      <td>1602 days 13:19:02.159904</td>\n",
       "      <td>2012-09-10 13:19:02.159904000</td>\n",
       "      <td>1602 days 13:19:02.159904</td>\n",
       "      <td>1</td>\n",
       "      <td>5.93854</td>\n",
       "      <td>1.21542</td>\n",
       "      <td>84</td>\n",
       "    </tr>\n",
       "    <tr>\n",
       "      <th>3405999</th>\n",
       "      <td>2008-05-06</td>\n",
       "      <td>4.90</td>\n",
       "      <td>1948-03-18</td>\n",
       "      <td>1.0</td>\n",
       "      <td>28.0</td>\n",
       "      <td>99.000000</td>\n",
       "      <td>38.0</td>\n",
       "      <td>104.0</td>\n",
       "      <td>2012-08-02 00:00:00</td>\n",
       "      <td>30.054750</td>\n",
       "      <td>0.099000</td>\n",
       "      <td>8.053224</td>\n",
       "      <td>2939 days 10:14:47.239036800</td>\n",
       "      <td>2016-05-23 10:14:47.239036800</td>\n",
       "      <td>2939 days 10:14:47.239036800</td>\n",
       "      <td>1</td>\n",
       "      <td>1.17416</td>\n",
       "      <td>0.98268</td>\n",
       "      <td>84</td>\n",
       "    </tr>\n",
       "    <tr>\n",
       "      <th>5156202</th>\n",
       "      <td>2006-03-13</td>\n",
       "      <td>5.50</td>\n",
       "      <td>1948-09-07</td>\n",
       "      <td>0.0</td>\n",
       "      <td>27.0</td>\n",
       "      <td>38.000000</td>\n",
       "      <td>44.0</td>\n",
       "      <td>78.0</td>\n",
       "      <td>2009-08-02 00:00:00</td>\n",
       "      <td>36.612150</td>\n",
       "      <td>0.038000</td>\n",
       "      <td>8.182905</td>\n",
       "      <td>2986 days 18:14:55.585161600</td>\n",
       "      <td>2014-05-16 18:14:55.585161600</td>\n",
       "      <td>2986 days 18:14:55.585161600</td>\n",
       "      <td>1</td>\n",
       "      <td>0.88062</td>\n",
       "      <td>1.13784</td>\n",
       "      <td>84</td>\n",
       "    </tr>\n",
       "    <tr>\n",
       "      <th>4002718</th>\n",
       "      <td>2007-08-01</td>\n",
       "      <td>5.30</td>\n",
       "      <td>1955-02-26</td>\n",
       "      <td>0.0</td>\n",
       "      <td>30.0</td>\n",
       "      <td>64.000000</td>\n",
       "      <td>50.0</td>\n",
       "      <td>170.0</td>\n",
       "      <td>2014-08-05 00:00:00</td>\n",
       "      <td>34.426350</td>\n",
       "      <td>0.064000</td>\n",
       "      <td>7.335388</td>\n",
       "      <td>2677 days 09:59:44.700403200</td>\n",
       "      <td>2014-11-29 09:59:44.700403200</td>\n",
       "      <td>2677 days 09:59:44.700403200</td>\n",
       "      <td>1</td>\n",
       "      <td>1.91930</td>\n",
       "      <td>1.29300</td>\n",
       "      <td>85</td>\n",
       "    </tr>\n",
       "    <tr>\n",
       "      <th>4746297</th>\n",
       "      <td>2006-12-20</td>\n",
       "      <td>5.40</td>\n",
       "      <td>1943-05-06</td>\n",
       "      <td>0.0</td>\n",
       "      <td>23.0</td>\n",
       "      <td>76.000000</td>\n",
       "      <td>59.0</td>\n",
       "      <td>147.0</td>\n",
       "      <td>2008-06-22 00:00:00</td>\n",
       "      <td>35.519251</td>\n",
       "      <td>0.076000</td>\n",
       "      <td>6.804157</td>\n",
       "      <td>2483 days 12:24:49.285267199</td>\n",
       "      <td>2013-10-07 12:24:49.285267199</td>\n",
       "      <td>2483 days 12:24:49.285267199</td>\n",
       "      <td>1</td>\n",
       "      <td>1.65963</td>\n",
       "      <td>1.52574</td>\n",
       "      <td>85</td>\n",
       "    </tr>\n",
       "    <tr>\n",
       "      <th>4152550</th>\n",
       "      <td>2009-08-10</td>\n",
       "      <td>5.60</td>\n",
       "      <td>1957-09-24</td>\n",
       "      <td>0.0</td>\n",
       "      <td>28.0</td>\n",
       "      <td>38.300000</td>\n",
       "      <td>55.0</td>\n",
       "      <td>61.0</td>\n",
       "      <td>2016-07-10 00:00:00</td>\n",
       "      <td>37.705050</td>\n",
       "      <td>0.038300</td>\n",
       "      <td>7.120345</td>\n",
       "      <td>2598 days 22:13:13.084723200</td>\n",
       "      <td>2016-09-20 22:13:13.084723200</td>\n",
       "      <td>2598 days 22:13:13.084723200</td>\n",
       "      <td>1</td>\n",
       "      <td>0.68869</td>\n",
       "      <td>1.42230</td>\n",
       "      <td>85</td>\n",
       "    </tr>\n",
       "    <tr>\n",
       "      <th>4211452</th>\n",
       "      <td>2009-02-02</td>\n",
       "      <td>4.70</td>\n",
       "      <td>1959-01-21</td>\n",
       "      <td>1.0</td>\n",
       "      <td>42.0</td>\n",
       "      <td>59.700000</td>\n",
       "      <td>35.0</td>\n",
       "      <td>211.0</td>\n",
       "      <td>2011-05-23 00:00:00</td>\n",
       "      <td>27.868950</td>\n",
       "      <td>0.059700</td>\n",
       "      <td>7.073001</td>\n",
       "      <td>2581 days 15:29:27.402460800</td>\n",
       "      <td>2016-02-27 15:29:27.402460800</td>\n",
       "      <td>2581 days 15:29:27.402460800</td>\n",
       "      <td>1</td>\n",
       "      <td>2.38219</td>\n",
       "      <td>0.90510</td>\n",
       "      <td>85</td>\n",
       "    </tr>\n",
       "    <tr>\n",
       "      <th>3833821</th>\n",
       "      <td>2010-02-22</td>\n",
       "      <td>4.50</td>\n",
       "      <td>1953-04-15</td>\n",
       "      <td>1.0</td>\n",
       "      <td>29.0</td>\n",
       "      <td>145.700000</td>\n",
       "      <td>37.0</td>\n",
       "      <td>155.0</td>\n",
       "      <td>2011-09-21 00:00:00</td>\n",
       "      <td>25.683150</td>\n",
       "      <td>0.145700</td>\n",
       "      <td>6.871804</td>\n",
       "      <td>2508 days 05:00:03.100262400</td>\n",
       "      <td>2017-01-04 05:00:03.100262400</td>\n",
       "      <td>2508 days 05:00:03.100262400</td>\n",
       "      <td>1</td>\n",
       "      <td>1.74995</td>\n",
       "      <td>0.95682</td>\n",
       "      <td>86</td>\n",
       "    </tr>\n",
       "    <tr>\n",
       "      <th>4598815</th>\n",
       "      <td>2011-09-13</td>\n",
       "      <td>5.30</td>\n",
       "      <td>1966-11-16</td>\n",
       "      <td>0.0</td>\n",
       "      <td>376.0</td>\n",
       "      <td>52.000000</td>\n",
       "      <td>47.0</td>\n",
       "      <td>105.0</td>\n",
       "      <td>2017-12-22 00:00:00</td>\n",
       "      <td>34.426350</td>\n",
       "      <td>0.052000</td>\n",
       "      <td>7.155327</td>\n",
       "      <td>2611 days 16:39:52.237785600</td>\n",
       "      <td>2018-11-06 16:39:52.237785600</td>\n",
       "      <td>2611 days 16:39:52.237785600</td>\n",
       "      <td>1</td>\n",
       "      <td>1.18545</td>\n",
       "      <td>1.21542</td>\n",
       "      <td>86</td>\n",
       "    </tr>\n",
       "    <tr>\n",
       "      <th>3493606</th>\n",
       "      <td>2007-09-02</td>\n",
       "      <td>5.10</td>\n",
       "      <td>1942-03-12</td>\n",
       "      <td>1.0</td>\n",
       "      <td>28.0</td>\n",
       "      <td>57.600000</td>\n",
       "      <td>36.0</td>\n",
       "      <td>126.0</td>\n",
       "      <td>2011-06-10 00:00:00</td>\n",
       "      <td>32.240550</td>\n",
       "      <td>0.057600</td>\n",
       "      <td>6.606232</td>\n",
       "      <td>2411 days 06:35:41.056368</td>\n",
       "      <td>2014-04-09 06:35:41.056368000</td>\n",
       "      <td>2411 days 06:35:41.056368</td>\n",
       "      <td>1</td>\n",
       "      <td>1.42254</td>\n",
       "      <td>0.93096</td>\n",
       "      <td>86</td>\n",
       "    </tr>\n",
       "    <tr>\n",
       "      <th>4051470</th>\n",
       "      <td>2006-04-17</td>\n",
       "      <td>6.20</td>\n",
       "      <td>1956-09-19</td>\n",
       "      <td>0.0</td>\n",
       "      <td>9.0</td>\n",
       "      <td>47.000000</td>\n",
       "      <td>48.0</td>\n",
       "      <td>85.0</td>\n",
       "      <td>2007-04-11 00:00:00</td>\n",
       "      <td>44.262448</td>\n",
       "      <td>0.047000</td>\n",
       "      <td>4.418029</td>\n",
       "      <td>1612 days 13:56:01.280745600</td>\n",
       "      <td>2010-09-15 13:56:01.280745600</td>\n",
       "      <td>1612 days 13:56:01.280745600</td>\n",
       "      <td>1</td>\n",
       "      <td>0.95965</td>\n",
       "      <td>1.24128</td>\n",
       "      <td>87</td>\n",
       "    </tr>\n",
       "    <tr>\n",
       "      <th>4135390</th>\n",
       "      <td>2007-11-28</td>\n",
       "      <td>4.10</td>\n",
       "      <td>1957-05-17</td>\n",
       "      <td>1.0</td>\n",
       "      <td>33.0</td>\n",
       "      <td>355.200000</td>\n",
       "      <td>25.0</td>\n",
       "      <td>99.0</td>\n",
       "      <td>2008-11-06 00:00:00</td>\n",
       "      <td>21.311550</td>\n",
       "      <td>0.355200</td>\n",
       "      <td>7.885979</td>\n",
       "      <td>2878 days 09:10:24.165696</td>\n",
       "      <td>2015-10-15 09:10:24.165696000</td>\n",
       "      <td>2878 days 09:10:24.165696</td>\n",
       "      <td>1</td>\n",
       "      <td>1.11771</td>\n",
       "      <td>0.64650</td>\n",
       "      <td>87</td>\n",
       "    </tr>\n",
       "    <tr>\n",
       "      <th>4728695</th>\n",
       "      <td>2009-07-16</td>\n",
       "      <td>5.80</td>\n",
       "      <td>1945-06-10</td>\n",
       "      <td>0.0</td>\n",
       "      <td>15.0</td>\n",
       "      <td>23.400000</td>\n",
       "      <td>68.0</td>\n",
       "      <td>129.0</td>\n",
       "      <td>2014-07-21 00:00:00</td>\n",
       "      <td>39.890850</td>\n",
       "      <td>0.023400</td>\n",
       "      <td>5.144349</td>\n",
       "      <td>1877 days 16:29:50.476991999</td>\n",
       "      <td>2014-09-05 16:29:50.476991999</td>\n",
       "      <td>1877 days 16:29:50.476991999</td>\n",
       "      <td>1</td>\n",
       "      <td>1.45641</td>\n",
       "      <td>1.75848</td>\n",
       "      <td>88</td>\n",
       "    </tr>\n",
       "  </tbody>\n",
       "</table>\n",
       "</div>"
      ],
      "text/plain": [
       "        first_visit  HbA1c% datetime_leida  is_male    GGT  \\\n",
       "pid                                                          \n",
       "4606911  2006-10-05    4.70     1965-06-27      0.0   13.0   \n",
       "4427284  2008-11-04    4.40     1962-12-31      0.0   12.0   \n",
       "2893236  2009-09-16    4.90     1950-02-12      0.0   13.0   \n",
       "7691140  2008-05-22    5.20     1958-02-11      0.0   39.0   \n",
       "8592118  2009-01-20    5.50     1951-08-20      0.0   22.0   \n",
       "5110727  2011-12-15    5.20     1958-05-20      0.0   25.0   \n",
       "4303270  2008-01-03    4.90     1960-09-22      0.0   18.0   \n",
       "9211665  2008-04-30    4.90     1950-11-25      0.0   74.0   \n",
       "8010481  2008-02-25    4.90     1955-09-09      1.0   39.0   \n",
       "813015   2009-02-23    4.90     1947-02-13      1.0   23.0   \n",
       "5438362  2007-12-30    5.50     1950-07-05      0.0   17.0   \n",
       "3920361  2006-09-06    4.80     1954-01-30      0.0  123.0   \n",
       "4643222  2011-05-18    3.40     1967-08-11      1.0   15.0   \n",
       "4559617  2008-01-23    5.20     1965-04-04      0.0   10.0   \n",
       "4236337  2006-09-13    5.50     1960-04-01      0.0   12.0   \n",
       "296839   2006-11-13    4.90     1943-09-13      1.0   49.0   \n",
       "1351633  2007-10-16    4.80     1940-02-19      0.0   40.0   \n",
       "7886169  2007-05-01    5.20     1939-11-30      1.0   37.0   \n",
       "1431563  2008-03-12    5.30     1943-10-02      1.0   17.0   \n",
       "4017756  2008-01-02    5.60     1955-06-13      0.0   20.0   \n",
       "1381267  2010-06-29    5.50     1964-10-15      0.0   19.0   \n",
       "1525482  2011-07-03    5.30     1947-05-27      0.0   89.0   \n",
       "9278261  2007-10-15    5.20     1957-10-01      1.0    2.0   \n",
       "3676035  2007-08-21    5.70     1939-05-20      0.0   15.0   \n",
       "52237    2011-12-04    4.30     1950-05-13      1.0   21.0   \n",
       "4170121  2010-09-15    5.30     1958-06-15      1.0   30.0   \n",
       "3834084  2006-06-19    5.00     1953-06-12      0.0   24.0   \n",
       "3413825  2006-07-30    5.00     1942-02-28      0.0   24.0   \n",
       "5178000  2007-01-25    4.80     1957-02-17      0.0   21.0   \n",
       "1245113  2010-11-08    5.30     1948-07-13      1.0   24.0   \n",
       "3726171  2006-01-09    6.00     1947-04-29      0.0   14.0   \n",
       "4343240  2006-10-23    4.90     1961-09-30      0.0   48.0   \n",
       "5227386  2006-02-15    5.36     1945-09-07      1.0   23.0   \n",
       "5105083  2010-02-24    5.60     1953-11-26      0.0   16.0   \n",
       "8971987  2006-04-26    5.20     1951-08-10      0.0   30.0   \n",
       "8954108  2006-05-29    5.50     1947-09-21      0.0   18.0   \n",
       "4223915  2008-10-26    5.10     1959-05-04      1.0   51.0   \n",
       "5355228  2008-04-22    5.30     1947-05-27      0.0  114.0   \n",
       "3405999  2008-05-06    4.90     1948-03-18      1.0   28.0   \n",
       "5156202  2006-03-13    5.50     1948-09-07      0.0   27.0   \n",
       "4002718  2007-08-01    5.30     1955-02-26      0.0   30.0   \n",
       "4746297  2006-12-20    5.40     1943-05-06      0.0   23.0   \n",
       "4152550  2009-08-10    5.60     1957-09-24      0.0   28.0   \n",
       "4211452  2009-02-02    4.70     1959-01-21      1.0   42.0   \n",
       "3833821  2010-02-22    4.50     1953-04-15      1.0   29.0   \n",
       "4598815  2011-09-13    5.30     1966-11-16      0.0  376.0   \n",
       "3493606  2007-09-02    5.10     1942-03-12      1.0   28.0   \n",
       "4051470  2006-04-17    6.20     1956-09-19      0.0    9.0   \n",
       "4135390  2007-11-28    4.10     1957-05-17      1.0   33.0   \n",
       "4728695  2009-07-16    5.80     1945-06-10      0.0   15.0   \n",
       "\n",
       "         Reticulocyte Count   HDL  Triglycerides        diabetes_date  \\\n",
       "pid                                                                     \n",
       "4606911            0.091700  39.0          146.0  2007-02-09 00:00:00   \n",
       "4427284           86.700000  54.0           51.0  2012-01-30 00:00:00   \n",
       "2893236            0.071900  37.0          210.0  2013-04-12 00:00:00   \n",
       "7691140            0.092000  58.0           59.0  2008-09-03 00:00:00   \n",
       "8592118           16.800000  78.0           81.0  2014-02-26 00:00:00   \n",
       "5110727           14.000000  57.0          123.0  2013-07-11 00:00:00   \n",
       "4303270           89.000000  60.0          208.0  2011-08-17 00:00:00   \n",
       "9211665           54.000000  47.0           74.0  2008-08-13 00:00:00   \n",
       "8010481            0.137200  53.0          173.0  2015-07-19 00:00:00   \n",
       "813015           120.000000  46.0          153.0  2010-04-11 00:00:00   \n",
       "5438362           38.200000  62.0           76.0  2008-06-10 00:00:00   \n",
       "3920361            0.056000  43.0          312.0  2009-05-28 00:00:00   \n",
       "4643222           51.000000  32.0          450.0  2014-09-22 00:00:00   \n",
       "4559617           63.000000  45.0          144.0  2014-10-22 00:00:00   \n",
       "4236337           34.000000  55.0          141.0  2012-02-20 00:00:00   \n",
       "296839             0.154000  33.0           95.0  2007-10-21 00:00:00   \n",
       "1351633           42.400000  38.0           77.0  2009-03-08 00:00:00   \n",
       "7886169           50.800000  44.0          151.0  2010-01-20 00:00:00   \n",
       "1431563           59.400000  25.0           93.0  2009-02-16 00:00:00   \n",
       "4017756           43.800000  68.0           76.0  2008-09-02 00:00:00   \n",
       "1381267           86.000000  73.0           70.0  2014-11-09 00:00:00   \n",
       "1525482           58.000000  59.0           78.0  2017-04-07 00:00:00   \n",
       "9278261           61.700000  27.0          186.0  2012-03-29 00:00:00   \n",
       "3676035           23.300000  64.0           81.0  2011-01-30 00:00:00   \n",
       "52237             85.000000  40.0           89.0  2012-07-30 00:00:00   \n",
       "4170121           50.000000  53.0          109.0  2016-10-28 00:00:00   \n",
       "3834084          442.100006  70.0           82.0  2007-03-26 00:00:00   \n",
       "3413825           66.199997  48.0          152.0  2012-03-07 00:00:00   \n",
       "5178000          100.000000  38.0          208.0  2010-09-05 00:00:00   \n",
       "1245113           48.000000  51.0          122.0  2012-02-02 00:00:00   \n",
       "3726171            0.076900  56.0          178.0  2007-08-06 00:00:00   \n",
       "4343240           86.000000  44.0          140.0  2007-06-24 00:00:00   \n",
       "5227386           48.500000  58.0          113.0  2008-01-04 00:00:00   \n",
       "5105083            0.107000  52.0          133.0  2013-08-19 00:00:00   \n",
       "8971987           76.000000  55.0          191.0  2009-10-18 00:00:00   \n",
       "8954108            0.109000  30.0           71.0  2007-06-10 00:00:00   \n",
       "4223915            0.100000  34.0          215.0  2015-04-01 00:00:00   \n",
       "5355228           64.200000  47.0          526.0  2011-09-26 00:00:00   \n",
       "3405999           99.000000  38.0          104.0  2012-08-02 00:00:00   \n",
       "5156202           38.000000  44.0           78.0  2009-08-02 00:00:00   \n",
       "4002718           64.000000  50.0          170.0  2014-08-05 00:00:00   \n",
       "4746297           76.000000  59.0          147.0  2008-06-22 00:00:00   \n",
       "4152550           38.300000  55.0           61.0  2016-07-10 00:00:00   \n",
       "4211452           59.700000  35.0          211.0  2011-05-23 00:00:00   \n",
       "3833821          145.700000  37.0          155.0  2011-09-21 00:00:00   \n",
       "4598815           52.000000  47.0          105.0  2017-12-22 00:00:00   \n",
       "3493606           57.600000  36.0          126.0  2011-06-10 00:00:00   \n",
       "4051470           47.000000  48.0           85.0  2007-04-11 00:00:00   \n",
       "4135390          355.200000  25.0           99.0  2008-11-06 00:00:00   \n",
       "4728695           23.400000  68.0          129.0  2014-07-21 00:00:00   \n",
       "\n",
       "         UKB_HbA1c  UKB_reticulocyte_count   dt_years  \\\n",
       "pid                                                     \n",
       "4606911  27.868948                0.000092   4.726958   \n",
       "4427284  24.590250                0.086700   4.123987   \n",
       "2893236  30.054750                0.000072   6.198659   \n",
       "7691140  33.333450                0.000092   4.458980   \n",
       "8592118  36.612150                0.016800   6.388788   \n",
       "5110727  33.333450                0.014000   9.365612   \n",
       "4303270  30.054750                0.089000   7.229129   \n",
       "9211665  30.054750                0.054000   5.758828   \n",
       "8010481  30.054750                0.000137   8.691372   \n",
       "813015   30.054750                0.120000   3.087052   \n",
       "5438362  36.612150                0.038200   6.411623   \n",
       "3920361  28.961852                0.000056   8.465275   \n",
       "4643222  13.661250                0.051000   6.743818   \n",
       "4559617  33.333450                0.063000   8.201798   \n",
       "4236337  36.612150                0.034000   9.223611   \n",
       "296839   30.054751                0.000154   8.371148   \n",
       "1351633  28.961850                0.042400   9.215398   \n",
       "7886169  33.333450                0.050800   4.609897   \n",
       "1431563  34.426350                0.059400   3.685793   \n",
       "4017756  37.705050                0.043800   5.809328   \n",
       "1381267  36.612150                0.086000   4.863100   \n",
       "1525482  34.426350                0.058000   7.119110   \n",
       "9278261  33.333450                0.061700   5.432248   \n",
       "3676035  38.797950                0.023300   4.051027   \n",
       "52237    23.497350                0.085000   6.389490   \n",
       "4170121  34.426350                0.050000   7.926211   \n",
       "3834084  31.147650                0.442100  11.715376   \n",
       "3413825  31.147650                0.066200   9.015937   \n",
       "5178000  28.961852                0.100000   6.234360   \n",
       "1245113  34.426350                0.048000   9.488736   \n",
       "3726171  42.076650                0.000077   4.420202   \n",
       "4343240  30.054751                0.086000   7.615464   \n",
       "5227386  35.082091                0.048500   8.717352   \n",
       "5105083  37.705050                0.000107   6.964663   \n",
       "8971987  33.333448                0.076000   7.257780   \n",
       "8954108  36.612150                0.000109   9.047213   \n",
       "4223915  32.240550                0.000100   6.995205   \n",
       "5355228  34.426350                0.064200   4.390561   \n",
       "3405999  30.054750                0.099000   8.053224   \n",
       "5156202  36.612150                0.038000   8.182905   \n",
       "4002718  34.426350                0.064000   7.335388   \n",
       "4746297  35.519251                0.076000   6.804157   \n",
       "4152550  37.705050                0.038300   7.120345   \n",
       "4211452  27.868950                0.059700   7.073001   \n",
       "3833821  25.683150                0.145700   6.871804   \n",
       "4598815  34.426350                0.052000   7.155327   \n",
       "3493606  32.240550                0.057600   6.606232   \n",
       "4051470  44.262448                0.047000   4.418029   \n",
       "4135390  21.311550                0.355200   7.885979   \n",
       "4728695  39.890850                0.023400   5.144349   \n",
       "\n",
       "                             dt_days                    check_date  \\\n",
       "pid                                                                  \n",
       "4606911    1725 days 08:09:18.346320 2011-06-26 08:09:18.346320000   \n",
       "4427284 1505 days 06:07:49.264060800 2012-12-18 06:07:49.264060800   \n",
       "2893236 2262 days 12:14:57.327158399 2015-11-26 12:14:57.327158399   \n",
       "7691140 1627 days 12:40:04.794787200 2012-11-04 12:40:04.794787200   \n",
       "8592118 2331 days 21:46:50.308348800 2015-06-09 21:46:50.308348800   \n",
       "5110727 3418 days 10:45:40.981708800 2019-12-31 00:00:00.000000000   \n",
       "4303270 2638 days 15:10:14.963750400 2015-03-25 15:10:14.963750400   \n",
       "9211665 2101 days 23:19:56.250825600 2014-01-30 23:19:56.250825600   \n",
       "8010481 3172 days 08:25:12.617817600 2016-11-01 08:25:12.617817600   \n",
       "813015     1126 days 18:34:36.620112 2012-03-25 18:34:36.620112000   \n",
       "5438362    2340 days 05:48:49.921776 2014-05-27 05:48:49.921776000   \n",
       "3920361 3089 days 19:48:19.196006400 2015-02-20 19:48:19.196006400   \n",
       "4643222    2461 days 11:50:48.447888 2018-02-11 11:50:48.447888000   \n",
       "4559617 2993 days 15:45:17.015443200 2016-04-03 15:45:17.015443200   \n",
       "4236337 3366 days 14:50:04.766726400 2015-12-01 14:50:04.766726400   \n",
       "296839  3055 days 11:15:08.215257600 2015-03-26 11:15:08.215257600   \n",
       "1351633 3363 days 14:52:59.895292800 2016-12-30 14:52:59.895292800   \n",
       "7886169 1682 days 14:41:38.113065600 2011-12-08 14:41:38.113065600   \n",
       "1431563 1345 days 07:32:58.867958400 2011-11-17 07:32:58.867958400   \n",
       "4017756 2120 days 09:42:35.447529600 2013-10-22 09:42:35.447529600   \n",
       "1381267 1775 days 00:45:37.286524800 2015-05-09 00:45:37.286524800   \n",
       "1525482 2598 days 11:24:15.524524800 2018-08-13 11:24:15.524524800   \n",
       "9278261 1982 days 18:29:35.420121600 2013-03-19 18:29:35.420121600   \n",
       "3676035 1478 days 14:59:37.603564800 2011-09-07 14:59:37.603564800   \n",
       "52237   2332 days 03:55:46.704863999 2018-04-23 03:55:46.704863999   \n",
       "4170121 2893 days 01:36:44.404790400 2018-08-17 01:36:44.404790400   \n",
       "3834084 4276 days 02:41:41.293276800 2018-03-04 02:41:41.293276800   \n",
       "3413825    3290 days 19:36:34.449264 2015-08-02 19:36:34.449264000   \n",
       "5178000 2275 days 12:59:36.071980800 2013-04-18 12:59:36.071980800   \n",
       "1245113    3463 days 09:19:26.133888 2019-12-31 00:00:00.000000000   \n",
       "3726171 1613 days 08:57:56.726553600 2010-06-10 08:57:56.726553600   \n",
       "4343240 2779 days 15:28:05.596348800 2014-06-02 15:28:05.596348800   \n",
       "5227386 3181 days 20:00:24.079910400 2014-11-01 20:00:24.079910400   \n",
       "5105083 2542 days 02:26:53.807164800 2017-02-09 02:26:53.807164800   \n",
       "8971987 2649 days 02:09:06.071299200 2013-07-27 02:09:06.071299200   \n",
       "8954108 3302 days 05:35:17.580681600 2015-06-13 05:35:17.580681600   \n",
       "4223915 2553 days 06:00:00.411523200 2015-10-23 06:00:00.411523200   \n",
       "5355228    1602 days 13:19:02.159904 2012-09-10 13:19:02.159904000   \n",
       "3405999 2939 days 10:14:47.239036800 2016-05-23 10:14:47.239036800   \n",
       "5156202 2986 days 18:14:55.585161600 2014-05-16 18:14:55.585161600   \n",
       "4002718 2677 days 09:59:44.700403200 2014-11-29 09:59:44.700403200   \n",
       "4746297 2483 days 12:24:49.285267199 2013-10-07 12:24:49.285267199   \n",
       "4152550 2598 days 22:13:13.084723200 2016-09-20 22:13:13.084723200   \n",
       "4211452 2581 days 15:29:27.402460800 2016-02-27 15:29:27.402460800   \n",
       "3833821 2508 days 05:00:03.100262400 2017-01-04 05:00:03.100262400   \n",
       "4598815 2611 days 16:39:52.237785600 2018-11-06 16:39:52.237785600   \n",
       "3493606    2411 days 06:35:41.056368 2014-04-09 06:35:41.056368000   \n",
       "4051470 1612 days 13:56:01.280745600 2010-09-15 13:56:01.280745600   \n",
       "4135390    2878 days 09:10:24.165696 2015-10-15 09:10:24.165696000   \n",
       "4728695 1877 days 16:29:50.476991999 2014-09-05 16:29:50.476991999   \n",
       "\n",
       "                            final_dt  Y  UKB_Triglycerides  UKB_HDL  score  \n",
       "pid                                                                         \n",
       "4606911    1725 days 08:09:18.346320  1            1.64834  1.00854     33  \n",
       "4427284 1505 days 06:07:49.264060800  1            0.57579  1.39644     40  \n",
       "2893236 2262 days 12:14:57.327158399  1            2.37090  0.95682     45  \n",
       "7691140 1627 days 12:40:04.794787200  1            0.66611  1.49988     52  \n",
       "8592118 2331 days 21:46:50.308348800  1            0.91449  2.01708     58  \n",
       "5110727           2938 days 00:00:00  1            1.38867  1.47402     58  \n",
       "4303270 2638 days 15:10:14.963750400  1            2.34832  1.55160     59  \n",
       "9211665 2101 days 23:19:56.250825600  1            0.83546  1.21542     62  \n",
       "8010481 3172 days 08:25:12.617817600  1            1.95317  1.37058     63  \n",
       "813015     1126 days 18:34:36.620112  1            1.72737  1.18956     63  \n",
       "5438362    2340 days 05:48:49.921776  1            0.85804  1.60332     64  \n",
       "3920361 3089 days 19:48:19.196006400  1            3.52248  1.11198     64  \n",
       "4643222    2461 days 11:50:48.447888  1            5.08050  0.82752     65  \n",
       "4559617 2993 days 15:45:17.015443200  1            1.62576  1.16370     67  \n",
       "4236337 3366 days 14:50:04.766726400  1            1.59189  1.42230     68  \n",
       "296839  3055 days 11:15:08.215257600  1            1.07255  0.85338     68  \n",
       "1351633 3363 days 14:52:59.895292800  1            0.86933  0.98268     70  \n",
       "7886169 1682 days 14:41:38.113065600  1            1.70479  1.13784     72  \n",
       "1431563 1345 days 07:32:58.867958400  1            1.04997  0.64650     73  \n",
       "4017756 2120 days 09:42:35.447529600  1            0.85804  1.75848     74  \n",
       "1381267 1775 days 00:45:37.286524800  1            0.79030  1.88778     74  \n",
       "1525482 2598 days 11:24:15.524524800  1            0.88062  1.52574     76  \n",
       "9278261 1982 days 18:29:35.420121600  1            2.09994  0.69822     76  \n",
       "3676035 1478 days 14:59:37.603564800  1            0.91449  1.65504     77  \n",
       "52237   2332 days 03:55:46.704863999  1            1.00481  1.03440     78  \n",
       "4170121 2893 days 01:36:44.404790400  1            1.23061  1.37058     78  \n",
       "3834084 4276 days 02:41:41.293276800  1            0.92578  1.81020     78  \n",
       "3413825    3290 days 19:36:34.449264  1            1.71608  1.24128     78  \n",
       "5178000 2275 days 12:59:36.071980800  1            2.34832  0.98268     78  \n",
       "1245113           3340 days 00:00:00  1            1.37738  1.31886     79  \n",
       "3726171 1613 days 08:57:56.726553600  1            2.00962  1.44816     79  \n",
       "4343240 2779 days 15:28:05.596348800  1            1.58060  1.13784     80  \n",
       "5227386 3181 days 20:00:24.079910400  1            1.27577  1.49988     80  \n",
       "5105083 2542 days 02:26:53.807164800  1            1.50157  1.34472     81  \n",
       "8971987 2649 days 02:09:06.071299200  1            2.15639  1.42230     81  \n",
       "8954108 3302 days 05:35:17.580681600  1            0.80159  0.77580     82  \n",
       "4223915 2553 days 06:00:00.411523200  1            2.42735  0.87924     84  \n",
       "5355228    1602 days 13:19:02.159904  1            5.93854  1.21542     84  \n",
       "3405999 2939 days 10:14:47.239036800  1            1.17416  0.98268     84  \n",
       "5156202 2986 days 18:14:55.585161600  1            0.88062  1.13784     84  \n",
       "4002718 2677 days 09:59:44.700403200  1            1.91930  1.29300     85  \n",
       "4746297 2483 days 12:24:49.285267199  1            1.65963  1.52574     85  \n",
       "4152550 2598 days 22:13:13.084723200  1            0.68869  1.42230     85  \n",
       "4211452 2581 days 15:29:27.402460800  1            2.38219  0.90510     85  \n",
       "3833821 2508 days 05:00:03.100262400  1            1.74995  0.95682     86  \n",
       "4598815 2611 days 16:39:52.237785600  1            1.18545  1.21542     86  \n",
       "3493606    2411 days 06:35:41.056368  1            1.42254  0.93096     86  \n",
       "4051470 1612 days 13:56:01.280745600  1            0.95965  1.24128     87  \n",
       "4135390    2878 days 09:10:24.165696  1            1.11771  0.64650     87  \n",
       "4728695 1877 days 16:29:50.476991999  1            1.45641  1.75848     88  "
      ]
     },
     "execution_count": 167,
     "metadata": {},
     "output_type": "execute_result"
    }
   ],
   "source": [
    "final_df.loc[final_df[\"Y\"]==1,:].head(50)"
   ]
  },
  {
   "cell_type": "code",
   "execution_count": 168,
   "metadata": {
    "ExecuteTime": {
     "end_time": "2021-11-14T07:59:19.192907Z",
     "start_time": "2021-11-14T07:59:19.129142Z"
    }
   },
   "outputs": [
    {
     "data": {
      "text/html": [
       "<div>\n",
       "<style scoped>\n",
       "    .dataframe tbody tr th:only-of-type {\n",
       "        vertical-align: middle;\n",
       "    }\n",
       "\n",
       "    .dataframe tbody tr th {\n",
       "        vertical-align: top;\n",
       "    }\n",
       "\n",
       "    .dataframe thead th {\n",
       "        text-align: right;\n",
       "    }\n",
       "</style>\n",
       "<table border=\"1\" class=\"dataframe\">\n",
       "  <thead>\n",
       "    <tr style=\"text-align: right;\">\n",
       "      <th></th>\n",
       "      <th>first_visit</th>\n",
       "      <th>HbA1c%</th>\n",
       "      <th>datetime_leida</th>\n",
       "      <th>is_male</th>\n",
       "      <th>GGT</th>\n",
       "      <th>Reticulocyte Count</th>\n",
       "      <th>HDL</th>\n",
       "      <th>Triglycerides</th>\n",
       "      <th>diabetes_date</th>\n",
       "      <th>UKB_HbA1c</th>\n",
       "      <th>UKB_reticulocyte_count</th>\n",
       "      <th>dt_years</th>\n",
       "      <th>dt_days</th>\n",
       "      <th>check_date</th>\n",
       "      <th>final_dt</th>\n",
       "      <th>Y</th>\n",
       "      <th>UKB_Triglycerides</th>\n",
       "      <th>UKB_HDL</th>\n",
       "      <th>score</th>\n",
       "    </tr>\n",
       "    <tr>\n",
       "      <th>pid</th>\n",
       "      <th></th>\n",
       "      <th></th>\n",
       "      <th></th>\n",
       "      <th></th>\n",
       "      <th></th>\n",
       "      <th></th>\n",
       "      <th></th>\n",
       "      <th></th>\n",
       "      <th></th>\n",
       "      <th></th>\n",
       "      <th></th>\n",
       "      <th></th>\n",
       "      <th></th>\n",
       "      <th></th>\n",
       "      <th></th>\n",
       "      <th></th>\n",
       "      <th></th>\n",
       "      <th></th>\n",
       "      <th></th>\n",
       "    </tr>\n",
       "  </thead>\n",
       "  <tbody>\n",
       "    <tr>\n",
       "      <th>5221852</th>\n",
       "      <td>2009-02-24</td>\n",
       "      <td>5.70</td>\n",
       "      <td>1956-03-31</td>\n",
       "      <td>1.0</td>\n",
       "      <td>174.0</td>\n",
       "      <td>64.0</td>\n",
       "      <td>31.0</td>\n",
       "      <td>96.0</td>\n",
       "      <td>NaN</td>\n",
       "      <td>38.79795</td>\n",
       "      <td>0.0640</td>\n",
       "      <td>10.396571</td>\n",
       "      <td>3794 days 17:57:39.743510400</td>\n",
       "      <td>2019-07-16 17:57:39.743510400</td>\n",
       "      <td>3794 days 17:57:39.743510400</td>\n",
       "      <td>0</td>\n",
       "      <td>1.08384</td>\n",
       "      <td>0.80166</td>\n",
       "      <td>151</td>\n",
       "    </tr>\n",
       "    <tr>\n",
       "      <th>5162344</th>\n",
       "      <td>2007-02-28</td>\n",
       "      <td>5.74</td>\n",
       "      <td>1938-05-29</td>\n",
       "      <td>0.0</td>\n",
       "      <td>33.0</td>\n",
       "      <td>82.0</td>\n",
       "      <td>40.0</td>\n",
       "      <td>244.0</td>\n",
       "      <td>NaN</td>\n",
       "      <td>39.23511</td>\n",
       "      <td>0.0820</td>\n",
       "      <td>9.365075</td>\n",
       "      <td>3418 days 06:03:13.200249600</td>\n",
       "      <td>2016-07-08 06:03:13.200249600</td>\n",
       "      <td>3418 days 06:03:13.200249600</td>\n",
       "      <td>0</td>\n",
       "      <td>2.75476</td>\n",
       "      <td>1.03440</td>\n",
       "      <td>152</td>\n",
       "    </tr>\n",
       "    <tr>\n",
       "      <th>4364815</th>\n",
       "      <td>2009-05-18</td>\n",
       "      <td>5.70</td>\n",
       "      <td>1961-07-21</td>\n",
       "      <td>0.0</td>\n",
       "      <td>141.0</td>\n",
       "      <td>73.7</td>\n",
       "      <td>40.0</td>\n",
       "      <td>158.0</td>\n",
       "      <td>NaN</td>\n",
       "      <td>38.79795</td>\n",
       "      <td>0.0737</td>\n",
       "      <td>10.605833</td>\n",
       "      <td>3871 days 03:05:41.060284799</td>\n",
       "      <td>2019-12-23 03:05:41.060284799</td>\n",
       "      <td>3871 days 03:05:41.060284799</td>\n",
       "      <td>0</td>\n",
       "      <td>1.78382</td>\n",
       "      <td>1.03440</td>\n",
       "      <td>153</td>\n",
       "    </tr>\n",
       "    <tr>\n",
       "      <th>4048043</th>\n",
       "      <td>2009-07-09</td>\n",
       "      <td>5.90</td>\n",
       "      <td>1956-04-13</td>\n",
       "      <td>1.0</td>\n",
       "      <td>334.0</td>\n",
       "      <td>71.0</td>\n",
       "      <td>28.0</td>\n",
       "      <td>88.0</td>\n",
       "      <td>NaN</td>\n",
       "      <td>40.98375</td>\n",
       "      <td>0.0710</td>\n",
       "      <td>11.314560</td>\n",
       "      <td>4129 days 19:32:38.361782399</td>\n",
       "      <td>2019-12-31 00:00:00.000000000</td>\n",
       "      <td>3827 days 00:00:00</td>\n",
       "      <td>0</td>\n",
       "      <td>0.99352</td>\n",
       "      <td>0.72408</td>\n",
       "      <td>154</td>\n",
       "    </tr>\n",
       "    <tr>\n",
       "      <th>4141416</th>\n",
       "      <td>2009-03-16</td>\n",
       "      <td>6.10</td>\n",
       "      <td>1957-05-24</td>\n",
       "      <td>1.0</td>\n",
       "      <td>73.0</td>\n",
       "      <td>85.3</td>\n",
       "      <td>25.0</td>\n",
       "      <td>168.0</td>\n",
       "      <td>NaN</td>\n",
       "      <td>43.16955</td>\n",
       "      <td>0.0853</td>\n",
       "      <td>8.857912</td>\n",
       "      <td>3233 days 03:18:23.802681600</td>\n",
       "      <td>2018-01-21 03:18:23.802681600</td>\n",
       "      <td>3233 days 03:18:23.802681600</td>\n",
       "      <td>0</td>\n",
       "      <td>1.89672</td>\n",
       "      <td>0.64650</td>\n",
       "      <td>154</td>\n",
       "    </tr>\n",
       "  </tbody>\n",
       "</table>\n",
       "</div>"
      ],
      "text/plain": [
       "        first_visit  HbA1c% datetime_leida  is_male    GGT  \\\n",
       "pid                                                          \n",
       "5221852  2009-02-24    5.70     1956-03-31      1.0  174.0   \n",
       "5162344  2007-02-28    5.74     1938-05-29      0.0   33.0   \n",
       "4364815  2009-05-18    5.70     1961-07-21      0.0  141.0   \n",
       "4048043  2009-07-09    5.90     1956-04-13      1.0  334.0   \n",
       "4141416  2009-03-16    6.10     1957-05-24      1.0   73.0   \n",
       "\n",
       "         Reticulocyte Count   HDL  Triglycerides diabetes_date  UKB_HbA1c  \\\n",
       "pid                                                                         \n",
       "5221852                64.0  31.0           96.0           NaN   38.79795   \n",
       "5162344                82.0  40.0          244.0           NaN   39.23511   \n",
       "4364815                73.7  40.0          158.0           NaN   38.79795   \n",
       "4048043                71.0  28.0           88.0           NaN   40.98375   \n",
       "4141416                85.3  25.0          168.0           NaN   43.16955   \n",
       "\n",
       "         UKB_reticulocyte_count   dt_years                      dt_days  \\\n",
       "pid                                                                       \n",
       "5221852                  0.0640  10.396571 3794 days 17:57:39.743510400   \n",
       "5162344                  0.0820   9.365075 3418 days 06:03:13.200249600   \n",
       "4364815                  0.0737  10.605833 3871 days 03:05:41.060284799   \n",
       "4048043                  0.0710  11.314560 4129 days 19:32:38.361782399   \n",
       "4141416                  0.0853   8.857912 3233 days 03:18:23.802681600   \n",
       "\n",
       "                           check_date                     final_dt  Y  \\\n",
       "pid                                                                     \n",
       "5221852 2019-07-16 17:57:39.743510400 3794 days 17:57:39.743510400  0   \n",
       "5162344 2016-07-08 06:03:13.200249600 3418 days 06:03:13.200249600  0   \n",
       "4364815 2019-12-23 03:05:41.060284799 3871 days 03:05:41.060284799  0   \n",
       "4048043 2019-12-31 00:00:00.000000000           3827 days 00:00:00  0   \n",
       "4141416 2018-01-21 03:18:23.802681600 3233 days 03:18:23.802681600  0   \n",
       "\n",
       "         UKB_Triglycerides  UKB_HDL  score  \n",
       "pid                                         \n",
       "5221852            1.08384  0.80166    151  \n",
       "5162344            2.75476  1.03440    152  \n",
       "4364815            1.78382  1.03440    153  \n",
       "4048043            0.99352  0.72408    154  \n",
       "4141416            1.89672  0.64650    154  "
      ]
     },
     "execution_count": 168,
     "metadata": {},
     "output_type": "execute_result"
    }
   ],
   "source": [
    "final_df.loc[final_df[\"Y\"]==0,:].tail(5)"
   ]
  },
  {
   "cell_type": "code",
   "execution_count": null,
   "metadata": {},
   "outputs": [],
   "source": []
  },
  {
   "cell_type": "code",
   "execution_count": null,
   "metadata": {},
   "outputs": [],
   "source": []
  },
  {
   "cell_type": "code",
   "execution_count": null,
   "metadata": {},
   "outputs": [],
   "source": []
  },
  {
   "cell_type": "code",
   "execution_count": null,
   "metadata": {},
   "outputs": [],
   "source": []
  }
 ],
 "metadata": {
  "kernelspec": {
   "display_name": "Python 3",
   "language": "python",
   "name": "python3"
  },
  "language_info": {
   "codemirror_mode": {
    "name": "ipython",
    "version": 3
   },
   "file_extension": ".py",
   "mimetype": "text/x-python",
   "name": "python",
   "nbconvert_exporter": "python",
   "pygments_lexer": "ipython3",
   "version": "3.7.4"
  },
  "toc": {
   "base_numbering": 1,
   "nav_menu": {},
   "number_sections": true,
   "sideBar": true,
   "skip_h1_title": false,
   "title_cell": "Table of Contents",
   "title_sidebar": "Contents",
   "toc_cell": false,
   "toc_position": {},
   "toc_section_display": true,
   "toc_window_display": true
  },
  "varInspector": {
   "cols": {
    "lenName": 16,
    "lenType": 16,
    "lenVar": 40
   },
   "kernels_config": {
    "python": {
     "delete_cmd_postfix": "",
     "delete_cmd_prefix": "del ",
     "library": "var_list.py",
     "varRefreshCmd": "print(var_dic_list())"
    },
    "r": {
     "delete_cmd_postfix": ") ",
     "delete_cmd_prefix": "rm(",
     "library": "var_list.r",
     "varRefreshCmd": "cat(var_dic_list()) "
    }
   },
   "oldHeight": 122.84966600000001,
   "position": {
    "height": "40px",
    "left": "1173px",
    "right": "20px",
    "top": "-8px",
    "width": "250px"
   },
   "types_to_exclude": [
    "module",
    "function",
    "builtin_function_or_method",
    "instance",
    "_Feature"
   ],
   "varInspector_section_display": "none",
   "window_display": true
  }
 },
 "nbformat": 4,
 "nbformat_minor": 4
}
