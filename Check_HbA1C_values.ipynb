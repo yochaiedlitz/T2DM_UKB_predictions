{
 "cells": [
  {
   "cell_type": "code",
   "execution_count": null,
   "outputs": [],
   "source": [
    "import pandas as pd"
   ],
   "metadata": {
    "collapsed": false,
    "pycharm": {
     "name": "#%%\n"
    }
   }
  },
  {
   "cell_type": "code",
   "execution_count": 26,
   "outputs": [],
   "source": [
    "Train_file_path = \"/net/mraid08/export/jafar/UKBioBank/Data/ukb29741_scoretable_train.csv\"\n",
    "Val_file_path = \"/net/mraid08/export/jafar/UKBioBank/Data/ukb29741_scoretable_val.csv\"\n",
    "Train_Val_file_path = \"/net/mraid08/export/jafar/UKBioBank/Data/ukb29741_scoretable_train_val.csv\"\n",
    "Test_file_path = \"/net/mraid08/export/jafar/UKBioBank/Data/ukb29741_Diabetes_scoretable_test.csv\""
   ],
   "metadata": {
    "collapsed": false,
    "pycharm": {
     "name": "#%%\n"
    }
   }
  },
  {
   "cell_type": "code",
   "execution_count": 21,
   "outputs": [
    {
     "data": {
      "text/plain": "['30750-0.0', '30750-0.0_num_na']"
     },
     "execution_count": 21,
     "metadata": {},
     "output_type": "execute_result"
    }
   ],
   "source": [
    "train_val_cols=pd.read_csv(Train_Val_file_path,nrows=0)\n",
    "A1c_cols_list=[x for x in train_val_cols if \"30750-\" in x]\n",
    "A1c_cols_list"
   ],
   "metadata": {
    "collapsed": false,
    "pycharm": {
     "name": "#%%\n"
    }
   }
  },
  {
   "cell_type": "code",
   "execution_count": 69,
   "outputs": [],
   "source": [
    "def filter_dataset(file_path):\n",
    "    df=pd.read_csv(file_path)\n",
    "    filt_df=df.loc[df.loc[:,\"30750-0.0\"]<47.5,:]\n",
    "    new_file_path=file_path.replace(\"scoretable\",\"a1c_below_65\").replace(\"_Diabetes\",\"\")\n",
    "    filt_df.to_csv(new_file_path,index=False)\n",
    "    return filt_df\n",
    "\n",
    "def load_new_data(file_path):\n",
    "    new_file_path=file_path.replace(\"scoretable\",\"a1c_below_65\").replace(\"_Diabetes\",\"\")\n",
    "    new_df=pd.read_csv(new_file_path)\n",
    "    print(\"new_file_path:\",new_file_path)\n",
    "    print(\"new_df.shape:\",new_df.shape)\n",
    "    print(new_df.head(5))\n",
    "    return new_df,new_file_path"
   ],
   "metadata": {
    "collapsed": false,
    "pycharm": {
     "name": "#%%\n"
    }
   }
  },
  {
   "cell_type": "code",
   "execution_count": 70,
   "outputs": [],
   "source": [
    "filt_a1c_Train_val_df=filter_dataset(Train_Val_file_path)"
   ],
   "metadata": {
    "collapsed": false,
    "pycharm": {
     "name": "#%%\n"
    }
   }
  },
  {
   "cell_type": "code",
   "execution_count": 71,
   "outputs": [],
   "source": [
    "filt_a1c_val_df=filter_dataset(Val_file_path)"
   ],
   "metadata": {
    "collapsed": false,
    "pycharm": {
     "name": "#%%\n"
    }
   }
  },
  {
   "cell_type": "code",
   "execution_count": 72,
   "outputs": [],
   "source": [
    "filt_a1c_train_df=filter_dataset(Train_file_path)"
   ],
   "metadata": {
    "collapsed": false,
    "pycharm": {
     "name": "#%%\n"
    }
   }
  },
  {
   "cell_type": "code",
   "execution_count": 73,
   "outputs": [],
   "source": [
    "filt_a1c_test_df=filter_dataset(Test_file_path)"
   ],
   "metadata": {
    "collapsed": false,
    "pycharm": {
     "name": "#%%\n"
    }
   }
  },
  {
   "cell_type": "code",
   "execution_count": 74,
   "outputs": [
    {
     "name": "stdout",
     "output_type": "stream",
     "text": [
      "('new_file_path:', '/net/mraid08/export/jafar/UKBioBank/Data/ukb29741_a1c_below_65_train_val.csv')\n",
      "('new_df.shape:', (35879, 1237))\n",
      "       eid  21003-3.0  21003-4.0  46-0.0  47-0.0  48-0.0  49-0.0  50-0.0  \\\n",
      "0  1000178       53.0        8.0    56.0    54.0    81.0    94.0   181.0   \n",
      "1  1000668       63.0        3.0    10.0    18.0    96.0   101.0   158.0   \n",
      "2  1000751       54.0        9.0    20.0    30.0    80.0   100.0   175.0   \n",
      "3  1000991       67.0       11.0    20.0    21.0    82.0   107.0   167.0   \n",
      "4  1001666       79.0       10.0    34.0    40.0   100.0   106.0   187.0   \n",
      "\n",
      "     78-0.0    102-0.0        ...          Physical activity  Red meat intake  \\\n",
      "0 -0.139000  73.000000        ...                  68.255766              2.0   \n",
      "1 -0.242563  68.000000        ...                  14.338887              3.0   \n",
      "2 -0.242843  67.000000        ...                 190.000000              0.0   \n",
      "3  0.666000  60.366331        ...                  78.250241              4.0   \n",
      "4  0.084000  60.000000        ...                  74.784759              1.0   \n",
      "\n",
      "   Years between visits_woe  Reticulocyte count_woe  \\\n",
      "0                  0.031817                0.049418   \n",
      "1                 -0.485171               -0.193461   \n",
      "2                  0.106856                0.423500   \n",
      "3                  0.480751                0.974678   \n",
      "4                  0.285375               -0.976049   \n",
      "\n",
      "   Glycated haemoglobin (HbA1c)_woe  HDL cholesterol_woe  \\\n",
      "0                         -0.318536             1.023008   \n",
      "1                          1.719940            -1.888472   \n",
      "2                         -2.845480             0.223226   \n",
      "3                         -2.845480            -0.327848   \n",
      "4                         -0.731356            -0.967802   \n",
      "\n",
      "   Gamma glutamyltransferase_woe   Sex_woe  Age at last visit_woe  \\\n",
      "0                      -1.470207  0.315997                    0.0   \n",
      "1                      -0.647187 -0.411997                    0.0   \n",
      "2                      -2.434935 -0.411997                    0.0   \n",
      "3                      -2.434935 -0.411997                    0.0   \n",
      "4                      -0.997260  0.315997                    0.0   \n",
      "\n",
      "   Triglycerides_woe  \n",
      "0           0.353954  \n",
      "1          -0.595327  \n",
      "2          -0.811078  \n",
      "3          -2.027718  \n",
      "4          -2.027718  \n",
      "\n",
      "[5 rows x 1237 columns]\n"
     ]
    }
   ],
   "source": [
    "_,_=load_new_data(Train_Val_file_path)"
   ],
   "metadata": {
    "collapsed": false,
    "pycharm": {
     "name": "#%%\n"
    }
   }
  },
  {
   "cell_type": "code",
   "execution_count": 75,
   "outputs": [
    {
     "name": "stdout",
     "output_type": "stream",
     "text": [
      "('new_file_path:', '/net/mraid08/export/jafar/UKBioBank/Data/ukb29741_a1c_below_65_val.csv')\n",
      "('new_df.shape:', (10757, 1237))\n",
      "       eid  21003-3.0  21003-4.0  46-0.0  47-0.0  48-0.0  49-0.0  50-0.0  \\\n",
      "0  3292964       51.0        7.0    25.0    33.0    93.0   101.0   173.0   \n",
      "1  2169242       68.0        7.0    48.0    52.0    97.0   103.0   180.0   \n",
      "2  1472378       69.0        5.0    24.0    26.0    85.0    98.0   157.0   \n",
      "3  5707725       58.0        8.0    34.0    40.0    90.0   114.0   163.0   \n",
      "4  3916165       63.0        6.0    34.0    34.0    97.0    96.0   167.0   \n",
      "\n",
      "     78-0.0  102-0.0        ...          Physical activity  Red meat intake  \\\n",
      "0 -0.241798     50.0        ...                  65.152814              2.0   \n",
      "1 -0.241901     84.0        ...                  12.025691              1.0   \n",
      "2 -0.242820     64.0        ...                  90.000000              3.0   \n",
      "3 -0.242600     68.0        ...                   0.000000              3.0   \n",
      "4 -0.242779     77.0        ...                  70.000000              2.0   \n",
      "\n",
      "   Years between visits_woe  Reticulocyte count_woe  \\\n",
      "0                  0.031817               -0.976049   \n",
      "1                  0.031817               -0.747468   \n",
      "2                 -0.485171                0.974678   \n",
      "3                  0.031817               -1.407058   \n",
      "4                 -0.050044                0.974678   \n",
      "\n",
      "   Glycated haemoglobin (HbA1c)_woe  HDL cholesterol_woe  \\\n",
      "0                         -0.731356             0.223226   \n",
      "1                         -0.731356             0.223226   \n",
      "2                         -1.471397            -0.511755   \n",
      "3                         -0.318536            -0.511755   \n",
      "4                          1.719940             0.103421   \n",
      "\n",
      "   Gamma glutamyltransferase_woe   Sex_woe  Age at last visit_woe  \\\n",
      "0                      -0.997260  0.315997                    0.0   \n",
      "1                      -0.647187  0.315997                    0.0   \n",
      "2                      -0.081900 -0.411997                    0.0   \n",
      "3                      -0.081900 -0.411997                    0.0   \n",
      "4                       0.949619  0.315997                    0.0   \n",
      "\n",
      "   Triglycerides_woe  \n",
      "0          -0.036580  \n",
      "1          -0.595327  \n",
      "2          -0.811078  \n",
      "3          -0.036580  \n",
      "4           0.955289  \n",
      "\n",
      "[5 rows x 1237 columns]\n"
     ]
    }
   ],
   "source": [
    "_,_=load_new_data(Val_file_path)\n"
   ],
   "metadata": {
    "collapsed": false,
    "pycharm": {
     "name": "#%%\n"
    }
   }
  },
  {
   "cell_type": "code",
   "execution_count": 76,
   "outputs": [
    {
     "name": "stdout",
     "output_type": "stream",
     "text": [
      "('new_file_path:', '/net/mraid08/export/jafar/UKBioBank/Data/ukb29741_a1c_below_65_train.csv')\n",
      "('new_df.shape:', (25122, 1237))\n",
      "       eid  21003-3.0  21003-4.0  46-0.0  47-0.0  48-0.0  49-0.0  50-0.0  \\\n",
      "0  5042569       63.0        9.0    16.0    16.0   116.0   118.0   168.0   \n",
      "1  1377679       50.0        7.0    40.0    44.0    81.0    96.0   166.0   \n",
      "2  5892004       64.0        3.0    19.0    19.0    90.0   110.0   165.0   \n",
      "3  5591625       57.0        7.0    18.0    25.0    71.0    91.0   165.0   \n",
      "4  4608302       69.0        5.0    18.0    16.0    78.0   109.0   160.0   \n",
      "\n",
      "     78-0.0  102-0.0        ...          Physical activity  Red meat intake  \\\n",
      "0 -0.242680     72.0        ...                  65.152814              2.0   \n",
      "1 -0.046000     47.0        ...                  12.025691              1.0   \n",
      "2 -0.242858     68.0        ...                  90.000000              3.0   \n",
      "3 -0.242801     65.0        ...                   0.000000              3.0   \n",
      "4 -0.242407     67.0        ...                  70.000000              2.0   \n",
      "\n",
      "   Years between visits_woe  Reticulocyte count_woe  \\\n",
      "0                  0.106856                0.974678   \n",
      "1                  0.031817               -0.747468   \n",
      "2                 -0.485171               -0.976049   \n",
      "3                  0.031817               -1.407058   \n",
      "4                 -0.485171                0.423500   \n",
      "\n",
      "   Glycated haemoglobin (HbA1c)_woe  HDL cholesterol_woe  \\\n",
      "0                         -0.318536             0.223226   \n",
      "1                         -0.731356            -0.511755   \n",
      "2                         -0.731356            -1.888472   \n",
      "3                         -0.318536            -0.967802   \n",
      "4                         -0.318536             0.103421   \n",
      "\n",
      "   Gamma glutamyltransferase_woe   Sex_woe  Age at last visit_woe  \\\n",
      "0                       0.685422 -0.411997                    0.0   \n",
      "1                       0.366123  0.315997                    0.0   \n",
      "2                      -1.470207 -0.411997                    0.0   \n",
      "3                      -2.434935 -0.411997                    0.0   \n",
      "4                      -0.647187 -0.411997                    0.0   \n",
      "\n",
      "   Triglycerides_woe  \n",
      "0           0.353954  \n",
      "1          -0.811078  \n",
      "2          -2.027718  \n",
      "3          -2.027718  \n",
      "4          -0.036580  \n",
      "\n",
      "[5 rows x 1237 columns]\n"
     ]
    }
   ],
   "source": [
    "_,_=load_new_data(Train_file_path)"
   ],
   "metadata": {
    "collapsed": false,
    "pycharm": {
     "name": "#%%\n"
    }
   }
  },
  {
   "cell_type": "code",
   "execution_count": 77,
   "outputs": [
    {
     "name": "stdout",
     "output_type": "stream",
     "text": [
      "('new_file_path:', '/net/mraid08/export/jafar/UKBioBank/Data/ukb29741_a1c_below_65_test.csv')\n",
      "('new_df.shape:', (8994, 1237))\n",
      "       eid  21003-3.0  21003-4.0  46-0.0  47-0.0  48-0.0  49-0.0  50-0.0  \\\n",
      "0  1717325       70.0        6.0    24.0    26.0    98.0   102.0   171.0   \n",
      "1  5606913       62.0       10.0    30.0    38.0    98.0   104.0   176.0   \n",
      "2  3718362       64.0        8.0    16.0    23.0    66.2    93.8   169.0   \n",
      "3  4850869       50.0        9.0    59.0    62.0   112.0   117.0   186.0   \n",
      "4  4718570       60.0        7.0    14.0    18.0    83.0   104.0   165.0   \n",
      "\n",
      "     78-0.0  102-0.0        ...          Physical activity  Red meat intake  \\\n",
      "0 -0.242540     66.0        ...                  10.000000              4.0   \n",
      "1 -0.177000     66.0        ...                  37.363129              2.0   \n",
      "2 -1.205000    114.0        ...                  58.797391              3.0   \n",
      "3  0.908000     67.0        ...                 180.000000              2.0   \n",
      "4 -0.242903     84.0        ...                  27.447704              2.0   \n",
      "\n",
      "   Years between visits_woe  Reticulocyte count_woe  \\\n",
      "0                 -0.050044                0.423500   \n",
      "1                  0.285375                0.049418   \n",
      "2                  0.031817                0.049418   \n",
      "3                  0.106856                0.974678   \n",
      "4                  0.031817               -0.747468   \n",
      "\n",
      "   Glycated haemoglobin (HbA1c)_woe  HDL cholesterol_woe  \\\n",
      "0                         -1.471397             1.023008   \n",
      "1                         -1.962816             0.223226   \n",
      "2                         -1.471397            -0.511755   \n",
      "3                          0.218010             0.223226   \n",
      "4                         -0.318536            -0.967802   \n",
      "\n",
      "   Gamma glutamyltransferase_woe   Sex_woe  Age at last visit_woe  \\\n",
      "0                       0.949619  0.315997                    0.0   \n",
      "1                       0.685422  0.315997                    0.0   \n",
      "2                      -1.470207 -0.411997                    0.0   \n",
      "3                       0.949619  0.315997                    0.0   \n",
      "4                      -2.434935 -0.411997                    0.0   \n",
      "\n",
      "   Triglycerides_woe  \n",
      "0          -0.595327  \n",
      "1           0.353954  \n",
      "2          -2.027718  \n",
      "3           0.955289  \n",
      "4          -0.595327  \n",
      "\n",
      "[5 rows x 1237 columns]\n"
     ]
    }
   ],
   "source": [
    "_,_=load_new_data(Test_file_path)"
   ],
   "metadata": {
    "collapsed": false,
    "pycharm": {
     "name": "#%%\n"
    }
   }
  },
  {
   "cell_type": "code",
   "execution_count": null,
   "outputs": [],
   "source": [],
   "metadata": {
    "collapsed": false,
    "pycharm": {
     "name": "#%%\n"
    }
   }
  }
 ],
 "metadata": {
  "kernelspec": {
   "display_name": "Python 2",
   "language": "python",
   "name": "python2"
  },
  "language_info": {
   "codemirror_mode": {
    "name": "ipython",
    "version": 2
   },
   "file_extension": ".py",
   "mimetype": "text/x-python",
   "name": "python",
   "nbconvert_exporter": "python",
   "pygments_lexer": "ipython2",
   "version": "2.7.6"
  },
  "pycharm": {
   "stem_cell": {
    "cell_type": "raw",
    "source": [
     "\"\"\"\n",
     "Checking for HbA1C% values to be below 6.5% which is the equivalent to 47.5 mmol/mol\n",
     "\n",
     "\"\"\""
    ],
    "metadata": {
     "collapsed": false
    }
   }
  }
 },
 "nbformat": 4,
 "nbformat_minor": 0
}