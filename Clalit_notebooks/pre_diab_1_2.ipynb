{
 "cells": [
  {
   "cell_type": "code",
   "execution_count": 97,
   "metadata": {},
   "outputs": [],
   "source": [
    "from cutils.data_builder.load import load_demographics, load_labtests, load_diagnoses, load_pharma\n",
    "from cutils.general.data_descriptions import get_kod_bdika_dicts, get_ICD_dicts, get_pharma_dicts, get_makat_to_ATC_dict\n",
    "from Sandbox.iris.T2D_validation_yochai.config import *\n",
    "import numpy as np\n",
    "from datetime import datetime, timedelta\n",
    "import numpy as np\n",
    "from sklearn.metrics import auc\n",
    "from sklearn.metrics import RocCurveDisplay,PrecisionRecallDisplay\n",
    "import os\n",
    "import sys\n",
    "import pandas as pd\n",
    "from sklearn.metrics import PrecisionRecallDisplay,RocCurveDisplay, precision_recall_curve, roc_curve, auc\n",
    "import matplotlib.pyplot as plt\n",
    "from tqdm.notebook import tqdm\n",
    "from sklearn.metrics import roc_auc_score, average_precision_score\n",
    "\n",
    "%matplotlib inline"
   ]
  },
  {
   "cell_type": "code",
   "execution_count": 165,
   "metadata": {},
   "outputs": [],
   "source": [
    "to_clalit_folder=\"/data1/safe/From_Clalit\"\n",
    "comp_new=False\n",
    "low_a1c_threshold=5.7\n",
    "high_a1c_threshold=6.5\n",
    "recruitment_years = [2006, 2011]\n",
    "use_plasma_glucose=False\n",
    "min_num_test=3\n",
    "n_visits_start=1\n",
    "n_visits_end=2\n",
    "calc_stats=False\n",
    "suffix=\"_pre_diab\"\n",
    "recalc_robust_pids=True\n",
    "curr_fold_name=\"y_\"+str(int(recruitment_years[0]))+\"_\"+str(int(recruitment_years[1]))+\"_mt_\"+str(int(min_num_test))+\"_mse_\"+str(int(n_visits_start))+\"_\"+str(int(n_visits_end))+suffix\n",
    "FOLDER=os.path.join(\"/data1/yochai_t2d/\",curr_fold_name)\n",
    "if not os.path.isdir(FOLDER):\n",
    "    os.makedirs(FOLDER)"
   ]
  },
  {
   "cell_type": "code",
   "execution_count": 94,
   "metadata": {},
   "outputs": [
    {
     "data": {
      "text/plain": [
       "'/data1/yochai_t2d/y_2006_2011_mt_3_mse_1_2_fr'"
      ]
     },
     "execution_count": 94,
     "metadata": {},
     "output_type": "execute_result"
    }
   ],
   "source": [
    "FOLDER"
   ]
  },
  {
   "cell_type": "code",
   "execution_count": null,
   "metadata": {},
   "outputs": [],
   "source": [
    "'/data1/yochai_t2d/y_2006_2011_mt_3_mse_1_2_fr'"
   ]
  },
  {
   "cell_type": "code",
   "execution_count": 4,
   "metadata": {},
   "outputs": [],
   "source": [
    "cat_to_kod_bdika, kod_bdika_to_cat, cat_code_bdika_to_short_desc, cat_code_to_bdika_long_desc,kod_bdika_to_short_desc, kod_bdika_to_long_desc = get_kod_bdika_dicts(load_dir=DATA_FOLDER)\n",
    "labtests = load_labtests(load_dir=DATA_FOLDER)"
   ]
  },
  {
   "cell_type": "markdown",
   "metadata": {},
   "source": [
    "ToDo - \n",
    "-Check if the robustness test helps or degrades (otherwise, dont limit number of HbA1c tests)\n",
    "-Check if diagnosys by non-fasting Glucose helps\n",
    "-Check if limiting the Diabetes cases to only 30days or more after the test helps."
   ]
  },
  {
   "cell_type": "markdown",
   "metadata": {},
   "source": [
    "# Statistics"
   ]
  },
  {
   "cell_type": "code",
   "execution_count": 5,
   "metadata": {},
   "outputs": [],
   "source": [
    "if calc_stats:\n",
    "    hba1c_cat_code = list(\n",
    "        {cat:desc for cat, desc in cat_code_to_bdika_long_desc.items() if str(desc).upper() == 'HEMOGLOBIN A1C %'}.keys())[0]\n",
    "    labtests = load_labtests(load_dir=DATA_FOLDER)\n",
    "    nunique_labtests=labtests.pid.nunique()\n",
    "    hba1c_tests = labtests[labtests.bdika_cat_code.eq(hba1c_cat_code)]\n",
    "    hba1c_tests_all_nunique=hba1c_tests.pid.nunique()\n",
    "    hba1c_tests = hba1c_tests[hba1c_tests.value.between(3, 16)]\n",
    "    hba1c_tests_3_16_nunique=hba1c_tests.pid.nunique()\n",
    "    hba1c_tests = hba1c_tests[hba1c_tests['datetime_bdika'].dt.year.between(*recruitment_years)].compute()\n",
    "    hba1c_tests_3_16_recruitment_years_nunique=hba1c_tests.pid.nunique()\n",
    "    hba1c_tests_3_16_nunique=hba1c_tests_3_16_nunique.compute()\n",
    "    rel_sorted_hba1c=pd.read_csv(os.path.join(FOLDER,\"rel_sorted_hba1c.csv\"))\n",
    "    cohort_hba1c=pd.read_csv(os.path.join(FOLDER,\"cohort_hba1c.csv\"),index_col=[\"pid\"])\n",
    "    robust_sorted_hba1c_single_test_df=pd.read_csv(os.path.join(FOLDER,\"robust_sorted_hba1c_single_test_df.csv\"),\n",
    "                                                           index_col=[\"pid\",\"datetime_bdika\"])"
   ]
  },
  {
   "cell_type": "markdown",
   "metadata": {},
   "source": [
    "# Functions"
   ]
  },
  {
   "cell_type": "code",
   "execution_count": 99,
   "metadata": {},
   "outputs": [],
   "source": [
    "def calc_rel_sorted_hba1c(min_num_test=4,batch_size=250,recruitment_years=recruitment_years):\n",
    "    \"\"\"Return df of participants with more than min_num_test\"\"\"\n",
    "    hba1c_cat_code = list(\n",
    "    {cat:desc for cat, desc in cat_code_to_bdika_long_desc.items() if str(desc).upper() == 'HEMOGLOBIN A1C %'}.keys())[0]\n",
    "    labtests = load_labtests(load_dir=DATA_FOLDER)\n",
    "    hba1c_tests = labtests[labtests.bdika_cat_code.eq(hba1c_cat_code)]\n",
    "    hba1c_tests = hba1c_tests[hba1c_tests.value.between(3, 16)]\n",
    "    hba1c_tests = hba1c_tests[hba1c_tests['datetime_bdika'].dt.year.between(*recruitment_years)].compute()\n",
    "    hba1c_tests.to_csv(os.path.join(FOLDER,\"hba1c_tests.csv\"))\n",
    "    sorted_hba1c=hba1c_tests.set_index(['pid','datetime_bdika']).sort_index()\n",
    "    sorted_df=sorted_hba1c.reset_index()\n",
    "    rel_pid=sorted_df.groupby(\"pid\").count()>=min_num_test\n",
    "    rel_pid=rel_pid.loc[rel_pid[\"test\"]==True,:].index.values\n",
    "    rel_pid_ind=[x for x in rel_pid if x!=0]\n",
    "    range(int(np.ceil(len(rel_pid_ind)/batch_size)))\n",
    "    sorted_hba1c_list=[]\n",
    "    for ind in tqdm(range(int(np.ceil(len(rel_pid_ind)/batch_size)))):\n",
    "        if (ind+1)*batch_size<len(rel_pid_ind):\n",
    "            sorted_hba1c_list.append(sorted_hba1c.loc[rel_pid_ind[ind*batch_size:(ind+1)*batch_size],:])\n",
    "        else:\n",
    "            sorted_hba1c_list.append(sorted_hba1c.loc[rel_pid_ind[ind*batch_size:],:])\n",
    "    rel_sorted_hba1c=pd.concat(sorted_hba1c_list)\n",
    "    rel_sorted_hba1c.to_csv(os.path.join(FOLDER,\"rel_sorted_hba1c.csv\"))\n",
    "    return rel_sorted_hba1c"
   ]
  },
  {
   "cell_type": "code",
   "execution_count": 100,
   "metadata": {},
   "outputs": [],
   "source": [
    "def check_a1c_robustness(patient_df,n_visits_start,n_visits_end):\n",
    "    \"\"\"\n",
    "    res is bolean, thus it is sufficient to sum its values \n",
    "    \"\"\"\n",
    "    res=patient_df[\"value\"]<6.5\n",
    "    if res.iloc[:n_visits_start].sum()==n_visits_start:\n",
    "        return check_first_t2d_date(patient_df,n_visits_end)\n",
    "    else:\n",
    "        return False\n",
    "    \n",
    "def check_first_t2d_date(patient_df,n_visits_end):\n",
    "    res=patient_df[\"value\"]>=6.5\n",
    "    for ind,x in enumerate(res.values):\n",
    "        if x:\n",
    "            if ind>=len(res.values)-n_visits_end:\n",
    "                return False\n",
    "            elif res.values[ind:ind+n_visits_end].sum()==n_visits_end:\n",
    "                return True\n",
    "            else:\n",
    "                return False\n",
    "    return True"
   ]
  },
  {
   "cell_type": "code",
   "execution_count": 101,
   "metadata": {},
   "outputs": [],
   "source": [
    "def filter_multiteste_same_date(df):\n",
    "    if df[\"value\"].sum()> df.shape[0]:\n",
    "        return False\n",
    "    else:\n",
    "        return True"
   ]
  },
  {
   "cell_type": "code",
   "execution_count": 102,
   "metadata": {},
   "outputs": [],
   "source": [
    "def get_robust_hba1c_df(min_num_test,n_visits_start=2,n_visits_end=2,recalc_robust_pids=True):\n",
    "    file_name=\"robust_sorted_hba1c_\"+str(int(n_visits_start))+\"_\"+str(int(n_visits_end))+\"_single_test_df\"\n",
    "    if os.path.isfile(os.path.join(FOLDER,\"rel_sorted_hba1c.csv\")):\n",
    "        rel_sorted_hba1c=pd.read_csv(os.path.join(FOLDER,\"rel_sorted_hba1c.csv\"),index_col=\"pid\")\n",
    "    else:\n",
    "        rel_sorted_hba1c=calc_rel_sorted_hba1c(min_num_test=min_num_test,batch_size=250)\n",
    "                      \n",
    "    if recalc_robust_pids:\n",
    "        rubust_pids=rel_sorted_hba1c.reset_index().groupby(\"pid\").apply(check_a1c_robustness,n_visits_start=n_visits_start,n_visits_end=n_visits_end)\n",
    "        rubust_pids.to_csv(os.path.join(FOLDER,\"rubust_pids_\"+str(int(n_visits_start))+\"_\"+str(int(n_visits_end))+\"_.csv\"),index=True)\n",
    "    else:\n",
    "        rubust_pids=pd.read_csv(os.path.join(FOLDER,\"rubust_pids_\"+str(int(n_visits_start))+\"_\"+str(int(n_visits_end))+\"_.csv\"),header=None)\n",
    "        rubust_pids.columns=[\"pid\",\"bolean\"]\n",
    "        rubust_pids=rubust_pids.set_index(\"pid\")\n",
    "    pids_array=rubust_pids.values.flatten()\n",
    "    rel_pid_index=rubust_pids.loc[rubust_pids.values.flatten()].index\n",
    "    robust_sorted_hba1c_df=rel_sorted_hba1c.loc[rel_pid_index,:]\n",
    "    \n",
    "    tmp = robust_sorted_hba1c_df.groupby(by=[\"pid\",\"date_bdika\", \"bdika_cat_code\"]).count()\n",
    "    keep_df=tmp.groupby(\"pid\").apply(filter_multiteste_same_date)\n",
    "    keep_df_ind=keep_df.loc[keep_df].index\n",
    "    robust_sorted_hba1c_df=robust_sorted_hba1c_df.loc[keep_df_ind,:]\n",
    "    robust_sorted_hba1c_df.to_csv(os.path.join(FOLDER,file_name+\".csv\"),\n",
    "                                                  index=True)\n",
    "    return robust_sorted_hba1c_df"
   ]
  },
  {
   "cell_type": "code",
   "execution_count": 103,
   "metadata": {},
   "outputs": [],
   "source": [
    "def get_first_non_diabetic_test(robust_sorted_hba1c_single_test_df):\n",
    "    hba1c_tests=robust_sorted_hba1c_single_test_df.reset_index()\n",
    "    earliest_hba1c_tests = hba1c_tests.sort_values(by='datetime_bdika').groupby('pid').first()\n",
    "    earliest_hba1c_tests = earliest_hba1c_tests[earliest_hba1c_tests.value.lt(6.5)]\n",
    "    cohort_hba1c = earliest_hba1c_tests.copy()\n",
    "    cohort_hba1c.to_csv(os.path.join(FOLDER,\"cohort_hba1c.csv\"),index=[\"pid\"])\n",
    "    return cohort_hba1c"
   ]
  },
  {
   "cell_type": "markdown",
   "metadata": {},
   "source": [
    "# 1. First time point"
   ]
  },
  {
   "cell_type": "markdown",
   "metadata": {},
   "source": [
    "## a. Earliest HbA1c 6.5% test"
   ]
  },
  {
   "cell_type": "code",
   "execution_count": 104,
   "metadata": {},
   "outputs": [
    {
     "name": "stderr",
     "output_type": "stream",
     "text": [
      "/data1/anaconda3/lib/python3.6/site-packages/numpy/lib/arraysetops.py:568: FutureWarning: elementwise comparison failed; returning scalar instead, but in the future will perform elementwise comparison\n",
      "  mask |= (ar1 == a)\n"
     ]
    }
   ],
   "source": [
    "if comp_new:\n",
    "    rel_sorted_hba1c=calc_rel_sorted_hba1c(min_num_test=min_num_test,batch_size=250,recruitment_years=recruitment_years)\n",
    "else:\n",
    "    hba1c_tests=pd.read_csv(os.path.join(FOLDER,\"hba1c_tests.csv\"),index_col=[0])\n",
    "    rel_sorted_hba1c=pd.read_csv(os.path.join(FOLDER,\"rel_sorted_hba1c.csv\"),index_col=[0,1])"
   ]
  },
  {
   "cell_type": "code",
   "execution_count": 105,
   "metadata": {},
   "outputs": [
    {
     "name": "stderr",
     "output_type": "stream",
     "text": [
      "/data1/anaconda3/lib/python3.6/site-packages/numpy/lib/arraysetops.py:568: FutureWarning: elementwise comparison failed; returning scalar instead, but in the future will perform elementwise comparison\n",
      "  mask |= (ar1 == a)\n",
      "/data1/anaconda3/lib/python3.6/site-packages/ipykernel_launcher.py:10: FutureWarning: The signature of `Series.to_csv` was aligned to that of `DataFrame.to_csv`, and argument 'header' will change its default value from False to True: please pass an explicit value to suppress this warning.\n",
      "  # Remove the CWD from sys.path while we load stuff.\n"
     ]
    }
   ],
   "source": [
    "comp_earliest=True\n",
    "if comp_new or comp_earliest:\n",
    "    robust_sorted_hba1c_single_test_df=get_robust_hba1c_df(min_num_test,n_visits_start=n_visits_start,n_visits_end=n_visits_end,recalc_robust_pids=recalc_robust_pids)    \n",
    "    cohort_hba1c=get_first_non_diabetic_test(robust_sorted_hba1c_single_test_df)\n",
    "    robust_sorted_hba1c_single_test_df.to_csv(os.path.join(FOLDER,\"robust_sorted_hba1c_single_test_df.csv\"),index=[\"pid\",\"datetime_bdika\"])\n",
    "else:\n",
    "    file_name=\"robust_sorted_hba1c_\"+str(int(n_visits_start))+\"_\"+str(int(n_visits_end))+\"_single_test_df\"\n",
    "    robust_sorted_hba1c_single_test_df=pd.read_csv(os.path.join(FOLDER,\"robust_sorted_hba1c_single_test_df.csv\"),\n",
    "                                                       index_col=[\"pid\",\"datetime_bdika\"])\n",
    "    cohort_hba1c=pd.read_csv(os.path.join(FOLDER,\"cohort_hba1c.csv\"),index_col=[\"pid\"])"
   ]
  },
  {
   "cell_type": "markdown",
   "metadata": {},
   "source": [
    "## b. Fetch  data"
   ]
  },
  {
   "cell_type": "code",
   "execution_count": 106,
   "metadata": {},
   "outputs": [],
   "source": [
    "test_diff = [-30, 30]"
   ]
  },
  {
   "cell_type": "markdown",
   "metadata": {},
   "source": [
    "### Sex"
   ]
  },
  {
   "cell_type": "code",
   "execution_count": 107,
   "metadata": {},
   "outputs": [],
   "source": [
    "if comp_new:\n",
    "    dem = load_demographics(pids=cohort_hba1c.index.values, load_dir=DATA_FOLDER, return_dask=False)\n",
    "    cohort_haba1c_sex = cohort_hba1c.merge(dem[['datetime_leida', 'is_male']], left_index=True, right_index=True, \n",
    "                                           how='inner')\n",
    "    cohort_haba1c_sex.to_csv(os.path.join(FOLDER,\"cohort_haba1c_sex.csv\"),index=[\"pid\"])\n",
    "else:\n",
    "    cohort_haba1c_sex=pd.read_csv(os.path.join(FOLDER,\"cohort_haba1c_sex.csv\"),index_col=[\"pid\"])\n"
   ]
  },
  {
   "cell_type": "code",
   "execution_count": 108,
   "metadata": {},
   "outputs": [
    {
     "data": {
      "text/plain": [
       "56141"
      ]
     },
     "execution_count": 108,
     "metadata": {},
     "output_type": "execute_result"
    }
   ],
   "source": [
    "cohort_haba1c_sex.index.nunique()"
   ]
  },
  {
   "cell_type": "markdown",
   "metadata": {},
   "source": [
    "### GGT"
   ]
  },
  {
   "cell_type": "code",
   "execution_count": 109,
   "metadata": {},
   "outputs": [],
   "source": [
    "if comp_new:\n",
    "    ggt_tests = labtests[labtests.bdika_cat_code.isin(\n",
    "        [k for k, v in cat_code_to_bdika_long_desc.items() if 'GGT' in str(v).upper()])].compute()\n",
    "    ggt_tests = ggt_tests[ggt_tests.pid.isin(cohort_haba1c_sex.index)]\n",
    "    ggt_tests = ggt_tests.merge(cohort_haba1c_sex['datetime_bdika'],\n",
    "                                left_on='pid', right_index=True, suffixes=('_ggt','_hb1ac'), how='inner')\n",
    "    ggt_tests['datetime_bdika_hb1ac']=pd.to_datetime(ggt_tests['datetime_bdika_hb1ac'])\n",
    "    ggt_tests['test_time_diff'] = (ggt_tests['datetime_bdika_hb1ac'] - ggt_tests['datetime_bdika_ggt']).dt.days\n",
    "    ggt_tests = ggt_tests[ggt_tests['test_time_diff'].between(*test_diff)]\n",
    "    ggt_tests = ggt_tests.loc[ggt_tests['test_time_diff'].abs().sort_values().index].groupby('pid').first()\n",
    "    ggt_tests.to_csv(os.path.join(FOLDER,\"ggt_tests.csv\"))\n",
    "    cohort_haba1c_sex_ggt = cohort_haba1c_sex.merge(ggt_tests.rename(columns={'value':'GGT'})['GGT'], left_index=True, right_index=True, how='outer')\n",
    "    cohort_haba1c_sex_ggt.to_csv(os.path.join(FOLDER,\"cohort_haba1c_sex_ggt.csv\"),index=[\"pid\"])\n",
    "else:\n",
    "    ggt_tests=pd.read_csv(os.path.join(FOLDER,\"ggt_tests.csv\"),index_col=\"pid\")\n",
    "    cohort_haba1c_sex_ggt=pd.read_csv(os.path.join(FOLDER,\"cohort_haba1c_sex_ggt.csv\"),index_col=[\"pid\"])"
   ]
  },
  {
   "cell_type": "code",
   "execution_count": 110,
   "metadata": {},
   "outputs": [
    {
     "data": {
      "text/plain": [
       "56141"
      ]
     },
     "execution_count": 110,
     "metadata": {},
     "output_type": "execute_result"
    }
   ],
   "source": [
    "cohort_haba1c_sex_ggt.index.nunique()"
   ]
  },
  {
   "cell_type": "markdown",
   "metadata": {},
   "source": [
    "## Reticulocyte count"
   ]
  },
  {
   "cell_type": "code",
   "execution_count": 111,
   "metadata": {},
   "outputs": [],
   "source": [
    "if comp_new:\n",
    "    reticulocyte_counts = labtests[labtests.bdika_cat_code.isin(\n",
    "        [k for k, v in cat_code_to_bdika_long_desc.items() if 'RETICUL. COUNT abs' in str(v)])].compute()\n",
    "    reticulocyte_counts = reticulocyte_counts[reticulocyte_counts.value.notnull()]\n",
    "    reticulocyte_counts = reticulocyte_counts[reticulocyte_counts.pid.isin(cohort_haba1c_sex_ggt.index)]\n",
    "    reticulocyte_counts = reticulocyte_counts.merge(\n",
    "    cohort_haba1c_sex_ggt['datetime_bdika'], left_on='pid', right_index=True, suffixes=('_reticulocyte','_hb1ac'), how='inner')\n",
    "    reticulocyte_counts['datetime_bdika_hb1ac']=pd.to_datetime(reticulocyte_counts['datetime_bdika_hb1ac'])\n",
    "    reticulocyte_counts['datetime_bdika_reticulocyte']=pd.to_datetime(reticulocyte_counts['datetime_bdika_reticulocyte'])\n",
    "    reticulocyte_counts['test_time_diff'] = (\n",
    "    reticulocyte_counts['datetime_bdika_hb1ac'] - reticulocyte_counts['datetime_bdika_reticulocyte']).dt.days\n",
    "    reticulocyte_counts = reticulocyte_counts[reticulocyte_counts['test_time_diff'].between(*test_diff)]\n",
    "    reticulocyte_counts = reticulocyte_counts.loc[\n",
    "        reticulocyte_counts['test_time_diff'].abs().sort_values().index].groupby('pid').first()\n",
    "    reticulocyte_counts.to_csv(os.path.join(FOLDER,\"reticulocyte_counts.csv\"),index=True)\n",
    "    cohort_haba1c_sex_ggt_rtc = cohort_haba1c_sex_ggt.merge(reticulocyte_counts.rename(\n",
    "    columns={'value':'Reticulocyte Count'})['Reticulocyte Count'],\n",
    "                      left_index=True, \n",
    "                      right_index=True,\n",
    "                      how='outer')\n",
    "    cohort_haba1c_sex_ggt_rtc.to_csv(os.path.join(FOLDER,\"cohort_haba1c_sex_ggt_rtc.csv\"),index=[\"pid\"])\n",
    "else:\n",
    "    reticulocyte_counts=pd.read_csv(os.path.join(FOLDER,\"reticulocyte_counts.csv\"),index_col=[0])\n",
    "    cohort_haba1c_sex_ggt_rtc=pd.read_csv(os.path.join(FOLDER,\"cohort_haba1c_sex_ggt_rtc.csv\"),index_col=[\"pid\"])"
   ]
  },
  {
   "cell_type": "code",
   "execution_count": 112,
   "metadata": {},
   "outputs": [
    {
     "data": {
      "text/plain": [
       "datetime_bdika        56141\n",
       "date_bdika            56141\n",
       "value                 56141\n",
       "kod_gorem_mafne       56141\n",
       "test                  56141\n",
       "bdika_cat_code        56141\n",
       "datetime_leida        56141\n",
       "is_male               56141\n",
       "GGT                   26848\n",
       "Reticulocyte Count      325\n",
       "dtype: int64"
      ]
     },
     "execution_count": 112,
     "metadata": {},
     "output_type": "execute_result"
    }
   ],
   "source": [
    "cohort_haba1c_sex_ggt_rtc.notna().sum()"
   ]
  },
  {
   "cell_type": "markdown",
   "metadata": {},
   "source": [
    "### HDL"
   ]
  },
  {
   "cell_type": "code",
   "execution_count": 113,
   "metadata": {},
   "outputs": [],
   "source": [
    "if comp_new:\n",
    "    hdl_tests = labtests[labtests.bdika_cat_code.isin(\n",
    "        [k for k, v in cat_code_to_bdika_long_desc.items() if 'CHOLESTEROL- HDL'==str(v)])].compute()\n",
    "    hdl_tests = hdl_tests[hdl_tests.pid.isin(cohort_haba1c_sex_ggt_rtc.index)]\n",
    "    hdl_tests = hdl_tests.merge(cohort_haba1c_sex_ggt_rtc['datetime_bdika'], left_on='pid', right_index=True, suffixes=('_hdl','_hb1ac'), \n",
    "                                how='inner')\n",
    "    hdl_tests['datetime_bdika_hb1ac']=pd.to_datetime(hdl_tests['datetime_bdika_hb1ac'])\n",
    "    hdl_tests['datetime_bdika_hdl']=pd.to_datetime(hdl_tests['datetime_bdika_hdl'])\n",
    "    hdl_tests['test_time_diff'] = (hdl_tests['datetime_bdika_hb1ac'] - hdl_tests['datetime_bdika_hdl']).dt.days\n",
    "    hdl_tests = hdl_tests[hdl_tests['test_time_diff'].between(*test_diff)]\n",
    "    hdl_tests = hdl_tests.loc[hdl_tests['test_time_diff'].abs().sort_values().index].groupby('pid').first()\n",
    "    hdl_tests.to_csv(os.path.join(FOLDER,\"hdl_tests.csv\"),index=[\"pid\"])\n",
    "    cohort_haba1c_sex_ggt_rtc_hdl = cohort_haba1c_sex_ggt_rtc.merge(hdl_tests.rename(\n",
    "        columns={'value':'HDL'})['HDL'],\n",
    "                          left_index=True, \n",
    "                          right_index=True,\n",
    "                          how='outer')\n",
    "    cohort_haba1c_sex_ggt_rtc_hdl.to_csv(os.path.join(FOLDER,\"cohort_haba1c_sex_ggt_rtc_hdl.csv\"),index=[\"pid\"])\n",
    "else:\n",
    "    hdl_tests=pd.read_csv(os.path.join(FOLDER,\"hdl_tests.csv\"),index_col=[\"pid\"])\n",
    "    cohort_haba1c_sex_ggt_rtc_hdl=pd.read_csv(os.path.join(FOLDER,\"cohort_haba1c_sex_ggt_rtc_hdl.csv\"),index_col=[\"pid\"])"
   ]
  },
  {
   "cell_type": "code",
   "execution_count": 114,
   "metadata": {},
   "outputs": [
    {
     "data": {
      "text/plain": [
       "datetime_bdika        56141\n",
       "date_bdika            56141\n",
       "value                 56141\n",
       "kod_gorem_mafne       56141\n",
       "test                  56141\n",
       "bdika_cat_code        56141\n",
       "datetime_leida        56141\n",
       "is_male               56141\n",
       "GGT                   26848\n",
       "Reticulocyte Count      325\n",
       "HDL                   47067\n",
       "dtype: int64"
      ]
     },
     "execution_count": 114,
     "metadata": {},
     "output_type": "execute_result"
    }
   ],
   "source": [
    "cohort_haba1c_sex_ggt_rtc_hdl.notna().sum()"
   ]
  },
  {
   "cell_type": "markdown",
   "metadata": {},
   "source": [
    "### Triglycerides"
   ]
  },
  {
   "cell_type": "code",
   "execution_count": 115,
   "metadata": {},
   "outputs": [],
   "source": [
    "if comp_new:\n",
    "    triglycerides_tests = labtests[labtests.bdika_cat_code.isin(\n",
    "        [k for k, v in cat_code_to_bdika_long_desc.items() if 'TRIGLYCERIDES'==str(v)])].compute()\n",
    "    triglycerides_tests = triglycerides_tests[triglycerides_tests.pid.isin(cohort_haba1c_sex_ggt_rtc_hdl.index)]\n",
    "    triglycerides_tests = triglycerides_tests.merge(cohort_haba1c_sex_ggt_rtc_hdl['datetime_bdika'], \n",
    "                                                    left_on='pid', \n",
    "                                                    right_index=True, \n",
    "                                                    suffixes=('_triglycerides','_hb1ac'), how='inner')\n",
    "    triglycerides_tests['datetime_bdika_hb1ac']=pd.to_datetime(triglycerides_tests['datetime_bdika_hb1ac'])\n",
    "    triglycerides_tests['datetime_bdika_triglycerides']=pd.to_datetime(triglycerides_tests['datetime_bdika_triglycerides'])\n",
    "    triglycerides_tests['test_time_diff'] = (\n",
    "        triglycerides_tests['datetime_bdika_hb1ac'] - triglycerides_tests['datetime_bdika_triglycerides']).dt.days\n",
    "    triglycerides_tests = triglycerides_tests[triglycerides_tests['test_time_diff'].between(*test_diff)]\n",
    "    triglycerides_tests = triglycerides_tests.loc[\n",
    "        triglycerides_tests['test_time_diff'].abs().sort_values().index].groupby('pid').first()\n",
    "    triglycerides_tests.to_csv(os.path.join(FOLDER,\"triglycerides_tests.csv\"),index=[\"pid\"])\n",
    "    cohort_haba1c_sex_ggt_rtc_hdl_tgl = cohort_haba1c_sex_ggt_rtc_hdl.merge(triglycerides_tests.rename(\n",
    "        columns={'value':'Triglycerides'})['Triglycerides'],\n",
    "                          left_index=True, \n",
    "                          right_index=True,\n",
    "                          how='outer')\n",
    "    cohort_haba1c_sex_ggt_rtc_hdl_tgl.index.rename(\"pid\",inplace=True)\n",
    "    cohort_haba1c_sex_ggt_rtc_hdl_tgl.to_csv(os.path.join(FOLDER,\"cohort_haba1c_sex_ggt_rtc_hdl_tgl.csv\"),index=[\"pid\"])\n",
    "else:\n",
    "    triglycerides_tests=pd.read_csv(os.path.join(FOLDER,\"triglycerides_tests.csv\"),index_col=[\"pid\"])\n",
    "    cohort_haba1c_sex_ggt_rtc_hdl_tgl=pd.read_csv(os.path.join(FOLDER,\"cohort_haba1c_sex_ggt_rtc_hdl_tgl.csv\"),index_col=[\"pid\"])"
   ]
  },
  {
   "cell_type": "markdown",
   "metadata": {},
   "source": [
    "### How many are filtered for each null value"
   ]
  },
  {
   "cell_type": "code",
   "execution_count": 116,
   "metadata": {},
   "outputs": [],
   "source": [
    "cohort=cohort_haba1c_sex_ggt_rtc_hdl_tgl.copy()"
   ]
  },
  {
   "cell_type": "code",
   "execution_count": 117,
   "metadata": {},
   "outputs": [
    {
     "data": {
      "text/plain": [
       "56141"
      ]
     },
     "execution_count": 117,
     "metadata": {},
     "output_type": "execute_result"
    }
   ],
   "source": [
    "cohort.index.nunique()"
   ]
  },
  {
   "cell_type": "markdown",
   "metadata": {},
   "source": [
    "## Filter ages"
   ]
  },
  {
   "cell_type": "code",
   "execution_count": 1,
   "metadata": {},
   "outputs": [
    {
     "ename": "NameError",
     "evalue": "name 'cohort' is not defined",
     "output_type": "error",
     "traceback": [
      "\u001B[0;31m---------------------------------------------------------------------------\u001B[0m",
      "\u001B[0;31mNameError\u001B[0m                                 Traceback (most recent call last)",
      "\u001B[0;32m<ipython-input-1-1c7c0e73f209>\u001B[0m in \u001B[0;36m<module>\u001B[0;34m\u001B[0m\n\u001B[0;32m----> 1\u001B[0;31m \u001B[0mcohort\u001B[0m \u001B[0;34m=\u001B[0m \u001B[0mcohort\u001B[0m\u001B[0;34m[\u001B[0m\u001B[0mcohort\u001B[0m\u001B[0;34m[\u001B[0m\u001B[0;34m[\u001B[0m\u001B[0;34m'GGT'\u001B[0m\u001B[0;34m,\u001B[0m \u001B[0;34m'HDL'\u001B[0m\u001B[0;34m,\u001B[0m \u001B[0;34m'Triglycerides'\u001B[0m\u001B[0;34m,\u001B[0m\u001B[0;34m\"value\"\u001B[0m\u001B[0;34m]\u001B[0m\u001B[0;34m]\u001B[0m\u001B[0;34m.\u001B[0m\u001B[0mnotnull\u001B[0m\u001B[0;34m(\u001B[0m\u001B[0;34m)\u001B[0m\u001B[0;34m.\u001B[0m\u001B[0mall\u001B[0m\u001B[0;34m(\u001B[0m\u001B[0maxis\u001B[0m\u001B[0;34m=\u001B[0m\u001B[0;36m1\u001B[0m\u001B[0;34m)\u001B[0m\u001B[0;34m]\u001B[0m\u001B[0;34m.\u001B[0m\u001B[0mcopy\u001B[0m\u001B[0;34m(\u001B[0m\u001B[0;34m)\u001B[0m\u001B[0;34m\u001B[0m\u001B[0;34m\u001B[0m\u001B[0m\n\u001B[0m\u001B[1;32m      2\u001B[0m \u001B[0mcohort\u001B[0m\u001B[0;34m[\u001B[0m\u001B[0;34m'Age'\u001B[0m\u001B[0;34m]\u001B[0m \u001B[0;34m=\u001B[0m \u001B[0;34m(\u001B[0m\u001B[0mpd\u001B[0m\u001B[0;34m.\u001B[0m\u001B[0mto_datetime\u001B[0m\u001B[0;34m(\u001B[0m\u001B[0mcohort\u001B[0m\u001B[0;34m[\u001B[0m\u001B[0;34m'datetime_bdika'\u001B[0m\u001B[0;34m]\u001B[0m\u001B[0;34m)\u001B[0m \u001B[0;34m-\u001B[0m \u001B[0mpd\u001B[0m\u001B[0;34m.\u001B[0m\u001B[0mto_datetime\u001B[0m\u001B[0;34m(\u001B[0m\u001B[0mcohort\u001B[0m\u001B[0;34m[\u001B[0m\u001B[0;34m'datetime_leida'\u001B[0m\u001B[0;34m]\u001B[0m\u001B[0;34m)\u001B[0m\u001B[0;34m)\u001B[0m\u001B[0;34m.\u001B[0m\u001B[0mdt\u001B[0m\u001B[0;34m.\u001B[0m\u001B[0mdays\u001B[0m\u001B[0;34m.\u001B[0m\u001B[0mdiv\u001B[0m\u001B[0;34m(\u001B[0m\u001B[0;36m365.25\u001B[0m\u001B[0;34m)\u001B[0m\u001B[0;34m\u001B[0m\u001B[0;34m\u001B[0m\u001B[0m\n\u001B[1;32m      3\u001B[0m \u001B[0mcohort\u001B[0m \u001B[0;34m=\u001B[0m \u001B[0mcohort\u001B[0m\u001B[0;34m[\u001B[0m\u001B[0mcohort\u001B[0m\u001B[0;34m[\u001B[0m\u001B[0;34m'Age'\u001B[0m\u001B[0;34m]\u001B[0m\u001B[0;34m.\u001B[0m\u001B[0mbetween\u001B[0m\u001B[0;34m(\u001B[0m\u001B[0;36m40\u001B[0m\u001B[0;34m,\u001B[0m \u001B[0;36m70\u001B[0m\u001B[0;34m)\u001B[0m\u001B[0;34m]\u001B[0m\u001B[0;34m.\u001B[0m\u001B[0mcopy\u001B[0m\u001B[0;34m(\u001B[0m\u001B[0;34m)\u001B[0m\u001B[0;34m\u001B[0m\u001B[0;34m\u001B[0m\u001B[0m\n\u001B[1;32m      4\u001B[0m \u001B[0mcohort\u001B[0m\u001B[0;34m.\u001B[0m\u001B[0mhead\u001B[0m\u001B[0;34m(\u001B[0m\u001B[0;34m)\u001B[0m\u001B[0;34m\u001B[0m\u001B[0;34m\u001B[0m\u001B[0m\n",
      "\u001B[0;31mNameError\u001B[0m: name 'cohort' is not defined"
     ]
    }
   ],
   "source": [
    "cohort = cohort[cohort[['GGT', 'HDL', 'Triglycerides',\"value\"]].notnull().all(axis=1)].copy()\n",
    "cohort['Age'] = (pd.to_datetime(cohort['datetime_bdika']) - pd.to_datetime(cohort['datetime_leida'])).dt.days.div(365.25)\n",
    "cohort = cohort[cohort['Age'].between(40, 70)].copy()\n",
    "cohort.head()"
   ]
  },
  {
   "cell_type": "code",
   "execution_count": 119,
   "metadata": {},
   "outputs": [
    {
     "data": {
      "text/plain": [
       "(13725, 13)"
      ]
     },
     "execution_count": 119,
     "metadata": {},
     "output_type": "execute_result"
    }
   ],
   "source": [
    "cohort.shape"
   ]
  },
  {
   "cell_type": "code",
   "execution_count": 120,
   "metadata": {},
   "outputs": [],
   "source": [
    "bt_df=cohort.loc[:,[\"value\",\"is_male\",\"GGT\",\"Reticulocyte Count\",\"HDL\",\"Triglycerides\"]].copy()\n",
    "bt_df_no_retic=cohort.loc[:,[\"value\",\"is_male\",\"GGT\",\"HDL\",\"Triglycerides\"]].copy()\n",
    "bt_df_nona=bt_df.dropna(how=\"any\",axis=0)\n",
    "bt_df_no_retic=bt_df_no_retic.dropna(how=\"any\")"
   ]
  },
  {
   "cell_type": "markdown",
   "metadata": {},
   "source": [
    "## C. No diabetes diagnosis of diabetes related drugs"
   ]
  },
  {
   "cell_type": "markdown",
   "metadata": {},
   "source": [
    "We need to filter out unstable participants, based on their HbA1c values, diagnosys, fasting and remove participants who are getting Glucomin.\n",
    "Similar to how I filtered the participants above."
   ]
  },
  {
   "cell_type": "markdown",
   "metadata": {},
   "source": [
    "### Hab1c > 6.5"
   ]
  },
  {
   "cell_type": "code",
   "execution_count": 122,
   "metadata": {},
   "outputs": [],
   "source": [
    "# hba1c_tests = labtests[labtests.bdika_cat_code.eq(hba1c_cat_code)]\n",
    "hba1c_first_diagnosed = robust_sorted_hba1c_single_test_df[robust_sorted_hba1c_single_test_df.value.gt(6.5)].reset_index().sort_values(by='datetime_bdika').groupby('pid').first()\n",
    "hba1c_first_diagnosed.datetime_bdika=pd.to_datetime( hba1c_first_diagnosed.datetime_bdika)\n",
    "hba1c_first_diagnosed = hba1c_first_diagnosed.datetime_bdika.dt.date.to_frame()\n",
    "hba1c_first_diagnosed.rename(columns={'datetime_bdika': 'first_diabetic_hba1c'}, inplace=True)"
   ]
  },
  {
   "cell_type": "markdown",
   "source": [
    "### Random plasma glucose"
   ],
   "metadata": {
    "collapsed": false
   }
  },
  {
   "cell_type": "code",
   "execution_count": 124,
   "metadata": {},
   "outputs": [],
   "source": [
    "# def check_a1c_robustness(patient_df,n_visits_start,n_visit_end):\n",
    "#     \"\"\"\n",
    "#     res is bolean, thus it is sufficient to sum its values \n",
    "#     \"\"\"\n",
    "#     res=patient_df[\"value\"]<6.5\n",
    "#     if res.iloc[:n_visits_start].sum()==n_visits_start:\n",
    "#         return check_first_t2d_date(patient_df,n_visit_end)\n",
    "#     else:\n",
    "#         return False\n",
    "\n",
    "# def check_first_t2d_date(patient_df,n_visit_end):\n",
    "#     res=patient_df[\"value\"]>=6.5\n",
    "#     for ind,x in enumerate(res.values):\n",
    "#         if x:\n",
    "#             if ind>=len(res.values)-n_visit_end:\n",
    "#                 return False\n",
    "#             elif res.values[ind:ind+n_visit_end].sum()==n_visit_end:\n",
    "#                 return True\n",
    "#             else:\n",
    "#                 return False\n",
    "#     return True"
   ]
  },
  {
   "cell_type": "code",
   "execution_count": 125,
   "metadata": {},
   "outputs": [],
   "source": [
    "def check_test_robustness(patient_df,n_visits_start,n_visits_end,t_hold_value=200):\n",
    "    \"\"\"\n",
    "    res is bolean, thus it is sufficient to sum its values \n",
    "    \"\"\"\n",
    "    res=patient_df[\"value\"]<t_hold_value\n",
    "    if res.iloc[:n_visits_start].sum()==n_visits_start:\n",
    "        return check_first_onset_date(patient_df,n_visits_end)\n",
    "    else:\n",
    "        return False\n",
    "    \n",
    "def check_first_onset_date(patient_df,n_visits_end,t_hold_value=200):\n",
    "    res=patient_df[\"value\"]>=t_hold_value\n",
    "    for ind,x in enumerate(res.values):\n",
    "        if x:\n",
    "            if ind>=len(res.values)-n_visits_end:\n",
    "                return False\n",
    "            elif res.values[ind:ind+n_visits_end].sum()==n_visits_end:\n",
    "                return True\n",
    "            else:\n",
    "                return False\n",
    "    return True"
   ]
  },
  {
   "cell_type": "code",
   "execution_count": 126,
   "metadata": {},
   "outputs": [],
   "source": [
    "if use_plasma_glucose:\n",
    "    if comp_new:\n",
    "        plasma_glucose_cat_codes = [k for k, v in cat_code_to_bdika_long_desc.items() if ('GLUCOSE' == str(v).upper())]\n",
    "        plasma_glucose = labtests[labtests.bdika_cat_code.isin(plasma_glucose_cat_codes)]\n",
    "        plasma_glucose_df=plasma_glucose[plasma_glucose['datetime_bdika'].dt.year.between(*recruitment_years)].compute()\n",
    "        all_plasma_pids=plasma_glucose_df.index.get_level_values(0)\n",
    "        rel_gluc_index=[x for x in all_plasma_pids if x in cohort.index]\n",
    "        rel_plasma_glucose_df=plasma_glucose_df.set_index(['pid','datetime_bdika']).loc[rel_gluc_index,:].sort_index()\n",
    "        rel_plasma_glucose_df.loc[:,[\"value\",\"bdika_cat_code\"]].to_csv(os.path.join(FOLDER,\"rel_plasma_glucose_df.csv\"),index=True)\n",
    "        rel_plasma_glucose_df=rel_plasma_glucose_df.loc[rel_plasma_glucose_df.value.notna(),:]\n",
    "        rel_plasma_glucose_df=rel_plasma_glucose_df[rel_plasma_glucose_df.value.between(50,600).values]\n",
    "        rel_plasma_glucose_df.loc[:,[\"value\",\"bdika_cat_code\"]].to_csv(os.path.join(FOLDER,\"rel_plasma_glucose_df.csv\"),index=True)\n",
    "\n",
    "        # rel_glucose_gt200_df=rel_plasma_glucose_df.value>200\n",
    "        diagnosed_by_glucose=rel_plasma_glucose_df.reset_index().groupby(\"pid\").apply(check_first_onset_date,n_visits_end=2,t_hold_value=200)\n",
    "        first_glucose_diagnosys=pd.to_datetime(\n",
    "            rel_plasma_glucose_df.loc[diagnosed_by_glucose.values,:].reset_index().groupby(\"pid\").datetime_bdika.min()).to_frame()\n",
    "        drop_glucose=first_glucose_diagnosys<pd.to_datetime(cohort.loc[first_glucose_diagnosys.index,\"datetime_bdika\"]).to_frame()\n",
    "        drop_glucose_index=drop_glucose[drop_glucose.values].index\n",
    "        first_glucose_diagnosys=first_glucose_diagnosys.drop(drop_glucose_index)\n",
    "        cohort=cohort.drop(drop_glucose_index)\n",
    "        first_glucose_diagnosys.to_csv(os.path.join(FOLDER,\"first_glucose_diagnosys.csv\"),index=True)\n",
    "\n",
    "    else:\n",
    "        rel_plasma_glucose_df=pd.read_csv(os.path.join(FOLDER,\"rel_plasma_glucose_df.csv\"),index_col=['pid','datetime_bdika'])\n",
    "        first_glucose_diagnosys=pd.read_csv(os.path.join(FOLDER,\"first_glucose_diagnosys.csv\"),index_col=True)\n"
   ]
  },
  {
   "cell_type": "markdown",
   "metadata": {},
   "source": [
    "### Diagnosis"
   ]
  },
  {
   "cell_type": "code",
   "execution_count": 127,
   "metadata": {},
   "outputs": [
    {
     "name": "stdout",
     "output_type": "stream",
     "text": [
      "[########################################] | 100% Completed |  1min 19.7s\n"
     ]
    }
   ],
   "source": [
    "# if comp_new:\n",
    "diagnoses = load_diagnoses(load_dir=DATA_FOLDER, pids=cohort.index.values, return_dask=False)"
   ]
  },
  {
   "cell_type": "code",
   "execution_count": 129,
   "metadata": {},
   "outputs": [],
   "source": [
    "icd9_dicts = {}\n",
    "_, icd9_dicts['ICD_to_cat'], _, icd9_dicts['ICD_to_desc'] = get_ICD_dicts(load_dir=DATA_FOLDER)\n",
    "diabetic_diagnosis_icd9_codes = {k: v for k, v in icd9_dicts['ICD_to_desc'].items() if\n",
    "                                         (('250' in k[:3]) & ('DIABETES' in v) & ('TYPE I,' not in v) & (\n",
    "                                                 'JUVENILE' not in v))}\n",
    "diabetes_omit_dict={'250': 'DIABETES MELLITUS',\n",
    " '2500': 'DIABETES MELLITUS WITHOUT MENTION OF COMPLICATION',\n",
    " '25000': 'ADULT-ONSET TYPE DIABETES MELLITUS WHITHOUT COMPLICATION',\n",
    " '2501': 'DIABETES WITH KETOACIDOSIS',\n",
    " '2502': 'DIABETES WITH HYPEROSMOLAR COMA',\n",
    " '2503': 'DIABETES WITH OTHER COMA',\n",
    " '2504': 'DIABETES WITH RENAL MANIFESTATIONS',\n",
    " '2505': 'DIABETES WITH OPHTHALMIC MANIFESTATIONS',\n",
    " '2506': 'DIABETES WITH NEUROLOGICAL MANIFESTATIONS',\n",
    " '2507': 'DIABETES WITH PERIPHERAL CIRCULATORY DISORDERS',\n",
    " '2508': 'DIABETES WITH OTHER SPECIFIED MANIFESTATIONS',\n",
    " '2509': 'DIABETES WITH UNSPECIFIED COMPLICATION'}\n",
    "filtered_diabetic_diagnosis_icd9_codes={k:v for k,v in diabetic_diagnosis_icd9_codes.items() if v not in diabetes_omit_dict.values()}\n",
    "diabetic_diagnoses_cat_codes = [icd9_dicts['ICD_to_cat'][k] for k in\n",
    "                                        diabetic_diagnosis_icd9_codes.keys()]\n",
    "diabetic_known_diagnoses_cat_codes = [icd9_dicts['ICD_to_cat'][k] for k in\n",
    "                                        filtered_diabetic_diagnosis_icd9_codes.keys()]\n"
   ]
  },
  {
   "cell_type": "code",
   "execution_count": 130,
   "metadata": {},
   "outputs": [],
   "source": [
    "diabetic_diagnoses = diagnoses[diagnoses['diag_cat_code'].isin(diabetic_diagnoses_cat_codes)]\n",
    "diabetic_known_diagnoses= diagnoses[diagnoses['diag_cat_code'].isin(diabetic_known_diagnoses_cat_codes)]\n",
    "diabetic_diagnoses_pid=list(set(diabetic_diagnoses.pid.values))\n",
    "diabetic_known_diagnoses_pids=list(set(diabetic_known_diagnoses.pid.values))\n",
    "drop_pids=[x for x in  diabetic_diagnoses_pid if x not in diabetic_known_diagnoses_pids and x in diabetic_diagnoses_pid and x in cohort.index]\n",
    "drop_pids=list(set(drop_pids))\n",
    "t2d_diagnoses=diabetic_diagnoses.set_index(\"pid\").drop(drop_pids,axis=0).reset_index()\n",
    "first_diabetic_diagnosis = t2d_diagnoses.groupby('pid')[['datetime_start', 'datetime_bikur']].min().min(axis=1).dt.date\n",
    "first_diabetic_diagnosis=pd.to_datetime(first_diabetic_diagnosis)\n",
    "first_diabetic_diagnosis.name=\"first_diabetic_diagnosis\"\n",
    "first_diabetic_diagnosis.head()\n",
    "cohort=cohort.drop(drop_pids)"
   ]
  },
  {
   "cell_type": "markdown",
   "metadata": {},
   "source": [
    "### Drugs"
   ]
  },
  {
   "cell_type": "code",
   "execution_count": 131,
   "metadata": {},
   "outputs": [],
   "source": [
    "if comp_new:\n",
    "    cat_to_makat_parit, makat_parit_to_cat, cat_to_desc, makat_parit_to_desc = get_pharma_dicts(load_dir=DATA_FOLDER)\n",
    "    makat_to_ATC_level_3 = get_makat_to_ATC_dict(level=3)\n",
    "    prescriptions = load_pharma(load_dir=DATA_FOLDER, extended_data=True, pids=cohort.index.values, return_dask=False)\n",
    "    diabetes_drugs_cat_codes = [makat_parit_to_cat[makat] for makat, ATC in makat_to_ATC_level_3.items() if ATC.upper() in [\"A10A\",\"A10B\",\"A10X\"]]\n",
    "    prescriptions = prescriptions[prescriptions.makat_parit_cat_code.isin(diabetes_drugs_cat_codes)]\n",
    "    first_diabetes_prescription = prescriptions.groupby('pid')['datetime_nipuk'].min().dt.date\n",
    "    first_diabetes_prescription=pd.to_datetime(first_diabetes_prescription)\n",
    "    first_diabetes_prescription.to_csv(os.path.join(FOLDER,\"first_diabetes_prescription.csv\"),index=[\"pid\"])\n",
    "else:\n",
    "    first_diabetes_prescription=pd.read_csv(os.path.join(FOLDER,\"first_diabetes_prescription.csv\"),header=None)\n",
    "    first_diabetes_prescription.columns=[\"pid\",\"datetime_nipuk\"]\n",
    "    first_diabetes_prescription=first_diabetes_prescription.set_index(\"pid\")"
   ]
  },
  {
   "cell_type": "markdown",
   "metadata": {},
   "source": [
    "### Join origins of diabetes"
   ]
  },
  {
   "cell_type": "code",
   "execution_count": 132,
   "metadata": {},
   "outputs": [],
   "source": [
    "use_a1c_as_diagnosys=True\n",
    "if use_a1c_as_diagnosys:\n",
    "    if use_plasma_glucose:\n",
    "        diabetes_start_date = pd.concat([first_diabetic_diagnosis, hba1c_first_diagnosed,first_glucose_diagnosys], \n",
    "                                        axis=1)\n",
    "        diabetes_start_date.columns = ['first_diagnosis', 'first_hba1c',\"first_plasma_glucose\"]\n",
    "    else:\n",
    "        diabetes_start_date = pd.concat([first_diabetic_diagnosis, hba1c_first_diagnosed], \n",
    "                                        axis=1)\n",
    "        diabetes_start_date.columns = ['first_diagnosis', 'first_hba1c']\n",
    "    diabetes_start_date['diabetes_date'] = diabetes_start_date.apply(lambda row: min(row[pd.notnull(row)]), axis=1)\n",
    "else:\n",
    "    diabetes_start_date=first_diabetic_diagnosis.copy()\n",
    "    diabetes_start_date.rename(columns={'first_diagnosis':'diabetes_date'},inplace=True)\n",
    "diabetes_start_date=pd.concat([diabetes_start_date,first_diabetes_prescription],axis=1)\n",
    "diabetes_start_date[\"datetime_nipuk\"]=pd.to_datetime(diabetes_start_date[\"datetime_nipuk\"])\n",
    "diabetes_start_date[\"diabetes_date\"]=pd.to_datetime(diabetes_start_date[\"diabetes_date\"])\n",
    "non_diabetic_indexes=list(set(diabetes_start_date[diabetes_start_date[\"diabetes_date\"].isna()].index.values))\n",
    "prescribed_indexes=list(set(diabetes_start_date[diabetes_start_date[\"datetime_nipuk\"].notna()].index.values))\n",
    "drop_early_nipuk_non_diagnosed=list(\n",
    "    set([x for x in non_diabetic_indexes if x in prescribed_indexes]))\n",
    "drop_early_nipuk_non_diagnosed.extend(\n",
    "    list(set(diabetes_start_date[diabetes_start_date[\"datetime_nipuk\"]<diabetes_start_date[\"diabetes_date\"]].index.values)))\n",
    "drop_early_nipuk_non_diagnosed=list(set(drop_early_nipuk_non_diagnosed))\n",
    "drop_indexes=drop_early_nipuk_non_diagnosed\n",
    "drop_indexes=[x for x in drop_indexes if x in cohort.index]\n",
    "cohort=cohort.drop(drop_indexes)\n",
    "cohort=cohort.loc[cohort.datetime_bdika.notnull()].copy()\n",
    "diabetes_no_early_nipuk=diabetes_start_date.drop(drop_indexes)\n",
    "cohort=cohort.merge(diabetes_no_early_nipuk[\"diabetes_date\"],left_index=True,right_index=True,how=\"left\")\n",
    "cohort['datetime_bdika'] = pd.to_datetime(cohort['datetime_bdika'])\n",
    "# cohort['date_bdika']=pd.to_datetime(cohort['date_bdika'])"
   ]
  },
  {
   "cell_type": "markdown",
   "metadata": {},
   "source": [
    "# Calculate Non diagnosed with Prescreption"
   ]
  },
  {
   "cell_type": "code",
   "execution_count": 133,
   "metadata": {},
   "outputs": [
    {
     "data": {
      "text/plain": [
       "{}"
      ]
     },
     "execution_count": 133,
     "metadata": {},
     "output_type": "execute_result"
    }
   ],
   "source": [
    "non_diab_index=cohort[cohort.diabetes_date.isna()].index\n",
    "non_diab_with_precription_dict={x:first_diabetes_prescription.loc[x] for x in non_diab_index if x in first_diabetes_prescription.index}\n",
    "non_diab_with_precription_dict"
   ]
  },
  {
   "cell_type": "code",
   "execution_count": 134,
   "metadata": {},
   "outputs": [
    {
     "data": {
      "text/plain": [
       "0.07912988650693568"
      ]
     },
     "execution_count": 134,
     "metadata": {},
     "output_type": "execute_result"
    }
   ],
   "source": [
    "cohort.loc[:,\"diabetes_date\"].notna().sum()/cohort.shape[0]"
   ]
  },
  {
   "cell_type": "code",
   "execution_count": 135,
   "metadata": {},
   "outputs": [],
   "source": [
    "tmp_cohort=cohort[(cohort['diabetes_date'] - cohort['datetime_bdika']).dt.days.fillna(np.inf).ge(1)]"
   ]
  },
  {
   "cell_type": "code",
   "execution_count": 136,
   "metadata": {},
   "outputs": [],
   "source": [
    "cohort = cohort[(cohort['diabetes_date'] - cohort['datetime_bdika']).dt.days.fillna(np.inf).ge(30)]"
   ]
  },
  {
   "cell_type": "code",
   "execution_count": 137,
   "metadata": {},
   "outputs": [
    {
     "data": {
      "text/plain": [
       "0.03724456163480554"
      ]
     },
     "execution_count": 137,
     "metadata": {},
     "output_type": "execute_result"
    }
   ],
   "source": [
    "cohort[\"diabetes_date\"].notna().sum()/cohort.shape[0]"
   ]
  },
  {
   "cell_type": "markdown",
   "metadata": {},
   "source": [
    "### Cohort add hemoglobin levels"
   ]
  },
  {
   "cell_type": "code",
   "execution_count": 139,
   "metadata": {},
   "outputs": [],
   "source": [
    "# hemoglobin_cats = {k: v for k, v in cat_code_to_bdika_long_desc.items() if ('HB' == str(v).upper())}\n",
    "# hemoglobin_tests = labtests[labtests.bdika_cat_code.isin(hemoglobin_cats.keys())]\n",
    "# hemoglobin_tests = hemoglobin_tests[hemoglobin_tests.value.notnull()]\n",
    "# hemoglobin_tests = hemoglobin_tests[hemoglobin_tests.pid.isin(cohort.index.values)]\n",
    "# hemoglobin_tests = hemoglobin_tests.compute()\n",
    "\n",
    "\n",
    "\n",
    "# hemoglobin_tests = hemoglobin_tests.merge(cohort['datetime_bdika'], \n",
    "#                                                 left_on='pid', \n",
    "#                                                 right_index=True, \n",
    "#                                                 suffixes=('_hemoglobin','_hb1ac'), how='inner')\n",
    "# hemoglobin_tests.shape[0]\n",
    "\n",
    "# hemoglobin_tests['test_time_diff'] = (\n",
    "#     hemoglobin_tests['datetime_bdika_hb1ac'] - hemoglobin_tests['datetime_bdika_hemoglobin']).dt.days\n",
    "# hemoglobin_tests.shape[0]\n",
    "\n",
    "# hemoglobin_tests = hemoglobin_tests[hemoglobin_tests['test_time_diff'].between(*test_diff)]\n",
    "# hemoglobin_tests.shape[0]\n",
    "\n",
    "# hemoglobin_tests = hemoglobin_tests.loc[\n",
    "#     hemoglobin_tests['test_time_diff'].abs().sort_values().index].groupby('pid').first()\n",
    "# hemoglobin_tests.shape[0]\n",
    "\n",
    "# print(cohort.shape)\n",
    "# cohort = cohort.merge(hemoglobin_tests.rename(\n",
    "#     columns={'value':'HB'})['HB'],\n",
    "#                       left_index=True, \n",
    "#                       right_index=True,\n",
    "#                       how='outer')\n",
    "# cohort.shape[0]"
   ]
  },
  {
   "cell_type": "markdown",
   "metadata": {},
   "source": [
    "### Filter ages"
   ]
  },
  {
   "cell_type": "code",
   "execution_count": 140,
   "metadata": {},
   "outputs": [],
   "source": [
    "cohort=cohort[cohort[\"value\"]>=low_a1c_threshold]"
   ]
  },
  {
   "cell_type": "code",
   "execution_count": 141,
   "metadata": {},
   "outputs": [
    {
     "data": {
      "text/plain": [
       "Series([], Name: Age, dtype: float64)"
      ]
     },
     "execution_count": 141,
     "metadata": {},
     "output_type": "execute_result"
    }
   ],
   "source": [
    "df = cohort.copy()\n",
    "df = df[df[['GGT', 'HDL', 'Triglycerides',\"value\"]].notnull().all(axis=1)].copy()\n",
    "df['Age'].head()"
   ]
  },
  {
   "cell_type": "code",
   "execution_count": 142,
   "metadata": {},
   "outputs": [
    {
     "data": {
      "text/plain": [
       "(0, 14)"
      ]
     },
     "execution_count": 142,
     "metadata": {},
     "output_type": "execute_result"
    }
   ],
   "source": [
    "cohort.shape"
   ]
  },
  {
   "cell_type": "code",
   "execution_count": 143,
   "metadata": {},
   "outputs": [
    {
     "data": {
      "text/plain": [
       "<AxesSubplot:>"
      ]
     },
     "execution_count": 143,
     "metadata": {},
     "output_type": "execute_result"
    },
    {
     "data": {
      "image/png": "[encoded data removed]",
      "text/plain": [
       "<Figure size 432x288 with 1 Axes>"
      ]
     },
     "metadata": {},
     "output_type": "display_data"
    }
   ],
   "source": [
    "df['Age'].hist()"
   ]
  },
  {
   "cell_type": "markdown",
   "metadata": {},
   "source": [
    "Continue from here!!!"
   ]
  },
  {
   "cell_type": "code",
   "execution_count": 144,
   "metadata": {},
   "outputs": [
    {
     "data": {
      "text/plain": [
       "(0, 14)"
      ]
     },
     "execution_count": 144,
     "metadata": {},
     "output_type": "execute_result"
    }
   ],
   "source": [
    "df.shape"
   ]
  },
  {
   "cell_type": "markdown",
   "metadata": {},
   "source": [
    "### Convert to UKB units"
   ]
  },
  {
   "cell_type": "code",
   "execution_count": 145,
   "metadata": {},
   "outputs": [],
   "source": [
    "df['UKB_HbA1c'] = (df['value'] - 2.15) * 10.929\n",
    "df[\"UKB_HDL\"]=df[\"HDL\"]*0.02586\n",
    "df[\"UKB_Triglycerides\"] = df[\"Triglycerides\"]*0.01129"
   ]
  },
  {
   "cell_type": "markdown",
   "metadata": {},
   "source": [
    "# Define Scoreboard functions"
   ]
  },
  {
   "cell_type": "markdown",
   "metadata": {},
   "source": [
    "## Without reticulocytes"
   ]
  },
  {
   "cell_type": "markdown",
   "metadata": {},
   "source": [
    "### Years for prediction wo Ret"
   ]
  },
  {
   "cell_type": "markdown",
   "metadata": {},
   "source": [
    "### check sex without reticulocytes"
   ]
  },
  {
   "cell_type": "code",
   "execution_count": 146,
   "metadata": {},
   "outputs": [],
   "source": [
    "def check_sex(row):\n",
    "    if row[\"is_male\"]==1:\n",
    "        return 4\n",
    "    elif row[\"is_male\"]==0:\n",
    "        return 0\n",
    "    else:\n",
    "        print(\"is_male should be 0 or 1\")"
   ]
  },
  {
   "cell_type": "code",
   "execution_count": 147,
   "metadata": {},
   "outputs": [],
   "source": [
    "def check_dt(row):\n",
    "    factor=365.25\n",
    "    dt=row[\"delta_time_years\"]\n",
    "    if dt<=5:\n",
    "        return 0\n",
    "    elif dt<=6:\n",
    "        return 10\n",
    "    elif dt<=8:\n",
    "        return 11\n",
    "    elif dt<=9:\n",
    "        return 14\n",
    "    elif dt<=10:\n",
    "        return 17\n",
    "    elif dt>10:\n",
    "        return 22\n",
    "    else:\n",
    "        print(\"dt must be a timedelta object\")\n",
    "        return None"
   ]
  },
  {
   "cell_type": "markdown",
   "metadata": {},
   "source": [
    "### 3. HbA1c %  wo Ret"
   ]
  },
  {
   "cell_type": "code",
   "execution_count": 148,
   "metadata": {},
   "outputs": [],
   "source": [
    "def check_a1c(row):\n",
    "#     print(row)\n",
    "    val=row[\"UKB_HbA1c\"]\n",
    "    if val<=30.3:\n",
    "        return 0\n",
    "    elif val<=31.8:\n",
    "        return 1\n",
    "    elif val<=32.9:\n",
    "        return 9\n",
    "    elif val<=34.6:\n",
    "        return 12\n",
    "    elif val<=35.4:\n",
    "        return 20\n",
    "    elif val<=36.3:\n",
    "        return 24\n",
    "    elif val<=37.4:\n",
    "        return 30\n",
    "    elif val<=39.0:\n",
    "        return 34\n",
    "    elif val>39:\n",
    "        return 54\n",
    "    else:\n",
    "        print(\"a1c is not in any range\")\n",
    "        return None"
   ]
  },
  {
   "cell_type": "markdown",
   "metadata": {},
   "source": [
    "### 4. HDL  wo Ret"
   ]
  },
  {
   "cell_type": "code",
   "execution_count": 149,
   "metadata": {},
   "outputs": [],
   "source": [
    "def check_hdl(row):\n",
    "    val=row[\"UKB_HDL\"]\n",
    "    if val<=1.1:\n",
    "        return 29\n",
    "    elif val<=1.3:\n",
    "        return 21\n",
    "    elif val<=1.4:\n",
    "        return 20\n",
    "    elif val<=1.5:\n",
    "        return 16\n",
    "    elif val<=1.6:\n",
    "        return 13\n",
    "    elif val<=1.9:\n",
    "        return 9 \n",
    "    elif val>1.9:\n",
    "        return 0\n",
    "    else:\n",
    "        print(\"HDL is not in any range\")\n",
    "        return None"
   ]
  },
  {
   "cell_type": "markdown",
   "metadata": {},
   "source": [
    "### 5. Gamma glutamyltransferase  wo Ret"
   ]
  },
  {
   "cell_type": "code",
   "execution_count": 150,
   "metadata": {},
   "outputs": [],
   "source": [
    "def check_ggt(row):\n",
    "    val=row[\"GGT\"]\n",
    "    if val<=14.8:\n",
    "        return 0\n",
    "    elif val<=18:\n",
    "        return 14\n",
    "    elif val<=21.3:\n",
    "        return 19\n",
    "    elif val<=25.2:\n",
    "        return 21\n",
    "    elif val<=30.3:\n",
    "        return 24\n",
    "    elif val<=37.6:\n",
    "        return 29\n",
    "    elif val<=53.1:\n",
    "        return 32\n",
    "    elif val>53.1:\n",
    "        return 34\n",
    "    else:\n",
    "        print(\"GGT is not in any range\")\n",
    "        return None"
   ]
  },
  {
   "cell_type": "markdown",
   "metadata": {},
   "source": [
    "### 7. Triglycerides  wo Ret"
   ]
  },
  {
   "cell_type": "code",
   "execution_count": 151,
   "metadata": {},
   "outputs": [],
   "source": [
    "def check_triglycerides(row):\n",
    "    val=row[\"UKB_Triglycerides\"]\n",
    "    if val<=0.89:\n",
    "        return 0\n",
    "    elif val<=1.2:\n",
    "        return 5\n",
    "    elif val<=1.4:\n",
    "        return 6\n",
    "    elif val<=1.8:\n",
    "        return 8\n",
    "    elif val<=2.4:\n",
    "        return 11\n",
    "    elif val>2.4:\n",
    "        return 14\n",
    "    else:\n",
    "        print(\"triglycerides is not in any range\")\n",
    "        return None"
   ]
  },
  {
   "cell_type": "markdown",
   "metadata": {},
   "source": [
    "### 8. Age"
   ]
  },
  {
   "cell_type": "code",
   "execution_count": 152,
   "metadata": {},
   "outputs": [],
   "source": [
    "def check_age(row):\n",
    "    val=row[\"Age at returning visit\"]\n",
    "    if val<=57:\n",
    "        return 4\n",
    "    elif val<=64:\n",
    "        return 2\n",
    "    elif val<=69:\n",
    "        return 1\n",
    "    elif val>69:\n",
    "        return 0\n",
    "    else:\n",
    "        print(\"Age is not in any range\")\n",
    "        return None"
   ]
  },
  {
   "cell_type": "code",
   "execution_count": 153,
   "metadata": {},
   "outputs": [
    {
     "data": {
      "text/plain": [
       "('UKB_Triglycerides', 'GGT', 'UKB_HDL', 'UKB_HbA1c', 'delta_time_years')"
      ]
     },
     "execution_count": 153,
     "metadata": {},
     "output_type": "execute_result"
    }
   ],
   "source": [
    "(\"UKB_Triglycerides\",\"GGT\",\"UKB_HDL\",\"UKB_HbA1c\",\"delta_time_years\")"
   ]
  },
  {
   "cell_type": "markdown",
   "metadata": {},
   "source": [
    "### 8. calc_score  wo Ret"
   ]
  },
  {
   "cell_type": "code",
   "execution_count": 154,
   "metadata": {},
   "outputs": [],
   "source": [
    "def calc_basic_score(df):\n",
    "    colName='basic_score'\n",
    "    df[colName]=0\n",
    "    df[colName] += df.apply(check_sex,axis=1)\n",
    "    df[colName] += df.apply(check_a1c, axis=1)\n",
    "    df[colName] += df.apply(check_hdl, axis=1)\n",
    "    df[colName] += df.apply(check_ggt, axis=1)\n",
    "    df[colName] += df.apply(check_triglycerides, axis=1)\n",
    "    return df"
   ]
  },
  {
   "cell_type": "code",
   "execution_count": 155,
   "metadata": {},
   "outputs": [],
   "source": [
    "def add_dt_to_score(df,ind=0):\n",
    "    colName='score_'+str(int(ind))\n",
    "    df[colName]=df[\"basic_score\"]+df.apply(check_dt,axis=1)\n",
    "    df[colName] += df.apply(check_age, axis=1)\n",
    "    return df[colName].values"
   ]
  },
  {
   "cell_type": "markdown",
   "metadata": {},
   "source": [
    "## With reticulocytes"
   ]
  },
  {
   "cell_type": "markdown",
   "metadata": {},
   "source": [
    "# Calc score without reticulocytes"
   ]
  },
  {
   "cell_type": "code",
   "execution_count": 156,
   "metadata": {},
   "outputs": [
    {
     "data": {
      "text/plain": [
       "nan"
      ]
     },
     "execution_count": 156,
     "metadata": {},
     "output_type": "execute_result"
    }
   ],
   "source": [
    "cohort.value.min()"
   ]
  },
  {
   "cell_type": "code",
   "execution_count": 157,
   "metadata": {},
   "outputs": [
    {
     "data": {
      "text/plain": [
       "<AxesSubplot:>"
      ]
     },
     "execution_count": 157,
     "metadata": {},
     "output_type": "execute_result"
    },
    {
     "data": {
      "image/png": "[encoded data removed]",
      "text/plain": [
       "<Figure size 432x288 with 1 Axes>"
      ]
     },
     "metadata": {},
     "output_type": "display_data"
    }
   ],
   "source": [
    "cohort.value.hist(bins=9)"
   ]
  },
  {
   "cell_type": "code",
   "execution_count": 158,
   "metadata": {},
   "outputs": [
    {
     "data": {
      "text/plain": [
       "<AxesSubplot:>"
      ]
     },
     "execution_count": 158,
     "metadata": {},
     "output_type": "execute_result"
    },
    {
     "data": {
      "image/png": "[encoded data removed]",
      "text/plain": [
       "<Figure size 432x288 with 1 Axes>"
      ]
     },
     "metadata": {},
     "output_type": "display_data"
    }
   ],
   "source": [
    "cohort.is_male.hist()"
   ]
  },
  {
   "cell_type": "code",
   "execution_count": 159,
   "metadata": {},
   "outputs": [
    {
     "data": {
      "text/html": [
       "<div>\n",
       "<style scoped>\n",
       "    .dataframe tbody tr th:only-of-type {\n",
       "        vertical-align: middle;\n",
       "    }\n",
       "\n",
       "    .dataframe tbody tr th {\n",
       "        vertical-align: top;\n",
       "    }\n",
       "\n",
       "    .dataframe thead th {\n",
       "        text-align: right;\n",
       "    }\n",
       "</style>\n",
       "<table border=\"1\" class=\"dataframe\">\n",
       "  <thead>\n",
       "    <tr style=\"text-align: right;\">\n",
       "      <th></th>\n",
       "      <th>datetime_bdika</th>\n",
       "      <th>date_bdika</th>\n",
       "      <th>value</th>\n",
       "      <th>kod_gorem_mafne</th>\n",
       "      <th>test</th>\n",
       "      <th>bdika_cat_code</th>\n",
       "      <th>datetime_leida</th>\n",
       "      <th>is_male</th>\n",
       "      <th>GGT</th>\n",
       "      <th>Reticulocyte Count</th>\n",
       "      <th>HDL</th>\n",
       "      <th>Triglycerides</th>\n",
       "      <th>Age</th>\n",
       "      <th>diabetes_date</th>\n",
       "    </tr>\n",
       "    <tr>\n",
       "      <th>pid</th>\n",
       "      <th></th>\n",
       "      <th></th>\n",
       "      <th></th>\n",
       "      <th></th>\n",
       "      <th></th>\n",
       "      <th></th>\n",
       "      <th></th>\n",
       "      <th></th>\n",
       "      <th></th>\n",
       "      <th></th>\n",
       "      <th></th>\n",
       "      <th></th>\n",
       "      <th></th>\n",
       "      <th></th>\n",
       "    </tr>\n",
       "  </thead>\n",
       "  <tbody>\n",
       "  </tbody>\n",
       "</table>\n",
       "</div>"
      ],
      "text/plain": [
       "Empty DataFrame\n",
       "Columns: [datetime_bdika, date_bdika, value, kod_gorem_mafne, test, bdika_cat_code, datetime_leida, is_male, GGT, Reticulocyte Count, HDL, Triglycerides, Age, diabetes_date]\n",
       "Index: []"
      ]
     },
     "execution_count": 159,
     "metadata": {},
     "output_type": "execute_result"
    }
   ],
   "source": [
    "cohort.head()"
   ]
  },
  {
   "cell_type": "code",
   "execution_count": 160,
   "metadata": {},
   "outputs": [],
   "source": [
    "tmp_is_diabetic=cohort"
   ]
  },
  {
   "cell_type": "code",
   "execution_count": 161,
   "metadata": {},
   "outputs": [
    {
     "name": "stderr",
     "output_type": "stream",
     "text": [
      "/data1/anaconda3/lib/python3.6/site-packages/ipykernel_launcher.py:1: RuntimeWarning: invalid value encountered in long_scalars\n",
      "  \"\"\"Entry point for launching an IPython kernel.\n"
     ]
    },
    {
     "data": {
      "text/plain": [
       "nan"
      ]
     },
     "execution_count": 161,
     "metadata": {},
     "output_type": "execute_result"
    }
   ],
   "source": [
    "cohort[\"diabetes_date\"].notna().sum()/cohort[\"diabetes_date\"].shape[0]"
   ]
  },
  {
   "cell_type": "code",
   "execution_count": 162,
   "metadata": {},
   "outputs": [
    {
     "data": {
      "text/html": [
       "<div>\n",
       "<style scoped>\n",
       "    .dataframe tbody tr th:only-of-type {\n",
       "        vertical-align: middle;\n",
       "    }\n",
       "\n",
       "    .dataframe tbody tr th {\n",
       "        vertical-align: top;\n",
       "    }\n",
       "\n",
       "    .dataframe thead th {\n",
       "        text-align: right;\n",
       "    }\n",
       "</style>\n",
       "<table border=\"1\" class=\"dataframe\">\n",
       "  <thead>\n",
       "    <tr style=\"text-align: right;\">\n",
       "      <th></th>\n",
       "      <th>date_bdika</th>\n",
       "      <th>value</th>\n",
       "      <th>kod_gorem_mafne</th>\n",
       "      <th>bdika_cat_code</th>\n",
       "      <th>is_male</th>\n",
       "      <th>GGT</th>\n",
       "      <th>Reticulocyte Count</th>\n",
       "      <th>HDL</th>\n",
       "      <th>Triglycerides</th>\n",
       "      <th>Age</th>\n",
       "    </tr>\n",
       "  </thead>\n",
       "  <tbody>\n",
       "    <tr>\n",
       "      <th>count</th>\n",
       "      <td>0.0</td>\n",
       "      <td>0.0</td>\n",
       "      <td>0.0</td>\n",
       "      <td>0.0</td>\n",
       "      <td>0.0</td>\n",
       "      <td>0.0</td>\n",
       "      <td>0.0</td>\n",
       "      <td>0.0</td>\n",
       "      <td>0.0</td>\n",
       "      <td>0.0</td>\n",
       "    </tr>\n",
       "    <tr>\n",
       "      <th>mean</th>\n",
       "      <td>NaN</td>\n",
       "      <td>NaN</td>\n",
       "      <td>NaN</td>\n",
       "      <td>NaN</td>\n",
       "      <td>NaN</td>\n",
       "      <td>NaN</td>\n",
       "      <td>NaN</td>\n",
       "      <td>NaN</td>\n",
       "      <td>NaN</td>\n",
       "      <td>NaN</td>\n",
       "    </tr>\n",
       "    <tr>\n",
       "      <th>std</th>\n",
       "      <td>NaN</td>\n",
       "      <td>NaN</td>\n",
       "      <td>NaN</td>\n",
       "      <td>NaN</td>\n",
       "      <td>NaN</td>\n",
       "      <td>NaN</td>\n",
       "      <td>NaN</td>\n",
       "      <td>NaN</td>\n",
       "      <td>NaN</td>\n",
       "      <td>NaN</td>\n",
       "    </tr>\n",
       "    <tr>\n",
       "      <th>min</th>\n",
       "      <td>NaN</td>\n",
       "      <td>NaN</td>\n",
       "      <td>NaN</td>\n",
       "      <td>NaN</td>\n",
       "      <td>NaN</td>\n",
       "      <td>NaN</td>\n",
       "      <td>NaN</td>\n",
       "      <td>NaN</td>\n",
       "      <td>NaN</td>\n",
       "      <td>NaN</td>\n",
       "    </tr>\n",
       "    <tr>\n",
       "      <th>25%</th>\n",
       "      <td>NaN</td>\n",
       "      <td>NaN</td>\n",
       "      <td>NaN</td>\n",
       "      <td>NaN</td>\n",
       "      <td>NaN</td>\n",
       "      <td>NaN</td>\n",
       "      <td>NaN</td>\n",
       "      <td>NaN</td>\n",
       "      <td>NaN</td>\n",
       "      <td>NaN</td>\n",
       "    </tr>\n",
       "    <tr>\n",
       "      <th>50%</th>\n",
       "      <td>NaN</td>\n",
       "      <td>NaN</td>\n",
       "      <td>NaN</td>\n",
       "      <td>NaN</td>\n",
       "      <td>NaN</td>\n",
       "      <td>NaN</td>\n",
       "      <td>NaN</td>\n",
       "      <td>NaN</td>\n",
       "      <td>NaN</td>\n",
       "      <td>NaN</td>\n",
       "    </tr>\n",
       "    <tr>\n",
       "      <th>75%</th>\n",
       "      <td>NaN</td>\n",
       "      <td>NaN</td>\n",
       "      <td>NaN</td>\n",
       "      <td>NaN</td>\n",
       "      <td>NaN</td>\n",
       "      <td>NaN</td>\n",
       "      <td>NaN</td>\n",
       "      <td>NaN</td>\n",
       "      <td>NaN</td>\n",
       "      <td>NaN</td>\n",
       "    </tr>\n",
       "    <tr>\n",
       "      <th>max</th>\n",
       "      <td>NaN</td>\n",
       "      <td>NaN</td>\n",
       "      <td>NaN</td>\n",
       "      <td>NaN</td>\n",
       "      <td>NaN</td>\n",
       "      <td>NaN</td>\n",
       "      <td>NaN</td>\n",
       "      <td>NaN</td>\n",
       "      <td>NaN</td>\n",
       "      <td>NaN</td>\n",
       "    </tr>\n",
       "  </tbody>\n",
       "</table>\n",
       "</div>"
      ],
      "text/plain": [
       "       date_bdika  value  kod_gorem_mafne  bdika_cat_code  is_male  GGT  \\\n",
       "count         0.0    0.0              0.0             0.0      0.0  0.0   \n",
       "mean          NaN    NaN              NaN             NaN      NaN  NaN   \n",
       "std           NaN    NaN              NaN             NaN      NaN  NaN   \n",
       "min           NaN    NaN              NaN             NaN      NaN  NaN   \n",
       "25%           NaN    NaN              NaN             NaN      NaN  NaN   \n",
       "50%           NaN    NaN              NaN             NaN      NaN  NaN   \n",
       "75%           NaN    NaN              NaN             NaN      NaN  NaN   \n",
       "max           NaN    NaN              NaN             NaN      NaN  NaN   \n",
       "\n",
       "       Reticulocyte Count  HDL  Triglycerides  Age  \n",
       "count                 0.0  0.0            0.0  0.0  \n",
       "mean                  NaN  NaN            NaN  NaN  \n",
       "std                   NaN  NaN            NaN  NaN  \n",
       "min                   NaN  NaN            NaN  NaN  \n",
       "25%                   NaN  NaN            NaN  NaN  \n",
       "50%                   NaN  NaN            NaN  NaN  \n",
       "75%                   NaN  NaN            NaN  NaN  \n",
       "max                   NaN  NaN            NaN  NaN  "
      ]
     },
     "execution_count": 162,
     "metadata": {},
     "output_type": "execute_result"
    }
   ],
   "source": [
    "cohort.describe()"
   ]
  },
  {
   "cell_type": "code",
   "execution_count": 163,
   "metadata": {},
   "outputs": [],
   "source": [
    "cohort.describe().to_csv(os.path.join(to_clalit_folder,\"Pre_diab_describe.csv\"),index=True)"
   ]
  },
  {
   "cell_type": "code",
   "execution_count": 164,
   "metadata": {},
   "outputs": [
    {
     "ename": "AttributeError",
     "evalue": "'NotImplementedType' object has no attribute 'reindex_like'",
     "output_type": "error",
     "traceback": [
      "\u001B[0;31m---------------------------------------------------------------------------\u001B[0m",
      "\u001B[0;31mAttributeError\u001B[0m                            Traceback (most recent call last)",
      "\u001B[0;32m<ipython-input-164-c3f56b87d6bb>\u001B[0m in \u001B[0;36m<module>\u001B[0;34m()\u001B[0m\n\u001B[1;32m     12\u001B[0m \u001B[0mmax_dt\u001B[0m\u001B[0;34m=\u001B[0m\u001B[0;36m17\u001B[0m\u001B[0;34m\u001B[0m\u001B[0m\n\u001B[1;32m     13\u001B[0m \u001B[0mmin_dt\u001B[0m\u001B[0;34m=\u001B[0m\u001B[0;36m2\u001B[0m\u001B[0;34m\u001B[0m\u001B[0m\n\u001B[0;32m---> 14\u001B[0;31m \u001B[0mdf\u001B[0m\u001B[0;34m=\u001B[0m\u001B[0mcalc_basic_score\u001B[0m\u001B[0;34m(\u001B[0m\u001B[0mdf\u001B[0m\u001B[0;34m)\u001B[0m\u001B[0;34m\u001B[0m\u001B[0m\n\u001B[0m\u001B[1;32m     15\u001B[0m \u001B[0;32mif\u001B[0m \u001B[0mcomp_new\u001B[0m\u001B[0;34m:\u001B[0m\u001B[0;34m\u001B[0m\u001B[0m\n\u001B[1;32m     16\u001B[0m \u001B[0;31m#     if sample_time:\u001B[0m\u001B[0;34m\u001B[0m\u001B[0;34m\u001B[0m\u001B[0m\n",
      "\u001B[0;32m<ipython-input-154-429d79db5ec6>\u001B[0m in \u001B[0;36mcalc_basic_score\u001B[0;34m(df)\u001B[0m\n\u001B[1;32m      2\u001B[0m     \u001B[0mcolName\u001B[0m\u001B[0;34m=\u001B[0m\u001B[0;34m'basic_score'\u001B[0m\u001B[0;34m\u001B[0m\u001B[0m\n\u001B[1;32m      3\u001B[0m     \u001B[0mdf\u001B[0m\u001B[0;34m[\u001B[0m\u001B[0mcolName\u001B[0m\u001B[0;34m]\u001B[0m\u001B[0;34m=\u001B[0m\u001B[0;36m0\u001B[0m\u001B[0;34m\u001B[0m\u001B[0m\n\u001B[0;32m----> 4\u001B[0;31m     \u001B[0mdf\u001B[0m\u001B[0;34m[\u001B[0m\u001B[0mcolName\u001B[0m\u001B[0;34m]\u001B[0m \u001B[0;34m+=\u001B[0m \u001B[0mdf\u001B[0m\u001B[0;34m.\u001B[0m\u001B[0mapply\u001B[0m\u001B[0;34m(\u001B[0m\u001B[0mcheck_sex\u001B[0m\u001B[0;34m,\u001B[0m\u001B[0maxis\u001B[0m\u001B[0;34m=\u001B[0m\u001B[0;36m1\u001B[0m\u001B[0;34m)\u001B[0m\u001B[0;34m\u001B[0m\u001B[0m\n\u001B[0m\u001B[1;32m      5\u001B[0m     \u001B[0mdf\u001B[0m\u001B[0;34m[\u001B[0m\u001B[0mcolName\u001B[0m\u001B[0;34m]\u001B[0m \u001B[0;34m+=\u001B[0m \u001B[0mdf\u001B[0m\u001B[0;34m.\u001B[0m\u001B[0mapply\u001B[0m\u001B[0;34m(\u001B[0m\u001B[0mcheck_a1c\u001B[0m\u001B[0;34m,\u001B[0m \u001B[0maxis\u001B[0m\u001B[0;34m=\u001B[0m\u001B[0;36m1\u001B[0m\u001B[0;34m)\u001B[0m\u001B[0;34m\u001B[0m\u001B[0m\n\u001B[1;32m      6\u001B[0m     \u001B[0mdf\u001B[0m\u001B[0;34m[\u001B[0m\u001B[0mcolName\u001B[0m\u001B[0;34m]\u001B[0m \u001B[0;34m+=\u001B[0m \u001B[0mdf\u001B[0m\u001B[0;34m.\u001B[0m\u001B[0mapply\u001B[0m\u001B[0;34m(\u001B[0m\u001B[0mcheck_hdl\u001B[0m\u001B[0;34m,\u001B[0m \u001B[0maxis\u001B[0m\u001B[0;34m=\u001B[0m\u001B[0;36m1\u001B[0m\u001B[0;34m)\u001B[0m\u001B[0;34m\u001B[0m\u001B[0m\n",
      "\u001B[0;32m/data1/anaconda3/lib/python3.6/site-packages/pandas/core/ops.py\u001B[0m in \u001B[0;36mf\u001B[0;34m(self, other)\u001B[0m\n\u001B[1;32m   1392\u001B[0m             \u001B[0;31m# this makes sure that we are aligned like the input\u001B[0m\u001B[0;34m\u001B[0m\u001B[0;34m\u001B[0m\u001B[0m\n\u001B[1;32m   1393\u001B[0m             \u001B[0;31m# we are updating inplace so we want to ignore is_copy\u001B[0m\u001B[0;34m\u001B[0m\u001B[0;34m\u001B[0m\u001B[0m\n\u001B[0;32m-> 1394\u001B[0;31m             self._update_inplace(result.reindex_like(self, copy=False)._data,\n\u001B[0m\u001B[1;32m   1395\u001B[0m                                  verify_is_copy=False)\n\u001B[1;32m   1396\u001B[0m \u001B[0;34m\u001B[0m\u001B[0m\n",
      "\u001B[0;31mAttributeError\u001B[0m: 'NotImplementedType' object has no attribute 'reindex_like'"
     ]
    }
   ],
   "source": [
    "n_cycles=1000\n",
    "sample_time=True\n",
    "results_folder=os.path.join(FOLDER,\"final_results\")\n",
    "comp_new=True\n",
    "if not os.path.isdir(results_folder):\n",
    "    os.makedirs(results_folder)\n",
    "plt.style.use(\"dark_background\")\n",
    "def my_relative_delta(row):\n",
    "    return pd.to_datetime(row[\"datetime_bdika\"]).replace(year=row[\"datetime_bdika\"].year + row[\"dt_years\"])\n",
    "mean_dt=7.3\n",
    "sigma=2.3\n",
    "max_dt=17\n",
    "min_dt=2\n",
    "df=calc_basic_score(df)\n",
    "if comp_new:\n",
    "#     if sample_time:\n",
    "    df_st=df.copy()\n",
    "    for ind in tqdm(range(n_cycles)):\n",
    "        if ind%100==0:\n",
    "            print(ind)\n",
    "        np.random.seed(ind)\n",
    "        df_st[\"dt_years\"]=np.clip(np.random.normal(mean_dt, sigma, size=df_st.shape[0],),a_max=max_dt,a_min=min_dt)\n",
    "        df_st['date_second_visit'] = (pd.to_datetime(\n",
    "            df_st['datetime_bdika']) + pd.to_timedelta(\n",
    "            df_st['dt_years']*365.25, unit='D')).clip(upper=datetime.strptime(\"2019-12-31\", \"%Y-%m-%d\")).dt.date\n",
    "        df_st[\"diabetes_date\"]=pd.to_datetime(df_st[\"diabetes_date\"])\n",
    "        df_st[\"date_second_visit\"]=pd.to_datetime(df_st[\"date_second_visit\"])\n",
    "        df_st['is_diabetic'] = df_st.apply(\n",
    "            lambda row: False if pd.isnull(row['diabetes_date']) else \n",
    "            row['diabetes_date']<=row['date_second_visit'], axis=1).astype(int)\n",
    "        df_st['delta_time_years'] = (df_st['date_second_visit'] - df_st['datetime_bdika']).dt.days.div(365.25)\n",
    "        df_st[\"Age at returning visit\"]=df_st[\"Age\"]+df_st['delta_time_years']\n",
    "        df_st['score_'+str(int(ind))] = 0\n",
    "        df_st[\"score_\"+str(int(ind))]=add_dt_to_score(\n",
    "            df_st.loc[:,[\"basic_score\",\"Age at returning visit\",'delta_time_years']],ind=ind)\n",
    "\n",
    "    df_st.to_csv(os.path.join(results_folder,\"scores_df_st.csv\"),index=[\"pid\"])\n",
    "    df_f=df_st.copy()\n",
    "else:\n",
    "    df_f=pd.read_csv(os.path.join(results_folder,\"scores_df_st.csv\"),index_col=[\"pid\"])\n",
    "df_f.head()\n",
    "\n"
   ]
  },
  {
   "cell_type": "code",
   "execution_count": null,
   "metadata": {},
   "outputs": [],
   "source": [
    "df_f=pd.read_csv(os.path.join(results_folder,\"scores_df_st.csv\"),index_col=[\"pid\"])"
   ]
  },
  {
   "cell_type": "code",
   "execution_count": null,
   "metadata": {},
   "outputs": [],
   "source": [
    "df_f.columns[0:30]"
   ]
  },
  {
   "cell_type": "code",
   "execution_count": null,
   "metadata": {},
   "outputs": [],
   "source": [
    "df_f.columns[0:20]"
   ]
  },
  {
   "cell_type": "code",
   "execution_count": null,
   "metadata": {},
   "outputs": [],
   "source": [
    "df_f[\"is_diabetic\"].sum()/df_f[\"is_diabetic\"].shape"
   ]
  },
  {
   "cell_type": "code",
   "execution_count": null,
   "metadata": {},
   "outputs": [],
   "source": [
    "comp_new=True\n",
    "if comp_new:\n",
    "    auroc_list=[]\n",
    "    aps_list=[]\n",
    "    for ind in range(n_cycles):\n",
    "        aps_list.append(average_precision_score(df_f[\"is_diabetic\"].values,df_f[\"score_\"+str(int(ind))].values))\n",
    "        auroc_list.append(roc_auc_score(df_f[\"is_diabetic\"].values,df_f[\"score_\"+str(int(ind))].values))\n",
    "    aps_mean=np.mean(aps_list)\n",
    "    aps_quant=np.quantile(aps_list,q=[0.025,0.975])\n",
    "    auroc_mean=np.mean(auroc_list)\n",
    "    auroc_quant=np.quantile(auroc_list,q=[0.025,0.975])\n",
    "    aps_ci_str=\"[\"+\"{:.2f}\".format(aps_quant[0])+\",\"+\"{:.2f}\".format(aps_quant[1])+\"]\"\n",
    "    auroc_ci_str=\"[\"+\"{:.2f}\".format(auroc_quant[0])+\",\"+\"{:.2f}\".format(auroc_quant[1])+\"]\"\n",
    "\n",
    "    results_df=pd.DataFrame(index=[\"aps_mean\",\"aps_CI\",\"auROC mean\",\"auROC_CI\"],columns=[\"results\"],data=[aps_mean,aps_ci_str,auroc_mean,auroc_ci_str])\n",
    "    results_df.to_csv(os.path.join(results_folder,\"ROC_APS_CI.csv\"),index=True)\n",
    "else:\n",
    "    results_df=pd.read_csv(os.path.join(results_folder,\"ROC_APS_CI.csv\"),index_col=0)\n",
    "results_df.head()"
   ]
  },
  {
   "cell_type": "code",
   "execution_count": null,
   "metadata": {},
   "outputs": [],
   "source": [
    "df_f[\"is_diabetic\"]"
   ]
  },
  {
   "cell_type": "code",
   "execution_count": null,
   "metadata": {},
   "outputs": [],
   "source": [
    "auroc_quant[0]"
   ]
  },
  {
   "cell_type": "code",
   "execution_count": null,
   "metadata": {},
   "outputs": [],
   "source": [
    "auroc_quant[1]"
   ]
  },
  {
   "cell_type": "code",
   "execution_count": null,
   "metadata": {},
   "outputs": [],
   "source": [
    "to_clalit_folder=\"/data1/safe/From_Clalit\"\n",
    "summary_folder_name=os.path.join(to_clalit_folder,curr_fold_name)\n",
    "rel_cols=['score_'+str(int(x)) for x in range(1000)]\n",
    "if not os.path.isdir(summary_folder_name):\n",
    "    os.mkdir(summary_folder_name)\n",
    "df_f.reset_index().loc[:,rel_cols+['is_diabetic']].to_csv(os.path.join(summary_folder_name,\"scores_df.csv\"))\n",
    "results_df.to_csv(os.path.join(summary_folder_name,\"real_pre_diab_ROC_APS_CI.csv\"),index=True)"
   ]
  },
  {
   "cell_type": "code",
   "execution_count": null,
   "metadata": {},
   "outputs": [],
   "source": [
    "to_clalit_folder=\"/data1/safe/From_Clalit\"\n",
    "# summary_folder_name=os.path.join(to_clalit_folder,curr_fold_name)\n",
    "rel_cols=['score_'+str(int(x)) for x in range(1000)]\n",
    "df_f.reset_index().loc[:,rel_cols+[\"is_diabetic\"]].to_csv(os.path.join(to_clalit_folder,\"YochaisNoPriorsT2D_scores_df.csv\"))\n",
    "results_df.to_csv(os.path.join(to_clalit_folder,\"real_pre_diab_T2D_ROC_APS_CI.csv\"),index=True)"
   ]
  },
  {
   "cell_type": "code",
   "execution_count": null,
   "metadata": {},
   "outputs": [],
   "source": [
    "curr_fold_name"
   ]
  },
  {
   "cell_type": "code",
   "execution_count": null,
   "metadata": {},
   "outputs": [],
   "source": [
    "!ls /data1/safe/From_Clalit/y_2006_2011_mt_3_mse_1_2_fr"
   ]
  },
  {
   "cell_type": "code",
   "execution_count": null,
   "metadata": {},
   "outputs": [],
   "source": [
    "final_df = df_f.copy()\n",
    "# final_df = final_df[final_df.value.lt(5.7)].copy()\n",
    "# final_df = final_df[final_df['HB'].between(11, 16)]\n",
    "# final_df['score'] = final_df['score_with_reticulocytes']\n",
    "# final_df = final_df[final_df['score'].notnull()]"
   ]
  },
  {
   "cell_type": "code",
   "execution_count": null,
   "metadata": {},
   "outputs": [],
   "source": [
    "precision, recall, _ = precision_recall_curve(final_df['is_diabetic'], final_df['score'])\n",
    "PR_disp=PrecisionRecallDisplay(precision=precision, recall=recall).plot()\n",
    "_ = PR_disp.ax_.set_title(f\"2-class Precision-Recall curve, AP={np.mean(precision):.2f}, Prevalence={final_df['is_diabetic'].mean():.2f}\")\n",
    "plt.tight_layout()\n",
    "# plt.savefig('/data1/safe/From_Clalit/precision_recall_curve_yochai.png')\n",
    "plt.show()"
   ]
  },
  {
   "cell_type": "code",
   "execution_count": null,
   "metadata": {},
   "outputs": [],
   "source": [
    "fpr, tpr, thresholds = roc_curve(final_df['is_diabetic'], final_df['score'])\n",
    "ROC_disp=RocCurveDisplay(fpr=fpr, tpr=tpr).plot()\n",
    "_ = ROC_disp.ax_.set_title(f\"2-class ROC, AUC={auc(fpr, tpr):.2f}, N={final_df.shape[0]}\")\n",
    "plt.tight_layout()\n",
    "plt.show()\n",
    "# plt.savefig('/data1/safe/From_Clalit/roc_yochai.png')"
   ]
  },
  {
   "cell_type": "code",
   "execution_count": null,
   "metadata": {},
   "outputs": [],
   "source": [
    "final_df.reset_index().loc[:,['is_diabetic','score']].to_csv(os.path.join(FOLDER,\"scores_df.csv\"))"
   ]
  },
  {
   "cell_type": "code",
   "execution_count": null,
   "metadata": {},
   "outputs": [],
   "source": [
    "final_df.drop(\n",
    "    columns=['kod_gorem_mafne', 'bdika_cat_code',\n",
    "             'delta_time_years', 'UKB_HbA1c', 'HDL', 'Reticulocyte Count', 'Triglycerides']).rename(columns={\n",
    "    'value':'HbA1c%', \n",
    "    'UKB_HDL': 'HDL', \n",
    "    'UKB_reticulocyte_count': 'Reticulocyte Count', \n",
    "    'is_diabetic': 'Outcome', 'UKB_Triglycerides': 'Triglycerides'}).describe().T.loc[[\n",
    "    'is_male', 'Age', 'HbA1c%', 'GGT', 'HB', 'dt_years', 'score', \n",
    "    'HDL', 'Triglycerides', 'Reticulocyte Count', 'Outcome']].round(2).style\n",
    "#to_csv('/data1/safe/From_Clalit/summary_stats_yochai.csv')"
   ]
  },
  {
   "cell_type": "markdown",
   "metadata": {},
   "source": [
    "# Downsample prevalence"
   ]
  },
  {
   "cell_type": "code",
   "execution_count": null,
   "metadata": {},
   "outputs": [],
   "source": [
    "diab_prev=0.0217"
   ]
  },
  {
   "cell_type": "code",
   "execution_count": null,
   "metadata": {},
   "outputs": [],
   "source": [
    "def downSamplePrevalence(df):\n",
    "    df"
   ]
  },
  {
   "cell_type": "code",
   "execution_count": null,
   "metadata": {},
   "outputs": [],
   "source": [
    "df_diabetic=df.loc[df.loc[:,\"is_diabetic\"]==1,:]\n",
    "df_non_diabetic=df.loc[df.loc[:,\"is_diabetic\"]==0,:]"
   ]
  },
  {
   "cell_type": "code",
   "execution_count": null,
   "metadata": {},
   "outputs": [],
   "source": [
    "df_diabetic.sort_values(by=\"score\").tail(10)"
   ]
  },
  {
   "cell_type": "code",
   "execution_count": null,
   "metadata": {},
   "outputs": [],
   "source": [
    "df_non_diabetic.sort_values(by=\"score\").tail(10)"
   ]
  },
  {
   "cell_type": "code",
   "execution_count": null,
   "metadata": {},
   "outputs": [],
   "source": [
    "diab_count=int(diab_prev*df.shape[0])\n",
    "non_diab_count=int((1-diab_prev)*df.shape[0])\n",
    "print(\"diab_count:\",diab_count)\n",
    "print(\"non_diab_count:\",non_diab_count)\n"
   ]
  },
  {
   "cell_type": "code",
   "execution_count": null,
   "metadata": {},
   "outputs": [],
   "source": [
    "1-diab_prev"
   ]
  },
  {
   "cell_type": "code",
   "execution_count": null,
   "metadata": {},
   "outputs": [],
   "source": [
    "df_non_diab_sample=df_non_diabetic.sample(n=non_diab_count,replace=True)\n",
    "df_non_diab_sample.head()"
   ]
  },
  {
   "cell_type": "code",
   "execution_count": null,
   "metadata": {},
   "outputs": [],
   "source": [
    "df_non_diab_sample.shape"
   ]
  },
  {
   "cell_type": "code",
   "execution_count": null,
   "metadata": {},
   "outputs": [],
   "source": [
    "df_non_diab_sample[\"is_diabetic\"].sum()"
   ]
  },
  {
   "cell_type": "code",
   "execution_count": null,
   "metadata": {},
   "outputs": [],
   "source": [
    "df_diab_sample=df_diabetic.sample(n=diab_count)\n",
    "df_diab_sample.head()"
   ]
  },
  {
   "cell_type": "code",
   "execution_count": null,
   "metadata": {},
   "outputs": [],
   "source": [
    "df_diab_sample.shape"
   ]
  },
  {
   "cell_type": "code",
   "execution_count": null,
   "metadata": {},
   "outputs": [],
   "source": [
    "fig,axs=plt.subplots(1,2,figsize=(12,6))\n",
    "df_non_diab_sample[\"score\"].hist(ax=axs[0])\n",
    "df_diab_sample[\"score\"].hist(ax=axs[1])\n",
    "plt.show()"
   ]
  },
  {
   "cell_type": "code",
   "execution_count": null,
   "metadata": {},
   "outputs": [],
   "source": [
    "mut_df=pd.concat([df_diab_sample,df_non_diab_sample])\n",
    "mut_df"
   ]
  },
  {
   "cell_type": "code",
   "execution_count": null,
   "metadata": {},
   "outputs": [],
   "source": [
    "precision, recall, _ = precision_recall_curve(mut_df['is_diabetic'], mut_df['score'])\n",
    "PR_disp=PrecisionRecallDisplay(precision=precision, recall=recall).plot()\n",
    "_ = PR_disp.ax_.set_title(f\"2-class Precision-Recall curve, AP={np.mean(precision):.2f}, Prevalence={mut_df['is_diabetic'].mean():.2f}\")\n",
    "plt.tight_layout()\n",
    "# plt.savefig('/data1/safe/From_Clalit/precision_recall_curve_yochai.png')\n",
    "plt.show()"
   ]
  },
  {
   "cell_type": "code",
   "execution_count": null,
   "metadata": {},
   "outputs": [],
   "source": [
    "mut_df['is_diabetic'].mean()"
   ]
  },
  {
   "cell_type": "code",
   "execution_count": null,
   "metadata": {},
   "outputs": [],
   "source": [
    "fpr, tpr, thresholds = roc_curve(mut_df['is_diabetic'], mut_df['score'])\n",
    "ROC_disp=RocCurveDisplay(fpr=fpr, tpr=tpr).plot()\n",
    "_ = ROC_disp.ax_.set_title(f\"2-class ROC, AUC={auc(fpr, tpr):.2f}, N={mut_df.shape[0]}\")\n",
    "plt.tight_layout()\n",
    "plt.show()"
   ]
  },
  {
   "cell_type": "code",
   "execution_count": null,
   "metadata": {},
   "outputs": [],
   "source": []
  },
  {
   "cell_type": "code",
   "execution_count": null,
   "metadata": {},
   "outputs": [],
   "source": []
  },
  {
   "cell_type": "code",
   "execution_count": null,
   "metadata": {},
   "outputs": [],
   "source": []
  },
  {
   "cell_type": "code",
   "execution_count": null,
   "metadata": {},
   "outputs": [],
   "source": []
  },
  {
   "cell_type": "code",
   "execution_count": null,
   "metadata": {},
   "outputs": [],
   "source": []
  },
  {
   "cell_type": "code",
   "execution_count": null,
   "metadata": {},
   "outputs": [],
   "source": []
  },
  {
   "cell_type": "code",
   "execution_count": null,
   "metadata": {},
   "outputs": [],
   "source": []
  },
  {
   "cell_type": "code",
   "execution_count": null,
   "metadata": {},
   "outputs": [],
   "source": []
  },
  {
   "cell_type": "code",
   "execution_count": null,
   "metadata": {},
   "outputs": [],
   "source": []
  },
  {
   "cell_type": "code",
   "execution_count": null,
   "metadata": {},
   "outputs": [],
   "source": []
  },
  {
   "cell_type": "code",
   "execution_count": null,
   "metadata": {},
   "outputs": [],
   "source": []
  },
  {
   "cell_type": "code",
   "execution_count": null,
   "metadata": {},
   "outputs": [],
   "source": []
  },
  {
   "cell_type": "code",
   "execution_count": null,
   "metadata": {},
   "outputs": [],
   "source": []
  },
  {
   "cell_type": "code",
   "execution_count": null,
   "metadata": {},
   "outputs": [],
   "source": []
  },
  {
   "cell_type": "code",
   "execution_count": null,
   "metadata": {},
   "outputs": [],
   "source": []
  },
  {
   "cell_type": "code",
   "execution_count": null,
   "metadata": {},
   "outputs": [],
   "source": []
  },
  {
   "cell_type": "code",
   "execution_count": null,
   "metadata": {},
   "outputs": [],
   "source": []
  },
  {
   "cell_type": "code",
   "execution_count": null,
   "metadata": {},
   "outputs": [],
   "source": []
  },
  {
   "cell_type": "code",
   "execution_count": null,
   "metadata": {},
   "outputs": [],
   "source": []
  },
  {
   "cell_type": "code",
   "execution_count": null,
   "metadata": {},
   "outputs": [],
   "source": []
  },
  {
   "cell_type": "code",
   "execution_count": null,
   "metadata": {},
   "outputs": [],
   "source": []
  },
  {
   "cell_type": "code",
   "execution_count": null,
   "metadata": {},
   "outputs": [],
   "source": []
  },
  {
   "cell_type": "code",
   "execution_count": null,
   "metadata": {},
   "outputs": [],
   "source": []
  },
  {
   "cell_type": "code",
   "execution_count": null,
   "metadata": {},
   "outputs": [],
   "source": []
  },
  {
   "cell_type": "code",
   "execution_count": null,
   "metadata": {},
   "outputs": [],
   "source": []
  }
 ],
 "metadata": {
  "kernelspec": {
   "display_name": "Python 3",
   "language": "python",
   "name": "python3"
  },
  "language_info": {
   "codemirror_mode": {
    "name": "ipython",
    "version": 3
   },
   "file_extension": ".py",
   "mimetype": "text/x-python",
   "name": "python",
   "nbconvert_exporter": "python",
   "pygments_lexer": "ipython3",
   "version": "3.6.3"
  }
 },
 "nbformat": 4,
 "nbformat_minor": 2
}