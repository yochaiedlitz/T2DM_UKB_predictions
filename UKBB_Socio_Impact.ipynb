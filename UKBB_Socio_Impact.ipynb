{
 "cells": [
  {
   "cell_type": "code",
   "execution_count": 84,
   "metadata": {
    "ExecuteTime": {
     "end_time": "2022-01-02T13:00:32.071014Z",
     "start_time": "2022-01-02T13:00:32.066652Z"
    }
   },
   "outputs": [],
   "source": [
    "import pandas as pd\n",
    "import os\n",
    "import matplotlib.pyplot as plt\n",
    "import numpy as np"
   ]
  },
  {
   "cell_type": "code",
   "execution_count": 85,
   "metadata": {
    "ExecuteTime": {
     "end_time": "2022-01-02T13:00:36.752410Z",
     "start_time": "2022-01-02T13:00:36.747508Z"
    }
   },
   "outputs": [],
   "source": [
    "base_path=\"/net/mraid08/export/jafar/UKBioBank/Data/\"\n",
    "data_path=os.path.join(base_path,\"ukb29741.csv\")\n",
    "train_val_path=os.path.join(os.path.join(base_path,\"ukb29741_a1c_below_65_updates_scoreboard_train_val.csv\"))\n",
    "test_path=os.path.join(os.path.join(base_path,\"ukb29741_a1c_below_65_updates_scoreboard_test.csv\"))"
   ]
  },
  {
   "cell_type": "code",
   "execution_count": 46,
   "metadata": {
    "ExecuteTime": {
     "end_time": "2022-01-02T12:12:00.226897Z",
     "start_time": "2022-01-02T12:11:59.741890Z"
    }
   },
   "outputs": [
    {
     "name": "stdout",
     "output_type": "stream",
     "text": [
      "Holla! que tal?\n",
      "total 173G\n",
      "-rw-rw-r--+ 1 edlitzy segalg     53M Dec 21 18:57 ukb29741_a1c_below_65_updates_scoreboard_test.csv\n",
      "-rw-rw-r--+ 1 edlitzy segalg    209M Dec 21 18:57 ukb29741_a1c_below_65_updates_scoreboard_train_val.csv\n",
      "-rw-rw-r--+ 1 edlitzy segalg     65M Dec 21 18:56 ukb29741_a1c_below_65_updates_scoreboard_val.csv\n",
      "-rw-rw-r--+ 1 edlitzy segalg    150M Dec 21 18:56 ukb29741_a1c_below_65_updates_scoreboard_train.csv\n",
      "-rw-rw-r--+ 1 edlitzy segalg    146M Dec 19 18:05 ukb29741_a1c_below_65_updates_scoreboard_trainw_diab_medicine.csv\n",
      "-rw-rw-r--+ 1 edlitzy segalg     52M Dec 16 12:47 bu_ukb29741_a1c_below_65_updates_scoreboard_test.csv\n",
      "-rw-rw-r--+ 1 edlitzy segalg     62M Dec 16 12:46 bu_ukb29741_a1c_below_65_updates_scoreboard_val.csv\n",
      "-rw-rw-r--+ 1 edlitzy segalg    144M Dec 16 12:46 bu_ukb29741_a1c_below_65_updates_scoreboard_train.csv\n",
      "-rw-rw-r--+ 1 edlitzy segalg    205M Dec 16 12:45 bu_ukb29741_a1c_below_65_updates_scoreboard_train_val.csv\n",
      "-rw-rw-r--+ 1 edlitzy segalg     49M Dec  9 18:28 ukb29741_a1c_below_65_test.csv\n",
      "-rw-rw-r--+ 1 edlitzy segalg    194M Dec  9 18:27 ukb29741_a1c_below_65_train_val.csv\n",
      "-rw-rw-r--+ 1 edlitzy segalg     59M Dec  9 18:27 ukb29741_a1c_below_65_val.csv\n",
      "-rw-rw-r--+ 1 edlitzy segalg    136M Dec  9 18:26 ukb29741_a1c_below_65_train.csv\n",
      "-rw-rw-r--+ 1 edlitzy segalg    219K Dec  9 17:53 ukb29741_a1c_below_65_early_T2D_detection__updates_scoreboard_test.csv\n",
      "-rw-rw-r--+ 1 edlitzy segalg    779K Dec  9 17:52 ukb29741_a1c_below_65_early_T2D_detection__updates_scoreboard_train_val.csv\n",
      "-rw-rw-r--+ 1 edlitzy segalg    212K Dec  9 17:52 ukb29741_a1c_below_65_early_T2D_detection__updates_scoreboard_val.csv\n",
      "-rw-rw-r--+ 1 edlitzy segalg    586K Dec  9 17:51 ukb29741_a1c_below_65_early_T2D_detection__updates_scoreboard_train.csv\n",
      "-rw-rw-r--+ 1 edlitzy segalg    207K Dec  9 17:51 ukb29741_a1c_below_65_early_T2D_detection__test.csv\n",
      "-rw-rw-r--+ 1 edlitzy segalg    742K Dec  9 17:50 ukb29741_a1c_below_65_early_T2D_detection__train_val.csv\n",
      "-rw-rw-r--+ 1 edlitzy segalg    201K Dec  9 17:50 ukb29741_a1c_below_65_early_T2D_detection__val.csv\n",
      "-rw-rw-r--+ 1 edlitzy segalg    558K Dec  9 17:50 ukb29741_a1c_below_65_early_T2D_detection__train.csv\n",
      "drwxr-xr-x+ 2 edlitzy segalg       3 Nov  9 12:21 \u001b[0m\u001b[01;34mClalit\u001b[0m/\n",
      "drwxrwxr-x. 2 edlitzy segalg       2 Jun 30  2021 \u001b[01;34mtmp123\u001b[0m/\n",
      "-rw-rw-r--+ 1 edlitzy segalg     50M Jun 28  2021 ukb29741_Diabetes_scoretable_test.csv\n",
      "-rw-rw-r--+ 1 edlitzy segalg    200M Jun 28  2021 ukb29741_scoretable_train_val.csv\n",
      "-rw-rw-r--+ 1 edlitzy segalg     60M Jun 28  2021 ukb29741_scoretable_val.csv\n",
      "-rw-rw-r--+ 1 edlitzy segalg    140M Jun 28  2021 ukb29741_scoretable_train.csv\n",
      "-rw-rw-r--+ 1 edlitzy segalg     48M Mar 25  2020 ukb29741_Diabetes_returned_extended_Imputed_val.csv\n",
      "-rw-rw-r--+ 1 edlitzy segalg    191M Mar 25  2020 ukb29741_Diabetes_returned_extended_Imputed_train_test.csv\n",
      "-rw-rw-r--+ 1 edlitzy segalg    134M Mar 25  2020 ukb29741_Diabetes_returned_extended_Imputed_train.csv\n",
      "-rw-rw-r--+ 1 edlitzy segalg     58M Mar 25  2020 ukb29741_Diabetes_returned_extended_Imputed_test.csv\n",
      "-rw-rw-r--+ 1 edlitzy segalg    134M Feb  9  2020 ukb29741_b4_screening_train.csv\n",
      "-rw-rw-r--+ 1 edlitzy segalg    134M Feb  9  2020 ukb29741_Diabetes_returned_No_medicine_train.csv\n",
      "-rw-rw-r--+ 1 edlitzy segalg     57M Feb  9  2020 ukb29741_b4_screening_test.csv\n",
      "-rw-rw-r--+ 1 edlitzy segalg     58M Feb  9  2020 ukb29741_Diabetes_returned_No_medicine_test.csv\n",
      "-rw-rw-r--+ 1 edlitzy segalg     49M Feb  9  2020 ukb29741_Diabetes_returned_No_medicine_val.csv\n",
      "-rw-rw-r--+ 1 edlitzy segalg    193M Feb  9  2020 ukb29741_Diabetes_returned_No_medicine_train_test.csv\n",
      "-rw-rw-r--+ 1 edlitzy segalg     48M Feb  9  2020 ukb29741_b4_screening_val.csv\n",
      "-rw-rw-r--+ 1 edlitzy segalg    192M Feb  9  2020 ukb29741_b4_screening_train_test.csv\n",
      "-rw-rw-r--+ 1 edlitzy segalg     48M Feb  9  2020 ukb29741_Diabetes_returned_acc_a1c_val.csv\n",
      "-rw-rw-r--+ 1 edlitzy segalg    192M Feb  9  2020 ukb29741_Diabetes_returned_acc_a1c_train_test.csv\n",
      "-rw-rw-r--+ 1 edlitzy segalg    193M Feb  9  2020 ukb29741_Diabetes_returned_train_test_No_T2D_medicine.csv\n",
      "drwxrwxr-x. 2 noamba  segalg       3 Feb  4  2020 \u001b[01;34mTomer\u001b[0m/\n",
      "-rw-rw-r--+ 1 edlitzy segalg    135M Feb  4  2020 ukb29741_Diabetes_returned_extended_Imputed_trainw_diab_medicine.csv\n",
      "-rw-rw-r--+ 1 edlitzy segalg     58M Feb  4  2020 ukb29741_Diabetes_returned_extended_Imputed_testw_diab_medicine.csv\n",
      "-rw-rw-r--+ 1 edlitzy segalg     48M Feb  4  2020 ukb29741_Diabetes_returned_extended_Imputed_valw_diab_medicine.csv\n",
      "-rw-rw-r--+ 1 edlitzy segalg    191M Feb  4  2020 ukb29741_Diabetes_returned_extended_Imputed_train_testw_diab_medicine.csv\n",
      "-rw-rw-r--+ 1 edlitzy segalg     41M Jan 18  2020 ukb29741_Diabetes_returned_A1c_a1c_20_38_val.vsv\n",
      "-rw-rw-r--+ 1 edlitzy segalg    7.7M Jan 18  2020 ukb29741_Diabetes_returned_A1c_higher_38_val.vsv\n",
      "-rw-rw-r--+ 1 edlitzy segalg     48M Nov  7  2019 ukb29741_Diabetes_returned_GDRS_val.csv\n",
      "-rw-rw-r--+ 1 edlitzy segalg    192M Nov  7  2019 ukb29741_Diabetes_returned_GDRS_train_test.csv\n",
      "-rw-rw-r--+ 1 edlitzy segalg    904M Oct 28  2019 ukb29741_val.csv\n",
      "-rw-rw-r--+ 1 edlitzy segalg    2.1G Oct 28  2019 ukb29741_train_test.csv\n",
      "-rw-rw-r--+ 1 edlitzy segalg     23M Sep 26  2019 ukb29741_test_Reduced_NA_Unimputed.csv\n",
      "-rw-rw-r--+ 1 edlitzy segalg     90M Sep 26  2019 ukb29741_train_Reduced_NA_Unimputed.csv\n",
      "-rw-rw-r--+ 1 edlitzy segalg     23M Sep 26  2019 ukb29741_test_Reduced_NA_1hot_Un_Imp.csv\n",
      "-rw-rw-r--+ 1 edlitzy segalg     89M Sep 26  2019 ukb29741_train_Reduced_NA_1hot_Un_Imp.csv\n",
      "-rw-rw-r--+ 1 edlitzy segalg     19M Sep 12  2019 ukb29741_test_Reduced_NA_Un_Imp.csv\n",
      "-rw-rw-r--+ 1 edlitzy segalg     32M Sep  2  2019 ukb29741_Diabetes_returned_extended_Imputed_ROUND_test.csv\n",
      "-rw-rw-r--+ 1 edlitzy segalg     74M Sep  2  2019 ukb29741_Diabetes_returned_extended_Imputed_ROUND_train.csv\n",
      "-rw-rw-r--+ 1 edlitzy segalg     27M Sep  2  2019 ukb29741_Diabetes_returned_extended_Imputed_ROUND_val.csv\n",
      "-rw-rw-r--+ 1 edlitzy segalg    106M Sep  2  2019 ukb29741_Diabetes_returned_extended_Imputed_ROUND_train_test.csv\n",
      "-rw-rw-r--+ 1 edlitzy segalg     27M Sep  2  2019 ukb29741_Diabetes_returned_extended_Imputed_round_test.csv\n",
      "-rw-rw-r--+ 1 edlitzy segalg    105M Sep  2  2019 ukb29741_Diabetes_returned_extended_Imputed_round_train.csv\n",
      "-rw-rw-r--+ 1 edlitzy segalg    309M Jul  9  2019 ukb29741_Diabetes_returned_extended_test.csv\n",
      "-rw-rw-r--+ 1 edlitzy segalg    1.3G Jul  9  2019 ukb29741_Diabetes_returned_extended_train.csv\n",
      "-rw-rw-r--+ 1 edlitzy segalg    1.6M Jun 10  2019 Data_Dictionary_Showcase.csv\n",
      "-rw-rw-r--+ 1 edlitzy segalg    292M Jun  4  2019 ukb29741_Diabetes_returned_train_val.csv\n",
      "-rw-rw-r--+ 1 edlitzy segalg     74M Jun  4  2019 ukb29741_Diabetes_returned_test.csv\n",
      "-rw-rw-r--+ 1 edlitzy segalg     347 May  7  2019 ukb29741.log\n",
      "-rw-rw-r--+ 1 edlitzy segalg     18G May  7  2019 ukb29741.csv\n",
      "-rw-rw-r--+ 1 edlitzy segalg    6.2K May  7  2019 fields.ukb\n",
      "-rw-rw-r--+ 1 edlitzy segalg    8.8G May  6  2019 ukb29741.enc_ukb\n",
      "-rw-rw-r--+ 1 edlitzy segalg    2.6G May  6  2019 ukb29741.enc\n",
      "-rw-rw-r--+ 1 edlitzy segalg    8.6M Mar 22  2019 encoding.ukb\n",
      "-rw-r--r--+ 1 edlitzy segalg    1.5K Feb  5  2019 ukb_snp_chr2_v2.log\n",
      "-rw-rw-r--+ 1 edlitzy segalg    1.3M Feb  5  2019 ukb_snp_chr2_v2.bim\n",
      "-rw-rw-r--+ 1 edlitzy segalg     12M Feb  5  2019 ukb_snp_chr2_v2.fam\n",
      "-rw-rw-r--+ 1 edlitzy segalg    5.5G Feb  5  2019 ukb_snp_chr2_v2.bed\n",
      "-rw-r--r--+ 1 edlitzy segalg      70 Feb  5  2019 ukb_snp_chr2_v2.nosex\n",
      "-rw-r--r--+ 1 edlitzy segalg    1.5K Feb  5  2019 ukb_snp_chr1_v2.log\n",
      "-rw-rw-r--+ 1 edlitzy segalg    1.3M Feb  5  2019 ukb_snp_chr1_v2.bim\n",
      "-rw-rw-r--+ 1 edlitzy segalg     12M Feb  5  2019 ukb_snp_chr1_v2.fam\n",
      "-rw-rw-r--+ 1 edlitzy segalg    5.4G Feb  5  2019 ukb_snp_chr1_v2.bed\n",
      "-rw-r--r--+ 1 edlitzy segalg      70 Feb  5  2019 ukb_snp_chr1_v2.nosex\n",
      "-rw-rw-r--+ 1 edlitzy segalg     509 Feb  4  2019 GWAS_sig_SNPs.txt\n",
      "-rwxrwxr-x. 1 edlitzy segalg    183M Feb  4  2019 \u001b[01;32mukb20971.csv\u001b[0m*\n",
      "-rwxrwxr-x. 1 edlitzy segalg     17G Feb  3  2019 \u001b[01;32mukb20970.csv\u001b[0m*\n",
      "-rwxrwxr-x. 1 edlitzy segalg    782K Feb  3  2019 \u001b[01;32mukb10194_new.csv\u001b[0m*\n",
      "-rwxrwxr-x. 1 edlitzy segalg    4.0G Dec  3  2018 \u001b[01;32mukb10194.csv\u001b[0m*\n",
      "-rw-rw-r--+ 1 edlitzy segalg    7.5M Nov  1  2018 ukb_snp_chr1_v2.fam.tmp\n",
      "-rw-r--r--+ 1 edlitzy segalg    272K Jun 21  2018 ukb_snp_chr22_v2.bim\n",
      "-rw-r--r--+ 1 edlitzy segalg     12M Jun 21  2018 ukb_snp_chr22_v2.fam\n",
      "-rw-r--r--+ 1 edlitzy segalg    1.5K Jun 21  2018 ukb_snp_chr22_v2.log\n",
      "-rw-r--r--+ 1 edlitzy segalg    1.2G Jun 21  2018 ukb_snp_chr22_v2.bed\n",
      "-rw-r--r--+ 1 edlitzy segalg    434K Jun 21  2018 ukb_snp_chr20_v2.bim\n",
      "-rw-r--r--+ 1 edlitzy segalg     12M Jun 21  2018 ukb_snp_chr20_v2.fam\n",
      "-rw-r--r--+ 1 edlitzy segalg    1.5K Jun 21  2018 ukb_snp_chr20_v2.log\n",
      "-rw-r--r--+ 1 edlitzy segalg    1.8G Jun 21  2018 ukb_snp_chr20_v2.bed\n",
      "-rw-r--r--+ 1 edlitzy segalg      48 Jun 21  2018 ukb_snp_chr22_v2.irem\n",
      "-rw-r--r--+ 1 edlitzy segalg    905K Jun 21  2018 ukb_snp_chr7_v2.bim\n",
      "-rw-r--r--+ 1 edlitzy segalg     12M Jun 21  2018 ukb_snp_chr7_v2.fam\n",
      "-rw-r--r--+ 1 edlitzy segalg    1.5K Jun 21  2018 ukb_snp_chr7_v2.log\n",
      "-rw-r--r--+ 1 edlitzy segalg    3.8G Jun 21  2018 ukb_snp_chr7_v2.bed\n",
      "-rw-rw-r--+ 1 edlitzy segalg    1.1G Jun 21  2018 ukb_snp_chr21_v2.bed\n",
      "-rw-rw-r--+ 1 edlitzy segalg    252K Jun 21  2018 ukb_snp_chr21_v2.bim\n",
      "-rw-rw-r--+ 1 edlitzy segalg     12M Jun 21  2018 ukb_snp_chr21_v2.fam\n",
      "-rw-rw-r--+ 1 edlitzy segalg    1.5K Jun 21  2018 ukb_snp_chr21_v2.log\n",
      "-rw-r--r--+ 1 edlitzy segalg    847K Jun 21  2018 ukb_snp_chr10_v2.bim\n",
      "-rw-r--r--+ 1 edlitzy segalg     12M Jun 21  2018 ukb_snp_chr10_v2.fam\n",
      "-rw-r--r--+ 1 edlitzy segalg    1.5K Jun 21  2018 ukb_snp_chr10_v2.log\n",
      "-rw-r--r--+ 1 edlitzy segalg    3.5G Jun 21  2018 ukb_snp_chr10_v2.bed\n",
      "-rw-rw-r--+ 1 edlitzy segalg      48 Jun 21  2018 ukb_snp_chr21_v2.irem\n",
      "-rw-r--r--+ 1 edlitzy segalg      70 Jun 21  2018 ukb_snp_chr22_v2.nosex\n",
      "-rw-r--r--+ 1 edlitzy segalg     112 Jun 21  2018 ukb_snp_chr20_v2.irem\n",
      "-rw-rw-r--+ 1 edlitzy segalg      70 Jun 21  2018 ukb_snp_chr21_v2.nosex\n",
      "-rw-r--r--+ 1 edlitzy segalg    805K Jun 21  2018 ukb_snp_chr12_v2.bim\n",
      "-rw-r--r--+ 1 edlitzy segalg     12M Jun 21  2018 ukb_snp_chr12_v2.fam\n",
      "-rw-r--r--+ 1 edlitzy segalg    1.5K Jun 21  2018 ukb_snp_chr12_v2.log\n",
      "-rw-r--r--+ 1 edlitzy segalg    3.3G Jun 21  2018 ukb_snp_chr12_v2.bed\n",
      "-rw-r--r--+ 1 edlitzy segalg      70 Jun 21  2018 ukb_snp_chr20_v2.nosex\n",
      "-rw-r--r--+ 1 edlitzy segalg    452K Jun 21  2018 ukb_snp_chr19_v2.bim\n",
      "-rw-r--r--+ 1 edlitzy segalg     12M Jun 21  2018 ukb_snp_chr19_v2.fam\n",
      "-rw-r--r--+ 1 edlitzy segalg    1.5K Jun 21  2018 ukb_snp_chr19_v2.log\n",
      "-rw-r--r--+ 1 edlitzy segalg    1.9G Jun 21  2018 ukb_snp_chr19_v2.bed\n",
      "-rw-r--r--+ 1 edlitzy segalg    500K Jun 21  2018 ukb_snp_chr18_v2.bim\n",
      "-rw-r--r--+ 1 edlitzy segalg     12M Jun 21  2018 ukb_snp_chr18_v2.fam\n",
      "-rw-r--r--+ 1 edlitzy segalg    1.5K Jun 21  2018 ukb_snp_chr18_v2.log\n",
      "-rw-r--r--+ 1 edlitzy segalg    2.1G Jun 21  2018 ukb_snp_chr18_v2.bed\n",
      "-rw-r--r--+ 1 edlitzy segalg    542K Jun 21  2018 ukb_snp_chr17_v2.bim\n",
      "-rw-r--r--+ 1 edlitzy segalg     12M Jun 21  2018 ukb_snp_chr17_v2.fam\n",
      "-rw-r--r--+ 1 edlitzy segalg    1.5K Jun 21  2018 ukb_snp_chr17_v2.log\n",
      "-rw-r--r--+ 1 edlitzy segalg    2.3G Jun 21  2018 ukb_snp_chr17_v2.bed\n",
      "-rw-r--r--+ 1 edlitzy segalg     896 Jun 21  2018 ukb_snp_chr19_v2.irem\n",
      "-rw-r--r--+ 1 edlitzy segalg      96 Jun 21  2018 ukb_snp_chr18_v2.irem\n",
      "-rw-r--r--+ 1 edlitzy segalg     368 Jun 21  2018 ukb_snp_chr17_v2.irem\n",
      "-rw-r--r--+ 1 edlitzy segalg      80 Jun 21  2018 ukb_snp_chr7_v2.irem\n",
      "-rw-r--r--+ 1 edlitzy segalg      96 Jun 21  2018 ukb_snp_chr10_v2.irem\n",
      "-rw-r--r--+ 1 edlitzy segalg      32 Jun 21  2018 ukb_snp_chr12_v2.irem\n",
      "-rw-r--r--+ 1 edlitzy segalg      70 Jun 21  2018 ukb_snp_chr19_v2.nosex\n",
      "-rw-r--r--+ 1 edlitzy segalg      70 Jun 21  2018 ukb_snp_chr18_v2.nosex\n",
      "-rw-r--r--+ 1 edlitzy segalg      70 Jun 21  2018 ukb_snp_chr17_v2.nosex\n",
      "-rw-r--r--+ 1 edlitzy segalg    590K Jun 21  2018 ukb_snp_chr16_v2.bim\n",
      "-rw-r--r--+ 1 edlitzy segalg     12M Jun 21  2018 ukb_snp_chr16_v2.fam\n",
      "-rw-r--r--+ 1 edlitzy segalg    1.5K Jun 21  2018 ukb_snp_chr16_v2.log\n",
      "-rw-r--r--+ 1 edlitzy segalg    2.5G Jun 21  2018 ukb_snp_chr16_v2.bed\n",
      "-rw-r--r--+ 1 edlitzy segalg    2.4G Jun 21  2018 ukb_snp_chr13_v2.bed\n",
      "-rw-r--r--+ 1 edlitzy segalg    580K Jun 21  2018 ukb_snp_chr13_v2.bim\n",
      "-rw-r--r--+ 1 edlitzy segalg     12M Jun 21  2018 ukb_snp_chr13_v2.fam\n",
      "-rw-r--r--+ 1 edlitzy segalg    1.5K Jun 21  2018 ukb_snp_chr13_v2.log\n",
      "-rw-r--r--+ 1 edlitzy segalg    848K Jun 21  2018 ukb_snp_chr8_v2.bim\n",
      "-rw-r--r--+ 1 edlitzy segalg     12M Jun 21  2018 ukb_snp_chr8_v2.fam\n",
      "-rw-r--r--+ 1 edlitzy segalg    1.5K Jun 21  2018 ukb_snp_chr8_v2.log\n",
      "-rw-r--r--+ 1 edlitzy segalg    545K Jun 21  2018 ukb_snp_chr14_v2.bim\n",
      "-rw-r--r--+ 1 edlitzy segalg    1.5K Jun 21  2018 ukb_snp_chr14_v2.log\n",
      "-rw-r--r--+ 1 edlitzy segalg     12M Jun 21  2018 ukb_snp_chr14_v2.fam\n",
      "-rw-r--r--+ 1 edlitzy segalg    2.2G Jun 21  2018 ukb_snp_chr14_v2.bed\n",
      "-rw-r--r--+ 1 edlitzy segalg    3.6G Jun 21  2018 ukb_snp_chr8_v2.bed\n",
      "-rw-r--r--+ 1 edlitzy segalg      48 Jun 21  2018 ukb_snp_chr16_v2.irem\n",
      "-rw-r--r--+ 1 edlitzy segalg    531K Jun 21  2018 ukb_snp_chr15_v2.bim\n",
      "-rw-r--r--+ 1 edlitzy segalg     12M Jun 21  2018 ukb_snp_chr15_v2.fam\n",
      "-rw-r--r--+ 1 edlitzy segalg    1.5K Jun 21  2018 ukb_snp_chr15_v2.log\n",
      "-rw-r--r--+ 1 edlitzy segalg    2.2G Jun 21  2018 ukb_snp_chr15_v2.bed\n",
      "-rw-r--r--+ 1 edlitzy segalg    4.4K Jun 21  2018 ukb_snp_chr13_v2.irem\n",
      "-rw-r--r--+ 1 edlitzy segalg    834K Jun 21  2018 ukb_snp_chr11_v2.bim\n",
      "-rw-r--r--+ 1 edlitzy segalg     12M Jun 21  2018 ukb_snp_chr11_v2.fam\n",
      "-rw-r--r--+ 1 edlitzy segalg    1.5K Jun 21  2018 ukb_snp_chr11_v2.log\n",
      "-rw-r--r--+ 1 edlitzy segalg    3.4G Jun 21  2018 ukb_snp_chr11_v2.bed\n",
      "-rw-r--r--+ 1 edlitzy segalg      48 Jun 21  2018 ukb_snp_chr14_v2.irem\n",
      "-rw-r--r--+ 1 edlitzy segalg      70 Jun 21  2018 ukb_snp_chr16_v2.nosex\n",
      "-rw-r--r--+ 1 edlitzy segalg      70 Jun 21  2018 ukb_snp_chr12_v2.nosex\n",
      "-rw-r--r--+ 1 edlitzy segalg      70 Jun 21  2018 ukb_snp_chr10_v2.nosex\n",
      "-rw-r--r--+ 1 edlitzy segalg      70 Jun 21  2018 ukb_snp_chr7_v2.nosex\n",
      "-rw-r--r--+ 1 edlitzy segalg    4.4G Jun 21  2018 ukb_snp_chr4_v2.bed\n",
      "-rw-r--r--+ 1 edlitzy segalg    1.1M Jun 21  2018 ukb_snp_chr4_v2.bim\n",
      "-rw-r--r--+ 1 edlitzy segalg     12M Jun 21  2018 ukb_snp_chr4_v2.fam\n",
      "-rw-r--r--+ 1 edlitzy segalg    1.5K Jun 21  2018 ukb_snp_chr4_v2.log\n",
      "-rw-r--r--+ 1 edlitzy segalg      96 Jun 21  2018 ukb_snp_chr8_v2.irem\n",
      "-rw-r--r--+ 1 edlitzy segalg    722K Jun 21  2018 ukb_snp_chr9_v2.bim\n",
      "-rw-r--r--+ 1 edlitzy segalg    1.5K Jun 21  2018 ukb_snp_chr9_v2.log\n",
      "-rw-r--r--+ 1 edlitzy segalg     12M Jun 21  2018 ukb_snp_chr9_v2.fam\n",
      "-rw-r--r--+ 1 edlitzy segalg    3.0G Jun 21  2018 ukb_snp_chr9_v2.bed\n",
      "-rw-r--r--+ 1 edlitzy segalg      16 Jun 21  2018 ukb_snp_chr15_v2.irem\n",
      "-rw-r--r--+ 1 edlitzy segalg    1.1M Jun 21  2018 ukb_snp_chr3_v2.bim\n",
      "-rw-r--r--+ 1 edlitzy segalg    1.5K Jun 21  2018 ukb_snp_chr3_v2.log\n",
      "-rw-r--r--+ 1 edlitzy segalg    4.6G Jun 21  2018 ukb_snp_chr3_v2.bed\n",
      "-rw-r--r--+ 1 edlitzy segalg     12M Jun 21  2018 ukb_snp_chr3_v2.fam\n",
      "-rw-r--r--+ 1 edlitzy segalg      80 Jun 21  2018 ukb_snp_chr11_v2.irem\n",
      "-rw-r--r--+ 1 edlitzy segalg    1.2M Jun 21  2018 ukb_snp_chr6_v2.bim\n",
      "-rw-r--r--+ 1 edlitzy segalg     12M Jun 21  2018 ukb_snp_chr6_v2.fam\n",
      "-rw-r--r--+ 1 edlitzy segalg    1.5K Jun 21  2018 ukb_snp_chr6_v2.log\n",
      "-rw-r--r--+ 1 edlitzy segalg    4.8G Jun 21  2018 ukb_snp_chr6_v2.bed\n",
      "-rw-r--r--+ 1 edlitzy segalg      70 Jun 21  2018 ukb_snp_chr13_v2.nosex\n",
      "-rw-r--r--+ 1 edlitzy segalg      70 Jun 21  2018 ukb_snp_chr14_v2.nosex\n",
      "-rw-r--r--+ 1 edlitzy segalg      70 Jun 21  2018 ukb_snp_chr15_v2.nosex\n",
      "-rw-r--r--+ 1 edlitzy segalg      80 Jun 21  2018 ukb_snp_chr9_v2.irem\n",
      "-rw-r--r--+ 1 edlitzy segalg      70 Jun 21  2018 ukb_snp_chr8_v2.nosex\n",
      "-rw-r--r--+ 1 edlitzy segalg      70 Jun 21  2018 ukb_snp_chr11_v2.nosex\n",
      "-rw-r--r--+ 1 edlitzy segalg    998K Jun 21  2018 ukb_snp_chr5_v2.bim\n",
      "-rw-r--r--+ 1 edlitzy segalg     12M Jun 21  2018 ukb_snp_chr5_v2.fam\n",
      "-rw-r--r--+ 1 edlitzy segalg    1.5K Jun 21  2018 ukb_snp_chr5_v2.log\n",
      "-rw-r--r--+ 1 edlitzy segalg      70 Jun 21  2018 ukb_snp_chr9_v2.nosex\n",
      "-rw-r--r--+ 1 edlitzy segalg      80 Jun 21  2018 ukb_snp_chr4_v2.irem\n",
      "-rw-r--r--+ 1 edlitzy segalg    4.2G Jun 21  2018 ukb_snp_chr5_v2.bed\n",
      "-rw-r--r--+ 1 edlitzy segalg      48 Jun 21  2018 ukb_snp_chr6_v2.irem\n",
      "-rw-r--r--+ 1 edlitzy segalg      96 Jun 21  2018 ukb_snp_chr3_v2.irem\n",
      "-rw-r--r--+ 1 edlitzy segalg      96 Jun 21  2018 ukb_snp_chr2_v2.irem\n",
      "-rw-r--r--+ 1 edlitzy segalg      32 Jun 21  2018 ukb_snp_chr1_v2.irem\n",
      "-rw-r--r--+ 1 edlitzy segalg     256 Jun 21  2018 ukb_snp_chr5_v2.irem\n",
      "-rw-r--r--+ 1 edlitzy segalg      70 Jun 21  2018 ukb_snp_chr6_v2.nosex\n",
      "-rw-r--r--+ 1 edlitzy segalg      70 Jun 21  2018 ukb_snp_chr5_v2.nosex\n",
      "-rw-r--r--+ 1 edlitzy segalg      70 Jun 21  2018 ukb_snp_chr3_v2.nosex\n",
      "-rw-r--r--+ 1 edlitzy segalg      70 Jun 21  2018 ukb_snp_chr4_v2.nosex\n",
      "-rw-rw----+ 1 omerwe  ukbiobank 6.0G Aug  5  2017 ukb_cal_chr3_v2.bed\n",
      "-rw-rw----+ 1 omerwe  ukbiobank 1.3G Aug  5  2017 ukb_cal_chr21_v2.bed\n",
      "-rw-rw----+ 1 omerwe  ukbiobank 2.3G Aug  5  2017 ukb_cal_chr20_v2.bed\n",
      "-rw-rw----+ 1 omerwe  ukbiobank 3.0G Aug  5  2017 ukb_cal_chr19_v2.bed\n",
      "-rw-rw----+ 1 omerwe  ukbiobank 2.5G Aug  5  2017 ukb_cal_chr18_v2.bed\n",
      "-rw-rw----+ 1 omerwe  ukbiobank 3.3G Aug  5  2017 ukb_cal_chr17_v2.bed\n",
      "-rw-rw----+ 1 omerwe  ukbiobank 3.3G Aug  5  2017 ukb_cal_chr16_v2.bed\n",
      "-rw-rw----+ 1 omerwe  ukbiobank 2.8G Aug  5  2017 ukb_cal_chr15_v2.bed\n",
      "-rw-rw----+ 1 omerwe  ukbiobank 3.0G Aug  5  2017 ukb_cal_chr14_v2.bed\n",
      "-rw-rw----+ 1 omerwe  ukbiobank 3.1G Aug  5  2017 ukb_cal_chr13_v2.bed\n",
      "-rw-rw----+ 1 omerwe  ukbiobank 4.3G Aug  5  2017 ukb_cal_chr12_v2.bed\n",
      "-rw-rw----+ 1 omerwe  ukbiobank 4.7G Aug  5  2017 ukb_cal_chr11_v2.bed\n",
      "-rw-rw----+ 1 omerwe  ukbiobank 4.4G Aug  5  2017 ukb_cal_chr10_v2.bed\n",
      "-rw-rw----+ 1 omerwe  ukbiobank 4.0G Aug  5  2017 ukb_cal_chr9_v2.bed\n",
      "-rw-rw----+ 1 omerwe  ukbiobank 4.4G Aug  5  2017 ukb_cal_chr8_v2.bed\n",
      "-rw-rw----+ 1 omerwe  ukbiobank 4.9G Aug  5  2017 ukb_cal_chr7_v2.bed\n",
      "-rw-rw----+ 1 omerwe  ukbiobank 6.2G Aug  5  2017 ukb_cal_chr6_v2.bed\n",
      "-rw-rw----+ 1 omerwe  ukbiobank 5.3G Aug  5  2017 ukb_cal_chr5_v2.bed\n",
      "-rw-rw----+ 1 omerwe  ukbiobank 5.4G Aug  5  2017 ukb_cal_chr4_v2.bed\n",
      "-rw-rw----+ 1 omerwe  ukbiobank 7.1G Aug  4  2017 ukb_cal_chr2_v2.bed\n",
      "-rw-rw----+ 1 omerwe  ukbiobank 7.3G Aug  4  2017 ukb_cal_chr1_v2.bed\n",
      "-rw-rw----+ 1 omerwe  ukbiobank  16M Aug  4  2017 ukb_cal_chr22_v2.fam\n",
      "-rw-rw----+ 1 omerwe  ukbiobank 367K Aug  4  2017 ukb_cal_chr22_v2.bim\n",
      "-rw-rw----+ 1 omerwe  ukbiobank  16M Aug  4  2017 ukb2878_cal_chr21_v2_s488366.fam\n",
      "-rw-rw----+ 1 omerwe  ukbiobank  16M Aug  4  2017 ukb2878_cal_chr20_v2_s488366.fam\n",
      "-rw-rw----+ 1 omerwe  ukbiobank  16M Aug  4  2017 ukb2878_cal_chr19_v2_s488366.fam\n",
      "-rw-rw----+ 1 omerwe  ukbiobank  16M Aug  4  2017 ukb2878_cal_chr18_v2_s488366.fam\n",
      "-rw-rw----+ 1 omerwe  ukbiobank  16M Aug  4  2017 ukb2878_cal_chr17_v2_s488366.fam\n",
      "-rw-rw----+ 1 omerwe  ukbiobank  16M Aug  4  2017 ukb2878_cal_chr16_v2_s488366.fam\n",
      "-rw-rw----+ 1 omerwe  ukbiobank  16M Aug  4  2017 ukb2878_cal_chr15_v2_s488366.fam\n",
      "-rw-rw----+ 1 omerwe  ukbiobank  16M Aug  4  2017 ukb2878_cal_chr14_v2_s488366.fam\n",
      "-rw-rw----+ 1 omerwe  ukbiobank  16M Aug  4  2017 ukb2878_cal_chr13_v2_s488366.fam\n",
      "-rw-rw----+ 1 omerwe  ukbiobank  16M Aug  4  2017 ukb2878_cal_chr12_v2_s488366.fam\n",
      "-rw-rw----+ 1 omerwe  ukbiobank  16M Aug  4  2017 ukb2878_cal_chr11_v2_s488366.fam\n",
      "-rw-rw----+ 1 omerwe  ukbiobank  16M Aug  4  2017 ukb2878_cal_chr10_v2_s488366.fam\n",
      "-rw-rw----+ 1 omerwe  ukbiobank  16M Aug  4  2017 ukb2878_cal_chr9_v2_s488366.fam\n",
      "-rw-rw----+ 1 omerwe  ukbiobank  16M Aug  4  2017 ukb2878_cal_chr8_v2_s488366.fam\n",
      "-rw-rw----+ 1 omerwe  ukbiobank  16M Aug  4  2017 ukb2878_cal_chr7_v2_s488366.fam\n",
      "-rw-rw----+ 1 omerwe  ukbiobank  16M Aug  4  2017 ukb2878_cal_chr6_v2_s488366.fam\n",
      "-rw-rw----+ 1 omerwe  ukbiobank  16M Aug  4  2017 ukb2878_cal_chr5_v2_s488366.fam\n",
      "-rw-rw----+ 1 omerwe  ukbiobank  16M Aug  4  2017 ukb2878_cal_chr4_v2_s488366.fam\n",
      "-rw-rw----+ 1 omerwe  ukbiobank  16M Aug  4  2017 ukb2878_cal_chr3_v2_s488366.fam\n",
      "-rw-rw----+ 1 omerwe  ukbiobank  16M Aug  4  2017 ukb2878_cal_chr2_v2_s488366.fam\n",
      "-rw-rw----+ 1 omerwe  ukbiobank  16M Aug  4  2017 ukb2878_cal_chr1_v2_s488366.fam\n",
      "-rw-rw----+ 1 omerwe  ukbiobank  16M Aug  4  2017 ukb2878_cal_chr22_v2_s488366.fam\n",
      "-rw-rw----+ 1 omerwe  ukbiobank 3.7M Aug  4  2017 ukb2878_rel_s488366.dat\n",
      "-rw-rw----+ 1 omerwe  ukbiobank 1.5G Aug  4  2017 ukb_cal_chr22_v2.bed\n",
      "-rw-rw----+ 1 omerwe  ukbiobank  13M Jul 17  2017 ukb_hap_bgi.tgz\n",
      "-rw-rw----+ 1 omerwe  ukbiobank 1.8G Jul 17  2017 ukb_imp_bgi.tgz\n",
      "-rwxrwx---. 1 omerwe  ukbiobank 327K Jul 13  2017 \u001b[01;32mukbgene\u001b[0m*\n",
      "-rwxrwx---. 1 omerwe  ukbiobank 331K Jul  5  2017 \u001b[01;32mukbfetch\u001b[0m*\n",
      "-rw-rw----+ 1 omerwe  ukbiobank  11G Jun 26  2017 ukb_snp_posterior.tar\n",
      "-rw-rw----+ 1 omerwe  ukbiobank  23M Jun 26  2017 ukb_snp_bim.tar\n",
      "-rw-rw----+ 1 omerwe  ukbiobank 1.4K Jun 26  2017 ukb_snp.md5\n",
      "-rw-rw----+ 1 omerwe  ukbiobank 355M Apr 19  2017 ukb_snp_qc.txt\n",
      "-rw-rw----+ 1 omerwe  ukbiobank 1.2K Apr 19  2017 ukb_snp_posterior.batch\n",
      "-rw-rw----+ 1 omerwe  ukbiobank 1.6G Apr 18  2017 ukb_imp_mfi.tgz\n",
      "-rw-rw----+ 1 omerwe  ukbiobank 7.4K Apr 18  2017 ukb_snp_chrMT_v2.bim\n",
      "-rw-rw----+ 1 omerwe  ukbiobank 542K Apr 18  2017 ukb_snp_chrX_v2.bim\n",
      "-rw-rw----+ 1 omerwe  ukbiobank  37K Apr 18  2017 ukb_snp_chrXY_v2.bim\n",
      "-rw-rw----+ 1 omerwe  ukbiobank  21K Apr 18  2017 ukb_snp_chrY_v2.bim\n",
      "-rwxrwx---. 1 omerwe  ukbiobank 368K Jun 22  2016 \u001b[01;32mukb_conv\u001b[0m*\n",
      "-rwxrwx---. 1 omerwe  ukbiobank 340K Dec  9  2013 \u001b[01;32mukb_unpack\u001b[0m*\n",
      "-rwxrwx---. 1 omerwe  ukbiobank 224K Dec  9  2013 \u001b[01;32mukb_md5\u001b[0m*\n"
     ]
    }
   ],
   "source": [
    "ls -lht /net/mraid08/export/jafar/UKBioBank/Data/"
   ]
  },
  {
   "cell_type": "code",
   "execution_count": 7,
   "metadata": {
    "ExecuteTime": {
     "end_time": "2021-12-31T09:25:50.055475Z",
     "start_time": "2021-12-31T09:25:46.248441Z"
    }
   },
   "outputs": [],
   "source": [
    "data_cols=pd.read_csv(data_path,nrows=0).columns"
   ]
  },
  {
   "cell_type": "code",
   "execution_count": 11,
   "metadata": {
    "ExecuteTime": {
     "end_time": "2021-12-31T09:26:49.422378Z",
     "start_time": "2021-12-31T09:26:49.413385Z"
    }
   },
   "outputs": [],
   "source": [
    "date_cols=[x for x in data_cols if x.startswith(\"53-\")]"
   ]
  },
  {
   "cell_type": "code",
   "execution_count": 38,
   "metadata": {
    "ExecuteTime": {
     "end_time": "2022-01-02T12:08:08.639082Z",
     "start_time": "2022-01-02T12:08:08.627635Z"
    }
   },
   "outputs": [],
   "source": [
    "socio_cols=[x for x in data_cols if x.startswith(\"189-\")]"
   ]
  },
  {
   "cell_type": "code",
   "execution_count": 39,
   "metadata": {
    "ExecuteTime": {
     "end_time": "2022-01-02T12:08:14.134569Z",
     "start_time": "2022-01-02T12:08:14.126984Z"
    }
   },
   "outputs": [
    {
     "data": {
      "text/plain": [
       "['189-0.0']"
      ]
     },
     "execution_count": 39,
     "metadata": {},
     "output_type": "execute_result"
    }
   ],
   "source": [
    "socio_cols"
   ]
  },
  {
   "cell_type": "code",
   "execution_count": 13,
   "metadata": {
    "ExecuteTime": {
     "end_time": "2021-12-31T09:27:21.324629Z",
     "start_time": "2021-12-31T09:27:21.315138Z"
    }
   },
   "outputs": [],
   "source": [
    "diab_date_cols=[x for x in data_cols if x.startswith(\"2976-\")]"
   ]
  },
  {
   "cell_type": "code",
   "execution_count": 14,
   "metadata": {
    "ExecuteTime": {
     "end_time": "2021-12-31T09:27:36.615964Z",
     "start_time": "2021-12-31T09:27:36.605097Z"
    }
   },
   "outputs": [],
   "source": [
    "diab_stat_cols=[x for x in data_cols if x.startswith(\"2443-\")]"
   ]
  },
  {
   "cell_type": "code",
   "execution_count": 40,
   "metadata": {
    "ExecuteTime": {
     "end_time": "2022-01-02T12:08:26.591446Z",
     "start_time": "2022-01-02T12:08:26.585312Z"
    }
   },
   "outputs": [],
   "source": [
    "tot_cols=socio_cols+date_cols+diab_date_cols+diab_stat_cols+[\"eid\"]"
   ]
  },
  {
   "cell_type": "code",
   "execution_count": 41,
   "metadata": {
    "ExecuteTime": {
     "end_time": "2022-01-02T12:08:27.166823Z",
     "start_time": "2022-01-02T12:08:27.161289Z"
    }
   },
   "outputs": [
    {
     "data": {
      "text/plain": [
       "['189-0.0',\n",
       " '53-0.0',\n",
       " '53-1.0',\n",
       " '53-2.0',\n",
       " '2976-0.0',\n",
       " '2976-1.0',\n",
       " '2976-2.0',\n",
       " '2443-0.0',\n",
       " '2443-1.0',\n",
       " '2443-2.0',\n",
       " 'eid']"
      ]
     },
     "execution_count": 41,
     "metadata": {},
     "output_type": "execute_result"
    }
   ],
   "source": [
    "tot_cols"
   ]
  },
  {
   "cell_type": "code",
   "execution_count": 53,
   "metadata": {
    "ExecuteTime": {
     "end_time": "2022-01-02T12:17:12.024636Z",
     "start_time": "2022-01-02T12:15:21.218503Z"
    }
   },
   "outputs": [
    {
     "name": "stderr",
     "output_type": "stream",
     "text": [
      "/usr/wisdom/python-3.7.4/lib/python3.7/site-packages/IPython/core/interactiveshell.py:3170: DtypeWarning: Columns (30,31) have mixed types.Specify dtype option on import or set low_memory=False.\n",
      "  interactivity=interactivity, compiler=compiler, result=result)\n"
     ]
    }
   ],
   "source": [
    "df=pd.read_csv(data_path,usecols=tot_cols,index_col=\"eid\")"
   ]
  },
  {
   "cell_type": "code",
   "execution_count": 60,
   "metadata": {
    "ExecuteTime": {
     "end_time": "2022-01-02T12:18:46.311092Z",
     "start_time": "2022-01-02T12:18:44.185966Z"
    }
   },
   "outputs": [],
   "source": [
    "test_data=pd.read_csv(test_path,usecols=[\"eid\",\"2443-3.0\"],index_col=\"eid\")\n",
    "train_val_data=pd.read_csv(train_val_path,usecols=[\"eid\",\"2443-3.0\"],index_col=\"eid\")"
   ]
  },
  {
   "cell_type": "code",
   "execution_count": 61,
   "metadata": {
    "ExecuteTime": {
     "end_time": "2022-01-02T12:19:16.199859Z",
     "start_time": "2022-01-02T12:19:16.190432Z"
    }
   },
   "outputs": [
    {
     "data": {
      "text/plain": [
       "(44709, 1)"
      ]
     },
     "execution_count": 61,
     "metadata": {},
     "output_type": "execute_result"
    }
   ],
   "source": [
    "tot_data=pd.concat([test_data,train_val_data])\n",
    "tot_data.shape"
   ]
  },
  {
   "cell_type": "code",
   "execution_count": 43,
   "metadata": {
    "ExecuteTime": {
     "end_time": "2022-01-02T12:11:09.765011Z",
     "start_time": "2022-01-02T12:11:09.211627Z"
    }
   },
   "outputs": [],
   "source": [
    "df.loc[:,['53-0.0','53-1.0','53-2.0','2976-0.0','2976-1.0','2976-2.0',]]=df.loc[\n",
    "    :,['53-0.0','53-1.0','53-2.0','2976-0.0','2976-1.0','2976-2.0',]].apply(pd.to_datetime,errors='coerce')"
   ]
  },
  {
   "cell_type": "code",
   "execution_count": 62,
   "metadata": {
    "ExecuteTime": {
     "end_time": "2022-01-02T12:19:26.099710Z",
     "start_time": "2022-01-02T12:19:26.070323Z"
    },
    "collapsed": true
   },
   "outputs": [
    {
     "data": {
      "text/html": [
       "<div>\n",
       "<style scoped>\n",
       "    .dataframe tbody tr th:only-of-type {\n",
       "        vertical-align: middle;\n",
       "    }\n",
       "\n",
       "    .dataframe tbody tr th {\n",
       "        vertical-align: top;\n",
       "    }\n",
       "\n",
       "    .dataframe thead th {\n",
       "        text-align: right;\n",
       "    }\n",
       "</style>\n",
       "<table border=\"1\" class=\"dataframe\">\n",
       "  <thead>\n",
       "    <tr style=\"text-align: right;\">\n",
       "      <th></th>\n",
       "      <th>53-0.0</th>\n",
       "      <th>53-1.0</th>\n",
       "      <th>53-2.0</th>\n",
       "      <th>189-0.0</th>\n",
       "      <th>2443-0.0</th>\n",
       "      <th>2443-1.0</th>\n",
       "      <th>2443-2.0</th>\n",
       "      <th>2976-0.0</th>\n",
       "      <th>2976-1.0</th>\n",
       "      <th>2976-2.0</th>\n",
       "    </tr>\n",
       "    <tr>\n",
       "      <th>eid</th>\n",
       "      <th></th>\n",
       "      <th></th>\n",
       "      <th></th>\n",
       "      <th></th>\n",
       "      <th></th>\n",
       "      <th></th>\n",
       "      <th></th>\n",
       "      <th></th>\n",
       "      <th></th>\n",
       "      <th></th>\n",
       "    </tr>\n",
       "  </thead>\n",
       "  <tbody>\n",
       "    <tr>\n",
       "      <th>4704502</th>\n",
       "      <td>2009-02-25</td>\n",
       "      <td>NaN</td>\n",
       "      <td>NaN</td>\n",
       "      <td>0.539501</td>\n",
       "      <td>0.0</td>\n",
       "      <td>NaN</td>\n",
       "      <td>NaN</td>\n",
       "      <td>NaN</td>\n",
       "      <td>NaN</td>\n",
       "      <td>NaN</td>\n",
       "    </tr>\n",
       "    <tr>\n",
       "      <th>4020781</th>\n",
       "      <td>2010-01-15</td>\n",
       "      <td>NaN</td>\n",
       "      <td>NaN</td>\n",
       "      <td>0.312445</td>\n",
       "      <td>0.0</td>\n",
       "      <td>NaN</td>\n",
       "      <td>NaN</td>\n",
       "      <td>NaN</td>\n",
       "      <td>NaN</td>\n",
       "      <td>NaN</td>\n",
       "    </tr>\n",
       "    <tr>\n",
       "      <th>5473158</th>\n",
       "      <td>2010-04-28</td>\n",
       "      <td>NaN</td>\n",
       "      <td>NaN</td>\n",
       "      <td>-3.045280</td>\n",
       "      <td>0.0</td>\n",
       "      <td>NaN</td>\n",
       "      <td>NaN</td>\n",
       "      <td>NaN</td>\n",
       "      <td>NaN</td>\n",
       "      <td>NaN</td>\n",
       "    </tr>\n",
       "    <tr>\n",
       "      <th>3379784</th>\n",
       "      <td>2008-04-25</td>\n",
       "      <td>NaN</td>\n",
       "      <td>NaN</td>\n",
       "      <td>-5.003570</td>\n",
       "      <td>0.0</td>\n",
       "      <td>NaN</td>\n",
       "      <td>NaN</td>\n",
       "      <td>NaN</td>\n",
       "      <td>NaN</td>\n",
       "      <td>NaN</td>\n",
       "    </tr>\n",
       "    <tr>\n",
       "      <th>2014430</th>\n",
       "      <td>2010-02-19</td>\n",
       "      <td>2013-03-02</td>\n",
       "      <td>2016-04-11</td>\n",
       "      <td>-3.496450</td>\n",
       "      <td>0.0</td>\n",
       "      <td>0.0</td>\n",
       "      <td>0.0</td>\n",
       "      <td>NaN</td>\n",
       "      <td>NaN</td>\n",
       "      <td>NaN</td>\n",
       "    </tr>\n",
       "  </tbody>\n",
       "</table>\n",
       "</div>"
      ],
      "text/plain": [
       "             53-0.0      53-1.0      53-2.0   189-0.0  2443-0.0  2443-1.0  \\\n",
       "eid                                                                         \n",
       "4704502  2009-02-25         NaN         NaN  0.539501       0.0       NaN   \n",
       "4020781  2010-01-15         NaN         NaN  0.312445       0.0       NaN   \n",
       "5473158  2010-04-28         NaN         NaN -3.045280       0.0       NaN   \n",
       "3379784  2008-04-25         NaN         NaN -5.003570       0.0       NaN   \n",
       "2014430  2010-02-19  2013-03-02  2016-04-11 -3.496450       0.0       0.0   \n",
       "\n",
       "         2443-2.0  2976-0.0  2976-1.0  2976-2.0  \n",
       "eid                                              \n",
       "4704502       NaN       NaN       NaN       NaN  \n",
       "4020781       NaN       NaN       NaN       NaN  \n",
       "5473158       NaN       NaN       NaN       NaN  \n",
       "3379784       NaN       NaN       NaN       NaN  \n",
       "2014430       0.0       NaN       NaN       NaN  "
      ]
     },
     "execution_count": 62,
     "metadata": {},
     "output_type": "execute_result"
    }
   ],
   "source": [
    "df.head()"
   ]
  },
  {
   "cell_type": "code",
   "execution_count": 73,
   "metadata": {
    "ExecuteTime": {
     "end_time": "2022-01-02T12:56:50.296487Z",
     "start_time": "2022-01-02T12:56:50.260892Z"
    }
   },
   "outputs": [],
   "source": [
    "189-0.0tot_data=tot_data.join(df)"
   ]
  },
  {
   "cell_type": "code",
   "execution_count": null,
   "metadata": {},
   "outputs": [],
   "source": []
  },
  {
   "cell_type": "code",
   "execution_count": 74,
   "metadata": {
    "ExecuteTime": {
     "end_time": "2022-01-02T12:57:03.166408Z",
     "start_time": "2022-01-02T12:57:03.137016Z"
    }
   },
   "outputs": [
    {
     "data": {
      "text/plain": [
       "2443-3.0    44709\n",
       "53-0.0      44709\n",
       "53-1.0      18401\n",
       "53-2.0      33086\n",
       "189-0.0     44672\n",
       "2443-0.0    44709\n",
       "2443-1.0    18401\n",
       "2443-2.0    33064\n",
       "2976-0.0        0\n",
       "2976-1.0      182\n",
       "2976-2.0      657\n",
       "dtype: int64"
      ]
     },
     "execution_count": 74,
     "metadata": {},
     "output_type": "execute_result"
    }
   ],
   "source": [
    "tot_data.notna().sum()"
   ]
  },
  {
   "cell_type": "code",
   "execution_count": null,
   "metadata": {},
   "outputs": [],
   "source": [
    "#189-0.0, Townsend deprivation index at recruitment, 738-0.0 Average total household income before tax (Pilot)"
   ]
  },
  {
   "cell_type": "markdown",
   "metadata": {},
   "source": [
    "# Socio columns:"
   ]
  },
  {
   "cell_type": "code",
   "execution_count": 65,
   "metadata": {
    "ExecuteTime": {
     "end_time": "2022-01-02T12:52:56.968757Z",
     "start_time": "2022-01-02T12:52:56.964932Z"
    }
   },
   "outputs": [],
   "source": [
    "from scipy.stats import mannwhitneyu as mwu"
   ]
  },
  {
   "cell_type": "code",
   "execution_count": 69,
   "metadata": {
    "ExecuteTime": {
     "end_time": "2022-01-02T12:55:59.119500Z",
     "start_time": "2022-01-02T12:55:59.106279Z"
    }
   },
   "outputs": [
    {
     "data": {
      "text/plain": [
       "eid\n",
       "1717325    0.0\n",
       "5606913    0.0\n",
       "3718362    0.0\n",
       "4850869    0.0\n",
       "4718570    0.0\n",
       "          ... \n",
       "6025645    0.0\n",
       "6025726    0.0\n",
       "6026090    0.0\n",
       "6026170    0.0\n",
       "6026182    0.0\n",
       "Name: 2443-3.0, Length: 44709, dtype: float64"
      ]
     },
     "execution_count": 69,
     "metadata": {},
     "output_type": "execute_result"
    }
   ],
   "source": [
    "tot_data[\"2443-3.0\"]"
   ]
  },
  {
   "cell_type": "code",
   "execution_count": 72,
   "metadata": {
    "ExecuteTime": {
     "end_time": "2022-01-02T12:56:40.469701Z",
     "start_time": "2022-01-02T12:56:40.460427Z"
    }
   },
   "outputs": [
    {
     "data": {
      "text/plain": [
       "Index(['2443-3.0'], dtype='object')"
      ]
     },
     "execution_count": 72,
     "metadata": {},
     "output_type": "execute_result"
    }
   ],
   "source": [
    "tot_data.columns"
   ]
  },
  {
   "cell_type": "code",
   "execution_count": 111,
   "metadata": {
    "ExecuteTime": {
     "end_time": "2022-01-02T13:18:26.989835Z",
     "start_time": "2022-01-02T13:18:26.982144Z"
    }
   },
   "outputs": [],
   "source": [
    "r,p=mwu(x=tot_data[\"189-0.0\"].dropna().iloc[:1000],y=tot_data[\"2443-3.0\"].dropna().iloc[:1000])"
   ]
  },
  {
   "cell_type": "code",
   "execution_count": 112,
   "metadata": {
    "ExecuteTime": {
     "end_time": "2022-01-02T13:18:27.657034Z",
     "start_time": "2022-01-02T13:18:27.648727Z"
    }
   },
   "outputs": [
    {
     "data": {
      "text/plain": [
       "2.7685746354698984e-137"
      ]
     },
     "execution_count": 112,
     "metadata": {},
     "output_type": "execute_result"
    }
   ],
   "source": [
    "p"
   ]
  },
  {
   "cell_type": "code",
   "execution_count": 77,
   "metadata": {
    "ExecuteTime": {
     "end_time": "2022-01-02T12:58:06.607415Z",
     "start_time": "2022-01-02T12:58:06.586696Z"
    }
   },
   "outputs": [],
   "source": [
    "tot_data_sick=tot_data.loc[tot_data[\"2443-3.0\"]==1,\"189-0.0\"]"
   ]
  },
  {
   "cell_type": "code",
   "execution_count": 78,
   "metadata": {
    "ExecuteTime": {
     "end_time": "2022-01-02T12:58:24.512984Z",
     "start_time": "2022-01-02T12:58:24.507348Z"
    }
   },
   "outputs": [],
   "source": [
    "tot_data_healthy=tot_data.loc[tot_data[\"2443-3.0\"]==0,\"189-0.0\"]"
   ]
  },
  {
   "cell_type": "code",
   "execution_count": null,
   "metadata": {},
   "outputs": [],
   "source": [
    "fig,ax=plt.subplot(1,1,figsize=(12,12))"
   ]
  },
  {
   "cell_type": "code",
   "execution_count": 82,
   "metadata": {
    "ExecuteTime": {
     "end_time": "2022-01-02T12:59:57.850630Z",
     "start_time": "2022-01-02T12:59:57.834433Z"
    }
   },
   "outputs": [
    {
     "data": {
      "text/plain": [
       "count    43867.000000\n",
       "mean        -2.013324\n",
       "std          2.659843\n",
       "min         -6.258260\n",
       "25%         -3.945320\n",
       "50%         -2.705290\n",
       "75%         -0.711557\n",
       "max         10.587900\n",
       "Name: 189-0.0, dtype: float64"
      ]
     },
     "execution_count": 82,
     "metadata": {},
     "output_type": "execute_result"
    }
   ],
   "source": [
    "tot_data_healthy.describe()"
   ]
  },
  {
   "cell_type": "code",
   "execution_count": 86,
   "metadata": {
    "ExecuteTime": {
     "end_time": "2022-01-02T13:00:40.744967Z",
     "start_time": "2022-01-02T13:00:40.739102Z"
    }
   },
   "outputs": [],
   "source": [
    "bins = np.linspace(-10, 10, 100)"
   ]
  },
  {
   "cell_type": "code",
   "execution_count": 114,
   "metadata": {
    "ExecuteTime": {
     "end_time": "2022-01-09T06:55:03.479808Z",
     "start_time": "2022-01-09T06:55:02.256152Z"
    }
   },
   "outputs": [
    {
     "data": {
      "image/png": "[encoded data removed]",
      "text/plain": [
       "<Figure size 900x600 with 1 Axes>"
      ]
     },
     "metadata": {},
     "output_type": "display_data"
    }
   ],
   "source": [
    "plt.style.use('default')\n",
    "fig,ax=plt.subplots(1,1,figsize=(9,6))\n",
    "ax.hist(tot_data_sick,bins,alpha=0.5,label=\"sick\",density=True)\n",
    "ax.hist(tot_data_healthy,bins,alpha=0.5,label=\"healthy\",density=True)\n",
    "ax.set_ylabel(\"Pupulation density\")\n",
    "ax.set_xlabel(\"Deprivation index\")\n",
    "ax.vlines(ymin=0,ymax=0.26,x=tot_data_sick.median(),color=\"blue\",linestyles='dashed')\n",
    "ax.vlines(ymin=0,ymax=0.26,x=tot_data_healthy.median(),color=\"orange\",linestyles='dashed')\n",
    "ax.set_title(\"Deprivation index histograms for T2D healthy and sick populations\")\n",
    "plt.legend(loc='upper right')\n",
    "plt.savefig(\"/net/mraid08/export/jafar/Yochai/UKBB_Runs/For_article/Revision_runs/final_figures/S2A_Deprivation_index_compare.png\")\n",
    "plt.show()"
   ]
  },
  {
   "cell_type": "code",
   "execution_count": null,
   "metadata": {},
   "outputs": [],
   "source": []
  },
  {
   "cell_type": "code",
   "execution_count": 88,
   "metadata": {
    "ExecuteTime": {
     "end_time": "2022-01-02T13:01:44.521991Z",
     "start_time": "2022-01-02T13:01:44.326054Z"
    }
   },
   "outputs": [
    {
     "name": "stderr",
     "output_type": "stream",
     "text": [
      "No handles with labels found to put in legend.\n"
     ]
    },
    {
     "data": {
      "image/png": "[encoded data removed]",
      "text/plain": [
       "<Figure size 432x288 with 1 Axes>"
      ]
     },
     "metadata": {
      "needs_background": "light"
     },
     "output_type": "display_data"
    }
   ],
   "source": []
  },
  {
   "cell_type": "code",
   "execution_count": null,
   "metadata": {},
   "outputs": [],
   "source": []
  }
 ],
 "metadata": {
  "kernelspec": {
   "display_name": "Python 3",
   "language": "python",
   "name": "python3"
  },
  "language_info": {
   "codemirror_mode": {
    "name": "ipython",
    "version": 3
   },
   "file_extension": ".py",
   "mimetype": "text/x-python",
   "name": "python",
   "nbconvert_exporter": "python",
   "pygments_lexer": "ipython3",
   "version": "3.7.4"
  },
  "toc": {
   "base_numbering": 1,
   "nav_menu": {},
   "number_sections": true,
   "sideBar": true,
   "skip_h1_title": false,
   "title_cell": "Table of Contents",
   "title_sidebar": "Contents",
   "toc_cell": false,
   "toc_position": {},
   "toc_section_display": true,
   "toc_window_display": false
  },
  "varInspector": {
   "cols": {
    "lenName": 16,
    "lenType": 16,
    "lenVar": 40
   },
   "kernels_config": {
    "python": {
     "delete_cmd_postfix": "",
     "delete_cmd_prefix": "del ",
     "library": "var_list.py",
     "varRefreshCmd": "print(var_dic_list())"
    },
    "r": {
     "delete_cmd_postfix": ") ",
     "delete_cmd_prefix": "rm(",
     "library": "var_list.r",
     "varRefreshCmd": "cat(var_dic_list()) "
    }
   },
   "oldHeight": 122.84966600000001,
   "position": {
    "height": "40px",
    "left": "1202px",
    "right": "20px",
    "top": "120px",
    "width": "250px"
   },
   "types_to_exclude": [
    "module",
    "function",
    "builtin_function_or_method",
    "instance",
    "_Feature"
   ],
   "varInspector_section_display": "none",
   "window_display": true
  }
 },
 "nbformat": 4,
 "nbformat_minor": 4
}
