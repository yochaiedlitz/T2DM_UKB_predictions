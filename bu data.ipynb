{
 "cells": [
  {
   "cell_type": "code",
   "execution_count": 1,
   "metadata": {
    "ExecuteTime": {
     "end_time": "2021-12-20T16:43:06.681999Z",
     "start_time": "2021-12-20T16:43:06.318820Z"
    }
   },
   "outputs": [],
   "source": [
    "import pandas as pd\n",
    "import os"
   ]
  },
  {
   "cell_type": "code",
   "execution_count": 2,
   "metadata": {
    "ExecuteTime": {
     "end_time": "2021-12-20T16:43:06.901996Z",
     "start_time": "2021-12-20T16:43:06.898878Z"
    }
   },
   "outputs": [],
   "source": [
    "base_path=\"/net/mraid08/export/jafar/UKBioBank/Data/\""
   ]
  },
  {
   "cell_type": "code",
   "execution_count": 3,
   "metadata": {
    "ExecuteTime": {
     "end_time": "2021-12-20T16:43:09.060392Z",
     "start_time": "2021-12-20T16:43:09.054991Z"
    }
   },
   "outputs": [],
   "source": [
    "val_path=\"ukb29741_a1c_below_65_updates_scoreboard_val.csv\"\n",
    "train_path=\"ukb29741_a1c_below_65_updates_scoreboard_train.csv\"\n",
    "test_path=\"ukb29741_a1c_below_65_updates_scoreboard_test.csv\"\n",
    "train_val_path=\"ukb29741_a1c_below_65_updates_scoreboard_train_val.csv\""
   ]
  },
  {
   "cell_type": "code",
   "execution_count": 9,
   "metadata": {
    "ExecuteTime": {
     "end_time": "2021-12-20T17:34:33.025048Z",
     "start_time": "2021-12-20T17:34:22.881135Z"
    }
   },
   "outputs": [
    {
     "data": {
      "text/plain": [
       "(35749, 1340)"
      ]
     },
     "execution_count": 9,
     "metadata": {},
     "output_type": "execute_result"
    }
   ],
   "source": [
    "train_val_df=pd.read_csv(os.path.join(base_path,train_val_path),index_col=\"eid\")\n",
    "train_val_df.shape"
   ]
  },
  {
   "cell_type": "code",
   "execution_count": 33,
   "metadata": {
    "ExecuteTime": {
     "end_time": "2021-12-16T10:45:14.273302Z",
     "start_time": "2021-12-16T10:44:44.736887Z"
    }
   },
   "outputs": [],
   "source": [
    "# train_val_df.to_csv(os.path.join(base_path,\"bu_\"+train_val_path),index=\"eid\")"
   ]
  },
  {
   "cell_type": "code",
   "execution_count": 25,
   "metadata": {
    "ExecuteTime": {
     "end_time": "2021-12-21T17:32:07.552654Z",
     "start_time": "2021-12-21T17:31:59.728846Z"
    }
   },
   "outputs": [
    {
     "data": {
      "text/plain": [
       "(25025, 1438)"
      ]
     },
     "execution_count": 25,
     "metadata": {},
     "output_type": "execute_result"
    }
   ],
   "source": [
    "# train_df=pd.read_csv(os.path.join(base_path,\"bu_\"+train_path),index_col=\"eid\")\n",
    "train_df=pd.read_csv(os.path.join(base_path,train_path),index_col=\"eid\")\n",
    "train_df.shape"
   ]
  },
  {
   "cell_type": "code",
   "execution_count": 15,
   "metadata": {
    "ExecuteTime": {
     "end_time": "2021-12-20T17:36:47.292464Z",
     "start_time": "2021-12-20T17:36:25.398195Z"
    }
   },
   "outputs": [],
   "source": [
    "# train_df.to_csv(os.path.join(base_path,\"bu_\"+train_path),index=\"eid\")\n",
    "train_df.to_csv(os.path.join(base_path,train_path),index=\"eid\")"
   ]
  },
  {
   "cell_type": "code",
   "execution_count": 18,
   "metadata": {
    "ExecuteTime": {
     "end_time": "2021-12-20T17:39:45.320420Z",
     "start_time": "2021-12-20T17:39:42.217113Z"
    }
   },
   "outputs": [
    {
     "data": {
      "text/plain": [
       "(10724, 1354)"
      ]
     },
     "execution_count": 18,
     "metadata": {},
     "output_type": "execute_result"
    }
   ],
   "source": [
    "# val_df=pd.read_csv(os.path.join(base_path,val_path),index_col=\"eid\")\n",
    "val_df=pd.read_csv(os.path.join(base_path,\"bu_\"+val_path),index_col=\"eid\")\n",
    "val_df.shape"
   ]
  },
  {
   "cell_type": "code",
   "execution_count": 19,
   "metadata": {
    "ExecuteTime": {
     "end_time": "2021-12-20T17:40:07.440806Z",
     "start_time": "2021-12-20T17:39:58.580519Z"
    }
   },
   "outputs": [],
   "source": [
    "val_df.to_csv(os.path.join(base_path,val_path),index=\"eid\")"
   ]
  },
  {
   "cell_type": "code",
   "execution_count": 32,
   "metadata": {
    "ExecuteTime": {
     "end_time": "2021-12-16T10:42:46.997097Z",
     "start_time": "2021-12-16T10:42:46.964115Z"
    }
   },
   "outputs": [],
   "source": [
    "train_df_index=[x for x in train_val_df.index if x not in val_df.index]"
   ]
  },
  {
   "cell_type": "code",
   "execution_count": 22,
   "metadata": {
    "ExecuteTime": {
     "end_time": "2021-12-16T10:30:25.300619Z",
     "start_time": "2021-12-16T10:30:25.295245Z"
    }
   },
   "outputs": [
    {
     "data": {
      "text/plain": [
       "25025"
      ]
     },
     "execution_count": 22,
     "metadata": {},
     "output_type": "execute_result"
    }
   ],
   "source": [
    "len(train_df_index)"
   ]
  },
  {
   "cell_type": "code",
   "execution_count": 23,
   "metadata": {
    "ExecuteTime": {
     "end_time": "2021-12-16T10:31:10.807838Z",
     "start_time": "2021-12-16T10:31:10.784969Z"
    }
   },
   "outputs": [],
   "source": [
    "tmp_mut=[x for x in train_df_index if x in train_df.index]"
   ]
  },
  {
   "cell_type": "code",
   "execution_count": 26,
   "metadata": {
    "ExecuteTime": {
     "end_time": "2021-12-16T10:31:48.781756Z",
     "start_time": "2021-12-16T10:31:48.628434Z"
    }
   },
   "outputs": [],
   "source": [
    "train_df=train_val_df.loc[train_df_index,:]"
   ]
  },
  {
   "cell_type": "code",
   "execution_count": 27,
   "metadata": {
    "ExecuteTime": {
     "end_time": "2021-12-16T10:31:54.853568Z",
     "start_time": "2021-12-16T10:31:54.845031Z"
    }
   },
   "outputs": [
    {
     "data": {
      "text/plain": [
       "(25025, 1340)"
      ]
     },
     "execution_count": 27,
     "metadata": {},
     "output_type": "execute_result"
    }
   ],
   "source": [
    "train_df.shape"
   ]
  },
  {
   "cell_type": "code",
   "execution_count": 29,
   "metadata": {
    "ExecuteTime": {
     "end_time": "2021-12-16T10:32:59.270086Z",
     "start_time": "2021-12-16T10:32:37.844084Z"
    }
   },
   "outputs": [],
   "source": [
    "train_df.to_csv(os.path.join(base_path,train_path),index=\"eid\")"
   ]
  },
  {
   "cell_type": "code",
   "execution_count": 20,
   "metadata": {
    "ExecuteTime": {
     "end_time": "2021-12-20T17:40:46.951182Z",
     "start_time": "2021-12-20T17:40:44.325880Z"
    }
   },
   "outputs": [
    {
     "data": {
      "text/plain": [
       "(8960, 1340)"
      ]
     },
     "execution_count": 20,
     "metadata": {},
     "output_type": "execute_result"
    }
   ],
   "source": [
    "# test_df=pd.read_csv(os.path.join(base_path,test_path),index_col=\"eid\")\n",
    "test_df=pd.read_csv(os.path.join(base_path,\"bu_\"+test_path),index_col=\"eid\")\n",
    "test_df.shape\n",
    "# test_df.to_csv(os.path.join(base_path,\"bu_\"+test_path),index=\"eid\")"
   ]
  },
  {
   "cell_type": "code",
   "execution_count": 21,
   "metadata": {
    "ExecuteTime": {
     "end_time": "2021-12-20T17:41:12.898388Z",
     "start_time": "2021-12-20T17:41:05.358368Z"
    }
   },
   "outputs": [],
   "source": [
    "test_df.to_csv(os.path.join(base_path,test_path),index=\"eid\")"
   ]
  },
  {
   "cell_type": "code",
   "execution_count": 22,
   "metadata": {
    "ExecuteTime": {
     "end_time": "2021-12-20T17:42:08.544336Z",
     "start_time": "2021-12-20T17:41:58.383114Z"
    }
   },
   "outputs": [
    {
     "data": {
      "text/plain": [
       "(8960, 1340)"
      ]
     },
     "execution_count": 22,
     "metadata": {},
     "output_type": "execute_result"
    }
   ],
   "source": [
    "train_val_path=\"ukb29741_a1c_below_65_updates_scoreboard_train_val.csv\"\n",
    "train_val_df=pd.read_csv(os.path.join(base_path,\"bu_\"+train_val_path),index_col=\"eid\")\n",
    "test_df.shape\n"
   ]
  },
  {
   "cell_type": "code",
   "execution_count": 23,
   "metadata": {
    "ExecuteTime": {
     "end_time": "2021-12-20T17:42:52.702867Z",
     "start_time": "2021-12-20T17:42:23.593974Z"
    }
   },
   "outputs": [],
   "source": [
    "train_val_df.to_csv(os.path.join(base_path,train_val_path),index=\"eid\")"
   ]
  },
  {
   "cell_type": "code",
   "execution_count": 22,
   "metadata": {
    "ExecuteTime": {
     "end_time": "2021-12-19T13:16:04.791313Z",
     "start_time": "2021-12-19T13:16:04.782020Z"
    }
   },
   "outputs": [
    {
     "data": {
      "text/plain": [
       "-2285"
      ]
     },
     "execution_count": 22,
     "metadata": {},
     "output_type": "execute_result"
    }
   ],
   "source": [
    "25025+10724+8960-46994"
   ]
  },
  {
   "cell_type": "code",
   "execution_count": null,
   "metadata": {},
   "outputs": [],
   "source": []
  }
 ],
 "metadata": {
  "kernelspec": {
   "display_name": "PyCharm (UKBB)",
   "language": "python",
   "name": "pycharm-b2bc5ad3"
  },
  "language_info": {
   "codemirror_mode": {
    "name": "ipython",
    "version": 3
   },
   "file_extension": ".py",
   "mimetype": "text/x-python",
   "name": "python",
   "nbconvert_exporter": "python",
   "pygments_lexer": "ipython3",
   "version": "3.7.4"
  },
  "toc": {
   "base_numbering": 1,
   "nav_menu": {},
   "number_sections": true,
   "sideBar": true,
   "skip_h1_title": false,
   "title_cell": "Table of Contents",
   "title_sidebar": "Contents",
   "toc_cell": false,
   "toc_position": {},
   "toc_section_display": true,
   "toc_window_display": false
  },
  "varInspector": {
   "cols": {
    "lenName": 16,
    "lenType": 16,
    "lenVar": 40
   },
   "kernels_config": {
    "python": {
     "delete_cmd_postfix": "",
     "delete_cmd_prefix": "del ",
     "library": "var_list.py",
     "varRefreshCmd": "print(var_dic_list())"
    },
    "r": {
     "delete_cmd_postfix": ") ",
     "delete_cmd_prefix": "rm(",
     "library": "var_list.r",
     "varRefreshCmd": "cat(var_dic_list()) "
    }
   },
   "oldHeight": 236.31666600000003,
   "position": {
    "height": "40px",
    "left": "1080.53px",
    "right": "20px",
    "top": "11px",
    "width": "358.467px"
   },
   "types_to_exclude": [
    "module",
    "function",
    "builtin_function_or_method",
    "instance",
    "_Feature"
   ],
   "varInspector_section_display": "none",
   "window_display": true
  }
 },
 "nbformat": 4,
 "nbformat_minor": 4
}
