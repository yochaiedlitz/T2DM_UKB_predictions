{
 "cells": [
  {
   "cell_type": "code",
   "execution_count": 3,
   "metadata": {
    "collapsed": true
   },
   "outputs": [],
   "source": [
    "from UKBB_article_plots_functions import calc_lr_Rank_df\n",
    "import pandas as pd\n",
    "import os\n",
    "import numpy as np"
   ]
  },
  {
   "cell_type": "code",
   "execution_count": 22,
   "outputs": [],
   "source": [
    "# def calc_lr_Rank_df(\n",
    "# folder_name, quants_bins, bins, force_calc=False,num_of_files=None,minimal_diagnosed=1):\n",
    "\n",
    "base_path=\"/net/mraid08/export/jafar/Yochai/UKBB_Runs/For_article/Revision_runs/results_folder\"\n",
    "dir_name=\"SA_Antro_neto_whr\"\n",
    "folder_path=os.path.join(base_path,dir_name)\n",
    "save=True\n",
    "force_calc=True\n",
    "num_of_files=1000\n",
    "minimal_diagnosed=1\n",
    "bins=10\n",
    "low_quantile=0.1\n",
    "top_quantile=1\n",
    "recalc=True\n",
    "Rank_df_list = []\n",
    "name = os.path.basename(folder_path)\n",
    "res = 1. / bins"
   ],
   "metadata": {
    "collapsed": false,
    "pycharm": {
     "name": "#%%\n"
    }
   }
  },
  {
   "cell_type": "code",
   "execution_count": 23,
   "outputs": [],
   "source": [
    "quants_bins = [int(x * 100) / 100. for x in np.arange(low_quantile, top_quantile + res / 2, res)]"
   ],
   "metadata": {
    "collapsed": false,
    "pycharm": {
     "name": "#%%\n"
    }
   }
  },
  {
   "cell_type": "code",
   "execution_count": 24,
   "outputs": [
    {
     "data": {
      "text/plain": "[0.1, 0.2, 0.3, 0.4, 0.5, 0.6, 0.7, 0.8, 0.9, 1.0]"
     },
     "execution_count": 24,
     "metadata": {},
     "output_type": "execute_result"
    }
   ],
   "source": [
    "quants_bins"
   ],
   "metadata": {
    "collapsed": false,
    "pycharm": {
     "name": "#%%\n"
    }
   }
  },
  {
   "cell_type": "code",
   "execution_count": 25,
   "outputs": [],
   "source": [
    "tmp_file_name=os.path.join(base_path, dir_name,dir_name+\"quantiles_rank_df.csv\")"
   ],
   "metadata": {
    "collapsed": false,
    "pycharm": {
     "name": "#%%\n"
    }
   }
  },
  {
   "cell_type": "code",
   "execution_count": 26,
   "outputs": [
    {
     "data": {
      "text/plain": "'/net/mraid08/export/jafar/Yochai/UKBB_Runs/For_article/Revision_runs/results_folder/SA_Antro_neto_whr/SA_Antro_neto_whrquantiles_rank_df.csv'"
     },
     "execution_count": 26,
     "metadata": {},
     "output_type": "execute_result"
    }
   ],
   "source": [
    "tmp_file_name"
   ],
   "metadata": {
    "collapsed": false,
    "pycharm": {
     "name": "#%%\n"
    }
   }
  },
  {
   "cell_type": "code",
   "execution_count": 1,
   "outputs": [
    {
     "ename": "NameError",
     "evalue": "name 'calc_lr_Rank_df' is not defined",
     "output_type": "error",
     "traceback": [
      "\u001B[0;31m---------------------------------------------------------------------------\u001B[0m",
      "\u001B[0;31mNameError\u001B[0m                                 Traceback (most recent call last)",
      "\u001B[0;32m<ipython-input-1-91d8e04e57db>\u001B[0m in \u001B[0;36m<module>\u001B[0;34m\u001B[0m\n\u001B[0;32m----> 1\u001B[0;31m calc_lr_Rank_df(folder_name=folder_path,quants_bins=quants_bins,bins=bins,\n\u001B[0m\u001B[1;32m      2\u001B[0m                 force_calc=force_calc,num_of_files=num_of_files,minimal_diagnosed=minimal_diagnosed)\n",
      "\u001B[0;31mNameError\u001B[0m: name 'calc_lr_Rank_df' is not defined"
     ]
    }
   ],
   "source": [
    "calc_lr_Rank_df(folder_name=folder_path,quants_bins=quants_bins,bins=bins,\n",
    "                force_calc=force_calc,num_of_files=num_of_files,minimal_diagnosed=minimal_diagnosed)"
   ],
   "metadata": {
    "collapsed": false,
    "pycharm": {
     "name": "#%%\n"
    }
   }
  }
 ],
 "metadata": {
  "kernelspec": {
   "display_name": "Python 3",
   "language": "python",
   "name": "python3"
  },
  "language_info": {
   "codemirror_mode": {
    "name": "ipython",
    "version": 2
   },
   "file_extension": ".py",
   "mimetype": "text/x-python",
   "name": "python",
   "nbconvert_exporter": "python",
   "pygments_lexer": "ipython2",
   "version": "2.7.6"
  }
 },
 "nbformat": 4,
 "nbformat_minor": 0
}