{
 "cells": [
  {
   "cell_type": "code",
   "execution_count": 93,
   "metadata": {
    "ExecuteTime": {
     "end_time": "2021-05-02T16:33:47.619406Z",
     "start_time": "2021-05-02T16:33:47.502875Z"
    }
   },
   "outputs": [],
   "source": [
    "%reload_ext autoreload\n",
    "%autoreload 2\n",
    "import os\n",
    "import sys\n",
    "import pandas as pd\n",
    "import matplotlib.pyplot as plt\n",
    "\n",
    "from LabData.DataLoaders.SubjectLoader import SubjectLoader\n",
    "from LabData.DataLoaders.BloodTestsLoader import BloodTestsLoader\n",
    "from LabData.DataLoaders.BodyMeasuresLoader import BodyMeasuresLoader\n",
    "from datetime import date, timedelta\n",
    "\n",
    "%matplotlib inline\n"
   ]
  },
  {
   "cell_type": "code",
   "execution_count": 4,
   "metadata": {
    "ExecuteTime": {
     "end_time": "2021-05-02T15:32:04.927886Z",
     "start_time": "2021-05-02T15:32:04.778182Z"
    }
   },
   "outputs": [],
   "source": [
    "sl=SubjectLoader(gen_cache=False).get_data(study_ids=[10])"
   ]
  },
  {
   "cell_type": "code",
   "execution_count": 83,
   "metadata": {
    "ExecuteTime": {
     "end_time": "2021-05-02T16:24:51.790751Z",
     "start_time": "2021-05-02T16:24:47.609762Z"
    }
   },
   "outputs": [
    {
     "data": {
      "text/html": [
       "<div>\n",
       "<style scoped>\n",
       "    .dataframe tbody tr th:only-of-type {\n",
       "        vertical-align: middle;\n",
       "    }\n",
       "\n",
       "    .dataframe tbody tr th {\n",
       "        vertical-align: top;\n",
       "    }\n",
       "\n",
       "    .dataframe thead th {\n",
       "        text-align: right;\n",
       "    }\n",
       "</style>\n",
       "<table border=\"1\" class=\"dataframe\">\n",
       "  <thead>\n",
       "    <tr style=\"text-align: right;\">\n",
       "      <th></th>\n",
       "      <th>HbA1c date</th>\n",
       "      <th>bt__hba1c</th>\n",
       "    </tr>\n",
       "    <tr>\n",
       "      <th>RegistrationCode</th>\n",
       "      <th></th>\n",
       "      <th></th>\n",
       "    </tr>\n",
       "  </thead>\n",
       "  <tbody>\n",
       "    <tr>\n",
       "      <th>10K_1002087123</th>\n",
       "      <td>2019-07-31</td>\n",
       "      <td>5.300</td>\n",
       "    </tr>\n",
       "    <tr>\n",
       "      <th>10K_1003113258</th>\n",
       "      <td>2018-07-17</td>\n",
       "      <td>5.300</td>\n",
       "    </tr>\n",
       "    <tr>\n",
       "      <th>10K_1007599726</th>\n",
       "      <td>2018-10-02</td>\n",
       "      <td>5.200</td>\n",
       "    </tr>\n",
       "    <tr>\n",
       "      <th>10K_1007699078</th>\n",
       "      <td>2019-12-15</td>\n",
       "      <td>5.600</td>\n",
       "    </tr>\n",
       "    <tr>\n",
       "      <th>10K_1009247427</th>\n",
       "      <td>2020-02-04</td>\n",
       "      <td>5.000</td>\n",
       "    </tr>\n",
       "    <tr>\n",
       "      <th>...</th>\n",
       "      <td>...</td>\n",
       "      <td>...</td>\n",
       "    </tr>\n",
       "    <tr>\n",
       "      <th>10K_9995623290</th>\n",
       "      <td>2020-01-21</td>\n",
       "      <td>5.100</td>\n",
       "    </tr>\n",
       "    <tr>\n",
       "      <th>10K_9995746691</th>\n",
       "      <td>2020-04-19</td>\n",
       "      <td>5.400</td>\n",
       "    </tr>\n",
       "    <tr>\n",
       "      <th>10K_9998418497</th>\n",
       "      <td>2019-09-26</td>\n",
       "      <td>5.400</td>\n",
       "    </tr>\n",
       "    <tr>\n",
       "      <th>10K_9999226141</th>\n",
       "      <td>2019-12-16</td>\n",
       "      <td>5.350</td>\n",
       "    </tr>\n",
       "    <tr>\n",
       "      <th>10K_9999409119</th>\n",
       "      <td>2020-02-25</td>\n",
       "      <td>5.135</td>\n",
       "    </tr>\n",
       "  </tbody>\n",
       "</table>\n",
       "<p>4210 rows × 2 columns</p>\n",
       "</div>"
      ],
      "text/plain": [
       "                 HbA1c date  bt__hba1c\n",
       "RegistrationCode                      \n",
       "10K_1002087123   2019-07-31      5.300\n",
       "10K_1003113258   2018-07-17      5.300\n",
       "10K_1007599726   2018-10-02      5.200\n",
       "10K_1007699078   2019-12-15      5.600\n",
       "10K_1009247427   2020-02-04      5.000\n",
       "...                     ...        ...\n",
       "10K_9995623290   2020-01-21      5.100\n",
       "10K_9995746691   2020-04-19      5.400\n",
       "10K_9998418497   2019-09-26      5.400\n",
       "10K_9999226141   2019-12-16      5.350\n",
       "10K_9999409119   2020-02-25      5.135\n",
       "\n",
       "[4210 rows x 2 columns]"
      ]
     },
     "execution_count": 83,
     "metadata": {},
     "output_type": "execute_result"
    }
   ],
   "source": [
    "btl= BloodTestsLoader(gen_cache=False).get_data(study_ids=[10])\n",
    "bt_cols=[\"bt__hba1c\"]\n",
    "rel_bt=btl.df.loc[:,bt_cols]\n",
    "rel_bt=rel_bt.reset_index(\"Date\").dropna()\n",
    "rel_bt[\"Date\"]=pd.to_datetime(rel_bt[\"Date\"])\n",
    "recent_hba1c=rel_bt.groupby(\"RegistrationCode\").last()\n",
    "recent_hba1c.rename(columns={\"Date\":\"HbA1c date\"},inplace=True)\n",
    "recent_hba1c"
   ]
  },
  {
   "cell_type": "code",
   "execution_count": 84,
   "metadata": {
    "ExecuteTime": {
     "end_time": "2021-05-02T16:25:40.119314Z",
     "start_time": "2021-05-02T16:25:39.672832Z"
    }
   },
   "outputs": [
    {
     "data": {
      "text/plain": [
       "pandas._libs.tslibs.timestamps.Timestamp"
      ]
     },
     "execution_count": 84,
     "metadata": {},
     "output_type": "execute_result"
    }
   ],
   "source": [
    "type(recent_hba1c.iloc[0,0])"
   ]
  },
  {
   "cell_type": "code",
   "execution_count": 72,
   "metadata": {
    "ExecuteTime": {
     "end_time": "2021-05-02T16:18:10.202958Z",
     "start_time": "2021-05-02T16:18:07.494579Z"
    },
    "collapsed": true
   },
   "outputs": [
    {
     "data": {
      "text/plain": [
       "Index(['hips', 'bmr', 'dominant_hand',\n",
       "       'standing_one_min_blood_pressure_pulse_rate',\n",
       "       'lying_blood_pressure_diastolic',\n",
       "       'standing_three_min_blood_pressure_systolic',\n",
       "       'lying_blood_pressure_systolic', 'abdominal', 'fingers_grip_left',\n",
       "       'is_getting_period', 'sitting_blood_pressure_systolic',\n",
       "       'standing_three_min_blood_pressure_pulse_rate', 'body_temperature',\n",
       "       'trunk_fat', 'standing_three_min_blood_pressure_diastolic', 'body_fat',\n",
       "       'frequency_of_period', 'height', 'bmi',\n",
       "       'lying_blood_pressure_pulse_rate', 'number_of_days_from_last_period',\n",
       "       'weight', 'fingers_grip_right', 'waist',\n",
       "       'sitting_blood_pressure_pulse_rate', 'number_of_days_in_cycle',\n",
       "       'sitting_blood_pressure_diastolic', 'hand_grip_left', 'dizziness',\n",
       "       'on_hormone_therapy', 'hand_grip_right',\n",
       "       'standing_one_min_blood_pressure_diastolic',\n",
       "       'standing_one_min_blood_pressure_systolic', 'meetingtypeid'],\n",
       "      dtype='object')"
      ]
     },
     "execution_count": 72,
     "metadata": {},
     "output_type": "execute_result"
    }
   ],
   "source": [
    "BML=BodyMeasuresLoader()\n",
    "bml=BML.get_data(study_ids=['10K'])\n",
    "bml.df.columns"
   ]
  },
  {
   "cell_type": "code",
   "execution_count": 78,
   "metadata": {
    "ExecuteTime": {
     "end_time": "2021-05-02T16:23:01.542889Z",
     "start_time": "2021-05-02T16:23:01.468589Z"
    }
   },
   "outputs": [],
   "source": [
    "bmi_df=bml.df.bmi.reset_index(\"Date\")\n",
    "bmi_df.rename(columns={\"Date\":\"visit date\"},inplace=True)"
   ]
  },
  {
   "cell_type": "code",
   "execution_count": 85,
   "metadata": {
    "ExecuteTime": {
     "end_time": "2021-05-02T16:26:01.433213Z",
     "start_time": "2021-05-02T16:26:01.356217Z"
    },
    "scrolled": true
   },
   "outputs": [
    {
     "data": {
      "text/plain": [
       "pandas._libs.tslibs.timestamps.Timestamp"
      ]
     },
     "execution_count": 85,
     "metadata": {},
     "output_type": "execute_result"
    }
   ],
   "source": [
    "type(bmi_df.iloc[0,0])"
   ]
  },
  {
   "cell_type": "code",
   "execution_count": 86,
   "metadata": {
    "ExecuteTime": {
     "end_time": "2021-05-02T16:28:34.441590Z",
     "start_time": "2021-05-02T16:28:34.021519Z"
    }
   },
   "outputs": [],
   "source": [
    "mutual_df=pd.merge(recent_hba1c,bmi_df,how=\"inner\",right_index=True,left_index=True)"
   ]
  },
  {
   "cell_type": "code",
   "execution_count": 87,
   "metadata": {
    "ExecuteTime": {
     "end_time": "2021-05-02T16:28:39.813219Z",
     "start_time": "2021-05-02T16:28:39.730522Z"
    }
   },
   "outputs": [
    {
     "data": {
      "text/html": [
       "<div>\n",
       "<style scoped>\n",
       "    .dataframe tbody tr th:only-of-type {\n",
       "        vertical-align: middle;\n",
       "    }\n",
       "\n",
       "    .dataframe tbody tr th {\n",
       "        vertical-align: top;\n",
       "    }\n",
       "\n",
       "    .dataframe thead th {\n",
       "        text-align: right;\n",
       "    }\n",
       "</style>\n",
       "<table border=\"1\" class=\"dataframe\">\n",
       "  <thead>\n",
       "    <tr style=\"text-align: right;\">\n",
       "      <th></th>\n",
       "      <th>HbA1c date</th>\n",
       "      <th>bt__hba1c</th>\n",
       "      <th>visit date</th>\n",
       "      <th>bmi</th>\n",
       "    </tr>\n",
       "    <tr>\n",
       "      <th>RegistrationCode</th>\n",
       "      <th></th>\n",
       "      <th></th>\n",
       "      <th></th>\n",
       "      <th></th>\n",
       "    </tr>\n",
       "  </thead>\n",
       "  <tbody>\n",
       "    <tr>\n",
       "      <th>10K_1002087123</th>\n",
       "      <td>2019-07-31</td>\n",
       "      <td>5.300</td>\n",
       "      <td>2019-12-04 12:37:03.881590</td>\n",
       "      <td>36.660603</td>\n",
       "    </tr>\n",
       "    <tr>\n",
       "      <th>10K_1003113258</th>\n",
       "      <td>2018-07-17</td>\n",
       "      <td>5.300</td>\n",
       "      <td>2020-02-09 13:03:05.025196</td>\n",
       "      <td>23.860134</td>\n",
       "    </tr>\n",
       "    <tr>\n",
       "      <th>10K_1007599726</th>\n",
       "      <td>2018-10-02</td>\n",
       "      <td>5.200</td>\n",
       "      <td>2019-07-09 08:42:03.872049</td>\n",
       "      <td>23.051754</td>\n",
       "    </tr>\n",
       "    <tr>\n",
       "      <th>10K_1007699078</th>\n",
       "      <td>2019-12-15</td>\n",
       "      <td>5.600</td>\n",
       "      <td>2020-02-11 08:35:22.523511</td>\n",
       "      <td>25.233089</td>\n",
       "    </tr>\n",
       "    <tr>\n",
       "      <th>10K_1009247427</th>\n",
       "      <td>2020-02-04</td>\n",
       "      <td>5.000</td>\n",
       "      <td>2020-02-12 08:36:17.105247</td>\n",
       "      <td>28.640453</td>\n",
       "    </tr>\n",
       "    <tr>\n",
       "      <th>...</th>\n",
       "      <td>...</td>\n",
       "      <td>...</td>\n",
       "      <td>...</td>\n",
       "      <td>...</td>\n",
       "    </tr>\n",
       "    <tr>\n",
       "      <th>10K_9995623290</th>\n",
       "      <td>2020-01-21</td>\n",
       "      <td>5.100</td>\n",
       "      <td>2020-01-30 12:29:14.848001</td>\n",
       "      <td>24.703854</td>\n",
       "    </tr>\n",
       "    <tr>\n",
       "      <th>10K_9995746691</th>\n",
       "      <td>2020-04-19</td>\n",
       "      <td>5.400</td>\n",
       "      <td>2021-04-07 08:31:36.167609</td>\n",
       "      <td>23.955696</td>\n",
       "    </tr>\n",
       "    <tr>\n",
       "      <th>10K_9998418497</th>\n",
       "      <td>2019-09-26</td>\n",
       "      <td>5.400</td>\n",
       "      <td>2019-11-07 13:07:37.610043</td>\n",
       "      <td>23.301062</td>\n",
       "    </tr>\n",
       "    <tr>\n",
       "      <th>10K_9999226141</th>\n",
       "      <td>2019-12-16</td>\n",
       "      <td>5.350</td>\n",
       "      <td>2020-01-21 09:58:33.303290</td>\n",
       "      <td>24.624701</td>\n",
       "    </tr>\n",
       "    <tr>\n",
       "      <th>10K_9999409119</th>\n",
       "      <td>2020-02-25</td>\n",
       "      <td>5.135</td>\n",
       "      <td>2020-06-09 07:03:10.541386</td>\n",
       "      <td>37.638382</td>\n",
       "    </tr>\n",
       "  </tbody>\n",
       "</table>\n",
       "<p>3410 rows × 4 columns</p>\n",
       "</div>"
      ],
      "text/plain": [
       "                 HbA1c date  bt__hba1c                 visit date        bmi\n",
       "RegistrationCode                                                            \n",
       "10K_1002087123   2019-07-31      5.300 2019-12-04 12:37:03.881590  36.660603\n",
       "10K_1003113258   2018-07-17      5.300 2020-02-09 13:03:05.025196  23.860134\n",
       "10K_1007599726   2018-10-02      5.200 2019-07-09 08:42:03.872049  23.051754\n",
       "10K_1007699078   2019-12-15      5.600 2020-02-11 08:35:22.523511  25.233089\n",
       "10K_1009247427   2020-02-04      5.000 2020-02-12 08:36:17.105247  28.640453\n",
       "...                     ...        ...                        ...        ...\n",
       "10K_9995623290   2020-01-21      5.100 2020-01-30 12:29:14.848001  24.703854\n",
       "10K_9995746691   2020-04-19      5.400 2021-04-07 08:31:36.167609  23.955696\n",
       "10K_9998418497   2019-09-26      5.400 2019-11-07 13:07:37.610043  23.301062\n",
       "10K_9999226141   2019-12-16      5.350 2020-01-21 09:58:33.303290  24.624701\n",
       "10K_9999409119   2020-02-25      5.135 2020-06-09 07:03:10.541386  37.638382\n",
       "\n",
       "[3410 rows x 4 columns]"
      ]
     },
     "execution_count": 87,
     "metadata": {},
     "output_type": "execute_result"
    }
   ],
   "source": [
    "mutual_df"
   ]
  },
  {
   "cell_type": "code",
   "execution_count": 96,
   "metadata": {
    "ExecuteTime": {
     "end_time": "2021-05-02T16:34:43.349768Z",
     "start_time": "2021-05-02T16:34:42.828136Z"
    }
   },
   "outputs": [
    {
     "data": {
      "text/html": [
       "<div>\n",
       "<style scoped>\n",
       "    .dataframe tbody tr th:only-of-type {\n",
       "        vertical-align: middle;\n",
       "    }\n",
       "\n",
       "    .dataframe tbody tr th {\n",
       "        vertical-align: top;\n",
       "    }\n",
       "\n",
       "    .dataframe thead th {\n",
       "        text-align: right;\n",
       "    }\n",
       "</style>\n",
       "<table border=\"1\" class=\"dataframe\">\n",
       "  <thead>\n",
       "    <tr style=\"text-align: right;\">\n",
       "      <th></th>\n",
       "      <th>HbA1c date</th>\n",
       "      <th>bt__hba1c</th>\n",
       "      <th>visit date</th>\n",
       "      <th>bmi</th>\n",
       "      <th>dt</th>\n",
       "    </tr>\n",
       "    <tr>\n",
       "      <th>RegistrationCode</th>\n",
       "      <th></th>\n",
       "      <th></th>\n",
       "      <th></th>\n",
       "      <th></th>\n",
       "      <th></th>\n",
       "    </tr>\n",
       "  </thead>\n",
       "  <tbody>\n",
       "    <tr>\n",
       "      <th>10K_1002087123</th>\n",
       "      <td>2019-07-31</td>\n",
       "      <td>5.300</td>\n",
       "      <td>2019-12-04 12:37:03.881590</td>\n",
       "      <td>36.660603</td>\n",
       "      <td>126 days 12:37:03.881590</td>\n",
       "    </tr>\n",
       "    <tr>\n",
       "      <th>10K_1003113258</th>\n",
       "      <td>2018-07-17</td>\n",
       "      <td>5.300</td>\n",
       "      <td>2020-02-09 13:03:05.025196</td>\n",
       "      <td>23.860134</td>\n",
       "      <td>572 days 13:03:05.025196</td>\n",
       "    </tr>\n",
       "    <tr>\n",
       "      <th>10K_1007599726</th>\n",
       "      <td>2018-10-02</td>\n",
       "      <td>5.200</td>\n",
       "      <td>2019-07-09 08:42:03.872049</td>\n",
       "      <td>23.051754</td>\n",
       "      <td>280 days 08:42:03.872049</td>\n",
       "    </tr>\n",
       "    <tr>\n",
       "      <th>10K_1007699078</th>\n",
       "      <td>2019-12-15</td>\n",
       "      <td>5.600</td>\n",
       "      <td>2020-02-11 08:35:22.523511</td>\n",
       "      <td>25.233089</td>\n",
       "      <td>58 days 08:35:22.523511</td>\n",
       "    </tr>\n",
       "    <tr>\n",
       "      <th>10K_1009247427</th>\n",
       "      <td>2020-02-04</td>\n",
       "      <td>5.000</td>\n",
       "      <td>2020-02-12 08:36:17.105247</td>\n",
       "      <td>28.640453</td>\n",
       "      <td>8 days 08:36:17.105247</td>\n",
       "    </tr>\n",
       "    <tr>\n",
       "      <th>...</th>\n",
       "      <td>...</td>\n",
       "      <td>...</td>\n",
       "      <td>...</td>\n",
       "      <td>...</td>\n",
       "      <td>...</td>\n",
       "    </tr>\n",
       "    <tr>\n",
       "      <th>10K_9995623290</th>\n",
       "      <td>2020-01-21</td>\n",
       "      <td>5.100</td>\n",
       "      <td>2020-01-30 12:29:14.848001</td>\n",
       "      <td>24.703854</td>\n",
       "      <td>9 days 12:29:14.848001</td>\n",
       "    </tr>\n",
       "    <tr>\n",
       "      <th>10K_9995746691</th>\n",
       "      <td>2020-04-19</td>\n",
       "      <td>5.400</td>\n",
       "      <td>2021-04-07 08:31:36.167609</td>\n",
       "      <td>23.955696</td>\n",
       "      <td>353 days 08:31:36.167609</td>\n",
       "    </tr>\n",
       "    <tr>\n",
       "      <th>10K_9998418497</th>\n",
       "      <td>2019-09-26</td>\n",
       "      <td>5.400</td>\n",
       "      <td>2019-11-07 13:07:37.610043</td>\n",
       "      <td>23.301062</td>\n",
       "      <td>42 days 13:07:37.610043</td>\n",
       "    </tr>\n",
       "    <tr>\n",
       "      <th>10K_9999226141</th>\n",
       "      <td>2019-12-16</td>\n",
       "      <td>5.350</td>\n",
       "      <td>2020-01-21 09:58:33.303290</td>\n",
       "      <td>24.624701</td>\n",
       "      <td>36 days 09:58:33.303290</td>\n",
       "    </tr>\n",
       "    <tr>\n",
       "      <th>10K_9999409119</th>\n",
       "      <td>2020-02-25</td>\n",
       "      <td>5.135</td>\n",
       "      <td>2020-06-09 07:03:10.541386</td>\n",
       "      <td>37.638382</td>\n",
       "      <td>105 days 07:03:10.541386</td>\n",
       "    </tr>\n",
       "  </tbody>\n",
       "</table>\n",
       "<p>3410 rows × 5 columns</p>\n",
       "</div>"
      ],
      "text/plain": [
       "                 HbA1c date  bt__hba1c                 visit date        bmi  \\\n",
       "RegistrationCode                                                               \n",
       "10K_1002087123   2019-07-31      5.300 2019-12-04 12:37:03.881590  36.660603   \n",
       "10K_1003113258   2018-07-17      5.300 2020-02-09 13:03:05.025196  23.860134   \n",
       "10K_1007599726   2018-10-02      5.200 2019-07-09 08:42:03.872049  23.051754   \n",
       "10K_1007699078   2019-12-15      5.600 2020-02-11 08:35:22.523511  25.233089   \n",
       "10K_1009247427   2020-02-04      5.000 2020-02-12 08:36:17.105247  28.640453   \n",
       "...                     ...        ...                        ...        ...   \n",
       "10K_9995623290   2020-01-21      5.100 2020-01-30 12:29:14.848001  24.703854   \n",
       "10K_9995746691   2020-04-19      5.400 2021-04-07 08:31:36.167609  23.955696   \n",
       "10K_9998418497   2019-09-26      5.400 2019-11-07 13:07:37.610043  23.301062   \n",
       "10K_9999226141   2019-12-16      5.350 2020-01-21 09:58:33.303290  24.624701   \n",
       "10K_9999409119   2020-02-25      5.135 2020-06-09 07:03:10.541386  37.638382   \n",
       "\n",
       "                                       dt  \n",
       "RegistrationCode                           \n",
       "10K_1002087123   126 days 12:37:03.881590  \n",
       "10K_1003113258   572 days 13:03:05.025196  \n",
       "10K_1007599726   280 days 08:42:03.872049  \n",
       "10K_1007699078    58 days 08:35:22.523511  \n",
       "10K_1009247427     8 days 08:36:17.105247  \n",
       "...                                   ...  \n",
       "10K_9995623290     9 days 12:29:14.848001  \n",
       "10K_9995746691   353 days 08:31:36.167609  \n",
       "10K_9998418497    42 days 13:07:37.610043  \n",
       "10K_9999226141    36 days 09:58:33.303290  \n",
       "10K_9999409119   105 days 07:03:10.541386  \n",
       "\n",
       "[3410 rows x 5 columns]"
      ]
     },
     "execution_count": 96,
     "metadata": {},
     "output_type": "execute_result"
    }
   ],
   "source": [
    "mutual_df[\"dt\"]=mutual_df[\"visit date\"]-mutual_df[\"HbA1c date\"]\n",
    "mutual_df"
   ]
  },
  {
   "cell_type": "code",
   "execution_count": 97,
   "metadata": {
    "ExecuteTime": {
     "end_time": "2021-05-02T16:34:48.368538Z",
     "start_time": "2021-05-02T16:34:48.244058Z"
    }
   },
   "outputs": [
    {
     "data": {
      "text/html": [
       "<div>\n",
       "<style scoped>\n",
       "    .dataframe tbody tr th:only-of-type {\n",
       "        vertical-align: middle;\n",
       "    }\n",
       "\n",
       "    .dataframe tbody tr th {\n",
       "        vertical-align: top;\n",
       "    }\n",
       "\n",
       "    .dataframe thead th {\n",
       "        text-align: right;\n",
       "    }\n",
       "</style>\n",
       "<table border=\"1\" class=\"dataframe\">\n",
       "  <thead>\n",
       "    <tr style=\"text-align: right;\">\n",
       "      <th></th>\n",
       "      <th>HbA1c date</th>\n",
       "      <th>bt__hba1c</th>\n",
       "      <th>visit date</th>\n",
       "      <th>bmi</th>\n",
       "      <th>dt</th>\n",
       "    </tr>\n",
       "    <tr>\n",
       "      <th>RegistrationCode</th>\n",
       "      <th></th>\n",
       "      <th></th>\n",
       "      <th></th>\n",
       "      <th></th>\n",
       "      <th></th>\n",
       "    </tr>\n",
       "  </thead>\n",
       "  <tbody>\n",
       "    <tr>\n",
       "      <th>10K_1002087123</th>\n",
       "      <td>2019-07-31</td>\n",
       "      <td>5.300</td>\n",
       "      <td>2019-12-04 12:37:03.881590</td>\n",
       "      <td>36.660603</td>\n",
       "      <td>126 days 12:37:03.881590</td>\n",
       "    </tr>\n",
       "    <tr>\n",
       "      <th>10K_1007699078</th>\n",
       "      <td>2019-12-15</td>\n",
       "      <td>5.600</td>\n",
       "      <td>2020-02-11 08:35:22.523511</td>\n",
       "      <td>25.233089</td>\n",
       "      <td>58 days 08:35:22.523511</td>\n",
       "    </tr>\n",
       "    <tr>\n",
       "      <th>10K_1009247427</th>\n",
       "      <td>2020-02-04</td>\n",
       "      <td>5.000</td>\n",
       "      <td>2020-02-12 08:36:17.105247</td>\n",
       "      <td>28.640453</td>\n",
       "      <td>8 days 08:36:17.105247</td>\n",
       "    </tr>\n",
       "    <tr>\n",
       "      <th>10K_1012020971</th>\n",
       "      <td>2019-06-18</td>\n",
       "      <td>5.000</td>\n",
       "      <td>2019-06-25 08:45:08.699706</td>\n",
       "      <td>27.098766</td>\n",
       "      <td>7 days 08:45:08.699706</td>\n",
       "    </tr>\n",
       "    <tr>\n",
       "      <th>10K_1015653163</th>\n",
       "      <td>2020-01-12</td>\n",
       "      <td>5.000</td>\n",
       "      <td>2020-01-27 08:22:28.380442</td>\n",
       "      <td>21.864115</td>\n",
       "      <td>15 days 08:22:28.380442</td>\n",
       "    </tr>\n",
       "    <tr>\n",
       "      <th>...</th>\n",
       "      <td>...</td>\n",
       "      <td>...</td>\n",
       "      <td>...</td>\n",
       "      <td>...</td>\n",
       "      <td>...</td>\n",
       "    </tr>\n",
       "    <tr>\n",
       "      <th>10K_9994795317</th>\n",
       "      <td>2020-03-09</td>\n",
       "      <td>6.500</td>\n",
       "      <td>2020-05-31 10:27:30.042296</td>\n",
       "      <td>26.277285</td>\n",
       "      <td>83 days 10:27:30.042296</td>\n",
       "    </tr>\n",
       "    <tr>\n",
       "      <th>10K_9995623290</th>\n",
       "      <td>2020-01-21</td>\n",
       "      <td>5.100</td>\n",
       "      <td>2020-01-30 12:29:14.848001</td>\n",
       "      <td>24.703854</td>\n",
       "      <td>9 days 12:29:14.848001</td>\n",
       "    </tr>\n",
       "    <tr>\n",
       "      <th>10K_9998418497</th>\n",
       "      <td>2019-09-26</td>\n",
       "      <td>5.400</td>\n",
       "      <td>2019-11-07 13:07:37.610043</td>\n",
       "      <td>23.301062</td>\n",
       "      <td>42 days 13:07:37.610043</td>\n",
       "    </tr>\n",
       "    <tr>\n",
       "      <th>10K_9999226141</th>\n",
       "      <td>2019-12-16</td>\n",
       "      <td>5.350</td>\n",
       "      <td>2020-01-21 09:58:33.303290</td>\n",
       "      <td>24.624701</td>\n",
       "      <td>36 days 09:58:33.303290</td>\n",
       "    </tr>\n",
       "    <tr>\n",
       "      <th>10K_9999409119</th>\n",
       "      <td>2020-02-25</td>\n",
       "      <td>5.135</td>\n",
       "      <td>2020-06-09 07:03:10.541386</td>\n",
       "      <td>37.638382</td>\n",
       "      <td>105 days 07:03:10.541386</td>\n",
       "    </tr>\n",
       "  </tbody>\n",
       "</table>\n",
       "<p>2691 rows × 5 columns</p>\n",
       "</div>"
      ],
      "text/plain": [
       "                 HbA1c date  bt__hba1c                 visit date        bmi  \\\n",
       "RegistrationCode                                                               \n",
       "10K_1002087123   2019-07-31      5.300 2019-12-04 12:37:03.881590  36.660603   \n",
       "10K_1007699078   2019-12-15      5.600 2020-02-11 08:35:22.523511  25.233089   \n",
       "10K_1009247427   2020-02-04      5.000 2020-02-12 08:36:17.105247  28.640453   \n",
       "10K_1012020971   2019-06-18      5.000 2019-06-25 08:45:08.699706  27.098766   \n",
       "10K_1015653163   2020-01-12      5.000 2020-01-27 08:22:28.380442  21.864115   \n",
       "...                     ...        ...                        ...        ...   \n",
       "10K_9994795317   2020-03-09      6.500 2020-05-31 10:27:30.042296  26.277285   \n",
       "10K_9995623290   2020-01-21      5.100 2020-01-30 12:29:14.848001  24.703854   \n",
       "10K_9998418497   2019-09-26      5.400 2019-11-07 13:07:37.610043  23.301062   \n",
       "10K_9999226141   2019-12-16      5.350 2020-01-21 09:58:33.303290  24.624701   \n",
       "10K_9999409119   2020-02-25      5.135 2020-06-09 07:03:10.541386  37.638382   \n",
       "\n",
       "                                       dt  \n",
       "RegistrationCode                           \n",
       "10K_1002087123   126 days 12:37:03.881590  \n",
       "10K_1007699078    58 days 08:35:22.523511  \n",
       "10K_1009247427     8 days 08:36:17.105247  \n",
       "10K_1012020971     7 days 08:45:08.699706  \n",
       "10K_1015653163    15 days 08:22:28.380442  \n",
       "...                                   ...  \n",
       "10K_9994795317    83 days 10:27:30.042296  \n",
       "10K_9995623290     9 days 12:29:14.848001  \n",
       "10K_9998418497    42 days 13:07:37.610043  \n",
       "10K_9999226141    36 days 09:58:33.303290  \n",
       "10K_9999409119   105 days 07:03:10.541386  \n",
       "\n",
       "[2691 rows x 5 columns]"
      ]
     },
     "execution_count": 97,
     "metadata": {},
     "output_type": "execute_result"
    }
   ],
   "source": [
    "mutual_df[mutual_df[\"dt\"]<timedelta(188)]"
   ]
  },
  {
   "cell_type": "code",
   "execution_count": null,
   "metadata": {},
   "outputs": [],
   "source": []
  }
 ],
 "metadata": {
  "kernelspec": {
   "display_name": "Python 3",
   "language": "python",
   "name": "python3"
  },
  "language_info": {
   "codemirror_mode": {
    "name": "ipython",
    "version": 3
   },
   "file_extension": ".py",
   "mimetype": "text/x-python",
   "name": "python",
   "nbconvert_exporter": "python",
   "pygments_lexer": "ipython3",
   "version": "3.7.4"
  },
  "toc": {
   "nav_menu": {},
   "number_sections": true,
   "sideBar": true,
   "skip_h1_title": false,
   "toc_cell": false,
   "toc_position": {},
   "toc_section_display": "block",
   "toc_window_display": false
  },
  "varInspector": {
   "cols": {
    "lenName": 16,
    "lenType": 16,
    "lenVar": 40
   },
   "kernels_config": {
    "python": {
     "delete_cmd_postfix": "",
     "delete_cmd_prefix": "del ",
     "library": "var_list.py",
     "varRefreshCmd": "print(var_dic_list())"
    },
    "r": {
     "delete_cmd_postfix": ") ",
     "delete_cmd_prefix": "rm(",
     "library": "var_list.r",
     "varRefreshCmd": "cat(var_dic_list()) "
    }
   },
   "types_to_exclude": [
    "module",
    "function",
    "builtin_function_or_method",
    "instance",
    "_Feature"
   ],
   "window_display": true
  }
 },
 "nbformat": 4,
 "nbformat_minor": 4
}
