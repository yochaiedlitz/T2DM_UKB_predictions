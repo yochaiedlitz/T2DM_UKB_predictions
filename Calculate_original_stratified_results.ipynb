{
 "cells": [
  {
   "cell_type": "code",
   "execution_count": 1,
   "metadata": {
    "ExecuteTime": {
     "end_time": "2021-12-26T14:23:28.715717Z",
     "start_time": "2021-12-26T14:23:27.408625Z"
    }
   },
   "outputs": [],
   "source": [
    "import pandas as pd\n",
    "import pickle\n",
    "import os\n",
    "import numpy as np\n",
    "import sys\n",
    "from sklearn.metrics import roc_auc_score, make_scorer,brier_score_loss,log_loss,average_precision_score\n",
    "import shutil\n",
    "import os"
   ]
  },
  {
   "cell_type": "code",
   "execution_count": 2,
   "metadata": {
    "ExecuteTime": {
     "end_time": "2021-12-26T14:23:28.725457Z",
     "start_time": "2021-12-26T14:23:28.720113Z"
    }
   },
   "outputs": [],
   "source": [
    "def convert_hba1c_mmol_mol_2_percentage(row):\n",
    "    try:\n",
    "        row = 0.0915 * row + 2.15\n",
    "    except:\n",
    "        row = None\n",
    "    return row"
   ]
  },
  {
   "cell_type": "markdown",
   "metadata": {},
   "source": [
    "An A1C level below 5.7% is considered normal\n",
    "An A1C level between 5.7% and 6.4% is considered prediabetes\n",
    "An A1C level of 6.5% or higher on two separate tests indicates type 2 diabetes"
   ]
  },
  {
   "cell_type": "code",
   "execution_count": 3,
   "metadata": {
    "ExecuteTime": {
     "end_time": "2021-12-26T14:23:28.739086Z",
     "start_time": "2021-12-26T14:23:28.727901Z"
    }
   },
   "outputs": [],
   "source": [
    "def get_strat_cohort_indeces():\n",
    "    Test_file_path = \"/net/mraid08/export/jafar/UKBioBank/Data/ukb29741_a1c_below_65_updates_scoreboard_test.csv\"\n",
    "    a1c_col=\"30750-0.0\"\n",
    "    a1c_df=pd.read_csv(Test_file_path,usecols=[\"eid\",a1c_col],index_col=\"eid\")\n",
    "\n",
    "    a1c_df[\"hba1c\"]=a1c_df.apply(convert_hba1c_mmol_mol_2_percentage)\n",
    "    a1c_df_pre=a1c_df[a1c_df[\"hba1c\"]>=5.7]\n",
    "    a1c_df_pre_index=a1c_df_pre.index\n",
    "\n",
    "    a1c_df_healthy=a1c_df[a1c_df[\"hba1c\"]<5.7]\n",
    "    a1c_df_healthy=a1c_df_healthy[a1c_df[\"hba1c\"]>=4]\n",
    "    a1c_df_healthy_index=a1c_df_healthy.index\n",
    "    return a1c_df_healthy_index,a1c_df_pre_index"
   ]
  },
  {
   "cell_type": "code",
   "execution_count": 4,
   "metadata": {
    "ExecuteTime": {
     "end_time": "2021-12-26T14:23:28.752828Z",
     "start_time": "2021-12-26T14:23:28.741273Z"
    }
   },
   "outputs": [],
   "source": [
    "def stratify_results(folder_name):\n",
    "    a1c_df_healthy_index,a1c_df_pre_index=get_strat_cohort_indeces()\n",
    "    base_path=\"/home/edlitzy/UKBB_Tree_Runs/For_article/Revision_runs/results_folder/\"\n",
    "    test_path=os.path.join(base_path,folder_name,\"y_LR_test.csv\")\n",
    "    pred_path=os.path.join(base_path,folder_name,\"final_scores.csv\")\n",
    "    test_df=pd.read_csv(test_path,index_col=\"eid\")\n",
    "    pred_df=pd.read_csv(pred_path,index_col=\"eid\")\n",
    "    tot_df=test_df.join(pred_df)\n",
    "    res_pre_df=tot_df.loc[a1c_df_pre_index,:]\n",
    "    res_healthy_df=tot_df.loc[a1c_df_healthy_index,:]\n",
    "    return res_pre_df,res_healthy_df"
   ]
  },
  {
   "cell_type": "code",
   "execution_count": 5,
   "metadata": {
    "ExecuteTime": {
     "end_time": "2021-12-26T14:23:28.773339Z",
     "start_time": "2021-12-26T14:23:28.755431Z"
    }
   },
   "outputs": [],
   "source": [
    "def calc_ci(df,folder_name):\n",
    "    roc_list=[]\n",
    "    aps_list=[]\n",
    "    for ind in range(1000):\n",
    "        tmp_df=df.sample(n=df.shape[0],replace=True,random_state=ind)\n",
    "        roc_list.append(roc_auc_score(y_true=tmp_df.iloc[:,0].values,y_score=tmp_df.iloc[:,1]))\n",
    "        aps_list.append(average_precision_score(y_true=tmp_df.iloc[:,0].values,y_score=tmp_df.iloc[:,1]))\n",
    "    res_df=pd.DataFrame(\n",
    "        index=[folder_name],columns=[\"auROC min\",\"auROC mean\",\"auROC max\",\"APS min\",\"APS mean\",\"APS max\"])\n",
    "    res_df[\"auROC min\"]=\"{:.2f}\".format(np.quantile(roc_list,0.025))\n",
    "    res_df[\"auROC max\"]=\"{:.2f}\".format(np.quantile(roc_list,0.975))\n",
    "    res_df[\"auROC mean\"]=\"{:.2f}\".format(np.mean(roc_list))\n",
    "    res_df[\"APS min\"]=\"{:.2f}\".format(np.quantile(aps_list,0.025))\n",
    "    res_df[\"APS max\"]=\"{:.2f}\".format(np.quantile(aps_list,0.975))\n",
    "    res_df[\"APS mean\"]=\"{:.2f}\".format(np.mean(aps_list))\n",
    "    print(res_df)\n",
    "    return res_df"
   ]
  },
  {
   "cell_type": "code",
   "execution_count": 6,
   "metadata": {
    "ExecuteTime": {
     "end_time": "2021-12-26T14:23:41.419805Z",
     "start_time": "2021-12-26T14:23:28.777371Z"
    },
    "collapsed": true
   },
   "outputs": [
    {
     "name": "stderr",
     "output_type": "stream",
     "text": [
      "/usr/wisdom/python-3.7.4/lib/python3.7/site-packages/ipykernel_launcher.py:11: UserWarning: Boolean Series key will be reindexed to match DataFrame index.\n",
      "  # This is added back by InteractiveShellApp.init_path()\n"
     ]
    },
    {
     "name": "stdout",
     "output_type": "stream",
     "text": [
      "                                        auROC min auROC mean auROC max  \\\n",
      "Pre diab LR_No_reticulocytes_scoreboard      0.68       0.73      0.77   \n",
      "\n",
      "                                        APS min APS mean APS max  \n",
      "Pre diab LR_No_reticulocytes_scoreboard    0.15     0.20    0.26  \n",
      "                                       auROC min auROC mean auROC max APS min  \\\n",
      "Healthy LR_No_reticulocytes_scoreboard      0.76       0.81      0.85    0.02   \n",
      "\n",
      "                                       APS mean APS max  \n",
      "Healthy LR_No_reticulocytes_scoreboard     0.03    0.05  \n"
     ]
    }
   ],
   "source": [
    "res_list=[]\n",
    "folder_name=\"LR_No_reticulocytes_scoreboard\"\n",
    "four_bt_res_pre_df,four_bt_res_healthy_df=stratify_results(folder_name)\n",
    "res_list.append(calc_ci(df=four_bt_res_pre_df,folder_name=\"Pre diab \"+folder_name))\n",
    "res_list.append(calc_ci(df=four_bt_res_healthy_df,folder_name=\"Healthy \" +folder_name))"
   ]
  },
  {
   "cell_type": "code",
   "execution_count": 18,
   "metadata": {
    "ExecuteTime": {
     "end_time": "2021-12-26T14:42:37.709051Z",
     "start_time": "2021-12-26T14:42:37.699982Z"
    }
   },
   "outputs": [
    {
     "data": {
      "text/plain": [
       "(1006, 2)"
      ]
     },
     "execution_count": 18,
     "metadata": {},
     "output_type": "execute_result"
    }
   ],
   "source": [
    "four_bt_res_pre_df.shape\n",
    "four_bt_res_pre_df[\"2443-3.0\"].sum()/four_bt_res_pre_df.shape[0]"
   ]
  },
  {
   "cell_type": "code",
   "execution_count": 22,
   "metadata": {
    "ExecuteTime": {
     "end_time": "2021-12-26T14:44:18.256563Z",
     "start_time": "2021-12-26T14:44:18.249815Z"
    }
   },
   "outputs": [
    {
     "data": {
      "text/plain": [
       "(7948, 2)"
      ]
     },
     "execution_count": 22,
     "metadata": {},
     "output_type": "execute_result"
    }
   ],
   "source": [
    "four_bt_res_healthy_df.shape"
   ]
  },
  {
   "cell_type": "code",
   "execution_count": 23,
   "metadata": {
    "ExecuteTime": {
     "end_time": "2021-12-26T14:44:19.611482Z",
     "start_time": "2021-12-26T14:44:19.605875Z"
    }
   },
   "outputs": [
    {
     "data": {
      "text/plain": [
       "0.008303975842979365"
      ]
     },
     "execution_count": 23,
     "metadata": {},
     "output_type": "execute_result"
    }
   ],
   "source": [
    "four_bt_res_healthy_df[\"2443-3.0\"].sum()/four_bt_res_healthy_df.shape[0]"
   ]
  },
  {
   "cell_type": "code",
   "execution_count": 7,
   "metadata": {
    "ExecuteTime": {
     "end_time": "2021-12-26T14:23:53.220508Z",
     "start_time": "2021-12-26T14:23:41.424936Z"
    }
   },
   "outputs": [
    {
     "name": "stderr",
     "output_type": "stream",
     "text": [
      "/usr/wisdom/python-3.7.4/lib/python3.7/site-packages/ipykernel_launcher.py:11: UserWarning: Boolean Series key will be reindexed to match DataFrame index.\n",
      "  # This is added back by InteractiveShellApp.init_path()\n"
     ]
    },
    {
     "name": "stdout",
     "output_type": "stream",
     "text": [
      "                              auROC min auROC mean auROC max APS min APS mean  \\\n",
      "Pre diab LR_Anthro_scoreboard      0.68       0.73      0.77    0.15     0.20   \n",
      "\n",
      "                              APS max  \n",
      "Pre diab LR_Anthro_scoreboard    0.26  \n",
      "                             auROC min auROC mean auROC max APS min APS mean  \\\n",
      "Healthy LR_Anthro_scoreboard      0.76       0.81      0.86    0.02     0.04   \n",
      "\n",
      "                             APS max  \n",
      "Healthy LR_Anthro_scoreboard    0.07  \n"
     ]
    }
   ],
   "source": [
    "folder_name=\"LR_Anthro_scoreboard\"\n",
    "anhtro_res_pre_df,anthro_res_healthy_df=stratify_results(folder_name)\n",
    "res_list.append(calc_ci(df=anhtro_res_pre_df,folder_name=\"Pre diab \"+folder_name))\n",
    "res_list.append(calc_ci(df=anthro_res_healthy_df,folder_name=\"Healthy \"+folder_name))"
   ]
  },
  {
   "cell_type": "code",
   "execution_count": 8,
   "metadata": {
    "ExecuteTime": {
     "end_time": "2021-12-26T14:23:53.228012Z",
     "start_time": "2021-12-26T14:23:53.222978Z"
    }
   },
   "outputs": [],
   "source": [
    "tot_res=pd.concat(res_list)"
   ]
  },
  {
   "cell_type": "code",
   "execution_count": 9,
   "metadata": {
    "ExecuteTime": {
     "end_time": "2021-12-26T14:23:53.259278Z",
     "start_time": "2021-12-26T14:23:53.230007Z"
    }
   },
   "outputs": [
    {
     "data": {
      "text/html": [
       "<div>\n",
       "<style scoped>\n",
       "    .dataframe tbody tr th:only-of-type {\n",
       "        vertical-align: middle;\n",
       "    }\n",
       "\n",
       "    .dataframe tbody tr th {\n",
       "        vertical-align: top;\n",
       "    }\n",
       "\n",
       "    .dataframe thead th {\n",
       "        text-align: right;\n",
       "    }\n",
       "</style>\n",
       "<table border=\"1\" class=\"dataframe\">\n",
       "  <thead>\n",
       "    <tr style=\"text-align: right;\">\n",
       "      <th></th>\n",
       "      <th>auROC min</th>\n",
       "      <th>auROC mean</th>\n",
       "      <th>auROC max</th>\n",
       "      <th>APS min</th>\n",
       "      <th>APS mean</th>\n",
       "      <th>APS max</th>\n",
       "    </tr>\n",
       "  </thead>\n",
       "  <tbody>\n",
       "    <tr>\n",
       "      <th>Pre diab LR_No_reticulocytes_scoreboard</th>\n",
       "      <td>0.68</td>\n",
       "      <td>0.73</td>\n",
       "      <td>0.77</td>\n",
       "      <td>0.15</td>\n",
       "      <td>0.20</td>\n",
       "      <td>0.26</td>\n",
       "    </tr>\n",
       "    <tr>\n",
       "      <th>Healthy LR_No_reticulocytes_scoreboard</th>\n",
       "      <td>0.76</td>\n",
       "      <td>0.81</td>\n",
       "      <td>0.85</td>\n",
       "      <td>0.02</td>\n",
       "      <td>0.03</td>\n",
       "      <td>0.05</td>\n",
       "    </tr>\n",
       "    <tr>\n",
       "      <th>Pre diab LR_Anthro_scoreboard</th>\n",
       "      <td>0.68</td>\n",
       "      <td>0.73</td>\n",
       "      <td>0.77</td>\n",
       "      <td>0.15</td>\n",
       "      <td>0.20</td>\n",
       "      <td>0.26</td>\n",
       "    </tr>\n",
       "    <tr>\n",
       "      <th>Healthy LR_Anthro_scoreboard</th>\n",
       "      <td>0.76</td>\n",
       "      <td>0.81</td>\n",
       "      <td>0.86</td>\n",
       "      <td>0.02</td>\n",
       "      <td>0.04</td>\n",
       "      <td>0.07</td>\n",
       "    </tr>\n",
       "  </tbody>\n",
       "</table>\n",
       "</div>"
      ],
      "text/plain": [
       "                                        auROC min auROC mean auROC max  \\\n",
       "Pre diab LR_No_reticulocytes_scoreboard      0.68       0.73      0.77   \n",
       "Healthy LR_No_reticulocytes_scoreboard       0.76       0.81      0.85   \n",
       "Pre diab LR_Anthro_scoreboard                0.68       0.73      0.77   \n",
       "Healthy LR_Anthro_scoreboard                 0.76       0.81      0.86   \n",
       "\n",
       "                                        APS min APS mean APS max  \n",
       "Pre diab LR_No_reticulocytes_scoreboard    0.15     0.20    0.26  \n",
       "Healthy LR_No_reticulocytes_scoreboard     0.02     0.03    0.05  \n",
       "Pre diab LR_Anthro_scoreboard              0.15     0.20    0.26  \n",
       "Healthy LR_Anthro_scoreboard               0.02     0.04    0.07  "
      ]
     },
     "execution_count": 9,
     "metadata": {},
     "output_type": "execute_result"
    }
   ],
   "source": [
    "tot_res"
   ]
  },
  {
   "cell_type": "code",
   "execution_count": 13,
   "metadata": {
    "ExecuteTime": {
     "end_time": "2021-12-26T14:30:53.557875Z",
     "start_time": "2021-12-26T14:30:53.549221Z"
    }
   },
   "outputs": [],
   "source": [
    "def build_summary_table(df):\n",
    "    sum_df=pd.DataFrame(index=df.index,columns=[\"auROC [95% CI]\",\"APS [95% CI]\"])\n",
    "    sum_df[\"auROC [95% CI]\"]=df[\"auROC mean\"]+\" [\"+df[\"auROC min\"]+\"-\"+df[\"auROC max\"]+\"]\"\n",
    "    sum_df[\"APS [95% CI]\"]=df[\"APS mean\"]+\" [\"+df[\"APS min\"]+\"-\"+df[\"APS max\"]+\"]\"\n",
    "    return sum_df"
   ]
  },
  {
   "cell_type": "code",
   "execution_count": 14,
   "metadata": {
    "ExecuteTime": {
     "end_time": "2021-12-26T14:30:54.010920Z",
     "start_time": "2021-12-26T14:30:54.001794Z"
    }
   },
   "outputs": [],
   "source": [
    "final_df=build_summary_table(tot_res)"
   ]
  },
  {
   "cell_type": "code",
   "execution_count": 15,
   "metadata": {
    "ExecuteTime": {
     "end_time": "2021-12-26T14:30:54.465347Z",
     "start_time": "2021-12-26T14:30:54.457142Z"
    }
   },
   "outputs": [
    {
     "data": {
      "text/html": [
       "<div>\n",
       "<style scoped>\n",
       "    .dataframe tbody tr th:only-of-type {\n",
       "        vertical-align: middle;\n",
       "    }\n",
       "\n",
       "    .dataframe tbody tr th {\n",
       "        vertical-align: top;\n",
       "    }\n",
       "\n",
       "    .dataframe thead th {\n",
       "        text-align: right;\n",
       "    }\n",
       "</style>\n",
       "<table border=\"1\" class=\"dataframe\">\n",
       "  <thead>\n",
       "    <tr style=\"text-align: right;\">\n",
       "      <th></th>\n",
       "      <th>auROC [95% CI]</th>\n",
       "      <th>APS [95% CI]</th>\n",
       "    </tr>\n",
       "  </thead>\n",
       "  <tbody>\n",
       "    <tr>\n",
       "      <th>Pre diab LR_No_reticulocytes_scoreboard</th>\n",
       "      <td>0.73 [0.68-0.77]</td>\n",
       "      <td>0.20 [0.15-0.26]</td>\n",
       "    </tr>\n",
       "    <tr>\n",
       "      <th>Healthy LR_No_reticulocytes_scoreboard</th>\n",
       "      <td>0.81 [0.76-0.85]</td>\n",
       "      <td>0.03 [0.02-0.05]</td>\n",
       "    </tr>\n",
       "    <tr>\n",
       "      <th>Pre diab LR_Anthro_scoreboard</th>\n",
       "      <td>0.73 [0.68-0.77]</td>\n",
       "      <td>0.20 [0.15-0.26]</td>\n",
       "    </tr>\n",
       "    <tr>\n",
       "      <th>Healthy LR_Anthro_scoreboard</th>\n",
       "      <td>0.81 [0.76-0.86]</td>\n",
       "      <td>0.04 [0.02-0.07]</td>\n",
       "    </tr>\n",
       "  </tbody>\n",
       "</table>\n",
       "</div>"
      ],
      "text/plain": [
       "                                           auROC [95% CI]      APS [95% CI]\n",
       "Pre diab LR_No_reticulocytes_scoreboard  0.73 [0.68-0.77]  0.20 [0.15-0.26]\n",
       "Healthy LR_No_reticulocytes_scoreboard   0.81 [0.76-0.85]  0.03 [0.02-0.05]\n",
       "Pre diab LR_Anthro_scoreboard            0.73 [0.68-0.77]  0.20 [0.15-0.26]\n",
       "Healthy LR_Anthro_scoreboard             0.81 [0.76-0.86]  0.04 [0.02-0.07]"
      ]
     },
     "execution_count": 15,
     "metadata": {},
     "output_type": "execute_result"
    }
   ],
   "source": [
    "final_df"
   ]
  },
  {
   "cell_type": "code",
   "execution_count": 16,
   "metadata": {
    "ExecuteTime": {
     "end_time": "2021-12-26T14:32:16.023897Z",
     "start_time": "2021-12-26T14:32:15.943368Z"
    }
   },
   "outputs": [],
   "source": [
    "final_df.to_csv(\"/home/edlitzy/UKBB_Tree_Runs/For_article/Revision_runs/Tables/stratified_original_results.csv\")"
   ]
  },
  {
   "cell_type": "code",
   "execution_count": null,
   "metadata": {},
   "outputs": [],
   "source": []
  },
  {
   "cell_type": "code",
   "execution_count": null,
   "metadata": {},
   "outputs": [],
   "source": []
  }
 ],
 "metadata": {
  "kernelspec": {
   "display_name": "PyCharm (UKBB)",
   "language": "python",
   "name": "pycharm-b2bc5ad3"
  },
  "language_info": {
   "codemirror_mode": {
    "name": "ipython",
    "version": 3
   },
   "file_extension": ".py",
   "mimetype": "text/x-python",
   "name": "python",
   "nbconvert_exporter": "python",
   "pygments_lexer": "ipython3",
   "version": "3.7.4"
  },
  "toc": {
   "base_numbering": 1,
   "nav_menu": {},
   "number_sections": true,
   "sideBar": true,
   "skip_h1_title": false,
   "title_cell": "Table of Contents",
   "title_sidebar": "Contents",
   "toc_cell": false,
   "toc_position": {},
   "toc_section_display": true,
   "toc_window_display": false
  },
  "varInspector": {
   "cols": {
    "lenName": 16,
    "lenType": 16,
    "lenVar": 40
   },
   "kernels_config": {
    "python": {
     "delete_cmd_postfix": "",
     "delete_cmd_prefix": "del ",
     "library": "var_list.py",
     "varRefreshCmd": "print(var_dic_list())"
    },
    "r": {
     "delete_cmd_postfix": ") ",
     "delete_cmd_prefix": "rm(",
     "library": "var_list.r",
     "varRefreshCmd": "cat(var_dic_list()) "
    }
   },
   "oldHeight": 122.84966600000001,
   "position": {
    "height": "40px",
    "left": "1202px",
    "right": "20px",
    "top": "120px",
    "width": "250px"
   },
   "types_to_exclude": [
    "module",
    "function",
    "builtin_function_or_method",
    "instance",
    "_Feature"
   ],
   "varInspector_section_display": "none",
   "window_display": true
  }
 },
 "nbformat": 4,
 "nbformat_minor": 4
}
